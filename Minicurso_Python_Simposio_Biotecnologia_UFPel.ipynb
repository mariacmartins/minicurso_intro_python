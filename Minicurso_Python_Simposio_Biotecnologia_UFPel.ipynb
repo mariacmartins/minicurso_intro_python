{
  "nbformat": 4,
  "nbformat_minor": 0,
  "metadata": {
    "colab": {
      "provenance": [],
      "include_colab_link": true
    },
    "kernelspec": {
      "name": "python3",
      "display_name": "Python 3"
    },
    "language_info": {
      "name": "python"
    }
  },
  "cells": [
    {
      "cell_type": "markdown",
      "metadata": {
        "id": "view-in-github",
        "colab_type": "text"
      },
      "source": [
        "<a href=\"https://colab.research.google.com/github/mariacmartins/minicurso_intro_python/blob/main/Minicurso_Python_Simposio_Biotecnologia_UFPel.ipynb\" target=\"_parent\"><img src=\"https://colab.research.google.com/assets/colab-badge.svg\" alt=\"Open In Colab\"/></a>"
      ]
    },
    {
      "cell_type": "markdown",
      "source": [
        "# Minicurso - Introdução à Linguagem Python utilizando Google Colab\n",
        "## X Simpósio de Biotecnologia UFPel 2022\n",
        "\n",
        "## Por que aprender a programar?\n",
        "*Tudo o que fazemos responde a um algoritmo. É hora de que todos entendam como e por quê.*\n",
        "\n",
        "- Desenvolve a habilidade de resolver problemas\n",
        "- Trabalha a criatividade, persistência e a capacidade de superação\n",
        "- Ganho autonomia e agilidade no trabalho\n",
        "\n",
        "## Por que Python?\n",
        "- Simples e fácil de aprender\n",
        "- Grande comunidade\n",
        "- Versatilidade e diversas aplicações: Desenvolvimento web, Ciência de Dados, Inteligência Artificial, desenvolvimento de jogos, etc.\n",
        "- Bem aceita no mercado de trabalho\n",
        "\n",
        "## Por que iremos utilizar o Google Colab?\n",
        "O Google Colab é um ambiente de armazenamento em nuvem de notebooks, executado diretamente no navegador, sem a necessidade de nenhum tipo de instalação de software em máquina. Os notebooks permitem combinar códigos executáveis (por exemplo, códigos em Python) com textos e imagens utilizando Markdown.\n"
      ],
      "metadata": {
        "id": "1T2sdTWbL4JL"
      }
    },
    {
      "cell_type": "markdown",
      "source": [
        "# **Google Colab**\n",
        "\n",
        "![transferir.png](https://miro.medium.com/max/640/1*9Q1rcr_peQdnGMwOYDBFhw.png)\n",
        "\n",
        "* Suporte para Python 2.7 e Python 3.6;\n",
        "* Aceleração de GPU grátis;\n",
        "* Bibliotecas pré-instaladas: Todas as principais bibliotecas Python, como o TensorFlow, o Scikit-learn, o Matplotlib, entre muitas outras, estão pré-instaladas e prontas para serem importadas;\n",
        "* Construído com base no Jupyter Notebook;\n",
        "* Recurso de colaboração (funciona com uma equipe igual ao Google Docs): o Google Colab permite que os desenvolvedores usem e compartilhem o Jupyter notebook entre si sem precisar baixar, instalar ou executar qualquer coisa que não seja um navegador;\n",
        "* Suporta comandos bash;\n",
        "* Os notebooks do Google Colab são armazenados no drive.\n",
        "\n",
        "\n",
        "\n",
        "\n",
        "\n"
      ],
      "metadata": {
        "id": "0sShTM5laKy2"
      }
    },
    {
      "cell_type": "markdown",
      "source": [
        "#Guia para iniciantes \n",
        "##**Markdown**\n",
        "\n",
        "\n",
        "*   Formatação de texto básica;\n",
        "*   Inserção de figuras;\n",
        "*   Hyperlinks.\n",
        "____________________________\n"
      ],
      "metadata": {
        "id": "l0zmn5KCWMk2"
      }
    },
    {
      "cell_type": "markdown",
      "source": [
        "#**Markdown**\n",
        "\n",
        "![images.png](data:image/png;base64,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)\n",
        "\n",
        "* Formatação de texto básica;\n",
        "* Inserção de figuras;\n",
        "* Hyperlinks."
      ],
      "metadata": {
        "id": "3PGsjp2YBBsJ"
      }
    },
    {
      "cell_type": "markdown",
      "source": [
        "# **Formatação de texto**\n",
        "\n",
        "### #  - Título 1 \n",
        "\n",
        "# Título 1\n",
        "\n",
        "\n",
        "____________________________\n",
        "### ##  - Título 2\n",
        "\n",
        "## Título 2\n",
        "____________________________\n",
        "### ###  - Título 3 \n",
        "\n",
        "### Título 3\n",
        "\n",
        "____________________________\n",
        "\n",
        "### ** Texto em Negrito ** \n",
        "\n",
        "**Texto em Negrito**\n",
        "\n",
        "____________________________\n",
        "### * Texto em Itálico *\n",
        "*Texto em Itálico*\n",
        "____________________________\n",
        "\n",
        "\n",
        "# **Formatação para código**\n",
        "\n",
        "###```\n",
        "###  Isto está formatado como código\n",
        "###```\n",
        "\n",
        "\n",
        "\n",
        "```\n",
        " Isto está formatado como código\n",
        "```\n",
        "\n",
        "____________________________\n",
        "\n",
        "#**Hyperlink**\n",
        "```markdown\n",
        " [Google](https://www.google.com)\n",
        "```\n",
        "[Google](https://www.google.com)\n",
        "\n",
        "____________________________\n",
        "\n",
        "#**Inserindo figura**\n",
        "\n",
        "```markdown\n",
        " ![transferir.png](https://res.cloudinary.com/apideck/image/upload/v1615737977/icons/google-colab.png)\n",
        "```\n",
        " ![transferir.png](https://res.cloudinary.com/apideck/image/upload/v1615737977/icons/google-colab.png)\n",
        "\n"
      ],
      "metadata": {
        "id": "_Tmhs0YuByfZ"
      }
    },
    {
      "cell_type": "markdown",
      "source": [
        "# **Python**\n",
        "\n",
        " ![transferir.png](data:image/png;base64,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)\n",
        "\n",
        "## Tipos de dados\n",
        "\n",
        "### Numéricos:\n",
        "- Inteiros **(int)** -> números sem casa decimal: 9, 7, -4\n",
        "- Reais **(float)** -> números com casa decimal: 3.14, 600.4, 0.0\n",
        "\n",
        "### Não numéricos:\n",
        "- Texto/String **(str)**: \"Python\", \"96785-202\"\n",
        "- Lógicos **(bool)**: True ou False\n",
        "\n",
        "## Tipos de dados\n",
        "\n",
        "### Numéricos:\n",
        "- Inteiros **(int)** -> números sem casa decimal: 9, 7, -4\n",
        "- Reais **(float)** -> números com casa decimal: 3.14, 600.4, 0.0\n",
        "\n",
        "### Não numéricos:\n",
        "- Texto/String **(str)**: \"Python\", \"Maria Clara\", \"96785-202\"\n",
        "- Lógicos **(bool)**: True ou False\n"
      ],
      "metadata": {
        "id": "8ItPWWl1KK4z"
      }
    },
    {
      "cell_type": "code",
      "source": [
        "# Variável mensagem recebe o texto Hello, world!\n",
        "mensagem = 'Hello, world!'\n",
        "print(mensagem)"
      ],
      "metadata": {
        "id": "va4Wxt_kKq8C",
        "colab": {
          "base_uri": "https://localhost:8080/"
        },
        "outputId": "8b9cc2c5-4b42-470b-f2d7-2530425409ab"
      },
      "execution_count": 1,
      "outputs": [
        {
          "output_type": "stream",
          "name": "stdout",
          "text": [
            "Hello, world!\n"
          ]
        }
      ]
    },
    {
      "cell_type": "code",
      "source": [
        "type(mensagem)"
      ],
      "metadata": {
        "colab": {
          "base_uri": "https://localhost:8080/"
        },
        "id": "Ok1tQOvZAVyN",
        "outputId": "1d330a90-87bf-4442-f413-c81e2ac50971"
      },
      "execution_count": 2,
      "outputs": [
        {
          "output_type": "execute_result",
          "data": {
            "text/plain": [
              "str"
            ]
          },
          "metadata": {},
          "execution_count": 2
        }
      ]
    },
    {
      "cell_type": "code",
      "source": [
        "print(mensagem, 'Estou aprendendo a programar.')"
      ],
      "metadata": {
        "colab": {
          "base_uri": "https://localhost:8080/"
        },
        "id": "ItdFD9KFBVuL",
        "outputId": "67004b45-3822-4de4-af44-01d2df5ca83b"
      },
      "execution_count": 3,
      "outputs": [
        {
          "output_type": "stream",
          "name": "stdout",
          "text": [
            "Hello, world! Estou aprendendo a programar.\n"
          ]
        }
      ]
    },
    {
      "cell_type": "code",
      "source": [
        "print(mensagem + ' ' + 'Estou aprendendo a programar.')"
      ],
      "metadata": {
        "colab": {
          "base_uri": "https://localhost:8080/"
        },
        "id": "SR6xUFYSBYER",
        "outputId": "3b3c9549-5f79-42fb-8583-98622d8fa9c8"
      },
      "execution_count": 4,
      "outputs": [
        {
          "output_type": "stream",
          "name": "stdout",
          "text": [
            "Hello, world! Estou aprendendo a programar.\n"
          ]
        }
      ]
    },
    {
      "cell_type": "code",
      "source": [
        "# f-string\n",
        "print(f'{mensagem} Estou aprendendo a programar.')"
      ],
      "metadata": {
        "colab": {
          "base_uri": "https://localhost:8080/"
        },
        "id": "oaNhTuYrBZgF",
        "outputId": "5059d249-01e4-46a5-f628-b0b9aaa71309"
      },
      "execution_count": 5,
      "outputs": [
        {
          "output_type": "stream",
          "name": "stdout",
          "text": [
            "Hello, world! Estou aprendendo a programar.\n"
          ]
        }
      ]
    },
    {
      "cell_type": "code",
      "source": [
        "#sintaxe inválida\n",
        "minha idade = 18\n",
        "print(minha idade)"
      ],
      "metadata": {
        "colab": {
          "base_uri": "https://localhost:8080/",
          "height": 130
        },
        "id": "2te0TX4EBay_",
        "outputId": "6ae0aa93-6dd8-4082-d07c-cbb9c103aa5f"
      },
      "execution_count": 8,
      "outputs": [
        {
          "output_type": "error",
          "ename": "SyntaxError",
          "evalue": "ignored",
          "traceback": [
            "\u001b[0;36m  File \u001b[0;32m\"<ipython-input-8-4ec5c804f5e3>\"\u001b[0;36m, line \u001b[0;32m2\u001b[0m\n\u001b[0;31m    minha idade = 18\u001b[0m\n\u001b[0m              ^\u001b[0m\n\u001b[0;31mSyntaxError\u001b[0m\u001b[0;31m:\u001b[0m invalid syntax\n"
          ]
        }
      ]
    },
    {
      "cell_type": "code",
      "source": [
        "#sintaxe correta com variável com mais de um nome\n",
        "minha_idade = 29\n",
        "print(minha_idade)"
      ],
      "metadata": {
        "colab": {
          "base_uri": "https://localhost:8080/"
        },
        "id": "7JwEbty5Bt1c",
        "outputId": "b545ca67-3299-4cae-89f2-d8d9ef6561a5"
      },
      "execution_count": 9,
      "outputs": [
        {
          "output_type": "stream",
          "name": "stdout",
          "text": [
            "29\n"
          ]
        }
      ]
    },
    {
      "cell_type": "code",
      "source": [
        "type(minha_idade)"
      ],
      "metadata": {
        "colab": {
          "base_uri": "https://localhost:8080/"
        },
        "id": "FHTahVSSCL_n",
        "outputId": "05bfd231-ab24-4d2a-d2f6-f74ead018656"
      },
      "execution_count": 10,
      "outputs": [
        {
          "output_type": "execute_result",
          "data": {
            "text/plain": [
              "int"
            ]
          },
          "metadata": {},
          "execution_count": 10
        }
      ]
    },
    {
      "cell_type": "code",
      "source": [
        "molecula = \"RNA\"\n",
        "MOLECULA = \"DNA\"\n",
        "print(molecula)\n",
        "print(MOLECULA)"
      ],
      "metadata": {
        "colab": {
          "base_uri": "https://localhost:8080/"
        },
        "id": "zQz1IRfYCinD",
        "outputId": "caf62e21-e472-4887-8a25-b487876a556a"
      },
      "execution_count": 11,
      "outputs": [
        {
          "output_type": "stream",
          "name": "stdout",
          "text": [
            "RNA\n",
            "DNA\n"
          ]
        }
      ]
    },
    {
      "cell_type": "markdown",
      "source": [
        "Armazene as infos abaixo em variáveis com suas informações e descubra o tipo de dado de cada uma delas: \n",
        "- Sobrenome\n",
        "- Altura (em cm)\n",
        "- Tem irmão ou não?\n",
        "- Se sim, quantos irmãos?"
      ],
      "metadata": {
        "id": "Lhj18vQ9DhCc"
      }
    },
    {
      "cell_type": "code",
      "source": [
        "sobrenome = 'Sanchez'\n",
        "altura = 1.84\n",
        "tem_irmao = True\n",
        "qtde_irmaos = 2"
      ],
      "metadata": {
        "id": "1v4-CvOfDhrJ"
      },
      "execution_count": 12,
      "outputs": []
    },
    {
      "cell_type": "code",
      "source": [
        "type(sobrenome)"
      ],
      "metadata": {
        "colab": {
          "base_uri": "https://localhost:8080/"
        },
        "id": "lQT1C1Y1ESQj",
        "outputId": "3c5f81e5-6f0c-487e-8221-ff702dd87457"
      },
      "execution_count": 13,
      "outputs": [
        {
          "output_type": "execute_result",
          "data": {
            "text/plain": [
              "str"
            ]
          },
          "metadata": {},
          "execution_count": 13
        }
      ]
    },
    {
      "cell_type": "code",
      "source": [
        "type(altura)"
      ],
      "metadata": {
        "colab": {
          "base_uri": "https://localhost:8080/"
        },
        "id": "IE0NH24vETt5",
        "outputId": "92084d85-9ad2-4621-9d95-fdcaff01b4bb"
      },
      "execution_count": 14,
      "outputs": [
        {
          "output_type": "execute_result",
          "data": {
            "text/plain": [
              "float"
            ]
          },
          "metadata": {},
          "execution_count": 14
        }
      ]
    },
    {
      "cell_type": "code",
      "source": [
        "type(tem_irmao)"
      ],
      "metadata": {
        "colab": {
          "base_uri": "https://localhost:8080/"
        },
        "id": "pYr5TuEsEVWW",
        "outputId": "5252d571-4dcd-4df4-8445-11a7d4737aa0"
      },
      "execution_count": 15,
      "outputs": [
        {
          "output_type": "execute_result",
          "data": {
            "text/plain": [
              "bool"
            ]
          },
          "metadata": {},
          "execution_count": 15
        }
      ]
    },
    {
      "cell_type": "code",
      "source": [
        "type(qtde_irmaos)"
      ],
      "metadata": {
        "colab": {
          "base_uri": "https://localhost:8080/"
        },
        "id": "RQJNcX6YEsX_",
        "outputId": "b7a4aa2c-355c-42af-d7cf-e23c5943c7d7"
      },
      "execution_count": 16,
      "outputs": [
        {
          "output_type": "execute_result",
          "data": {
            "text/plain": [
              "int"
            ]
          },
          "metadata": {},
          "execution_count": 16
        }
      ]
    },
    {
      "cell_type": "markdown",
      "source": [
        "#### Você também pode alterar elementos de uma string/texto usando o replace:"
      ],
      "metadata": {
        "id": "MSPhjczWUbUd"
      }
    },
    {
      "cell_type": "code",
      "source": [
        "molecula = \"AATTCGTTCAGGA\"\n",
        "rna = molecula.replace(\"T\", \"U\")\n",
        "rna"
      ],
      "metadata": {
        "colab": {
          "base_uri": "https://localhost:8080/",
          "height": 35
        },
        "id": "wP7HFCxmUmAF",
        "outputId": "58dda84a-753f-4154-a92e-ffce32196ac0"
      },
      "execution_count": 43,
      "outputs": [
        {
          "output_type": "execute_result",
          "data": {
            "text/plain": [
              "'AAUUCGUUCAGGA'"
            ],
            "application/vnd.google.colaboratory.intrinsic+json": {
              "type": "string"
            }
          },
          "metadata": {},
          "execution_count": 43
        }
      ]
    },
    {
      "cell_type": "markdown",
      "source": [
        "# Operadores aritméticos\n",
        "\n",
        "\n",
        "| Operador | Significado   | Exemplo                    |\n",
        "|:---|:---|:---|\n",
        "|     +    | Adição        | a = 3 + 2                  |\n",
        "|     -    | Subtração     | b = 7 - a                  |\n",
        "|     *    | Multiplicação | c = a * b                  |\n",
        "|     /    | Divisão       | d = 10/3                   |\n",
        "|    //    | Quociente     | e = 10//3                  |\n",
        "|     %    | Resto         | f = 10%3                   |\n",
        "|    **    | Exponenciação | g = 2 ** 3                 |\n",
        "|    **    | Radiciação    | h = 16 ** (1/2)            |\n",
        "\n",
        "## Precedência de Operadores\n",
        "\n",
        "1. Parênteses\n",
        "2. Potenciação\n",
        "3. Multiplicação e divisão\n",
        "4. Soma e substração"
      ],
      "metadata": {
        "id": "I4LcJtEvEz42"
      }
    },
    {
      "cell_type": "code",
      "source": [
        "# Soma\n",
        "3 + 2"
      ],
      "metadata": {
        "colab": {
          "base_uri": "https://localhost:8080/"
        },
        "id": "J3leLfpME1R6",
        "outputId": "efa2cc94-3f2a-4b0d-e8ac-b573ad6fe257"
      },
      "execution_count": 17,
      "outputs": [
        {
          "output_type": "execute_result",
          "data": {
            "text/plain": [
              "5"
            ]
          },
          "metadata": {},
          "execution_count": 17
        }
      ]
    },
    {
      "cell_type": "code",
      "source": [
        "# Subtração\n",
        "3 - 2"
      ],
      "metadata": {
        "colab": {
          "base_uri": "https://localhost:8080/"
        },
        "id": "MtjvHVbMFLQH",
        "outputId": "72b63ce8-ae5e-41a3-b64c-849955045268"
      },
      "execution_count": 18,
      "outputs": [
        {
          "output_type": "execute_result",
          "data": {
            "text/plain": [
              "1"
            ]
          },
          "metadata": {},
          "execution_count": 18
        }
      ]
    },
    {
      "cell_type": "code",
      "source": [
        "# Multiplicação\n",
        "3.4 * 3"
      ],
      "metadata": {
        "colab": {
          "base_uri": "https://localhost:8080/"
        },
        "id": "qZvKtOgoFRA2",
        "outputId": "9fb9d6f5-39d1-4909-d973-47a52dc8fc26"
      },
      "execution_count": 19,
      "outputs": [
        {
          "output_type": "execute_result",
          "data": {
            "text/plain": [
              "10.2"
            ]
          },
          "metadata": {},
          "execution_count": 19
        }
      ]
    },
    {
      "cell_type": "code",
      "source": [
        "# Divisão\n",
        "25 / 5"
      ],
      "metadata": {
        "colab": {
          "base_uri": "https://localhost:8080/"
        },
        "id": "VSZksQBjFUiD",
        "outputId": "75511161-062b-4bd4-8e77-7ecc7fa4e12f"
      },
      "execution_count": 20,
      "outputs": [
        {
          "output_type": "execute_result",
          "data": {
            "text/plain": [
              "5.0"
            ]
          },
          "metadata": {},
          "execution_count": 20
        }
      ]
    },
    {
      "cell_type": "code",
      "source": [
        "# Exponenciação\n",
        "3 ** 2"
      ],
      "metadata": {
        "colab": {
          "base_uri": "https://localhost:8080/"
        },
        "id": "QhDg2bO6FYzJ",
        "outputId": "aa4029d0-4773-48c1-b799-55d4a2fedc9a"
      },
      "execution_count": 21,
      "outputs": [
        {
          "output_type": "execute_result",
          "data": {
            "text/plain": [
              "9"
            ]
          },
          "metadata": {},
          "execution_count": 21
        }
      ]
    },
    {
      "cell_type": "code",
      "source": [
        "# Radiciação\n",
        "16 ** (1/2)"
      ],
      "metadata": {
        "colab": {
          "base_uri": "https://localhost:8080/"
        },
        "id": "kNFnEWdbFcH9",
        "outputId": "ff36bdd9-ce4f-48a0-ed2b-1b64e4b1119f"
      },
      "execution_count": 22,
      "outputs": [
        {
          "output_type": "execute_result",
          "data": {
            "text/plain": [
              "4.0"
            ]
          },
          "metadata": {},
          "execution_count": 22
        }
      ]
    },
    {
      "cell_type": "markdown",
      "source": [
        "Você também pode criar um mini programa que receba os dados do usuário e faça as contas de forma automática."
      ],
      "metadata": {
        "id": "85movexhGDXT"
      }
    },
    {
      "cell_type": "code",
      "source": [
        "n1 = int(input('Digite o primeiro número: '))\n",
        "n2 = int(input('Digite o segundo número: '))\n",
        "subtracao = n1 - n2\n",
        "print(f'O número resultante da subtração é: {subtracao}')"
      ],
      "metadata": {
        "colab": {
          "base_uri": "https://localhost:8080/"
        },
        "id": "o1nualWqGBSY",
        "outputId": "b2a96d87-d97b-44e7-9e8e-91836e140e96"
      },
      "execution_count": 23,
      "outputs": [
        {
          "output_type": "stream",
          "name": "stdout",
          "text": [
            "Digite o primeiro número: 5\n",
            "Digite o segundo número: 3\n",
            "O número resultante da subtração é: 2\n"
          ]
        }
      ]
    },
    {
      "cell_type": "markdown",
      "source": [
        "## Parênteses acabam impactando no resultado das operações:"
      ],
      "metadata": {
        "id": "lD68j0S1Gh9m"
      }
    },
    {
      "cell_type": "code",
      "source": [
        "2 + 3 * 4 / 5 - 6"
      ],
      "metadata": {
        "colab": {
          "base_uri": "https://localhost:8080/"
        },
        "id": "paiIWqrGGils",
        "outputId": "4d8cee10-7165-4921-d258-099040bfa398"
      },
      "execution_count": 24,
      "outputs": [
        {
          "output_type": "execute_result",
          "data": {
            "text/plain": [
              "-1.5999999999999996"
            ]
          },
          "metadata": {},
          "execution_count": 24
        }
      ]
    },
    {
      "cell_type": "code",
      "source": [
        "(2 + 3) * 4 / (5 - 6)"
      ],
      "metadata": {
        "colab": {
          "base_uri": "https://localhost:8080/"
        },
        "id": "CBbbV0OFGmti",
        "outputId": "7551a04d-3835-4cb2-bfd4-293b89810060"
      },
      "execution_count": 25,
      "outputs": [
        {
          "output_type": "execute_result",
          "data": {
            "text/plain": [
              "-20.0"
            ]
          },
          "metadata": {},
          "execution_count": 25
        }
      ]
    },
    {
      "cell_type": "markdown",
      "source": [
        "# Operadores relacionais (operadores de comparação)\n",
        "\n",
        "| Operador | Significado   | Exemplo                    |\n",
        "|:---|:---|:---|\n",
        "| == | Igualdade | a == b |\n",
        "| != | DesiIgualdade | a != b |\n",
        "| > | Maior que | a > b |\n",
        "| < | Menor que | a < b |\n",
        "| >= | Maior ou igual | a >= b |\n",
        "| <= | Menor ou igual | a <= b |"
      ],
      "metadata": {
        "id": "ANBE6WqiGvAx"
      }
    },
    {
      "cell_type": "code",
      "source": [
        "# = no Python é atribuição de valores de variável enquanto que == é operador de igualdade\n",
        "a = 5\n",
        "b = 3\n",
        "a == b"
      ],
      "metadata": {
        "colab": {
          "base_uri": "https://localhost:8080/"
        },
        "id": "MeUKltZcGvla",
        "outputId": "a0c04285-7ef2-40b9-ba81-95327b4b9a9f"
      },
      "execution_count": 26,
      "outputs": [
        {
          "output_type": "execute_result",
          "data": {
            "text/plain": [
              "False"
            ]
          },
          "metadata": {},
          "execution_count": 26
        }
      ]
    },
    {
      "cell_type": "code",
      "source": [
        "a > b"
      ],
      "metadata": {
        "colab": {
          "base_uri": "https://localhost:8080/"
        },
        "id": "ZF7TmHJqHCU4",
        "outputId": "6260ef07-e0ff-440e-a161-fbaa69647ba8"
      },
      "execution_count": 27,
      "outputs": [
        {
          "output_type": "execute_result",
          "data": {
            "text/plain": [
              "True"
            ]
          },
          "metadata": {},
          "execution_count": 27
        }
      ]
    },
    {
      "cell_type": "markdown",
      "source": [
        "# Exercício prático:\n",
        "\n",
        "Desenvolva um algoritmo que calcule e mostre a média entre a triplicata de amostras de um experimento, sendo as amostras: \n",
        "-  amostra_1 = 10\n",
        "- amostra_2 = 8.5\n",
        "- amostra_3 = 9.2\n",
        "\n",
        "OBS: Utilize a variável **mean** para armazenar o valor de média obtida. "
      ],
      "metadata": {
        "id": "TuI1OvvrISSd"
      }
    },
    {
      "cell_type": "code",
      "source": [
        "# Solução exercício prático:\n",
        "amostra_1 = 10\n",
        "amostra_2 = 8.5\n",
        "amostra_3 = 9.2\n",
        "qtde_amostras = 3\n",
        "\n",
        "mean = (amostra_1 + amostra_2 + amostra_3) / qtde_amostras\n",
        "mean"
      ],
      "metadata": {
        "colab": {
          "base_uri": "https://localhost:8080/"
        },
        "id": "Z75vohRFITRQ",
        "outputId": "2c3479fa-f8df-487a-c0cc-fc681e21c6c5"
      },
      "execution_count": 28,
      "outputs": [
        {
          "output_type": "execute_result",
          "data": {
            "text/plain": [
              "9.233333333333333"
            ]
          },
          "metadata": {},
          "execution_count": 28
        }
      ]
    },
    {
      "cell_type": "markdown",
      "source": [
        "## Porém o Python facilita as coisas para a gente..."
      ],
      "metadata": {
        "id": "EJ58UAZ_JZwf"
      }
    },
    {
      "cell_type": "code",
      "source": [
        "import numpy as np\n",
        "\n",
        "lista_amostras = [amostra_1, amostra_2, amostra_3]\n",
        "\n",
        "np.mean(lista_amostras)"
      ],
      "metadata": {
        "colab": {
          "base_uri": "https://localhost:8080/"
        },
        "id": "BT7fPooaJbTZ",
        "outputId": "93ad7591-44fe-415f-f4aa-4a4e19acbffa"
      },
      "execution_count": 29,
      "outputs": [
        {
          "output_type": "execute_result",
          "data": {
            "text/plain": [
              "9.233333333333333"
            ]
          },
          "metadata": {},
          "execution_count": 29
        }
      ]
    },
    {
      "cell_type": "markdown",
      "source": [
        "## Mas o que é Numpy e o que é uma lista?\n",
        "\n",
        "- Bibliotecas:\n",
        "\n",
        "Até o momento, nós aprendemos como fazer as operações básicas com Python, mas agora podemos começar a aprender a usar módulos/bibliotecas para conseguir ir além!\n",
        "\n",
        "Uma biblioteca é um conjunto de módulos. Módulos são programas feitos para serem reaproveitados em outros programas. Há diversos módulos do Python que fazem parte da biblioteca padrão.\n",
        "Se eu precisar de algumas funcionalidades que as funções básicas não estão conseguindo realizar na aplicação que estou construindo, eu preciso importar algumas funcionalidades de fora!\n",
        "\n",
        "Exemplo de biblioteca: **Numpy** e comando para utilizá-la:\n",
        "```\n",
        "import numpy as np\n",
        "```\n",
        "\n",
        "**NumPy** é uma poderosa biblioteca para processamento númerico em Python.\n",
        "\n",
        "\n",
        "- E **listas**?\n",
        "\n",
        "Lista é uma coleção de elementos (de tamanho dinâmico).\n",
        "\n",
        "Cada elemento possui uma posição dentro de uma lista. Essa posição é chamada índice. O primeiro elemento fica armazenado no índice 0 e o último elemento no índice n-1 (n é a quantidade de elementos da lista).\n",
        "\n"
      ],
      "metadata": {
        "id": "RM6Pj0YKJiMz"
      }
    },
    {
      "cell_type": "code",
      "source": [
        "valores_amostras = [10, 9.2, 8]\n",
        "\n",
        "bases_nitrogenadas = [\"A\", \"C\", \"G\", \"U\"]"
      ],
      "metadata": {
        "id": "YUiuaIREJi3M"
      },
      "execution_count": 32,
      "outputs": []
    },
    {
      "cell_type": "markdown",
      "source": [
        "Acessando elementos de uma lista:\n",
        "\n",
        "Você deve passar o nome da lista que deseja acessar e passar o índice do elemento desejado entre colchetes."
      ],
      "metadata": {
        "id": "mOAmHUqXMny0"
      }
    },
    {
      "cell_type": "code",
      "source": [
        "bases_nitrogenadas[0]"
      ],
      "metadata": {
        "colab": {
          "base_uri": "https://localhost:8080/",
          "height": 35
        },
        "id": "d7r-gPlfJcPH",
        "outputId": "3c531dab-5a37-4732-8d4b-216888cc7c45"
      },
      "execution_count": 31,
      "outputs": [
        {
          "output_type": "execute_result",
          "data": {
            "text/plain": [
              "'A'"
            ],
            "application/vnd.google.colaboratory.intrinsic+json": {
              "type": "string"
            }
          },
          "metadata": {},
          "execution_count": 31
        }
      ]
    },
    {
      "cell_type": "markdown",
      "source": [
        "Mas também podemos acessar mais de um elemento da lista passando o índice:"
      ],
      "metadata": {
        "id": "vC9_I97RNaMJ"
      }
    },
    {
      "cell_type": "code",
      "source": [
        "valores_amostras[0:2]"
      ],
      "metadata": {
        "colab": {
          "base_uri": "https://localhost:8080/"
        },
        "id": "Jb5HVoXxNfTN",
        "outputId": "9b4b3580-5911-4565-d424-470f47a6b649"
      },
      "execution_count": 33,
      "outputs": [
        {
          "output_type": "execute_result",
          "data": {
            "text/plain": [
              "[10, 9.2]"
            ]
          },
          "metadata": {},
          "execution_count": 33
        }
      ]
    },
    {
      "cell_type": "markdown",
      "source": [
        "Substituição de valores pelo índice:"
      ],
      "metadata": {
        "id": "SwVOShdAN27x"
      }
    },
    {
      "cell_type": "code",
      "source": [
        "bases_nitrogenadas[3]"
      ],
      "metadata": {
        "colab": {
          "base_uri": "https://localhost:8080/",
          "height": 35
        },
        "id": "3CvnNJVTN3XB",
        "outputId": "603c3f05-f087-4cec-ef35-6677731bf5b3"
      },
      "execution_count": 34,
      "outputs": [
        {
          "output_type": "execute_result",
          "data": {
            "text/plain": [
              "'U'"
            ],
            "application/vnd.google.colaboratory.intrinsic+json": {
              "type": "string"
            }
          },
          "metadata": {},
          "execution_count": 34
        }
      ]
    },
    {
      "cell_type": "code",
      "source": [
        "bases_nitrogenadas[3] = \"T\"\n",
        "bases_nitrogenadas"
      ],
      "metadata": {
        "colab": {
          "base_uri": "https://localhost:8080/"
        },
        "id": "0r7I51wCOhTE",
        "outputId": "3e13ee5f-f40e-4767-f258-2e20039be27a"
      },
      "execution_count": 35,
      "outputs": [
        {
          "output_type": "execute_result",
          "data": {
            "text/plain": [
              "['A', 'C', 'G', 'T']"
            ]
          },
          "metadata": {},
          "execution_count": 35
        }
      ]
    },
    {
      "cell_type": "code",
      "source": [
        "len(bases_nitrogenadas)"
      ],
      "metadata": {
        "colab": {
          "base_uri": "https://localhost:8080/"
        },
        "id": "0qbjjcY1OsNt",
        "outputId": "0caa4f16-34c8-4c04-c5bb-308b1578aa57"
      },
      "execution_count": 36,
      "outputs": [
        {
          "output_type": "execute_result",
          "data": {
            "text/plain": [
              "4"
            ]
          },
          "metadata": {},
          "execution_count": 36
        }
      ]
    },
    {
      "cell_type": "markdown",
      "source": [
        "## Adicionando elementos em uma lista"
      ],
      "metadata": {
        "id": "dDHVTpRYPCd2"
      }
    },
    {
      "cell_type": "code",
      "source": [
        "lista_rna = ['mRNA', 'circRNA', 'shRNA', 'tRNA']\n",
        "\n",
        "lista_rna.append('miRNA')\n",
        "\n",
        "print(lista_rna)"
      ],
      "metadata": {
        "colab": {
          "base_uri": "https://localhost:8080/"
        },
        "id": "oJ6m2OgIPDrf",
        "outputId": "fe20cdb5-11a6-40f0-9bde-afe3432bcb39"
      },
      "execution_count": 37,
      "outputs": [
        {
          "output_type": "stream",
          "name": "stdout",
          "text": [
            "['mRNA', 'circRNA', 'shRNA', 'tRNA', 'miRNA']\n"
          ]
        }
      ]
    },
    {
      "cell_type": "markdown",
      "source": [
        "### Desafio:\n",
        "1. Crie uma lista de strings chamada experimentos contendo os seguintes nomes de experimentos que deram errado: PCR do gel quebrado, Western Blott sem banda, MS/MS sem proteína quantificada, Código de bioinfo com erro.\n",
        "2. Adicione um nome criativo ao final dessa lista.\n",
        "3. Substitua Western Blott sem banda por Western Blott com uma banda suspeita."
      ],
      "metadata": {
        "id": "osT4qVUDQ_5F"
      }
    },
    {
      "cell_type": "code",
      "source": [
        "experimentos = ['PCR do gel quebrado', 'Western Blott sem banda', 'MS/MS sem proteína quantificada', 'Código de bioinfo com erro']\n",
        "\n",
        "experimentos.append('ELISA com curva padrão sem sentido')\n",
        "\n",
        "experimentos"
      ],
      "metadata": {
        "colab": {
          "base_uri": "https://localhost:8080/"
        },
        "id": "taJDWfdYRAin",
        "outputId": "af2996d1-23f7-4bb5-93bc-93f656090261"
      },
      "execution_count": 38,
      "outputs": [
        {
          "output_type": "execute_result",
          "data": {
            "text/plain": [
              "['PCR do gel quebrado',\n",
              " 'Western Blott sem banda',\n",
              " 'MS/MS sem proteína quantificada',\n",
              " 'Código de bioinfo com erro',\n",
              " 'ELISA com curva padrão sem sentido']"
            ]
          },
          "metadata": {},
          "execution_count": 38
        }
      ]
    },
    {
      "cell_type": "code",
      "source": [
        "experimentos[1] = 'Western Blott com banda suspeita'\n",
        "experimentos"
      ],
      "metadata": {
        "colab": {
          "base_uri": "https://localhost:8080/"
        },
        "id": "YZUB3EMWSDMv",
        "outputId": "a7c19e26-1b88-4d54-8d62-8f2ff7255c17"
      },
      "execution_count": 39,
      "outputs": [
        {
          "output_type": "execute_result",
          "data": {
            "text/plain": [
              "['PCR do gel quebrado',\n",
              " 'Western Blott com banda suspeita',\n",
              " 'MS/MS sem proteína quantificada',\n",
              " 'Código de bioinfo com erro',\n",
              " 'ELISA com curva padrão sem sentido']"
            ]
          },
          "metadata": {},
          "execution_count": 39
        }
      ]
    },
    {
      "cell_type": "markdown",
      "source": [
        "## **Dicionários**\n",
        "\n",
        "- Um dicionário é uma coleção de elementos que possuem uma *chave* e um *valor*\n",
        "- Ao invés de um índice, usamos a *chave* para recuperar um *valor*\n",
        "\n",
        "Assim, o principal propósito de um dicionário é associar um valor (value) a uma chave (key)"
      ],
      "metadata": {
        "id": "d-5ehDYHSweQ"
      }
    },
    {
      "cell_type": "code",
      "source": [
        "genes = {\"gene_1\" : \"AACCGGATGCA\", \"gene_2\" : \"TTGCGATCCC\", \"gene_3\" : \"GCGCGTAATCG\"}"
      ],
      "metadata": {
        "id": "SI8tbGUnSxYC"
      },
      "execution_count": 40,
      "outputs": []
    },
    {
      "cell_type": "code",
      "source": [
        "# Acessando o valor associado à chave\n",
        "genes['gene_2']"
      ],
      "metadata": {
        "colab": {
          "base_uri": "https://localhost:8080/",
          "height": 35
        },
        "id": "cgBh_JbgTbYg",
        "outputId": "ec450a4f-7e65-42ed-8621-4ca21ac7e1b9"
      },
      "execution_count": 41,
      "outputs": [
        {
          "output_type": "execute_result",
          "data": {
            "text/plain": [
              "'TTGCGATCCC'"
            ],
            "application/vnd.google.colaboratory.intrinsic+json": {
              "type": "string"
            }
          },
          "metadata": {},
          "execution_count": 41
        }
      ]
    },
    {
      "cell_type": "code",
      "source": [
        "genes['gene_2'] = \"AACGTAGGG\"\n",
        "genes"
      ],
      "metadata": {
        "colab": {
          "base_uri": "https://localhost:8080/"
        },
        "id": "uR3WD-8JTxai",
        "outputId": "08f73d53-7582-4dde-fbe8-609c906b3e74"
      },
      "execution_count": 42,
      "outputs": [
        {
          "output_type": "execute_result",
          "data": {
            "text/plain": [
              "{'gene_1': 'AACCGGATGCA', 'gene_2': 'AACGTAGGG', 'gene_3': 'GCGCGTAATCG'}"
            ]
          },
          "metadata": {},
          "execution_count": 42
        }
      ]
    },
    {
      "cell_type": "markdown",
      "source": [
        "## Estruturas Condicionais:\n",
        "\n",
        "## Estruturas condicionais:\n",
        "Quando programamos, muitas vezes precisamos que determinado bloco de código seja executado apenas se uma determinada condição for verdadeira. Nesse caso, devemos fazer uso de uma estrutura de condição.\n",
        "\n",
        "### **if:** \n",
        "if (que significa se em português) é uma estrutura de condição que permite avaliar uma expressão e, de acordo com seu resultado, executar uma determinada ação.\n",
        "```python\n",
        "if condição_do_if:\n",
        "    # bloco executado se a condição for verdadeira\n",
        "    comandos\n",
        " ```\n",
        "\n",
        "### **else:**\n",
        "Caso a condição avaliada com o if não seja atendida, definimos um fluxo alternativo que o código deve seguir. \n",
        "```python\n",
        "if condição_do_if:\n",
        "    # bloco executado se a condição for verdadeira\n",
        "    comandos\n",
        "else:\n",
        "    # bloco executado se a condição do if for falsa\n",
        "    comandos\n",
        "```\n",
        "\n",
        "### **elif:**\n",
        "O elif é uma contração do else if que torna mais claro o tratamento das várias alternativas, encadeando condições.\n",
        "```python\n",
        "if condição_do_if:\n",
        "    # bloco executado se a condição for verdadeira\n",
        "    comandos\n",
        "\n",
        "elif:\n",
        "    # bloco executado caso haja um caminho alternativo à condição do bloco if\n",
        "    comandos\n",
        "\n",
        "else:\n",
        "    # bloco executado se a condição do if for falsa\n",
        "    comandos\n",
        "```"
      ],
      "metadata": {
        "id": "35OewejFpTly"
      }
    },
    {
      "cell_type": "code",
      "source": [
        "#Primeiro códon \n",
        "dna_sequence = \"ACTGACTGAC\"\n",
        "\n",
        "codon = dna_sequence[0:3]\n",
        "\n",
        "if codon == \"ACT\":\n",
        "  print (\"É um codon de iniciação.\")\n",
        "else:\n",
        "  print (\"Não é um codom de iniciação.\")"
      ],
      "metadata": {
        "colab": {
          "base_uri": "https://localhost:8080/"
        },
        "id": "RF_7Q0QVpW0T",
        "outputId": "353f4e88-ce80-4a2c-9e84-79dba4fb5d9b"
      },
      "execution_count": 44,
      "outputs": [
        {
          "output_type": "stream",
          "name": "stdout",
          "text": [
            "É um codon de iniciação.\n"
          ]
        }
      ]
    },
    {
      "cell_type": "markdown",
      "source": [
        "### Kmers\n",
        "Em bioinformática, k-mers são substrings de comprimento k contidas em uma sequência biológica. "
      ],
      "metadata": {
        "id": "j0KJ1gECs0pJ"
      }
    },
    {
      "cell_type": "code",
      "source": [
        "kmer = input('Digite a sequência: ')\n",
        "\n",
        "if len(kmer) == 2:\n",
        "  print('Kmer de comprimento 2')\n",
        "\n",
        "elif len(kmer) > 2 and len(kmer) < 4:\n",
        "  print('Kmer de comprimento 3')\n",
        "\n",
        "else:\n",
        "  print('Kmer de comprimento 4 ou mais')"
      ],
      "metadata": {
        "colab": {
          "base_uri": "https://localhost:8080/"
        },
        "id": "bHsxKN0dpupP",
        "outputId": "b8da1b80-3437-4d7e-f052-6e085a4eecec"
      },
      "execution_count": 45,
      "outputs": [
        {
          "output_type": "stream",
          "name": "stdout",
          "text": [
            "Digite a sequência: AGG\n",
            "Kmer de comprimento 3\n"
          ]
        }
      ]
    },
    {
      "cell_type": "markdown",
      "source": [
        "### Jogo de adivinhação"
      ],
      "metadata": {
        "id": "1f-oBDENrNGy"
      }
    },
    {
      "cell_type": "code",
      "source": [
        "from random import randint\n",
        "\n",
        "computador = randint(1, 5)\n",
        "print('========= JOGO DA ADIVINHAÇÃO =============')\n",
        "print('Vamos jogar um jogo! Tente adivinhar o número de kmers que estou pensando: de 0 a 5...')\n",
        "print('===========================================')\n",
        "\n",
        "jogador = int(input('Qual número eu pensei? '))\n",
        "\n",
        "if jogador == computador:\n",
        "  print('Acertou. Você VENCEU o jogo!')\n",
        "\n",
        "else:\n",
        "  print(f'Errou. Você perdeu! O número era {computador}')"
      ],
      "metadata": {
        "colab": {
          "base_uri": "https://localhost:8080/"
        },
        "id": "SLllyKhCrPrb",
        "outputId": "3ac318c2-0a74-4f28-ead7-3a72e8319acb"
      },
      "execution_count": 46,
      "outputs": [
        {
          "output_type": "stream",
          "name": "stdout",
          "text": [
            "========= JOGO DA ADIVINHAÇÃO =============\n",
            "Vamos jogar um jogo! Tente adivinhar o número de kmers que estou pensando: de 0 a 5...\n",
            "===========================================\n",
            "Qual número eu pensei? 2\n",
            "Errou. Você perdeu! O número era 3\n"
          ]
        }
      ]
    },
    {
      "cell_type": "markdown",
      "source": [
        "### Estruturas de repetição e iteração\n",
        "\n",
        "#### for:\n",
        "O laço for nos permite percorrer os itens de uma coleção e, para cada um deles, executar o bloco de código declarado no loop."
      ],
      "metadata": {
        "id": "GDKr-748sXyB"
      }
    },
    {
      "cell_type": "code",
      "source": [
        "lista = [1, 19, 2, 15, 21, 12, 2]\n",
        "for numero in lista:\n",
        "    print(numero)"
      ],
      "metadata": {
        "colab": {
          "base_uri": "https://localhost:8080/"
        },
        "id": "Gv4AIdE9uuuE",
        "outputId": "73096521-4ac8-4b7d-f9fb-e455d1ee3d9a"
      },
      "execution_count": 47,
      "outputs": [
        {
          "output_type": "stream",
          "name": "stdout",
          "text": [
            "1\n",
            "19\n",
            "2\n",
            "15\n",
            "21\n",
            "12\n",
            "2\n"
          ]
        }
      ]
    },
    {
      "cell_type": "code",
      "source": [
        "sequence_codons = [\"ATG\", \"GGG\", \"CCC\", \"AAA\", \"TAA\", \"GGC\"]\n",
        "stop_codons = [\"TAA\", \"TGA\", \"TAG\"]\n",
        "\n",
        "for codon in sequence_codons:\n",
        "  if codon in stop_codons:\n",
        "    print(\"Códon de terminação encontrado\")\n",
        "    break\n",
        "  else: \n",
        "    print(codon)"
      ],
      "metadata": {
        "colab": {
          "base_uri": "https://localhost:8080/"
        },
        "id": "tTmCXo-6wHLA",
        "outputId": "228eb558-1598-42f3-d8d5-eb707a5ed045"
      },
      "execution_count": 48,
      "outputs": [
        {
          "output_type": "stream",
          "name": "stdout",
          "text": [
            "ATG\n",
            "GGG\n",
            "CCC\n",
            "AAA\n",
            "Códon de terminação encontrado\n"
          ]
        }
      ]
    },
    {
      "cell_type": "markdown",
      "source": [
        "## Funções:\n",
        "Funções são trechos de código que podem ser executados em momentos diferentes de nossos códigos em Python. \n",
        "\n",
        "```python\n",
        "def nome_da_função():\n",
        "  comandos da função\n",
        "```\n",
        "\n",
        "- Que comandos a gente faz constantemente?\n",
        "print(), len(), input(), etc..."
      ],
      "metadata": {
        "id": "3UWGwPScwYsN"
      }
    },
    {
      "cell_type": "code",
      "source": [
        "def rna_match(dna_sequence):\n",
        "  rna_sequence = dna_sequence.replace(\"t\", \"u\")\n",
        "  return rna_sequence\n",
        "\n",
        "rna_match(dna_sequence=\"tccctggatg\")"
      ],
      "metadata": {
        "colab": {
          "base_uri": "https://localhost:8080/",
          "height": 35
        },
        "id": "tUEWBJafwZPw",
        "outputId": "9e9128c5-fb23-4159-d525-792d550c2efe"
      },
      "execution_count": 49,
      "outputs": [
        {
          "output_type": "execute_result",
          "data": {
            "text/plain": [
              "'ucccuggaug'"
            ],
            "application/vnd.google.colaboratory.intrinsic+json": {
              "type": "string"
            }
          },
          "metadata": {},
          "execution_count": 49
        }
      ]
    },
    {
      "cell_type": "markdown",
      "source": [
        "## Análise de dados com Python"
      ],
      "metadata": {
        "id": "kjTqaADRxBVe"
      }
    },
    {
      "cell_type": "code",
      "source": [
        "import pandas as pd\n",
        "import numpy as np\n",
        "import seaborn as sns\n",
        "import matplotlib.pyplot as plt"
      ],
      "metadata": {
        "id": "-XBmnPebxEEM"
      },
      "execution_count": 50,
      "outputs": []
    },
    {
      "cell_type": "code",
      "source": [
        "url = 'https://github.com/mariacmartins/minicurso_intro_python/blob/main/dados.zip?raw=true'\n",
        "dados = pd.read_csv(url, compression='zip')"
      ],
      "metadata": {
        "id": "W8X4f9aYxzzo"
      },
      "execution_count": 51,
      "outputs": []
    },
    {
      "cell_type": "code",
      "source": [
        "dados.head()"
      ],
      "metadata": {
        "colab": {
          "base_uri": "https://localhost:8080/",
          "height": 300
        },
        "id": "PT0h24lCx7ao",
        "outputId": "6bd48303-9748-4e9b-e7b4-ebacc312b6cd"
      },
      "execution_count": 52,
      "outputs": [
        {
          "output_type": "execute_result",
          "data": {
            "text/plain": [
              "             id tratamento  tempo dose      droga     g-0     g-1     g-2  \\\n",
              "0  id_000644bb2  com_droga     24   D1  b68db1d53  1.0620  0.5577 -0.2479   \n",
              "1  id_000779bfc  com_droga     72   D1  df89a8e5a  0.0743  0.4087  0.2991   \n",
              "2  id_000a6266a  com_droga     48   D1  18bb41b2c  0.6280  0.5817  1.5540   \n",
              "3  id_0015fd391  com_droga     48   D1  8c7f86626 -0.5138 -0.2491 -0.2656   \n",
              "4  id_001626bd3  com_droga     72   D2  7cbed3131 -0.3254 -0.4009  0.9700   \n",
              "\n",
              "      g-3     g-4  ...    c-90    c-91    c-92    c-93    c-94    c-95  \\\n",
              "0 -0.6208 -0.1944  ...  0.2862  0.2584  0.8076  0.5523 -0.1912  0.6584   \n",
              "1  0.0604  1.0190  ... -0.4265  0.7543  0.4708  0.0230  0.2957  0.4899   \n",
              "2 -0.0764 -0.0323  ... -0.7250 -0.6297  0.6103  0.0223 -1.3240 -0.3174   \n",
              "3  0.5288  4.0620  ... -2.0990 -0.6441 -5.6300 -1.3780 -0.8632 -1.2880   \n",
              "4  0.6919  1.4180  ...  0.0042  0.0048  0.6670  1.0690  0.5523 -0.3031   \n",
              "\n",
              "     c-96    c-97    c-98    c-99  \n",
              "0 -0.3981  0.2139  0.3801  0.4176  \n",
              "1  0.1522  0.1241  0.6077  0.7371  \n",
              "2 -0.6417 -0.2187 -1.4080  0.6931  \n",
              "3 -1.6210 -0.8784 -0.3876 -0.8154  \n",
              "4  0.1094  0.2885 -0.3786  0.7125  \n",
              "\n",
              "[5 rows x 877 columns]"
            ],
            "text/html": [
              "\n",
              "  <div id=\"df-be64ed1c-62ad-451a-bbc9-239d5fb6a29b\">\n",
              "    <div class=\"colab-df-container\">\n",
              "      <div>\n",
              "<style scoped>\n",
              "    .dataframe tbody tr th:only-of-type {\n",
              "        vertical-align: middle;\n",
              "    }\n",
              "\n",
              "    .dataframe tbody tr th {\n",
              "        vertical-align: top;\n",
              "    }\n",
              "\n",
              "    .dataframe thead th {\n",
              "        text-align: right;\n",
              "    }\n",
              "</style>\n",
              "<table border=\"1\" class=\"dataframe\">\n",
              "  <thead>\n",
              "    <tr style=\"text-align: right;\">\n",
              "      <th></th>\n",
              "      <th>id</th>\n",
              "      <th>tratamento</th>\n",
              "      <th>tempo</th>\n",
              "      <th>dose</th>\n",
              "      <th>droga</th>\n",
              "      <th>g-0</th>\n",
              "      <th>g-1</th>\n",
              "      <th>g-2</th>\n",
              "      <th>g-3</th>\n",
              "      <th>g-4</th>\n",
              "      <th>...</th>\n",
              "      <th>c-90</th>\n",
              "      <th>c-91</th>\n",
              "      <th>c-92</th>\n",
              "      <th>c-93</th>\n",
              "      <th>c-94</th>\n",
              "      <th>c-95</th>\n",
              "      <th>c-96</th>\n",
              "      <th>c-97</th>\n",
              "      <th>c-98</th>\n",
              "      <th>c-99</th>\n",
              "    </tr>\n",
              "  </thead>\n",
              "  <tbody>\n",
              "    <tr>\n",
              "      <th>0</th>\n",
              "      <td>id_000644bb2</td>\n",
              "      <td>com_droga</td>\n",
              "      <td>24</td>\n",
              "      <td>D1</td>\n",
              "      <td>b68db1d53</td>\n",
              "      <td>1.0620</td>\n",
              "      <td>0.5577</td>\n",
              "      <td>-0.2479</td>\n",
              "      <td>-0.6208</td>\n",
              "      <td>-0.1944</td>\n",
              "      <td>...</td>\n",
              "      <td>0.2862</td>\n",
              "      <td>0.2584</td>\n",
              "      <td>0.8076</td>\n",
              "      <td>0.5523</td>\n",
              "      <td>-0.1912</td>\n",
              "      <td>0.6584</td>\n",
              "      <td>-0.3981</td>\n",
              "      <td>0.2139</td>\n",
              "      <td>0.3801</td>\n",
              "      <td>0.4176</td>\n",
              "    </tr>\n",
              "    <tr>\n",
              "      <th>1</th>\n",
              "      <td>id_000779bfc</td>\n",
              "      <td>com_droga</td>\n",
              "      <td>72</td>\n",
              "      <td>D1</td>\n",
              "      <td>df89a8e5a</td>\n",
              "      <td>0.0743</td>\n",
              "      <td>0.4087</td>\n",
              "      <td>0.2991</td>\n",
              "      <td>0.0604</td>\n",
              "      <td>1.0190</td>\n",
              "      <td>...</td>\n",
              "      <td>-0.4265</td>\n",
              "      <td>0.7543</td>\n",
              "      <td>0.4708</td>\n",
              "      <td>0.0230</td>\n",
              "      <td>0.2957</td>\n",
              "      <td>0.4899</td>\n",
              "      <td>0.1522</td>\n",
              "      <td>0.1241</td>\n",
              "      <td>0.6077</td>\n",
              "      <td>0.7371</td>\n",
              "    </tr>\n",
              "    <tr>\n",
              "      <th>2</th>\n",
              "      <td>id_000a6266a</td>\n",
              "      <td>com_droga</td>\n",
              "      <td>48</td>\n",
              "      <td>D1</td>\n",
              "      <td>18bb41b2c</td>\n",
              "      <td>0.6280</td>\n",
              "      <td>0.5817</td>\n",
              "      <td>1.5540</td>\n",
              "      <td>-0.0764</td>\n",
              "      <td>-0.0323</td>\n",
              "      <td>...</td>\n",
              "      <td>-0.7250</td>\n",
              "      <td>-0.6297</td>\n",
              "      <td>0.6103</td>\n",
              "      <td>0.0223</td>\n",
              "      <td>-1.3240</td>\n",
              "      <td>-0.3174</td>\n",
              "      <td>-0.6417</td>\n",
              "      <td>-0.2187</td>\n",
              "      <td>-1.4080</td>\n",
              "      <td>0.6931</td>\n",
              "    </tr>\n",
              "    <tr>\n",
              "      <th>3</th>\n",
              "      <td>id_0015fd391</td>\n",
              "      <td>com_droga</td>\n",
              "      <td>48</td>\n",
              "      <td>D1</td>\n",
              "      <td>8c7f86626</td>\n",
              "      <td>-0.5138</td>\n",
              "      <td>-0.2491</td>\n",
              "      <td>-0.2656</td>\n",
              "      <td>0.5288</td>\n",
              "      <td>4.0620</td>\n",
              "      <td>...</td>\n",
              "      <td>-2.0990</td>\n",
              "      <td>-0.6441</td>\n",
              "      <td>-5.6300</td>\n",
              "      <td>-1.3780</td>\n",
              "      <td>-0.8632</td>\n",
              "      <td>-1.2880</td>\n",
              "      <td>-1.6210</td>\n",
              "      <td>-0.8784</td>\n",
              "      <td>-0.3876</td>\n",
              "      <td>-0.8154</td>\n",
              "    </tr>\n",
              "    <tr>\n",
              "      <th>4</th>\n",
              "      <td>id_001626bd3</td>\n",
              "      <td>com_droga</td>\n",
              "      <td>72</td>\n",
              "      <td>D2</td>\n",
              "      <td>7cbed3131</td>\n",
              "      <td>-0.3254</td>\n",
              "      <td>-0.4009</td>\n",
              "      <td>0.9700</td>\n",
              "      <td>0.6919</td>\n",
              "      <td>1.4180</td>\n",
              "      <td>...</td>\n",
              "      <td>0.0042</td>\n",
              "      <td>0.0048</td>\n",
              "      <td>0.6670</td>\n",
              "      <td>1.0690</td>\n",
              "      <td>0.5523</td>\n",
              "      <td>-0.3031</td>\n",
              "      <td>0.1094</td>\n",
              "      <td>0.2885</td>\n",
              "      <td>-0.3786</td>\n",
              "      <td>0.7125</td>\n",
              "    </tr>\n",
              "  </tbody>\n",
              "</table>\n",
              "<p>5 rows × 877 columns</p>\n",
              "</div>\n",
              "      <button class=\"colab-df-convert\" onclick=\"convertToInteractive('df-be64ed1c-62ad-451a-bbc9-239d5fb6a29b')\"\n",
              "              title=\"Convert this dataframe to an interactive table.\"\n",
              "              style=\"display:none;\">\n",
              "        \n",
              "  <svg xmlns=\"http://www.w3.org/2000/svg\" height=\"24px\"viewBox=\"0 0 24 24\"\n",
              "       width=\"24px\">\n",
              "    <path d=\"M0 0h24v24H0V0z\" fill=\"none\"/>\n",
              "    <path d=\"M18.56 5.44l.94 2.06.94-2.06 2.06-.94-2.06-.94-.94-2.06-.94 2.06-2.06.94zm-11 1L8.5 8.5l.94-2.06 2.06-.94-2.06-.94L8.5 2.5l-.94 2.06-2.06.94zm10 10l.94 2.06.94-2.06 2.06-.94-2.06-.94-.94-2.06-.94 2.06-2.06.94z\"/><path d=\"M17.41 7.96l-1.37-1.37c-.4-.4-.92-.59-1.43-.59-.52 0-1.04.2-1.43.59L10.3 9.45l-7.72 7.72c-.78.78-.78 2.05 0 2.83L4 21.41c.39.39.9.59 1.41.59.51 0 1.02-.2 1.41-.59l7.78-7.78 2.81-2.81c.8-.78.8-2.07 0-2.86zM5.41 20L4 18.59l7.72-7.72 1.47 1.35L5.41 20z\"/>\n",
              "  </svg>\n",
              "      </button>\n",
              "      \n",
              "  <style>\n",
              "    .colab-df-container {\n",
              "      display:flex;\n",
              "      flex-wrap:wrap;\n",
              "      gap: 12px;\n",
              "    }\n",
              "\n",
              "    .colab-df-convert {\n",
              "      background-color: #E8F0FE;\n",
              "      border: none;\n",
              "      border-radius: 50%;\n",
              "      cursor: pointer;\n",
              "      display: none;\n",
              "      fill: #1967D2;\n",
              "      height: 32px;\n",
              "      padding: 0 0 0 0;\n",
              "      width: 32px;\n",
              "    }\n",
              "\n",
              "    .colab-df-convert:hover {\n",
              "      background-color: #E2EBFA;\n",
              "      box-shadow: 0px 1px 2px rgba(60, 64, 67, 0.3), 0px 1px 3px 1px rgba(60, 64, 67, 0.15);\n",
              "      fill: #174EA6;\n",
              "    }\n",
              "\n",
              "    [theme=dark] .colab-df-convert {\n",
              "      background-color: #3B4455;\n",
              "      fill: #D2E3FC;\n",
              "    }\n",
              "\n",
              "    [theme=dark] .colab-df-convert:hover {\n",
              "      background-color: #434B5C;\n",
              "      box-shadow: 0px 1px 3px 1px rgba(0, 0, 0, 0.15);\n",
              "      filter: drop-shadow(0px 1px 2px rgba(0, 0, 0, 0.3));\n",
              "      fill: #FFFFFF;\n",
              "    }\n",
              "  </style>\n",
              "\n",
              "      <script>\n",
              "        const buttonEl =\n",
              "          document.querySelector('#df-be64ed1c-62ad-451a-bbc9-239d5fb6a29b button.colab-df-convert');\n",
              "        buttonEl.style.display =\n",
              "          google.colab.kernel.accessAllowed ? 'block' : 'none';\n",
              "\n",
              "        async function convertToInteractive(key) {\n",
              "          const element = document.querySelector('#df-be64ed1c-62ad-451a-bbc9-239d5fb6a29b');\n",
              "          const dataTable =\n",
              "            await google.colab.kernel.invokeFunction('convertToInteractive',\n",
              "                                                     [key], {});\n",
              "          if (!dataTable) return;\n",
              "\n",
              "          const docLinkHtml = 'Like what you see? Visit the ' +\n",
              "            '<a target=\"_blank\" href=https://colab.research.google.com/notebooks/data_table.ipynb>data table notebook</a>'\n",
              "            + ' to learn more about interactive tables.';\n",
              "          element.innerHTML = '';\n",
              "          dataTable['output_type'] = 'display_data';\n",
              "          await google.colab.output.renderOutput(dataTable, element);\n",
              "          const docLink = document.createElement('div');\n",
              "          docLink.innerHTML = docLinkHtml;\n",
              "          element.appendChild(docLink);\n",
              "        }\n",
              "      </script>\n",
              "    </div>\n",
              "  </div>\n",
              "  "
            ]
          },
          "metadata": {},
          "execution_count": 52
        }
      ]
    },
    {
      "cell_type": "markdown",
      "source": [
        "Features:\n",
        "\n",
        "g- significam dados de expressão gênica.\n",
        "\n",
        "c- significam dados de viabilidade celular."
      ],
      "metadata": {
        "id": "MA6wyrRbzEAj"
      }
    },
    {
      "cell_type": "code",
      "source": [
        "dados.shape"
      ],
      "metadata": {
        "colab": {
          "base_uri": "https://localhost:8080/"
        },
        "id": "ECR73b2FyFcQ",
        "outputId": "3319c1e9-02d0-4406-9831-1ec000bdd6b7"
      },
      "execution_count": 53,
      "outputs": [
        {
          "output_type": "execute_result",
          "data": {
            "text/plain": [
              "(23814, 877)"
            ]
          },
          "metadata": {},
          "execution_count": 53
        }
      ]
    },
    {
      "cell_type": "code",
      "source": [
        "mapa = {'droga' : 'composto'}\n",
        "dados.rename(columns=mapa, inplace=True)\n",
        "dados"
      ],
      "metadata": {
        "colab": {
          "base_uri": "https://localhost:8080/",
          "height": 488
        },
        "id": "0IuEBo_4ySfZ",
        "outputId": "5dbac0c7-6624-431d-e535-e5fefe07f137"
      },
      "execution_count": 55,
      "outputs": [
        {
          "output_type": "execute_result",
          "data": {
            "text/plain": [
              "                 id    tratamento  tempo dose   composto     g-0     g-1  \\\n",
              "0      id_000644bb2     com_droga     24   D1  b68db1d53  1.0620  0.5577   \n",
              "1      id_000779bfc     com_droga     72   D1  df89a8e5a  0.0743  0.4087   \n",
              "2      id_000a6266a     com_droga     48   D1  18bb41b2c  0.6280  0.5817   \n",
              "3      id_0015fd391     com_droga     48   D1  8c7f86626 -0.5138 -0.2491   \n",
              "4      id_001626bd3     com_droga     72   D2  7cbed3131 -0.3254 -0.4009   \n",
              "...             ...           ...    ...  ...        ...     ...     ...   \n",
              "23809  id_fffb1ceed     com_droga     24   D2  df1d0a5a1  0.1394 -0.0636   \n",
              "23810  id_fffb70c0c     com_droga     24   D2  ecf3b6b74 -1.3260  0.3478   \n",
              "23811  id_fffc1c3f4  com_controle     48   D2  cacb2b860  0.3942  0.3756   \n",
              "23812  id_fffcb9e7c     com_droga     24   D1  8b87a7a83  0.6660  0.2324   \n",
              "23813  id_ffffdd77b     com_droga     72   D1  972f41291 -0.8598  1.0240   \n",
              "\n",
              "          g-2     g-3     g-4  ...    c-90    c-91    c-92    c-93    c-94  \\\n",
              "0     -0.2479 -0.6208 -0.1944  ...  0.2862  0.2584  0.8076  0.5523 -0.1912   \n",
              "1      0.2991  0.0604  1.0190  ... -0.4265  0.7543  0.4708  0.0230  0.2957   \n",
              "2      1.5540 -0.0764 -0.0323  ... -0.7250 -0.6297  0.6103  0.0223 -1.3240   \n",
              "3     -0.2656  0.5288  4.0620  ... -2.0990 -0.6441 -5.6300 -1.3780 -0.8632   \n",
              "4      0.9700  0.6919  1.4180  ...  0.0042  0.0048  0.6670  1.0690  0.5523   \n",
              "...       ...     ...     ...  ...     ...     ...     ...     ...     ...   \n",
              "23809 -0.1112 -0.5080 -0.4713  ...  0.1969  0.0262 -0.8121  0.3434  0.5372   \n",
              "23810 -0.3743  0.9905 -0.7178  ...  0.4286  0.4426  0.0423 -0.3195 -0.8086   \n",
              "23811  0.3109 -0.7389  0.5505  ...  0.5409  0.3755  0.7343  0.2807  0.4116   \n",
              "23812  0.4392  0.2044  0.8531  ... -0.1105  0.4258 -0.2012  0.1506  1.5230   \n",
              "23813 -0.1361  0.7952 -0.3611  ... -3.3890 -1.7450 -6.6300 -4.0950 -7.3860   \n",
              "\n",
              "         c-95    c-96    c-97    c-98    c-99  \n",
              "0      0.6584 -0.3981  0.2139  0.3801  0.4176  \n",
              "1      0.4899  0.1522  0.1241  0.6077  0.7371  \n",
              "2     -0.3174 -0.6417 -0.2187 -1.4080  0.6931  \n",
              "3     -1.2880 -1.6210 -0.8784 -0.3876 -0.8154  \n",
              "4     -0.3031  0.1094  0.2885 -0.3786  0.7125  \n",
              "...       ...     ...     ...     ...     ...  \n",
              "23809 -0.3246  0.0631  0.9171  0.5258  0.4680  \n",
              "23810 -0.9798 -0.2084 -0.1224 -0.2715  0.3689  \n",
              "23811  0.6422  0.2256  0.7592  0.6656  0.3808  \n",
              "23812  0.7101  0.1732  0.7015 -0.6290  0.0740  \n",
              "23813 -1.4160 -3.5770 -0.4775 -2.1500 -4.2520  \n",
              "\n",
              "[23814 rows x 877 columns]"
            ],
            "text/html": [
              "\n",
              "  <div id=\"df-a6c31f13-cdec-4a27-92a5-4bda3536bdb0\">\n",
              "    <div class=\"colab-df-container\">\n",
              "      <div>\n",
              "<style scoped>\n",
              "    .dataframe tbody tr th:only-of-type {\n",
              "        vertical-align: middle;\n",
              "    }\n",
              "\n",
              "    .dataframe tbody tr th {\n",
              "        vertical-align: top;\n",
              "    }\n",
              "\n",
              "    .dataframe thead th {\n",
              "        text-align: right;\n",
              "    }\n",
              "</style>\n",
              "<table border=\"1\" class=\"dataframe\">\n",
              "  <thead>\n",
              "    <tr style=\"text-align: right;\">\n",
              "      <th></th>\n",
              "      <th>id</th>\n",
              "      <th>tratamento</th>\n",
              "      <th>tempo</th>\n",
              "      <th>dose</th>\n",
              "      <th>composto</th>\n",
              "      <th>g-0</th>\n",
              "      <th>g-1</th>\n",
              "      <th>g-2</th>\n",
              "      <th>g-3</th>\n",
              "      <th>g-4</th>\n",
              "      <th>...</th>\n",
              "      <th>c-90</th>\n",
              "      <th>c-91</th>\n",
              "      <th>c-92</th>\n",
              "      <th>c-93</th>\n",
              "      <th>c-94</th>\n",
              "      <th>c-95</th>\n",
              "      <th>c-96</th>\n",
              "      <th>c-97</th>\n",
              "      <th>c-98</th>\n",
              "      <th>c-99</th>\n",
              "    </tr>\n",
              "  </thead>\n",
              "  <tbody>\n",
              "    <tr>\n",
              "      <th>0</th>\n",
              "      <td>id_000644bb2</td>\n",
              "      <td>com_droga</td>\n",
              "      <td>24</td>\n",
              "      <td>D1</td>\n",
              "      <td>b68db1d53</td>\n",
              "      <td>1.0620</td>\n",
              "      <td>0.5577</td>\n",
              "      <td>-0.2479</td>\n",
              "      <td>-0.6208</td>\n",
              "      <td>-0.1944</td>\n",
              "      <td>...</td>\n",
              "      <td>0.2862</td>\n",
              "      <td>0.2584</td>\n",
              "      <td>0.8076</td>\n",
              "      <td>0.5523</td>\n",
              "      <td>-0.1912</td>\n",
              "      <td>0.6584</td>\n",
              "      <td>-0.3981</td>\n",
              "      <td>0.2139</td>\n",
              "      <td>0.3801</td>\n",
              "      <td>0.4176</td>\n",
              "    </tr>\n",
              "    <tr>\n",
              "      <th>1</th>\n",
              "      <td>id_000779bfc</td>\n",
              "      <td>com_droga</td>\n",
              "      <td>72</td>\n",
              "      <td>D1</td>\n",
              "      <td>df89a8e5a</td>\n",
              "      <td>0.0743</td>\n",
              "      <td>0.4087</td>\n",
              "      <td>0.2991</td>\n",
              "      <td>0.0604</td>\n",
              "      <td>1.0190</td>\n",
              "      <td>...</td>\n",
              "      <td>-0.4265</td>\n",
              "      <td>0.7543</td>\n",
              "      <td>0.4708</td>\n",
              "      <td>0.0230</td>\n",
              "      <td>0.2957</td>\n",
              "      <td>0.4899</td>\n",
              "      <td>0.1522</td>\n",
              "      <td>0.1241</td>\n",
              "      <td>0.6077</td>\n",
              "      <td>0.7371</td>\n",
              "    </tr>\n",
              "    <tr>\n",
              "      <th>2</th>\n",
              "      <td>id_000a6266a</td>\n",
              "      <td>com_droga</td>\n",
              "      <td>48</td>\n",
              "      <td>D1</td>\n",
              "      <td>18bb41b2c</td>\n",
              "      <td>0.6280</td>\n",
              "      <td>0.5817</td>\n",
              "      <td>1.5540</td>\n",
              "      <td>-0.0764</td>\n",
              "      <td>-0.0323</td>\n",
              "      <td>...</td>\n",
              "      <td>-0.7250</td>\n",
              "      <td>-0.6297</td>\n",
              "      <td>0.6103</td>\n",
              "      <td>0.0223</td>\n",
              "      <td>-1.3240</td>\n",
              "      <td>-0.3174</td>\n",
              "      <td>-0.6417</td>\n",
              "      <td>-0.2187</td>\n",
              "      <td>-1.4080</td>\n",
              "      <td>0.6931</td>\n",
              "    </tr>\n",
              "    <tr>\n",
              "      <th>3</th>\n",
              "      <td>id_0015fd391</td>\n",
              "      <td>com_droga</td>\n",
              "      <td>48</td>\n",
              "      <td>D1</td>\n",
              "      <td>8c7f86626</td>\n",
              "      <td>-0.5138</td>\n",
              "      <td>-0.2491</td>\n",
              "      <td>-0.2656</td>\n",
              "      <td>0.5288</td>\n",
              "      <td>4.0620</td>\n",
              "      <td>...</td>\n",
              "      <td>-2.0990</td>\n",
              "      <td>-0.6441</td>\n",
              "      <td>-5.6300</td>\n",
              "      <td>-1.3780</td>\n",
              "      <td>-0.8632</td>\n",
              "      <td>-1.2880</td>\n",
              "      <td>-1.6210</td>\n",
              "      <td>-0.8784</td>\n",
              "      <td>-0.3876</td>\n",
              "      <td>-0.8154</td>\n",
              "    </tr>\n",
              "    <tr>\n",
              "      <th>4</th>\n",
              "      <td>id_001626bd3</td>\n",
              "      <td>com_droga</td>\n",
              "      <td>72</td>\n",
              "      <td>D2</td>\n",
              "      <td>7cbed3131</td>\n",
              "      <td>-0.3254</td>\n",
              "      <td>-0.4009</td>\n",
              "      <td>0.9700</td>\n",
              "      <td>0.6919</td>\n",
              "      <td>1.4180</td>\n",
              "      <td>...</td>\n",
              "      <td>0.0042</td>\n",
              "      <td>0.0048</td>\n",
              "      <td>0.6670</td>\n",
              "      <td>1.0690</td>\n",
              "      <td>0.5523</td>\n",
              "      <td>-0.3031</td>\n",
              "      <td>0.1094</td>\n",
              "      <td>0.2885</td>\n",
              "      <td>-0.3786</td>\n",
              "      <td>0.7125</td>\n",
              "    </tr>\n",
              "    <tr>\n",
              "      <th>...</th>\n",
              "      <td>...</td>\n",
              "      <td>...</td>\n",
              "      <td>...</td>\n",
              "      <td>...</td>\n",
              "      <td>...</td>\n",
              "      <td>...</td>\n",
              "      <td>...</td>\n",
              "      <td>...</td>\n",
              "      <td>...</td>\n",
              "      <td>...</td>\n",
              "      <td>...</td>\n",
              "      <td>...</td>\n",
              "      <td>...</td>\n",
              "      <td>...</td>\n",
              "      <td>...</td>\n",
              "      <td>...</td>\n",
              "      <td>...</td>\n",
              "      <td>...</td>\n",
              "      <td>...</td>\n",
              "      <td>...</td>\n",
              "      <td>...</td>\n",
              "    </tr>\n",
              "    <tr>\n",
              "      <th>23809</th>\n",
              "      <td>id_fffb1ceed</td>\n",
              "      <td>com_droga</td>\n",
              "      <td>24</td>\n",
              "      <td>D2</td>\n",
              "      <td>df1d0a5a1</td>\n",
              "      <td>0.1394</td>\n",
              "      <td>-0.0636</td>\n",
              "      <td>-0.1112</td>\n",
              "      <td>-0.5080</td>\n",
              "      <td>-0.4713</td>\n",
              "      <td>...</td>\n",
              "      <td>0.1969</td>\n",
              "      <td>0.0262</td>\n",
              "      <td>-0.8121</td>\n",
              "      <td>0.3434</td>\n",
              "      <td>0.5372</td>\n",
              "      <td>-0.3246</td>\n",
              "      <td>0.0631</td>\n",
              "      <td>0.9171</td>\n",
              "      <td>0.5258</td>\n",
              "      <td>0.4680</td>\n",
              "    </tr>\n",
              "    <tr>\n",
              "      <th>23810</th>\n",
              "      <td>id_fffb70c0c</td>\n",
              "      <td>com_droga</td>\n",
              "      <td>24</td>\n",
              "      <td>D2</td>\n",
              "      <td>ecf3b6b74</td>\n",
              "      <td>-1.3260</td>\n",
              "      <td>0.3478</td>\n",
              "      <td>-0.3743</td>\n",
              "      <td>0.9905</td>\n",
              "      <td>-0.7178</td>\n",
              "      <td>...</td>\n",
              "      <td>0.4286</td>\n",
              "      <td>0.4426</td>\n",
              "      <td>0.0423</td>\n",
              "      <td>-0.3195</td>\n",
              "      <td>-0.8086</td>\n",
              "      <td>-0.9798</td>\n",
              "      <td>-0.2084</td>\n",
              "      <td>-0.1224</td>\n",
              "      <td>-0.2715</td>\n",
              "      <td>0.3689</td>\n",
              "    </tr>\n",
              "    <tr>\n",
              "      <th>23811</th>\n",
              "      <td>id_fffc1c3f4</td>\n",
              "      <td>com_controle</td>\n",
              "      <td>48</td>\n",
              "      <td>D2</td>\n",
              "      <td>cacb2b860</td>\n",
              "      <td>0.3942</td>\n",
              "      <td>0.3756</td>\n",
              "      <td>0.3109</td>\n",
              "      <td>-0.7389</td>\n",
              "      <td>0.5505</td>\n",
              "      <td>...</td>\n",
              "      <td>0.5409</td>\n",
              "      <td>0.3755</td>\n",
              "      <td>0.7343</td>\n",
              "      <td>0.2807</td>\n",
              "      <td>0.4116</td>\n",
              "      <td>0.6422</td>\n",
              "      <td>0.2256</td>\n",
              "      <td>0.7592</td>\n",
              "      <td>0.6656</td>\n",
              "      <td>0.3808</td>\n",
              "    </tr>\n",
              "    <tr>\n",
              "      <th>23812</th>\n",
              "      <td>id_fffcb9e7c</td>\n",
              "      <td>com_droga</td>\n",
              "      <td>24</td>\n",
              "      <td>D1</td>\n",
              "      <td>8b87a7a83</td>\n",
              "      <td>0.6660</td>\n",
              "      <td>0.2324</td>\n",
              "      <td>0.4392</td>\n",
              "      <td>0.2044</td>\n",
              "      <td>0.8531</td>\n",
              "      <td>...</td>\n",
              "      <td>-0.1105</td>\n",
              "      <td>0.4258</td>\n",
              "      <td>-0.2012</td>\n",
              "      <td>0.1506</td>\n",
              "      <td>1.5230</td>\n",
              "      <td>0.7101</td>\n",
              "      <td>0.1732</td>\n",
              "      <td>0.7015</td>\n",
              "      <td>-0.6290</td>\n",
              "      <td>0.0740</td>\n",
              "    </tr>\n",
              "    <tr>\n",
              "      <th>23813</th>\n",
              "      <td>id_ffffdd77b</td>\n",
              "      <td>com_droga</td>\n",
              "      <td>72</td>\n",
              "      <td>D1</td>\n",
              "      <td>972f41291</td>\n",
              "      <td>-0.8598</td>\n",
              "      <td>1.0240</td>\n",
              "      <td>-0.1361</td>\n",
              "      <td>0.7952</td>\n",
              "      <td>-0.3611</td>\n",
              "      <td>...</td>\n",
              "      <td>-3.3890</td>\n",
              "      <td>-1.7450</td>\n",
              "      <td>-6.6300</td>\n",
              "      <td>-4.0950</td>\n",
              "      <td>-7.3860</td>\n",
              "      <td>-1.4160</td>\n",
              "      <td>-3.5770</td>\n",
              "      <td>-0.4775</td>\n",
              "      <td>-2.1500</td>\n",
              "      <td>-4.2520</td>\n",
              "    </tr>\n",
              "  </tbody>\n",
              "</table>\n",
              "<p>23814 rows × 877 columns</p>\n",
              "</div>\n",
              "      <button class=\"colab-df-convert\" onclick=\"convertToInteractive('df-a6c31f13-cdec-4a27-92a5-4bda3536bdb0')\"\n",
              "              title=\"Convert this dataframe to an interactive table.\"\n",
              "              style=\"display:none;\">\n",
              "        \n",
              "  <svg xmlns=\"http://www.w3.org/2000/svg\" height=\"24px\"viewBox=\"0 0 24 24\"\n",
              "       width=\"24px\">\n",
              "    <path d=\"M0 0h24v24H0V0z\" fill=\"none\"/>\n",
              "    <path d=\"M18.56 5.44l.94 2.06.94-2.06 2.06-.94-2.06-.94-.94-2.06-.94 2.06-2.06.94zm-11 1L8.5 8.5l.94-2.06 2.06-.94-2.06-.94L8.5 2.5l-.94 2.06-2.06.94zm10 10l.94 2.06.94-2.06 2.06-.94-2.06-.94-.94-2.06-.94 2.06-2.06.94z\"/><path d=\"M17.41 7.96l-1.37-1.37c-.4-.4-.92-.59-1.43-.59-.52 0-1.04.2-1.43.59L10.3 9.45l-7.72 7.72c-.78.78-.78 2.05 0 2.83L4 21.41c.39.39.9.59 1.41.59.51 0 1.02-.2 1.41-.59l7.78-7.78 2.81-2.81c.8-.78.8-2.07 0-2.86zM5.41 20L4 18.59l7.72-7.72 1.47 1.35L5.41 20z\"/>\n",
              "  </svg>\n",
              "      </button>\n",
              "      \n",
              "  <style>\n",
              "    .colab-df-container {\n",
              "      display:flex;\n",
              "      flex-wrap:wrap;\n",
              "      gap: 12px;\n",
              "    }\n",
              "\n",
              "    .colab-df-convert {\n",
              "      background-color: #E8F0FE;\n",
              "      border: none;\n",
              "      border-radius: 50%;\n",
              "      cursor: pointer;\n",
              "      display: none;\n",
              "      fill: #1967D2;\n",
              "      height: 32px;\n",
              "      padding: 0 0 0 0;\n",
              "      width: 32px;\n",
              "    }\n",
              "\n",
              "    .colab-df-convert:hover {\n",
              "      background-color: #E2EBFA;\n",
              "      box-shadow: 0px 1px 2px rgba(60, 64, 67, 0.3), 0px 1px 3px 1px rgba(60, 64, 67, 0.15);\n",
              "      fill: #174EA6;\n",
              "    }\n",
              "\n",
              "    [theme=dark] .colab-df-convert {\n",
              "      background-color: #3B4455;\n",
              "      fill: #D2E3FC;\n",
              "    }\n",
              "\n",
              "    [theme=dark] .colab-df-convert:hover {\n",
              "      background-color: #434B5C;\n",
              "      box-shadow: 0px 1px 3px 1px rgba(0, 0, 0, 0.15);\n",
              "      filter: drop-shadow(0px 1px 2px rgba(0, 0, 0, 0.3));\n",
              "      fill: #FFFFFF;\n",
              "    }\n",
              "  </style>\n",
              "\n",
              "      <script>\n",
              "        const buttonEl =\n",
              "          document.querySelector('#df-a6c31f13-cdec-4a27-92a5-4bda3536bdb0 button.colab-df-convert');\n",
              "        buttonEl.style.display =\n",
              "          google.colab.kernel.accessAllowed ? 'block' : 'none';\n",
              "\n",
              "        async function convertToInteractive(key) {\n",
              "          const element = document.querySelector('#df-a6c31f13-cdec-4a27-92a5-4bda3536bdb0');\n",
              "          const dataTable =\n",
              "            await google.colab.kernel.invokeFunction('convertToInteractive',\n",
              "                                                     [key], {});\n",
              "          if (!dataTable) return;\n",
              "\n",
              "          const docLinkHtml = 'Like what you see? Visit the ' +\n",
              "            '<a target=\"_blank\" href=https://colab.research.google.com/notebooks/data_table.ipynb>data table notebook</a>'\n",
              "            + ' to learn more about interactive tables.';\n",
              "          element.innerHTML = '';\n",
              "          dataTable['output_type'] = 'display_data';\n",
              "          await google.colab.output.renderOutput(dataTable, element);\n",
              "          const docLink = document.createElement('div');\n",
              "          docLink.innerHTML = docLinkHtml;\n",
              "          element.appendChild(docLink);\n",
              "        }\n",
              "      </script>\n",
              "    </div>\n",
              "  </div>\n",
              "  "
            ]
          },
          "metadata": {},
          "execution_count": 55
        }
      ]
    },
    {
      "cell_type": "markdown",
      "source": [
        "### Entendendo nossos dados"
      ],
      "metadata": {
        "id": "k7Tvd_vAyoik"
      }
    },
    {
      "cell_type": "code",
      "source": [
        "dados['tratamento'].unique()"
      ],
      "metadata": {
        "colab": {
          "base_uri": "https://localhost:8080/"
        },
        "id": "A3fjwDxAylWU",
        "outputId": "67df9210-6a95-4c71-d862-077d9c9787c9"
      },
      "execution_count": 56,
      "outputs": [
        {
          "output_type": "execute_result",
          "data": {
            "text/plain": [
              "array(['com_droga', 'com_controle'], dtype=object)"
            ]
          },
          "metadata": {},
          "execution_count": 56
        }
      ]
    },
    {
      "cell_type": "code",
      "source": [
        "dados['tempo'].unique()"
      ],
      "metadata": {
        "colab": {
          "base_uri": "https://localhost:8080/"
        },
        "id": "E5OrQih4ywui",
        "outputId": "be2f529b-da74-417c-e04f-9f59097f9ace"
      },
      "execution_count": 57,
      "outputs": [
        {
          "output_type": "execute_result",
          "data": {
            "text/plain": [
              "array([24, 72, 48])"
            ]
          },
          "metadata": {},
          "execution_count": 57
        }
      ]
    },
    {
      "cell_type": "code",
      "source": [
        "dados['dose'].unique()"
      ],
      "metadata": {
        "colab": {
          "base_uri": "https://localhost:8080/"
        },
        "id": "HxT4NcXhy0X8",
        "outputId": "99bd716f-0a7d-4d1c-af76-29a7c66cfa2f"
      },
      "execution_count": 58,
      "outputs": [
        {
          "output_type": "execute_result",
          "data": {
            "text/plain": [
              "array(['D1', 'D2'], dtype=object)"
            ]
          },
          "metadata": {},
          "execution_count": 58
        }
      ]
    },
    {
      "cell_type": "code",
      "source": [
        "dados['composto'].nunique()"
      ],
      "metadata": {
        "colab": {
          "base_uri": "https://localhost:8080/"
        },
        "id": "9lM6Qh9Iy4lL",
        "outputId": "5928a2af-bd84-4aac-a0fc-f1725a945fe5"
      },
      "execution_count": 59,
      "outputs": [
        {
          "output_type": "execute_result",
          "data": {
            "text/plain": [
              "3289"
            ]
          },
          "metadata": {},
          "execution_count": 59
        }
      ]
    },
    {
      "cell_type": "code",
      "source": [
        "dados['tratamento'].value_counts()"
      ],
      "metadata": {
        "colab": {
          "base_uri": "https://localhost:8080/"
        },
        "id": "huHZZqTRzOQx",
        "outputId": "3b7ed355-38cd-417d-c634-b71f6c4b3b5a"
      },
      "execution_count": 60,
      "outputs": [
        {
          "output_type": "execute_result",
          "data": {
            "text/plain": [
              "com_droga       21948\n",
              "com_controle     1866\n",
              "Name: tratamento, dtype: int64"
            ]
          },
          "metadata": {},
          "execution_count": 60
        }
      ]
    },
    {
      "cell_type": "code",
      "source": [
        "sns.countplot(x='tratamento', \n",
        "    data=dados, \n",
        "    palette='Reds', \n",
        "    order=dados['tratamento'].value_counts().index).set_title(\"Quantidade de tratamentos\");"
      ],
      "metadata": {
        "colab": {
          "base_uri": "https://localhost:8080/",
          "height": 296
        },
        "id": "x8DatrVrzVxG",
        "outputId": "b77ceade-5f6e-4352-d3e8-cefac2c8aceb"
      },
      "execution_count": 61,
      "outputs": [
        {
          "output_type": "display_data",
          "data": {
            "text/plain": [
              "<Figure size 432x288 with 1 Axes>"
            ],
            "image/png": "[encoded data removed]"
          },
          "metadata": {
            "needs_background": "light"
          }
        }
      ]
    },
    {
      "cell_type": "code",
      "source": [
        "dados.query('tratamento == \"com_controle\"')"
      ],
      "metadata": {
        "colab": {
          "base_uri": "https://localhost:8080/",
          "height": 488
        },
        "id": "x5FpzUGSzkDX",
        "outputId": "c202c60b-8161-498b-e5a2-d0e717866b7a"
      },
      "execution_count": 62,
      "outputs": [
        {
          "output_type": "execute_result",
          "data": {
            "text/plain": [
              "                 id    tratamento  tempo dose   composto     g-0     g-1  \\\n",
              "25     id_0054388ec  com_controle     48   D1  cacb2b860 -0.6696 -0.2718   \n",
              "38     id_0079af0fb  com_controle     24   D1  cacb2b860 -0.1636 -1.8230   \n",
              "40     id_007bfbb91  com_controle     24   D2  cacb2b860 -1.3200 -1.7340   \n",
              "47     id_008a986b7  com_controle     48   D2  cacb2b860  0.4860  0.1430   \n",
              "63     id_009d8340f  com_controle     24   D2  cacb2b860  0.4471 -0.0839   \n",
              "...             ...           ...    ...  ...        ...     ...     ...   \n",
              "23729  id_ff1f9e5fc  com_controle     24   D1  cacb2b860  0.0465  0.6430   \n",
              "23747  id_ff469c482  com_controle     72   D1  cacb2b860 -0.6204 -1.3800   \n",
              "23768  id_ff89331ca  com_controle     72   D2  cacb2b860 -0.1051  0.4335   \n",
              "23793  id_ffd26f361  com_controle     48   D2  cacb2b860  0.6008  0.2781   \n",
              "23811  id_fffc1c3f4  com_controle     48   D2  cacb2b860  0.3942  0.3756   \n",
              "\n",
              "          g-2     g-3     g-4  ...    c-90    c-91    c-92    c-93    c-94  \\\n",
              "25    -1.2230 -0.6226 -0.7220  ...  0.6171  0.6405  0.5429  0.3562  1.3290   \n",
              "38    -0.5211  0.3054 -1.1280  ... -0.3880 -0.6828 -0.6594 -0.2043  0.3571   \n",
              "40    -0.0741  1.5440 -1.8290  ...  0.7412  1.0340  0.7393  1.1020  0.3786   \n",
              "47     0.5281 -0.0022 -0.2334  ... -0.3085 -0.1866  0.7629  0.3288 -0.9915   \n",
              "63    -0.3864  0.3196  0.2584  ...  0.4795  0.3939  0.7665  0.7932 -0.6804   \n",
              "...       ...     ...     ...  ...     ...     ...     ...     ...     ...   \n",
              "23729 -0.2453  0.3521  0.6195  ...  0.6085  0.1621 -0.2065  0.8314 -0.1891   \n",
              "23747 -1.1880 -0.6573 -0.8408  ...  0.8209  0.7366  0.5468  1.1450  0.5254   \n",
              "23768  0.3648 -0.0525 -0.3632  ... -0.1219  0.4885  0.4963  0.9434 -0.4779   \n",
              "23793 -0.3319 -0.8782  0.9281  ...  1.2470  0.9569 -0.2065 -0.4918  0.7863   \n",
              "23811  0.3109 -0.7389  0.5505  ...  0.5409  0.3755  0.7343  0.2807  0.4116   \n",
              "\n",
              "         c-95    c-96    c-97    c-98    c-99  \n",
              "25     0.5573  0.8837  0.5534  0.8976  1.0050  \n",
              "38    -0.1319  0.2187  0.0737  0.6498 -1.4820  \n",
              "40     0.2636 -0.5751  0.3362  0.8543  0.9180  \n",
              "47    -0.3694 -0.4979  0.5281 -0.9245 -0.9367  \n",
              "63    -0.0435  0.0949  0.2000 -0.4326  0.9364  \n",
              "...       ...     ...     ...     ...     ...  \n",
              "23729 -0.0074  0.2131 -0.1419 -0.2422  0.0457  \n",
              "23747  0.6224 -0.9630  0.8872 -0.0742 -0.6777  \n",
              "23768  0.6951  0.9517 -0.8110 -0.1748 -0.3626  \n",
              "23793  0.0504  0.8813  0.7757 -0.5272  0.7082  \n",
              "23811  0.6422  0.2256  0.7592  0.6656  0.3808  \n",
              "\n",
              "[1866 rows x 877 columns]"
            ],
            "text/html": [
              "\n",
              "  <div id=\"df-1237ad3f-4b26-481f-92ef-8d38cfa74325\">\n",
              "    <div class=\"colab-df-container\">\n",
              "      <div>\n",
              "<style scoped>\n",
              "    .dataframe tbody tr th:only-of-type {\n",
              "        vertical-align: middle;\n",
              "    }\n",
              "\n",
              "    .dataframe tbody tr th {\n",
              "        vertical-align: top;\n",
              "    }\n",
              "\n",
              "    .dataframe thead th {\n",
              "        text-align: right;\n",
              "    }\n",
              "</style>\n",
              "<table border=\"1\" class=\"dataframe\">\n",
              "  <thead>\n",
              "    <tr style=\"text-align: right;\">\n",
              "      <th></th>\n",
              "      <th>id</th>\n",
              "      <th>tratamento</th>\n",
              "      <th>tempo</th>\n",
              "      <th>dose</th>\n",
              "      <th>composto</th>\n",
              "      <th>g-0</th>\n",
              "      <th>g-1</th>\n",
              "      <th>g-2</th>\n",
              "      <th>g-3</th>\n",
              "      <th>g-4</th>\n",
              "      <th>...</th>\n",
              "      <th>c-90</th>\n",
              "      <th>c-91</th>\n",
              "      <th>c-92</th>\n",
              "      <th>c-93</th>\n",
              "      <th>c-94</th>\n",
              "      <th>c-95</th>\n",
              "      <th>c-96</th>\n",
              "      <th>c-97</th>\n",
              "      <th>c-98</th>\n",
              "      <th>c-99</th>\n",
              "    </tr>\n",
              "  </thead>\n",
              "  <tbody>\n",
              "    <tr>\n",
              "      <th>25</th>\n",
              "      <td>id_0054388ec</td>\n",
              "      <td>com_controle</td>\n",
              "      <td>48</td>\n",
              "      <td>D1</td>\n",
              "      <td>cacb2b860</td>\n",
              "      <td>-0.6696</td>\n",
              "      <td>-0.2718</td>\n",
              "      <td>-1.2230</td>\n",
              "      <td>-0.6226</td>\n",
              "      <td>-0.7220</td>\n",
              "      <td>...</td>\n",
              "      <td>0.6171</td>\n",
              "      <td>0.6405</td>\n",
              "      <td>0.5429</td>\n",
              "      <td>0.3562</td>\n",
              "      <td>1.3290</td>\n",
              "      <td>0.5573</td>\n",
              "      <td>0.8837</td>\n",
              "      <td>0.5534</td>\n",
              "      <td>0.8976</td>\n",
              "      <td>1.0050</td>\n",
              "    </tr>\n",
              "    <tr>\n",
              "      <th>38</th>\n",
              "      <td>id_0079af0fb</td>\n",
              "      <td>com_controle</td>\n",
              "      <td>24</td>\n",
              "      <td>D1</td>\n",
              "      <td>cacb2b860</td>\n",
              "      <td>-0.1636</td>\n",
              "      <td>-1.8230</td>\n",
              "      <td>-0.5211</td>\n",
              "      <td>0.3054</td>\n",
              "      <td>-1.1280</td>\n",
              "      <td>...</td>\n",
              "      <td>-0.3880</td>\n",
              "      <td>-0.6828</td>\n",
              "      <td>-0.6594</td>\n",
              "      <td>-0.2043</td>\n",
              "      <td>0.3571</td>\n",
              "      <td>-0.1319</td>\n",
              "      <td>0.2187</td>\n",
              "      <td>0.0737</td>\n",
              "      <td>0.6498</td>\n",
              "      <td>-1.4820</td>\n",
              "    </tr>\n",
              "    <tr>\n",
              "      <th>40</th>\n",
              "      <td>id_007bfbb91</td>\n",
              "      <td>com_controle</td>\n",
              "      <td>24</td>\n",
              "      <td>D2</td>\n",
              "      <td>cacb2b860</td>\n",
              "      <td>-1.3200</td>\n",
              "      <td>-1.7340</td>\n",
              "      <td>-0.0741</td>\n",
              "      <td>1.5440</td>\n",
              "      <td>-1.8290</td>\n",
              "      <td>...</td>\n",
              "      <td>0.7412</td>\n",
              "      <td>1.0340</td>\n",
              "      <td>0.7393</td>\n",
              "      <td>1.1020</td>\n",
              "      <td>0.3786</td>\n",
              "      <td>0.2636</td>\n",
              "      <td>-0.5751</td>\n",
              "      <td>0.3362</td>\n",
              "      <td>0.8543</td>\n",
              "      <td>0.9180</td>\n",
              "    </tr>\n",
              "    <tr>\n",
              "      <th>47</th>\n",
              "      <td>id_008a986b7</td>\n",
              "      <td>com_controle</td>\n",
              "      <td>48</td>\n",
              "      <td>D2</td>\n",
              "      <td>cacb2b860</td>\n",
              "      <td>0.4860</td>\n",
              "      <td>0.1430</td>\n",
              "      <td>0.5281</td>\n",
              "      <td>-0.0022</td>\n",
              "      <td>-0.2334</td>\n",
              "      <td>...</td>\n",
              "      <td>-0.3085</td>\n",
              "      <td>-0.1866</td>\n",
              "      <td>0.7629</td>\n",
              "      <td>0.3288</td>\n",
              "      <td>-0.9915</td>\n",
              "      <td>-0.3694</td>\n",
              "      <td>-0.4979</td>\n",
              "      <td>0.5281</td>\n",
              "      <td>-0.9245</td>\n",
              "      <td>-0.9367</td>\n",
              "    </tr>\n",
              "    <tr>\n",
              "      <th>63</th>\n",
              "      <td>id_009d8340f</td>\n",
              "      <td>com_controle</td>\n",
              "      <td>24</td>\n",
              "      <td>D2</td>\n",
              "      <td>cacb2b860</td>\n",
              "      <td>0.4471</td>\n",
              "      <td>-0.0839</td>\n",
              "      <td>-0.3864</td>\n",
              "      <td>0.3196</td>\n",
              "      <td>0.2584</td>\n",
              "      <td>...</td>\n",
              "      <td>0.4795</td>\n",
              "      <td>0.3939</td>\n",
              "      <td>0.7665</td>\n",
              "      <td>0.7932</td>\n",
              "      <td>-0.6804</td>\n",
              "      <td>-0.0435</td>\n",
              "      <td>0.0949</td>\n",
              "      <td>0.2000</td>\n",
              "      <td>-0.4326</td>\n",
              "      <td>0.9364</td>\n",
              "    </tr>\n",
              "    <tr>\n",
              "      <th>...</th>\n",
              "      <td>...</td>\n",
              "      <td>...</td>\n",
              "      <td>...</td>\n",
              "      <td>...</td>\n",
              "      <td>...</td>\n",
              "      <td>...</td>\n",
              "      <td>...</td>\n",
              "      <td>...</td>\n",
              "      <td>...</td>\n",
              "      <td>...</td>\n",
              "      <td>...</td>\n",
              "      <td>...</td>\n",
              "      <td>...</td>\n",
              "      <td>...</td>\n",
              "      <td>...</td>\n",
              "      <td>...</td>\n",
              "      <td>...</td>\n",
              "      <td>...</td>\n",
              "      <td>...</td>\n",
              "      <td>...</td>\n",
              "      <td>...</td>\n",
              "    </tr>\n",
              "    <tr>\n",
              "      <th>23729</th>\n",
              "      <td>id_ff1f9e5fc</td>\n",
              "      <td>com_controle</td>\n",
              "      <td>24</td>\n",
              "      <td>D1</td>\n",
              "      <td>cacb2b860</td>\n",
              "      <td>0.0465</td>\n",
              "      <td>0.6430</td>\n",
              "      <td>-0.2453</td>\n",
              "      <td>0.3521</td>\n",
              "      <td>0.6195</td>\n",
              "      <td>...</td>\n",
              "      <td>0.6085</td>\n",
              "      <td>0.1621</td>\n",
              "      <td>-0.2065</td>\n",
              "      <td>0.8314</td>\n",
              "      <td>-0.1891</td>\n",
              "      <td>-0.0074</td>\n",
              "      <td>0.2131</td>\n",
              "      <td>-0.1419</td>\n",
              "      <td>-0.2422</td>\n",
              "      <td>0.0457</td>\n",
              "    </tr>\n",
              "    <tr>\n",
              "      <th>23747</th>\n",
              "      <td>id_ff469c482</td>\n",
              "      <td>com_controle</td>\n",
              "      <td>72</td>\n",
              "      <td>D1</td>\n",
              "      <td>cacb2b860</td>\n",
              "      <td>-0.6204</td>\n",
              "      <td>-1.3800</td>\n",
              "      <td>-1.1880</td>\n",
              "      <td>-0.6573</td>\n",
              "      <td>-0.8408</td>\n",
              "      <td>...</td>\n",
              "      <td>0.8209</td>\n",
              "      <td>0.7366</td>\n",
              "      <td>0.5468</td>\n",
              "      <td>1.1450</td>\n",
              "      <td>0.5254</td>\n",
              "      <td>0.6224</td>\n",
              "      <td>-0.9630</td>\n",
              "      <td>0.8872</td>\n",
              "      <td>-0.0742</td>\n",
              "      <td>-0.6777</td>\n",
              "    </tr>\n",
              "    <tr>\n",
              "      <th>23768</th>\n",
              "      <td>id_ff89331ca</td>\n",
              "      <td>com_controle</td>\n",
              "      <td>72</td>\n",
              "      <td>D2</td>\n",
              "      <td>cacb2b860</td>\n",
              "      <td>-0.1051</td>\n",
              "      <td>0.4335</td>\n",
              "      <td>0.3648</td>\n",
              "      <td>-0.0525</td>\n",
              "      <td>-0.3632</td>\n",
              "      <td>...</td>\n",
              "      <td>-0.1219</td>\n",
              "      <td>0.4885</td>\n",
              "      <td>0.4963</td>\n",
              "      <td>0.9434</td>\n",
              "      <td>-0.4779</td>\n",
              "      <td>0.6951</td>\n",
              "      <td>0.9517</td>\n",
              "      <td>-0.8110</td>\n",
              "      <td>-0.1748</td>\n",
              "      <td>-0.3626</td>\n",
              "    </tr>\n",
              "    <tr>\n",
              "      <th>23793</th>\n",
              "      <td>id_ffd26f361</td>\n",
              "      <td>com_controle</td>\n",
              "      <td>48</td>\n",
              "      <td>D2</td>\n",
              "      <td>cacb2b860</td>\n",
              "      <td>0.6008</td>\n",
              "      <td>0.2781</td>\n",
              "      <td>-0.3319</td>\n",
              "      <td>-0.8782</td>\n",
              "      <td>0.9281</td>\n",
              "      <td>...</td>\n",
              "      <td>1.2470</td>\n",
              "      <td>0.9569</td>\n",
              "      <td>-0.2065</td>\n",
              "      <td>-0.4918</td>\n",
              "      <td>0.7863</td>\n",
              "      <td>0.0504</td>\n",
              "      <td>0.8813</td>\n",
              "      <td>0.7757</td>\n",
              "      <td>-0.5272</td>\n",
              "      <td>0.7082</td>\n",
              "    </tr>\n",
              "    <tr>\n",
              "      <th>23811</th>\n",
              "      <td>id_fffc1c3f4</td>\n",
              "      <td>com_controle</td>\n",
              "      <td>48</td>\n",
              "      <td>D2</td>\n",
              "      <td>cacb2b860</td>\n",
              "      <td>0.3942</td>\n",
              "      <td>0.3756</td>\n",
              "      <td>0.3109</td>\n",
              "      <td>-0.7389</td>\n",
              "      <td>0.5505</td>\n",
              "      <td>...</td>\n",
              "      <td>0.5409</td>\n",
              "      <td>0.3755</td>\n",
              "      <td>0.7343</td>\n",
              "      <td>0.2807</td>\n",
              "      <td>0.4116</td>\n",
              "      <td>0.6422</td>\n",
              "      <td>0.2256</td>\n",
              "      <td>0.7592</td>\n",
              "      <td>0.6656</td>\n",
              "      <td>0.3808</td>\n",
              "    </tr>\n",
              "  </tbody>\n",
              "</table>\n",
              "<p>1866 rows × 877 columns</p>\n",
              "</div>\n",
              "      <button class=\"colab-df-convert\" onclick=\"convertToInteractive('df-1237ad3f-4b26-481f-92ef-8d38cfa74325')\"\n",
              "              title=\"Convert this dataframe to an interactive table.\"\n",
              "              style=\"display:none;\">\n",
              "        \n",
              "  <svg xmlns=\"http://www.w3.org/2000/svg\" height=\"24px\"viewBox=\"0 0 24 24\"\n",
              "       width=\"24px\">\n",
              "    <path d=\"M0 0h24v24H0V0z\" fill=\"none\"/>\n",
              "    <path d=\"M18.56 5.44l.94 2.06.94-2.06 2.06-.94-2.06-.94-.94-2.06-.94 2.06-2.06.94zm-11 1L8.5 8.5l.94-2.06 2.06-.94-2.06-.94L8.5 2.5l-.94 2.06-2.06.94zm10 10l.94 2.06.94-2.06 2.06-.94-2.06-.94-.94-2.06-.94 2.06-2.06.94z\"/><path d=\"M17.41 7.96l-1.37-1.37c-.4-.4-.92-.59-1.43-.59-.52 0-1.04.2-1.43.59L10.3 9.45l-7.72 7.72c-.78.78-.78 2.05 0 2.83L4 21.41c.39.39.9.59 1.41.59.51 0 1.02-.2 1.41-.59l7.78-7.78 2.81-2.81c.8-.78.8-2.07 0-2.86zM5.41 20L4 18.59l7.72-7.72 1.47 1.35L5.41 20z\"/>\n",
              "  </svg>\n",
              "      </button>\n",
              "      \n",
              "  <style>\n",
              "    .colab-df-container {\n",
              "      display:flex;\n",
              "      flex-wrap:wrap;\n",
              "      gap: 12px;\n",
              "    }\n",
              "\n",
              "    .colab-df-convert {\n",
              "      background-color: #E8F0FE;\n",
              "      border: none;\n",
              "      border-radius: 50%;\n",
              "      cursor: pointer;\n",
              "      display: none;\n",
              "      fill: #1967D2;\n",
              "      height: 32px;\n",
              "      padding: 0 0 0 0;\n",
              "      width: 32px;\n",
              "    }\n",
              "\n",
              "    .colab-df-convert:hover {\n",
              "      background-color: #E2EBFA;\n",
              "      box-shadow: 0px 1px 2px rgba(60, 64, 67, 0.3), 0px 1px 3px 1px rgba(60, 64, 67, 0.15);\n",
              "      fill: #174EA6;\n",
              "    }\n",
              "\n",
              "    [theme=dark] .colab-df-convert {\n",
              "      background-color: #3B4455;\n",
              "      fill: #D2E3FC;\n",
              "    }\n",
              "\n",
              "    [theme=dark] .colab-df-convert:hover {\n",
              "      background-color: #434B5C;\n",
              "      box-shadow: 0px 1px 3px 1px rgba(0, 0, 0, 0.15);\n",
              "      filter: drop-shadow(0px 1px 2px rgba(0, 0, 0, 0.3));\n",
              "      fill: #FFFFFF;\n",
              "    }\n",
              "  </style>\n",
              "\n",
              "      <script>\n",
              "        const buttonEl =\n",
              "          document.querySelector('#df-1237ad3f-4b26-481f-92ef-8d38cfa74325 button.colab-df-convert');\n",
              "        buttonEl.style.display =\n",
              "          google.colab.kernel.accessAllowed ? 'block' : 'none';\n",
              "\n",
              "        async function convertToInteractive(key) {\n",
              "          const element = document.querySelector('#df-1237ad3f-4b26-481f-92ef-8d38cfa74325');\n",
              "          const dataTable =\n",
              "            await google.colab.kernel.invokeFunction('convertToInteractive',\n",
              "                                                     [key], {});\n",
              "          if (!dataTable) return;\n",
              "\n",
              "          const docLinkHtml = 'Like what you see? Visit the ' +\n",
              "            '<a target=\"_blank\" href=https://colab.research.google.com/notebooks/data_table.ipynb>data table notebook</a>'\n",
              "            + ' to learn more about interactive tables.';\n",
              "          element.innerHTML = '';\n",
              "          dataTable['output_type'] = 'display_data';\n",
              "          await google.colab.output.renderOutput(dataTable, element);\n",
              "          const docLink = document.createElement('div');\n",
              "          docLink.innerHTML = docLinkHtml;\n",
              "          element.appendChild(docLink);\n",
              "        }\n",
              "      </script>\n",
              "    </div>\n",
              "  </div>\n",
              "  "
            ]
          },
          "metadata": {},
          "execution_count": 62
        }
      ]
    },
    {
      "cell_type": "markdown",
      "source": [
        "Ao realizarmos uma filtragem utilizando o comando query, podemos observar que as amostras controles retornam o mesmo valor em todos os campos da coluna composto: cacb2b860. Provavelmente cacb2b860 seja o diluente/veículo utilizado para diluir os compostos testados, que foi utilizado como controle para visualizar se o diluente por si só não estava causando efeito biológico. "
      ],
      "metadata": {
        "id": "VAu_d8kLzyBW"
      }
    },
    {
      "cell_type": "code",
      "source": [
        "sns.countplot(x='dose', \n",
        "    data=dados, \n",
        "    palette='Reds', \n",
        "    order=dados['dose'].value_counts().index).set_title(\"Quantidade de amostras referente às doses\")"
      ],
      "metadata": {
        "colab": {
          "base_uri": "https://localhost:8080/",
          "height": 312
        },
        "id": "h0XQiCmwz3OA",
        "outputId": "c483925e-3702-41fa-8796-c1bd801c14f9"
      },
      "execution_count": 63,
      "outputs": [
        {
          "output_type": "execute_result",
          "data": {
            "text/plain": [
              "Text(0.5, 1.0, 'Quantidade de amostras referente às doses')"
            ]
          },
          "metadata": {},
          "execution_count": 63
        },
        {
          "output_type": "display_data",
          "data": {
            "text/plain": [
              "<Figure size 432x288 with 1 Axes>"
            ],
            "image/png": "[encoded data removed]"
          },
          "metadata": {
            "needs_background": "light"
          }
        }
      ]
    },
    {
      "cell_type": "code",
      "source": [
        "sns.countplot(x=\"tempo\", data=dados, palette='Reds').set_title(\"Tempos de tratamento\")"
      ],
      "metadata": {
        "colab": {
          "base_uri": "https://localhost:8080/",
          "height": 312
        },
        "id": "8F1rmy4cz9c2",
        "outputId": "762c30fd-8b8b-4f5e-d68c-803d7e410d36"
      },
      "execution_count": 64,
      "outputs": [
        {
          "output_type": "execute_result",
          "data": {
            "text/plain": [
              "Text(0.5, 1.0, 'Tempos de tratamento')"
            ]
          },
          "metadata": {},
          "execution_count": 64
        },
        {
          "output_type": "display_data",
          "data": {
            "text/plain": [
              "<Figure size 432x288 with 1 Axes>"
            ],
            "image/png": "[encoded data removed]"
          },
          "metadata": {
            "needs_background": "light"
          }
        }
      ]
    },
    {
      "cell_type": "code",
      "source": [
        "dados.describe()"
      ],
      "metadata": {
        "colab": {
          "base_uri": "https://localhost:8080/",
          "height": 394
        },
        "id": "xZtIS1IX0WQQ",
        "outputId": "32bc02e3-7384-4cb8-c7fc-095e2604b1a8"
      },
      "execution_count": 65,
      "outputs": [
        {
          "output_type": "execute_result",
          "data": {
            "text/plain": [
              "              tempo           g-0           g-1           g-2           g-3  \\\n",
              "count  23814.000000  23814.000000  23814.000000  23814.000000  23814.000000   \n",
              "mean      48.020156      0.248366     -0.095684      0.152253      0.081971   \n",
              "std       19.402807      1.393399      0.812363      1.035731      0.950012   \n",
              "min       24.000000     -5.513000     -5.737000     -9.104000     -5.998000   \n",
              "25%       24.000000     -0.473075     -0.562200     -0.437750     -0.429575   \n",
              "50%       48.000000     -0.008850     -0.046600      0.075200      0.008050   \n",
              "75%       72.000000      0.525700      0.403075      0.663925      0.463400   \n",
              "max       72.000000     10.000000      5.039000      8.257000     10.000000   \n",
              "\n",
              "                g-4           g-5           g-6           g-7           g-8  \\\n",
              "count  23814.000000  23814.000000  23814.000000  23814.000000  23814.000000   \n",
              "mean       0.057347     -0.138836      0.035961     -0.202651     -0.190083   \n",
              "std        1.032091      1.179388      0.882395      1.125494      1.749885   \n",
              "min       -6.369000    -10.000000    -10.000000    -10.000000    -10.000000   \n",
              "25%       -0.470925     -0.602225     -0.493900     -0.525175     -0.511675   \n",
              "50%       -0.026900     -0.015650     -0.000650     -0.017900      0.010000   \n",
              "75%        0.465375      0.510425      0.528725      0.411900      0.549225   \n",
              "max       10.000000      7.282000      7.333000      5.473000      8.887000   \n",
              "\n",
              "       ...          c-90          c-91          c-92          c-93  \\\n",
              "count  ...  23814.000000  23814.000000  23814.000000  23814.000000   \n",
              "mean   ...     -0.469244     -0.461411     -0.513256     -0.500142   \n",
              "std    ...      2.000488      2.042475      2.001714      2.107105   \n",
              "min    ...    -10.000000    -10.000000    -10.000000    -10.000000   \n",
              "25%    ...     -0.566175     -0.565975     -0.589975     -0.568700   \n",
              "50%    ...     -0.009900      0.003250     -0.009100     -0.013750   \n",
              "75%    ...      0.457750      0.461500      0.445675      0.452900   \n",
              "max    ...      4.069000      3.960000      3.927000      3.596000   \n",
              "\n",
              "               c-94          c-95          c-96          c-97          c-98  \\\n",
              "count  23814.000000  23814.000000  23814.000000  23814.000000  23814.000000   \n",
              "mean      -0.507093     -0.353726     -0.463485     -0.378241     -0.470252   \n",
              "std        2.159589      1.629291      2.059725      1.703615      1.834828   \n",
              "min      -10.000000    -10.000000    -10.000000    -10.000000    -10.000000   \n",
              "25%       -0.563775     -0.567975     -0.552575     -0.561000     -0.592600   \n",
              "50%       -0.003300     -0.010250     -0.001250     -0.006800      0.014000   \n",
              "75%        0.470900      0.444750      0.465225      0.446400      0.461275   \n",
              "max        3.747000      2.814000      3.505000      2.924000      3.111000   \n",
              "\n",
              "               c-99  \n",
              "count  23814.000000  \n",
              "mean      -0.301505  \n",
              "std        1.407918  \n",
              "min      -10.000000  \n",
              "25%       -0.562900  \n",
              "50%       -0.019500  \n",
              "75%        0.438650  \n",
              "max        3.805000  \n",
              "\n",
              "[8 rows x 873 columns]"
            ],
            "text/html": [
              "\n",
              "  <div id=\"df-981ac810-d138-4658-bb38-439a47fa5b58\">\n",
              "    <div class=\"colab-df-container\">\n",
              "      <div>\n",
              "<style scoped>\n",
              "    .dataframe tbody tr th:only-of-type {\n",
              "        vertical-align: middle;\n",
              "    }\n",
              "\n",
              "    .dataframe tbody tr th {\n",
              "        vertical-align: top;\n",
              "    }\n",
              "\n",
              "    .dataframe thead th {\n",
              "        text-align: right;\n",
              "    }\n",
              "</style>\n",
              "<table border=\"1\" class=\"dataframe\">\n",
              "  <thead>\n",
              "    <tr style=\"text-align: right;\">\n",
              "      <th></th>\n",
              "      <th>tempo</th>\n",
              "      <th>g-0</th>\n",
              "      <th>g-1</th>\n",
              "      <th>g-2</th>\n",
              "      <th>g-3</th>\n",
              "      <th>g-4</th>\n",
              "      <th>g-5</th>\n",
              "      <th>g-6</th>\n",
              "      <th>g-7</th>\n",
              "      <th>g-8</th>\n",
              "      <th>...</th>\n",
              "      <th>c-90</th>\n",
              "      <th>c-91</th>\n",
              "      <th>c-92</th>\n",
              "      <th>c-93</th>\n",
              "      <th>c-94</th>\n",
              "      <th>c-95</th>\n",
              "      <th>c-96</th>\n",
              "      <th>c-97</th>\n",
              "      <th>c-98</th>\n",
              "      <th>c-99</th>\n",
              "    </tr>\n",
              "  </thead>\n",
              "  <tbody>\n",
              "    <tr>\n",
              "      <th>count</th>\n",
              "      <td>23814.000000</td>\n",
              "      <td>23814.000000</td>\n",
              "      <td>23814.000000</td>\n",
              "      <td>23814.000000</td>\n",
              "      <td>23814.000000</td>\n",
              "      <td>23814.000000</td>\n",
              "      <td>23814.000000</td>\n",
              "      <td>23814.000000</td>\n",
              "      <td>23814.000000</td>\n",
              "      <td>23814.000000</td>\n",
              "      <td>...</td>\n",
              "      <td>23814.000000</td>\n",
              "      <td>23814.000000</td>\n",
              "      <td>23814.000000</td>\n",
              "      <td>23814.000000</td>\n",
              "      <td>23814.000000</td>\n",
              "      <td>23814.000000</td>\n",
              "      <td>23814.000000</td>\n",
              "      <td>23814.000000</td>\n",
              "      <td>23814.000000</td>\n",
              "      <td>23814.000000</td>\n",
              "    </tr>\n",
              "    <tr>\n",
              "      <th>mean</th>\n",
              "      <td>48.020156</td>\n",
              "      <td>0.248366</td>\n",
              "      <td>-0.095684</td>\n",
              "      <td>0.152253</td>\n",
              "      <td>0.081971</td>\n",
              "      <td>0.057347</td>\n",
              "      <td>-0.138836</td>\n",
              "      <td>0.035961</td>\n",
              "      <td>-0.202651</td>\n",
              "      <td>-0.190083</td>\n",
              "      <td>...</td>\n",
              "      <td>-0.469244</td>\n",
              "      <td>-0.461411</td>\n",
              "      <td>-0.513256</td>\n",
              "      <td>-0.500142</td>\n",
              "      <td>-0.507093</td>\n",
              "      <td>-0.353726</td>\n",
              "      <td>-0.463485</td>\n",
              "      <td>-0.378241</td>\n",
              "      <td>-0.470252</td>\n",
              "      <td>-0.301505</td>\n",
              "    </tr>\n",
              "    <tr>\n",
              "      <th>std</th>\n",
              "      <td>19.402807</td>\n",
              "      <td>1.393399</td>\n",
              "      <td>0.812363</td>\n",
              "      <td>1.035731</td>\n",
              "      <td>0.950012</td>\n",
              "      <td>1.032091</td>\n",
              "      <td>1.179388</td>\n",
              "      <td>0.882395</td>\n",
              "      <td>1.125494</td>\n",
              "      <td>1.749885</td>\n",
              "      <td>...</td>\n",
              "      <td>2.000488</td>\n",
              "      <td>2.042475</td>\n",
              "      <td>2.001714</td>\n",
              "      <td>2.107105</td>\n",
              "      <td>2.159589</td>\n",
              "      <td>1.629291</td>\n",
              "      <td>2.059725</td>\n",
              "      <td>1.703615</td>\n",
              "      <td>1.834828</td>\n",
              "      <td>1.407918</td>\n",
              "    </tr>\n",
              "    <tr>\n",
              "      <th>min</th>\n",
              "      <td>24.000000</td>\n",
              "      <td>-5.513000</td>\n",
              "      <td>-5.737000</td>\n",
              "      <td>-9.104000</td>\n",
              "      <td>-5.998000</td>\n",
              "      <td>-6.369000</td>\n",
              "      <td>-10.000000</td>\n",
              "      <td>-10.000000</td>\n",
              "      <td>-10.000000</td>\n",
              "      <td>-10.000000</td>\n",
              "      <td>...</td>\n",
              "      <td>-10.000000</td>\n",
              "      <td>-10.000000</td>\n",
              "      <td>-10.000000</td>\n",
              "      <td>-10.000000</td>\n",
              "      <td>-10.000000</td>\n",
              "      <td>-10.000000</td>\n",
              "      <td>-10.000000</td>\n",
              "      <td>-10.000000</td>\n",
              "      <td>-10.000000</td>\n",
              "      <td>-10.000000</td>\n",
              "    </tr>\n",
              "    <tr>\n",
              "      <th>25%</th>\n",
              "      <td>24.000000</td>\n",
              "      <td>-0.473075</td>\n",
              "      <td>-0.562200</td>\n",
              "      <td>-0.437750</td>\n",
              "      <td>-0.429575</td>\n",
              "      <td>-0.470925</td>\n",
              "      <td>-0.602225</td>\n",
              "      <td>-0.493900</td>\n",
              "      <td>-0.525175</td>\n",
              "      <td>-0.511675</td>\n",
              "      <td>...</td>\n",
              "      <td>-0.566175</td>\n",
              "      <td>-0.565975</td>\n",
              "      <td>-0.589975</td>\n",
              "      <td>-0.568700</td>\n",
              "      <td>-0.563775</td>\n",
              "      <td>-0.567975</td>\n",
              "      <td>-0.552575</td>\n",
              "      <td>-0.561000</td>\n",
              "      <td>-0.592600</td>\n",
              "      <td>-0.562900</td>\n",
              "    </tr>\n",
              "    <tr>\n",
              "      <th>50%</th>\n",
              "      <td>48.000000</td>\n",
              "      <td>-0.008850</td>\n",
              "      <td>-0.046600</td>\n",
              "      <td>0.075200</td>\n",
              "      <td>0.008050</td>\n",
              "      <td>-0.026900</td>\n",
              "      <td>-0.015650</td>\n",
              "      <td>-0.000650</td>\n",
              "      <td>-0.017900</td>\n",
              "      <td>0.010000</td>\n",
              "      <td>...</td>\n",
              "      <td>-0.009900</td>\n",
              "      <td>0.003250</td>\n",
              "      <td>-0.009100</td>\n",
              "      <td>-0.013750</td>\n",
              "      <td>-0.003300</td>\n",
              "      <td>-0.010250</td>\n",
              "      <td>-0.001250</td>\n",
              "      <td>-0.006800</td>\n",
              "      <td>0.014000</td>\n",
              "      <td>-0.019500</td>\n",
              "    </tr>\n",
              "    <tr>\n",
              "      <th>75%</th>\n",
              "      <td>72.000000</td>\n",
              "      <td>0.525700</td>\n",
              "      <td>0.403075</td>\n",
              "      <td>0.663925</td>\n",
              "      <td>0.463400</td>\n",
              "      <td>0.465375</td>\n",
              "      <td>0.510425</td>\n",
              "      <td>0.528725</td>\n",
              "      <td>0.411900</td>\n",
              "      <td>0.549225</td>\n",
              "      <td>...</td>\n",
              "      <td>0.457750</td>\n",
              "      <td>0.461500</td>\n",
              "      <td>0.445675</td>\n",
              "      <td>0.452900</td>\n",
              "      <td>0.470900</td>\n",
              "      <td>0.444750</td>\n",
              "      <td>0.465225</td>\n",
              "      <td>0.446400</td>\n",
              "      <td>0.461275</td>\n",
              "      <td>0.438650</td>\n",
              "    </tr>\n",
              "    <tr>\n",
              "      <th>max</th>\n",
              "      <td>72.000000</td>\n",
              "      <td>10.000000</td>\n",
              "      <td>5.039000</td>\n",
              "      <td>8.257000</td>\n",
              "      <td>10.000000</td>\n",
              "      <td>10.000000</td>\n",
              "      <td>7.282000</td>\n",
              "      <td>7.333000</td>\n",
              "      <td>5.473000</td>\n",
              "      <td>8.887000</td>\n",
              "      <td>...</td>\n",
              "      <td>4.069000</td>\n",
              "      <td>3.960000</td>\n",
              "      <td>3.927000</td>\n",
              "      <td>3.596000</td>\n",
              "      <td>3.747000</td>\n",
              "      <td>2.814000</td>\n",
              "      <td>3.505000</td>\n",
              "      <td>2.924000</td>\n",
              "      <td>3.111000</td>\n",
              "      <td>3.805000</td>\n",
              "    </tr>\n",
              "  </tbody>\n",
              "</table>\n",
              "<p>8 rows × 873 columns</p>\n",
              "</div>\n",
              "      <button class=\"colab-df-convert\" onclick=\"convertToInteractive('df-981ac810-d138-4658-bb38-439a47fa5b58')\"\n",
              "              title=\"Convert this dataframe to an interactive table.\"\n",
              "              style=\"display:none;\">\n",
              "        \n",
              "  <svg xmlns=\"http://www.w3.org/2000/svg\" height=\"24px\"viewBox=\"0 0 24 24\"\n",
              "       width=\"24px\">\n",
              "    <path d=\"M0 0h24v24H0V0z\" fill=\"none\"/>\n",
              "    <path d=\"M18.56 5.44l.94 2.06.94-2.06 2.06-.94-2.06-.94-.94-2.06-.94 2.06-2.06.94zm-11 1L8.5 8.5l.94-2.06 2.06-.94-2.06-.94L8.5 2.5l-.94 2.06-2.06.94zm10 10l.94 2.06.94-2.06 2.06-.94-2.06-.94-.94-2.06-.94 2.06-2.06.94z\"/><path d=\"M17.41 7.96l-1.37-1.37c-.4-.4-.92-.59-1.43-.59-.52 0-1.04.2-1.43.59L10.3 9.45l-7.72 7.72c-.78.78-.78 2.05 0 2.83L4 21.41c.39.39.9.59 1.41.59.51 0 1.02-.2 1.41-.59l7.78-7.78 2.81-2.81c.8-.78.8-2.07 0-2.86zM5.41 20L4 18.59l7.72-7.72 1.47 1.35L5.41 20z\"/>\n",
              "  </svg>\n",
              "      </button>\n",
              "      \n",
              "  <style>\n",
              "    .colab-df-container {\n",
              "      display:flex;\n",
              "      flex-wrap:wrap;\n",
              "      gap: 12px;\n",
              "    }\n",
              "\n",
              "    .colab-df-convert {\n",
              "      background-color: #E8F0FE;\n",
              "      border: none;\n",
              "      border-radius: 50%;\n",
              "      cursor: pointer;\n",
              "      display: none;\n",
              "      fill: #1967D2;\n",
              "      height: 32px;\n",
              "      padding: 0 0 0 0;\n",
              "      width: 32px;\n",
              "    }\n",
              "\n",
              "    .colab-df-convert:hover {\n",
              "      background-color: #E2EBFA;\n",
              "      box-shadow: 0px 1px 2px rgba(60, 64, 67, 0.3), 0px 1px 3px 1px rgba(60, 64, 67, 0.15);\n",
              "      fill: #174EA6;\n",
              "    }\n",
              "\n",
              "    [theme=dark] .colab-df-convert {\n",
              "      background-color: #3B4455;\n",
              "      fill: #D2E3FC;\n",
              "    }\n",
              "\n",
              "    [theme=dark] .colab-df-convert:hover {\n",
              "      background-color: #434B5C;\n",
              "      box-shadow: 0px 1px 3px 1px rgba(0, 0, 0, 0.15);\n",
              "      filter: drop-shadow(0px 1px 2px rgba(0, 0, 0, 0.3));\n",
              "      fill: #FFFFFF;\n",
              "    }\n",
              "  </style>\n",
              "\n",
              "      <script>\n",
              "        const buttonEl =\n",
              "          document.querySelector('#df-981ac810-d138-4658-bb38-439a47fa5b58 button.colab-df-convert');\n",
              "        buttonEl.style.display =\n",
              "          google.colab.kernel.accessAllowed ? 'block' : 'none';\n",
              "\n",
              "        async function convertToInteractive(key) {\n",
              "          const element = document.querySelector('#df-981ac810-d138-4658-bb38-439a47fa5b58');\n",
              "          const dataTable =\n",
              "            await google.colab.kernel.invokeFunction('convertToInteractive',\n",
              "                                                     [key], {});\n",
              "          if (!dataTable) return;\n",
              "\n",
              "          const docLinkHtml = 'Like what you see? Visit the ' +\n",
              "            '<a target=\"_blank\" href=https://colab.research.google.com/notebooks/data_table.ipynb>data table notebook</a>'\n",
              "            + ' to learn more about interactive tables.';\n",
              "          element.innerHTML = '';\n",
              "          dataTable['output_type'] = 'display_data';\n",
              "          await google.colab.output.renderOutput(dataTable, element);\n",
              "          const docLink = document.createElement('div');\n",
              "          docLink.innerHTML = docLinkHtml;\n",
              "          element.appendChild(docLink);\n",
              "        }\n",
              "      </script>\n",
              "    </div>\n",
              "  </div>\n",
              "  "
            ]
          },
          "metadata": {},
          "execution_count": 65
        }
      ]
    },
    {
      "cell_type": "markdown",
      "source": [
        "Comparando nível de expressão gênica de genes presentes nos grupos controle e com compostos:"
      ],
      "metadata": {
        "id": "PMGFv0gF0jlx"
      }
    },
    {
      "cell_type": "code",
      "source": [
        "ctrl_df = dados.query('tratamento == \"com_controle\"')\n",
        "compostos_df = dados.query('tratamento == \"com_droga\"')"
      ],
      "metadata": {
        "id": "9TNXBRLW0lKm"
      },
      "execution_count": 66,
      "outputs": []
    },
    {
      "cell_type": "code",
      "source": [
        "compostos_df.head()"
      ],
      "metadata": {
        "colab": {
          "base_uri": "https://localhost:8080/",
          "height": 300
        },
        "id": "qETk02a60xTd",
        "outputId": "4a05132c-2c94-430a-b587-8d38df1924af"
      },
      "execution_count": 67,
      "outputs": [
        {
          "output_type": "execute_result",
          "data": {
            "text/plain": [
              "             id tratamento  tempo dose   composto     g-0     g-1     g-2  \\\n",
              "0  id_000644bb2  com_droga     24   D1  b68db1d53  1.0620  0.5577 -0.2479   \n",
              "1  id_000779bfc  com_droga     72   D1  df89a8e5a  0.0743  0.4087  0.2991   \n",
              "2  id_000a6266a  com_droga     48   D1  18bb41b2c  0.6280  0.5817  1.5540   \n",
              "3  id_0015fd391  com_droga     48   D1  8c7f86626 -0.5138 -0.2491 -0.2656   \n",
              "4  id_001626bd3  com_droga     72   D2  7cbed3131 -0.3254 -0.4009  0.9700   \n",
              "\n",
              "      g-3     g-4  ...    c-90    c-91    c-92    c-93    c-94    c-95  \\\n",
              "0 -0.6208 -0.1944  ...  0.2862  0.2584  0.8076  0.5523 -0.1912  0.6584   \n",
              "1  0.0604  1.0190  ... -0.4265  0.7543  0.4708  0.0230  0.2957  0.4899   \n",
              "2 -0.0764 -0.0323  ... -0.7250 -0.6297  0.6103  0.0223 -1.3240 -0.3174   \n",
              "3  0.5288  4.0620  ... -2.0990 -0.6441 -5.6300 -1.3780 -0.8632 -1.2880   \n",
              "4  0.6919  1.4180  ...  0.0042  0.0048  0.6670  1.0690  0.5523 -0.3031   \n",
              "\n",
              "     c-96    c-97    c-98    c-99  \n",
              "0 -0.3981  0.2139  0.3801  0.4176  \n",
              "1  0.1522  0.1241  0.6077  0.7371  \n",
              "2 -0.6417 -0.2187 -1.4080  0.6931  \n",
              "3 -1.6210 -0.8784 -0.3876 -0.8154  \n",
              "4  0.1094  0.2885 -0.3786  0.7125  \n",
              "\n",
              "[5 rows x 877 columns]"
            ],
            "text/html": [
              "\n",
              "  <div id=\"df-c17d7840-9f67-48e9-a48a-2fe11e87c9a5\">\n",
              "    <div class=\"colab-df-container\">\n",
              "      <div>\n",
              "<style scoped>\n",
              "    .dataframe tbody tr th:only-of-type {\n",
              "        vertical-align: middle;\n",
              "    }\n",
              "\n",
              "    .dataframe tbody tr th {\n",
              "        vertical-align: top;\n",
              "    }\n",
              "\n",
              "    .dataframe thead th {\n",
              "        text-align: right;\n",
              "    }\n",
              "</style>\n",
              "<table border=\"1\" class=\"dataframe\">\n",
              "  <thead>\n",
              "    <tr style=\"text-align: right;\">\n",
              "      <th></th>\n",
              "      <th>id</th>\n",
              "      <th>tratamento</th>\n",
              "      <th>tempo</th>\n",
              "      <th>dose</th>\n",
              "      <th>composto</th>\n",
              "      <th>g-0</th>\n",
              "      <th>g-1</th>\n",
              "      <th>g-2</th>\n",
              "      <th>g-3</th>\n",
              "      <th>g-4</th>\n",
              "      <th>...</th>\n",
              "      <th>c-90</th>\n",
              "      <th>c-91</th>\n",
              "      <th>c-92</th>\n",
              "      <th>c-93</th>\n",
              "      <th>c-94</th>\n",
              "      <th>c-95</th>\n",
              "      <th>c-96</th>\n",
              "      <th>c-97</th>\n",
              "      <th>c-98</th>\n",
              "      <th>c-99</th>\n",
              "    </tr>\n",
              "  </thead>\n",
              "  <tbody>\n",
              "    <tr>\n",
              "      <th>0</th>\n",
              "      <td>id_000644bb2</td>\n",
              "      <td>com_droga</td>\n",
              "      <td>24</td>\n",
              "      <td>D1</td>\n",
              "      <td>b68db1d53</td>\n",
              "      <td>1.0620</td>\n",
              "      <td>0.5577</td>\n",
              "      <td>-0.2479</td>\n",
              "      <td>-0.6208</td>\n",
              "      <td>-0.1944</td>\n",
              "      <td>...</td>\n",
              "      <td>0.2862</td>\n",
              "      <td>0.2584</td>\n",
              "      <td>0.8076</td>\n",
              "      <td>0.5523</td>\n",
              "      <td>-0.1912</td>\n",
              "      <td>0.6584</td>\n",
              "      <td>-0.3981</td>\n",
              "      <td>0.2139</td>\n",
              "      <td>0.3801</td>\n",
              "      <td>0.4176</td>\n",
              "    </tr>\n",
              "    <tr>\n",
              "      <th>1</th>\n",
              "      <td>id_000779bfc</td>\n",
              "      <td>com_droga</td>\n",
              "      <td>72</td>\n",
              "      <td>D1</td>\n",
              "      <td>df89a8e5a</td>\n",
              "      <td>0.0743</td>\n",
              "      <td>0.4087</td>\n",
              "      <td>0.2991</td>\n",
              "      <td>0.0604</td>\n",
              "      <td>1.0190</td>\n",
              "      <td>...</td>\n",
              "      <td>-0.4265</td>\n",
              "      <td>0.7543</td>\n",
              "      <td>0.4708</td>\n",
              "      <td>0.0230</td>\n",
              "      <td>0.2957</td>\n",
              "      <td>0.4899</td>\n",
              "      <td>0.1522</td>\n",
              "      <td>0.1241</td>\n",
              "      <td>0.6077</td>\n",
              "      <td>0.7371</td>\n",
              "    </tr>\n",
              "    <tr>\n",
              "      <th>2</th>\n",
              "      <td>id_000a6266a</td>\n",
              "      <td>com_droga</td>\n",
              "      <td>48</td>\n",
              "      <td>D1</td>\n",
              "      <td>18bb41b2c</td>\n",
              "      <td>0.6280</td>\n",
              "      <td>0.5817</td>\n",
              "      <td>1.5540</td>\n",
              "      <td>-0.0764</td>\n",
              "      <td>-0.0323</td>\n",
              "      <td>...</td>\n",
              "      <td>-0.7250</td>\n",
              "      <td>-0.6297</td>\n",
              "      <td>0.6103</td>\n",
              "      <td>0.0223</td>\n",
              "      <td>-1.3240</td>\n",
              "      <td>-0.3174</td>\n",
              "      <td>-0.6417</td>\n",
              "      <td>-0.2187</td>\n",
              "      <td>-1.4080</td>\n",
              "      <td>0.6931</td>\n",
              "    </tr>\n",
              "    <tr>\n",
              "      <th>3</th>\n",
              "      <td>id_0015fd391</td>\n",
              "      <td>com_droga</td>\n",
              "      <td>48</td>\n",
              "      <td>D1</td>\n",
              "      <td>8c7f86626</td>\n",
              "      <td>-0.5138</td>\n",
              "      <td>-0.2491</td>\n",
              "      <td>-0.2656</td>\n",
              "      <td>0.5288</td>\n",
              "      <td>4.0620</td>\n",
              "      <td>...</td>\n",
              "      <td>-2.0990</td>\n",
              "      <td>-0.6441</td>\n",
              "      <td>-5.6300</td>\n",
              "      <td>-1.3780</td>\n",
              "      <td>-0.8632</td>\n",
              "      <td>-1.2880</td>\n",
              "      <td>-1.6210</td>\n",
              "      <td>-0.8784</td>\n",
              "      <td>-0.3876</td>\n",
              "      <td>-0.8154</td>\n",
              "    </tr>\n",
              "    <tr>\n",
              "      <th>4</th>\n",
              "      <td>id_001626bd3</td>\n",
              "      <td>com_droga</td>\n",
              "      <td>72</td>\n",
              "      <td>D2</td>\n",
              "      <td>7cbed3131</td>\n",
              "      <td>-0.3254</td>\n",
              "      <td>-0.4009</td>\n",
              "      <td>0.9700</td>\n",
              "      <td>0.6919</td>\n",
              "      <td>1.4180</td>\n",
              "      <td>...</td>\n",
              "      <td>0.0042</td>\n",
              "      <td>0.0048</td>\n",
              "      <td>0.6670</td>\n",
              "      <td>1.0690</td>\n",
              "      <td>0.5523</td>\n",
              "      <td>-0.3031</td>\n",
              "      <td>0.1094</td>\n",
              "      <td>0.2885</td>\n",
              "      <td>-0.3786</td>\n",
              "      <td>0.7125</td>\n",
              "    </tr>\n",
              "  </tbody>\n",
              "</table>\n",
              "<p>5 rows × 877 columns</p>\n",
              "</div>\n",
              "      <button class=\"colab-df-convert\" onclick=\"convertToInteractive('df-c17d7840-9f67-48e9-a48a-2fe11e87c9a5')\"\n",
              "              title=\"Convert this dataframe to an interactive table.\"\n",
              "              style=\"display:none;\">\n",
              "        \n",
              "  <svg xmlns=\"http://www.w3.org/2000/svg\" height=\"24px\"viewBox=\"0 0 24 24\"\n",
              "       width=\"24px\">\n",
              "    <path d=\"M0 0h24v24H0V0z\" fill=\"none\"/>\n",
              "    <path d=\"M18.56 5.44l.94 2.06.94-2.06 2.06-.94-2.06-.94-.94-2.06-.94 2.06-2.06.94zm-11 1L8.5 8.5l.94-2.06 2.06-.94-2.06-.94L8.5 2.5l-.94 2.06-2.06.94zm10 10l.94 2.06.94-2.06 2.06-.94-2.06-.94-.94-2.06-.94 2.06-2.06.94z\"/><path d=\"M17.41 7.96l-1.37-1.37c-.4-.4-.92-.59-1.43-.59-.52 0-1.04.2-1.43.59L10.3 9.45l-7.72 7.72c-.78.78-.78 2.05 0 2.83L4 21.41c.39.39.9.59 1.41.59.51 0 1.02-.2 1.41-.59l7.78-7.78 2.81-2.81c.8-.78.8-2.07 0-2.86zM5.41 20L4 18.59l7.72-7.72 1.47 1.35L5.41 20z\"/>\n",
              "  </svg>\n",
              "      </button>\n",
              "      \n",
              "  <style>\n",
              "    .colab-df-container {\n",
              "      display:flex;\n",
              "      flex-wrap:wrap;\n",
              "      gap: 12px;\n",
              "    }\n",
              "\n",
              "    .colab-df-convert {\n",
              "      background-color: #E8F0FE;\n",
              "      border: none;\n",
              "      border-radius: 50%;\n",
              "      cursor: pointer;\n",
              "      display: none;\n",
              "      fill: #1967D2;\n",
              "      height: 32px;\n",
              "      padding: 0 0 0 0;\n",
              "      width: 32px;\n",
              "    }\n",
              "\n",
              "    .colab-df-convert:hover {\n",
              "      background-color: #E2EBFA;\n",
              "      box-shadow: 0px 1px 2px rgba(60, 64, 67, 0.3), 0px 1px 3px 1px rgba(60, 64, 67, 0.15);\n",
              "      fill: #174EA6;\n",
              "    }\n",
              "\n",
              "    [theme=dark] .colab-df-convert {\n",
              "      background-color: #3B4455;\n",
              "      fill: #D2E3FC;\n",
              "    }\n",
              "\n",
              "    [theme=dark] .colab-df-convert:hover {\n",
              "      background-color: #434B5C;\n",
              "      box-shadow: 0px 1px 3px 1px rgba(0, 0, 0, 0.15);\n",
              "      filter: drop-shadow(0px 1px 2px rgba(0, 0, 0, 0.3));\n",
              "      fill: #FFFFFF;\n",
              "    }\n",
              "  </style>\n",
              "\n",
              "      <script>\n",
              "        const buttonEl =\n",
              "          document.querySelector('#df-c17d7840-9f67-48e9-a48a-2fe11e87c9a5 button.colab-df-convert');\n",
              "        buttonEl.style.display =\n",
              "          google.colab.kernel.accessAllowed ? 'block' : 'none';\n",
              "\n",
              "        async function convertToInteractive(key) {\n",
              "          const element = document.querySelector('#df-c17d7840-9f67-48e9-a48a-2fe11e87c9a5');\n",
              "          const dataTable =\n",
              "            await google.colab.kernel.invokeFunction('convertToInteractive',\n",
              "                                                     [key], {});\n",
              "          if (!dataTable) return;\n",
              "\n",
              "          const docLinkHtml = 'Like what you see? Visit the ' +\n",
              "            '<a target=\"_blank\" href=https://colab.research.google.com/notebooks/data_table.ipynb>data table notebook</a>'\n",
              "            + ' to learn more about interactive tables.';\n",
              "          element.innerHTML = '';\n",
              "          dataTable['output_type'] = 'display_data';\n",
              "          await google.colab.output.renderOutput(dataTable, element);\n",
              "          const docLink = document.createElement('div');\n",
              "          docLink.innerHTML = docLinkHtml;\n",
              "          element.appendChild(docLink);\n",
              "        }\n",
              "      </script>\n",
              "    </div>\n",
              "  </div>\n",
              "  "
            ]
          },
          "metadata": {},
          "execution_count": 67
        }
      ]
    },
    {
      "cell_type": "code",
      "source": [
        "ctrl_df.head()"
      ],
      "metadata": {
        "colab": {
          "base_uri": "https://localhost:8080/",
          "height": 300
        },
        "id": "JQS49d2u0zM-",
        "outputId": "b58ba17c-1d37-4e73-df8e-35479e1dd641"
      },
      "execution_count": 68,
      "outputs": [
        {
          "output_type": "execute_result",
          "data": {
            "text/plain": [
              "              id    tratamento  tempo dose   composto     g-0     g-1     g-2  \\\n",
              "25  id_0054388ec  com_controle     48   D1  cacb2b860 -0.6696 -0.2718 -1.2230   \n",
              "38  id_0079af0fb  com_controle     24   D1  cacb2b860 -0.1636 -1.8230 -0.5211   \n",
              "40  id_007bfbb91  com_controle     24   D2  cacb2b860 -1.3200 -1.7340 -0.0741   \n",
              "47  id_008a986b7  com_controle     48   D2  cacb2b860  0.4860  0.1430  0.5281   \n",
              "63  id_009d8340f  com_controle     24   D2  cacb2b860  0.4471 -0.0839 -0.3864   \n",
              "\n",
              "       g-3     g-4  ...    c-90    c-91    c-92    c-93    c-94    c-95  \\\n",
              "25 -0.6226 -0.7220  ...  0.6171  0.6405  0.5429  0.3562  1.3290  0.5573   \n",
              "38  0.3054 -1.1280  ... -0.3880 -0.6828 -0.6594 -0.2043  0.3571 -0.1319   \n",
              "40  1.5440 -1.8290  ...  0.7412  1.0340  0.7393  1.1020  0.3786  0.2636   \n",
              "47 -0.0022 -0.2334  ... -0.3085 -0.1866  0.7629  0.3288 -0.9915 -0.3694   \n",
              "63  0.3196  0.2584  ...  0.4795  0.3939  0.7665  0.7932 -0.6804 -0.0435   \n",
              "\n",
              "      c-96    c-97    c-98    c-99  \n",
              "25  0.8837  0.5534  0.8976  1.0050  \n",
              "38  0.2187  0.0737  0.6498 -1.4820  \n",
              "40 -0.5751  0.3362  0.8543  0.9180  \n",
              "47 -0.4979  0.5281 -0.9245 -0.9367  \n",
              "63  0.0949  0.2000 -0.4326  0.9364  \n",
              "\n",
              "[5 rows x 877 columns]"
            ],
            "text/html": [
              "\n",
              "  <div id=\"df-54244ae6-6b6e-4452-985d-06c643e86a16\">\n",
              "    <div class=\"colab-df-container\">\n",
              "      <div>\n",
              "<style scoped>\n",
              "    .dataframe tbody tr th:only-of-type {\n",
              "        vertical-align: middle;\n",
              "    }\n",
              "\n",
              "    .dataframe tbody tr th {\n",
              "        vertical-align: top;\n",
              "    }\n",
              "\n",
              "    .dataframe thead th {\n",
              "        text-align: right;\n",
              "    }\n",
              "</style>\n",
              "<table border=\"1\" class=\"dataframe\">\n",
              "  <thead>\n",
              "    <tr style=\"text-align: right;\">\n",
              "      <th></th>\n",
              "      <th>id</th>\n",
              "      <th>tratamento</th>\n",
              "      <th>tempo</th>\n",
              "      <th>dose</th>\n",
              "      <th>composto</th>\n",
              "      <th>g-0</th>\n",
              "      <th>g-1</th>\n",
              "      <th>g-2</th>\n",
              "      <th>g-3</th>\n",
              "      <th>g-4</th>\n",
              "      <th>...</th>\n",
              "      <th>c-90</th>\n",
              "      <th>c-91</th>\n",
              "      <th>c-92</th>\n",
              "      <th>c-93</th>\n",
              "      <th>c-94</th>\n",
              "      <th>c-95</th>\n",
              "      <th>c-96</th>\n",
              "      <th>c-97</th>\n",
              "      <th>c-98</th>\n",
              "      <th>c-99</th>\n",
              "    </tr>\n",
              "  </thead>\n",
              "  <tbody>\n",
              "    <tr>\n",
              "      <th>25</th>\n",
              "      <td>id_0054388ec</td>\n",
              "      <td>com_controle</td>\n",
              "      <td>48</td>\n",
              "      <td>D1</td>\n",
              "      <td>cacb2b860</td>\n",
              "      <td>-0.6696</td>\n",
              "      <td>-0.2718</td>\n",
              "      <td>-1.2230</td>\n",
              "      <td>-0.6226</td>\n",
              "      <td>-0.7220</td>\n",
              "      <td>...</td>\n",
              "      <td>0.6171</td>\n",
              "      <td>0.6405</td>\n",
              "      <td>0.5429</td>\n",
              "      <td>0.3562</td>\n",
              "      <td>1.3290</td>\n",
              "      <td>0.5573</td>\n",
              "      <td>0.8837</td>\n",
              "      <td>0.5534</td>\n",
              "      <td>0.8976</td>\n",
              "      <td>1.0050</td>\n",
              "    </tr>\n",
              "    <tr>\n",
              "      <th>38</th>\n",
              "      <td>id_0079af0fb</td>\n",
              "      <td>com_controle</td>\n",
              "      <td>24</td>\n",
              "      <td>D1</td>\n",
              "      <td>cacb2b860</td>\n",
              "      <td>-0.1636</td>\n",
              "      <td>-1.8230</td>\n",
              "      <td>-0.5211</td>\n",
              "      <td>0.3054</td>\n",
              "      <td>-1.1280</td>\n",
              "      <td>...</td>\n",
              "      <td>-0.3880</td>\n",
              "      <td>-0.6828</td>\n",
              "      <td>-0.6594</td>\n",
              "      <td>-0.2043</td>\n",
              "      <td>0.3571</td>\n",
              "      <td>-0.1319</td>\n",
              "      <td>0.2187</td>\n",
              "      <td>0.0737</td>\n",
              "      <td>0.6498</td>\n",
              "      <td>-1.4820</td>\n",
              "    </tr>\n",
              "    <tr>\n",
              "      <th>40</th>\n",
              "      <td>id_007bfbb91</td>\n",
              "      <td>com_controle</td>\n",
              "      <td>24</td>\n",
              "      <td>D2</td>\n",
              "      <td>cacb2b860</td>\n",
              "      <td>-1.3200</td>\n",
              "      <td>-1.7340</td>\n",
              "      <td>-0.0741</td>\n",
              "      <td>1.5440</td>\n",
              "      <td>-1.8290</td>\n",
              "      <td>...</td>\n",
              "      <td>0.7412</td>\n",
              "      <td>1.0340</td>\n",
              "      <td>0.7393</td>\n",
              "      <td>1.1020</td>\n",
              "      <td>0.3786</td>\n",
              "      <td>0.2636</td>\n",
              "      <td>-0.5751</td>\n",
              "      <td>0.3362</td>\n",
              "      <td>0.8543</td>\n",
              "      <td>0.9180</td>\n",
              "    </tr>\n",
              "    <tr>\n",
              "      <th>47</th>\n",
              "      <td>id_008a986b7</td>\n",
              "      <td>com_controle</td>\n",
              "      <td>48</td>\n",
              "      <td>D2</td>\n",
              "      <td>cacb2b860</td>\n",
              "      <td>0.4860</td>\n",
              "      <td>0.1430</td>\n",
              "      <td>0.5281</td>\n",
              "      <td>-0.0022</td>\n",
              "      <td>-0.2334</td>\n",
              "      <td>...</td>\n",
              "      <td>-0.3085</td>\n",
              "      <td>-0.1866</td>\n",
              "      <td>0.7629</td>\n",
              "      <td>0.3288</td>\n",
              "      <td>-0.9915</td>\n",
              "      <td>-0.3694</td>\n",
              "      <td>-0.4979</td>\n",
              "      <td>0.5281</td>\n",
              "      <td>-0.9245</td>\n",
              "      <td>-0.9367</td>\n",
              "    </tr>\n",
              "    <tr>\n",
              "      <th>63</th>\n",
              "      <td>id_009d8340f</td>\n",
              "      <td>com_controle</td>\n",
              "      <td>24</td>\n",
              "      <td>D2</td>\n",
              "      <td>cacb2b860</td>\n",
              "      <td>0.4471</td>\n",
              "      <td>-0.0839</td>\n",
              "      <td>-0.3864</td>\n",
              "      <td>0.3196</td>\n",
              "      <td>0.2584</td>\n",
              "      <td>...</td>\n",
              "      <td>0.4795</td>\n",
              "      <td>0.3939</td>\n",
              "      <td>0.7665</td>\n",
              "      <td>0.7932</td>\n",
              "      <td>-0.6804</td>\n",
              "      <td>-0.0435</td>\n",
              "      <td>0.0949</td>\n",
              "      <td>0.2000</td>\n",
              "      <td>-0.4326</td>\n",
              "      <td>0.9364</td>\n",
              "    </tr>\n",
              "  </tbody>\n",
              "</table>\n",
              "<p>5 rows × 877 columns</p>\n",
              "</div>\n",
              "      <button class=\"colab-df-convert\" onclick=\"convertToInteractive('df-54244ae6-6b6e-4452-985d-06c643e86a16')\"\n",
              "              title=\"Convert this dataframe to an interactive table.\"\n",
              "              style=\"display:none;\">\n",
              "        \n",
              "  <svg xmlns=\"http://www.w3.org/2000/svg\" height=\"24px\"viewBox=\"0 0 24 24\"\n",
              "       width=\"24px\">\n",
              "    <path d=\"M0 0h24v24H0V0z\" fill=\"none\"/>\n",
              "    <path d=\"M18.56 5.44l.94 2.06.94-2.06 2.06-.94-2.06-.94-.94-2.06-.94 2.06-2.06.94zm-11 1L8.5 8.5l.94-2.06 2.06-.94-2.06-.94L8.5 2.5l-.94 2.06-2.06.94zm10 10l.94 2.06.94-2.06 2.06-.94-2.06-.94-.94-2.06-.94 2.06-2.06.94z\"/><path d=\"M17.41 7.96l-1.37-1.37c-.4-.4-.92-.59-1.43-.59-.52 0-1.04.2-1.43.59L10.3 9.45l-7.72 7.72c-.78.78-.78 2.05 0 2.83L4 21.41c.39.39.9.59 1.41.59.51 0 1.02-.2 1.41-.59l7.78-7.78 2.81-2.81c.8-.78.8-2.07 0-2.86zM5.41 20L4 18.59l7.72-7.72 1.47 1.35L5.41 20z\"/>\n",
              "  </svg>\n",
              "      </button>\n",
              "      \n",
              "  <style>\n",
              "    .colab-df-container {\n",
              "      display:flex;\n",
              "      flex-wrap:wrap;\n",
              "      gap: 12px;\n",
              "    }\n",
              "\n",
              "    .colab-df-convert {\n",
              "      background-color: #E8F0FE;\n",
              "      border: none;\n",
              "      border-radius: 50%;\n",
              "      cursor: pointer;\n",
              "      display: none;\n",
              "      fill: #1967D2;\n",
              "      height: 32px;\n",
              "      padding: 0 0 0 0;\n",
              "      width: 32px;\n",
              "    }\n",
              "\n",
              "    .colab-df-convert:hover {\n",
              "      background-color: #E2EBFA;\n",
              "      box-shadow: 0px 1px 2px rgba(60, 64, 67, 0.3), 0px 1px 3px 1px rgba(60, 64, 67, 0.15);\n",
              "      fill: #174EA6;\n",
              "    }\n",
              "\n",
              "    [theme=dark] .colab-df-convert {\n",
              "      background-color: #3B4455;\n",
              "      fill: #D2E3FC;\n",
              "    }\n",
              "\n",
              "    [theme=dark] .colab-df-convert:hover {\n",
              "      background-color: #434B5C;\n",
              "      box-shadow: 0px 1px 3px 1px rgba(0, 0, 0, 0.15);\n",
              "      filter: drop-shadow(0px 1px 2px rgba(0, 0, 0, 0.3));\n",
              "      fill: #FFFFFF;\n",
              "    }\n",
              "  </style>\n",
              "\n",
              "      <script>\n",
              "        const buttonEl =\n",
              "          document.querySelector('#df-54244ae6-6b6e-4452-985d-06c643e86a16 button.colab-df-convert');\n",
              "        buttonEl.style.display =\n",
              "          google.colab.kernel.accessAllowed ? 'block' : 'none';\n",
              "\n",
              "        async function convertToInteractive(key) {\n",
              "          const element = document.querySelector('#df-54244ae6-6b6e-4452-985d-06c643e86a16');\n",
              "          const dataTable =\n",
              "            await google.colab.kernel.invokeFunction('convertToInteractive',\n",
              "                                                     [key], {});\n",
              "          if (!dataTable) return;\n",
              "\n",
              "          const docLinkHtml = 'Like what you see? Visit the ' +\n",
              "            '<a target=\"_blank\" href=https://colab.research.google.com/notebooks/data_table.ipynb>data table notebook</a>'\n",
              "            + ' to learn more about interactive tables.';\n",
              "          element.innerHTML = '';\n",
              "          dataTable['output_type'] = 'display_data';\n",
              "          await google.colab.output.renderOutput(dataTable, element);\n",
              "          const docLink = document.createElement('div');\n",
              "          docLink.innerHTML = docLinkHtml;\n",
              "          element.appendChild(docLink);\n",
              "        }\n",
              "      </script>\n",
              "    </div>\n",
              "  </div>\n",
              "  "
            ]
          },
          "metadata": {},
          "execution_count": 68
        }
      ]
    },
    {
      "cell_type": "code",
      "source": [
        "sns.boxplot(y='g-40', x='tratamento', data=dados)"
      ],
      "metadata": {
        "colab": {
          "base_uri": "https://localhost:8080/",
          "height": 297
        },
        "id": "eDxq0NRL1XuC",
        "outputId": "bbbc7aee-1ef3-49d1-92f9-a48e27402acc"
      },
      "execution_count": 69,
      "outputs": [
        {
          "output_type": "execute_result",
          "data": {
            "text/plain": [
              "<matplotlib.axes._subplots.AxesSubplot at 0x7f8842730d50>"
            ]
          },
          "metadata": {},
          "execution_count": 69
        },
        {
          "output_type": "display_data",
          "data": {
            "text/plain": [
              "<Figure size 432x288 with 1 Axes>"
            ],
            "image/png": "[encoded data removed]"
          },
          "metadata": {
            "needs_background": "light"
          }
        }
      ]
    },
    {
      "cell_type": "markdown",
      "source": [
        "### Correlação"
      ],
      "metadata": {
        "id": "dCvGsGQX3CO0"
      }
    },
    {
      "cell_type": "code",
      "source": [
        "corr = dados.loc[:, 'g-0': 'g-30'].corr()"
      ],
      "metadata": {
        "id": "f_MFM8xs3Dcq"
      },
      "execution_count": 70,
      "outputs": []
    },
    {
      "cell_type": "code",
      "source": [
        "corr"
      ],
      "metadata": {
        "colab": {
          "base_uri": "https://localhost:8080/",
          "height": 1000
        },
        "id": "i90h2rE83xo9",
        "outputId": "67f43724-bb28-4a1d-9c66-8f52485abdf4"
      },
      "execution_count": 72,
      "outputs": [
        {
          "output_type": "execute_result",
          "data": {
            "text/plain": [
              "           g-0       g-1       g-2       g-3       g-4       g-5       g-6  \\\n",
              "g-0   1.000000  0.086032  0.176188  0.011266  0.403153 -0.165478  0.238348   \n",
              "g-1   0.086032  1.000000 -0.054518 -0.027855  0.193647 -0.151590 -0.122541   \n",
              "g-2   0.176188 -0.054518  1.000000  0.042633  0.013968  0.018516  0.015190   \n",
              "g-3   0.011266 -0.027855  0.042633  1.000000 -0.033039  0.042231 -0.043177   \n",
              "g-4   0.403153  0.193647  0.013968 -0.033039  1.000000 -0.057449  0.206405   \n",
              "g-5  -0.165478 -0.151590  0.018516  0.042231 -0.057449  1.000000  0.083620   \n",
              "g-6   0.238348 -0.122541  0.015190 -0.043177  0.206405  0.083620  1.000000   \n",
              "g-7  -0.374451  0.144537 -0.144205 -0.175692 -0.032748  0.102345  0.030544   \n",
              "g-8  -0.604212 -0.009973 -0.128029 -0.086167 -0.474828  0.073885 -0.212292   \n",
              "g-9  -0.428779 -0.047558 -0.081332 -0.014052 -0.274167  0.126561 -0.134739   \n",
              "g-10 -0.547606 -0.009051 -0.105050 -0.074101 -0.458021  0.038743 -0.264575   \n",
              "g-11  0.219762  0.161274  0.011198  0.181024  0.116467 -0.171709 -0.064363   \n",
              "g-12 -0.199453  0.037178 -0.063501  0.030539 -0.207078 -0.000393 -0.041731   \n",
              "g-13  0.472223 -0.009256  0.082011  0.192727  0.210440 -0.112423  0.110102   \n",
              "g-14 -0.346179  0.002632 -0.082204  0.128792 -0.307280  0.073760 -0.126069   \n",
              "g-15 -0.201323 -0.070193 -0.059607 -0.045688  0.019531  0.037763 -0.107593   \n",
              "g-16 -0.513026 -0.063414 -0.137811  0.033974 -0.275700  0.221227 -0.109543   \n",
              "g-17 -0.433536 -0.000944 -0.085491 -0.070920 -0.422889  0.033641 -0.182960   \n",
              "g-18 -0.002073 -0.023748  0.053335  0.237669 -0.012207  0.041073 -0.058387   \n",
              "g-19 -0.074622 -0.034714  0.028813  0.112392 -0.088152  0.134431  0.070343   \n",
              "g-20 -0.468599 -0.131031 -0.061160  0.027867 -0.311798  0.136226  0.049195   \n",
              "g-21  0.052445  0.196596 -0.129131 -0.167263  0.286106  0.042455  0.244205   \n",
              "g-22  0.022269 -0.061441 -0.007426  0.197013 -0.055368  0.095901 -0.076039   \n",
              "g-23 -0.076298  0.090620 -0.034230 -0.049480 -0.113396 -0.000709 -0.063008   \n",
              "g-24 -0.337522 -0.004299 -0.128312 -0.113336 -0.120743  0.120697  0.034160   \n",
              "g-25 -0.235191 -0.032600 -0.067363  0.175615 -0.233682  0.082212 -0.002408   \n",
              "g-26 -0.422814 -0.019435 -0.126554  0.111355 -0.340708  0.058257 -0.194962   \n",
              "g-27  0.148432  0.015661  0.036984  0.007168  0.070292 -0.106304 -0.051850   \n",
              "g-28 -0.471092 -0.098907 -0.129481 -0.022381 -0.360274  0.137596 -0.032510   \n",
              "g-29 -0.296871 -0.091071 -0.017941 -0.128269 -0.225461  0.171353  0.091318   \n",
              "g-30 -0.528327 -0.053331 -0.152288 -0.042827 -0.402256  0.136856 -0.113642   \n",
              "\n",
              "           g-7       g-8       g-9  ...      g-21      g-22      g-23  \\\n",
              "g-0  -0.374451 -0.604212 -0.428779  ...  0.052445  0.022269 -0.076298   \n",
              "g-1   0.144537 -0.009973 -0.047558  ...  0.196596 -0.061441  0.090620   \n",
              "g-2  -0.144205 -0.128029 -0.081332  ... -0.129131 -0.007426 -0.034230   \n",
              "g-3  -0.175692 -0.086167 -0.014052  ... -0.167263  0.197013 -0.049480   \n",
              "g-4  -0.032748 -0.474828 -0.274167  ...  0.286106 -0.055368 -0.113396   \n",
              "g-5   0.102345  0.073885  0.126561  ...  0.042455  0.095901 -0.000709   \n",
              "g-6   0.030544 -0.212292 -0.134739  ...  0.244205 -0.076039 -0.063008   \n",
              "g-7   1.000000  0.278085  0.288780  ...  0.321506 -0.043685  0.143473   \n",
              "g-8   0.278085  1.000000  0.330284  ...  0.037205 -0.028802  0.175015   \n",
              "g-9   0.288780  0.330284  1.000000  ...  0.000340  0.140954  0.161157   \n",
              "g-10  0.382325  0.556854  0.423656  ... -0.042062  0.052603  0.235931   \n",
              "g-11 -0.184966 -0.145569 -0.182298  ... -0.056922 -0.060820 -0.099806   \n",
              "g-12  0.166101  0.278549  0.181920  ...  0.047377  0.008977  0.073713   \n",
              "g-13 -0.380687 -0.386297 -0.309551  ... -0.058168 -0.037199 -0.137603   \n",
              "g-14  0.266334  0.417574  0.306363  ...  0.016463  0.117654  0.073009   \n",
              "g-15  0.141999 -0.078128  0.099181  ... -0.069827  0.050530 -0.059718   \n",
              "g-16  0.372104  0.424483  0.390175  ...  0.100730  0.119032  0.126337   \n",
              "g-17  0.185269  0.639804  0.327539  ...  0.074221  0.082768  0.233580   \n",
              "g-18 -0.061020 -0.085082 -0.002785  ... -0.115020  0.247936  0.007070   \n",
              "g-19  0.121534 -0.006910 -0.003900  ... -0.036707  0.180519 -0.029250   \n",
              "g-20  0.231938  0.419846  0.241005  ... -0.078284 -0.030640  0.020368   \n",
              "g-21  0.321506  0.037205  0.000340  ...  1.000000 -0.019706  0.158318   \n",
              "g-22 -0.043685 -0.028802  0.140954  ... -0.019706  1.000000  0.111432   \n",
              "g-23  0.143473  0.175015  0.161157  ...  0.158318  0.111432  1.000000   \n",
              "g-24  0.458273  0.246916  0.235827  ...  0.183171 -0.060301  0.059869   \n",
              "g-25  0.123891  0.295657  0.123404  ... -0.018741  0.059959 -0.020426   \n",
              "g-26  0.262002  0.384568  0.383703  ... -0.047095  0.067503  0.155888   \n",
              "g-27 -0.126174 -0.119738 -0.084327  ...  0.015391 -0.062607 -0.017392   \n",
              "g-28  0.287440  0.581645  0.309824  ...  0.067244  0.076743  0.081917   \n",
              "g-29  0.222967  0.233969  0.191556  ... -0.002585  0.029931 -0.033143   \n",
              "g-30  0.419395  0.484871  0.394296  ... -0.010101  0.000369  0.096281   \n",
              "\n",
              "          g-24      g-25      g-26      g-27      g-28      g-29      g-30  \n",
              "g-0  -0.337522 -0.235191 -0.422814  0.148432 -0.471092 -0.296871 -0.528327  \n",
              "g-1  -0.004299 -0.032600 -0.019435  0.015661 -0.098907 -0.091071 -0.053331  \n",
              "g-2  -0.128312 -0.067363 -0.126554  0.036984 -0.129481 -0.017941 -0.152288  \n",
              "g-3  -0.113336  0.175615  0.111355  0.007168 -0.022381 -0.128269 -0.042827  \n",
              "g-4  -0.120743 -0.233682 -0.340708  0.070292 -0.360274 -0.225461 -0.402256  \n",
              "g-5   0.120697  0.082212  0.058257 -0.106304  0.137596  0.171353  0.136856  \n",
              "g-6   0.034160 -0.002408 -0.194962 -0.051850 -0.032510  0.091318 -0.113642  \n",
              "g-7   0.458273  0.123891  0.262002 -0.126174  0.287440  0.222967  0.419395  \n",
              "g-8   0.246916  0.295657  0.384568 -0.119738  0.581645  0.233969  0.484871  \n",
              "g-9   0.235827  0.123404  0.383703 -0.084327  0.309824  0.191556  0.394296  \n",
              "g-10  0.325821  0.187969  0.535527 -0.003980  0.483219  0.247360  0.611078  \n",
              "g-11 -0.182518  0.004280 -0.142447  0.074184 -0.259489 -0.293538 -0.233195  \n",
              "g-12  0.125555  0.231326  0.281110  0.073022  0.359570  0.081565  0.300071  \n",
              "g-13 -0.283177 -0.122701 -0.305791  0.098049 -0.392892 -0.315442 -0.410571  \n",
              "g-14  0.308931  0.302840  0.404077 -0.092894  0.322512  0.212951  0.410599  \n",
              "g-15 -0.006925 -0.057076  0.058076  0.017995 -0.052726 -0.017395  0.054795  \n",
              "g-16  0.293214  0.224524  0.385105 -0.157421  0.417846  0.265257  0.449254  \n",
              "g-17  0.161418  0.227800  0.362121 -0.036154  0.473136  0.102827  0.388864  \n",
              "g-18 -0.110808  0.031519  0.005422 -0.008610 -0.016055  0.017671 -0.086942  \n",
              "g-19 -0.030343  0.038504 -0.083654 -0.187676  0.003884  0.045875 -0.101919  \n",
              "g-20  0.191178  0.264432  0.224424 -0.010426  0.457646  0.260409  0.404318  \n",
              "g-21  0.183171 -0.018741 -0.047095  0.015391  0.067244 -0.002585 -0.010101  \n",
              "g-22 -0.060301  0.059959  0.067503 -0.062607  0.076743  0.029931  0.000369  \n",
              "g-23  0.059869 -0.020426  0.155888 -0.017392  0.081917 -0.033143  0.096281  \n",
              "g-24  1.000000  0.141133  0.326184 -0.128719  0.225751  0.275870  0.464049  \n",
              "g-25  0.141133  1.000000  0.238111 -0.111857  0.329292  0.130257  0.281866  \n",
              "g-26  0.326184  0.238111  1.000000 -0.061375  0.376835  0.170572  0.544694  \n",
              "g-27 -0.128719 -0.111857 -0.061375  1.000000 -0.052955 -0.160213 -0.057207  \n",
              "g-28  0.225751  0.329292  0.376835 -0.052955  1.000000  0.321613  0.529473  \n",
              "g-29  0.275870  0.130257  0.170572 -0.160213  0.321613  1.000000  0.421884  \n",
              "g-30  0.464049  0.281866  0.544694 -0.057207  0.529473  0.421884  1.000000  \n",
              "\n",
              "[31 rows x 31 columns]"
            ],
            "text/html": [
              "\n",
              "  <div id=\"df-730d077e-6b73-47c6-8924-16065e53595b\">\n",
              "    <div class=\"colab-df-container\">\n",
              "      <div>\n",
              "<style scoped>\n",
              "    .dataframe tbody tr th:only-of-type {\n",
              "        vertical-align: middle;\n",
              "    }\n",
              "\n",
              "    .dataframe tbody tr th {\n",
              "        vertical-align: top;\n",
              "    }\n",
              "\n",
              "    .dataframe thead th {\n",
              "        text-align: right;\n",
              "    }\n",
              "</style>\n",
              "<table border=\"1\" class=\"dataframe\">\n",
              "  <thead>\n",
              "    <tr style=\"text-align: right;\">\n",
              "      <th></th>\n",
              "      <th>g-0</th>\n",
              "      <th>g-1</th>\n",
              "      <th>g-2</th>\n",
              "      <th>g-3</th>\n",
              "      <th>g-4</th>\n",
              "      <th>g-5</th>\n",
              "      <th>g-6</th>\n",
              "      <th>g-7</th>\n",
              "      <th>g-8</th>\n",
              "      <th>g-9</th>\n",
              "      <th>...</th>\n",
              "      <th>g-21</th>\n",
              "      <th>g-22</th>\n",
              "      <th>g-23</th>\n",
              "      <th>g-24</th>\n",
              "      <th>g-25</th>\n",
              "      <th>g-26</th>\n",
              "      <th>g-27</th>\n",
              "      <th>g-28</th>\n",
              "      <th>g-29</th>\n",
              "      <th>g-30</th>\n",
              "    </tr>\n",
              "  </thead>\n",
              "  <tbody>\n",
              "    <tr>\n",
              "      <th>g-0</th>\n",
              "      <td>1.000000</td>\n",
              "      <td>0.086032</td>\n",
              "      <td>0.176188</td>\n",
              "      <td>0.011266</td>\n",
              "      <td>0.403153</td>\n",
              "      <td>-0.165478</td>\n",
              "      <td>0.238348</td>\n",
              "      <td>-0.374451</td>\n",
              "      <td>-0.604212</td>\n",
              "      <td>-0.428779</td>\n",
              "      <td>...</td>\n",
              "      <td>0.052445</td>\n",
              "      <td>0.022269</td>\n",
              "      <td>-0.076298</td>\n",
              "      <td>-0.337522</td>\n",
              "      <td>-0.235191</td>\n",
              "      <td>-0.422814</td>\n",
              "      <td>0.148432</td>\n",
              "      <td>-0.471092</td>\n",
              "      <td>-0.296871</td>\n",
              "      <td>-0.528327</td>\n",
              "    </tr>\n",
              "    <tr>\n",
              "      <th>g-1</th>\n",
              "      <td>0.086032</td>\n",
              "      <td>1.000000</td>\n",
              "      <td>-0.054518</td>\n",
              "      <td>-0.027855</td>\n",
              "      <td>0.193647</td>\n",
              "      <td>-0.151590</td>\n",
              "      <td>-0.122541</td>\n",
              "      <td>0.144537</td>\n",
              "      <td>-0.009973</td>\n",
              "      <td>-0.047558</td>\n",
              "      <td>...</td>\n",
              "      <td>0.196596</td>\n",
              "      <td>-0.061441</td>\n",
              "      <td>0.090620</td>\n",
              "      <td>-0.004299</td>\n",
              "      <td>-0.032600</td>\n",
              "      <td>-0.019435</td>\n",
              "      <td>0.015661</td>\n",
              "      <td>-0.098907</td>\n",
              "      <td>-0.091071</td>\n",
              "      <td>-0.053331</td>\n",
              "    </tr>\n",
              "    <tr>\n",
              "      <th>g-2</th>\n",
              "      <td>0.176188</td>\n",
              "      <td>-0.054518</td>\n",
              "      <td>1.000000</td>\n",
              "      <td>0.042633</td>\n",
              "      <td>0.013968</td>\n",
              "      <td>0.018516</td>\n",
              "      <td>0.015190</td>\n",
              "      <td>-0.144205</td>\n",
              "      <td>-0.128029</td>\n",
              "      <td>-0.081332</td>\n",
              "      <td>...</td>\n",
              "      <td>-0.129131</td>\n",
              "      <td>-0.007426</td>\n",
              "      <td>-0.034230</td>\n",
              "      <td>-0.128312</td>\n",
              "      <td>-0.067363</td>\n",
              "      <td>-0.126554</td>\n",
              "      <td>0.036984</td>\n",
              "      <td>-0.129481</td>\n",
              "      <td>-0.017941</td>\n",
              "      <td>-0.152288</td>\n",
              "    </tr>\n",
              "    <tr>\n",
              "      <th>g-3</th>\n",
              "      <td>0.011266</td>\n",
              "      <td>-0.027855</td>\n",
              "      <td>0.042633</td>\n",
              "      <td>1.000000</td>\n",
              "      <td>-0.033039</td>\n",
              "      <td>0.042231</td>\n",
              "      <td>-0.043177</td>\n",
              "      <td>-0.175692</td>\n",
              "      <td>-0.086167</td>\n",
              "      <td>-0.014052</td>\n",
              "      <td>...</td>\n",
              "      <td>-0.167263</td>\n",
              "      <td>0.197013</td>\n",
              "      <td>-0.049480</td>\n",
              "      <td>-0.113336</td>\n",
              "      <td>0.175615</td>\n",
              "      <td>0.111355</td>\n",
              "      <td>0.007168</td>\n",
              "      <td>-0.022381</td>\n",
              "      <td>-0.128269</td>\n",
              "      <td>-0.042827</td>\n",
              "    </tr>\n",
              "    <tr>\n",
              "      <th>g-4</th>\n",
              "      <td>0.403153</td>\n",
              "      <td>0.193647</td>\n",
              "      <td>0.013968</td>\n",
              "      <td>-0.033039</td>\n",
              "      <td>1.000000</td>\n",
              "      <td>-0.057449</td>\n",
              "      <td>0.206405</td>\n",
              "      <td>-0.032748</td>\n",
              "      <td>-0.474828</td>\n",
              "      <td>-0.274167</td>\n",
              "      <td>...</td>\n",
              "      <td>0.286106</td>\n",
              "      <td>-0.055368</td>\n",
              "      <td>-0.113396</td>\n",
              "      <td>-0.120743</td>\n",
              "      <td>-0.233682</td>\n",
              "      <td>-0.340708</td>\n",
              "      <td>0.070292</td>\n",
              "      <td>-0.360274</td>\n",
              "      <td>-0.225461</td>\n",
              "      <td>-0.402256</td>\n",
              "    </tr>\n",
              "    <tr>\n",
              "      <th>g-5</th>\n",
              "      <td>-0.165478</td>\n",
              "      <td>-0.151590</td>\n",
              "      <td>0.018516</td>\n",
              "      <td>0.042231</td>\n",
              "      <td>-0.057449</td>\n",
              "      <td>1.000000</td>\n",
              "      <td>0.083620</td>\n",
              "      <td>0.102345</td>\n",
              "      <td>0.073885</td>\n",
              "      <td>0.126561</td>\n",
              "      <td>...</td>\n",
              "      <td>0.042455</td>\n",
              "      <td>0.095901</td>\n",
              "      <td>-0.000709</td>\n",
              "      <td>0.120697</td>\n",
              "      <td>0.082212</td>\n",
              "      <td>0.058257</td>\n",
              "      <td>-0.106304</td>\n",
              "      <td>0.137596</td>\n",
              "      <td>0.171353</td>\n",
              "      <td>0.136856</td>\n",
              "    </tr>\n",
              "    <tr>\n",
              "      <th>g-6</th>\n",
              "      <td>0.238348</td>\n",
              "      <td>-0.122541</td>\n",
              "      <td>0.015190</td>\n",
              "      <td>-0.043177</td>\n",
              "      <td>0.206405</td>\n",
              "      <td>0.083620</td>\n",
              "      <td>1.000000</td>\n",
              "      <td>0.030544</td>\n",
              "      <td>-0.212292</td>\n",
              "      <td>-0.134739</td>\n",
              "      <td>...</td>\n",
              "      <td>0.244205</td>\n",
              "      <td>-0.076039</td>\n",
              "      <td>-0.063008</td>\n",
              "      <td>0.034160</td>\n",
              "      <td>-0.002408</td>\n",
              "      <td>-0.194962</td>\n",
              "      <td>-0.051850</td>\n",
              "      <td>-0.032510</td>\n",
              "      <td>0.091318</td>\n",
              "      <td>-0.113642</td>\n",
              "    </tr>\n",
              "    <tr>\n",
              "      <th>g-7</th>\n",
              "      <td>-0.374451</td>\n",
              "      <td>0.144537</td>\n",
              "      <td>-0.144205</td>\n",
              "      <td>-0.175692</td>\n",
              "      <td>-0.032748</td>\n",
              "      <td>0.102345</td>\n",
              "      <td>0.030544</td>\n",
              "      <td>1.000000</td>\n",
              "      <td>0.278085</td>\n",
              "      <td>0.288780</td>\n",
              "      <td>...</td>\n",
              "      <td>0.321506</td>\n",
              "      <td>-0.043685</td>\n",
              "      <td>0.143473</td>\n",
              "      <td>0.458273</td>\n",
              "      <td>0.123891</td>\n",
              "      <td>0.262002</td>\n",
              "      <td>-0.126174</td>\n",
              "      <td>0.287440</td>\n",
              "      <td>0.222967</td>\n",
              "      <td>0.419395</td>\n",
              "    </tr>\n",
              "    <tr>\n",
              "      <th>g-8</th>\n",
              "      <td>-0.604212</td>\n",
              "      <td>-0.009973</td>\n",
              "      <td>-0.128029</td>\n",
              "      <td>-0.086167</td>\n",
              "      <td>-0.474828</td>\n",
              "      <td>0.073885</td>\n",
              "      <td>-0.212292</td>\n",
              "      <td>0.278085</td>\n",
              "      <td>1.000000</td>\n",
              "      <td>0.330284</td>\n",
              "      <td>...</td>\n",
              "      <td>0.037205</td>\n",
              "      <td>-0.028802</td>\n",
              "      <td>0.175015</td>\n",
              "      <td>0.246916</td>\n",
              "      <td>0.295657</td>\n",
              "      <td>0.384568</td>\n",
              "      <td>-0.119738</td>\n",
              "      <td>0.581645</td>\n",
              "      <td>0.233969</td>\n",
              "      <td>0.484871</td>\n",
              "    </tr>\n",
              "    <tr>\n",
              "      <th>g-9</th>\n",
              "      <td>-0.428779</td>\n",
              "      <td>-0.047558</td>\n",
              "      <td>-0.081332</td>\n",
              "      <td>-0.014052</td>\n",
              "      <td>-0.274167</td>\n",
              "      <td>0.126561</td>\n",
              "      <td>-0.134739</td>\n",
              "      <td>0.288780</td>\n",
              "      <td>0.330284</td>\n",
              "      <td>1.000000</td>\n",
              "      <td>...</td>\n",
              "      <td>0.000340</td>\n",
              "      <td>0.140954</td>\n",
              "      <td>0.161157</td>\n",
              "      <td>0.235827</td>\n",
              "      <td>0.123404</td>\n",
              "      <td>0.383703</td>\n",
              "      <td>-0.084327</td>\n",
              "      <td>0.309824</td>\n",
              "      <td>0.191556</td>\n",
              "      <td>0.394296</td>\n",
              "    </tr>\n",
              "    <tr>\n",
              "      <th>g-10</th>\n",
              "      <td>-0.547606</td>\n",
              "      <td>-0.009051</td>\n",
              "      <td>-0.105050</td>\n",
              "      <td>-0.074101</td>\n",
              "      <td>-0.458021</td>\n",
              "      <td>0.038743</td>\n",
              "      <td>-0.264575</td>\n",
              "      <td>0.382325</td>\n",
              "      <td>0.556854</td>\n",
              "      <td>0.423656</td>\n",
              "      <td>...</td>\n",
              "      <td>-0.042062</td>\n",
              "      <td>0.052603</td>\n",
              "      <td>0.235931</td>\n",
              "      <td>0.325821</td>\n",
              "      <td>0.187969</td>\n",
              "      <td>0.535527</td>\n",
              "      <td>-0.003980</td>\n",
              "      <td>0.483219</td>\n",
              "      <td>0.247360</td>\n",
              "      <td>0.611078</td>\n",
              "    </tr>\n",
              "    <tr>\n",
              "      <th>g-11</th>\n",
              "      <td>0.219762</td>\n",
              "      <td>0.161274</td>\n",
              "      <td>0.011198</td>\n",
              "      <td>0.181024</td>\n",
              "      <td>0.116467</td>\n",
              "      <td>-0.171709</td>\n",
              "      <td>-0.064363</td>\n",
              "      <td>-0.184966</td>\n",
              "      <td>-0.145569</td>\n",
              "      <td>-0.182298</td>\n",
              "      <td>...</td>\n",
              "      <td>-0.056922</td>\n",
              "      <td>-0.060820</td>\n",
              "      <td>-0.099806</td>\n",
              "      <td>-0.182518</td>\n",
              "      <td>0.004280</td>\n",
              "      <td>-0.142447</td>\n",
              "      <td>0.074184</td>\n",
              "      <td>-0.259489</td>\n",
              "      <td>-0.293538</td>\n",
              "      <td>-0.233195</td>\n",
              "    </tr>\n",
              "    <tr>\n",
              "      <th>g-12</th>\n",
              "      <td>-0.199453</td>\n",
              "      <td>0.037178</td>\n",
              "      <td>-0.063501</td>\n",
              "      <td>0.030539</td>\n",
              "      <td>-0.207078</td>\n",
              "      <td>-0.000393</td>\n",
              "      <td>-0.041731</td>\n",
              "      <td>0.166101</td>\n",
              "      <td>0.278549</td>\n",
              "      <td>0.181920</td>\n",
              "      <td>...</td>\n",
              "      <td>0.047377</td>\n",
              "      <td>0.008977</td>\n",
              "      <td>0.073713</td>\n",
              "      <td>0.125555</td>\n",
              "      <td>0.231326</td>\n",
              "      <td>0.281110</td>\n",
              "      <td>0.073022</td>\n",
              "      <td>0.359570</td>\n",
              "      <td>0.081565</td>\n",
              "      <td>0.300071</td>\n",
              "    </tr>\n",
              "    <tr>\n",
              "      <th>g-13</th>\n",
              "      <td>0.472223</td>\n",
              "      <td>-0.009256</td>\n",
              "      <td>0.082011</td>\n",
              "      <td>0.192727</td>\n",
              "      <td>0.210440</td>\n",
              "      <td>-0.112423</td>\n",
              "      <td>0.110102</td>\n",
              "      <td>-0.380687</td>\n",
              "      <td>-0.386297</td>\n",
              "      <td>-0.309551</td>\n",
              "      <td>...</td>\n",
              "      <td>-0.058168</td>\n",
              "      <td>-0.037199</td>\n",
              "      <td>-0.137603</td>\n",
              "      <td>-0.283177</td>\n",
              "      <td>-0.122701</td>\n",
              "      <td>-0.305791</td>\n",
              "      <td>0.098049</td>\n",
              "      <td>-0.392892</td>\n",
              "      <td>-0.315442</td>\n",
              "      <td>-0.410571</td>\n",
              "    </tr>\n",
              "    <tr>\n",
              "      <th>g-14</th>\n",
              "      <td>-0.346179</td>\n",
              "      <td>0.002632</td>\n",
              "      <td>-0.082204</td>\n",
              "      <td>0.128792</td>\n",
              "      <td>-0.307280</td>\n",
              "      <td>0.073760</td>\n",
              "      <td>-0.126069</td>\n",
              "      <td>0.266334</td>\n",
              "      <td>0.417574</td>\n",
              "      <td>0.306363</td>\n",
              "      <td>...</td>\n",
              "      <td>0.016463</td>\n",
              "      <td>0.117654</td>\n",
              "      <td>0.073009</td>\n",
              "      <td>0.308931</td>\n",
              "      <td>0.302840</td>\n",
              "      <td>0.404077</td>\n",
              "      <td>-0.092894</td>\n",
              "      <td>0.322512</td>\n",
              "      <td>0.212951</td>\n",
              "      <td>0.410599</td>\n",
              "    </tr>\n",
              "    <tr>\n",
              "      <th>g-15</th>\n",
              "      <td>-0.201323</td>\n",
              "      <td>-0.070193</td>\n",
              "      <td>-0.059607</td>\n",
              "      <td>-0.045688</td>\n",
              "      <td>0.019531</td>\n",
              "      <td>0.037763</td>\n",
              "      <td>-0.107593</td>\n",
              "      <td>0.141999</td>\n",
              "      <td>-0.078128</td>\n",
              "      <td>0.099181</td>\n",
              "      <td>...</td>\n",
              "      <td>-0.069827</td>\n",
              "      <td>0.050530</td>\n",
              "      <td>-0.059718</td>\n",
              "      <td>-0.006925</td>\n",
              "      <td>-0.057076</td>\n",
              "      <td>0.058076</td>\n",
              "      <td>0.017995</td>\n",
              "      <td>-0.052726</td>\n",
              "      <td>-0.017395</td>\n",
              "      <td>0.054795</td>\n",
              "    </tr>\n",
              "    <tr>\n",
              "      <th>g-16</th>\n",
              "      <td>-0.513026</td>\n",
              "      <td>-0.063414</td>\n",
              "      <td>-0.137811</td>\n",
              "      <td>0.033974</td>\n",
              "      <td>-0.275700</td>\n",
              "      <td>0.221227</td>\n",
              "      <td>-0.109543</td>\n",
              "      <td>0.372104</td>\n",
              "      <td>0.424483</td>\n",
              "      <td>0.390175</td>\n",
              "      <td>...</td>\n",
              "      <td>0.100730</td>\n",
              "      <td>0.119032</td>\n",
              "      <td>0.126337</td>\n",
              "      <td>0.293214</td>\n",
              "      <td>0.224524</td>\n",
              "      <td>0.385105</td>\n",
              "      <td>-0.157421</td>\n",
              "      <td>0.417846</td>\n",
              "      <td>0.265257</td>\n",
              "      <td>0.449254</td>\n",
              "    </tr>\n",
              "    <tr>\n",
              "      <th>g-17</th>\n",
              "      <td>-0.433536</td>\n",
              "      <td>-0.000944</td>\n",
              "      <td>-0.085491</td>\n",
              "      <td>-0.070920</td>\n",
              "      <td>-0.422889</td>\n",
              "      <td>0.033641</td>\n",
              "      <td>-0.182960</td>\n",
              "      <td>0.185269</td>\n",
              "      <td>0.639804</td>\n",
              "      <td>0.327539</td>\n",
              "      <td>...</td>\n",
              "      <td>0.074221</td>\n",
              "      <td>0.082768</td>\n",
              "      <td>0.233580</td>\n",
              "      <td>0.161418</td>\n",
              "      <td>0.227800</td>\n",
              "      <td>0.362121</td>\n",
              "      <td>-0.036154</td>\n",
              "      <td>0.473136</td>\n",
              "      <td>0.102827</td>\n",
              "      <td>0.388864</td>\n",
              "    </tr>\n",
              "    <tr>\n",
              "      <th>g-18</th>\n",
              "      <td>-0.002073</td>\n",
              "      <td>-0.023748</td>\n",
              "      <td>0.053335</td>\n",
              "      <td>0.237669</td>\n",
              "      <td>-0.012207</td>\n",
              "      <td>0.041073</td>\n",
              "      <td>-0.058387</td>\n",
              "      <td>-0.061020</td>\n",
              "      <td>-0.085082</td>\n",
              "      <td>-0.002785</td>\n",
              "      <td>...</td>\n",
              "      <td>-0.115020</td>\n",
              "      <td>0.247936</td>\n",
              "      <td>0.007070</td>\n",
              "      <td>-0.110808</td>\n",
              "      <td>0.031519</td>\n",
              "      <td>0.005422</td>\n",
              "      <td>-0.008610</td>\n",
              "      <td>-0.016055</td>\n",
              "      <td>0.017671</td>\n",
              "      <td>-0.086942</td>\n",
              "    </tr>\n",
              "    <tr>\n",
              "      <th>g-19</th>\n",
              "      <td>-0.074622</td>\n",
              "      <td>-0.034714</td>\n",
              "      <td>0.028813</td>\n",
              "      <td>0.112392</td>\n",
              "      <td>-0.088152</td>\n",
              "      <td>0.134431</td>\n",
              "      <td>0.070343</td>\n",
              "      <td>0.121534</td>\n",
              "      <td>-0.006910</td>\n",
              "      <td>-0.003900</td>\n",
              "      <td>...</td>\n",
              "      <td>-0.036707</td>\n",
              "      <td>0.180519</td>\n",
              "      <td>-0.029250</td>\n",
              "      <td>-0.030343</td>\n",
              "      <td>0.038504</td>\n",
              "      <td>-0.083654</td>\n",
              "      <td>-0.187676</td>\n",
              "      <td>0.003884</td>\n",
              "      <td>0.045875</td>\n",
              "      <td>-0.101919</td>\n",
              "    </tr>\n",
              "    <tr>\n",
              "      <th>g-20</th>\n",
              "      <td>-0.468599</td>\n",
              "      <td>-0.131031</td>\n",
              "      <td>-0.061160</td>\n",
              "      <td>0.027867</td>\n",
              "      <td>-0.311798</td>\n",
              "      <td>0.136226</td>\n",
              "      <td>0.049195</td>\n",
              "      <td>0.231938</td>\n",
              "      <td>0.419846</td>\n",
              "      <td>0.241005</td>\n",
              "      <td>...</td>\n",
              "      <td>-0.078284</td>\n",
              "      <td>-0.030640</td>\n",
              "      <td>0.020368</td>\n",
              "      <td>0.191178</td>\n",
              "      <td>0.264432</td>\n",
              "      <td>0.224424</td>\n",
              "      <td>-0.010426</td>\n",
              "      <td>0.457646</td>\n",
              "      <td>0.260409</td>\n",
              "      <td>0.404318</td>\n",
              "    </tr>\n",
              "    <tr>\n",
              "      <th>g-21</th>\n",
              "      <td>0.052445</td>\n",
              "      <td>0.196596</td>\n",
              "      <td>-0.129131</td>\n",
              "      <td>-0.167263</td>\n",
              "      <td>0.286106</td>\n",
              "      <td>0.042455</td>\n",
              "      <td>0.244205</td>\n",
              "      <td>0.321506</td>\n",
              "      <td>0.037205</td>\n",
              "      <td>0.000340</td>\n",
              "      <td>...</td>\n",
              "      <td>1.000000</td>\n",
              "      <td>-0.019706</td>\n",
              "      <td>0.158318</td>\n",
              "      <td>0.183171</td>\n",
              "      <td>-0.018741</td>\n",
              "      <td>-0.047095</td>\n",
              "      <td>0.015391</td>\n",
              "      <td>0.067244</td>\n",
              "      <td>-0.002585</td>\n",
              "      <td>-0.010101</td>\n",
              "    </tr>\n",
              "    <tr>\n",
              "      <th>g-22</th>\n",
              "      <td>0.022269</td>\n",
              "      <td>-0.061441</td>\n",
              "      <td>-0.007426</td>\n",
              "      <td>0.197013</td>\n",
              "      <td>-0.055368</td>\n",
              "      <td>0.095901</td>\n",
              "      <td>-0.076039</td>\n",
              "      <td>-0.043685</td>\n",
              "      <td>-0.028802</td>\n",
              "      <td>0.140954</td>\n",
              "      <td>...</td>\n",
              "      <td>-0.019706</td>\n",
              "      <td>1.000000</td>\n",
              "      <td>0.111432</td>\n",
              "      <td>-0.060301</td>\n",
              "      <td>0.059959</td>\n",
              "      <td>0.067503</td>\n",
              "      <td>-0.062607</td>\n",
              "      <td>0.076743</td>\n",
              "      <td>0.029931</td>\n",
              "      <td>0.000369</td>\n",
              "    </tr>\n",
              "    <tr>\n",
              "      <th>g-23</th>\n",
              "      <td>-0.076298</td>\n",
              "      <td>0.090620</td>\n",
              "      <td>-0.034230</td>\n",
              "      <td>-0.049480</td>\n",
              "      <td>-0.113396</td>\n",
              "      <td>-0.000709</td>\n",
              "      <td>-0.063008</td>\n",
              "      <td>0.143473</td>\n",
              "      <td>0.175015</td>\n",
              "      <td>0.161157</td>\n",
              "      <td>...</td>\n",
              "      <td>0.158318</td>\n",
              "      <td>0.111432</td>\n",
              "      <td>1.000000</td>\n",
              "      <td>0.059869</td>\n",
              "      <td>-0.020426</td>\n",
              "      <td>0.155888</td>\n",
              "      <td>-0.017392</td>\n",
              "      <td>0.081917</td>\n",
              "      <td>-0.033143</td>\n",
              "      <td>0.096281</td>\n",
              "    </tr>\n",
              "    <tr>\n",
              "      <th>g-24</th>\n",
              "      <td>-0.337522</td>\n",
              "      <td>-0.004299</td>\n",
              "      <td>-0.128312</td>\n",
              "      <td>-0.113336</td>\n",
              "      <td>-0.120743</td>\n",
              "      <td>0.120697</td>\n",
              "      <td>0.034160</td>\n",
              "      <td>0.458273</td>\n",
              "      <td>0.246916</td>\n",
              "      <td>0.235827</td>\n",
              "      <td>...</td>\n",
              "      <td>0.183171</td>\n",
              "      <td>-0.060301</td>\n",
              "      <td>0.059869</td>\n",
              "      <td>1.000000</td>\n",
              "      <td>0.141133</td>\n",
              "      <td>0.326184</td>\n",
              "      <td>-0.128719</td>\n",
              "      <td>0.225751</td>\n",
              "      <td>0.275870</td>\n",
              "      <td>0.464049</td>\n",
              "    </tr>\n",
              "    <tr>\n",
              "      <th>g-25</th>\n",
              "      <td>-0.235191</td>\n",
              "      <td>-0.032600</td>\n",
              "      <td>-0.067363</td>\n",
              "      <td>0.175615</td>\n",
              "      <td>-0.233682</td>\n",
              "      <td>0.082212</td>\n",
              "      <td>-0.002408</td>\n",
              "      <td>0.123891</td>\n",
              "      <td>0.295657</td>\n",
              "      <td>0.123404</td>\n",
              "      <td>...</td>\n",
              "      <td>-0.018741</td>\n",
              "      <td>0.059959</td>\n",
              "      <td>-0.020426</td>\n",
              "      <td>0.141133</td>\n",
              "      <td>1.000000</td>\n",
              "      <td>0.238111</td>\n",
              "      <td>-0.111857</td>\n",
              "      <td>0.329292</td>\n",
              "      <td>0.130257</td>\n",
              "      <td>0.281866</td>\n",
              "    </tr>\n",
              "    <tr>\n",
              "      <th>g-26</th>\n",
              "      <td>-0.422814</td>\n",
              "      <td>-0.019435</td>\n",
              "      <td>-0.126554</td>\n",
              "      <td>0.111355</td>\n",
              "      <td>-0.340708</td>\n",
              "      <td>0.058257</td>\n",
              "      <td>-0.194962</td>\n",
              "      <td>0.262002</td>\n",
              "      <td>0.384568</td>\n",
              "      <td>0.383703</td>\n",
              "      <td>...</td>\n",
              "      <td>-0.047095</td>\n",
              "      <td>0.067503</td>\n",
              "      <td>0.155888</td>\n",
              "      <td>0.326184</td>\n",
              "      <td>0.238111</td>\n",
              "      <td>1.000000</td>\n",
              "      <td>-0.061375</td>\n",
              "      <td>0.376835</td>\n",
              "      <td>0.170572</td>\n",
              "      <td>0.544694</td>\n",
              "    </tr>\n",
              "    <tr>\n",
              "      <th>g-27</th>\n",
              "      <td>0.148432</td>\n",
              "      <td>0.015661</td>\n",
              "      <td>0.036984</td>\n",
              "      <td>0.007168</td>\n",
              "      <td>0.070292</td>\n",
              "      <td>-0.106304</td>\n",
              "      <td>-0.051850</td>\n",
              "      <td>-0.126174</td>\n",
              "      <td>-0.119738</td>\n",
              "      <td>-0.084327</td>\n",
              "      <td>...</td>\n",
              "      <td>0.015391</td>\n",
              "      <td>-0.062607</td>\n",
              "      <td>-0.017392</td>\n",
              "      <td>-0.128719</td>\n",
              "      <td>-0.111857</td>\n",
              "      <td>-0.061375</td>\n",
              "      <td>1.000000</td>\n",
              "      <td>-0.052955</td>\n",
              "      <td>-0.160213</td>\n",
              "      <td>-0.057207</td>\n",
              "    </tr>\n",
              "    <tr>\n",
              "      <th>g-28</th>\n",
              "      <td>-0.471092</td>\n",
              "      <td>-0.098907</td>\n",
              "      <td>-0.129481</td>\n",
              "      <td>-0.022381</td>\n",
              "      <td>-0.360274</td>\n",
              "      <td>0.137596</td>\n",
              "      <td>-0.032510</td>\n",
              "      <td>0.287440</td>\n",
              "      <td>0.581645</td>\n",
              "      <td>0.309824</td>\n",
              "      <td>...</td>\n",
              "      <td>0.067244</td>\n",
              "      <td>0.076743</td>\n",
              "      <td>0.081917</td>\n",
              "      <td>0.225751</td>\n",
              "      <td>0.329292</td>\n",
              "      <td>0.376835</td>\n",
              "      <td>-0.052955</td>\n",
              "      <td>1.000000</td>\n",
              "      <td>0.321613</td>\n",
              "      <td>0.529473</td>\n",
              "    </tr>\n",
              "    <tr>\n",
              "      <th>g-29</th>\n",
              "      <td>-0.296871</td>\n",
              "      <td>-0.091071</td>\n",
              "      <td>-0.017941</td>\n",
              "      <td>-0.128269</td>\n",
              "      <td>-0.225461</td>\n",
              "      <td>0.171353</td>\n",
              "      <td>0.091318</td>\n",
              "      <td>0.222967</td>\n",
              "      <td>0.233969</td>\n",
              "      <td>0.191556</td>\n",
              "      <td>...</td>\n",
              "      <td>-0.002585</td>\n",
              "      <td>0.029931</td>\n",
              "      <td>-0.033143</td>\n",
              "      <td>0.275870</td>\n",
              "      <td>0.130257</td>\n",
              "      <td>0.170572</td>\n",
              "      <td>-0.160213</td>\n",
              "      <td>0.321613</td>\n",
              "      <td>1.000000</td>\n",
              "      <td>0.421884</td>\n",
              "    </tr>\n",
              "    <tr>\n",
              "      <th>g-30</th>\n",
              "      <td>-0.528327</td>\n",
              "      <td>-0.053331</td>\n",
              "      <td>-0.152288</td>\n",
              "      <td>-0.042827</td>\n",
              "      <td>-0.402256</td>\n",
              "      <td>0.136856</td>\n",
              "      <td>-0.113642</td>\n",
              "      <td>0.419395</td>\n",
              "      <td>0.484871</td>\n",
              "      <td>0.394296</td>\n",
              "      <td>...</td>\n",
              "      <td>-0.010101</td>\n",
              "      <td>0.000369</td>\n",
              "      <td>0.096281</td>\n",
              "      <td>0.464049</td>\n",
              "      <td>0.281866</td>\n",
              "      <td>0.544694</td>\n",
              "      <td>-0.057207</td>\n",
              "      <td>0.529473</td>\n",
              "      <td>0.421884</td>\n",
              "      <td>1.000000</td>\n",
              "    </tr>\n",
              "  </tbody>\n",
              "</table>\n",
              "<p>31 rows × 31 columns</p>\n",
              "</div>\n",
              "      <button class=\"colab-df-convert\" onclick=\"convertToInteractive('df-730d077e-6b73-47c6-8924-16065e53595b')\"\n",
              "              title=\"Convert this dataframe to an interactive table.\"\n",
              "              style=\"display:none;\">\n",
              "        \n",
              "  <svg xmlns=\"http://www.w3.org/2000/svg\" height=\"24px\"viewBox=\"0 0 24 24\"\n",
              "       width=\"24px\">\n",
              "    <path d=\"M0 0h24v24H0V0z\" fill=\"none\"/>\n",
              "    <path d=\"M18.56 5.44l.94 2.06.94-2.06 2.06-.94-2.06-.94-.94-2.06-.94 2.06-2.06.94zm-11 1L8.5 8.5l.94-2.06 2.06-.94-2.06-.94L8.5 2.5l-.94 2.06-2.06.94zm10 10l.94 2.06.94-2.06 2.06-.94-2.06-.94-.94-2.06-.94 2.06-2.06.94z\"/><path d=\"M17.41 7.96l-1.37-1.37c-.4-.4-.92-.59-1.43-.59-.52 0-1.04.2-1.43.59L10.3 9.45l-7.72 7.72c-.78.78-.78 2.05 0 2.83L4 21.41c.39.39.9.59 1.41.59.51 0 1.02-.2 1.41-.59l7.78-7.78 2.81-2.81c.8-.78.8-2.07 0-2.86zM5.41 20L4 18.59l7.72-7.72 1.47 1.35L5.41 20z\"/>\n",
              "  </svg>\n",
              "      </button>\n",
              "      \n",
              "  <style>\n",
              "    .colab-df-container {\n",
              "      display:flex;\n",
              "      flex-wrap:wrap;\n",
              "      gap: 12px;\n",
              "    }\n",
              "\n",
              "    .colab-df-convert {\n",
              "      background-color: #E8F0FE;\n",
              "      border: none;\n",
              "      border-radius: 50%;\n",
              "      cursor: pointer;\n",
              "      display: none;\n",
              "      fill: #1967D2;\n",
              "      height: 32px;\n",
              "      padding: 0 0 0 0;\n",
              "      width: 32px;\n",
              "    }\n",
              "\n",
              "    .colab-df-convert:hover {\n",
              "      background-color: #E2EBFA;\n",
              "      box-shadow: 0px 1px 2px rgba(60, 64, 67, 0.3), 0px 1px 3px 1px rgba(60, 64, 67, 0.15);\n",
              "      fill: #174EA6;\n",
              "    }\n",
              "\n",
              "    [theme=dark] .colab-df-convert {\n",
              "      background-color: #3B4455;\n",
              "      fill: #D2E3FC;\n",
              "    }\n",
              "\n",
              "    [theme=dark] .colab-df-convert:hover {\n",
              "      background-color: #434B5C;\n",
              "      box-shadow: 0px 1px 3px 1px rgba(0, 0, 0, 0.15);\n",
              "      filter: drop-shadow(0px 1px 2px rgba(0, 0, 0, 0.3));\n",
              "      fill: #FFFFFF;\n",
              "    }\n",
              "  </style>\n",
              "\n",
              "      <script>\n",
              "        const buttonEl =\n",
              "          document.querySelector('#df-730d077e-6b73-47c6-8924-16065e53595b button.colab-df-convert');\n",
              "        buttonEl.style.display =\n",
              "          google.colab.kernel.accessAllowed ? 'block' : 'none';\n",
              "\n",
              "        async function convertToInteractive(key) {\n",
              "          const element = document.querySelector('#df-730d077e-6b73-47c6-8924-16065e53595b');\n",
              "          const dataTable =\n",
              "            await google.colab.kernel.invokeFunction('convertToInteractive',\n",
              "                                                     [key], {});\n",
              "          if (!dataTable) return;\n",
              "\n",
              "          const docLinkHtml = 'Like what you see? Visit the ' +\n",
              "            '<a target=\"_blank\" href=https://colab.research.google.com/notebooks/data_table.ipynb>data table notebook</a>'\n",
              "            + ' to learn more about interactive tables.';\n",
              "          element.innerHTML = '';\n",
              "          dataTable['output_type'] = 'display_data';\n",
              "          await google.colab.output.renderOutput(dataTable, element);\n",
              "          const docLink = document.createElement('div');\n",
              "          docLink.innerHTML = docLinkHtml;\n",
              "          element.appendChild(docLink);\n",
              "        }\n",
              "      </script>\n",
              "    </div>\n",
              "  </div>\n",
              "  "
            ]
          },
          "metadata": {},
          "execution_count": 72
        }
      ]
    },
    {
      "cell_type": "code",
      "source": [
        "f, ax = plt.subplots(figsize=(18, 12))\n",
        "mask = np.triu(np.ones_like(corr, dtype=bool))\n",
        "\n",
        "cmap = sns.diverging_palette(230, 20, as_cmap=True)\n",
        "\n",
        "sns.heatmap(corr, mask=mask, cmap=cmap, center=0, vmin=-1, vmax=1, \n",
        "            square=True, linewidths=.5, cbar_kws={\"shrink\": .5})"
      ],
      "metadata": {
        "colab": {
          "base_uri": "https://localhost:8080/",
          "height": 730
        },
        "id": "s-AvKq6b3Fhk",
        "outputId": "36e90106-59ef-49c7-f975-e4227d4243fa"
      },
      "execution_count": 71,
      "outputs": [
        {
          "output_type": "execute_result",
          "data": {
            "text/plain": [
              "<matplotlib.axes._subplots.AxesSubplot at 0x7f8842730910>"
            ]
          },
          "metadata": {},
          "execution_count": 71
        },
        {
          "output_type": "display_data",
          "data": {
            "text/plain": [
              "<Figure size 1296x864 with 2 Axes>"
            ],
            "image/png": "[encoded data removed]"
          },
          "metadata": {
            "needs_background": "light"
          }
        }
      ]
    }
  ]
}