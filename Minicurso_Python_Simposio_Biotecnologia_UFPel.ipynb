{
  "nbformat": 4,
  "nbformat_minor": 0,
  "metadata": {
    "colab": {
      "provenance": [],
      "include_colab_link": true
    },
    "kernelspec": {
      "name": "python3",
      "display_name": "Python 3"
    },
    "language_info": {
      "name": "python"
    }
  },
  "cells": [
    {
      "cell_type": "markdown",
      "metadata": {
        "id": "view-in-github",
        "colab_type": "text"
      },
      "source": [
        "<a href=\"https://colab.research.google.com/github/mariacmartins/minicurso_intro_python/blob/main/Minicurso_Python_Simposio_Biotecnologia_UFPel.ipynb\" target=\"_parent\"><img src=\"https://colab.research.google.com/assets/colab-badge.svg\" alt=\"Open In Colab\"/></a>"
      ]
    },
    {
      "cell_type": "markdown",
      "source": [
        "# Minicurso - Introdução à Linguagem Python utilizando Google Colab\n",
        "## Simpósio de Biotecnologia UFPel 2024\n",
        "\n",
        "## Por que aprender a programar?\n",
        "*Tudo o que fazemos responde a um algoritmo. É hora de que todos entendam como e por quê.*\n",
        "\n",
        "- Desenvolve a habilidade de resolver problemas\n",
        "- Trabalha a criatividade, persistência e a capacidade de superação\n",
        "- Ganho autonomia e agilidade no trabalho\n",
        "\n",
        "## Por que Python?\n",
        "- Simples e fácil de aprender\n",
        "- Grande comunidade\n",
        "- Versatilidade e diversas aplicações: Desenvolvimento web, Ciência de Dados, Inteligência Artificial, desenvolvimento de jogos, etc.\n",
        "- Bem aceita no mercado de trabalho\n",
        "\n",
        "## Por que iremos utilizar o Google Colab?\n",
        "O Google Colab é um ambiente de armazenamento em nuvem de notebooks, executado diretamente no navegador, sem a necessidade de nenhum tipo de instalação de software em máquina. Os notebooks permitem combinar códigos executáveis (por exemplo, códigos em Python) com textos e imagens utilizando Markdown.\n"
      ],
      "metadata": {
        "id": "1T2sdTWbL4JL"
      }
    },
    {
      "cell_type": "markdown",
      "source": [
        "# **Google Colab**\n",
        "\n",
        "![transferir.png](https://miro.medium.com/max/640/1*9Q1rcr_peQdnGMwOYDBFhw.png)\n",
        "\n",
        "* Suporte para Python 2.7 e Python 3.6;\n",
        "* Aceleração de GPU grátis;\n",
        "* Bibliotecas pré-instaladas: Todas as principais bibliotecas Python, como o TensorFlow, o Scikit-learn, o Matplotlib, entre muitas outras, estão pré-instaladas e prontas para serem importadas;\n",
        "* Construído com base no Jupyter Notebook;\n",
        "* Recurso de colaboração (funciona com uma equipe igual ao Google Docs): o Google Colab permite que os desenvolvedores usem e compartilhem o Jupyter notebook entre si sem precisar baixar, instalar ou executar qualquer coisa que não seja um navegador;\n",
        "* Suporta comandos bash;\n",
        "* Os notebooks do Google Colab são armazenados no drive.\n",
        "\n",
        "\n",
        "\n",
        "\n",
        "\n"
      ],
      "metadata": {
        "id": "0sShTM5laKy2"
      }
    },
    {
      "cell_type": "markdown",
      "source": [
        "#Guia para iniciantes\n",
        "##**Markdown**\n",
        "\n",
        "\n",
        "*   Formatação de texto básica;\n",
        "*   Inserção de figuras;\n",
        "*   Hyperlinks.\n",
        "____________________________\n"
      ],
      "metadata": {
        "id": "l0zmn5KCWMk2"
      }
    },
    {
      "cell_type": "markdown",
      "source": [
        "#**Markdown**\n",
        "\n",
        "![images.png](data:image/png;base64,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)\n",
        "\n",
        "* Formatação de texto básica;\n",
        "* Inserção de figuras;\n",
        "* Hyperlinks."
      ],
      "metadata": {
        "id": "3PGsjp2YBBsJ"
      }
    },
    {
      "cell_type": "markdown",
      "source": [
        "# **Formatação de texto**\n",
        "\n",
        "### #  - Título 1\n",
        "\n",
        "# Título 1\n",
        "\n",
        "\n",
        "____________________________\n",
        "### ##  - Título 2\n",
        "\n",
        "## Título 2\n",
        "____________________________\n",
        "### ###  - Título 3\n",
        "\n",
        "### Título 3\n",
        "\n",
        "____________________________\n",
        "\n",
        "### ** Texto em Negrito **\n",
        "\n",
        "**Texto em Negrito**\n",
        "\n",
        "____________________________\n",
        "### * Texto em Itálico *\n",
        "*Texto em Itálico*\n",
        "____________________________\n",
        "\n",
        "\n",
        "# **Formatação para código**\n",
        "\n",
        "###```\n",
        "###  Isto está formatado como código\n",
        "###```\n",
        "\n",
        "\n",
        "\n",
        "```\n",
        " Isto está formatado como código\n",
        "```\n",
        "\n",
        "____________________________\n",
        "\n",
        "#**Hyperlink**\n",
        "```markdown\n",
        " [Google](https://www.google.com)\n",
        "```\n",
        "[Google](https://www.google.com)\n",
        "\n",
        "____________________________\n",
        "\n",
        "#**Inserindo figura**\n",
        "\n",
        "```markdown\n",
        " ![transferir.png](https://res.cloudinary.com/apideck/image/upload/v1615737977/icons/google-colab.png)\n",
        "```\n",
        " ![transferir.png](https://res.cloudinary.com/apideck/image/upload/v1615737977/icons/google-colab.png)\n",
        "\n"
      ],
      "metadata": {
        "id": "_Tmhs0YuByfZ"
      }
    },
    {
      "cell_type": "markdown",
      "source": [
        "# **Python**\n",
        "\n",
        " ![transferir.png](data:image/png;base64,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)\n",
        "\n",
        "## Tipos de dados\n",
        "\n",
        "### Numéricos:\n",
        "- Inteiros **(int)** -> números sem casa decimal: 9, 7, -4\n",
        "- Reais **(float)** -> números com casa decimal: 3.14, 600.4, 0.0\n",
        "\n",
        "### Não numéricos:\n",
        "- Texto/String **(str)**: \"Python\", \"96785-202\"\n",
        "- Lógicos **(bool)**: True ou False\n",
        "\n",
        "## Tipos de dados\n",
        "\n",
        "### Numéricos:\n",
        "- Inteiros **(int)** -> números sem casa decimal: 9, 7, -4\n",
        "- Reais **(float)** -> números com casa decimal: 3.14, 600.4, 0.0\n",
        "\n",
        "### Não numéricos:\n",
        "- Texto/String **(str)**: \"Python\", \"Maria Clara\", \"96785-202\"\n",
        "- Lógicos **(bool)**: True ou False\n"
      ],
      "metadata": {
        "id": "8ItPWWl1KK4z"
      }
    },
    {
      "cell_type": "code",
      "source": [
        "# Variável mensagem recebe o texto Hello, world!\n",
        "mensagem = 'Hello, world!'\n",
        "print(mensagem)"
      ],
      "metadata": {
        "id": "va4Wxt_kKq8C",
        "colab": {
          "base_uri": "https://localhost:8080/"
        },
        "outputId": "ce77b76f-bc56-4fe0-d47a-ec6993b54568"
      },
      "execution_count": 1,
      "outputs": [
        {
          "output_type": "stream",
          "name": "stdout",
          "text": [
            "Hello, world!\n"
          ]
        }
      ]
    },
    {
      "cell_type": "code",
      "source": [
        "type(mensagem)"
      ],
      "metadata": {
        "colab": {
          "base_uri": "https://localhost:8080/"
        },
        "id": "Ok1tQOvZAVyN",
        "outputId": "723c0148-6896-44da-9f6a-79f8e8ef35a5"
      },
      "execution_count": 2,
      "outputs": [
        {
          "output_type": "execute_result",
          "data": {
            "text/plain": [
              "str"
            ]
          },
          "metadata": {},
          "execution_count": 2
        }
      ]
    },
    {
      "cell_type": "code",
      "source": [
        "# f-string\n",
        "print(f'{mensagem} Estou aprendendo a programar.')"
      ],
      "metadata": {
        "colab": {
          "base_uri": "https://localhost:8080/"
        },
        "id": "KE-D29mjdkOZ",
        "outputId": "83a2de18-c68f-49f4-9cff-31787cc69add"
      },
      "execution_count": 3,
      "outputs": [
        {
          "output_type": "stream",
          "name": "stdout",
          "text": [
            "Hello, world! Estou aprendendo a programar.\n"
          ]
        }
      ]
    },
    {
      "cell_type": "markdown",
      "source": [
        "## Variáveis e identificadores\n",
        "**Variáveis** são locais onde armazenamos valores na memória. De modo geral, as variáveis são elementos básicos na programação que armazenam os dados que precisamos no nosso algoritmo.\n",
        "\n",
        "Toda variável será caracterizada por um nome (que a identifica em um programa) e por um tipo.\n",
        "\n",
        "**Identificador** é um nome dado para variáveis, constantes e funções.\n",
        "\n",
        "**Em Python, um identificador pode conter apenas:**\n",
        "\n",
        "Letras de A a Z (maiúsculas e minúsculas)\n",
        "Os dígitos de 0 a 9\n",
        "O símbolo underscore _\n",
        "Regras para identificadores em Python:\n",
        "\n",
        "O identificador deve começar obrigatoriamente com uma letra ou underscore.\n",
        "**Não deve conter espaços, caracteres especiais ou letras acentuadas.\n",
        "Python faz diferenciação entre maiúsculas e minúsculas.**"
      ],
      "metadata": {
        "id": "--zPUzJZbzRl"
      }
    },
    {
      "cell_type": "code",
      "source": [
        "#sintaxe inválida\n",
        "minha idade = 18\n",
        "print(minha idade)"
      ],
      "metadata": {
        "colab": {
          "base_uri": "https://localhost:8080/",
          "height": 106
        },
        "id": "2te0TX4EBay_",
        "outputId": "a98b12a3-ab23-4ebc-f5d4-eb0b10a98875"
      },
      "execution_count": 4,
      "outputs": [
        {
          "output_type": "error",
          "ename": "SyntaxError",
          "evalue": "invalid syntax (<ipython-input-4-4ec5c804f5e3>, line 2)",
          "traceback": [
            "\u001b[0;36m  File \u001b[0;32m\"<ipython-input-4-4ec5c804f5e3>\"\u001b[0;36m, line \u001b[0;32m2\u001b[0m\n\u001b[0;31m    minha idade = 18\u001b[0m\n\u001b[0m          ^\u001b[0m\n\u001b[0;31mSyntaxError\u001b[0m\u001b[0;31m:\u001b[0m invalid syntax\n"
          ]
        }
      ]
    },
    {
      "cell_type": "code",
      "source": [
        "#sintaxe correta com variável com mais de um nome\n",
        "minha_idade = 29\n",
        "print(minha_idade)"
      ],
      "metadata": {
        "colab": {
          "base_uri": "https://localhost:8080/"
        },
        "id": "7JwEbty5Bt1c",
        "outputId": "d3eebbd0-171c-46d3-f8d9-db1659420b73"
      },
      "execution_count": 63,
      "outputs": [
        {
          "output_type": "stream",
          "name": "stdout",
          "text": [
            "29\n"
          ]
        }
      ]
    },
    {
      "cell_type": "code",
      "source": [
        "type(minha_idade)"
      ],
      "metadata": {
        "colab": {
          "base_uri": "https://localhost:8080/"
        },
        "id": "FHTahVSSCL_n",
        "outputId": "088f3995-c1c5-48ae-8455-f7b368e72244"
      },
      "execution_count": 64,
      "outputs": [
        {
          "output_type": "execute_result",
          "data": {
            "text/plain": [
              "int"
            ]
          },
          "metadata": {},
          "execution_count": 64
        }
      ]
    },
    {
      "cell_type": "code",
      "source": [
        "molecula = \"RNA\"\n",
        "MOLECULA = \"DNA\"\n",
        "print(molecula)\n",
        "print(MOLECULA)"
      ],
      "metadata": {
        "colab": {
          "base_uri": "https://localhost:8080/"
        },
        "id": "zQz1IRfYCinD",
        "outputId": "b8f32146-f94e-4cca-fa2f-286e1c9dc3c4"
      },
      "execution_count": 65,
      "outputs": [
        {
          "output_type": "stream",
          "name": "stdout",
          "text": [
            "RNA\n",
            "DNA\n"
          ]
        }
      ]
    },
    {
      "cell_type": "markdown",
      "source": [
        "# Operadores aritméticos\n",
        "\n",
        "\n",
        "| Operador | Significado   | Exemplo                    |\n",
        "|:---|:---|:---|\n",
        "|     +    | Adição        | a = 3 + 2                  |\n",
        "|     -    | Subtração     | b = 7 - a                  |\n",
        "|     *    | Multiplicação | c = a * b                  |\n",
        "|     /    | Divisão       | d = 10/3                   |\n",
        "|    //    | Quociente     | e = 10//3                  |\n",
        "|     %    | Resto         | f = 10%3                   |\n",
        "|    **    | Exponenciação | g = 2 ** 3                 |\n",
        "|    **    | Radiciação    | h = 16 ** (1/2)            |\n",
        "\n",
        "## Precedência de Operadores\n",
        "\n",
        "1. Parênteses\n",
        "2. Potenciação\n",
        "3. Multiplicação e divisão\n",
        "4. Soma e substração"
      ],
      "metadata": {
        "id": "I4LcJtEvEz42"
      }
    },
    {
      "cell_type": "code",
      "source": [
        "# Soma\n",
        "3 + 2"
      ],
      "metadata": {
        "colab": {
          "base_uri": "https://localhost:8080/"
        },
        "id": "J3leLfpME1R6",
        "outputId": "e10e5199-ccce-45c6-b7e0-6afe0fb442aa"
      },
      "execution_count": 5,
      "outputs": [
        {
          "output_type": "execute_result",
          "data": {
            "text/plain": [
              "5"
            ]
          },
          "metadata": {},
          "execution_count": 5
        }
      ]
    },
    {
      "cell_type": "code",
      "source": [
        "# Subtração\n",
        "3 - 2"
      ],
      "metadata": {
        "colab": {
          "base_uri": "https://localhost:8080/"
        },
        "id": "MtjvHVbMFLQH",
        "outputId": "b68a5cb0-efcf-44c0-ada7-0ef1bfe414f2"
      },
      "execution_count": 6,
      "outputs": [
        {
          "output_type": "execute_result",
          "data": {
            "text/plain": [
              "1"
            ]
          },
          "metadata": {},
          "execution_count": 6
        }
      ]
    },
    {
      "cell_type": "code",
      "source": [
        "# Multiplicação\n",
        "3.4 * 3"
      ],
      "metadata": {
        "colab": {
          "base_uri": "https://localhost:8080/"
        },
        "id": "qZvKtOgoFRA2",
        "outputId": "f06d40bb-64cb-41e1-d35c-a62a9f7a6136"
      },
      "execution_count": 7,
      "outputs": [
        {
          "output_type": "execute_result",
          "data": {
            "text/plain": [
              "10.2"
            ]
          },
          "metadata": {},
          "execution_count": 7
        }
      ]
    },
    {
      "cell_type": "code",
      "source": [
        "# Divisão\n",
        "25 / 5"
      ],
      "metadata": {
        "colab": {
          "base_uri": "https://localhost:8080/"
        },
        "id": "VSZksQBjFUiD",
        "outputId": "f6a185ed-59d2-49e8-f76d-654a2aae1ba5"
      },
      "execution_count": 8,
      "outputs": [
        {
          "output_type": "execute_result",
          "data": {
            "text/plain": [
              "5.0"
            ]
          },
          "metadata": {},
          "execution_count": 8
        }
      ]
    },
    {
      "cell_type": "code",
      "source": [
        "# Exponenciação\n",
        "3 ** 2"
      ],
      "metadata": {
        "colab": {
          "base_uri": "https://localhost:8080/"
        },
        "id": "QhDg2bO6FYzJ",
        "outputId": "cac83cf8-a351-4078-b179-ca1c1cd5cdc8"
      },
      "execution_count": 9,
      "outputs": [
        {
          "output_type": "execute_result",
          "data": {
            "text/plain": [
              "9"
            ]
          },
          "metadata": {},
          "execution_count": 9
        }
      ]
    },
    {
      "cell_type": "code",
      "source": [
        "# Radiciação\n",
        "16 ** (1/2)"
      ],
      "metadata": {
        "colab": {
          "base_uri": "https://localhost:8080/"
        },
        "id": "kNFnEWdbFcH9",
        "outputId": "d870d4b0-b360-43f3-c701-1d4eb39a4718"
      },
      "execution_count": 10,
      "outputs": [
        {
          "output_type": "execute_result",
          "data": {
            "text/plain": [
              "4.0"
            ]
          },
          "metadata": {},
          "execution_count": 10
        }
      ]
    },
    {
      "cell_type": "markdown",
      "source": [
        "Você também pode criar um mini programa que receba os dados do usuário e faça as contas de forma automática."
      ],
      "metadata": {
        "id": "85movexhGDXT"
      }
    },
    {
      "cell_type": "code",
      "source": [
        "n1 = int(input('Digite o primeiro número: '))\n",
        "n2 = int(input('Digite o segundo número: '))\n",
        "subtracao = n1 - n2\n",
        "print(f'O número resultante da subtração é: {subtracao}')"
      ],
      "metadata": {
        "colab": {
          "base_uri": "https://localhost:8080/"
        },
        "id": "o1nualWqGBSY",
        "outputId": "720663e5-37cc-4632-90ba-68eae88b0b7b"
      },
      "execution_count": 11,
      "outputs": [
        {
          "output_type": "stream",
          "name": "stdout",
          "text": [
            "Digite o primeiro número: 3\n",
            "Digite o segundo número: 2\n",
            "O número resultante da subtração é: 1\n"
          ]
        }
      ]
    },
    {
      "cell_type": "markdown",
      "source": [
        "## Parênteses acabam impactando no resultado das operações:"
      ],
      "metadata": {
        "id": "lD68j0S1Gh9m"
      }
    },
    {
      "cell_type": "code",
      "source": [
        "4 + 5 * 7 / 3 - 1"
      ],
      "metadata": {
        "colab": {
          "base_uri": "https://localhost:8080/"
        },
        "id": "paiIWqrGGils",
        "outputId": "643d42f8-fe58-4fa5-9181-bed08120de08"
      },
      "execution_count": 12,
      "outputs": [
        {
          "output_type": "execute_result",
          "data": {
            "text/plain": [
              "14.666666666666666"
            ]
          },
          "metadata": {},
          "execution_count": 12
        }
      ]
    },
    {
      "cell_type": "code",
      "source": [
        "(4 + 5) * 7 / 3 - 1"
      ],
      "metadata": {
        "colab": {
          "base_uri": "https://localhost:8080/"
        },
        "id": "CBbbV0OFGmti",
        "outputId": "8feb4eb4-159f-40e7-ce39-88107868869c"
      },
      "execution_count": 13,
      "outputs": [
        {
          "output_type": "execute_result",
          "data": {
            "text/plain": [
              "20.0"
            ]
          },
          "metadata": {},
          "execution_count": 13
        }
      ]
    },
    {
      "cell_type": "markdown",
      "source": [
        "# Operadores relacionais (operadores de comparação)\n",
        "\n",
        "| Operador | Significado   | Exemplo                    |\n",
        "|:---|:---|:---|\n",
        "| == | Igualdade | a == b |\n",
        "| != | DesiIgualdade | a != b |\n",
        "| > | Maior que | a > b |\n",
        "| < | Menor que | a < b |\n",
        "| >= | Maior ou igual | a >= b |\n",
        "| <= | Menor ou igual | a <= b |"
      ],
      "metadata": {
        "id": "ANBE6WqiGvAx"
      }
    },
    {
      "cell_type": "code",
      "source": [
        "# = no Python é atribuição de valores de variável enquanto que == é operador de igualdade\n",
        "a = 5\n",
        "b = 3\n",
        "a == b"
      ],
      "metadata": {
        "colab": {
          "base_uri": "https://localhost:8080/"
        },
        "id": "MeUKltZcGvla",
        "outputId": "6a8e280f-d726-40f3-f44f-cfe79a5aef83"
      },
      "execution_count": 14,
      "outputs": [
        {
          "output_type": "execute_result",
          "data": {
            "text/plain": [
              "False"
            ]
          },
          "metadata": {},
          "execution_count": 14
        }
      ]
    },
    {
      "cell_type": "code",
      "source": [
        "a > b"
      ],
      "metadata": {
        "colab": {
          "base_uri": "https://localhost:8080/"
        },
        "id": "ZF7TmHJqHCU4",
        "outputId": "2a5087d2-1c79-4adb-ad9b-c26798f65bd0"
      },
      "execution_count": 15,
      "outputs": [
        {
          "output_type": "execute_result",
          "data": {
            "text/plain": [
              "True"
            ]
          },
          "metadata": {},
          "execution_count": 15
        }
      ]
    },
    {
      "cell_type": "markdown",
      "source": [
        "# Exercício prático:\n",
        "\n",
        "Desenvolva um algoritmo que calcule e mostre a média entre a triplicata de amostras de um experimento, sendo as amostras:\n",
        "-  amostra_1 = 10\n",
        "- amostra_2 = 8.5\n",
        "- amostra_3 = 9.2\n",
        "\n",
        "OBS: Utilize a variável **mean** para armazenar o valor de média obtida."
      ],
      "metadata": {
        "id": "TuI1OvvrISSd"
      }
    },
    {
      "cell_type": "code",
      "source": [
        "# Solução exercício prático:\n",
        "amostra_1 = 10\n",
        "amostra_2 = 8.5\n",
        "amostra_3 = 9.2\n",
        "qtde_amostras = 3\n",
        "\n",
        "mean = (amostra_1 + amostra_2 + amostra_3) / qtde_amostras\n",
        "mean"
      ],
      "metadata": {
        "colab": {
          "base_uri": "https://localhost:8080/"
        },
        "id": "Z75vohRFITRQ",
        "outputId": "2e6c85a0-ddb3-4791-d18f-b950f5e84476"
      },
      "execution_count": 16,
      "outputs": [
        {
          "output_type": "execute_result",
          "data": {
            "text/plain": [
              "9.233333333333333"
            ]
          },
          "metadata": {},
          "execution_count": 16
        }
      ]
    },
    {
      "cell_type": "markdown",
      "source": [
        "## Porém o Python facilita as coisas para a gente..."
      ],
      "metadata": {
        "id": "EJ58UAZ_JZwf"
      }
    },
    {
      "cell_type": "code",
      "source": [
        "import numpy as np\n",
        "\n",
        "lista_amostras = [amostra_1, amostra_2, amostra_3]\n",
        "\n",
        "np.mean(lista_amostras)"
      ],
      "metadata": {
        "colab": {
          "base_uri": "https://localhost:8080/"
        },
        "id": "BT7fPooaJbTZ",
        "outputId": "9cc565bb-ff19-46c0-b485-ca71a982845f"
      },
      "execution_count": 17,
      "outputs": [
        {
          "output_type": "execute_result",
          "data": {
            "text/plain": [
              "9.233333333333333"
            ]
          },
          "metadata": {},
          "execution_count": 17
        }
      ]
    },
    {
      "cell_type": "markdown",
      "source": [
        "## Mas o que é Numpy e o que é uma lista?\n",
        "\n",
        "- Bibliotecas:\n",
        "\n",
        "Até o momento, nós aprendemos como fazer as operações básicas com Python, mas agora podemos começar a aprender a usar módulos/bibliotecas para conseguir ir além!\n",
        "\n",
        "Uma biblioteca é um conjunto de módulos. Módulos são programas feitos para serem reaproveitados em outros programas. Há diversos módulos do Python que fazem parte da biblioteca padrão.\n",
        "Se eu precisar de algumas funcionalidades que as funções básicas não estão conseguindo realizar na aplicação que estou construindo, eu preciso importar algumas funcionalidades de fora!\n",
        "\n",
        "Exemplo de biblioteca: **Numpy** e comando para utilizá-la:\n",
        "```\n",
        "import numpy as np\n",
        "```\n",
        "\n",
        "**NumPy** é uma poderosa biblioteca para processamento númerico em Python.\n",
        "\n",
        "\n",
        "- E **listas**?\n",
        "\n",
        "Lista é uma coleção de elementos (de tamanho dinâmico).\n",
        "\n",
        "Cada elemento possui uma posição dentro de uma lista. Essa posição é chamada índice. O primeiro elemento fica armazenado no índice 0 e o último elemento no índice n-1 (n é a quantidade de elementos da lista).\n",
        "\n"
      ],
      "metadata": {
        "id": "RM6Pj0YKJiMz"
      }
    },
    {
      "cell_type": "code",
      "source": [
        "valores_amostras = [10, 9.2, 8]\n",
        "\n",
        "bases_nitrogenadas = [\"A\", \"C\", \"G\", \"U\"]"
      ],
      "metadata": {
        "id": "YUiuaIREJi3M"
      },
      "execution_count": 18,
      "outputs": []
    },
    {
      "cell_type": "markdown",
      "source": [
        "Acessando elementos de uma lista:\n",
        "\n",
        "Você deve passar o nome da lista que deseja acessar e passar o índice do elemento desejado entre colchetes."
      ],
      "metadata": {
        "id": "mOAmHUqXMny0"
      }
    },
    {
      "cell_type": "code",
      "source": [
        "bases_nitrogenadas[0]"
      ],
      "metadata": {
        "colab": {
          "base_uri": "https://localhost:8080/",
          "height": 35
        },
        "id": "d7r-gPlfJcPH",
        "outputId": "fac75759-b09d-4822-a1ef-c9d5fdb7e4c4"
      },
      "execution_count": 19,
      "outputs": [
        {
          "output_type": "execute_result",
          "data": {
            "text/plain": [
              "'A'"
            ],
            "application/vnd.google.colaboratory.intrinsic+json": {
              "type": "string"
            }
          },
          "metadata": {},
          "execution_count": 19
        }
      ]
    },
    {
      "cell_type": "markdown",
      "source": [
        "Mas também podemos acessar mais de um elemento da lista passando o índice:"
      ],
      "metadata": {
        "id": "vC9_I97RNaMJ"
      }
    },
    {
      "cell_type": "code",
      "source": [
        "valores_amostras[0:2]"
      ],
      "metadata": {
        "colab": {
          "base_uri": "https://localhost:8080/"
        },
        "id": "Jb5HVoXxNfTN",
        "outputId": "5670f9ab-ad75-4a1a-f963-ae4b93708eda"
      },
      "execution_count": 20,
      "outputs": [
        {
          "output_type": "execute_result",
          "data": {
            "text/plain": [
              "[10, 9.2]"
            ]
          },
          "metadata": {},
          "execution_count": 20
        }
      ]
    },
    {
      "cell_type": "markdown",
      "source": [
        "Substituição de valores pelo índice:"
      ],
      "metadata": {
        "id": "SwVOShdAN27x"
      }
    },
    {
      "cell_type": "code",
      "source": [
        "bases_nitrogenadas[3]"
      ],
      "metadata": {
        "colab": {
          "base_uri": "https://localhost:8080/",
          "height": 35
        },
        "id": "3CvnNJVTN3XB",
        "outputId": "3a730924-9e37-43b7-8fec-dce73f83a8af"
      },
      "execution_count": 21,
      "outputs": [
        {
          "output_type": "execute_result",
          "data": {
            "text/plain": [
              "'U'"
            ],
            "application/vnd.google.colaboratory.intrinsic+json": {
              "type": "string"
            }
          },
          "metadata": {},
          "execution_count": 21
        }
      ]
    },
    {
      "cell_type": "code",
      "source": [
        "bases_nitrogenadas[3] = \"T\"\n",
        "bases_nitrogenadas"
      ],
      "metadata": {
        "colab": {
          "base_uri": "https://localhost:8080/"
        },
        "id": "0r7I51wCOhTE",
        "outputId": "94317142-b08a-40e3-fdd5-a6591c571965"
      },
      "execution_count": 22,
      "outputs": [
        {
          "output_type": "execute_result",
          "data": {
            "text/plain": [
              "['A', 'C', 'G', 'T']"
            ]
          },
          "metadata": {},
          "execution_count": 22
        }
      ]
    },
    {
      "cell_type": "code",
      "source": [
        "len(bases_nitrogenadas)"
      ],
      "metadata": {
        "colab": {
          "base_uri": "https://localhost:8080/"
        },
        "id": "0qbjjcY1OsNt",
        "outputId": "130217e6-41a2-45bc-a994-f29ef2fde993"
      },
      "execution_count": 23,
      "outputs": [
        {
          "output_type": "execute_result",
          "data": {
            "text/plain": [
              "4"
            ]
          },
          "metadata": {},
          "execution_count": 23
        }
      ]
    },
    {
      "cell_type": "markdown",
      "source": [
        "## Adicionando elementos em uma lista"
      ],
      "metadata": {
        "id": "dDHVTpRYPCd2"
      }
    },
    {
      "cell_type": "code",
      "source": [
        "lista_rna = ['mRNA', 'circRNA', 'shRNA', 'tRNA']\n",
        "\n",
        "lista_rna.append('miRNA')\n",
        "\n",
        "print(lista_rna)"
      ],
      "metadata": {
        "colab": {
          "base_uri": "https://localhost:8080/"
        },
        "id": "oJ6m2OgIPDrf",
        "outputId": "d69cf0e7-dbd6-4aad-d7c7-e80b7fb33cc1"
      },
      "execution_count": 24,
      "outputs": [
        {
          "output_type": "stream",
          "name": "stdout",
          "text": [
            "['mRNA', 'circRNA', 'shRNA', 'tRNA', 'miRNA']\n"
          ]
        }
      ]
    },
    {
      "cell_type": "markdown",
      "source": [
        "### Desafio:\n",
        "1. Crie uma lista de strings chamada experimentos contendo os seguintes nomes de experimentos que deram errado: PCR do gel quebrado, Western Blott sem banda, MS/MS sem proteína quantificada, Código de bioinfo com erro.\n",
        "2. Adicione um nome criativo ao final dessa lista.\n",
        "3. Substitua Western Blott sem banda por Western Blott com uma banda suspeita."
      ],
      "metadata": {
        "id": "osT4qVUDQ_5F"
      }
    },
    {
      "cell_type": "code",
      "source": [
        "experimentos = ['PCR do gel quebrado', 'Western Blott sem banda', 'MS/MS sem proteína quantificada', 'Código de bioinfo com erro']\n",
        "\n",
        "experimentos.append('ELISA com curva padrão sem sentido')\n",
        "\n",
        "experimentos"
      ],
      "metadata": {
        "colab": {
          "base_uri": "https://localhost:8080/"
        },
        "id": "taJDWfdYRAin",
        "outputId": "2acf9efd-090c-4588-b74e-6fb7ac450179"
      },
      "execution_count": 25,
      "outputs": [
        {
          "output_type": "execute_result",
          "data": {
            "text/plain": [
              "['PCR do gel quebrado',\n",
              " 'Western Blott sem banda',\n",
              " 'MS/MS sem proteína quantificada',\n",
              " 'Código de bioinfo com erro',\n",
              " 'ELISA com curva padrão sem sentido']"
            ]
          },
          "metadata": {},
          "execution_count": 25
        }
      ]
    },
    {
      "cell_type": "code",
      "source": [
        "experimentos[1] = 'Western Blott com banda suspeita'\n",
        "experimentos"
      ],
      "metadata": {
        "colab": {
          "base_uri": "https://localhost:8080/"
        },
        "id": "YZUB3EMWSDMv",
        "outputId": "471c4312-54a7-4055-fe96-10b09db6e056"
      },
      "execution_count": 26,
      "outputs": [
        {
          "output_type": "execute_result",
          "data": {
            "text/plain": [
              "['PCR do gel quebrado',\n",
              " 'Western Blott com banda suspeita',\n",
              " 'MS/MS sem proteína quantificada',\n",
              " 'Código de bioinfo com erro',\n",
              " 'ELISA com curva padrão sem sentido']"
            ]
          },
          "metadata": {},
          "execution_count": 26
        }
      ]
    },
    {
      "cell_type": "markdown",
      "source": [
        "## **Dicionários**\n",
        "\n",
        "- Um dicionário é uma coleção de elementos que possuem uma *chave* e um *valor*\n",
        "- Ao invés de um índice, usamos a *chave* para recuperar um *valor*\n",
        "\n",
        "Assim, o principal propósito de um dicionário é associar um valor (value) a uma chave (key)"
      ],
      "metadata": {
        "id": "d-5ehDYHSweQ"
      }
    },
    {
      "cell_type": "code",
      "source": [
        "genes = {\"gene_1\" : \"AACCGGATGCA\", \"gene_2\" : \"TTGCGATCCC\", \"gene_3\" : \"GCGCGTAATCG\"}"
      ],
      "metadata": {
        "id": "SI8tbGUnSxYC"
      },
      "execution_count": 27,
      "outputs": []
    },
    {
      "cell_type": "code",
      "source": [
        "# Acessando o valor associado à chave\n",
        "genes['gene_2']"
      ],
      "metadata": {
        "colab": {
          "base_uri": "https://localhost:8080/",
          "height": 35
        },
        "id": "cgBh_JbgTbYg",
        "outputId": "258b1186-05d7-4b54-f774-435bd10d844d"
      },
      "execution_count": 28,
      "outputs": [
        {
          "output_type": "execute_result",
          "data": {
            "text/plain": [
              "'TTGCGATCCC'"
            ],
            "application/vnd.google.colaboratory.intrinsic+json": {
              "type": "string"
            }
          },
          "metadata": {},
          "execution_count": 28
        }
      ]
    },
    {
      "cell_type": "code",
      "source": [
        "genes['gene_2'] = \"AACGTAGGG\"\n",
        "genes"
      ],
      "metadata": {
        "colab": {
          "base_uri": "https://localhost:8080/"
        },
        "id": "uR3WD-8JTxai",
        "outputId": "8c7e355d-e046-4cca-c159-8bef567c1bea"
      },
      "execution_count": 29,
      "outputs": [
        {
          "output_type": "execute_result",
          "data": {
            "text/plain": [
              "{'gene_1': 'AACCGGATGCA', 'gene_2': 'AACGTAGGG', 'gene_3': 'GCGCGTAATCG'}"
            ]
          },
          "metadata": {},
          "execution_count": 29
        }
      ]
    },
    {
      "cell_type": "markdown",
      "source": [
        "## Estruturas Condicionais:\n",
        "\n",
        "## Estruturas condicionais:\n",
        "Quando programamos, muitas vezes precisamos que determinado bloco de código seja executado apenas se uma determinada condição for verdadeira. Nesse caso, devemos fazer uso de uma estrutura de condição.\n",
        "\n",
        "### **if:**\n",
        "if (que significa se em português) é uma estrutura de condição que permite avaliar uma expressão e, de acordo com seu resultado, executar uma determinada ação.\n",
        "```python\n",
        "if condição_do_if:\n",
        "    # bloco executado se a condição for verdadeira\n",
        "    comandos\n",
        " ```\n",
        "\n",
        "### **else:**\n",
        "Caso a condição avaliada com o if não seja atendida, definimos um fluxo alternativo que o código deve seguir.\n",
        "```python\n",
        "if condição_do_if:\n",
        "    # bloco executado se a condição for verdadeira\n",
        "    comandos\n",
        "else:\n",
        "    # bloco executado se a condição do if for falsa\n",
        "    comandos\n",
        "```\n",
        "\n",
        "### **elif:**\n",
        "O elif é uma contração do else if que torna mais claro o tratamento das várias alternativas, encadeando condições.\n",
        "```python\n",
        "if condição_do_if:\n",
        "    # bloco executado se a condição for verdadeira\n",
        "    comandos\n",
        "\n",
        "elif:\n",
        "    # bloco executado caso haja um caminho alternativo à condição do bloco if\n",
        "    comandos\n",
        "\n",
        "else:\n",
        "    # bloco executado se a condição do if for falsa\n",
        "    comandos\n",
        "```"
      ],
      "metadata": {
        "id": "35OewejFpTly"
      }
    },
    {
      "cell_type": "code",
      "source": [
        "#Primeiro códon\n",
        "dna_sequence = \"ACTGACTGAC\"\n",
        "\n",
        "codon = dna_sequence[0:3]\n",
        "\n",
        "if codon == \"ACT\":\n",
        "  print (\"É um codon de iniciação.\")\n",
        "else:\n",
        "  print (\"Não é um codom de iniciação.\")"
      ],
      "metadata": {
        "colab": {
          "base_uri": "https://localhost:8080/"
        },
        "id": "RF_7Q0QVpW0T",
        "outputId": "70c60cb6-9290-4db6-f16b-d87640b7b279"
      },
      "execution_count": 30,
      "outputs": [
        {
          "output_type": "stream",
          "name": "stdout",
          "text": [
            "É um codon de iniciação.\n"
          ]
        }
      ]
    },
    {
      "cell_type": "markdown",
      "source": [
        "### Kmers\n",
        "Em bioinformática, k-mers são substrings de comprimento k contidas em uma sequência biológica."
      ],
      "metadata": {
        "id": "j0KJ1gECs0pJ"
      }
    },
    {
      "cell_type": "code",
      "source": [
        "kmer = input('Digite a sequência: ')\n",
        "\n",
        "if len(kmer) == 2:\n",
        "  print('Kmer de comprimento 2')\n",
        "\n",
        "elif len(kmer) > 2 and len(kmer) < 4:\n",
        "  print('Kmer de comprimento 3')\n",
        "\n",
        "else:\n",
        "  print('Kmer de comprimento 4 ou mais')"
      ],
      "metadata": {
        "colab": {
          "base_uri": "https://localhost:8080/"
        },
        "id": "bHsxKN0dpupP",
        "outputId": "30509273-6128-43a0-e04b-098aa231316c"
      },
      "execution_count": 31,
      "outputs": [
        {
          "output_type": "stream",
          "name": "stdout",
          "text": [
            "Digite a sequência: AGGC\n",
            "Kmer de comprimento 4 ou mais\n"
          ]
        }
      ]
    },
    {
      "cell_type": "markdown",
      "source": [
        "### Estruturas de repetição e iteração\n",
        "\n",
        "#### for:\n",
        "O laço for nos permite percorrer os itens de uma coleção e, para cada um deles, executar o bloco de código declarado no loop."
      ],
      "metadata": {
        "id": "GDKr-748sXyB"
      }
    },
    {
      "cell_type": "code",
      "source": [
        "lista = [1, 19, 2, 15, 21, 12, 2]\n",
        "for numero in lista:\n",
        "    print(numero)"
      ],
      "metadata": {
        "colab": {
          "base_uri": "https://localhost:8080/"
        },
        "id": "Gv4AIdE9uuuE",
        "outputId": "0e299bda-056b-4a44-d698-d4db75108574"
      },
      "execution_count": 32,
      "outputs": [
        {
          "output_type": "stream",
          "name": "stdout",
          "text": [
            "1\n",
            "19\n",
            "2\n",
            "15\n",
            "21\n",
            "12\n",
            "2\n"
          ]
        }
      ]
    },
    {
      "cell_type": "code",
      "source": [
        "sequence_codons = [\"ATG\", \"GGG\", \"CCC\", \"AAA\", \"TAA\", \"GGC\"]\n",
        "stop_codons = [\"TAA\", \"TGA\", \"TAG\"]\n",
        "\n",
        "for codon in sequence_codons:\n",
        "  if codon in stop_codons:\n",
        "    print(\"Códon de terminação encontrado\")\n",
        "    break\n",
        "  else:\n",
        "    print(codon)"
      ],
      "metadata": {
        "colab": {
          "base_uri": "https://localhost:8080/"
        },
        "id": "tTmCXo-6wHLA",
        "outputId": "bb2c5c0e-cd00-4437-df2d-b10f590c67b8"
      },
      "execution_count": 33,
      "outputs": [
        {
          "output_type": "stream",
          "name": "stdout",
          "text": [
            "ATG\n",
            "GGG\n",
            "CCC\n",
            "AAA\n",
            "Códon de terminação encontrado\n"
          ]
        }
      ]
    },
    {
      "cell_type": "markdown",
      "source": [
        "## Funções:\n",
        "Funções são trechos de código que podem ser executados em momentos diferentes de nossos códigos em Python.\n",
        "\n",
        "```python\n",
        "def nome_da_função():\n",
        "  comandos da função\n",
        "```\n",
        "\n",
        "- Que comandos a gente faz constantemente?\n",
        "print(), len(), input(), etc..."
      ],
      "metadata": {
        "id": "3UWGwPScwYsN"
      }
    },
    {
      "cell_type": "code",
      "source": [
        "def rna_match(dna_sequence):\n",
        "  rna_sequence = dna_sequence.replace(\"t\", \"u\")\n",
        "  print(rna_sequence)\n",
        "\n",
        "rna_match(dna_sequence=\"tccctggatg\")"
      ],
      "metadata": {
        "colab": {
          "base_uri": "https://localhost:8080/"
        },
        "id": "tUEWBJafwZPw",
        "outputId": "65ee3df2-d932-41a3-f57b-cce483aa344a"
      },
      "execution_count": 34,
      "outputs": [
        {
          "output_type": "stream",
          "name": "stdout",
          "text": [
            "ucccuggaug\n"
          ]
        }
      ]
    },
    {
      "cell_type": "markdown",
      "source": [
        "## BioPython:\n",
        "Uma biblioteca para leitura, escrita, manipulação e visualização de dados biológicos disponível para a linguagem Python.\n",
        "\n",
        "Submódulos do Biopython:\n",
        "\n",
        "- Seq: Permite representar sequências biológicas (DNA, RNA ou proteínas) e disponibiliza uma série de métodos interessantes para a manipulação destas sequências.\n",
        "- SeqIO: Permite que façamos a leitura e escrita de diferentes formatos de arquivo de sequência.\n",
        "- SeqUtils: Permite fazer predições e analisar propriedades de moléculas.\n",
        "- Align: Ferramenta para alinhamentos múltiplos.\n",
        "- AlignIO: Ler os dados de alinhamento. -Phylo: Utilizado para análises de filogenética e construção de árvores filogenéticas.\n"
      ],
      "metadata": {
        "id": "ply4k_l7ibxc"
      }
    },
    {
      "cell_type": "code",
      "source": [
        "!pip install biopython"
      ],
      "metadata": {
        "colab": {
          "base_uri": "https://localhost:8080/"
        },
        "id": "x-rlfy3IikKW",
        "outputId": "f6a6e562-9b40-4bcf-be96-08fb715c0996"
      },
      "execution_count": 35,
      "outputs": [
        {
          "output_type": "stream",
          "name": "stdout",
          "text": [
            "Requirement already satisfied: biopython in /usr/local/lib/python3.10/dist-packages (1.83)\n",
            "Requirement already satisfied: numpy in /usr/local/lib/python3.10/dist-packages (from biopython) (1.25.2)\n"
          ]
        }
      ]
    },
    {
      "cell_type": "markdown",
      "source": [
        "Dogma central:\n",
        "Utilizando a classe Seq disponível no módulo Bio.Seq, crie uma variável chamada dna_sequence para representar a sequência de DNA **\"ATGTTTAAATGA\"** e a partir desta:\n",
        "\n",
        "- Gere a sequência de DNA complementar (reverse complement)\n",
        "- Gere a sequência de RNA\n",
        "-Gere a sequência de proteína"
      ],
      "metadata": {
        "id": "ks_GNEmIitOf"
      }
    },
    {
      "cell_type": "code",
      "source": [
        "from Bio.Seq import Seq"
      ],
      "metadata": {
        "id": "8q2f8le1iqOl"
      },
      "execution_count": 36,
      "outputs": []
    },
    {
      "cell_type": "code",
      "source": [
        "dna_sequence = Seq(\"ATGTTTAAATGA\")\n",
        "dna_sequence"
      ],
      "metadata": {
        "colab": {
          "base_uri": "https://localhost:8080/"
        },
        "id": "HenwReo-i8Fr",
        "outputId": "670c25a8-95c1-4167-f26a-c26d26b1dcad"
      },
      "execution_count": 37,
      "outputs": [
        {
          "output_type": "execute_result",
          "data": {
            "text/plain": [
              "Seq('ATGTTTAAATGA')"
            ]
          },
          "metadata": {},
          "execution_count": 37
        }
      ]
    },
    {
      "cell_type": "code",
      "source": [
        "# sequência de DNA complementar\n",
        "dna_sequence.reverse_complement()"
      ],
      "metadata": {
        "colab": {
          "base_uri": "https://localhost:8080/"
        },
        "id": "N8RU26mGi-rB",
        "outputId": "ce831ff8-6fbd-4da3-c6ee-b1e719bac2ba"
      },
      "execution_count": 38,
      "outputs": [
        {
          "output_type": "execute_result",
          "data": {
            "text/plain": [
              "Seq('TCATTTAAACAT')"
            ]
          },
          "metadata": {},
          "execution_count": 38
        }
      ]
    },
    {
      "cell_type": "code",
      "source": [
        "# sequência de RNA\n",
        "dna_sequence.transcribe()"
      ],
      "metadata": {
        "colab": {
          "base_uri": "https://localhost:8080/"
        },
        "id": "ZoXgzOggjABN",
        "outputId": "89e96311-2d60-425e-e10d-759c524b64d0"
      },
      "execution_count": 39,
      "outputs": [
        {
          "output_type": "execute_result",
          "data": {
            "text/plain": [
              "Seq('AUGUUUAAAUGA')"
            ]
          },
          "metadata": {},
          "execution_count": 39
        }
      ]
    },
    {
      "cell_type": "code",
      "source": [
        "# sequência de proteína\n",
        "dna_sequence.translate()"
      ],
      "metadata": {
        "colab": {
          "base_uri": "https://localhost:8080/"
        },
        "id": "mP3dlLWrjDbb",
        "outputId": "253ea7c3-d143-4dfe-b039-a7ece1159d4a"
      },
      "execution_count": 40,
      "outputs": [
        {
          "output_type": "execute_result",
          "data": {
            "text/plain": [
              "Seq('MFK*')"
            ]
          },
          "metadata": {},
          "execution_count": 40
        }
      ]
    },
    {
      "cell_type": "markdown",
      "source": [
        "## Análise de dados com Python"
      ],
      "metadata": {
        "id": "kjTqaADRxBVe"
      }
    },
    {
      "cell_type": "code",
      "source": [
        "import pandas as pd\n",
        "import numpy as np\n",
        "import seaborn as sns\n",
        "import matplotlib.pyplot as plt"
      ],
      "metadata": {
        "id": "-XBmnPebxEEM"
      },
      "execution_count": 41,
      "outputs": []
    },
    {
      "cell_type": "code",
      "source": [
        "url = 'https://github.com/mariacmartins/minicurso_intro_python/blob/main/dados.zip?raw=true'\n",
        "dados = pd.read_csv(url, compression='zip')"
      ],
      "metadata": {
        "id": "W8X4f9aYxzzo"
      },
      "execution_count": 42,
      "outputs": []
    },
    {
      "cell_type": "code",
      "source": [
        "dados.head()"
      ],
      "metadata": {
        "colab": {
          "base_uri": "https://localhost:8080/",
          "height": 256
        },
        "id": "PT0h24lCx7ao",
        "outputId": "51c4b5c0-bcf3-4795-a0ec-6643b1686aa4"
      },
      "execution_count": 43,
      "outputs": [
        {
          "output_type": "execute_result",
          "data": {
            "text/plain": [
              "             id tratamento  tempo dose      droga     g-0     g-1     g-2  \\\n",
              "0  id_000644bb2  com_droga     24   D1  b68db1d53  1.0620  0.5577 -0.2479   \n",
              "1  id_000779bfc  com_droga     72   D1  df89a8e5a  0.0743  0.4087  0.2991   \n",
              "2  id_000a6266a  com_droga     48   D1  18bb41b2c  0.6280  0.5817  1.5540   \n",
              "3  id_0015fd391  com_droga     48   D1  8c7f86626 -0.5138 -0.2491 -0.2656   \n",
              "4  id_001626bd3  com_droga     72   D2  7cbed3131 -0.3254 -0.4009  0.9700   \n",
              "\n",
              "      g-3     g-4  ...    c-90    c-91    c-92    c-93    c-94    c-95  \\\n",
              "0 -0.6208 -0.1944  ...  0.2862  0.2584  0.8076  0.5523 -0.1912  0.6584   \n",
              "1  0.0604  1.0190  ... -0.4265  0.7543  0.4708  0.0230  0.2957  0.4899   \n",
              "2 -0.0764 -0.0323  ... -0.7250 -0.6297  0.6103  0.0223 -1.3240 -0.3174   \n",
              "3  0.5288  4.0620  ... -2.0990 -0.6441 -5.6300 -1.3780 -0.8632 -1.2880   \n",
              "4  0.6919  1.4180  ...  0.0042  0.0048  0.6670  1.0690  0.5523 -0.3031   \n",
              "\n",
              "     c-96    c-97    c-98    c-99  \n",
              "0 -0.3981  0.2139  0.3801  0.4176  \n",
              "1  0.1522  0.1241  0.6077  0.7371  \n",
              "2 -0.6417 -0.2187 -1.4080  0.6931  \n",
              "3 -1.6210 -0.8784 -0.3876 -0.8154  \n",
              "4  0.1094  0.2885 -0.3786  0.7125  \n",
              "\n",
              "[5 rows x 877 columns]"
            ],
            "text/html": [
              "\n",
              "  <div id=\"df-9833756c-de75-4073-a052-e7010ca7b1ca\" class=\"colab-df-container\">\n",
              "    <div>\n",
              "<style scoped>\n",
              "    .dataframe tbody tr th:only-of-type {\n",
              "        vertical-align: middle;\n",
              "    }\n",
              "\n",
              "    .dataframe tbody tr th {\n",
              "        vertical-align: top;\n",
              "    }\n",
              "\n",
              "    .dataframe thead th {\n",
              "        text-align: right;\n",
              "    }\n",
              "</style>\n",
              "<table border=\"1\" class=\"dataframe\">\n",
              "  <thead>\n",
              "    <tr style=\"text-align: right;\">\n",
              "      <th></th>\n",
              "      <th>id</th>\n",
              "      <th>tratamento</th>\n",
              "      <th>tempo</th>\n",
              "      <th>dose</th>\n",
              "      <th>droga</th>\n",
              "      <th>g-0</th>\n",
              "      <th>g-1</th>\n",
              "      <th>g-2</th>\n",
              "      <th>g-3</th>\n",
              "      <th>g-4</th>\n",
              "      <th>...</th>\n",
              "      <th>c-90</th>\n",
              "      <th>c-91</th>\n",
              "      <th>c-92</th>\n",
              "      <th>c-93</th>\n",
              "      <th>c-94</th>\n",
              "      <th>c-95</th>\n",
              "      <th>c-96</th>\n",
              "      <th>c-97</th>\n",
              "      <th>c-98</th>\n",
              "      <th>c-99</th>\n",
              "    </tr>\n",
              "  </thead>\n",
              "  <tbody>\n",
              "    <tr>\n",
              "      <th>0</th>\n",
              "      <td>id_000644bb2</td>\n",
              "      <td>com_droga</td>\n",
              "      <td>24</td>\n",
              "      <td>D1</td>\n",
              "      <td>b68db1d53</td>\n",
              "      <td>1.0620</td>\n",
              "      <td>0.5577</td>\n",
              "      <td>-0.2479</td>\n",
              "      <td>-0.6208</td>\n",
              "      <td>-0.1944</td>\n",
              "      <td>...</td>\n",
              "      <td>0.2862</td>\n",
              "      <td>0.2584</td>\n",
              "      <td>0.8076</td>\n",
              "      <td>0.5523</td>\n",
              "      <td>-0.1912</td>\n",
              "      <td>0.6584</td>\n",
              "      <td>-0.3981</td>\n",
              "      <td>0.2139</td>\n",
              "      <td>0.3801</td>\n",
              "      <td>0.4176</td>\n",
              "    </tr>\n",
              "    <tr>\n",
              "      <th>1</th>\n",
              "      <td>id_000779bfc</td>\n",
              "      <td>com_droga</td>\n",
              "      <td>72</td>\n",
              "      <td>D1</td>\n",
              "      <td>df89a8e5a</td>\n",
              "      <td>0.0743</td>\n",
              "      <td>0.4087</td>\n",
              "      <td>0.2991</td>\n",
              "      <td>0.0604</td>\n",
              "      <td>1.0190</td>\n",
              "      <td>...</td>\n",
              "      <td>-0.4265</td>\n",
              "      <td>0.7543</td>\n",
              "      <td>0.4708</td>\n",
              "      <td>0.0230</td>\n",
              "      <td>0.2957</td>\n",
              "      <td>0.4899</td>\n",
              "      <td>0.1522</td>\n",
              "      <td>0.1241</td>\n",
              "      <td>0.6077</td>\n",
              "      <td>0.7371</td>\n",
              "    </tr>\n",
              "    <tr>\n",
              "      <th>2</th>\n",
              "      <td>id_000a6266a</td>\n",
              "      <td>com_droga</td>\n",
              "      <td>48</td>\n",
              "      <td>D1</td>\n",
              "      <td>18bb41b2c</td>\n",
              "      <td>0.6280</td>\n",
              "      <td>0.5817</td>\n",
              "      <td>1.5540</td>\n",
              "      <td>-0.0764</td>\n",
              "      <td>-0.0323</td>\n",
              "      <td>...</td>\n",
              "      <td>-0.7250</td>\n",
              "      <td>-0.6297</td>\n",
              "      <td>0.6103</td>\n",
              "      <td>0.0223</td>\n",
              "      <td>-1.3240</td>\n",
              "      <td>-0.3174</td>\n",
              "      <td>-0.6417</td>\n",
              "      <td>-0.2187</td>\n",
              "      <td>-1.4080</td>\n",
              "      <td>0.6931</td>\n",
              "    </tr>\n",
              "    <tr>\n",
              "      <th>3</th>\n",
              "      <td>id_0015fd391</td>\n",
              "      <td>com_droga</td>\n",
              "      <td>48</td>\n",
              "      <td>D1</td>\n",
              "      <td>8c7f86626</td>\n",
              "      <td>-0.5138</td>\n",
              "      <td>-0.2491</td>\n",
              "      <td>-0.2656</td>\n",
              "      <td>0.5288</td>\n",
              "      <td>4.0620</td>\n",
              "      <td>...</td>\n",
              "      <td>-2.0990</td>\n",
              "      <td>-0.6441</td>\n",
              "      <td>-5.6300</td>\n",
              "      <td>-1.3780</td>\n",
              "      <td>-0.8632</td>\n",
              "      <td>-1.2880</td>\n",
              "      <td>-1.6210</td>\n",
              "      <td>-0.8784</td>\n",
              "      <td>-0.3876</td>\n",
              "      <td>-0.8154</td>\n",
              "    </tr>\n",
              "    <tr>\n",
              "      <th>4</th>\n",
              "      <td>id_001626bd3</td>\n",
              "      <td>com_droga</td>\n",
              "      <td>72</td>\n",
              "      <td>D2</td>\n",
              "      <td>7cbed3131</td>\n",
              "      <td>-0.3254</td>\n",
              "      <td>-0.4009</td>\n",
              "      <td>0.9700</td>\n",
              "      <td>0.6919</td>\n",
              "      <td>1.4180</td>\n",
              "      <td>...</td>\n",
              "      <td>0.0042</td>\n",
              "      <td>0.0048</td>\n",
              "      <td>0.6670</td>\n",
              "      <td>1.0690</td>\n",
              "      <td>0.5523</td>\n",
              "      <td>-0.3031</td>\n",
              "      <td>0.1094</td>\n",
              "      <td>0.2885</td>\n",
              "      <td>-0.3786</td>\n",
              "      <td>0.7125</td>\n",
              "    </tr>\n",
              "  </tbody>\n",
              "</table>\n",
              "<p>5 rows × 877 columns</p>\n",
              "</div>\n",
              "    <div class=\"colab-df-buttons\">\n",
              "\n",
              "  <div class=\"colab-df-container\">\n",
              "    <button class=\"colab-df-convert\" onclick=\"convertToInteractive('df-9833756c-de75-4073-a052-e7010ca7b1ca')\"\n",
              "            title=\"Convert this dataframe to an interactive table.\"\n",
              "            style=\"display:none;\">\n",
              "\n",
              "  <svg xmlns=\"http://www.w3.org/2000/svg\" height=\"24px\" viewBox=\"0 -960 960 960\">\n",
              "    <path d=\"M120-120v-720h720v720H120Zm60-500h600v-160H180v160Zm220 220h160v-160H400v160Zm0 220h160v-160H400v160ZM180-400h160v-160H180v160Zm440 0h160v-160H620v160ZM180-180h160v-160H180v160Zm440 0h160v-160H620v160Z\"/>\n",
              "  </svg>\n",
              "    </button>\n",
              "\n",
              "  <style>\n",
              "    .colab-df-container {\n",
              "      display:flex;\n",
              "      gap: 12px;\n",
              "    }\n",
              "\n",
              "    .colab-df-convert {\n",
              "      background-color: #E8F0FE;\n",
              "      border: none;\n",
              "      border-radius: 50%;\n",
              "      cursor: pointer;\n",
              "      display: none;\n",
              "      fill: #1967D2;\n",
              "      height: 32px;\n",
              "      padding: 0 0 0 0;\n",
              "      width: 32px;\n",
              "    }\n",
              "\n",
              "    .colab-df-convert:hover {\n",
              "      background-color: #E2EBFA;\n",
              "      box-shadow: 0px 1px 2px rgba(60, 64, 67, 0.3), 0px 1px 3px 1px rgba(60, 64, 67, 0.15);\n",
              "      fill: #174EA6;\n",
              "    }\n",
              "\n",
              "    .colab-df-buttons div {\n",
              "      margin-bottom: 4px;\n",
              "    }\n",
              "\n",
              "    [theme=dark] .colab-df-convert {\n",
              "      background-color: #3B4455;\n",
              "      fill: #D2E3FC;\n",
              "    }\n",
              "\n",
              "    [theme=dark] .colab-df-convert:hover {\n",
              "      background-color: #434B5C;\n",
              "      box-shadow: 0px 1px 3px 1px rgba(0, 0, 0, 0.15);\n",
              "      filter: drop-shadow(0px 1px 2px rgba(0, 0, 0, 0.3));\n",
              "      fill: #FFFFFF;\n",
              "    }\n",
              "  </style>\n",
              "\n",
              "    <script>\n",
              "      const buttonEl =\n",
              "        document.querySelector('#df-9833756c-de75-4073-a052-e7010ca7b1ca button.colab-df-convert');\n",
              "      buttonEl.style.display =\n",
              "        google.colab.kernel.accessAllowed ? 'block' : 'none';\n",
              "\n",
              "      async function convertToInteractive(key) {\n",
              "        const element = document.querySelector('#df-9833756c-de75-4073-a052-e7010ca7b1ca');\n",
              "        const dataTable =\n",
              "          await google.colab.kernel.invokeFunction('convertToInteractive',\n",
              "                                                    [key], {});\n",
              "        if (!dataTable) return;\n",
              "\n",
              "        const docLinkHtml = 'Like what you see? Visit the ' +\n",
              "          '<a target=\"_blank\" href=https://colab.research.google.com/notebooks/data_table.ipynb>data table notebook</a>'\n",
              "          + ' to learn more about interactive tables.';\n",
              "        element.innerHTML = '';\n",
              "        dataTable['output_type'] = 'display_data';\n",
              "        await google.colab.output.renderOutput(dataTable, element);\n",
              "        const docLink = document.createElement('div');\n",
              "        docLink.innerHTML = docLinkHtml;\n",
              "        element.appendChild(docLink);\n",
              "      }\n",
              "    </script>\n",
              "  </div>\n",
              "\n",
              "\n",
              "<div id=\"df-6239fb15-fded-4082-a1ff-500be0a7a701\">\n",
              "  <button class=\"colab-df-quickchart\" onclick=\"quickchart('df-6239fb15-fded-4082-a1ff-500be0a7a701')\"\n",
              "            title=\"Suggest charts\"\n",
              "            style=\"display:none;\">\n",
              "\n",
              "<svg xmlns=\"http://www.w3.org/2000/svg\" height=\"24px\"viewBox=\"0 0 24 24\"\n",
              "     width=\"24px\">\n",
              "    <g>\n",
              "        <path d=\"M19 3H5c-1.1 0-2 .9-2 2v14c0 1.1.9 2 2 2h14c1.1 0 2-.9 2-2V5c0-1.1-.9-2-2-2zM9 17H7v-7h2v7zm4 0h-2V7h2v10zm4 0h-2v-4h2v4z\"/>\n",
              "    </g>\n",
              "</svg>\n",
              "  </button>\n",
              "\n",
              "<style>\n",
              "  .colab-df-quickchart {\n",
              "      --bg-color: #E8F0FE;\n",
              "      --fill-color: #1967D2;\n",
              "      --hover-bg-color: #E2EBFA;\n",
              "      --hover-fill-color: #174EA6;\n",
              "      --disabled-fill-color: #AAA;\n",
              "      --disabled-bg-color: #DDD;\n",
              "  }\n",
              "\n",
              "  [theme=dark] .colab-df-quickchart {\n",
              "      --bg-color: #3B4455;\n",
              "      --fill-color: #D2E3FC;\n",
              "      --hover-bg-color: #434B5C;\n",
              "      --hover-fill-color: #FFFFFF;\n",
              "      --disabled-bg-color: #3B4455;\n",
              "      --disabled-fill-color: #666;\n",
              "  }\n",
              "\n",
              "  .colab-df-quickchart {\n",
              "    background-color: var(--bg-color);\n",
              "    border: none;\n",
              "    border-radius: 50%;\n",
              "    cursor: pointer;\n",
              "    display: none;\n",
              "    fill: var(--fill-color);\n",
              "    height: 32px;\n",
              "    padding: 0;\n",
              "    width: 32px;\n",
              "  }\n",
              "\n",
              "  .colab-df-quickchart:hover {\n",
              "    background-color: var(--hover-bg-color);\n",
              "    box-shadow: 0 1px 2px rgba(60, 64, 67, 0.3), 0 1px 3px 1px rgba(60, 64, 67, 0.15);\n",
              "    fill: var(--button-hover-fill-color);\n",
              "  }\n",
              "\n",
              "  .colab-df-quickchart-complete:disabled,\n",
              "  .colab-df-quickchart-complete:disabled:hover {\n",
              "    background-color: var(--disabled-bg-color);\n",
              "    fill: var(--disabled-fill-color);\n",
              "    box-shadow: none;\n",
              "  }\n",
              "\n",
              "  .colab-df-spinner {\n",
              "    border: 2px solid var(--fill-color);\n",
              "    border-color: transparent;\n",
              "    border-bottom-color: var(--fill-color);\n",
              "    animation:\n",
              "      spin 1s steps(1) infinite;\n",
              "  }\n",
              "\n",
              "  @keyframes spin {\n",
              "    0% {\n",
              "      border-color: transparent;\n",
              "      border-bottom-color: var(--fill-color);\n",
              "      border-left-color: var(--fill-color);\n",
              "    }\n",
              "    20% {\n",
              "      border-color: transparent;\n",
              "      border-left-color: var(--fill-color);\n",
              "      border-top-color: var(--fill-color);\n",
              "    }\n",
              "    30% {\n",
              "      border-color: transparent;\n",
              "      border-left-color: var(--fill-color);\n",
              "      border-top-color: var(--fill-color);\n",
              "      border-right-color: var(--fill-color);\n",
              "    }\n",
              "    40% {\n",
              "      border-color: transparent;\n",
              "      border-right-color: var(--fill-color);\n",
              "      border-top-color: var(--fill-color);\n",
              "    }\n",
              "    60% {\n",
              "      border-color: transparent;\n",
              "      border-right-color: var(--fill-color);\n",
              "    }\n",
              "    80% {\n",
              "      border-color: transparent;\n",
              "      border-right-color: var(--fill-color);\n",
              "      border-bottom-color: var(--fill-color);\n",
              "    }\n",
              "    90% {\n",
              "      border-color: transparent;\n",
              "      border-bottom-color: var(--fill-color);\n",
              "    }\n",
              "  }\n",
              "</style>\n",
              "\n",
              "  <script>\n",
              "    async function quickchart(key) {\n",
              "      const quickchartButtonEl =\n",
              "        document.querySelector('#' + key + ' button');\n",
              "      quickchartButtonEl.disabled = true;  // To prevent multiple clicks.\n",
              "      quickchartButtonEl.classList.add('colab-df-spinner');\n",
              "      try {\n",
              "        const charts = await google.colab.kernel.invokeFunction(\n",
              "            'suggestCharts', [key], {});\n",
              "      } catch (error) {\n",
              "        console.error('Error during call to suggestCharts:', error);\n",
              "      }\n",
              "      quickchartButtonEl.classList.remove('colab-df-spinner');\n",
              "      quickchartButtonEl.classList.add('colab-df-quickchart-complete');\n",
              "    }\n",
              "    (() => {\n",
              "      let quickchartButtonEl =\n",
              "        document.querySelector('#df-6239fb15-fded-4082-a1ff-500be0a7a701 button');\n",
              "      quickchartButtonEl.style.display =\n",
              "        google.colab.kernel.accessAllowed ? 'block' : 'none';\n",
              "    })();\n",
              "  </script>\n",
              "</div>\n",
              "\n",
              "    </div>\n",
              "  </div>\n"
            ],
            "application/vnd.google.colaboratory.intrinsic+json": {
              "type": "dataframe",
              "variable_name": "dados"
            }
          },
          "metadata": {},
          "execution_count": 43
        }
      ]
    },
    {
      "cell_type": "code",
      "source": [
        "dados.describe()"
      ],
      "metadata": {
        "colab": {
          "base_uri": "https://localhost:8080/",
          "height": 350
        },
        "id": "weTPFHvdfshI",
        "outputId": "36211d8c-ed89-44a4-81b6-3118ec69177a"
      },
      "execution_count": 44,
      "outputs": [
        {
          "output_type": "execute_result",
          "data": {
            "text/plain": [
              "              tempo           g-0           g-1           g-2           g-3  \\\n",
              "count  23814.000000  23814.000000  23814.000000  23814.000000  23814.000000   \n",
              "mean      48.020156      0.248366     -0.095684      0.152253      0.081971   \n",
              "std       19.402807      1.393399      0.812363      1.035731      0.950012   \n",
              "min       24.000000     -5.513000     -5.737000     -9.104000     -5.998000   \n",
              "25%       24.000000     -0.473075     -0.562200     -0.437750     -0.429575   \n",
              "50%       48.000000     -0.008850     -0.046600      0.075200      0.008050   \n",
              "75%       72.000000      0.525700      0.403075      0.663925      0.463400   \n",
              "max       72.000000     10.000000      5.039000      8.257000     10.000000   \n",
              "\n",
              "                g-4           g-5           g-6           g-7           g-8  \\\n",
              "count  23814.000000  23814.000000  23814.000000  23814.000000  23814.000000   \n",
              "mean       0.057347     -0.138836      0.035961     -0.202651     -0.190083   \n",
              "std        1.032091      1.179388      0.882395      1.125494      1.749885   \n",
              "min       -6.369000    -10.000000    -10.000000    -10.000000    -10.000000   \n",
              "25%       -0.470925     -0.602225     -0.493900     -0.525175     -0.511675   \n",
              "50%       -0.026900     -0.015650     -0.000650     -0.017900      0.010000   \n",
              "75%        0.465375      0.510425      0.528725      0.411900      0.549225   \n",
              "max       10.000000      7.282000      7.333000      5.473000      8.887000   \n",
              "\n",
              "       ...          c-90          c-91          c-92          c-93  \\\n",
              "count  ...  23814.000000  23814.000000  23814.000000  23814.000000   \n",
              "mean   ...     -0.469244     -0.461411     -0.513256     -0.500142   \n",
              "std    ...      2.000488      2.042475      2.001714      2.107105   \n",
              "min    ...    -10.000000    -10.000000    -10.000000    -10.000000   \n",
              "25%    ...     -0.566175     -0.565975     -0.589975     -0.568700   \n",
              "50%    ...     -0.009900      0.003250     -0.009100     -0.013750   \n",
              "75%    ...      0.457750      0.461500      0.445675      0.452900   \n",
              "max    ...      4.069000      3.960000      3.927000      3.596000   \n",
              "\n",
              "               c-94          c-95          c-96          c-97          c-98  \\\n",
              "count  23814.000000  23814.000000  23814.000000  23814.000000  23814.000000   \n",
              "mean      -0.507093     -0.353726     -0.463485     -0.378241     -0.470252   \n",
              "std        2.159589      1.629291      2.059725      1.703615      1.834828   \n",
              "min      -10.000000    -10.000000    -10.000000    -10.000000    -10.000000   \n",
              "25%       -0.563775     -0.567975     -0.552575     -0.561000     -0.592600   \n",
              "50%       -0.003300     -0.010250     -0.001250     -0.006800      0.014000   \n",
              "75%        0.470900      0.444750      0.465225      0.446400      0.461275   \n",
              "max        3.747000      2.814000      3.505000      2.924000      3.111000   \n",
              "\n",
              "               c-99  \n",
              "count  23814.000000  \n",
              "mean      -0.301505  \n",
              "std        1.407918  \n",
              "min      -10.000000  \n",
              "25%       -0.562900  \n",
              "50%       -0.019500  \n",
              "75%        0.438650  \n",
              "max        3.805000  \n",
              "\n",
              "[8 rows x 873 columns]"
            ],
            "text/html": [
              "\n",
              "  <div id=\"df-a389eb8e-bc84-4f40-b796-f4f88f5d3889\" class=\"colab-df-container\">\n",
              "    <div>\n",
              "<style scoped>\n",
              "    .dataframe tbody tr th:only-of-type {\n",
              "        vertical-align: middle;\n",
              "    }\n",
              "\n",
              "    .dataframe tbody tr th {\n",
              "        vertical-align: top;\n",
              "    }\n",
              "\n",
              "    .dataframe thead th {\n",
              "        text-align: right;\n",
              "    }\n",
              "</style>\n",
              "<table border=\"1\" class=\"dataframe\">\n",
              "  <thead>\n",
              "    <tr style=\"text-align: right;\">\n",
              "      <th></th>\n",
              "      <th>tempo</th>\n",
              "      <th>g-0</th>\n",
              "      <th>g-1</th>\n",
              "      <th>g-2</th>\n",
              "      <th>g-3</th>\n",
              "      <th>g-4</th>\n",
              "      <th>g-5</th>\n",
              "      <th>g-6</th>\n",
              "      <th>g-7</th>\n",
              "      <th>g-8</th>\n",
              "      <th>...</th>\n",
              "      <th>c-90</th>\n",
              "      <th>c-91</th>\n",
              "      <th>c-92</th>\n",
              "      <th>c-93</th>\n",
              "      <th>c-94</th>\n",
              "      <th>c-95</th>\n",
              "      <th>c-96</th>\n",
              "      <th>c-97</th>\n",
              "      <th>c-98</th>\n",
              "      <th>c-99</th>\n",
              "    </tr>\n",
              "  </thead>\n",
              "  <tbody>\n",
              "    <tr>\n",
              "      <th>count</th>\n",
              "      <td>23814.000000</td>\n",
              "      <td>23814.000000</td>\n",
              "      <td>23814.000000</td>\n",
              "      <td>23814.000000</td>\n",
              "      <td>23814.000000</td>\n",
              "      <td>23814.000000</td>\n",
              "      <td>23814.000000</td>\n",
              "      <td>23814.000000</td>\n",
              "      <td>23814.000000</td>\n",
              "      <td>23814.000000</td>\n",
              "      <td>...</td>\n",
              "      <td>23814.000000</td>\n",
              "      <td>23814.000000</td>\n",
              "      <td>23814.000000</td>\n",
              "      <td>23814.000000</td>\n",
              "      <td>23814.000000</td>\n",
              "      <td>23814.000000</td>\n",
              "      <td>23814.000000</td>\n",
              "      <td>23814.000000</td>\n",
              "      <td>23814.000000</td>\n",
              "      <td>23814.000000</td>\n",
              "    </tr>\n",
              "    <tr>\n",
              "      <th>mean</th>\n",
              "      <td>48.020156</td>\n",
              "      <td>0.248366</td>\n",
              "      <td>-0.095684</td>\n",
              "      <td>0.152253</td>\n",
              "      <td>0.081971</td>\n",
              "      <td>0.057347</td>\n",
              "      <td>-0.138836</td>\n",
              "      <td>0.035961</td>\n",
              "      <td>-0.202651</td>\n",
              "      <td>-0.190083</td>\n",
              "      <td>...</td>\n",
              "      <td>-0.469244</td>\n",
              "      <td>-0.461411</td>\n",
              "      <td>-0.513256</td>\n",
              "      <td>-0.500142</td>\n",
              "      <td>-0.507093</td>\n",
              "      <td>-0.353726</td>\n",
              "      <td>-0.463485</td>\n",
              "      <td>-0.378241</td>\n",
              "      <td>-0.470252</td>\n",
              "      <td>-0.301505</td>\n",
              "    </tr>\n",
              "    <tr>\n",
              "      <th>std</th>\n",
              "      <td>19.402807</td>\n",
              "      <td>1.393399</td>\n",
              "      <td>0.812363</td>\n",
              "      <td>1.035731</td>\n",
              "      <td>0.950012</td>\n",
              "      <td>1.032091</td>\n",
              "      <td>1.179388</td>\n",
              "      <td>0.882395</td>\n",
              "      <td>1.125494</td>\n",
              "      <td>1.749885</td>\n",
              "      <td>...</td>\n",
              "      <td>2.000488</td>\n",
              "      <td>2.042475</td>\n",
              "      <td>2.001714</td>\n",
              "      <td>2.107105</td>\n",
              "      <td>2.159589</td>\n",
              "      <td>1.629291</td>\n",
              "      <td>2.059725</td>\n",
              "      <td>1.703615</td>\n",
              "      <td>1.834828</td>\n",
              "      <td>1.407918</td>\n",
              "    </tr>\n",
              "    <tr>\n",
              "      <th>min</th>\n",
              "      <td>24.000000</td>\n",
              "      <td>-5.513000</td>\n",
              "      <td>-5.737000</td>\n",
              "      <td>-9.104000</td>\n",
              "      <td>-5.998000</td>\n",
              "      <td>-6.369000</td>\n",
              "      <td>-10.000000</td>\n",
              "      <td>-10.000000</td>\n",
              "      <td>-10.000000</td>\n",
              "      <td>-10.000000</td>\n",
              "      <td>...</td>\n",
              "      <td>-10.000000</td>\n",
              "      <td>-10.000000</td>\n",
              "      <td>-10.000000</td>\n",
              "      <td>-10.000000</td>\n",
              "      <td>-10.000000</td>\n",
              "      <td>-10.000000</td>\n",
              "      <td>-10.000000</td>\n",
              "      <td>-10.000000</td>\n",
              "      <td>-10.000000</td>\n",
              "      <td>-10.000000</td>\n",
              "    </tr>\n",
              "    <tr>\n",
              "      <th>25%</th>\n",
              "      <td>24.000000</td>\n",
              "      <td>-0.473075</td>\n",
              "      <td>-0.562200</td>\n",
              "      <td>-0.437750</td>\n",
              "      <td>-0.429575</td>\n",
              "      <td>-0.470925</td>\n",
              "      <td>-0.602225</td>\n",
              "      <td>-0.493900</td>\n",
              "      <td>-0.525175</td>\n",
              "      <td>-0.511675</td>\n",
              "      <td>...</td>\n",
              "      <td>-0.566175</td>\n",
              "      <td>-0.565975</td>\n",
              "      <td>-0.589975</td>\n",
              "      <td>-0.568700</td>\n",
              "      <td>-0.563775</td>\n",
              "      <td>-0.567975</td>\n",
              "      <td>-0.552575</td>\n",
              "      <td>-0.561000</td>\n",
              "      <td>-0.592600</td>\n",
              "      <td>-0.562900</td>\n",
              "    </tr>\n",
              "    <tr>\n",
              "      <th>50%</th>\n",
              "      <td>48.000000</td>\n",
              "      <td>-0.008850</td>\n",
              "      <td>-0.046600</td>\n",
              "      <td>0.075200</td>\n",
              "      <td>0.008050</td>\n",
              "      <td>-0.026900</td>\n",
              "      <td>-0.015650</td>\n",
              "      <td>-0.000650</td>\n",
              "      <td>-0.017900</td>\n",
              "      <td>0.010000</td>\n",
              "      <td>...</td>\n",
              "      <td>-0.009900</td>\n",
              "      <td>0.003250</td>\n",
              "      <td>-0.009100</td>\n",
              "      <td>-0.013750</td>\n",
              "      <td>-0.003300</td>\n",
              "      <td>-0.010250</td>\n",
              "      <td>-0.001250</td>\n",
              "      <td>-0.006800</td>\n",
              "      <td>0.014000</td>\n",
              "      <td>-0.019500</td>\n",
              "    </tr>\n",
              "    <tr>\n",
              "      <th>75%</th>\n",
              "      <td>72.000000</td>\n",
              "      <td>0.525700</td>\n",
              "      <td>0.403075</td>\n",
              "      <td>0.663925</td>\n",
              "      <td>0.463400</td>\n",
              "      <td>0.465375</td>\n",
              "      <td>0.510425</td>\n",
              "      <td>0.528725</td>\n",
              "      <td>0.411900</td>\n",
              "      <td>0.549225</td>\n",
              "      <td>...</td>\n",
              "      <td>0.457750</td>\n",
              "      <td>0.461500</td>\n",
              "      <td>0.445675</td>\n",
              "      <td>0.452900</td>\n",
              "      <td>0.470900</td>\n",
              "      <td>0.444750</td>\n",
              "      <td>0.465225</td>\n",
              "      <td>0.446400</td>\n",
              "      <td>0.461275</td>\n",
              "      <td>0.438650</td>\n",
              "    </tr>\n",
              "    <tr>\n",
              "      <th>max</th>\n",
              "      <td>72.000000</td>\n",
              "      <td>10.000000</td>\n",
              "      <td>5.039000</td>\n",
              "      <td>8.257000</td>\n",
              "      <td>10.000000</td>\n",
              "      <td>10.000000</td>\n",
              "      <td>7.282000</td>\n",
              "      <td>7.333000</td>\n",
              "      <td>5.473000</td>\n",
              "      <td>8.887000</td>\n",
              "      <td>...</td>\n",
              "      <td>4.069000</td>\n",
              "      <td>3.960000</td>\n",
              "      <td>3.927000</td>\n",
              "      <td>3.596000</td>\n",
              "      <td>3.747000</td>\n",
              "      <td>2.814000</td>\n",
              "      <td>3.505000</td>\n",
              "      <td>2.924000</td>\n",
              "      <td>3.111000</td>\n",
              "      <td>3.805000</td>\n",
              "    </tr>\n",
              "  </tbody>\n",
              "</table>\n",
              "<p>8 rows × 873 columns</p>\n",
              "</div>\n",
              "    <div class=\"colab-df-buttons\">\n",
              "\n",
              "  <div class=\"colab-df-container\">\n",
              "    <button class=\"colab-df-convert\" onclick=\"convertToInteractive('df-a389eb8e-bc84-4f40-b796-f4f88f5d3889')\"\n",
              "            title=\"Convert this dataframe to an interactive table.\"\n",
              "            style=\"display:none;\">\n",
              "\n",
              "  <svg xmlns=\"http://www.w3.org/2000/svg\" height=\"24px\" viewBox=\"0 -960 960 960\">\n",
              "    <path d=\"M120-120v-720h720v720H120Zm60-500h600v-160H180v160Zm220 220h160v-160H400v160Zm0 220h160v-160H400v160ZM180-400h160v-160H180v160Zm440 0h160v-160H620v160ZM180-180h160v-160H180v160Zm440 0h160v-160H620v160Z\"/>\n",
              "  </svg>\n",
              "    </button>\n",
              "\n",
              "  <style>\n",
              "    .colab-df-container {\n",
              "      display:flex;\n",
              "      gap: 12px;\n",
              "    }\n",
              "\n",
              "    .colab-df-convert {\n",
              "      background-color: #E8F0FE;\n",
              "      border: none;\n",
              "      border-radius: 50%;\n",
              "      cursor: pointer;\n",
              "      display: none;\n",
              "      fill: #1967D2;\n",
              "      height: 32px;\n",
              "      padding: 0 0 0 0;\n",
              "      width: 32px;\n",
              "    }\n",
              "\n",
              "    .colab-df-convert:hover {\n",
              "      background-color: #E2EBFA;\n",
              "      box-shadow: 0px 1px 2px rgba(60, 64, 67, 0.3), 0px 1px 3px 1px rgba(60, 64, 67, 0.15);\n",
              "      fill: #174EA6;\n",
              "    }\n",
              "\n",
              "    .colab-df-buttons div {\n",
              "      margin-bottom: 4px;\n",
              "    }\n",
              "\n",
              "    [theme=dark] .colab-df-convert {\n",
              "      background-color: #3B4455;\n",
              "      fill: #D2E3FC;\n",
              "    }\n",
              "\n",
              "    [theme=dark] .colab-df-convert:hover {\n",
              "      background-color: #434B5C;\n",
              "      box-shadow: 0px 1px 3px 1px rgba(0, 0, 0, 0.15);\n",
              "      filter: drop-shadow(0px 1px 2px rgba(0, 0, 0, 0.3));\n",
              "      fill: #FFFFFF;\n",
              "    }\n",
              "  </style>\n",
              "\n",
              "    <script>\n",
              "      const buttonEl =\n",
              "        document.querySelector('#df-a389eb8e-bc84-4f40-b796-f4f88f5d3889 button.colab-df-convert');\n",
              "      buttonEl.style.display =\n",
              "        google.colab.kernel.accessAllowed ? 'block' : 'none';\n",
              "\n",
              "      async function convertToInteractive(key) {\n",
              "        const element = document.querySelector('#df-a389eb8e-bc84-4f40-b796-f4f88f5d3889');\n",
              "        const dataTable =\n",
              "          await google.colab.kernel.invokeFunction('convertToInteractive',\n",
              "                                                    [key], {});\n",
              "        if (!dataTable) return;\n",
              "\n",
              "        const docLinkHtml = 'Like what you see? Visit the ' +\n",
              "          '<a target=\"_blank\" href=https://colab.research.google.com/notebooks/data_table.ipynb>data table notebook</a>'\n",
              "          + ' to learn more about interactive tables.';\n",
              "        element.innerHTML = '';\n",
              "        dataTable['output_type'] = 'display_data';\n",
              "        await google.colab.output.renderOutput(dataTable, element);\n",
              "        const docLink = document.createElement('div');\n",
              "        docLink.innerHTML = docLinkHtml;\n",
              "        element.appendChild(docLink);\n",
              "      }\n",
              "    </script>\n",
              "  </div>\n",
              "\n",
              "\n",
              "<div id=\"df-ef4ece97-d019-4791-afe2-7071f815f508\">\n",
              "  <button class=\"colab-df-quickchart\" onclick=\"quickchart('df-ef4ece97-d019-4791-afe2-7071f815f508')\"\n",
              "            title=\"Suggest charts\"\n",
              "            style=\"display:none;\">\n",
              "\n",
              "<svg xmlns=\"http://www.w3.org/2000/svg\" height=\"24px\"viewBox=\"0 0 24 24\"\n",
              "     width=\"24px\">\n",
              "    <g>\n",
              "        <path d=\"M19 3H5c-1.1 0-2 .9-2 2v14c0 1.1.9 2 2 2h14c1.1 0 2-.9 2-2V5c0-1.1-.9-2-2-2zM9 17H7v-7h2v7zm4 0h-2V7h2v10zm4 0h-2v-4h2v4z\"/>\n",
              "    </g>\n",
              "</svg>\n",
              "  </button>\n",
              "\n",
              "<style>\n",
              "  .colab-df-quickchart {\n",
              "      --bg-color: #E8F0FE;\n",
              "      --fill-color: #1967D2;\n",
              "      --hover-bg-color: #E2EBFA;\n",
              "      --hover-fill-color: #174EA6;\n",
              "      --disabled-fill-color: #AAA;\n",
              "      --disabled-bg-color: #DDD;\n",
              "  }\n",
              "\n",
              "  [theme=dark] .colab-df-quickchart {\n",
              "      --bg-color: #3B4455;\n",
              "      --fill-color: #D2E3FC;\n",
              "      --hover-bg-color: #434B5C;\n",
              "      --hover-fill-color: #FFFFFF;\n",
              "      --disabled-bg-color: #3B4455;\n",
              "      --disabled-fill-color: #666;\n",
              "  }\n",
              "\n",
              "  .colab-df-quickchart {\n",
              "    background-color: var(--bg-color);\n",
              "    border: none;\n",
              "    border-radius: 50%;\n",
              "    cursor: pointer;\n",
              "    display: none;\n",
              "    fill: var(--fill-color);\n",
              "    height: 32px;\n",
              "    padding: 0;\n",
              "    width: 32px;\n",
              "  }\n",
              "\n",
              "  .colab-df-quickchart:hover {\n",
              "    background-color: var(--hover-bg-color);\n",
              "    box-shadow: 0 1px 2px rgba(60, 64, 67, 0.3), 0 1px 3px 1px rgba(60, 64, 67, 0.15);\n",
              "    fill: var(--button-hover-fill-color);\n",
              "  }\n",
              "\n",
              "  .colab-df-quickchart-complete:disabled,\n",
              "  .colab-df-quickchart-complete:disabled:hover {\n",
              "    background-color: var(--disabled-bg-color);\n",
              "    fill: var(--disabled-fill-color);\n",
              "    box-shadow: none;\n",
              "  }\n",
              "\n",
              "  .colab-df-spinner {\n",
              "    border: 2px solid var(--fill-color);\n",
              "    border-color: transparent;\n",
              "    border-bottom-color: var(--fill-color);\n",
              "    animation:\n",
              "      spin 1s steps(1) infinite;\n",
              "  }\n",
              "\n",
              "  @keyframes spin {\n",
              "    0% {\n",
              "      border-color: transparent;\n",
              "      border-bottom-color: var(--fill-color);\n",
              "      border-left-color: var(--fill-color);\n",
              "    }\n",
              "    20% {\n",
              "      border-color: transparent;\n",
              "      border-left-color: var(--fill-color);\n",
              "      border-top-color: var(--fill-color);\n",
              "    }\n",
              "    30% {\n",
              "      border-color: transparent;\n",
              "      border-left-color: var(--fill-color);\n",
              "      border-top-color: var(--fill-color);\n",
              "      border-right-color: var(--fill-color);\n",
              "    }\n",
              "    40% {\n",
              "      border-color: transparent;\n",
              "      border-right-color: var(--fill-color);\n",
              "      border-top-color: var(--fill-color);\n",
              "    }\n",
              "    60% {\n",
              "      border-color: transparent;\n",
              "      border-right-color: var(--fill-color);\n",
              "    }\n",
              "    80% {\n",
              "      border-color: transparent;\n",
              "      border-right-color: var(--fill-color);\n",
              "      border-bottom-color: var(--fill-color);\n",
              "    }\n",
              "    90% {\n",
              "      border-color: transparent;\n",
              "      border-bottom-color: var(--fill-color);\n",
              "    }\n",
              "  }\n",
              "</style>\n",
              "\n",
              "  <script>\n",
              "    async function quickchart(key) {\n",
              "      const quickchartButtonEl =\n",
              "        document.querySelector('#' + key + ' button');\n",
              "      quickchartButtonEl.disabled = true;  // To prevent multiple clicks.\n",
              "      quickchartButtonEl.classList.add('colab-df-spinner');\n",
              "      try {\n",
              "        const charts = await google.colab.kernel.invokeFunction(\n",
              "            'suggestCharts', [key], {});\n",
              "      } catch (error) {\n",
              "        console.error('Error during call to suggestCharts:', error);\n",
              "      }\n",
              "      quickchartButtonEl.classList.remove('colab-df-spinner');\n",
              "      quickchartButtonEl.classList.add('colab-df-quickchart-complete');\n",
              "    }\n",
              "    (() => {\n",
              "      let quickchartButtonEl =\n",
              "        document.querySelector('#df-ef4ece97-d019-4791-afe2-7071f815f508 button');\n",
              "      quickchartButtonEl.style.display =\n",
              "        google.colab.kernel.accessAllowed ? 'block' : 'none';\n",
              "    })();\n",
              "  </script>\n",
              "</div>\n",
              "\n",
              "    </div>\n",
              "  </div>\n"
            ],
            "application/vnd.google.colaboratory.intrinsic+json": {
              "type": "dataframe"
            }
          },
          "metadata": {},
          "execution_count": 44
        }
      ]
    },
    {
      "cell_type": "markdown",
      "source": [
        "Features:\n",
        "\n",
        "g- significam dados de expressão gênica.\n",
        "\n",
        "c- significam dados de viabilidade celular."
      ],
      "metadata": {
        "id": "MA6wyrRbzEAj"
      }
    },
    {
      "cell_type": "code",
      "source": [
        "dados.shape"
      ],
      "metadata": {
        "colab": {
          "base_uri": "https://localhost:8080/"
        },
        "id": "ECR73b2FyFcQ",
        "outputId": "2419014e-b2c9-40c8-8e89-e9354c43caf4"
      },
      "execution_count": 45,
      "outputs": [
        {
          "output_type": "execute_result",
          "data": {
            "text/plain": [
              "(23814, 877)"
            ]
          },
          "metadata": {},
          "execution_count": 45
        }
      ]
    },
    {
      "cell_type": "code",
      "source": [
        "mapa = {'droga' : 'composto'}\n",
        "dados.rename(columns=mapa, inplace=True)\n",
        "dados"
      ],
      "metadata": {
        "colab": {
          "base_uri": "https://localhost:8080/",
          "height": 444
        },
        "id": "0IuEBo_4ySfZ",
        "outputId": "deca3813-7277-4a26-f582-0d46da63fda0"
      },
      "execution_count": 46,
      "outputs": [
        {
          "output_type": "execute_result",
          "data": {
            "text/plain": [
              "                 id    tratamento  tempo dose   composto     g-0     g-1  \\\n",
              "0      id_000644bb2     com_droga     24   D1  b68db1d53  1.0620  0.5577   \n",
              "1      id_000779bfc     com_droga     72   D1  df89a8e5a  0.0743  0.4087   \n",
              "2      id_000a6266a     com_droga     48   D1  18bb41b2c  0.6280  0.5817   \n",
              "3      id_0015fd391     com_droga     48   D1  8c7f86626 -0.5138 -0.2491   \n",
              "4      id_001626bd3     com_droga     72   D2  7cbed3131 -0.3254 -0.4009   \n",
              "...             ...           ...    ...  ...        ...     ...     ...   \n",
              "23809  id_fffb1ceed     com_droga     24   D2  df1d0a5a1  0.1394 -0.0636   \n",
              "23810  id_fffb70c0c     com_droga     24   D2  ecf3b6b74 -1.3260  0.3478   \n",
              "23811  id_fffc1c3f4  com_controle     48   D2  cacb2b860  0.3942  0.3756   \n",
              "23812  id_fffcb9e7c     com_droga     24   D1  8b87a7a83  0.6660  0.2324   \n",
              "23813  id_ffffdd77b     com_droga     72   D1  972f41291 -0.8598  1.0240   \n",
              "\n",
              "          g-2     g-3     g-4  ...    c-90    c-91    c-92    c-93    c-94  \\\n",
              "0     -0.2479 -0.6208 -0.1944  ...  0.2862  0.2584  0.8076  0.5523 -0.1912   \n",
              "1      0.2991  0.0604  1.0190  ... -0.4265  0.7543  0.4708  0.0230  0.2957   \n",
              "2      1.5540 -0.0764 -0.0323  ... -0.7250 -0.6297  0.6103  0.0223 -1.3240   \n",
              "3     -0.2656  0.5288  4.0620  ... -2.0990 -0.6441 -5.6300 -1.3780 -0.8632   \n",
              "4      0.9700  0.6919  1.4180  ...  0.0042  0.0048  0.6670  1.0690  0.5523   \n",
              "...       ...     ...     ...  ...     ...     ...     ...     ...     ...   \n",
              "23809 -0.1112 -0.5080 -0.4713  ...  0.1969  0.0262 -0.8121  0.3434  0.5372   \n",
              "23810 -0.3743  0.9905 -0.7178  ...  0.4286  0.4426  0.0423 -0.3195 -0.8086   \n",
              "23811  0.3109 -0.7389  0.5505  ...  0.5409  0.3755  0.7343  0.2807  0.4116   \n",
              "23812  0.4392  0.2044  0.8531  ... -0.1105  0.4258 -0.2012  0.1506  1.5230   \n",
              "23813 -0.1361  0.7952 -0.3611  ... -3.3890 -1.7450 -6.6300 -4.0950 -7.3860   \n",
              "\n",
              "         c-95    c-96    c-97    c-98    c-99  \n",
              "0      0.6584 -0.3981  0.2139  0.3801  0.4176  \n",
              "1      0.4899  0.1522  0.1241  0.6077  0.7371  \n",
              "2     -0.3174 -0.6417 -0.2187 -1.4080  0.6931  \n",
              "3     -1.2880 -1.6210 -0.8784 -0.3876 -0.8154  \n",
              "4     -0.3031  0.1094  0.2885 -0.3786  0.7125  \n",
              "...       ...     ...     ...     ...     ...  \n",
              "23809 -0.3246  0.0631  0.9171  0.5258  0.4680  \n",
              "23810 -0.9798 -0.2084 -0.1224 -0.2715  0.3689  \n",
              "23811  0.6422  0.2256  0.7592  0.6656  0.3808  \n",
              "23812  0.7101  0.1732  0.7015 -0.6290  0.0740  \n",
              "23813 -1.4160 -3.5770 -0.4775 -2.1500 -4.2520  \n",
              "\n",
              "[23814 rows x 877 columns]"
            ],
            "text/html": [
              "\n",
              "  <div id=\"df-22e9966e-0751-4c43-b51e-ab478febd1cc\" class=\"colab-df-container\">\n",
              "    <div>\n",
              "<style scoped>\n",
              "    .dataframe tbody tr th:only-of-type {\n",
              "        vertical-align: middle;\n",
              "    }\n",
              "\n",
              "    .dataframe tbody tr th {\n",
              "        vertical-align: top;\n",
              "    }\n",
              "\n",
              "    .dataframe thead th {\n",
              "        text-align: right;\n",
              "    }\n",
              "</style>\n",
              "<table border=\"1\" class=\"dataframe\">\n",
              "  <thead>\n",
              "    <tr style=\"text-align: right;\">\n",
              "      <th></th>\n",
              "      <th>id</th>\n",
              "      <th>tratamento</th>\n",
              "      <th>tempo</th>\n",
              "      <th>dose</th>\n",
              "      <th>composto</th>\n",
              "      <th>g-0</th>\n",
              "      <th>g-1</th>\n",
              "      <th>g-2</th>\n",
              "      <th>g-3</th>\n",
              "      <th>g-4</th>\n",
              "      <th>...</th>\n",
              "      <th>c-90</th>\n",
              "      <th>c-91</th>\n",
              "      <th>c-92</th>\n",
              "      <th>c-93</th>\n",
              "      <th>c-94</th>\n",
              "      <th>c-95</th>\n",
              "      <th>c-96</th>\n",
              "      <th>c-97</th>\n",
              "      <th>c-98</th>\n",
              "      <th>c-99</th>\n",
              "    </tr>\n",
              "  </thead>\n",
              "  <tbody>\n",
              "    <tr>\n",
              "      <th>0</th>\n",
              "      <td>id_000644bb2</td>\n",
              "      <td>com_droga</td>\n",
              "      <td>24</td>\n",
              "      <td>D1</td>\n",
              "      <td>b68db1d53</td>\n",
              "      <td>1.0620</td>\n",
              "      <td>0.5577</td>\n",
              "      <td>-0.2479</td>\n",
              "      <td>-0.6208</td>\n",
              "      <td>-0.1944</td>\n",
              "      <td>...</td>\n",
              "      <td>0.2862</td>\n",
              "      <td>0.2584</td>\n",
              "      <td>0.8076</td>\n",
              "      <td>0.5523</td>\n",
              "      <td>-0.1912</td>\n",
              "      <td>0.6584</td>\n",
              "      <td>-0.3981</td>\n",
              "      <td>0.2139</td>\n",
              "      <td>0.3801</td>\n",
              "      <td>0.4176</td>\n",
              "    </tr>\n",
              "    <tr>\n",
              "      <th>1</th>\n",
              "      <td>id_000779bfc</td>\n",
              "      <td>com_droga</td>\n",
              "      <td>72</td>\n",
              "      <td>D1</td>\n",
              "      <td>df89a8e5a</td>\n",
              "      <td>0.0743</td>\n",
              "      <td>0.4087</td>\n",
              "      <td>0.2991</td>\n",
              "      <td>0.0604</td>\n",
              "      <td>1.0190</td>\n",
              "      <td>...</td>\n",
              "      <td>-0.4265</td>\n",
              "      <td>0.7543</td>\n",
              "      <td>0.4708</td>\n",
              "      <td>0.0230</td>\n",
              "      <td>0.2957</td>\n",
              "      <td>0.4899</td>\n",
              "      <td>0.1522</td>\n",
              "      <td>0.1241</td>\n",
              "      <td>0.6077</td>\n",
              "      <td>0.7371</td>\n",
              "    </tr>\n",
              "    <tr>\n",
              "      <th>2</th>\n",
              "      <td>id_000a6266a</td>\n",
              "      <td>com_droga</td>\n",
              "      <td>48</td>\n",
              "      <td>D1</td>\n",
              "      <td>18bb41b2c</td>\n",
              "      <td>0.6280</td>\n",
              "      <td>0.5817</td>\n",
              "      <td>1.5540</td>\n",
              "      <td>-0.0764</td>\n",
              "      <td>-0.0323</td>\n",
              "      <td>...</td>\n",
              "      <td>-0.7250</td>\n",
              "      <td>-0.6297</td>\n",
              "      <td>0.6103</td>\n",
              "      <td>0.0223</td>\n",
              "      <td>-1.3240</td>\n",
              "      <td>-0.3174</td>\n",
              "      <td>-0.6417</td>\n",
              "      <td>-0.2187</td>\n",
              "      <td>-1.4080</td>\n",
              "      <td>0.6931</td>\n",
              "    </tr>\n",
              "    <tr>\n",
              "      <th>3</th>\n",
              "      <td>id_0015fd391</td>\n",
              "      <td>com_droga</td>\n",
              "      <td>48</td>\n",
              "      <td>D1</td>\n",
              "      <td>8c7f86626</td>\n",
              "      <td>-0.5138</td>\n",
              "      <td>-0.2491</td>\n",
              "      <td>-0.2656</td>\n",
              "      <td>0.5288</td>\n",
              "      <td>4.0620</td>\n",
              "      <td>...</td>\n",
              "      <td>-2.0990</td>\n",
              "      <td>-0.6441</td>\n",
              "      <td>-5.6300</td>\n",
              "      <td>-1.3780</td>\n",
              "      <td>-0.8632</td>\n",
              "      <td>-1.2880</td>\n",
              "      <td>-1.6210</td>\n",
              "      <td>-0.8784</td>\n",
              "      <td>-0.3876</td>\n",
              "      <td>-0.8154</td>\n",
              "    </tr>\n",
              "    <tr>\n",
              "      <th>4</th>\n",
              "      <td>id_001626bd3</td>\n",
              "      <td>com_droga</td>\n",
              "      <td>72</td>\n",
              "      <td>D2</td>\n",
              "      <td>7cbed3131</td>\n",
              "      <td>-0.3254</td>\n",
              "      <td>-0.4009</td>\n",
              "      <td>0.9700</td>\n",
              "      <td>0.6919</td>\n",
              "      <td>1.4180</td>\n",
              "      <td>...</td>\n",
              "      <td>0.0042</td>\n",
              "      <td>0.0048</td>\n",
              "      <td>0.6670</td>\n",
              "      <td>1.0690</td>\n",
              "      <td>0.5523</td>\n",
              "      <td>-0.3031</td>\n",
              "      <td>0.1094</td>\n",
              "      <td>0.2885</td>\n",
              "      <td>-0.3786</td>\n",
              "      <td>0.7125</td>\n",
              "    </tr>\n",
              "    <tr>\n",
              "      <th>...</th>\n",
              "      <td>...</td>\n",
              "      <td>...</td>\n",
              "      <td>...</td>\n",
              "      <td>...</td>\n",
              "      <td>...</td>\n",
              "      <td>...</td>\n",
              "      <td>...</td>\n",
              "      <td>...</td>\n",
              "      <td>...</td>\n",
              "      <td>...</td>\n",
              "      <td>...</td>\n",
              "      <td>...</td>\n",
              "      <td>...</td>\n",
              "      <td>...</td>\n",
              "      <td>...</td>\n",
              "      <td>...</td>\n",
              "      <td>...</td>\n",
              "      <td>...</td>\n",
              "      <td>...</td>\n",
              "      <td>...</td>\n",
              "      <td>...</td>\n",
              "    </tr>\n",
              "    <tr>\n",
              "      <th>23809</th>\n",
              "      <td>id_fffb1ceed</td>\n",
              "      <td>com_droga</td>\n",
              "      <td>24</td>\n",
              "      <td>D2</td>\n",
              "      <td>df1d0a5a1</td>\n",
              "      <td>0.1394</td>\n",
              "      <td>-0.0636</td>\n",
              "      <td>-0.1112</td>\n",
              "      <td>-0.5080</td>\n",
              "      <td>-0.4713</td>\n",
              "      <td>...</td>\n",
              "      <td>0.1969</td>\n",
              "      <td>0.0262</td>\n",
              "      <td>-0.8121</td>\n",
              "      <td>0.3434</td>\n",
              "      <td>0.5372</td>\n",
              "      <td>-0.3246</td>\n",
              "      <td>0.0631</td>\n",
              "      <td>0.9171</td>\n",
              "      <td>0.5258</td>\n",
              "      <td>0.4680</td>\n",
              "    </tr>\n",
              "    <tr>\n",
              "      <th>23810</th>\n",
              "      <td>id_fffb70c0c</td>\n",
              "      <td>com_droga</td>\n",
              "      <td>24</td>\n",
              "      <td>D2</td>\n",
              "      <td>ecf3b6b74</td>\n",
              "      <td>-1.3260</td>\n",
              "      <td>0.3478</td>\n",
              "      <td>-0.3743</td>\n",
              "      <td>0.9905</td>\n",
              "      <td>-0.7178</td>\n",
              "      <td>...</td>\n",
              "      <td>0.4286</td>\n",
              "      <td>0.4426</td>\n",
              "      <td>0.0423</td>\n",
              "      <td>-0.3195</td>\n",
              "      <td>-0.8086</td>\n",
              "      <td>-0.9798</td>\n",
              "      <td>-0.2084</td>\n",
              "      <td>-0.1224</td>\n",
              "      <td>-0.2715</td>\n",
              "      <td>0.3689</td>\n",
              "    </tr>\n",
              "    <tr>\n",
              "      <th>23811</th>\n",
              "      <td>id_fffc1c3f4</td>\n",
              "      <td>com_controle</td>\n",
              "      <td>48</td>\n",
              "      <td>D2</td>\n",
              "      <td>cacb2b860</td>\n",
              "      <td>0.3942</td>\n",
              "      <td>0.3756</td>\n",
              "      <td>0.3109</td>\n",
              "      <td>-0.7389</td>\n",
              "      <td>0.5505</td>\n",
              "      <td>...</td>\n",
              "      <td>0.5409</td>\n",
              "      <td>0.3755</td>\n",
              "      <td>0.7343</td>\n",
              "      <td>0.2807</td>\n",
              "      <td>0.4116</td>\n",
              "      <td>0.6422</td>\n",
              "      <td>0.2256</td>\n",
              "      <td>0.7592</td>\n",
              "      <td>0.6656</td>\n",
              "      <td>0.3808</td>\n",
              "    </tr>\n",
              "    <tr>\n",
              "      <th>23812</th>\n",
              "      <td>id_fffcb9e7c</td>\n",
              "      <td>com_droga</td>\n",
              "      <td>24</td>\n",
              "      <td>D1</td>\n",
              "      <td>8b87a7a83</td>\n",
              "      <td>0.6660</td>\n",
              "      <td>0.2324</td>\n",
              "      <td>0.4392</td>\n",
              "      <td>0.2044</td>\n",
              "      <td>0.8531</td>\n",
              "      <td>...</td>\n",
              "      <td>-0.1105</td>\n",
              "      <td>0.4258</td>\n",
              "      <td>-0.2012</td>\n",
              "      <td>0.1506</td>\n",
              "      <td>1.5230</td>\n",
              "      <td>0.7101</td>\n",
              "      <td>0.1732</td>\n",
              "      <td>0.7015</td>\n",
              "      <td>-0.6290</td>\n",
              "      <td>0.0740</td>\n",
              "    </tr>\n",
              "    <tr>\n",
              "      <th>23813</th>\n",
              "      <td>id_ffffdd77b</td>\n",
              "      <td>com_droga</td>\n",
              "      <td>72</td>\n",
              "      <td>D1</td>\n",
              "      <td>972f41291</td>\n",
              "      <td>-0.8598</td>\n",
              "      <td>1.0240</td>\n",
              "      <td>-0.1361</td>\n",
              "      <td>0.7952</td>\n",
              "      <td>-0.3611</td>\n",
              "      <td>...</td>\n",
              "      <td>-3.3890</td>\n",
              "      <td>-1.7450</td>\n",
              "      <td>-6.6300</td>\n",
              "      <td>-4.0950</td>\n",
              "      <td>-7.3860</td>\n",
              "      <td>-1.4160</td>\n",
              "      <td>-3.5770</td>\n",
              "      <td>-0.4775</td>\n",
              "      <td>-2.1500</td>\n",
              "      <td>-4.2520</td>\n",
              "    </tr>\n",
              "  </tbody>\n",
              "</table>\n",
              "<p>23814 rows × 877 columns</p>\n",
              "</div>\n",
              "    <div class=\"colab-df-buttons\">\n",
              "\n",
              "  <div class=\"colab-df-container\">\n",
              "    <button class=\"colab-df-convert\" onclick=\"convertToInteractive('df-22e9966e-0751-4c43-b51e-ab478febd1cc')\"\n",
              "            title=\"Convert this dataframe to an interactive table.\"\n",
              "            style=\"display:none;\">\n",
              "\n",
              "  <svg xmlns=\"http://www.w3.org/2000/svg\" height=\"24px\" viewBox=\"0 -960 960 960\">\n",
              "    <path d=\"M120-120v-720h720v720H120Zm60-500h600v-160H180v160Zm220 220h160v-160H400v160Zm0 220h160v-160H400v160ZM180-400h160v-160H180v160Zm440 0h160v-160H620v160ZM180-180h160v-160H180v160Zm440 0h160v-160H620v160Z\"/>\n",
              "  </svg>\n",
              "    </button>\n",
              "\n",
              "  <style>\n",
              "    .colab-df-container {\n",
              "      display:flex;\n",
              "      gap: 12px;\n",
              "    }\n",
              "\n",
              "    .colab-df-convert {\n",
              "      background-color: #E8F0FE;\n",
              "      border: none;\n",
              "      border-radius: 50%;\n",
              "      cursor: pointer;\n",
              "      display: none;\n",
              "      fill: #1967D2;\n",
              "      height: 32px;\n",
              "      padding: 0 0 0 0;\n",
              "      width: 32px;\n",
              "    }\n",
              "\n",
              "    .colab-df-convert:hover {\n",
              "      background-color: #E2EBFA;\n",
              "      box-shadow: 0px 1px 2px rgba(60, 64, 67, 0.3), 0px 1px 3px 1px rgba(60, 64, 67, 0.15);\n",
              "      fill: #174EA6;\n",
              "    }\n",
              "\n",
              "    .colab-df-buttons div {\n",
              "      margin-bottom: 4px;\n",
              "    }\n",
              "\n",
              "    [theme=dark] .colab-df-convert {\n",
              "      background-color: #3B4455;\n",
              "      fill: #D2E3FC;\n",
              "    }\n",
              "\n",
              "    [theme=dark] .colab-df-convert:hover {\n",
              "      background-color: #434B5C;\n",
              "      box-shadow: 0px 1px 3px 1px rgba(0, 0, 0, 0.15);\n",
              "      filter: drop-shadow(0px 1px 2px rgba(0, 0, 0, 0.3));\n",
              "      fill: #FFFFFF;\n",
              "    }\n",
              "  </style>\n",
              "\n",
              "    <script>\n",
              "      const buttonEl =\n",
              "        document.querySelector('#df-22e9966e-0751-4c43-b51e-ab478febd1cc button.colab-df-convert');\n",
              "      buttonEl.style.display =\n",
              "        google.colab.kernel.accessAllowed ? 'block' : 'none';\n",
              "\n",
              "      async function convertToInteractive(key) {\n",
              "        const element = document.querySelector('#df-22e9966e-0751-4c43-b51e-ab478febd1cc');\n",
              "        const dataTable =\n",
              "          await google.colab.kernel.invokeFunction('convertToInteractive',\n",
              "                                                    [key], {});\n",
              "        if (!dataTable) return;\n",
              "\n",
              "        const docLinkHtml = 'Like what you see? Visit the ' +\n",
              "          '<a target=\"_blank\" href=https://colab.research.google.com/notebooks/data_table.ipynb>data table notebook</a>'\n",
              "          + ' to learn more about interactive tables.';\n",
              "        element.innerHTML = '';\n",
              "        dataTable['output_type'] = 'display_data';\n",
              "        await google.colab.output.renderOutput(dataTable, element);\n",
              "        const docLink = document.createElement('div');\n",
              "        docLink.innerHTML = docLinkHtml;\n",
              "        element.appendChild(docLink);\n",
              "      }\n",
              "    </script>\n",
              "  </div>\n",
              "\n",
              "\n",
              "<div id=\"df-43d01072-d33e-4f19-a386-d45cbdd49611\">\n",
              "  <button class=\"colab-df-quickchart\" onclick=\"quickchart('df-43d01072-d33e-4f19-a386-d45cbdd49611')\"\n",
              "            title=\"Suggest charts\"\n",
              "            style=\"display:none;\">\n",
              "\n",
              "<svg xmlns=\"http://www.w3.org/2000/svg\" height=\"24px\"viewBox=\"0 0 24 24\"\n",
              "     width=\"24px\">\n",
              "    <g>\n",
              "        <path d=\"M19 3H5c-1.1 0-2 .9-2 2v14c0 1.1.9 2 2 2h14c1.1 0 2-.9 2-2V5c0-1.1-.9-2-2-2zM9 17H7v-7h2v7zm4 0h-2V7h2v10zm4 0h-2v-4h2v4z\"/>\n",
              "    </g>\n",
              "</svg>\n",
              "  </button>\n",
              "\n",
              "<style>\n",
              "  .colab-df-quickchart {\n",
              "      --bg-color: #E8F0FE;\n",
              "      --fill-color: #1967D2;\n",
              "      --hover-bg-color: #E2EBFA;\n",
              "      --hover-fill-color: #174EA6;\n",
              "      --disabled-fill-color: #AAA;\n",
              "      --disabled-bg-color: #DDD;\n",
              "  }\n",
              "\n",
              "  [theme=dark] .colab-df-quickchart {\n",
              "      --bg-color: #3B4455;\n",
              "      --fill-color: #D2E3FC;\n",
              "      --hover-bg-color: #434B5C;\n",
              "      --hover-fill-color: #FFFFFF;\n",
              "      --disabled-bg-color: #3B4455;\n",
              "      --disabled-fill-color: #666;\n",
              "  }\n",
              "\n",
              "  .colab-df-quickchart {\n",
              "    background-color: var(--bg-color);\n",
              "    border: none;\n",
              "    border-radius: 50%;\n",
              "    cursor: pointer;\n",
              "    display: none;\n",
              "    fill: var(--fill-color);\n",
              "    height: 32px;\n",
              "    padding: 0;\n",
              "    width: 32px;\n",
              "  }\n",
              "\n",
              "  .colab-df-quickchart:hover {\n",
              "    background-color: var(--hover-bg-color);\n",
              "    box-shadow: 0 1px 2px rgba(60, 64, 67, 0.3), 0 1px 3px 1px rgba(60, 64, 67, 0.15);\n",
              "    fill: var(--button-hover-fill-color);\n",
              "  }\n",
              "\n",
              "  .colab-df-quickchart-complete:disabled,\n",
              "  .colab-df-quickchart-complete:disabled:hover {\n",
              "    background-color: var(--disabled-bg-color);\n",
              "    fill: var(--disabled-fill-color);\n",
              "    box-shadow: none;\n",
              "  }\n",
              "\n",
              "  .colab-df-spinner {\n",
              "    border: 2px solid var(--fill-color);\n",
              "    border-color: transparent;\n",
              "    border-bottom-color: var(--fill-color);\n",
              "    animation:\n",
              "      spin 1s steps(1) infinite;\n",
              "  }\n",
              "\n",
              "  @keyframes spin {\n",
              "    0% {\n",
              "      border-color: transparent;\n",
              "      border-bottom-color: var(--fill-color);\n",
              "      border-left-color: var(--fill-color);\n",
              "    }\n",
              "    20% {\n",
              "      border-color: transparent;\n",
              "      border-left-color: var(--fill-color);\n",
              "      border-top-color: var(--fill-color);\n",
              "    }\n",
              "    30% {\n",
              "      border-color: transparent;\n",
              "      border-left-color: var(--fill-color);\n",
              "      border-top-color: var(--fill-color);\n",
              "      border-right-color: var(--fill-color);\n",
              "    }\n",
              "    40% {\n",
              "      border-color: transparent;\n",
              "      border-right-color: var(--fill-color);\n",
              "      border-top-color: var(--fill-color);\n",
              "    }\n",
              "    60% {\n",
              "      border-color: transparent;\n",
              "      border-right-color: var(--fill-color);\n",
              "    }\n",
              "    80% {\n",
              "      border-color: transparent;\n",
              "      border-right-color: var(--fill-color);\n",
              "      border-bottom-color: var(--fill-color);\n",
              "    }\n",
              "    90% {\n",
              "      border-color: transparent;\n",
              "      border-bottom-color: var(--fill-color);\n",
              "    }\n",
              "  }\n",
              "</style>\n",
              "\n",
              "  <script>\n",
              "    async function quickchart(key) {\n",
              "      const quickchartButtonEl =\n",
              "        document.querySelector('#' + key + ' button');\n",
              "      quickchartButtonEl.disabled = true;  // To prevent multiple clicks.\n",
              "      quickchartButtonEl.classList.add('colab-df-spinner');\n",
              "      try {\n",
              "        const charts = await google.colab.kernel.invokeFunction(\n",
              "            'suggestCharts', [key], {});\n",
              "      } catch (error) {\n",
              "        console.error('Error during call to suggestCharts:', error);\n",
              "      }\n",
              "      quickchartButtonEl.classList.remove('colab-df-spinner');\n",
              "      quickchartButtonEl.classList.add('colab-df-quickchart-complete');\n",
              "    }\n",
              "    (() => {\n",
              "      let quickchartButtonEl =\n",
              "        document.querySelector('#df-43d01072-d33e-4f19-a386-d45cbdd49611 button');\n",
              "      quickchartButtonEl.style.display =\n",
              "        google.colab.kernel.accessAllowed ? 'block' : 'none';\n",
              "    })();\n",
              "  </script>\n",
              "</div>\n",
              "\n",
              "  <div id=\"id_3b347d51-90db-427b-8640-af016f9f0e32\">\n",
              "    <style>\n",
              "      .colab-df-generate {\n",
              "        background-color: #E8F0FE;\n",
              "        border: none;\n",
              "        border-radius: 50%;\n",
              "        cursor: pointer;\n",
              "        display: none;\n",
              "        fill: #1967D2;\n",
              "        height: 32px;\n",
              "        padding: 0 0 0 0;\n",
              "        width: 32px;\n",
              "      }\n",
              "\n",
              "      .colab-df-generate:hover {\n",
              "        background-color: #E2EBFA;\n",
              "        box-shadow: 0px 1px 2px rgba(60, 64, 67, 0.3), 0px 1px 3px 1px rgba(60, 64, 67, 0.15);\n",
              "        fill: #174EA6;\n",
              "      }\n",
              "\n",
              "      [theme=dark] .colab-df-generate {\n",
              "        background-color: #3B4455;\n",
              "        fill: #D2E3FC;\n",
              "      }\n",
              "\n",
              "      [theme=dark] .colab-df-generate:hover {\n",
              "        background-color: #434B5C;\n",
              "        box-shadow: 0px 1px 3px 1px rgba(0, 0, 0, 0.15);\n",
              "        filter: drop-shadow(0px 1px 2px rgba(0, 0, 0, 0.3));\n",
              "        fill: #FFFFFF;\n",
              "      }\n",
              "    </style>\n",
              "    <button class=\"colab-df-generate\" onclick=\"generateWithVariable('dados')\"\n",
              "            title=\"Generate code using this dataframe.\"\n",
              "            style=\"display:none;\">\n",
              "\n",
              "  <svg xmlns=\"http://www.w3.org/2000/svg\" height=\"24px\"viewBox=\"0 0 24 24\"\n",
              "       width=\"24px\">\n",
              "    <path d=\"M7,19H8.4L18.45,9,17,7.55,7,17.6ZM5,21V16.75L18.45,3.32a2,2,0,0,1,2.83,0l1.4,1.43a1.91,1.91,0,0,1,.58,1.4,1.91,1.91,0,0,1-.58,1.4L9.25,21ZM18.45,9,17,7.55Zm-12,3A5.31,5.31,0,0,0,4.9,8.1,5.31,5.31,0,0,0,1,6.5,5.31,5.31,0,0,0,4.9,4.9,5.31,5.31,0,0,0,6.5,1,5.31,5.31,0,0,0,8.1,4.9,5.31,5.31,0,0,0,12,6.5,5.46,5.46,0,0,0,6.5,12Z\"/>\n",
              "  </svg>\n",
              "    </button>\n",
              "    <script>\n",
              "      (() => {\n",
              "      const buttonEl =\n",
              "        document.querySelector('#id_3b347d51-90db-427b-8640-af016f9f0e32 button.colab-df-generate');\n",
              "      buttonEl.style.display =\n",
              "        google.colab.kernel.accessAllowed ? 'block' : 'none';\n",
              "\n",
              "      buttonEl.onclick = () => {\n",
              "        google.colab.notebook.generateWithVariable('dados');\n",
              "      }\n",
              "      })();\n",
              "    </script>\n",
              "  </div>\n",
              "\n",
              "    </div>\n",
              "  </div>\n"
            ],
            "application/vnd.google.colaboratory.intrinsic+json": {
              "type": "dataframe",
              "variable_name": "dados"
            }
          },
          "metadata": {},
          "execution_count": 46
        }
      ]
    },
    {
      "cell_type": "markdown",
      "source": [
        "### Entendendo nossos dados"
      ],
      "metadata": {
        "id": "k7Tvd_vAyoik"
      }
    },
    {
      "cell_type": "code",
      "source": [
        "dados['tratamento'].unique()"
      ],
      "metadata": {
        "colab": {
          "base_uri": "https://localhost:8080/"
        },
        "id": "A3fjwDxAylWU",
        "outputId": "96496657-90cb-46b5-c221-0173fe5774be"
      },
      "execution_count": 47,
      "outputs": [
        {
          "output_type": "execute_result",
          "data": {
            "text/plain": [
              "array(['com_droga', 'com_controle'], dtype=object)"
            ]
          },
          "metadata": {},
          "execution_count": 47
        }
      ]
    },
    {
      "cell_type": "code",
      "source": [
        "dados['tempo'].unique()"
      ],
      "metadata": {
        "colab": {
          "base_uri": "https://localhost:8080/"
        },
        "id": "E5OrQih4ywui",
        "outputId": "e99fdbae-26e1-404d-9159-6339b4cd9c97"
      },
      "execution_count": 48,
      "outputs": [
        {
          "output_type": "execute_result",
          "data": {
            "text/plain": [
              "array([24, 72, 48])"
            ]
          },
          "metadata": {},
          "execution_count": 48
        }
      ]
    },
    {
      "cell_type": "code",
      "source": [
        "dados['dose'].unique()"
      ],
      "metadata": {
        "colab": {
          "base_uri": "https://localhost:8080/"
        },
        "id": "HxT4NcXhy0X8",
        "outputId": "48e639fa-5637-4f9b-f67c-40e1fa8517b1"
      },
      "execution_count": 49,
      "outputs": [
        {
          "output_type": "execute_result",
          "data": {
            "text/plain": [
              "array(['D1', 'D2'], dtype=object)"
            ]
          },
          "metadata": {},
          "execution_count": 49
        }
      ]
    },
    {
      "cell_type": "code",
      "source": [
        "dados['composto'].nunique()"
      ],
      "metadata": {
        "colab": {
          "base_uri": "https://localhost:8080/"
        },
        "id": "9lM6Qh9Iy4lL",
        "outputId": "d05a5a17-e2c0-4256-c976-dff892f6ff4f"
      },
      "execution_count": 50,
      "outputs": [
        {
          "output_type": "execute_result",
          "data": {
            "text/plain": [
              "3289"
            ]
          },
          "metadata": {},
          "execution_count": 50
        }
      ]
    },
    {
      "cell_type": "code",
      "source": [
        "dados['tratamento'].value_counts()"
      ],
      "metadata": {
        "colab": {
          "base_uri": "https://localhost:8080/"
        },
        "id": "huHZZqTRzOQx",
        "outputId": "4bf98bab-cdbe-4266-c7c9-b1b65d35fa2e"
      },
      "execution_count": 51,
      "outputs": [
        {
          "output_type": "execute_result",
          "data": {
            "text/plain": [
              "com_droga       21948\n",
              "com_controle     1866\n",
              "Name: tratamento, dtype: int64"
            ]
          },
          "metadata": {},
          "execution_count": 51
        }
      ]
    },
    {
      "cell_type": "code",
      "source": [
        "sns.countplot(x='tratamento',\n",
        "    data=dados,\n",
        "    #palette='Reds',\n",
        "    order=dados['tratamento'].value_counts().index).set_title(\"Quantidade de tratamentos\");"
      ],
      "metadata": {
        "colab": {
          "base_uri": "https://localhost:8080/",
          "height": 472
        },
        "id": "x8DatrVrzVxG",
        "outputId": "4c77c432-9ad3-4062-ef9a-6463fd4513ea"
      },
      "execution_count": 52,
      "outputs": [
        {
          "output_type": "display_data",
          "data": {
            "text/plain": [
              "<Figure size 640x480 with 1 Axes>"
            ],
            "image/png": "[encoded data removed]"
          },
          "metadata": {}
        }
      ]
    },
    {
      "cell_type": "code",
      "source": [
        "dados.query('tratamento == \"com_controle\"')"
      ],
      "metadata": {
        "colab": {
          "base_uri": "https://localhost:8080/",
          "height": 444
        },
        "id": "x5FpzUGSzkDX",
        "outputId": "8266c160-3015-4a80-c1fb-9bbcb0de5d33"
      },
      "execution_count": 53,
      "outputs": [
        {
          "output_type": "execute_result",
          "data": {
            "text/plain": [
              "                 id    tratamento  tempo dose   composto     g-0     g-1  \\\n",
              "25     id_0054388ec  com_controle     48   D1  cacb2b860 -0.6696 -0.2718   \n",
              "38     id_0079af0fb  com_controle     24   D1  cacb2b860 -0.1636 -1.8230   \n",
              "40     id_007bfbb91  com_controle     24   D2  cacb2b860 -1.3200 -1.7340   \n",
              "47     id_008a986b7  com_controle     48   D2  cacb2b860  0.4860  0.1430   \n",
              "63     id_009d8340f  com_controle     24   D2  cacb2b860  0.4471 -0.0839   \n",
              "...             ...           ...    ...  ...        ...     ...     ...   \n",
              "23729  id_ff1f9e5fc  com_controle     24   D1  cacb2b860  0.0465  0.6430   \n",
              "23747  id_ff469c482  com_controle     72   D1  cacb2b860 -0.6204 -1.3800   \n",
              "23768  id_ff89331ca  com_controle     72   D2  cacb2b860 -0.1051  0.4335   \n",
              "23793  id_ffd26f361  com_controle     48   D2  cacb2b860  0.6008  0.2781   \n",
              "23811  id_fffc1c3f4  com_controle     48   D2  cacb2b860  0.3942  0.3756   \n",
              "\n",
              "          g-2     g-3     g-4  ...    c-90    c-91    c-92    c-93    c-94  \\\n",
              "25    -1.2230 -0.6226 -0.7220  ...  0.6171  0.6405  0.5429  0.3562  1.3290   \n",
              "38    -0.5211  0.3054 -1.1280  ... -0.3880 -0.6828 -0.6594 -0.2043  0.3571   \n",
              "40    -0.0741  1.5440 -1.8290  ...  0.7412  1.0340  0.7393  1.1020  0.3786   \n",
              "47     0.5281 -0.0022 -0.2334  ... -0.3085 -0.1866  0.7629  0.3288 -0.9915   \n",
              "63    -0.3864  0.3196  0.2584  ...  0.4795  0.3939  0.7665  0.7932 -0.6804   \n",
              "...       ...     ...     ...  ...     ...     ...     ...     ...     ...   \n",
              "23729 -0.2453  0.3521  0.6195  ...  0.6085  0.1621 -0.2065  0.8314 -0.1891   \n",
              "23747 -1.1880 -0.6573 -0.8408  ...  0.8209  0.7366  0.5468  1.1450  0.5254   \n",
              "23768  0.3648 -0.0525 -0.3632  ... -0.1219  0.4885  0.4963  0.9434 -0.4779   \n",
              "23793 -0.3319 -0.8782  0.9281  ...  1.2470  0.9569 -0.2065 -0.4918  0.7863   \n",
              "23811  0.3109 -0.7389  0.5505  ...  0.5409  0.3755  0.7343  0.2807  0.4116   \n",
              "\n",
              "         c-95    c-96    c-97    c-98    c-99  \n",
              "25     0.5573  0.8837  0.5534  0.8976  1.0050  \n",
              "38    -0.1319  0.2187  0.0737  0.6498 -1.4820  \n",
              "40     0.2636 -0.5751  0.3362  0.8543  0.9180  \n",
              "47    -0.3694 -0.4979  0.5281 -0.9245 -0.9367  \n",
              "63    -0.0435  0.0949  0.2000 -0.4326  0.9364  \n",
              "...       ...     ...     ...     ...     ...  \n",
              "23729 -0.0074  0.2131 -0.1419 -0.2422  0.0457  \n",
              "23747  0.6224 -0.9630  0.8872 -0.0742 -0.6777  \n",
              "23768  0.6951  0.9517 -0.8110 -0.1748 -0.3626  \n",
              "23793  0.0504  0.8813  0.7757 -0.5272  0.7082  \n",
              "23811  0.6422  0.2256  0.7592  0.6656  0.3808  \n",
              "\n",
              "[1866 rows x 877 columns]"
            ],
            "text/html": [
              "\n",
              "  <div id=\"df-5ca91f37-c5ac-4de9-9ca5-79f3cb4ce9f0\" class=\"colab-df-container\">\n",
              "    <div>\n",
              "<style scoped>\n",
              "    .dataframe tbody tr th:only-of-type {\n",
              "        vertical-align: middle;\n",
              "    }\n",
              "\n",
              "    .dataframe tbody tr th {\n",
              "        vertical-align: top;\n",
              "    }\n",
              "\n",
              "    .dataframe thead th {\n",
              "        text-align: right;\n",
              "    }\n",
              "</style>\n",
              "<table border=\"1\" class=\"dataframe\">\n",
              "  <thead>\n",
              "    <tr style=\"text-align: right;\">\n",
              "      <th></th>\n",
              "      <th>id</th>\n",
              "      <th>tratamento</th>\n",
              "      <th>tempo</th>\n",
              "      <th>dose</th>\n",
              "      <th>composto</th>\n",
              "      <th>g-0</th>\n",
              "      <th>g-1</th>\n",
              "      <th>g-2</th>\n",
              "      <th>g-3</th>\n",
              "      <th>g-4</th>\n",
              "      <th>...</th>\n",
              "      <th>c-90</th>\n",
              "      <th>c-91</th>\n",
              "      <th>c-92</th>\n",
              "      <th>c-93</th>\n",
              "      <th>c-94</th>\n",
              "      <th>c-95</th>\n",
              "      <th>c-96</th>\n",
              "      <th>c-97</th>\n",
              "      <th>c-98</th>\n",
              "      <th>c-99</th>\n",
              "    </tr>\n",
              "  </thead>\n",
              "  <tbody>\n",
              "    <tr>\n",
              "      <th>25</th>\n",
              "      <td>id_0054388ec</td>\n",
              "      <td>com_controle</td>\n",
              "      <td>48</td>\n",
              "      <td>D1</td>\n",
              "      <td>cacb2b860</td>\n",
              "      <td>-0.6696</td>\n",
              "      <td>-0.2718</td>\n",
              "      <td>-1.2230</td>\n",
              "      <td>-0.6226</td>\n",
              "      <td>-0.7220</td>\n",
              "      <td>...</td>\n",
              "      <td>0.6171</td>\n",
              "      <td>0.6405</td>\n",
              "      <td>0.5429</td>\n",
              "      <td>0.3562</td>\n",
              "      <td>1.3290</td>\n",
              "      <td>0.5573</td>\n",
              "      <td>0.8837</td>\n",
              "      <td>0.5534</td>\n",
              "      <td>0.8976</td>\n",
              "      <td>1.0050</td>\n",
              "    </tr>\n",
              "    <tr>\n",
              "      <th>38</th>\n",
              "      <td>id_0079af0fb</td>\n",
              "      <td>com_controle</td>\n",
              "      <td>24</td>\n",
              "      <td>D1</td>\n",
              "      <td>cacb2b860</td>\n",
              "      <td>-0.1636</td>\n",
              "      <td>-1.8230</td>\n",
              "      <td>-0.5211</td>\n",
              "      <td>0.3054</td>\n",
              "      <td>-1.1280</td>\n",
              "      <td>...</td>\n",
              "      <td>-0.3880</td>\n",
              "      <td>-0.6828</td>\n",
              "      <td>-0.6594</td>\n",
              "      <td>-0.2043</td>\n",
              "      <td>0.3571</td>\n",
              "      <td>-0.1319</td>\n",
              "      <td>0.2187</td>\n",
              "      <td>0.0737</td>\n",
              "      <td>0.6498</td>\n",
              "      <td>-1.4820</td>\n",
              "    </tr>\n",
              "    <tr>\n",
              "      <th>40</th>\n",
              "      <td>id_007bfbb91</td>\n",
              "      <td>com_controle</td>\n",
              "      <td>24</td>\n",
              "      <td>D2</td>\n",
              "      <td>cacb2b860</td>\n",
              "      <td>-1.3200</td>\n",
              "      <td>-1.7340</td>\n",
              "      <td>-0.0741</td>\n",
              "      <td>1.5440</td>\n",
              "      <td>-1.8290</td>\n",
              "      <td>...</td>\n",
              "      <td>0.7412</td>\n",
              "      <td>1.0340</td>\n",
              "      <td>0.7393</td>\n",
              "      <td>1.1020</td>\n",
              "      <td>0.3786</td>\n",
              "      <td>0.2636</td>\n",
              "      <td>-0.5751</td>\n",
              "      <td>0.3362</td>\n",
              "      <td>0.8543</td>\n",
              "      <td>0.9180</td>\n",
              "    </tr>\n",
              "    <tr>\n",
              "      <th>47</th>\n",
              "      <td>id_008a986b7</td>\n",
              "      <td>com_controle</td>\n",
              "      <td>48</td>\n",
              "      <td>D2</td>\n",
              "      <td>cacb2b860</td>\n",
              "      <td>0.4860</td>\n",
              "      <td>0.1430</td>\n",
              "      <td>0.5281</td>\n",
              "      <td>-0.0022</td>\n",
              "      <td>-0.2334</td>\n",
              "      <td>...</td>\n",
              "      <td>-0.3085</td>\n",
              "      <td>-0.1866</td>\n",
              "      <td>0.7629</td>\n",
              "      <td>0.3288</td>\n",
              "      <td>-0.9915</td>\n",
              "      <td>-0.3694</td>\n",
              "      <td>-0.4979</td>\n",
              "      <td>0.5281</td>\n",
              "      <td>-0.9245</td>\n",
              "      <td>-0.9367</td>\n",
              "    </tr>\n",
              "    <tr>\n",
              "      <th>63</th>\n",
              "      <td>id_009d8340f</td>\n",
              "      <td>com_controle</td>\n",
              "      <td>24</td>\n",
              "      <td>D2</td>\n",
              "      <td>cacb2b860</td>\n",
              "      <td>0.4471</td>\n",
              "      <td>-0.0839</td>\n",
              "      <td>-0.3864</td>\n",
              "      <td>0.3196</td>\n",
              "      <td>0.2584</td>\n",
              "      <td>...</td>\n",
              "      <td>0.4795</td>\n",
              "      <td>0.3939</td>\n",
              "      <td>0.7665</td>\n",
              "      <td>0.7932</td>\n",
              "      <td>-0.6804</td>\n",
              "      <td>-0.0435</td>\n",
              "      <td>0.0949</td>\n",
              "      <td>0.2000</td>\n",
              "      <td>-0.4326</td>\n",
              "      <td>0.9364</td>\n",
              "    </tr>\n",
              "    <tr>\n",
              "      <th>...</th>\n",
              "      <td>...</td>\n",
              "      <td>...</td>\n",
              "      <td>...</td>\n",
              "      <td>...</td>\n",
              "      <td>...</td>\n",
              "      <td>...</td>\n",
              "      <td>...</td>\n",
              "      <td>...</td>\n",
              "      <td>...</td>\n",
              "      <td>...</td>\n",
              "      <td>...</td>\n",
              "      <td>...</td>\n",
              "      <td>...</td>\n",
              "      <td>...</td>\n",
              "      <td>...</td>\n",
              "      <td>...</td>\n",
              "      <td>...</td>\n",
              "      <td>...</td>\n",
              "      <td>...</td>\n",
              "      <td>...</td>\n",
              "      <td>...</td>\n",
              "    </tr>\n",
              "    <tr>\n",
              "      <th>23729</th>\n",
              "      <td>id_ff1f9e5fc</td>\n",
              "      <td>com_controle</td>\n",
              "      <td>24</td>\n",
              "      <td>D1</td>\n",
              "      <td>cacb2b860</td>\n",
              "      <td>0.0465</td>\n",
              "      <td>0.6430</td>\n",
              "      <td>-0.2453</td>\n",
              "      <td>0.3521</td>\n",
              "      <td>0.6195</td>\n",
              "      <td>...</td>\n",
              "      <td>0.6085</td>\n",
              "      <td>0.1621</td>\n",
              "      <td>-0.2065</td>\n",
              "      <td>0.8314</td>\n",
              "      <td>-0.1891</td>\n",
              "      <td>-0.0074</td>\n",
              "      <td>0.2131</td>\n",
              "      <td>-0.1419</td>\n",
              "      <td>-0.2422</td>\n",
              "      <td>0.0457</td>\n",
              "    </tr>\n",
              "    <tr>\n",
              "      <th>23747</th>\n",
              "      <td>id_ff469c482</td>\n",
              "      <td>com_controle</td>\n",
              "      <td>72</td>\n",
              "      <td>D1</td>\n",
              "      <td>cacb2b860</td>\n",
              "      <td>-0.6204</td>\n",
              "      <td>-1.3800</td>\n",
              "      <td>-1.1880</td>\n",
              "      <td>-0.6573</td>\n",
              "      <td>-0.8408</td>\n",
              "      <td>...</td>\n",
              "      <td>0.8209</td>\n",
              "      <td>0.7366</td>\n",
              "      <td>0.5468</td>\n",
              "      <td>1.1450</td>\n",
              "      <td>0.5254</td>\n",
              "      <td>0.6224</td>\n",
              "      <td>-0.9630</td>\n",
              "      <td>0.8872</td>\n",
              "      <td>-0.0742</td>\n",
              "      <td>-0.6777</td>\n",
              "    </tr>\n",
              "    <tr>\n",
              "      <th>23768</th>\n",
              "      <td>id_ff89331ca</td>\n",
              "      <td>com_controle</td>\n",
              "      <td>72</td>\n",
              "      <td>D2</td>\n",
              "      <td>cacb2b860</td>\n",
              "      <td>-0.1051</td>\n",
              "      <td>0.4335</td>\n",
              "      <td>0.3648</td>\n",
              "      <td>-0.0525</td>\n",
              "      <td>-0.3632</td>\n",
              "      <td>...</td>\n",
              "      <td>-0.1219</td>\n",
              "      <td>0.4885</td>\n",
              "      <td>0.4963</td>\n",
              "      <td>0.9434</td>\n",
              "      <td>-0.4779</td>\n",
              "      <td>0.6951</td>\n",
              "      <td>0.9517</td>\n",
              "      <td>-0.8110</td>\n",
              "      <td>-0.1748</td>\n",
              "      <td>-0.3626</td>\n",
              "    </tr>\n",
              "    <tr>\n",
              "      <th>23793</th>\n",
              "      <td>id_ffd26f361</td>\n",
              "      <td>com_controle</td>\n",
              "      <td>48</td>\n",
              "      <td>D2</td>\n",
              "      <td>cacb2b860</td>\n",
              "      <td>0.6008</td>\n",
              "      <td>0.2781</td>\n",
              "      <td>-0.3319</td>\n",
              "      <td>-0.8782</td>\n",
              "      <td>0.9281</td>\n",
              "      <td>...</td>\n",
              "      <td>1.2470</td>\n",
              "      <td>0.9569</td>\n",
              "      <td>-0.2065</td>\n",
              "      <td>-0.4918</td>\n",
              "      <td>0.7863</td>\n",
              "      <td>0.0504</td>\n",
              "      <td>0.8813</td>\n",
              "      <td>0.7757</td>\n",
              "      <td>-0.5272</td>\n",
              "      <td>0.7082</td>\n",
              "    </tr>\n",
              "    <tr>\n",
              "      <th>23811</th>\n",
              "      <td>id_fffc1c3f4</td>\n",
              "      <td>com_controle</td>\n",
              "      <td>48</td>\n",
              "      <td>D2</td>\n",
              "      <td>cacb2b860</td>\n",
              "      <td>0.3942</td>\n",
              "      <td>0.3756</td>\n",
              "      <td>0.3109</td>\n",
              "      <td>-0.7389</td>\n",
              "      <td>0.5505</td>\n",
              "      <td>...</td>\n",
              "      <td>0.5409</td>\n",
              "      <td>0.3755</td>\n",
              "      <td>0.7343</td>\n",
              "      <td>0.2807</td>\n",
              "      <td>0.4116</td>\n",
              "      <td>0.6422</td>\n",
              "      <td>0.2256</td>\n",
              "      <td>0.7592</td>\n",
              "      <td>0.6656</td>\n",
              "      <td>0.3808</td>\n",
              "    </tr>\n",
              "  </tbody>\n",
              "</table>\n",
              "<p>1866 rows × 877 columns</p>\n",
              "</div>\n",
              "    <div class=\"colab-df-buttons\">\n",
              "\n",
              "  <div class=\"colab-df-container\">\n",
              "    <button class=\"colab-df-convert\" onclick=\"convertToInteractive('df-5ca91f37-c5ac-4de9-9ca5-79f3cb4ce9f0')\"\n",
              "            title=\"Convert this dataframe to an interactive table.\"\n",
              "            style=\"display:none;\">\n",
              "\n",
              "  <svg xmlns=\"http://www.w3.org/2000/svg\" height=\"24px\" viewBox=\"0 -960 960 960\">\n",
              "    <path d=\"M120-120v-720h720v720H120Zm60-500h600v-160H180v160Zm220 220h160v-160H400v160Zm0 220h160v-160H400v160ZM180-400h160v-160H180v160Zm440 0h160v-160H620v160ZM180-180h160v-160H180v160Zm440 0h160v-160H620v160Z\"/>\n",
              "  </svg>\n",
              "    </button>\n",
              "\n",
              "  <style>\n",
              "    .colab-df-container {\n",
              "      display:flex;\n",
              "      gap: 12px;\n",
              "    }\n",
              "\n",
              "    .colab-df-convert {\n",
              "      background-color: #E8F0FE;\n",
              "      border: none;\n",
              "      border-radius: 50%;\n",
              "      cursor: pointer;\n",
              "      display: none;\n",
              "      fill: #1967D2;\n",
              "      height: 32px;\n",
              "      padding: 0 0 0 0;\n",
              "      width: 32px;\n",
              "    }\n",
              "\n",
              "    .colab-df-convert:hover {\n",
              "      background-color: #E2EBFA;\n",
              "      box-shadow: 0px 1px 2px rgba(60, 64, 67, 0.3), 0px 1px 3px 1px rgba(60, 64, 67, 0.15);\n",
              "      fill: #174EA6;\n",
              "    }\n",
              "\n",
              "    .colab-df-buttons div {\n",
              "      margin-bottom: 4px;\n",
              "    }\n",
              "\n",
              "    [theme=dark] .colab-df-convert {\n",
              "      background-color: #3B4455;\n",
              "      fill: #D2E3FC;\n",
              "    }\n",
              "\n",
              "    [theme=dark] .colab-df-convert:hover {\n",
              "      background-color: #434B5C;\n",
              "      box-shadow: 0px 1px 3px 1px rgba(0, 0, 0, 0.15);\n",
              "      filter: drop-shadow(0px 1px 2px rgba(0, 0, 0, 0.3));\n",
              "      fill: #FFFFFF;\n",
              "    }\n",
              "  </style>\n",
              "\n",
              "    <script>\n",
              "      const buttonEl =\n",
              "        document.querySelector('#df-5ca91f37-c5ac-4de9-9ca5-79f3cb4ce9f0 button.colab-df-convert');\n",
              "      buttonEl.style.display =\n",
              "        google.colab.kernel.accessAllowed ? 'block' : 'none';\n",
              "\n",
              "      async function convertToInteractive(key) {\n",
              "        const element = document.querySelector('#df-5ca91f37-c5ac-4de9-9ca5-79f3cb4ce9f0');\n",
              "        const dataTable =\n",
              "          await google.colab.kernel.invokeFunction('convertToInteractive',\n",
              "                                                    [key], {});\n",
              "        if (!dataTable) return;\n",
              "\n",
              "        const docLinkHtml = 'Like what you see? Visit the ' +\n",
              "          '<a target=\"_blank\" href=https://colab.research.google.com/notebooks/data_table.ipynb>data table notebook</a>'\n",
              "          + ' to learn more about interactive tables.';\n",
              "        element.innerHTML = '';\n",
              "        dataTable['output_type'] = 'display_data';\n",
              "        await google.colab.output.renderOutput(dataTable, element);\n",
              "        const docLink = document.createElement('div');\n",
              "        docLink.innerHTML = docLinkHtml;\n",
              "        element.appendChild(docLink);\n",
              "      }\n",
              "    </script>\n",
              "  </div>\n",
              "\n",
              "\n",
              "<div id=\"df-c9a2be0b-8a34-4619-8aba-f9ca81d2e048\">\n",
              "  <button class=\"colab-df-quickchart\" onclick=\"quickchart('df-c9a2be0b-8a34-4619-8aba-f9ca81d2e048')\"\n",
              "            title=\"Suggest charts\"\n",
              "            style=\"display:none;\">\n",
              "\n",
              "<svg xmlns=\"http://www.w3.org/2000/svg\" height=\"24px\"viewBox=\"0 0 24 24\"\n",
              "     width=\"24px\">\n",
              "    <g>\n",
              "        <path d=\"M19 3H5c-1.1 0-2 .9-2 2v14c0 1.1.9 2 2 2h14c1.1 0 2-.9 2-2V5c0-1.1-.9-2-2-2zM9 17H7v-7h2v7zm4 0h-2V7h2v10zm4 0h-2v-4h2v4z\"/>\n",
              "    </g>\n",
              "</svg>\n",
              "  </button>\n",
              "\n",
              "<style>\n",
              "  .colab-df-quickchart {\n",
              "      --bg-color: #E8F0FE;\n",
              "      --fill-color: #1967D2;\n",
              "      --hover-bg-color: #E2EBFA;\n",
              "      --hover-fill-color: #174EA6;\n",
              "      --disabled-fill-color: #AAA;\n",
              "      --disabled-bg-color: #DDD;\n",
              "  }\n",
              "\n",
              "  [theme=dark] .colab-df-quickchart {\n",
              "      --bg-color: #3B4455;\n",
              "      --fill-color: #D2E3FC;\n",
              "      --hover-bg-color: #434B5C;\n",
              "      --hover-fill-color: #FFFFFF;\n",
              "      --disabled-bg-color: #3B4455;\n",
              "      --disabled-fill-color: #666;\n",
              "  }\n",
              "\n",
              "  .colab-df-quickchart {\n",
              "    background-color: var(--bg-color);\n",
              "    border: none;\n",
              "    border-radius: 50%;\n",
              "    cursor: pointer;\n",
              "    display: none;\n",
              "    fill: var(--fill-color);\n",
              "    height: 32px;\n",
              "    padding: 0;\n",
              "    width: 32px;\n",
              "  }\n",
              "\n",
              "  .colab-df-quickchart:hover {\n",
              "    background-color: var(--hover-bg-color);\n",
              "    box-shadow: 0 1px 2px rgba(60, 64, 67, 0.3), 0 1px 3px 1px rgba(60, 64, 67, 0.15);\n",
              "    fill: var(--button-hover-fill-color);\n",
              "  }\n",
              "\n",
              "  .colab-df-quickchart-complete:disabled,\n",
              "  .colab-df-quickchart-complete:disabled:hover {\n",
              "    background-color: var(--disabled-bg-color);\n",
              "    fill: var(--disabled-fill-color);\n",
              "    box-shadow: none;\n",
              "  }\n",
              "\n",
              "  .colab-df-spinner {\n",
              "    border: 2px solid var(--fill-color);\n",
              "    border-color: transparent;\n",
              "    border-bottom-color: var(--fill-color);\n",
              "    animation:\n",
              "      spin 1s steps(1) infinite;\n",
              "  }\n",
              "\n",
              "  @keyframes spin {\n",
              "    0% {\n",
              "      border-color: transparent;\n",
              "      border-bottom-color: var(--fill-color);\n",
              "      border-left-color: var(--fill-color);\n",
              "    }\n",
              "    20% {\n",
              "      border-color: transparent;\n",
              "      border-left-color: var(--fill-color);\n",
              "      border-top-color: var(--fill-color);\n",
              "    }\n",
              "    30% {\n",
              "      border-color: transparent;\n",
              "      border-left-color: var(--fill-color);\n",
              "      border-top-color: var(--fill-color);\n",
              "      border-right-color: var(--fill-color);\n",
              "    }\n",
              "    40% {\n",
              "      border-color: transparent;\n",
              "      border-right-color: var(--fill-color);\n",
              "      border-top-color: var(--fill-color);\n",
              "    }\n",
              "    60% {\n",
              "      border-color: transparent;\n",
              "      border-right-color: var(--fill-color);\n",
              "    }\n",
              "    80% {\n",
              "      border-color: transparent;\n",
              "      border-right-color: var(--fill-color);\n",
              "      border-bottom-color: var(--fill-color);\n",
              "    }\n",
              "    90% {\n",
              "      border-color: transparent;\n",
              "      border-bottom-color: var(--fill-color);\n",
              "    }\n",
              "  }\n",
              "</style>\n",
              "\n",
              "  <script>\n",
              "    async function quickchart(key) {\n",
              "      const quickchartButtonEl =\n",
              "        document.querySelector('#' + key + ' button');\n",
              "      quickchartButtonEl.disabled = true;  // To prevent multiple clicks.\n",
              "      quickchartButtonEl.classList.add('colab-df-spinner');\n",
              "      try {\n",
              "        const charts = await google.colab.kernel.invokeFunction(\n",
              "            'suggestCharts', [key], {});\n",
              "      } catch (error) {\n",
              "        console.error('Error during call to suggestCharts:', error);\n",
              "      }\n",
              "      quickchartButtonEl.classList.remove('colab-df-spinner');\n",
              "      quickchartButtonEl.classList.add('colab-df-quickchart-complete');\n",
              "    }\n",
              "    (() => {\n",
              "      let quickchartButtonEl =\n",
              "        document.querySelector('#df-c9a2be0b-8a34-4619-8aba-f9ca81d2e048 button');\n",
              "      quickchartButtonEl.style.display =\n",
              "        google.colab.kernel.accessAllowed ? 'block' : 'none';\n",
              "    })();\n",
              "  </script>\n",
              "</div>\n",
              "\n",
              "    </div>\n",
              "  </div>\n"
            ],
            "application/vnd.google.colaboratory.intrinsic+json": {
              "type": "dataframe"
            }
          },
          "metadata": {},
          "execution_count": 53
        }
      ]
    },
    {
      "cell_type": "markdown",
      "source": [
        "Ao realizarmos uma filtragem utilizando o comando query, podemos observar que as amostras controles retornam o mesmo valor em todos os campos da coluna composto: cacb2b860. Provavelmente cacb2b860 seja o diluente/veículo utilizado para diluir os compostos testados, que foi utilizado como controle para visualizar se o diluente por si só não estava causando efeito biológico."
      ],
      "metadata": {
        "id": "VAu_d8kLzyBW"
      }
    },
    {
      "cell_type": "code",
      "source": [
        "sns.countplot(x='dose',\n",
        "    data=dados,\n",
        "    #palette='Reds',\n",
        "    order=dados['dose'].value_counts().index).set_title(\"Quantidade de amostras referente às doses\")"
      ],
      "metadata": {
        "colab": {
          "base_uri": "https://localhost:8080/",
          "height": 489
        },
        "id": "h0XQiCmwz3OA",
        "outputId": "0e93578b-52ba-4634-aecd-c180661cd141"
      },
      "execution_count": 54,
      "outputs": [
        {
          "output_type": "execute_result",
          "data": {
            "text/plain": [
              "Text(0.5, 1.0, 'Quantidade de amostras referente às doses')"
            ]
          },
          "metadata": {},
          "execution_count": 54
        },
        {
          "output_type": "display_data",
          "data": {
            "text/plain": [
              "<Figure size 640x480 with 1 Axes>"
            ],
            "image/png": "[encoded data removed]"
          },
          "metadata": {}
        }
      ]
    },
    {
      "cell_type": "code",
      "source": [
        "sns.countplot(x=\"tempo\", data=dados).set_title(\"Tempos de tratamento\");"
      ],
      "metadata": {
        "colab": {
          "base_uri": "https://localhost:8080/",
          "height": 472
        },
        "id": "8F1rmy4cz9c2",
        "outputId": "52bb4cc4-b113-4934-e1d7-285fb74064b6"
      },
      "execution_count": 55,
      "outputs": [
        {
          "output_type": "display_data",
          "data": {
            "text/plain": [
              "<Figure size 640x480 with 1 Axes>"
            ],
            "image/png": "[encoded data removed]"
          },
          "metadata": {}
        }
      ]
    },
    {
      "cell_type": "markdown",
      "source": [
        "Comparando nível de expressão gênica de genes presentes nos grupos controle e com compostos:"
      ],
      "metadata": {
        "id": "PMGFv0gF0jlx"
      }
    },
    {
      "cell_type": "code",
      "source": [
        "ctrl_df = dados.query('tratamento == \"com_controle\"')\n",
        "compostos_df = dados.query('tratamento == \"com_droga\"')"
      ],
      "metadata": {
        "id": "9TNXBRLW0lKm"
      },
      "execution_count": 56,
      "outputs": []
    },
    {
      "cell_type": "code",
      "source": [
        "sns.boxplot(y='g-40', x='tratamento', data=dados)"
      ],
      "metadata": {
        "colab": {
          "base_uri": "https://localhost:8080/",
          "height": 467
        },
        "id": "eDxq0NRL1XuC",
        "outputId": "dd548e1b-0572-41fb-ede3-00fc9cf1b02f"
      },
      "execution_count": 57,
      "outputs": [
        {
          "output_type": "execute_result",
          "data": {
            "text/plain": [
              "<Axes: xlabel='tratamento', ylabel='g-40'>"
            ]
          },
          "metadata": {},
          "execution_count": 57
        },
        {
          "output_type": "display_data",
          "data": {
            "text/plain": [
              "<Figure size 640x480 with 1 Axes>"
            ],
            "image/png": "[encoded data removed]"
          },
          "metadata": {}
        }
      ]
    },
    {
      "cell_type": "code",
      "source": [
        "import plotly.express as px\n",
        "fig = px.box(dados, x=\"tratamento\", y=\"g-40\")\n",
        "fig.show()"
      ],
      "metadata": {
        "colab": {
          "base_uri": "https://localhost:8080/",
          "height": 542
        },
        "id": "dU83N-m3js61",
        "outputId": "1d70f47f-a25b-4ab7-dd0f-40d49323704b"
      },
      "execution_count": 58,
      "outputs": [
        {
          "output_type": "display_data",
          "data": {
            "text/html": [
              "<html>\n",
              "<head><meta charset=\"utf-8\" /></head>\n",
              "<body>\n",
              "    <div>            <script src=\"https://cdnjs.cloudflare.com/ajax/libs/mathjax/2.7.5/MathJax.js?config=TeX-AMS-MML_SVG\"></script><script type=\"text/javascript\">if (window.MathJax && window.MathJax.Hub && window.MathJax.Hub.Config) {window.MathJax.Hub.Config({SVG: {font: \"STIX-Web\"}});}</script>                <script type=\"text/javascript\">window.PlotlyConfig = {MathJaxConfig: 'local'};</script>\n",
              "        <script charset=\"utf-8\" src=\"https://cdn.plot.ly/plotly-2.24.1.min.js\"></script>                <div id=\"dd8e581d-f470-4530-8be6-725d954bfa55\" class=\"plotly-graph-div\" style=\"height:525px; width:100%;\"></div>            <script type=\"text/javascript\">                                    window.PLOTLYENV=window.PLOTLYENV || {};                                    if (document.getElementById(\"dd8e581d-f470-4530-8be6-725d954bfa55\")) {                    Plotly.newPlot(                        \"dd8e581d-f470-4530-8be6-725d954bfa55\",                        [{\"alignmentgroup\":\"True\",\"hovertemplate\":\"tratamento=%{x}\\u003cbr\\u003eg-40=%{y}\\u003cextra\\u003e\\u003c\\u002fextra\\u003e\",\"legendgroup\":\"\",\"marker\":{\"color\":\"#636efa\"},\"name\":\"\",\"notched\":false,\"offsetgroup\":\"\",\"orientation\":\"v\",\"showlegend\":false,\"x\":[\"com_droga\",\"com_droga\",\"com_droga\",\"com_droga\",\"com_droga\",\"com_droga\",\"com_droga\",\"com_droga\",\"com_droga\",\"com_droga\",\"com_droga\",\"com_droga\",\"com_droga\",\"com_droga\",\"com_droga\",\"com_droga\",\"com_droga\",\"com_droga\",\"com_droga\",\"com_droga\",\"com_droga\",\"com_droga\",\"com_droga\",\"com_droga\",\"com_droga\",\"com_controle\",\"com_droga\",\"com_droga\",\"com_droga\",\"com_droga\",\"com_droga\",\"com_droga\",\"com_droga\",\"com_droga\",\"com_droga\",\"com_droga\",\"com_droga\",\"com_droga\",\"com_controle\",\"com_droga\",\"com_controle\",\"com_droga\",\"com_droga\",\"com_droga\",\"com_droga\",\"com_droga\",\"com_droga\",\"com_controle\",\"com_droga\",\"com_droga\",\"com_droga\",\"com_droga\",\"com_droga\",\"com_droga\",\"com_droga\",\"com_droga\",\"com_droga\",\"com_droga\",\"com_droga\",\"com_droga\",\"com_droga\",\"com_droga\",\"com_droga\",\"com_controle\",\"com_droga\",\"com_droga\",\"com_droga\",\"com_droga\",\"com_droga\",\"com_droga\",\"com_droga\",\"com_droga\",\"com_droga\",\"com_droga\",\"com_droga\",\"com_droga\",\"com_droga\",\"com_droga\",\"com_droga\",\"com_droga\",\"com_droga\",\"com_controle\",\"com_droga\",\"com_droga\",\"com_droga\",\"com_droga\",\"com_droga\",\"com_droga\",\"com_droga\",\"com_droga\",\"com_droga\",\"com_droga\",\"com_droga\",\"com_droga\",\"com_droga\",\"com_droga\",\"com_controle\",\"com_droga\",\"com_droga\",\"com_droga\",\"com_droga\",\"com_droga\",\"com_droga\",\"com_droga\",\"com_droga\",\"com_droga\",\"com_droga\",\"com_droga\",\"com_droga\",\"com_droga\",\"com_droga\",\"com_droga\",\"com_droga\",\"com_droga\",\"com_droga\",\"com_droga\",\"com_droga\",\"com_controle\",\"com_droga\",\"com_droga\",\"com_droga\",\"com_droga\",\"com_droga\",\"com_droga\",\"com_droga\",\"com_droga\",\"com_droga\",\"com_droga\",\"com_droga\",\"com_droga\",\"com_droga\",\"com_droga\",\"com_droga\",\"com_controle\",\"com_droga\",\"com_droga\",\"com_droga\",\"com_droga\",\"com_droga\",\"com_droga\",\"com_droga\",\"com_droga\",\"com_droga\",\"com_droga\",\"com_droga\",\"com_droga\",\"com_droga\",\"com_droga\",\"com_controle\",\"com_droga\",\"com_droga\",\"com_droga\",\"com_droga\",\"com_droga\",\"com_droga\",\"com_droga\",\"com_droga\",\"com_droga\",\"com_droga\",\"com_droga\",\"com_droga\",\"com_controle\",\"com_droga\",\"com_controle\",\"com_droga\",\"com_droga\",\"com_droga\",\"com_droga\",\"com_droga\",\"com_controle\",\"com_controle\",\"com_droga\",\"com_droga\",\"com_droga\",\"com_droga\",\"com_controle\",\"com_droga\",\"com_droga\",\"com_droga\",\"com_droga\",\"com_droga\",\"com_droga\",\"com_droga\",\"com_controle\",\"com_droga\",\"com_droga\",\"com_controle\",\"com_droga\",\"com_droga\",\"com_droga\",\"com_droga\",\"com_droga\",\"com_droga\",\"com_droga\",\"com_droga\",\"com_droga\",\"com_droga\",\"com_droga\",\"com_controle\",\"com_droga\",\"com_droga\",\"com_droga\",\"com_droga\",\"com_droga\",\"com_droga\",\"com_droga\",\"com_droga\",\"com_droga\",\"com_droga\",\"com_droga\",\"com_droga\",\"com_droga\",\"com_droga\",\"com_droga\",\"com_droga\",\"com_droga\",\"com_droga\",\"com_droga\",\"com_droga\",\"com_droga\",\"com_droga\",\"com_droga\",\"com_droga\",\"com_droga\",\"com_droga\",\"com_droga\",\"com_droga\",\"com_droga\",\"com_droga\",\"com_droga\",\"com_droga\",\"com_droga\",\"com_droga\",\"com_droga\",\"com_droga\",\"com_droga\",\"com_droga\",\"com_droga\",\"com_droga\",\"com_droga\",\"com_droga\",\"com_droga\",\"com_droga\",\"com_droga\",\"com_droga\",\"com_droga\",\"com_droga\",\"com_droga\",\"com_droga\",\"com_droga\",\"com_droga\",\"com_droga\",\"com_droga\",\"com_droga\",\"com_droga\",\"com_droga\",\"com_droga\",\"com_droga\",\"com_droga\",\"com_droga\",\"com_droga\",\"com_droga\",\"com_droga\",\"com_droga\",\"com_droga\",\"com_droga\",\"com_droga\",\"com_droga\",\"com_droga\",\"com_droga\",\"com_droga\",\"com_controle\",\"com_droga\",\"com_droga\",\"com_droga\",\"com_droga\",\"com_droga\",\"com_droga\",\"com_droga\",\"com_droga\",\"com_droga\",\"com_droga\",\"com_droga\",\"com_droga\",\"com_droga\",\"com_droga\",\"com_droga\",\"com_droga\",\"com_droga\",\"com_droga\",\"com_droga\",\"com_droga\",\"com_droga\",\"com_droga\",\"com_droga\",\"com_droga\",\"com_droga\",\"com_droga\",\"com_droga\",\"com_droga\",\"com_droga\",\"com_droga\",\"com_droga\",\"com_droga\",\"com_droga\",\"com_droga\",\"com_droga\",\"com_droga\",\"com_droga\",\"com_droga\",\"com_droga\",\"com_droga\",\"com_droga\",\"com_droga\",\"com_droga\",\"com_droga\",\"com_droga\",\"com_droga\",\"com_droga\",\"com_droga\",\"com_droga\",\"com_droga\",\"com_droga\",\"com_droga\",\"com_droga\",\"com_droga\",\"com_droga\",\"com_droga\",\"com_droga\",\"com_droga\",\"com_droga\",\"com_droga\",\"com_droga\",\"com_droga\",\"com_droga\",\"com_droga\",\"com_droga\",\"com_droga\",\"com_droga\",\"com_droga\",\"com_droga\",\"com_droga\",\"com_droga\",\"com_droga\",\"com_droga\",\"com_droga\",\"com_droga\",\"com_controle\",\"com_droga\",\"com_droga\",\"com_controle\",\"com_droga\",\"com_controle\",\"com_droga\",\"com_controle\",\"com_droga\",\"com_droga\",\"com_droga\",\"com_droga\",\"com_droga\",\"com_droga\",\"com_droga\",\"com_droga\",\"com_droga\",\"com_controle\",\"com_droga\",\"com_droga\",\"com_droga\",\"com_droga\",\"com_droga\",\"com_droga\",\"com_droga\",\"com_droga\",\"com_droga\",\"com_droga\",\"com_droga\",\"com_droga\",\"com_droga\",\"com_droga\",\"com_controle\",\"com_droga\",\"com_droga\",\"com_droga\",\"com_droga\",\"com_controle\",\"com_droga\",\"com_controle\",\"com_droga\",\"com_droga\",\"com_droga\",\"com_droga\",\"com_droga\",\"com_droga\",\"com_droga\",\"com_droga\",\"com_controle\",\"com_droga\",\"com_droga\",\"com_droga\",\"com_droga\",\"com_droga\",\"com_droga\",\"com_droga\",\"com_droga\",\"com_droga\",\"com_droga\",\"com_droga\",\"com_droga\",\"com_droga\",\"com_droga\",\"com_droga\",\"com_droga\",\"com_droga\",\"com_controle\",\"com_droga\",\"com_droga\",\"com_droga\",\"com_droga\",\"com_droga\",\"com_droga\",\"com_droga\",\"com_droga\",\"com_droga\",\"com_droga\",\"com_droga\",\"com_droga\",\"com_droga\",\"com_droga\",\"com_droga\",\"com_droga\",\"com_droga\",\"com_droga\",\"com_droga\",\"com_droga\",\"com_controle\",\"com_droga\",\"com_droga\",\"com_controle\",\"com_droga\",\"com_droga\",\"com_droga\",\"com_droga\",\"com_droga\",\"com_droga\",\"com_droga\",\"com_droga\",\"com_droga\",\"com_droga\",\"com_droga\",\"com_droga\",\"com_droga\",\"com_droga\",\"com_droga\",\"com_droga\",\"com_droga\",\"com_droga\",\"com_droga\",\"com_droga\",\"com_droga\",\"com_droga\",\"com_droga\",\"com_droga\",\"com_droga\",\"com_controle\",\"com_droga\",\"com_controle\",\"com_droga\",\"com_droga\",\"com_controle\",\"com_droga\",\"com_droga\",\"com_droga\",\"com_droga\",\"com_droga\",\"com_droga\",\"com_droga\",\"com_droga\",\"com_controle\",\"com_droga\",\"com_droga\",\"com_droga\",\"com_droga\",\"com_droga\",\"com_droga\",\"com_droga\",\"com_droga\",\"com_droga\",\"com_controle\",\"com_controle\",\"com_droga\",\"com_droga\",\"com_droga\",\"com_droga\",\"com_droga\",\"com_droga\",\"com_droga\",\"com_controle\",\"com_droga\",\"com_droga\",\"com_droga\",\"com_droga\",\"com_droga\",\"com_droga\",\"com_droga\",\"com_droga\",\"com_droga\",\"com_droga\",\"com_controle\",\"com_droga\",\"com_droga\",\"com_droga\",\"com_droga\",\"com_droga\",\"com_droga\",\"com_droga\",\"com_droga\",\"com_controle\",\"com_controle\",\"com_droga\",\"com_droga\",\"com_droga\",\"com_droga\",\"com_droga\",\"com_droga\",\"com_droga\",\"com_droga\",\"com_droga\",\"com_droga\",\"com_droga\",\"com_droga\",\"com_droga\",\"com_controle\",\"com_droga\",\"com_droga\",\"com_droga\",\"com_droga\",\"com_droga\",\"com_droga\",\"com_droga\",\"com_droga\",\"com_droga\",\"com_droga\",\"com_droga\",\"com_droga\",\"com_controle\",\"com_droga\",\"com_droga\",\"com_controle\",\"com_droga\",\"com_droga\",\"com_droga\",\"com_droga\",\"com_controle\",\"com_droga\",\"com_droga\",\"com_droga\",\"com_droga\",\"com_droga\",\"com_droga\",\"com_droga\",\"com_droga\",\"com_droga\",\"com_droga\",\"com_droga\",\"com_droga\",\"com_droga\",\"com_droga\",\"com_controle\",\"com_droga\",\"com_droga\",\"com_droga\",\"com_droga\",\"com_droga\",\"com_droga\",\"com_droga\",\"com_droga\",\"com_droga\",\"com_droga\",\"com_droga\",\"com_droga\",\"com_droga\",\"com_droga\",\"com_droga\",\"com_droga\",\"com_droga\",\"com_droga\",\"com_droga\",\"com_controle\",\"com_droga\",\"com_droga\",\"com_droga\",\"com_droga\",\"com_droga\",\"com_droga\",\"com_droga\",\"com_droga\",\"com_droga\",\"com_droga\",\"com_droga\",\"com_droga\",\"com_controle\",\"com_droga\",\"com_droga\",\"com_droga\",\"com_droga\",\"com_droga\",\"com_droga\",\"com_droga\",\"com_droga\",\"com_droga\",\"com_droga\",\"com_droga\",\"com_droga\",\"com_controle\",\"com_droga\",\"com_droga\",\"com_droga\",\"com_droga\",\"com_droga\",\"com_droga\",\"com_droga\",\"com_droga\",\"com_droga\",\"com_droga\",\"com_droga\",\"com_droga\",\"com_droga\",\"com_droga\",\"com_droga\",\"com_droga\",\"com_droga\",\"com_droga\",\"com_droga\",\"com_droga\",\"com_droga\",\"com_droga\",\"com_droga\",\"com_controle\",\"com_droga\",\"com_droga\",\"com_droga\",\"com_droga\",\"com_droga\",\"com_droga\",\"com_droga\",\"com_controle\",\"com_droga\",\"com_droga\",\"com_droga\",\"com_controle\",\"com_droga\",\"com_droga\",\"com_controle\",\"com_droga\",\"com_droga\",\"com_droga\",\"com_droga\",\"com_droga\",\"com_droga\",\"com_droga\",\"com_droga\",\"com_droga\",\"com_controle\",\"com_droga\",\"com_droga\",\"com_droga\",\"com_droga\",\"com_droga\",\"com_droga\",\"com_droga\",\"com_droga\",\"com_droga\",\"com_droga\",\"com_droga\",\"com_droga\",\"com_droga\",\"com_droga\",\"com_droga\",\"com_droga\",\"com_controle\",\"com_droga\",\"com_droga\",\"com_controle\",\"com_droga\",\"com_droga\",\"com_droga\",\"com_droga\",\"com_droga\",\"com_droga\",\"com_droga\",\"com_droga\",\"com_droga\",\"com_droga\",\"com_droga\",\"com_droga\",\"com_droga\",\"com_droga\",\"com_droga\",\"com_droga\",\"com_controle\",\"com_droga\",\"com_droga\",\"com_controle\",\"com_droga\",\"com_controle\",\"com_droga\",\"com_droga\",\"com_droga\",\"com_droga\",\"com_droga\",\"com_droga\",\"com_droga\",\"com_droga\",\"com_droga\",\"com_droga\",\"com_droga\",\"com_droga\",\"com_droga\",\"com_droga\",\"com_droga\",\"com_droga\",\"com_droga\",\"com_droga\",\"com_droga\",\"com_droga\",\"com_droga\",\"com_droga\",\"com_droga\",\"com_droga\",\"com_droga\",\"com_droga\",\"com_droga\",\"com_droga\",\"com_droga\",\"com_droga\",\"com_droga\",\"com_droga\",\"com_droga\",\"com_droga\",\"com_droga\",\"com_droga\",\"com_droga\",\"com_droga\",\"com_droga\",\"com_droga\",\"com_droga\",\"com_controle\",\"com_droga\",\"com_controle\",\"com_controle\",\"com_droga\",\"com_droga\",\"com_droga\",\"com_droga\",\"com_droga\",\"com_droga\",\"com_droga\",\"com_droga\",\"com_droga\",\"com_droga\",\"com_droga\",\"com_droga\",\"com_controle\",\"com_droga\",\"com_droga\",\"com_droga\",\"com_droga\",\"com_droga\",\"com_droga\",\"com_droga\",\"com_droga\",\"com_droga\",\"com_droga\",\"com_droga\",\"com_droga\",\"com_controle\",\"com_droga\",\"com_droga\",\"com_droga\",\"com_droga\",\"com_droga\",\"com_droga\",\"com_droga\",\"com_droga\",\"com_droga\",\"com_droga\",\"com_droga\",\"com_droga\",\"com_controle\",\"com_droga\",\"com_droga\",\"com_droga\",\"com_droga\",\"com_droga\",\"com_droga\",\"com_droga\",\"com_droga\",\"com_droga\",\"com_droga\",\"com_droga\",\"com_controle\",\"com_droga\",\"com_droga\",\"com_droga\",\"com_controle\",\"com_droga\",\"com_droga\",\"com_droga\",\"com_droga\",\"com_droga\",\"com_droga\",\"com_droga\",\"com_controle\",\"com_droga\",\"com_droga\",\"com_droga\",\"com_droga\",\"com_droga\",\"com_droga\",\"com_controle\",\"com_droga\",\"com_droga\",\"com_droga\",\"com_droga\",\"com_droga\",\"com_droga\",\"com_droga\",\"com_droga\",\"com_controle\",\"com_controle\",\"com_droga\",\"com_droga\",\"com_droga\",\"com_droga\",\"com_droga\",\"com_droga\",\"com_droga\",\"com_droga\",\"com_droga\",\"com_droga\",\"com_controle\",\"com_droga\",\"com_droga\",\"com_droga\",\"com_droga\",\"com_droga\",\"com_droga\",\"com_droga\",\"com_droga\",\"com_droga\",\"com_droga\",\"com_droga\",\"com_droga\",\"com_droga\",\"com_controle\",\"com_droga\",\"com_droga\",\"com_droga\",\"com_droga\",\"com_controle\",\"com_droga\",\"com_droga\",\"com_droga\",\"com_droga\",\"com_droga\",\"com_droga\",\"com_droga\",\"com_droga\",\"com_droga\",\"com_droga\",\"com_droga\",\"com_droga\",\"com_droga\",\"com_droga\",\"com_controle\",\"com_droga\",\"com_droga\",\"com_droga\",\"com_droga\",\"com_droga\",\"com_droga\",\"com_droga\",\"com_droga\",\"com_droga\",\"com_droga\",\"com_droga\",\"com_droga\",\"com_droga\",\"com_droga\",\"com_droga\",\"com_controle\",\"com_droga\",\"com_droga\",\"com_droga\",\"com_droga\",\"com_droga\",\"com_droga\",\"com_droga\",\"com_controle\",\"com_droga\",\"com_controle\",\"com_droga\",\"com_droga\",\"com_droga\",\"com_droga\",\"com_droga\",\"com_controle\",\"com_droga\",\"com_droga\",\"com_droga\",\"com_droga\",\"com_droga\",\"com_droga\",\"com_droga\",\"com_droga\",\"com_droga\",\"com_droga\",\"com_droga\",\"com_controle\",\"com_droga\",\"com_droga\",\"com_droga\",\"com_droga\",\"com_droga\",\"com_droga\",\"com_droga\",\"com_droga\",\"com_droga\",\"com_droga\",\"com_droga\",\"com_droga\",\"com_droga\",\"com_droga\",\"com_droga\",\"com_droga\",\"com_droga\",\"com_droga\",\"com_droga\",\"com_droga\",\"com_droga\",\"com_droga\",\"com_droga\",\"com_droga\",\"com_droga\",\"com_droga\",\"com_droga\",\"com_droga\",\"com_droga\",\"com_droga\",\"com_droga\",\"com_droga\",\"com_droga\",\"com_droga\",\"com_droga\",\"com_droga\",\"com_droga\",\"com_droga\",\"com_droga\",\"com_droga\",\"com_droga\",\"com_droga\",\"com_droga\",\"com_droga\",\"com_droga\",\"com_droga\",\"com_droga\",\"com_droga\",\"com_droga\",\"com_droga\",\"com_droga\",\"com_droga\",\"com_droga\",\"com_droga\",\"com_droga\",\"com_droga\",\"com_droga\",\"com_droga\",\"com_droga\",\"com_droga\",\"com_droga\",\"com_droga\",\"com_droga\",\"com_droga\",\"com_droga\",\"com_controle\",\"com_droga\",\"com_droga\",\"com_droga\",\"com_droga\",\"com_controle\",\"com_droga\",\"com_droga\",\"com_droga\",\"com_droga\",\"com_droga\",\"com_droga\",\"com_droga\",\"com_droga\",\"com_droga\",\"com_droga\",\"com_droga\",\"com_droga\",\"com_droga\",\"com_droga\",\"com_droga\",\"com_controle\",\"com_droga\",\"com_droga\",\"com_droga\",\"com_droga\",\"com_droga\",\"com_droga\",\"com_droga\",\"com_droga\",\"com_controle\",\"com_droga\",\"com_droga\",\"com_droga\",\"com_droga\",\"com_droga\",\"com_droga\",\"com_droga\",\"com_droga\",\"com_droga\",\"com_controle\",\"com_droga\",\"com_droga\",\"com_droga\",\"com_droga\",\"com_droga\",\"com_droga\",\"com_droga\",\"com_droga\",\"com_droga\",\"com_droga\",\"com_controle\",\"com_droga\",\"com_droga\",\"com_droga\",\"com_droga\",\"com_droga\",\"com_droga\",\"com_droga\",\"com_droga\",\"com_droga\",\"com_droga\",\"com_droga\",\"com_droga\",\"com_droga\",\"com_droga\",\"com_droga\",\"com_droga\",\"com_droga\",\"com_droga\",\"com_droga\",\"com_droga\",\"com_droga\",\"com_droga\",\"com_droga\",\"com_droga\",\"com_droga\",\"com_droga\",\"com_droga\",\"com_droga\",\"com_droga\",\"com_droga\",\"com_droga\",\"com_droga\",\"com_droga\",\"com_droga\",\"com_droga\",\"com_controle\",\"com_droga\",\"com_droga\",\"com_droga\",\"com_controle\",\"com_droga\",\"com_droga\",\"com_droga\",\"com_droga\",\"com_droga\",\"com_droga\",\"com_droga\",\"com_droga\",\"com_controle\",\"com_droga\",\"com_droga\",\"com_droga\",\"com_droga\",\"com_droga\",\"com_droga\",\"com_droga\",\"com_droga\",\"com_droga\",\"com_droga\",\"com_droga\",\"com_droga\",\"com_droga\",\"com_droga\",\"com_droga\",\"com_droga\",\"com_droga\",\"com_droga\",\"com_droga\",\"com_droga\",\"com_droga\",\"com_droga\",\"com_droga\",\"com_droga\",\"com_droga\",\"com_droga\",\"com_droga\",\"com_droga\",\"com_droga\",\"com_droga\",\"com_droga\",\"com_droga\",\"com_droga\",\"com_droga\",\"com_droga\",\"com_droga\",\"com_droga\",\"com_controle\",\"com_droga\",\"com_droga\",\"com_droga\",\"com_droga\",\"com_droga\",\"com_droga\",\"com_droga\",\"com_droga\",\"com_droga\",\"com_droga\",\"com_droga\",\"com_droga\",\"com_droga\",\"com_controle\",\"com_droga\",\"com_droga\",\"com_droga\",\"com_droga\",\"com_droga\",\"com_droga\",\"com_droga\",\"com_droga\",\"com_droga\",\"com_droga\",\"com_droga\",\"com_droga\",\"com_droga\",\"com_droga\",\"com_droga\",\"com_droga\",\"com_droga\",\"com_droga\",\"com_droga\",\"com_droga\",\"com_droga\",\"com_droga\",\"com_droga\",\"com_droga\",\"com_droga\",\"com_droga\",\"com_droga\",\"com_droga\",\"com_droga\",\"com_droga\",\"com_droga\",\"com_droga\",\"com_droga\",\"com_controle\",\"com_droga\",\"com_droga\",\"com_droga\",\"com_droga\",\"com_droga\",\"com_droga\",\"com_droga\",\"com_droga\",\"com_droga\",\"com_controle\",\"com_droga\",\"com_droga\",\"com_droga\",\"com_droga\",\"com_droga\",\"com_droga\",\"com_droga\",\"com_droga\",\"com_droga\",\"com_droga\",\"com_droga\",\"com_droga\",\"com_droga\",\"com_droga\",\"com_droga\",\"com_droga\",\"com_droga\",\"com_droga\",\"com_droga\",\"com_droga\",\"com_droga\",\"com_droga\",\"com_droga\",\"com_droga\",\"com_droga\",\"com_droga\",\"com_droga\",\"com_droga\",\"com_droga\",\"com_droga\",\"com_droga\",\"com_droga\",\"com_droga\",\"com_droga\",\"com_droga\",\"com_droga\",\"com_droga\",\"com_droga\",\"com_controle\",\"com_droga\",\"com_droga\",\"com_droga\",\"com_droga\",\"com_droga\",\"com_droga\",\"com_droga\",\"com_droga\",\"com_droga\",\"com_controle\",\"com_droga\",\"com_droga\",\"com_droga\",\"com_controle\",\"com_controle\",\"com_droga\",\"com_droga\",\"com_droga\",\"com_droga\",\"com_droga\",\"com_droga\",\"com_droga\",\"com_droga\",\"com_droga\",\"com_droga\",\"com_droga\",\"com_droga\",\"com_droga\",\"com_droga\",\"com_droga\",\"com_droga\",\"com_droga\",\"com_controle\",\"com_droga\",\"com_droga\",\"com_droga\",\"com_droga\",\"com_droga\",\"com_droga\",\"com_droga\",\"com_droga\",\"com_droga\",\"com_droga\",\"com_droga\",\"com_controle\",\"com_droga\",\"com_droga\",\"com_droga\",\"com_droga\",\"com_droga\",\"com_droga\",\"com_droga\",\"com_droga\",\"com_droga\",\"com_droga\",\"com_droga\",\"com_droga\",\"com_droga\",\"com_droga\",\"com_droga\",\"com_droga\",\"com_droga\",\"com_droga\",\"com_droga\",\"com_droga\",\"com_droga\",\"com_droga\",\"com_droga\",\"com_droga\",\"com_droga\",\"com_droga\",\"com_droga\",\"com_droga\",\"com_controle\",\"com_droga\",\"com_droga\",\"com_droga\",\"com_droga\",\"com_droga\",\"com_droga\",\"com_droga\",\"com_droga\",\"com_droga\",\"com_droga\",\"com_droga\",\"com_droga\",\"com_droga\",\"com_droga\",\"com_droga\",\"com_droga\",\"com_droga\",\"com_droga\",\"com_droga\",\"com_droga\",\"com_droga\",\"com_droga\",\"com_droga\",\"com_droga\",\"com_droga\",\"com_droga\",\"com_droga\",\"com_droga\",\"com_droga\",\"com_droga\",\"com_droga\",\"com_controle\",\"com_droga\",\"com_droga\",\"com_droga\",\"com_droga\",\"com_droga\",\"com_controle\",\"com_droga\",\"com_droga\",\"com_droga\",\"com_droga\",\"com_droga\",\"com_droga\",\"com_droga\",\"com_droga\",\"com_droga\",\"com_droga\",\"com_droga\",\"com_droga\",\"com_droga\",\"com_droga\",\"com_droga\",\"com_droga\",\"com_droga\",\"com_droga\",\"com_droga\",\"com_droga\",\"com_droga\",\"com_droga\",\"com_droga\",\"com_droga\",\"com_droga\",\"com_droga\",\"com_droga\",\"com_droga\",\"com_droga\",\"com_controle\",\"com_droga\",\"com_droga\",\"com_controle\",\"com_droga\",\"com_controle\",\"com_droga\",\"com_droga\",\"com_droga\",\"com_droga\",\"com_droga\",\"com_droga\",\"com_droga\",\"com_droga\",\"com_droga\",\"com_droga\",\"com_droga\",\"com_droga\",\"com_droga\",\"com_droga\",\"com_droga\",\"com_droga\",\"com_droga\",\"com_droga\",\"com_droga\",\"com_droga\",\"com_droga\",\"com_controle\",\"com_droga\",\"com_droga\",\"com_droga\",\"com_droga\",\"com_droga\",\"com_droga\",\"com_droga\",\"com_droga\",\"com_controle\",\"com_droga\",\"com_droga\",\"com_droga\",\"com_droga\",\"com_droga\",\"com_droga\",\"com_droga\",\"com_controle\",\"com_droga\",\"com_droga\",\"com_controle\",\"com_droga\",\"com_droga\",\"com_droga\",\"com_droga\",\"com_droga\",\"com_droga\",\"com_droga\",\"com_controle\",\"com_droga\",\"com_droga\",\"com_droga\",\"com_droga\",\"com_droga\",\"com_controle\",\"com_droga\",\"com_droga\",\"com_droga\",\"com_droga\",\"com_droga\",\"com_droga\",\"com_droga\",\"com_droga\",\"com_controle\",\"com_droga\",\"com_droga\",\"com_droga\",\"com_droga\",\"com_droga\",\"com_droga\",\"com_droga\",\"com_droga\",\"com_droga\",\"com_droga\",\"com_droga\",\"com_droga\",\"com_droga\",\"com_droga\",\"com_droga\",\"com_droga\",\"com_droga\",\"com_droga\",\"com_droga\",\"com_droga\",\"com_droga\",\"com_droga\",\"com_droga\",\"com_droga\",\"com_droga\",\"com_droga\",\"com_droga\",\"com_droga\",\"com_droga\",\"com_droga\",\"com_droga\",\"com_controle\",\"com_droga\",\"com_droga\",\"com_droga\",\"com_droga\",\"com_controle\",\"com_droga\",\"com_droga\",\"com_droga\",\"com_droga\",\"com_droga\",\"com_droga\",\"com_droga\",\"com_droga\",\"com_droga\",\"com_droga\",\"com_droga\",\"com_droga\",\"com_droga\",\"com_droga\",\"com_droga\",\"com_droga\",\"com_droga\",\"com_droga\",\"com_droga\",\"com_droga\",\"com_droga\",\"com_droga\",\"com_droga\",\"com_droga\",\"com_droga\",\"com_droga\",\"com_droga\",\"com_controle\",\"com_controle\",\"com_droga\",\"com_droga\",\"com_controle\",\"com_droga\",\"com_droga\",\"com_droga\",\"com_droga\",\"com_droga\",\"com_droga\",\"com_droga\",\"com_droga\",\"com_droga\",\"com_droga\",\"com_droga\",\"com_droga\",\"com_droga\",\"com_droga\",\"com_droga\",\"com_droga\",\"com_droga\",\"com_droga\",\"com_droga\",\"com_droga\",\"com_controle\",\"com_droga\",\"com_droga\",\"com_droga\",\"com_controle\",\"com_droga\",\"com_droga\",\"com_droga\",\"com_droga\",\"com_droga\",\"com_droga\",\"com_droga\",\"com_droga\",\"com_droga\",\"com_droga\",\"com_droga\",\"com_droga\",\"com_droga\",\"com_droga\",\"com_droga\",\"com_controle\",\"com_droga\",\"com_droga\",\"com_droga\",\"com_droga\",\"com_droga\",\"com_droga\",\"com_droga\",\"com_droga\",\"com_droga\",\"com_droga\",\"com_droga\",\"com_droga\",\"com_droga\",\"com_droga\",\"com_droga\",\"com_controle\",\"com_droga\",\"com_droga\",\"com_droga\",\"com_droga\",\"com_droga\",\"com_droga\",\"com_droga\",\"com_droga\",\"com_droga\",\"com_droga\",\"com_droga\",\"com_droga\",\"com_droga\",\"com_droga\",\"com_droga\",\"com_droga\",\"com_droga\",\"com_droga\",\"com_droga\",\"com_droga\",\"com_droga\",\"com_droga\",\"com_droga\",\"com_droga\",\"com_droga\",\"com_droga\",\"com_droga\",\"com_droga\",\"com_droga\",\"com_droga\",\"com_droga\",\"com_droga\",\"com_droga\",\"com_droga\",\"com_droga\",\"com_droga\",\"com_droga\",\"com_droga\",\"com_controle\",\"com_droga\",\"com_droga\",\"com_droga\",\"com_droga\",\"com_droga\",\"com_droga\",\"com_droga\",\"com_droga\",\"com_droga\",\"com_droga\",\"com_droga\",\"com_droga\",\"com_droga\",\"com_droga\",\"com_droga\",\"com_droga\",\"com_droga\",\"com_droga\",\"com_droga\",\"com_droga\",\"com_droga\",\"com_droga\",\"com_droga\",\"com_droga\",\"com_controle\",\"com_droga\",\"com_droga\",\"com_droga\",\"com_droga\",\"com_droga\",\"com_droga\",\"com_droga\",\"com_droga\",\"com_droga\",\"com_droga\",\"com_droga\",\"com_droga\",\"com_droga\",\"com_droga\",\"com_droga\",\"com_droga\",\"com_controle\",\"com_droga\",\"com_droga\",\"com_droga\",\"com_droga\",\"com_droga\",\"com_droga\",\"com_droga\",\"com_droga\",\"com_controle\",\"com_droga\",\"com_droga\",\"com_droga\",\"com_droga\",\"com_controle\",\"com_droga\",\"com_droga\",\"com_droga\",\"com_droga\",\"com_droga\",\"com_droga\",\"com_droga\",\"com_droga\",\"com_droga\",\"com_droga\",\"com_droga\",\"com_droga\",\"com_droga\",\"com_droga\",\"com_droga\",\"com_droga\",\"com_droga\",\"com_droga\",\"com_droga\",\"com_droga\",\"com_droga\",\"com_droga\",\"com_droga\",\"com_droga\",\"com_droga\",\"com_droga\",\"com_droga\",\"com_droga\",\"com_droga\",\"com_droga\",\"com_droga\",\"com_droga\",\"com_droga\",\"com_droga\",\"com_droga\",\"com_droga\",\"com_droga\",\"com_droga\",\"com_droga\",\"com_droga\",\"com_droga\",\"com_controle\",\"com_controle\",\"com_droga\",\"com_droga\",\"com_droga\",\"com_droga\",\"com_droga\",\"com_controle\",\"com_droga\",\"com_droga\",\"com_droga\",\"com_droga\",\"com_droga\",\"com_droga\",\"com_droga\",\"com_droga\",\"com_droga\",\"com_droga\",\"com_droga\",\"com_droga\",\"com_droga\",\"com_droga\",\"com_droga\",\"com_droga\",\"com_droga\",\"com_droga\",\"com_droga\",\"com_droga\",\"com_droga\",\"com_droga\",\"com_controle\",\"com_droga\",\"com_droga\",\"com_droga\",\"com_droga\",\"com_droga\",\"com_droga\",\"com_droga\",\"com_droga\",\"com_droga\",\"com_droga\",\"com_controle\",\"com_droga\",\"com_droga\",\"com_droga\",\"com_droga\",\"com_droga\",\"com_droga\",\"com_droga\",\"com_controle\",\"com_droga\",\"com_droga\",\"com_controle\",\"com_droga\",\"com_droga\",\"com_droga\",\"com_droga\",\"com_droga\",\"com_droga\",\"com_droga\",\"com_droga\",\"com_controle\",\"com_droga\",\"com_droga\",\"com_droga\",\"com_droga\",\"com_droga\",\"com_droga\",\"com_droga\",\"com_droga\",\"com_droga\",\"com_droga\",\"com_droga\",\"com_droga\",\"com_controle\",\"com_droga\",\"com_droga\",\"com_droga\",\"com_droga\",\"com_droga\",\"com_droga\",\"com_droga\",\"com_droga\",\"com_droga\",\"com_droga\",\"com_droga\",\"com_droga\",\"com_droga\",\"com_droga\",\"com_droga\",\"com_droga\",\"com_droga\",\"com_droga\",\"com_droga\",\"com_droga\",\"com_droga\",\"com_droga\",\"com_droga\",\"com_droga\",\"com_controle\",\"com_droga\",\"com_droga\",\"com_droga\",\"com_droga\",\"com_controle\",\"com_droga\",\"com_droga\",\"com_droga\",\"com_droga\",\"com_droga\",\"com_droga\",\"com_droga\",\"com_droga\",\"com_droga\",\"com_droga\",\"com_droga\",\"com_droga\",\"com_droga\",\"com_droga\",\"com_droga\",\"com_droga\",\"com_droga\",\"com_droga\",\"com_droga\",\"com_droga\",\"com_droga\",\"com_droga\",\"com_droga\",\"com_droga\",\"com_droga\",\"com_droga\",\"com_droga\",\"com_droga\",\"com_droga\",\"com_droga\",\"com_droga\",\"com_droga\",\"com_droga\",\"com_droga\",\"com_droga\",\"com_droga\",\"com_droga\",\"com_droga\",\"com_droga\",\"com_droga\",\"com_droga\",\"com_droga\",\"com_droga\",\"com_controle\",\"com_controle\",\"com_droga\",\"com_droga\",\"com_droga\",\"com_droga\",\"com_droga\",\"com_controle\",\"com_droga\",\"com_droga\",\"com_droga\",\"com_controle\",\"com_droga\",\"com_droga\",\"com_droga\",\"com_droga\",\"com_droga\",\"com_droga\",\"com_droga\",\"com_droga\",\"com_droga\",\"com_droga\",\"com_droga\",\"com_droga\",\"com_droga\",\"com_droga\",\"com_droga\",\"com_droga\",\"com_droga\",\"com_droga\",\"com_droga\",\"com_droga\",\"com_droga\",\"com_droga\",\"com_droga\",\"com_droga\",\"com_droga\",\"com_droga\",\"com_controle\",\"com_droga\",\"com_droga\",\"com_droga\",\"com_droga\",\"com_droga\",\"com_droga\",\"com_droga\",\"com_controle\",\"com_droga\",\"com_droga\",\"com_droga\",\"com_droga\",\"com_droga\",\"com_droga\",\"com_droga\",\"com_droga\",\"com_droga\",\"com_droga\",\"com_droga\",\"com_droga\",\"com_droga\",\"com_droga\",\"com_droga\",\"com_droga\",\"com_droga\",\"com_droga\",\"com_droga\",\"com_controle\",\"com_droga\",\"com_droga\",\"com_droga\",\"com_droga\",\"com_droga\",\"com_droga\",\"com_droga\",\"com_controle\",\"com_droga\",\"com_droga\",\"com_droga\",\"com_droga\",\"com_droga\",\"com_droga\",\"com_controle\",\"com_droga\",\"com_droga\",\"com_droga\",\"com_droga\",\"com_droga\",\"com_droga\",\"com_droga\",\"com_droga\",\"com_droga\",\"com_droga\",\"com_droga\",\"com_droga\",\"com_droga\",\"com_droga\",\"com_droga\",\"com_droga\",\"com_droga\",\"com_droga\",\"com_droga\",\"com_droga\",\"com_controle\",\"com_droga\",\"com_droga\",\"com_droga\",\"com_droga\",\"com_droga\",\"com_droga\",\"com_droga\",\"com_droga\",\"com_droga\",\"com_droga\",\"com_droga\",\"com_droga\",\"com_droga\",\"com_droga\",\"com_droga\",\"com_droga\",\"com_droga\",\"com_droga\",\"com_droga\",\"com_droga\",\"com_droga\",\"com_droga\",\"com_droga\",\"com_droga\",\"com_droga\",\"com_droga\",\"com_droga\",\"com_droga\",\"com_droga\",\"com_droga\",\"com_droga\",\"com_droga\",\"com_droga\",\"com_droga\",\"com_droga\",\"com_droga\",\"com_droga\",\"com_droga\",\"com_droga\",\"com_droga\",\"com_droga\",\"com_controle\",\"com_droga\",\"com_droga\",\"com_droga\",\"com_controle\",\"com_droga\",\"com_droga\",\"com_droga\",\"com_droga\",\"com_droga\",\"com_droga\",\"com_droga\",\"com_droga\",\"com_droga\",\"com_droga\",\"com_droga\",\"com_droga\",\"com_droga\",\"com_droga\",\"com_droga\",\"com_droga\",\"com_droga\",\"com_controle\",\"com_droga\",\"com_droga\",\"com_droga\",\"com_droga\",\"com_droga\",\"com_droga\",\"com_droga\",\"com_droga\",\"com_droga\",\"com_droga\",\"com_droga\",\"com_controle\",\"com_droga\",\"com_droga\",\"com_droga\",\"com_controle\",\"com_controle\",\"com_droga\",\"com_droga\",\"com_droga\",\"com_droga\",\"com_droga\",\"com_controle\",\"com_droga\",\"com_droga\",\"com_droga\",\"com_droga\",\"com_controle\",\"com_droga\",\"com_droga\",\"com_droga\",\"com_droga\",\"com_droga\",\"com_droga\",\"com_droga\",\"com_droga\",\"com_droga\",\"com_droga\",\"com_droga\",\"com_controle\",\"com_droga\",\"com_droga\",\"com_droga\",\"com_controle\",\"com_droga\",\"com_droga\",\"com_droga\",\"com_droga\",\"com_droga\",\"com_droga\",\"com_droga\",\"com_droga\",\"com_droga\",\"com_droga\",\"com_droga\",\"com_controle\",\"com_controle\",\"com_droga\",\"com_droga\",\"com_controle\",\"com_droga\",\"com_droga\",\"com_droga\",\"com_droga\",\"com_droga\",\"com_droga\",\"com_droga\",\"com_droga\",\"com_droga\",\"com_droga\",\"com_droga\",\"com_droga\",\"com_droga\",\"com_droga\",\"com_droga\",\"com_droga\",\"com_droga\",\"com_droga\",\"com_droga\",\"com_droga\",\"com_droga\",\"com_droga\",\"com_droga\",\"com_droga\",\"com_droga\",\"com_droga\",\"com_droga\",\"com_droga\",\"com_droga\",\"com_droga\",\"com_droga\",\"com_droga\",\"com_droga\",\"com_droga\",\"com_droga\",\"com_droga\",\"com_droga\",\"com_droga\",\"com_droga\",\"com_droga\",\"com_droga\",\"com_droga\",\"com_droga\",\"com_droga\",\"com_droga\",\"com_droga\",\"com_droga\",\"com_droga\",\"com_droga\",\"com_droga\",\"com_droga\",\"com_droga\",\"com_controle\",\"com_droga\",\"com_droga\",\"com_droga\",\"com_droga\",\"com_droga\",\"com_droga\",\"com_controle\",\"com_droga\",\"com_droga\",\"com_droga\",\"com_controle\",\"com_droga\",\"com_droga\",\"com_droga\",\"com_droga\",\"com_droga\",\"com_droga\",\"com_droga\",\"com_droga\",\"com_droga\",\"com_droga\",\"com_droga\",\"com_droga\",\"com_droga\",\"com_droga\",\"com_droga\",\"com_droga\",\"com_droga\",\"com_droga\",\"com_droga\",\"com_droga\",\"com_droga\",\"com_droga\",\"com_droga\",\"com_droga\",\"com_controle\",\"com_droga\",\"com_droga\",\"com_droga\",\"com_droga\",\"com_droga\",\"com_droga\",\"com_droga\",\"com_droga\",\"com_droga\",\"com_droga\",\"com_droga\",\"com_droga\",\"com_droga\",\"com_droga\",\"com_droga\",\"com_droga\",\"com_droga\",\"com_droga\",\"com_controle\",\"com_droga\",\"com_droga\",\"com_droga\",\"com_droga\",\"com_controle\",\"com_droga\",\"com_droga\",\"com_droga\",\"com_controle\",\"com_controle\",\"com_droga\",\"com_droga\",\"com_droga\",\"com_droga\",\"com_droga\",\"com_droga\",\"com_controle\",\"com_droga\",\"com_droga\",\"com_droga\",\"com_droga\",\"com_droga\",\"com_droga\",\"com_droga\",\"com_droga\",\"com_droga\",\"com_droga\",\"com_droga\",\"com_droga\",\"com_droga\",\"com_droga\",\"com_droga\",\"com_droga\",\"com_droga\",\"com_controle\",\"com_droga\",\"com_droga\",\"com_droga\",\"com_droga\",\"com_droga\",\"com_droga\",\"com_droga\",\"com_droga\",\"com_droga\",\"com_droga\",\"com_droga\",\"com_droga\",\"com_droga\",\"com_droga\",\"com_droga\",\"com_droga\",\"com_droga\",\"com_droga\",\"com_droga\",\"com_droga\",\"com_droga\",\"com_droga\",\"com_droga\",\"com_droga\",\"com_droga\",\"com_droga\",\"com_droga\",\"com_droga\",\"com_controle\",\"com_droga\",\"com_droga\",\"com_droga\",\"com_droga\",\"com_droga\",\"com_droga\",\"com_droga\",\"com_controle\",\"com_droga\",\"com_droga\",\"com_droga\",\"com_droga\",\"com_droga\",\"com_droga\",\"com_controle\",\"com_droga\",\"com_droga\",\"com_droga\",\"com_droga\",\"com_droga\",\"com_droga\",\"com_droga\",\"com_droga\",\"com_droga\",\"com_droga\",\"com_droga\",\"com_controle\",\"com_droga\",\"com_droga\",\"com_droga\",\"com_droga\",\"com_droga\",\"com_controle\",\"com_droga\",\"com_droga\",\"com_droga\",\"com_droga\",\"com_droga\",\"com_droga\",\"com_droga\",\"com_droga\",\"com_droga\",\"com_droga\",\"com_droga\",\"com_droga\",\"com_droga\",\"com_droga\",\"com_droga\",\"com_controle\",\"com_droga\",\"com_droga\",\"com_droga\",\"com_droga\",\"com_droga\",\"com_controle\",\"com_droga\",\"com_controle\",\"com_droga\",\"com_droga\",\"com_droga\",\"com_controle\",\"com_droga\",\"com_droga\",\"com_droga\",\"com_droga\",\"com_controle\",\"com_droga\",\"com_droga\",\"com_droga\",\"com_droga\",\"com_droga\",\"com_droga\",\"com_droga\",\"com_droga\",\"com_droga\",\"com_droga\",\"com_droga\",\"com_droga\",\"com_controle\",\"com_droga\",\"com_droga\",\"com_droga\",\"com_controle\",\"com_droga\",\"com_droga\",\"com_droga\",\"com_droga\",\"com_droga\",\"com_droga\",\"com_droga\",\"com_droga\",\"com_droga\",\"com_droga\",\"com_droga\",\"com_droga\",\"com_droga\",\"com_droga\",\"com_droga\",\"com_droga\",\"com_droga\",\"com_droga\",\"com_droga\",\"com_droga\",\"com_droga\",\"com_droga\",\"com_droga\",\"com_droga\",\"com_droga\",\"com_droga\",\"com_droga\",\"com_droga\",\"com_droga\",\"com_droga\",\"com_droga\",\"com_droga\",\"com_droga\",\"com_droga\",\"com_droga\",\"com_droga\",\"com_droga\",\"com_droga\",\"com_droga\",\"com_droga\",\"com_droga\",\"com_droga\",\"com_controle\",\"com_droga\",\"com_droga\",\"com_droga\",\"com_droga\",\"com_droga\",\"com_droga\",\"com_droga\",\"com_droga\",\"com_droga\",\"com_droga\",\"com_controle\",\"com_droga\",\"com_droga\",\"com_droga\",\"com_droga\",\"com_controle\",\"com_droga\",\"com_droga\",\"com_controle\",\"com_droga\",\"com_droga\",\"com_droga\",\"com_droga\",\"com_controle\",\"com_droga\",\"com_droga\",\"com_droga\",\"com_droga\",\"com_droga\",\"com_droga\",\"com_droga\",\"com_droga\",\"com_droga\",\"com_droga\",\"com_droga\",\"com_droga\",\"com_controle\",\"com_droga\",\"com_droga\",\"com_droga\",\"com_droga\",\"com_droga\",\"com_droga\",\"com_droga\",\"com_droga\",\"com_droga\",\"com_droga\",\"com_droga\",\"com_droga\",\"com_droga\",\"com_droga\",\"com_droga\",\"com_droga\",\"com_droga\",\"com_droga\",\"com_droga\",\"com_droga\",\"com_droga\",\"com_controle\",\"com_droga\",\"com_droga\",\"com_droga\",\"com_droga\",\"com_droga\",\"com_droga\",\"com_droga\",\"com_droga\",\"com_droga\",\"com_droga\",\"com_droga\",\"com_droga\",\"com_droga\",\"com_droga\",\"com_droga\",\"com_droga\",\"com_droga\",\"com_controle\",\"com_droga\",\"com_droga\",\"com_controle\",\"com_droga\",\"com_droga\",\"com_droga\",\"com_droga\",\"com_droga\",\"com_droga\",\"com_droga\",\"com_droga\",\"com_droga\",\"com_droga\",\"com_droga\",\"com_droga\",\"com_droga\",\"com_droga\",\"com_droga\",\"com_droga\",\"com_droga\",\"com_droga\",\"com_droga\",\"com_droga\",\"com_droga\",\"com_controle\",\"com_droga\",\"com_droga\",\"com_controle\",\"com_droga\",\"com_droga\",\"com_droga\",\"com_droga\",\"com_droga\",\"com_droga\",\"com_droga\",\"com_droga\",\"com_droga\",\"com_droga\",\"com_droga\",\"com_droga\",\"com_droga\",\"com_droga\",\"com_droga\",\"com_droga\",\"com_droga\",\"com_droga\",\"com_droga\",\"com_droga\",\"com_droga\",\"com_controle\",\"com_droga\",\"com_controle\",\"com_droga\",\"com_droga\",\"com_droga\",\"com_droga\",\"com_droga\",\"com_droga\",\"com_droga\",\"com_droga\",\"com_droga\",\"com_controle\",\"com_droga\",\"com_droga\",\"com_droga\",\"com_droga\",\"com_droga\",\"com_droga\",\"com_droga\",\"com_droga\",\"com_droga\",\"com_droga\",\"com_droga\",\"com_droga\",\"com_droga\",\"com_droga\",\"com_droga\",\"com_droga\",\"com_droga\",\"com_droga\",\"com_droga\",\"com_controle\",\"com_droga\",\"com_droga\",\"com_droga\",\"com_droga\",\"com_droga\",\"com_droga\",\"com_droga\",\"com_droga\",\"com_droga\",\"com_droga\",\"com_droga\",\"com_droga\",\"com_controle\",\"com_droga\",\"com_droga\",\"com_droga\",\"com_droga\",\"com_droga\",\"com_droga\",\"com_controle\",\"com_droga\",\"com_droga\",\"com_droga\",\"com_droga\",\"com_droga\",\"com_droga\",\"com_droga\",\"com_droga\",\"com_droga\",\"com_droga\",\"com_droga\",\"com_droga\",\"com_droga\",\"com_droga\",\"com_droga\",\"com_droga\",\"com_droga\",\"com_droga\",\"com_droga\",\"com_droga\",\"com_droga\",\"com_droga\",\"com_droga\",\"com_droga\",\"com_controle\",\"com_droga\",\"com_droga\",\"com_droga\",\"com_droga\",\"com_droga\",\"com_droga\",\"com_droga\",\"com_droga\",\"com_droga\",\"com_droga\",\"com_droga\",\"com_controle\",\"com_droga\",\"com_droga\",\"com_droga\",\"com_droga\",\"com_droga\",\"com_controle\",\"com_droga\",\"com_droga\",\"com_droga\",\"com_droga\",\"com_controle\",\"com_droga\",\"com_droga\",\"com_droga\",\"com_droga\",\"com_droga\",\"com_controle\",\"com_droga\",\"com_droga\",\"com_droga\",\"com_droga\",\"com_droga\",\"com_droga\",\"com_droga\",\"com_droga\",\"com_droga\",\"com_droga\",\"com_droga\",\"com_droga\",\"com_droga\",\"com_droga\",\"com_droga\",\"com_droga\",\"com_droga\",\"com_droga\",\"com_droga\",\"com_droga\",\"com_droga\",\"com_droga\",\"com_droga\",\"com_droga\",\"com_droga\",\"com_droga\",\"com_droga\",\"com_droga\",\"com_droga\",\"com_droga\",\"com_droga\",\"com_droga\",\"com_droga\",\"com_droga\",\"com_droga\",\"com_droga\",\"com_droga\",\"com_droga\",\"com_droga\",\"com_droga\",\"com_droga\",\"com_droga\",\"com_droga\",\"com_droga\",\"com_droga\",\"com_droga\",\"com_droga\",\"com_droga\",\"com_droga\",\"com_droga\",\"com_droga\",\"com_droga\",\"com_droga\",\"com_droga\",\"com_droga\",\"com_droga\",\"com_droga\",\"com_droga\",\"com_droga\",\"com_droga\",\"com_droga\",\"com_droga\",\"com_droga\",\"com_droga\",\"com_droga\",\"com_droga\",\"com_droga\",\"com_droga\",\"com_droga\",\"com_droga\",\"com_droga\",\"com_droga\",\"com_droga\",\"com_droga\",\"com_droga\",\"com_droga\",\"com_droga\",\"com_droga\",\"com_droga\",\"com_droga\",\"com_droga\",\"com_droga\",\"com_controle\",\"com_droga\",\"com_droga\",\"com_droga\",\"com_droga\",\"com_droga\",\"com_controle\",\"com_droga\",\"com_droga\",\"com_droga\",\"com_droga\",\"com_controle\",\"com_droga\",\"com_droga\",\"com_droga\",\"com_droga\",\"com_droga\",\"com_droga\",\"com_droga\",\"com_droga\",\"com_droga\",\"com_droga\",\"com_droga\",\"com_droga\",\"com_droga\",\"com_droga\",\"com_droga\",\"com_droga\",\"com_droga\",\"com_droga\",\"com_droga\",\"com_droga\",\"com_droga\",\"com_droga\",\"com_controle\",\"com_droga\",\"com_droga\",\"com_droga\",\"com_droga\",\"com_droga\",\"com_droga\",\"com_droga\",\"com_droga\",\"com_droga\",\"com_droga\",\"com_droga\",\"com_droga\",\"com_controle\",\"com_droga\",\"com_droga\",\"com_droga\",\"com_droga\",\"com_droga\",\"com_droga\",\"com_droga\",\"com_droga\",\"com_droga\",\"com_droga\",\"com_droga\",\"com_droga\",\"com_droga\",\"com_controle\",\"com_droga\",\"com_droga\",\"com_droga\",\"com_droga\",\"com_droga\",\"com_controle\",\"com_droga\",\"com_droga\",\"com_droga\",\"com_droga\",\"com_droga\",\"com_droga\",\"com_droga\",\"com_droga\",\"com_droga\",\"com_droga\",\"com_droga\",\"com_droga\",\"com_droga\",\"com_droga\",\"com_droga\",\"com_droga\",\"com_droga\",\"com_droga\",\"com_droga\",\"com_droga\",\"com_droga\",\"com_droga\",\"com_droga\",\"com_droga\",\"com_droga\",\"com_droga\",\"com_droga\",\"com_droga\",\"com_droga\",\"com_droga\",\"com_droga\",\"com_droga\",\"com_droga\",\"com_droga\",\"com_droga\",\"com_droga\",\"com_droga\",\"com_droga\",\"com_droga\",\"com_droga\",\"com_controle\",\"com_droga\",\"com_droga\",\"com_droga\",\"com_droga\",\"com_droga\",\"com_droga\",\"com_droga\",\"com_droga\",\"com_droga\",\"com_droga\",\"com_droga\",\"com_droga\",\"com_droga\",\"com_droga\",\"com_droga\",\"com_controle\",\"com_droga\",\"com_droga\",\"com_droga\",\"com_droga\",\"com_droga\",\"com_droga\",\"com_controle\",\"com_droga\",\"com_droga\",\"com_droga\",\"com_droga\",\"com_droga\",\"com_droga\",\"com_droga\",\"com_controle\",\"com_droga\",\"com_droga\",\"com_droga\",\"com_droga\",\"com_droga\",\"com_droga\",\"com_droga\",\"com_droga\",\"com_droga\",\"com_droga\",\"com_droga\",\"com_droga\",\"com_droga\",\"com_controle\",\"com_droga\",\"com_droga\",\"com_droga\",\"com_droga\",\"com_droga\",\"com_droga\",\"com_droga\",\"com_droga\",\"com_droga\",\"com_droga\",\"com_droga\",\"com_droga\",\"com_droga\",\"com_droga\",\"com_droga\",\"com_droga\",\"com_droga\",\"com_droga\",\"com_droga\",\"com_droga\",\"com_droga\",\"com_droga\",\"com_droga\",\"com_droga\",\"com_droga\",\"com_droga\",\"com_droga\",\"com_droga\",\"com_droga\",\"com_droga\",\"com_droga\",\"com_controle\",\"com_droga\",\"com_droga\",\"com_droga\",\"com_droga\",\"com_droga\",\"com_droga\",\"com_droga\",\"com_droga\",\"com_droga\",\"com_droga\",\"com_droga\",\"com_droga\",\"com_droga\",\"com_droga\",\"com_droga\",\"com_droga\",\"com_droga\",\"com_droga\",\"com_droga\",\"com_droga\",\"com_droga\",\"com_droga\",\"com_droga\",\"com_droga\",\"com_droga\",\"com_controle\",\"com_droga\",\"com_droga\",\"com_droga\",\"com_droga\",\"com_droga\",\"com_droga\",\"com_controle\",\"com_controle\",\"com_droga\",\"com_droga\",\"com_droga\",\"com_droga\",\"com_droga\",\"com_controle\",\"com_droga\",\"com_droga\",\"com_droga\",\"com_droga\",\"com_droga\",\"com_droga\",\"com_droga\",\"com_droga\",\"com_droga\",\"com_droga\",\"com_droga\",\"com_controle\",\"com_controle\",\"com_droga\",\"com_droga\",\"com_droga\",\"com_droga\",\"com_droga\",\"com_droga\",\"com_droga\",\"com_droga\",\"com_droga\",\"com_droga\",\"com_controle\",\"com_droga\",\"com_droga\",\"com_controle\",\"com_droga\",\"com_controle\",\"com_droga\",\"com_droga\",\"com_droga\",\"com_droga\",\"com_droga\",\"com_droga\",\"com_droga\",\"com_droga\",\"com_droga\",\"com_droga\",\"com_droga\",\"com_controle\",\"com_droga\",\"com_droga\",\"com_droga\",\"com_droga\",\"com_droga\",\"com_controle\",\"com_droga\",\"com_droga\",\"com_droga\",\"com_droga\",\"com_droga\",\"com_droga\",\"com_droga\",\"com_droga\",\"com_droga\",\"com_droga\",\"com_droga\",\"com_droga\",\"com_droga\",\"com_droga\",\"com_droga\",\"com_droga\",\"com_droga\",\"com_droga\",\"com_droga\",\"com_droga\",\"com_droga\",\"com_droga\",\"com_droga\",\"com_droga\",\"com_droga\",\"com_droga\",\"com_droga\",\"com_droga\",\"com_droga\",\"com_droga\",\"com_droga\",\"com_droga\",\"com_droga\",\"com_droga\",\"com_droga\",\"com_droga\",\"com_droga\",\"com_droga\",\"com_droga\",\"com_droga\",\"com_droga\",\"com_droga\",\"com_droga\",\"com_droga\",\"com_droga\",\"com_droga\",\"com_droga\",\"com_droga\",\"com_droga\",\"com_droga\",\"com_droga\",\"com_droga\",\"com_droga\",\"com_droga\",\"com_droga\",\"com_droga\",\"com_droga\",\"com_droga\",\"com_droga\",\"com_droga\",\"com_droga\",\"com_droga\",\"com_controle\",\"com_droga\",\"com_droga\",\"com_droga\",\"com_droga\",\"com_droga\",\"com_droga\",\"com_droga\",\"com_droga\",\"com_droga\",\"com_droga\",\"com_droga\",\"com_droga\",\"com_droga\",\"com_droga\",\"com_droga\",\"com_droga\",\"com_droga\",\"com_droga\",\"com_droga\",\"com_droga\",\"com_droga\",\"com_droga\",\"com_droga\",\"com_droga\",\"com_controle\",\"com_droga\",\"com_droga\",\"com_droga\",\"com_droga\",\"com_droga\",\"com_droga\",\"com_droga\",\"com_droga\",\"com_droga\",\"com_droga\",\"com_droga\",\"com_droga\",\"com_droga\",\"com_droga\",\"com_droga\",\"com_droga\",\"com_droga\",\"com_controle\",\"com_droga\",\"com_droga\",\"com_droga\",\"com_droga\",\"com_droga\",\"com_droga\",\"com_droga\",\"com_droga\",\"com_droga\",\"com_droga\",\"com_droga\",\"com_droga\",\"com_droga\",\"com_droga\",\"com_droga\",\"com_droga\",\"com_droga\",\"com_droga\",\"com_droga\",\"com_droga\",\"com_droga\",\"com_droga\",\"com_droga\",\"com_droga\",\"com_droga\",\"com_droga\",\"com_droga\",\"com_droga\",\"com_droga\",\"com_droga\",\"com_droga\",\"com_droga\",\"com_droga\",\"com_droga\",\"com_droga\",\"com_droga\",\"com_controle\",\"com_droga\",\"com_controle\",\"com_droga\",\"com_droga\",\"com_droga\",\"com_droga\",\"com_droga\",\"com_droga\",\"com_droga\",\"com_droga\",\"com_droga\",\"com_droga\",\"com_droga\",\"com_droga\",\"com_droga\",\"com_droga\",\"com_droga\",\"com_droga\",\"com_droga\",\"com_droga\",\"com_droga\",\"com_droga\",\"com_droga\",\"com_droga\",\"com_droga\",\"com_droga\",\"com_droga\",\"com_droga\",\"com_droga\",\"com_droga\",\"com_droga\",\"com_droga\",\"com_droga\",\"com_droga\",\"com_droga\",\"com_droga\",\"com_droga\",\"com_droga\",\"com_droga\",\"com_controle\",\"com_droga\",\"com_droga\",\"com_droga\",\"com_droga\",\"com_droga\",\"com_droga\",\"com_droga\",\"com_droga\",\"com_droga\",\"com_droga\",\"com_droga\",\"com_droga\",\"com_droga\",\"com_droga\",\"com_droga\",\"com_droga\",\"com_droga\",\"com_droga\",\"com_droga\",\"com_droga\",\"com_droga\",\"com_droga\",\"com_droga\",\"com_droga\",\"com_droga\",\"com_droga\",\"com_droga\",\"com_droga\",\"com_controle\",\"com_droga\",\"com_droga\",\"com_droga\",\"com_droga\",\"com_droga\",\"com_droga\",\"com_droga\",\"com_controle\",\"com_droga\",\"com_droga\",\"com_controle\",\"com_droga\",\"com_droga\",\"com_droga\",\"com_droga\",\"com_droga\",\"com_droga\",\"com_droga\",\"com_droga\",\"com_droga\",\"com_droga\",\"com_droga\",\"com_droga\",\"com_droga\",\"com_droga\",\"com_droga\",\"com_droga\",\"com_droga\",\"com_droga\",\"com_droga\",\"com_droga\",\"com_droga\",\"com_droga\",\"com_controle\",\"com_droga\",\"com_droga\",\"com_droga\",\"com_droga\",\"com_droga\",\"com_droga\",\"com_droga\",\"com_droga\",\"com_droga\",\"com_droga\",\"com_droga\",\"com_droga\",\"com_droga\",\"com_droga\",\"com_droga\",\"com_droga\",\"com_droga\",\"com_droga\",\"com_droga\",\"com_droga\",\"com_droga\",\"com_droga\",\"com_droga\",\"com_droga\",\"com_droga\",\"com_controle\",\"com_droga\",\"com_droga\",\"com_droga\",\"com_droga\",\"com_droga\",\"com_controle\",\"com_droga\",\"com_droga\",\"com_droga\",\"com_droga\",\"com_droga\",\"com_droga\",\"com_droga\",\"com_droga\",\"com_droga\",\"com_droga\",\"com_droga\",\"com_droga\",\"com_droga\",\"com_droga\",\"com_droga\",\"com_droga\",\"com_droga\",\"com_droga\",\"com_droga\",\"com_droga\",\"com_droga\",\"com_controle\",\"com_droga\",\"com_droga\",\"com_droga\",\"com_droga\",\"com_droga\",\"com_droga\",\"com_droga\",\"com_droga\",\"com_droga\",\"com_droga\",\"com_droga\",\"com_droga\",\"com_droga\",\"com_droga\",\"com_droga\",\"com_droga\",\"com_droga\",\"com_droga\",\"com_droga\",\"com_droga\",\"com_droga\",\"com_droga\",\"com_droga\",\"com_droga\",\"com_droga\",\"com_controle\",\"com_controle\",\"com_droga\",\"com_droga\",\"com_droga\",\"com_droga\",\"com_droga\",\"com_droga\",\"com_droga\",\"com_droga\",\"com_droga\",\"com_droga\",\"com_droga\",\"com_controle\",\"com_controle\",\"com_droga\",\"com_droga\",\"com_droga\",\"com_droga\",\"com_droga\",\"com_droga\",\"com_droga\",\"com_controle\",\"com_droga\",\"com_droga\",\"com_droga\",\"com_droga\",\"com_droga\",\"com_droga\",\"com_droga\",\"com_droga\",\"com_droga\",\"com_droga\",\"com_droga\",\"com_droga\",\"com_droga\",\"com_droga\",\"com_droga\",\"com_droga\",\"com_droga\",\"com_droga\",\"com_droga\",\"com_droga\",\"com_droga\",\"com_droga\",\"com_droga\",\"com_droga\",\"com_droga\",\"com_droga\",\"com_droga\",\"com_droga\",\"com_droga\",\"com_droga\",\"com_droga\",\"com_droga\",\"com_droga\",\"com_droga\",\"com_droga\",\"com_droga\",\"com_droga\",\"com_droga\",\"com_droga\",\"com_droga\",\"com_controle\",\"com_droga\",\"com_droga\",\"com_droga\",\"com_droga\",\"com_droga\",\"com_droga\",\"com_droga\",\"com_droga\",\"com_droga\",\"com_droga\",\"com_droga\",\"com_droga\",\"com_controle\",\"com_droga\",\"com_droga\",\"com_droga\",\"com_droga\",\"com_droga\",\"com_droga\",\"com_droga\",\"com_droga\",\"com_droga\",\"com_droga\",\"com_droga\",\"com_droga\",\"com_droga\",\"com_droga\",\"com_droga\",\"com_droga\",\"com_controle\",\"com_droga\",\"com_droga\",\"com_controle\",\"com_droga\",\"com_droga\",\"com_droga\",\"com_droga\",\"com_droga\",\"com_droga\",\"com_controle\",\"com_droga\",\"com_droga\",\"com_controle\",\"com_droga\",\"com_droga\",\"com_droga\",\"com_droga\",\"com_droga\",\"com_droga\",\"com_droga\",\"com_droga\",\"com_droga\",\"com_droga\",\"com_droga\",\"com_droga\",\"com_droga\",\"com_droga\",\"com_droga\",\"com_droga\",\"com_droga\",\"com_droga\",\"com_droga\",\"com_droga\",\"com_droga\",\"com_droga\",\"com_droga\",\"com_droga\",\"com_controle\",\"com_droga\",\"com_droga\",\"com_droga\",\"com_controle\",\"com_droga\",\"com_droga\",\"com_controle\",\"com_droga\",\"com_droga\",\"com_controle\",\"com_droga\",\"com_droga\",\"com_droga\",\"com_droga\",\"com_droga\",\"com_droga\",\"com_droga\",\"com_droga\",\"com_droga\",\"com_droga\",\"com_droga\",\"com_droga\",\"com_droga\",\"com_droga\",\"com_droga\",\"com_droga\",\"com_droga\",\"com_droga\",\"com_droga\",\"com_droga\",\"com_controle\",\"com_droga\",\"com_droga\",\"com_droga\",\"com_droga\",\"com_droga\",\"com_droga\",\"com_droga\",\"com_droga\",\"com_droga\",\"com_droga\",\"com_droga\",\"com_droga\",\"com_droga\",\"com_droga\",\"com_droga\",\"com_droga\",\"com_droga\",\"com_controle\",\"com_droga\",\"com_controle\",\"com_droga\",\"com_droga\",\"com_droga\",\"com_droga\",\"com_droga\",\"com_droga\",\"com_droga\",\"com_droga\",\"com_droga\",\"com_droga\",\"com_droga\",\"com_droga\",\"com_controle\",\"com_droga\",\"com_droga\",\"com_droga\",\"com_droga\",\"com_droga\",\"com_droga\",\"com_droga\",\"com_controle\",\"com_droga\",\"com_droga\",\"com_droga\",\"com_droga\",\"com_droga\",\"com_droga\",\"com_controle\",\"com_droga\",\"com_droga\",\"com_droga\",\"com_droga\",\"com_droga\",\"com_droga\",\"com_droga\",\"com_droga\",\"com_droga\",\"com_droga\",\"com_droga\",\"com_controle\",\"com_droga\",\"com_droga\",\"com_droga\",\"com_droga\",\"com_droga\",\"com_droga\",\"com_droga\",\"com_droga\",\"com_droga\",\"com_droga\",\"com_droga\",\"com_droga\",\"com_droga\",\"com_droga\",\"com_controle\",\"com_droga\",\"com_droga\",\"com_droga\",\"com_droga\",\"com_droga\",\"com_droga\",\"com_droga\",\"com_droga\",\"com_droga\",\"com_droga\",\"com_droga\",\"com_droga\",\"com_droga\",\"com_droga\",\"com_controle\",\"com_droga\",\"com_controle\",\"com_droga\",\"com_droga\",\"com_droga\",\"com_droga\",\"com_droga\",\"com_droga\",\"com_droga\",\"com_droga\",\"com_droga\",\"com_droga\",\"com_droga\",\"com_droga\",\"com_droga\",\"com_droga\",\"com_controle\",\"com_droga\",\"com_droga\",\"com_droga\",\"com_droga\",\"com_droga\",\"com_droga\",\"com_droga\",\"com_droga\",\"com_droga\",\"com_controle\",\"com_droga\",\"com_droga\",\"com_droga\",\"com_droga\",\"com_droga\",\"com_droga\",\"com_droga\",\"com_droga\",\"com_droga\",\"com_droga\",\"com_droga\",\"com_droga\",\"com_controle\",\"com_droga\",\"com_droga\",\"com_droga\",\"com_droga\",\"com_droga\",\"com_droga\",\"com_controle\",\"com_droga\",\"com_droga\",\"com_droga\",\"com_droga\",\"com_droga\",\"com_droga\",\"com_droga\",\"com_controle\",\"com_droga\",\"com_droga\",\"com_droga\",\"com_droga\",\"com_droga\",\"com_droga\",\"com_droga\",\"com_droga\",\"com_droga\",\"com_droga\",\"com_droga\",\"com_droga\",\"com_droga\",\"com_controle\",\"com_droga\",\"com_droga\",\"com_droga\",\"com_droga\",\"com_droga\",\"com_droga\",\"com_droga\",\"com_droga\",\"com_droga\",\"com_droga\",\"com_droga\",\"com_droga\",\"com_droga\",\"com_controle\",\"com_droga\",\"com_droga\",\"com_droga\",\"com_droga\",\"com_droga\",\"com_droga\",\"com_droga\",\"com_controle\",\"com_droga\",\"com_controle\",\"com_droga\",\"com_droga\",\"com_droga\",\"com_droga\",\"com_droga\",\"com_droga\",\"com_droga\",\"com_droga\",\"com_droga\",\"com_droga\",\"com_droga\",\"com_droga\",\"com_droga\",\"com_droga\",\"com_droga\",\"com_droga\",\"com_droga\",\"com_droga\",\"com_controle\",\"com_droga\",\"com_droga\",\"com_droga\",\"com_droga\",\"com_droga\",\"com_droga\",\"com_droga\",\"com_droga\",\"com_droga\",\"com_droga\",\"com_droga\",\"com_droga\",\"com_droga\",\"com_droga\",\"com_droga\",\"com_droga\",\"com_droga\",\"com_droga\",\"com_droga\",\"com_droga\",\"com_droga\",\"com_droga\",\"com_droga\",\"com_droga\",\"com_droga\",\"com_droga\",\"com_droga\",\"com_droga\",\"com_droga\",\"com_droga\",\"com_droga\",\"com_droga\",\"com_droga\",\"com_droga\",\"com_droga\",\"com_droga\",\"com_droga\",\"com_droga\",\"com_droga\",\"com_droga\",\"com_droga\",\"com_droga\",\"com_droga\",\"com_droga\",\"com_droga\",\"com_droga\",\"com_droga\",\"com_droga\",\"com_controle\",\"com_droga\",\"com_droga\",\"com_droga\",\"com_droga\",\"com_droga\",\"com_droga\",\"com_droga\",\"com_droga\",\"com_droga\",\"com_droga\",\"com_droga\",\"com_droga\",\"com_droga\",\"com_droga\",\"com_controle\",\"com_droga\",\"com_droga\",\"com_droga\",\"com_droga\",\"com_droga\",\"com_droga\",\"com_controle\",\"com_controle\",\"com_droga\",\"com_droga\",\"com_droga\",\"com_droga\",\"com_droga\",\"com_droga\",\"com_droga\",\"com_droga\",\"com_droga\",\"com_droga\",\"com_droga\",\"com_droga\",\"com_droga\",\"com_droga\",\"com_droga\",\"com_droga\",\"com_droga\",\"com_droga\",\"com_droga\",\"com_droga\",\"com_droga\",\"com_droga\",\"com_droga\",\"com_controle\",\"com_droga\",\"com_droga\",\"com_droga\",\"com_droga\",\"com_droga\",\"com_droga\",\"com_droga\",\"com_droga\",\"com_controle\",\"com_droga\",\"com_droga\",\"com_droga\",\"com_droga\",\"com_droga\",\"com_droga\",\"com_controle\",\"com_droga\",\"com_droga\",\"com_droga\",\"com_droga\",\"com_droga\",\"com_droga\",\"com_droga\",\"com_droga\",\"com_droga\",\"com_droga\",\"com_droga\",\"com_controle\",\"com_droga\",\"com_droga\",\"com_droga\",\"com_droga\",\"com_droga\",\"com_droga\",\"com_droga\",\"com_droga\",\"com_droga\",\"com_droga\",\"com_droga\",\"com_droga\",\"com_droga\",\"com_droga\",\"com_droga\",\"com_controle\",\"com_controle\",\"com_droga\",\"com_droga\",\"com_droga\",\"com_droga\",\"com_droga\",\"com_droga\",\"com_controle\",\"com_droga\",\"com_droga\",\"com_droga\",\"com_droga\",\"com_droga\",\"com_droga\",\"com_droga\",\"com_droga\",\"com_droga\",\"com_droga\",\"com_droga\",\"com_droga\",\"com_droga\",\"com_droga\",\"com_droga\",\"com_droga\",\"com_droga\",\"com_droga\",\"com_droga\",\"com_droga\",\"com_droga\",\"com_droga\",\"com_droga\",\"com_droga\",\"com_droga\",\"com_droga\",\"com_droga\",\"com_droga\",\"com_droga\",\"com_droga\",\"com_droga\",\"com_droga\",\"com_droga\",\"com_droga\",\"com_droga\",\"com_droga\",\"com_droga\",\"com_controle\",\"com_droga\",\"com_droga\",\"com_droga\",\"com_droga\",\"com_droga\",\"com_droga\",\"com_droga\",\"com_droga\",\"com_droga\",\"com_droga\",\"com_droga\",\"com_droga\",\"com_droga\",\"com_droga\",\"com_controle\",\"com_droga\",\"com_controle\",\"com_droga\",\"com_droga\",\"com_droga\",\"com_droga\",\"com_droga\",\"com_droga\",\"com_droga\",\"com_droga\",\"com_controle\",\"com_droga\",\"com_droga\",\"com_droga\",\"com_droga\",\"com_droga\",\"com_droga\",\"com_droga\",\"com_droga\",\"com_droga\",\"com_droga\",\"com_droga\",\"com_droga\",\"com_droga\",\"com_droga\",\"com_droga\",\"com_controle\",\"com_droga\",\"com_droga\",\"com_droga\",\"com_droga\",\"com_controle\",\"com_droga\",\"com_droga\",\"com_droga\",\"com_droga\",\"com_droga\",\"com_droga\",\"com_droga\",\"com_droga\",\"com_droga\",\"com_droga\",\"com_droga\",\"com_droga\",\"com_droga\",\"com_droga\",\"com_controle\",\"com_droga\",\"com_droga\",\"com_droga\",\"com_droga\",\"com_droga\",\"com_droga\",\"com_droga\",\"com_droga\",\"com_droga\",\"com_droga\",\"com_droga\",\"com_droga\",\"com_droga\",\"com_droga\",\"com_droga\",\"com_droga\",\"com_controle\",\"com_droga\",\"com_droga\",\"com_droga\",\"com_droga\",\"com_controle\",\"com_droga\",\"com_droga\",\"com_droga\",\"com_droga\",\"com_droga\",\"com_droga\",\"com_droga\",\"com_droga\",\"com_droga\",\"com_controle\",\"com_droga\",\"com_droga\",\"com_droga\",\"com_droga\",\"com_droga\",\"com_droga\",\"com_droga\",\"com_droga\",\"com_droga\",\"com_droga\",\"com_droga\",\"com_droga\",\"com_controle\",\"com_droga\",\"com_droga\",\"com_droga\",\"com_droga\",\"com_droga\",\"com_droga\",\"com_droga\",\"com_droga\",\"com_controle\",\"com_controle\",\"com_droga\",\"com_droga\",\"com_droga\",\"com_droga\",\"com_droga\",\"com_droga\",\"com_droga\",\"com_controle\",\"com_droga\",\"com_droga\",\"com_droga\",\"com_controle\",\"com_droga\",\"com_droga\",\"com_controle\",\"com_droga\",\"com_droga\",\"com_droga\",\"com_droga\",\"com_droga\",\"com_droga\",\"com_droga\",\"com_controle\",\"com_droga\",\"com_droga\",\"com_droga\",\"com_droga\",\"com_controle\",\"com_droga\",\"com_droga\",\"com_droga\",\"com_droga\",\"com_droga\",\"com_droga\",\"com_droga\",\"com_droga\",\"com_droga\",\"com_droga\",\"com_controle\",\"com_droga\",\"com_controle\",\"com_droga\",\"com_droga\",\"com_droga\",\"com_droga\",\"com_controle\",\"com_droga\",\"com_droga\",\"com_controle\",\"com_droga\",\"com_droga\",\"com_droga\",\"com_droga\",\"com_droga\",\"com_droga\",\"com_droga\",\"com_droga\",\"com_droga\",\"com_droga\",\"com_droga\",\"com_droga\",\"com_droga\",\"com_droga\",\"com_droga\",\"com_droga\",\"com_droga\",\"com_droga\",\"com_droga\",\"com_droga\",\"com_droga\",\"com_droga\",\"com_droga\",\"com_droga\",\"com_droga\",\"com_droga\",\"com_droga\",\"com_droga\",\"com_droga\",\"com_droga\",\"com_droga\",\"com_droga\",\"com_droga\",\"com_droga\",\"com_controle\",\"com_droga\",\"com_droga\",\"com_droga\",\"com_droga\",\"com_droga\",\"com_droga\",\"com_droga\",\"com_droga\",\"com_droga\",\"com_droga\",\"com_droga\",\"com_droga\",\"com_controle\",\"com_droga\",\"com_droga\",\"com_droga\",\"com_droga\",\"com_droga\",\"com_droga\",\"com_droga\",\"com_droga\",\"com_droga\",\"com_droga\",\"com_droga\",\"com_droga\",\"com_droga\",\"com_droga\",\"com_droga\",\"com_controle\",\"com_droga\",\"com_droga\",\"com_droga\",\"com_controle\",\"com_droga\",\"com_droga\",\"com_droga\",\"com_droga\",\"com_droga\",\"com_droga\",\"com_droga\",\"com_droga\",\"com_droga\",\"com_droga\",\"com_droga\",\"com_droga\",\"com_controle\",\"com_droga\",\"com_droga\",\"com_droga\",\"com_droga\",\"com_droga\",\"com_droga\",\"com_droga\",\"com_droga\",\"com_droga\",\"com_droga\",\"com_droga\",\"com_droga\",\"com_droga\",\"com_droga\",\"com_droga\",\"com_controle\",\"com_droga\",\"com_droga\",\"com_droga\",\"com_droga\",\"com_droga\",\"com_droga\",\"com_droga\",\"com_droga\",\"com_droga\",\"com_droga\",\"com_droga\",\"com_droga\",\"com_droga\",\"com_droga\",\"com_droga\",\"com_droga\",\"com_droga\",\"com_droga\",\"com_droga\",\"com_droga\",\"com_droga\",\"com_droga\",\"com_droga\",\"com_droga\",\"com_droga\",\"com_droga\",\"com_droga\",\"com_droga\",\"com_droga\",\"com_droga\",\"com_droga\",\"com_droga\",\"com_droga\",\"com_droga\",\"com_droga\",\"com_droga\",\"com_droga\",\"com_droga\",\"com_droga\",\"com_droga\",\"com_droga\",\"com_droga\",\"com_controle\",\"com_droga\",\"com_droga\",\"com_droga\",\"com_droga\",\"com_droga\",\"com_droga\",\"com_controle\",\"com_droga\",\"com_droga\",\"com_droga\",\"com_droga\",\"com_droga\",\"com_droga\",\"com_droga\",\"com_droga\",\"com_droga\",\"com_droga\",\"com_droga\",\"com_droga\",\"com_droga\",\"com_droga\",\"com_droga\",\"com_droga\",\"com_droga\",\"com_droga\",\"com_droga\",\"com_droga\",\"com_controle\",\"com_controle\",\"com_droga\",\"com_droga\",\"com_droga\",\"com_droga\",\"com_droga\",\"com_droga\",\"com_droga\",\"com_droga\",\"com_droga\",\"com_droga\",\"com_droga\",\"com_droga\",\"com_droga\",\"com_controle\",\"com_droga\",\"com_droga\",\"com_droga\",\"com_droga\",\"com_droga\",\"com_droga\",\"com_droga\",\"com_droga\",\"com_droga\",\"com_droga\",\"com_controle\",\"com_droga\",\"com_droga\",\"com_controle\",\"com_droga\",\"com_droga\",\"com_droga\",\"com_droga\",\"com_droga\",\"com_droga\",\"com_droga\",\"com_droga\",\"com_droga\",\"com_droga\",\"com_droga\",\"com_droga\",\"com_droga\",\"com_droga\",\"com_controle\",\"com_droga\",\"com_droga\",\"com_controle\",\"com_droga\",\"com_droga\",\"com_droga\",\"com_droga\",\"com_droga\",\"com_droga\",\"com_droga\",\"com_controle\",\"com_droga\",\"com_droga\",\"com_droga\",\"com_droga\",\"com_droga\",\"com_controle\",\"com_droga\",\"com_droga\",\"com_droga\",\"com_droga\",\"com_droga\",\"com_droga\",\"com_droga\",\"com_controle\",\"com_droga\",\"com_droga\",\"com_controle\",\"com_droga\",\"com_droga\",\"com_droga\",\"com_droga\",\"com_controle\",\"com_droga\",\"com_controle\",\"com_droga\",\"com_droga\",\"com_droga\",\"com_droga\",\"com_droga\",\"com_droga\",\"com_droga\",\"com_droga\",\"com_droga\",\"com_controle\",\"com_droga\",\"com_droga\",\"com_droga\",\"com_droga\",\"com_droga\",\"com_droga\",\"com_droga\",\"com_droga\",\"com_droga\",\"com_droga\",\"com_droga\",\"com_droga\",\"com_droga\",\"com_droga\",\"com_droga\",\"com_droga\",\"com_droga\",\"com_droga\",\"com_droga\",\"com_droga\",\"com_droga\",\"com_droga\",\"com_droga\",\"com_droga\",\"com_droga\",\"com_droga\",\"com_droga\",\"com_droga\",\"com_droga\",\"com_droga\",\"com_droga\",\"com_droga\",\"com_droga\",\"com_droga\",\"com_droga\",\"com_controle\",\"com_droga\",\"com_droga\",\"com_droga\",\"com_droga\",\"com_droga\",\"com_droga\",\"com_droga\",\"com_droga\",\"com_droga\",\"com_droga\",\"com_droga\",\"com_controle\",\"com_droga\",\"com_droga\",\"com_droga\",\"com_droga\",\"com_droga\",\"com_droga\",\"com_droga\",\"com_droga\",\"com_droga\",\"com_droga\",\"com_droga\",\"com_droga\",\"com_droga\",\"com_droga\",\"com_droga\",\"com_droga\",\"com_droga\",\"com_droga\",\"com_droga\",\"com_droga\",\"com_droga\",\"com_controle\",\"com_droga\",\"com_droga\",\"com_controle\",\"com_droga\",\"com_droga\",\"com_droga\",\"com_droga\",\"com_droga\",\"com_droga\",\"com_droga\",\"com_droga\",\"com_droga\",\"com_droga\",\"com_droga\",\"com_droga\",\"com_droga\",\"com_droga\",\"com_droga\",\"com_droga\",\"com_droga\",\"com_droga\",\"com_droga\",\"com_droga\",\"com_droga\",\"com_droga\",\"com_droga\",\"com_droga\",\"com_droga\",\"com_droga\",\"com_droga\",\"com_droga\",\"com_droga\",\"com_droga\",\"com_droga\",\"com_controle\",\"com_droga\",\"com_droga\",\"com_droga\",\"com_droga\",\"com_droga\",\"com_droga\",\"com_droga\",\"com_droga\",\"com_droga\",\"com_droga\",\"com_droga\",\"com_droga\",\"com_droga\",\"com_droga\",\"com_droga\",\"com_droga\",\"com_droga\",\"com_droga\",\"com_droga\",\"com_droga\",\"com_droga\",\"com_droga\",\"com_droga\",\"com_droga\",\"com_droga\",\"com_droga\",\"com_droga\",\"com_controle\",\"com_droga\",\"com_droga\",\"com_droga\",\"com_droga\",\"com_droga\",\"com_droga\",\"com_droga\",\"com_droga\",\"com_droga\",\"com_droga\",\"com_droga\",\"com_droga\",\"com_droga\",\"com_droga\",\"com_droga\",\"com_controle\",\"com_droga\",\"com_droga\",\"com_droga\",\"com_droga\",\"com_droga\",\"com_droga\",\"com_droga\",\"com_droga\",\"com_droga\",\"com_droga\",\"com_droga\",\"com_droga\",\"com_controle\",\"com_droga\",\"com_droga\",\"com_droga\",\"com_droga\",\"com_droga\",\"com_droga\",\"com_droga\",\"com_droga\",\"com_droga\",\"com_droga\",\"com_droga\",\"com_droga\",\"com_controle\",\"com_droga\",\"com_droga\",\"com_droga\",\"com_droga\",\"com_droga\",\"com_droga\",\"com_droga\",\"com_droga\",\"com_droga\",\"com_controle\",\"com_droga\",\"com_droga\",\"com_droga\",\"com_droga\",\"com_droga\",\"com_droga\",\"com_droga\",\"com_controle\",\"com_droga\",\"com_droga\",\"com_droga\",\"com_droga\",\"com_droga\",\"com_droga\",\"com_droga\",\"com_controle\",\"com_droga\",\"com_droga\",\"com_controle\",\"com_droga\",\"com_droga\",\"com_droga\",\"com_droga\",\"com_droga\",\"com_droga\",\"com_droga\",\"com_droga\",\"com_droga\",\"com_droga\",\"com_droga\",\"com_droga\",\"com_droga\",\"com_droga\",\"com_droga\",\"com_droga\",\"com_droga\",\"com_droga\",\"com_droga\",\"com_droga\",\"com_droga\",\"com_droga\",\"com_droga\",\"com_droga\",\"com_droga\",\"com_droga\",\"com_droga\",\"com_droga\",\"com_droga\",\"com_controle\",\"com_droga\",\"com_droga\",\"com_droga\",\"com_droga\",\"com_droga\",\"com_droga\",\"com_droga\",\"com_droga\",\"com_droga\",\"com_droga\",\"com_droga\",\"com_droga\",\"com_droga\",\"com_droga\",\"com_droga\",\"com_droga\",\"com_droga\",\"com_droga\",\"com_droga\",\"com_droga\",\"com_droga\",\"com_droga\",\"com_droga\",\"com_droga\",\"com_droga\",\"com_droga\",\"com_droga\",\"com_droga\",\"com_droga\",\"com_droga\",\"com_droga\",\"com_droga\",\"com_droga\",\"com_droga\",\"com_droga\",\"com_droga\",\"com_droga\",\"com_droga\",\"com_droga\",\"com_droga\",\"com_droga\",\"com_droga\",\"com_droga\",\"com_droga\",\"com_droga\",\"com_controle\",\"com_droga\",\"com_droga\",\"com_droga\",\"com_droga\",\"com_controle\",\"com_droga\",\"com_droga\",\"com_droga\",\"com_droga\",\"com_droga\",\"com_droga\",\"com_droga\",\"com_droga\",\"com_droga\",\"com_droga\",\"com_controle\",\"com_droga\",\"com_droga\",\"com_droga\",\"com_droga\",\"com_droga\",\"com_droga\",\"com_droga\",\"com_droga\",\"com_droga\",\"com_droga\",\"com_droga\",\"com_droga\",\"com_droga\",\"com_droga\",\"com_controle\",\"com_droga\",\"com_droga\",\"com_droga\",\"com_droga\",\"com_droga\",\"com_controle\",\"com_droga\",\"com_droga\",\"com_droga\",\"com_droga\",\"com_droga\",\"com_droga\",\"com_droga\",\"com_droga\",\"com_droga\",\"com_droga\",\"com_droga\",\"com_controle\",\"com_controle\",\"com_droga\",\"com_droga\",\"com_droga\",\"com_droga\",\"com_droga\",\"com_droga\",\"com_droga\",\"com_droga\",\"com_droga\",\"com_droga\",\"com_droga\",\"com_droga\",\"com_droga\",\"com_droga\",\"com_droga\",\"com_droga\",\"com_droga\",\"com_droga\",\"com_controle\",\"com_droga\",\"com_droga\",\"com_controle\",\"com_droga\",\"com_droga\",\"com_droga\",\"com_droga\",\"com_controle\",\"com_droga\",\"com_droga\",\"com_droga\",\"com_droga\",\"com_droga\",\"com_droga\",\"com_droga\",\"com_droga\",\"com_droga\",\"com_controle\",\"com_droga\",\"com_droga\",\"com_droga\",\"com_controle\",\"com_droga\",\"com_droga\",\"com_droga\",\"com_droga\",\"com_droga\",\"com_controle\",\"com_droga\",\"com_droga\",\"com_droga\",\"com_droga\",\"com_droga\",\"com_droga\",\"com_droga\",\"com_droga\",\"com_droga\",\"com_controle\",\"com_droga\",\"com_droga\",\"com_droga\",\"com_controle\",\"com_controle\",\"com_controle\",\"com_droga\",\"com_droga\",\"com_droga\",\"com_droga\",\"com_droga\",\"com_droga\",\"com_droga\",\"com_controle\",\"com_droga\",\"com_droga\",\"com_droga\",\"com_droga\",\"com_droga\",\"com_droga\",\"com_droga\",\"com_droga\",\"com_droga\",\"com_droga\",\"com_droga\",\"com_droga\",\"com_droga\",\"com_droga\",\"com_droga\",\"com_controle\",\"com_droga\",\"com_droga\",\"com_droga\",\"com_droga\",\"com_droga\",\"com_controle\",\"com_droga\",\"com_droga\",\"com_droga\",\"com_droga\",\"com_droga\",\"com_droga\",\"com_droga\",\"com_droga\",\"com_droga\",\"com_droga\",\"com_droga\",\"com_droga\",\"com_droga\",\"com_droga\",\"com_droga\",\"com_droga\",\"com_droga\",\"com_droga\",\"com_droga\",\"com_droga\",\"com_droga\",\"com_droga\",\"com_droga\",\"com_droga\",\"com_droga\",\"com_droga\",\"com_droga\",\"com_droga\",\"com_droga\",\"com_droga\",\"com_droga\",\"com_droga\",\"com_droga\",\"com_droga\",\"com_droga\",\"com_droga\",\"com_controle\",\"com_droga\",\"com_droga\",\"com_droga\",\"com_droga\",\"com_controle\",\"com_droga\",\"com_droga\",\"com_droga\",\"com_droga\",\"com_droga\",\"com_droga\",\"com_droga\",\"com_droga\",\"com_droga\",\"com_droga\",\"com_controle\",\"com_droga\",\"com_droga\",\"com_controle\",\"com_droga\",\"com_droga\",\"com_droga\",\"com_controle\",\"com_droga\",\"com_droga\",\"com_droga\",\"com_droga\",\"com_droga\",\"com_controle\",\"com_droga\",\"com_droga\",\"com_droga\",\"com_droga\",\"com_droga\",\"com_droga\",\"com_droga\",\"com_droga\",\"com_droga\",\"com_droga\",\"com_droga\",\"com_droga\",\"com_controle\",\"com_droga\",\"com_droga\",\"com_droga\",\"com_droga\",\"com_droga\",\"com_droga\",\"com_droga\",\"com_droga\",\"com_droga\",\"com_droga\",\"com_droga\",\"com_controle\",\"com_droga\",\"com_droga\",\"com_controle\",\"com_droga\",\"com_droga\",\"com_droga\",\"com_droga\",\"com_droga\",\"com_droga\",\"com_droga\",\"com_droga\",\"com_droga\",\"com_droga\",\"com_droga\",\"com_droga\",\"com_controle\",\"com_controle\",\"com_droga\",\"com_droga\",\"com_droga\",\"com_droga\",\"com_droga\",\"com_droga\",\"com_droga\",\"com_droga\",\"com_droga\",\"com_droga\",\"com_droga\",\"com_droga\",\"com_droga\",\"com_droga\",\"com_droga\",\"com_droga\",\"com_droga\",\"com_droga\",\"com_droga\",\"com_droga\",\"com_droga\",\"com_controle\",\"com_droga\",\"com_droga\",\"com_controle\",\"com_droga\",\"com_droga\",\"com_droga\",\"com_droga\",\"com_controle\",\"com_droga\",\"com_droga\",\"com_droga\",\"com_droga\",\"com_droga\",\"com_droga\",\"com_droga\",\"com_droga\",\"com_droga\",\"com_droga\",\"com_droga\",\"com_droga\",\"com_droga\",\"com_droga\",\"com_droga\",\"com_droga\",\"com_droga\",\"com_droga\",\"com_droga\",\"com_droga\",\"com_droga\",\"com_droga\",\"com_droga\",\"com_droga\",\"com_droga\",\"com_droga\",\"com_droga\",\"com_droga\",\"com_droga\",\"com_controle\",\"com_droga\",\"com_droga\",\"com_controle\",\"com_droga\",\"com_droga\",\"com_droga\",\"com_droga\",\"com_droga\",\"com_droga\",\"com_droga\",\"com_droga\",\"com_droga\",\"com_droga\",\"com_droga\",\"com_droga\",\"com_droga\",\"com_droga\",\"com_droga\",\"com_droga\",\"com_droga\",\"com_droga\",\"com_droga\",\"com_droga\",\"com_droga\",\"com_droga\",\"com_droga\",\"com_droga\",\"com_droga\",\"com_droga\",\"com_droga\",\"com_droga\",\"com_droga\",\"com_droga\",\"com_controle\",\"com_droga\",\"com_droga\",\"com_droga\",\"com_droga\",\"com_droga\",\"com_droga\",\"com_droga\",\"com_droga\",\"com_droga\",\"com_controle\",\"com_droga\",\"com_controle\",\"com_droga\",\"com_droga\",\"com_droga\",\"com_droga\",\"com_droga\",\"com_droga\",\"com_droga\",\"com_droga\",\"com_droga\",\"com_droga\",\"com_droga\",\"com_controle\",\"com_droga\",\"com_droga\",\"com_controle\",\"com_droga\",\"com_droga\",\"com_droga\",\"com_droga\",\"com_droga\",\"com_droga\",\"com_droga\",\"com_droga\",\"com_droga\",\"com_droga\",\"com_droga\",\"com_droga\",\"com_droga\",\"com_droga\",\"com_droga\",\"com_droga\",\"com_droga\",\"com_droga\",\"com_droga\",\"com_droga\",\"com_controle\",\"com_droga\",\"com_droga\",\"com_droga\",\"com_droga\",\"com_droga\",\"com_droga\",\"com_droga\",\"com_controle\",\"com_droga\",\"com_droga\",\"com_droga\",\"com_droga\",\"com_droga\",\"com_droga\",\"com_droga\",\"com_droga\",\"com_droga\",\"com_droga\",\"com_droga\",\"com_droga\",\"com_droga\",\"com_droga\",\"com_droga\",\"com_droga\",\"com_droga\",\"com_droga\",\"com_droga\",\"com_droga\",\"com_droga\",\"com_droga\",\"com_droga\",\"com_droga\",\"com_droga\",\"com_controle\",\"com_droga\",\"com_droga\",\"com_droga\",\"com_droga\",\"com_droga\",\"com_droga\",\"com_droga\",\"com_droga\",\"com_droga\",\"com_droga\",\"com_droga\",\"com_controle\",\"com_droga\",\"com_droga\",\"com_droga\",\"com_droga\",\"com_droga\",\"com_droga\",\"com_droga\",\"com_droga\",\"com_droga\",\"com_droga\",\"com_droga\",\"com_droga\",\"com_droga\",\"com_droga\",\"com_droga\",\"com_droga\",\"com_droga\",\"com_droga\",\"com_droga\",\"com_droga\",\"com_droga\",\"com_droga\",\"com_droga\",\"com_droga\",\"com_droga\",\"com_droga\",\"com_droga\",\"com_droga\",\"com_droga\",\"com_controle\",\"com_droga\",\"com_droga\",\"com_droga\",\"com_droga\",\"com_droga\",\"com_droga\",\"com_droga\",\"com_droga\",\"com_droga\",\"com_droga\",\"com_droga\",\"com_droga\",\"com_droga\",\"com_droga\",\"com_droga\",\"com_controle\",\"com_droga\",\"com_droga\",\"com_droga\",\"com_droga\",\"com_droga\",\"com_droga\",\"com_droga\",\"com_droga\",\"com_controle\",\"com_droga\",\"com_droga\",\"com_droga\",\"com_droga\",\"com_droga\",\"com_droga\",\"com_droga\",\"com_droga\",\"com_droga\",\"com_droga\",\"com_controle\",\"com_droga\",\"com_droga\",\"com_droga\",\"com_controle\",\"com_droga\",\"com_droga\",\"com_controle\",\"com_droga\",\"com_droga\",\"com_droga\",\"com_droga\",\"com_droga\",\"com_droga\",\"com_droga\",\"com_droga\",\"com_droga\",\"com_droga\",\"com_droga\",\"com_droga\",\"com_droga\",\"com_droga\",\"com_droga\",\"com_droga\",\"com_droga\",\"com_droga\",\"com_droga\",\"com_droga\",\"com_controle\",\"com_droga\",\"com_droga\",\"com_controle\",\"com_droga\",\"com_droga\",\"com_droga\",\"com_droga\",\"com_droga\",\"com_droga\",\"com_droga\",\"com_droga\",\"com_droga\",\"com_droga\",\"com_droga\",\"com_droga\",\"com_droga\",\"com_droga\",\"com_droga\",\"com_droga\",\"com_droga\",\"com_droga\",\"com_droga\",\"com_droga\",\"com_droga\",\"com_droga\",\"com_droga\",\"com_controle\",\"com_droga\",\"com_droga\",\"com_controle\",\"com_droga\",\"com_controle\",\"com_droga\",\"com_droga\",\"com_droga\",\"com_droga\",\"com_droga\",\"com_droga\",\"com_droga\",\"com_droga\",\"com_droga\",\"com_droga\",\"com_controle\",\"com_droga\",\"com_droga\",\"com_droga\",\"com_droga\",\"com_droga\",\"com_droga\",\"com_droga\",\"com_droga\",\"com_droga\",\"com_droga\",\"com_controle\",\"com_droga\",\"com_droga\",\"com_droga\",\"com_droga\",\"com_droga\",\"com_droga\",\"com_droga\",\"com_droga\",\"com_droga\",\"com_droga\",\"com_droga\",\"com_droga\",\"com_droga\",\"com_controle\",\"com_droga\",\"com_droga\",\"com_droga\",\"com_droga\",\"com_droga\",\"com_droga\",\"com_droga\",\"com_droga\",\"com_droga\",\"com_droga\",\"com_droga\",\"com_droga\",\"com_droga\",\"com_droga\",\"com_droga\",\"com_droga\",\"com_controle\",\"com_droga\",\"com_droga\",\"com_droga\",\"com_droga\",\"com_droga\",\"com_droga\",\"com_droga\",\"com_droga\",\"com_droga\",\"com_droga\",\"com_droga\",\"com_droga\",\"com_droga\",\"com_droga\",\"com_controle\",\"com_droga\",\"com_droga\",\"com_droga\",\"com_droga\",\"com_droga\",\"com_droga\",\"com_droga\",\"com_droga\",\"com_controle\",\"com_droga\",\"com_droga\",\"com_droga\",\"com_droga\",\"com_droga\",\"com_droga\",\"com_droga\",\"com_droga\",\"com_droga\",\"com_droga\",\"com_droga\",\"com_droga\",\"com_droga\",\"com_droga\",\"com_controle\",\"com_droga\",\"com_droga\",\"com_droga\",\"com_droga\",\"com_droga\",\"com_droga\",\"com_droga\",\"com_droga\",\"com_controle\",\"com_droga\",\"com_droga\",\"com_droga\",\"com_droga\",\"com_droga\",\"com_droga\",\"com_droga\",\"com_droga\",\"com_droga\",\"com_droga\",\"com_droga\",\"com_droga\",\"com_droga\",\"com_droga\",\"com_controle\",\"com_droga\",\"com_droga\",\"com_droga\",\"com_droga\",\"com_controle\",\"com_droga\",\"com_controle\",\"com_droga\",\"com_droga\",\"com_droga\",\"com_droga\",\"com_droga\",\"com_droga\",\"com_droga\",\"com_droga\",\"com_droga\",\"com_droga\",\"com_droga\",\"com_controle\",\"com_droga\",\"com_droga\",\"com_droga\",\"com_droga\",\"com_droga\",\"com_droga\",\"com_droga\",\"com_droga\",\"com_droga\",\"com_droga\",\"com_droga\",\"com_droga\",\"com_droga\",\"com_droga\",\"com_droga\",\"com_droga\",\"com_droga\",\"com_controle\",\"com_controle\",\"com_droga\",\"com_droga\",\"com_controle\",\"com_droga\",\"com_droga\",\"com_droga\",\"com_droga\",\"com_droga\",\"com_droga\",\"com_droga\",\"com_droga\",\"com_droga\",\"com_droga\",\"com_droga\",\"com_droga\",\"com_droga\",\"com_droga\",\"com_droga\",\"com_droga\",\"com_droga\",\"com_controle\",\"com_droga\",\"com_droga\",\"com_droga\",\"com_droga\",\"com_controle\",\"com_droga\",\"com_droga\",\"com_droga\",\"com_controle\",\"com_droga\",\"com_droga\",\"com_droga\",\"com_droga\",\"com_droga\",\"com_droga\",\"com_droga\",\"com_droga\",\"com_droga\",\"com_droga\",\"com_droga\",\"com_controle\",\"com_droga\",\"com_droga\",\"com_droga\",\"com_droga\",\"com_controle\",\"com_droga\",\"com_controle\",\"com_droga\",\"com_droga\",\"com_droga\",\"com_droga\",\"com_droga\",\"com_droga\",\"com_droga\",\"com_droga\",\"com_droga\",\"com_droga\",\"com_droga\",\"com_droga\",\"com_droga\",\"com_droga\",\"com_controle\",\"com_droga\",\"com_droga\",\"com_droga\",\"com_droga\",\"com_droga\",\"com_controle\",\"com_droga\",\"com_controle\",\"com_droga\",\"com_controle\",\"com_droga\",\"com_droga\",\"com_droga\",\"com_droga\",\"com_droga\",\"com_droga\",\"com_droga\",\"com_droga\",\"com_droga\",\"com_droga\",\"com_droga\",\"com_droga\",\"com_droga\",\"com_droga\",\"com_droga\",\"com_droga\",\"com_droga\",\"com_droga\",\"com_droga\",\"com_droga\",\"com_droga\",\"com_droga\",\"com_droga\",\"com_droga\",\"com_droga\",\"com_droga\",\"com_controle\",\"com_droga\",\"com_droga\",\"com_droga\",\"com_controle\",\"com_droga\",\"com_droga\",\"com_droga\",\"com_droga\",\"com_droga\",\"com_droga\",\"com_droga\",\"com_droga\",\"com_droga\",\"com_controle\",\"com_droga\",\"com_droga\",\"com_droga\",\"com_droga\",\"com_droga\",\"com_droga\",\"com_droga\",\"com_droga\",\"com_droga\",\"com_droga\",\"com_droga\",\"com_droga\",\"com_droga\",\"com_controle\",\"com_droga\",\"com_droga\",\"com_droga\",\"com_droga\",\"com_droga\",\"com_droga\",\"com_droga\",\"com_droga\",\"com_droga\",\"com_droga\",\"com_droga\",\"com_droga\",\"com_droga\",\"com_controle\",\"com_droga\",\"com_droga\",\"com_droga\",\"com_droga\",\"com_droga\",\"com_droga\",\"com_droga\",\"com_droga\",\"com_droga\",\"com_droga\",\"com_droga\",\"com_droga\",\"com_droga\",\"com_droga\",\"com_droga\",\"com_controle\",\"com_droga\",\"com_droga\",\"com_droga\",\"com_droga\",\"com_droga\",\"com_droga\",\"com_droga\",\"com_droga\",\"com_droga\",\"com_droga\",\"com_droga\",\"com_controle\",\"com_droga\",\"com_controle\",\"com_controle\",\"com_droga\",\"com_droga\",\"com_droga\",\"com_droga\",\"com_droga\",\"com_droga\",\"com_droga\",\"com_droga\",\"com_droga\",\"com_controle\",\"com_droga\",\"com_droga\",\"com_droga\",\"com_droga\",\"com_droga\",\"com_droga\",\"com_controle\",\"com_droga\",\"com_droga\",\"com_droga\",\"com_droga\",\"com_droga\",\"com_droga\",\"com_droga\",\"com_droga\",\"com_droga\",\"com_droga\",\"com_droga\",\"com_droga\",\"com_droga\",\"com_droga\",\"com_droga\",\"com_droga\",\"com_droga\",\"com_droga\",\"com_droga\",\"com_droga\",\"com_droga\",\"com_droga\",\"com_droga\",\"com_droga\",\"com_droga\",\"com_droga\",\"com_droga\",\"com_controle\",\"com_controle\",\"com_droga\",\"com_droga\",\"com_droga\",\"com_droga\",\"com_droga\",\"com_droga\",\"com_droga\",\"com_controle\",\"com_droga\",\"com_droga\",\"com_droga\",\"com_droga\",\"com_droga\",\"com_droga\",\"com_droga\",\"com_droga\",\"com_droga\",\"com_droga\",\"com_droga\",\"com_droga\",\"com_droga\",\"com_droga\",\"com_droga\",\"com_droga\",\"com_droga\",\"com_droga\",\"com_droga\",\"com_droga\",\"com_droga\",\"com_droga\",\"com_droga\",\"com_droga\",\"com_droga\",\"com_droga\",\"com_droga\",\"com_droga\",\"com_droga\",\"com_droga\",\"com_droga\",\"com_droga\",\"com_droga\",\"com_controle\",\"com_droga\",\"com_droga\",\"com_droga\",\"com_droga\",\"com_droga\",\"com_droga\",\"com_droga\",\"com_droga\",\"com_droga\",\"com_droga\",\"com_droga\",\"com_droga\",\"com_droga\",\"com_droga\",\"com_droga\",\"com_droga\",\"com_droga\",\"com_droga\",\"com_droga\",\"com_droga\",\"com_droga\",\"com_droga\",\"com_droga\",\"com_droga\",\"com_droga\",\"com_droga\",\"com_droga\",\"com_droga\",\"com_droga\",\"com_controle\",\"com_droga\",\"com_controle\",\"com_droga\",\"com_droga\",\"com_droga\",\"com_droga\",\"com_droga\",\"com_droga\",\"com_controle\",\"com_droga\",\"com_droga\",\"com_droga\",\"com_droga\",\"com_droga\",\"com_droga\",\"com_droga\",\"com_droga\",\"com_droga\",\"com_droga\",\"com_droga\",\"com_droga\",\"com_droga\",\"com_droga\",\"com_droga\",\"com_droga\",\"com_droga\",\"com_droga\",\"com_droga\",\"com_droga\",\"com_droga\",\"com_droga\",\"com_droga\",\"com_controle\",\"com_droga\",\"com_droga\",\"com_droga\",\"com_droga\",\"com_droga\",\"com_droga\",\"com_droga\",\"com_droga\",\"com_droga\",\"com_droga\",\"com_droga\",\"com_droga\",\"com_droga\",\"com_droga\",\"com_droga\",\"com_controle\",\"com_droga\",\"com_droga\",\"com_droga\",\"com_controle\",\"com_droga\",\"com_droga\",\"com_droga\",\"com_droga\",\"com_droga\",\"com_droga\",\"com_droga\",\"com_controle\",\"com_droga\",\"com_droga\",\"com_droga\",\"com_droga\",\"com_droga\",\"com_droga\",\"com_droga\",\"com_droga\",\"com_droga\",\"com_droga\",\"com_droga\",\"com_controle\",\"com_controle\",\"com_droga\",\"com_controle\",\"com_droga\",\"com_droga\",\"com_droga\",\"com_droga\",\"com_droga\",\"com_droga\",\"com_droga\",\"com_droga\",\"com_droga\",\"com_droga\",\"com_droga\",\"com_droga\",\"com_droga\",\"com_droga\",\"com_droga\",\"com_droga\",\"com_droga\",\"com_droga\",\"com_droga\",\"com_droga\",\"com_droga\",\"com_droga\",\"com_droga\",\"com_droga\",\"com_droga\",\"com_droga\",\"com_droga\",\"com_droga\",\"com_droga\",\"com_droga\",\"com_droga\",\"com_droga\",\"com_droga\",\"com_droga\",\"com_droga\",\"com_droga\",\"com_droga\",\"com_droga\",\"com_droga\",\"com_droga\",\"com_droga\",\"com_droga\",\"com_droga\",\"com_controle\",\"com_droga\",\"com_droga\",\"com_droga\",\"com_controle\",\"com_droga\",\"com_droga\",\"com_droga\",\"com_droga\",\"com_droga\",\"com_droga\",\"com_droga\",\"com_droga\",\"com_droga\",\"com_droga\",\"com_droga\",\"com_droga\",\"com_droga\",\"com_droga\",\"com_controle\",\"com_droga\",\"com_controle\",\"com_droga\",\"com_droga\",\"com_droga\",\"com_droga\",\"com_droga\",\"com_droga\",\"com_controle\",\"com_controle\",\"com_droga\",\"com_droga\",\"com_droga\",\"com_droga\",\"com_droga\",\"com_droga\",\"com_droga\",\"com_droga\",\"com_droga\",\"com_droga\",\"com_droga\",\"com_droga\",\"com_droga\",\"com_droga\",\"com_droga\",\"com_droga\",\"com_droga\",\"com_droga\",\"com_droga\",\"com_droga\",\"com_droga\",\"com_droga\",\"com_droga\",\"com_droga\",\"com_droga\",\"com_droga\",\"com_droga\",\"com_droga\",\"com_droga\",\"com_droga\",\"com_droga\",\"com_droga\",\"com_droga\",\"com_droga\",\"com_droga\",\"com_droga\",\"com_droga\",\"com_droga\",\"com_droga\",\"com_droga\",\"com_droga\",\"com_droga\",\"com_droga\",\"com_droga\",\"com_droga\",\"com_droga\",\"com_droga\",\"com_droga\",\"com_droga\",\"com_droga\",\"com_droga\",\"com_controle\",\"com_droga\",\"com_droga\",\"com_droga\",\"com_droga\",\"com_droga\",\"com_controle\",\"com_controle\",\"com_droga\",\"com_droga\",\"com_droga\",\"com_droga\",\"com_droga\",\"com_droga\",\"com_droga\",\"com_droga\",\"com_droga\",\"com_droga\",\"com_droga\",\"com_droga\",\"com_controle\",\"com_droga\",\"com_droga\",\"com_droga\",\"com_droga\",\"com_droga\",\"com_droga\",\"com_droga\",\"com_droga\",\"com_droga\",\"com_droga\",\"com_droga\",\"com_droga\",\"com_controle\",\"com_droga\",\"com_droga\",\"com_droga\",\"com_droga\",\"com_droga\",\"com_droga\",\"com_droga\",\"com_droga\",\"com_controle\",\"com_droga\",\"com_droga\",\"com_droga\",\"com_droga\",\"com_droga\",\"com_controle\",\"com_droga\",\"com_droga\",\"com_droga\",\"com_droga\",\"com_controle\",\"com_droga\",\"com_droga\",\"com_droga\",\"com_droga\",\"com_droga\",\"com_droga\",\"com_droga\",\"com_droga\",\"com_droga\",\"com_droga\",\"com_droga\",\"com_droga\",\"com_droga\",\"com_droga\",\"com_controle\",\"com_droga\",\"com_droga\",\"com_droga\",\"com_droga\",\"com_droga\",\"com_droga\",\"com_controle\",\"com_droga\",\"com_droga\",\"com_droga\",\"com_droga\",\"com_droga\",\"com_droga\",\"com_droga\",\"com_controle\",\"com_droga\",\"com_droga\",\"com_controle\",\"com_droga\",\"com_droga\",\"com_droga\",\"com_droga\",\"com_droga\",\"com_droga\",\"com_droga\",\"com_droga\",\"com_droga\",\"com_droga\",\"com_droga\",\"com_droga\",\"com_droga\",\"com_droga\",\"com_droga\",\"com_droga\",\"com_controle\",\"com_droga\",\"com_droga\",\"com_droga\",\"com_controle\",\"com_droga\",\"com_droga\",\"com_droga\",\"com_droga\",\"com_droga\",\"com_droga\",\"com_droga\",\"com_droga\",\"com_droga\",\"com_droga\",\"com_droga\",\"com_droga\",\"com_droga\",\"com_droga\",\"com_droga\",\"com_droga\",\"com_controle\",\"com_droga\",\"com_droga\",\"com_droga\",\"com_droga\",\"com_droga\",\"com_droga\",\"com_droga\",\"com_droga\",\"com_droga\",\"com_droga\",\"com_droga\",\"com_droga\",\"com_droga\",\"com_droga\",\"com_droga\",\"com_droga\",\"com_droga\",\"com_droga\",\"com_controle\",\"com_droga\",\"com_droga\",\"com_droga\",\"com_droga\",\"com_controle\",\"com_droga\",\"com_controle\",\"com_droga\",\"com_droga\",\"com_droga\",\"com_droga\",\"com_droga\",\"com_droga\",\"com_droga\",\"com_droga\",\"com_droga\",\"com_droga\",\"com_controle\",\"com_droga\",\"com_droga\",\"com_droga\",\"com_droga\",\"com_droga\",\"com_droga\",\"com_droga\",\"com_droga\",\"com_droga\",\"com_droga\",\"com_droga\",\"com_droga\",\"com_droga\",\"com_droga\",\"com_droga\",\"com_droga\",\"com_droga\",\"com_droga\",\"com_droga\",\"com_droga\",\"com_droga\",\"com_droga\",\"com_droga\",\"com_droga\",\"com_droga\",\"com_droga\",\"com_droga\",\"com_droga\",\"com_droga\",\"com_controle\",\"com_controle\",\"com_droga\",\"com_controle\",\"com_droga\",\"com_droga\",\"com_droga\",\"com_droga\",\"com_controle\",\"com_controle\",\"com_droga\",\"com_droga\",\"com_droga\",\"com_droga\",\"com_droga\",\"com_droga\",\"com_droga\",\"com_droga\",\"com_droga\",\"com_droga\",\"com_droga\",\"com_droga\",\"com_droga\",\"com_droga\",\"com_controle\",\"com_droga\",\"com_droga\",\"com_droga\",\"com_droga\",\"com_droga\",\"com_droga\",\"com_droga\",\"com_droga\",\"com_droga\",\"com_droga\",\"com_droga\",\"com_droga\",\"com_droga\",\"com_droga\",\"com_droga\",\"com_droga\",\"com_droga\",\"com_droga\",\"com_controle\",\"com_droga\",\"com_droga\",\"com_controle\",\"com_droga\",\"com_controle\",\"com_droga\",\"com_droga\",\"com_droga\",\"com_droga\",\"com_droga\",\"com_controle\",\"com_droga\",\"com_droga\",\"com_droga\",\"com_droga\",\"com_droga\",\"com_controle\",\"com_controle\",\"com_droga\",\"com_droga\",\"com_droga\",\"com_droga\",\"com_droga\",\"com_droga\",\"com_droga\",\"com_droga\",\"com_droga\",\"com_droga\",\"com_droga\",\"com_droga\",\"com_droga\",\"com_droga\",\"com_droga\",\"com_droga\",\"com_droga\",\"com_droga\",\"com_droga\",\"com_droga\",\"com_droga\",\"com_droga\",\"com_droga\",\"com_droga\",\"com_droga\",\"com_droga\",\"com_droga\",\"com_droga\",\"com_droga\",\"com_droga\",\"com_droga\",\"com_droga\",\"com_droga\",\"com_droga\",\"com_droga\",\"com_droga\",\"com_droga\",\"com_droga\",\"com_droga\",\"com_droga\",\"com_controle\",\"com_droga\",\"com_droga\",\"com_droga\",\"com_droga\",\"com_droga\",\"com_droga\",\"com_droga\",\"com_droga\",\"com_controle\",\"com_droga\",\"com_droga\",\"com_droga\",\"com_droga\",\"com_droga\",\"com_droga\",\"com_controle\",\"com_controle\",\"com_droga\",\"com_droga\",\"com_droga\",\"com_droga\",\"com_droga\",\"com_droga\",\"com_droga\",\"com_droga\",\"com_droga\",\"com_droga\",\"com_droga\",\"com_droga\",\"com_droga\",\"com_droga\",\"com_droga\",\"com_droga\",\"com_droga\",\"com_droga\",\"com_droga\",\"com_droga\",\"com_droga\",\"com_droga\",\"com_droga\",\"com_droga\",\"com_droga\",\"com_droga\",\"com_droga\",\"com_droga\",\"com_controle\",\"com_controle\",\"com_droga\",\"com_droga\",\"com_droga\",\"com_controle\",\"com_droga\",\"com_droga\",\"com_droga\",\"com_droga\",\"com_controle\",\"com_droga\",\"com_droga\",\"com_droga\",\"com_droga\",\"com_droga\",\"com_droga\",\"com_droga\",\"com_droga\",\"com_droga\",\"com_droga\",\"com_droga\",\"com_droga\",\"com_droga\",\"com_droga\",\"com_droga\",\"com_droga\",\"com_droga\",\"com_droga\",\"com_controle\",\"com_droga\",\"com_droga\",\"com_droga\",\"com_droga\",\"com_droga\",\"com_controle\",\"com_droga\",\"com_droga\",\"com_droga\",\"com_droga\",\"com_droga\",\"com_droga\",\"com_droga\",\"com_droga\",\"com_droga\",\"com_droga\",\"com_droga\",\"com_droga\",\"com_droga\",\"com_droga\",\"com_droga\",\"com_controle\",\"com_droga\",\"com_droga\",\"com_droga\",\"com_droga\",\"com_droga\",\"com_droga\",\"com_droga\",\"com_droga\",\"com_droga\",\"com_droga\",\"com_droga\",\"com_controle\",\"com_droga\",\"com_droga\",\"com_droga\",\"com_droga\",\"com_controle\",\"com_droga\",\"com_droga\",\"com_droga\",\"com_droga\",\"com_droga\",\"com_droga\",\"com_droga\",\"com_droga\",\"com_droga\",\"com_droga\",\"com_droga\",\"com_controle\",\"com_droga\",\"com_droga\",\"com_droga\",\"com_droga\",\"com_droga\",\"com_droga\",\"com_droga\",\"com_droga\",\"com_droga\",\"com_droga\",\"com_droga\",\"com_droga\",\"com_droga\",\"com_droga\",\"com_droga\",\"com_droga\",\"com_droga\",\"com_droga\",\"com_droga\",\"com_droga\",\"com_droga\",\"com_droga\",\"com_droga\",\"com_droga\",\"com_controle\",\"com_droga\",\"com_droga\",\"com_droga\",\"com_droga\",\"com_droga\",\"com_droga\",\"com_droga\",\"com_droga\",\"com_droga\",\"com_droga\",\"com_controle\",\"com_droga\",\"com_droga\",\"com_droga\",\"com_droga\",\"com_droga\",\"com_droga\",\"com_droga\",\"com_droga\",\"com_droga\",\"com_controle\",\"com_droga\",\"com_droga\",\"com_droga\",\"com_droga\",\"com_droga\",\"com_droga\",\"com_droga\",\"com_droga\",\"com_droga\",\"com_droga\",\"com_droga\",\"com_droga\",\"com_controle\",\"com_droga\",\"com_droga\",\"com_droga\",\"com_droga\",\"com_droga\",\"com_droga\",\"com_droga\",\"com_droga\",\"com_droga\",\"com_droga\",\"com_droga\",\"com_droga\",\"com_droga\",\"com_droga\",\"com_controle\",\"com_droga\",\"com_droga\",\"com_controle\",\"com_controle\",\"com_droga\",\"com_droga\",\"com_droga\",\"com_droga\",\"com_droga\",\"com_controle\",\"com_droga\",\"com_droga\",\"com_droga\",\"com_droga\",\"com_droga\",\"com_droga\",\"com_droga\",\"com_droga\",\"com_droga\",\"com_droga\",\"com_droga\",\"com_droga\",\"com_droga\",\"com_droga\",\"com_droga\",\"com_droga\",\"com_droga\",\"com_droga\",\"com_droga\",\"com_droga\",\"com_droga\",\"com_droga\",\"com_droga\",\"com_droga\",\"com_droga\",\"com_droga\",\"com_droga\",\"com_droga\",\"com_droga\",\"com_droga\",\"com_droga\",\"com_controle\",\"com_droga\",\"com_droga\",\"com_droga\",\"com_droga\",\"com_droga\",\"com_droga\",\"com_droga\",\"com_droga\",\"com_droga\",\"com_droga\",\"com_droga\",\"com_droga\",\"com_droga\",\"com_droga\",\"com_droga\",\"com_droga\",\"com_droga\",\"com_droga\",\"com_droga\",\"com_droga\",\"com_droga\",\"com_droga\",\"com_droga\",\"com_controle\",\"com_droga\",\"com_droga\",\"com_droga\",\"com_droga\",\"com_droga\",\"com_droga\",\"com_droga\",\"com_droga\",\"com_droga\",\"com_droga\",\"com_droga\",\"com_droga\",\"com_droga\",\"com_droga\",\"com_droga\",\"com_droga\",\"com_controle\",\"com_droga\",\"com_droga\",\"com_controle\",\"com_droga\",\"com_droga\",\"com_droga\",\"com_droga\",\"com_controle\",\"com_droga\",\"com_droga\",\"com_droga\",\"com_droga\",\"com_droga\",\"com_droga\",\"com_droga\",\"com_droga\",\"com_droga\",\"com_droga\",\"com_droga\",\"com_droga\",\"com_droga\",\"com_droga\",\"com_droga\",\"com_droga\",\"com_droga\",\"com_droga\",\"com_droga\",\"com_droga\",\"com_droga\",\"com_droga\",\"com_controle\",\"com_droga\",\"com_droga\",\"com_droga\",\"com_droga\",\"com_droga\",\"com_droga\",\"com_droga\",\"com_droga\",\"com_droga\",\"com_droga\",\"com_droga\",\"com_droga\",\"com_droga\",\"com_droga\",\"com_droga\",\"com_droga\",\"com_droga\",\"com_droga\",\"com_droga\",\"com_droga\",\"com_droga\",\"com_droga\",\"com_droga\",\"com_droga\",\"com_droga\",\"com_droga\",\"com_droga\",\"com_droga\",\"com_droga\",\"com_droga\",\"com_controle\",\"com_droga\",\"com_droga\",\"com_droga\",\"com_droga\",\"com_controle\",\"com_controle\",\"com_droga\",\"com_controle\",\"com_droga\",\"com_droga\",\"com_droga\",\"com_droga\",\"com_droga\",\"com_droga\",\"com_droga\",\"com_droga\",\"com_controle\",\"com_droga\",\"com_droga\",\"com_droga\",\"com_droga\",\"com_droga\",\"com_droga\",\"com_droga\",\"com_droga\",\"com_droga\",\"com_droga\",\"com_droga\",\"com_droga\",\"com_droga\",\"com_droga\",\"com_droga\",\"com_droga\",\"com_droga\",\"com_droga\",\"com_droga\",\"com_droga\",\"com_droga\",\"com_droga\",\"com_droga\",\"com_droga\",\"com_droga\",\"com_controle\",\"com_droga\",\"com_droga\",\"com_controle\",\"com_controle\",\"com_controle\",\"com_controle\",\"com_droga\",\"com_droga\",\"com_droga\",\"com_droga\",\"com_droga\",\"com_droga\",\"com_droga\",\"com_droga\",\"com_droga\",\"com_droga\",\"com_droga\",\"com_controle\",\"com_droga\",\"com_droga\",\"com_droga\",\"com_droga\",\"com_droga\",\"com_droga\",\"com_droga\",\"com_droga\",\"com_droga\",\"com_droga\",\"com_droga\",\"com_droga\",\"com_controle\",\"com_controle\",\"com_droga\",\"com_droga\",\"com_droga\",\"com_droga\",\"com_droga\",\"com_droga\",\"com_droga\",\"com_droga\",\"com_droga\",\"com_droga\",\"com_droga\",\"com_droga\",\"com_droga\",\"com_droga\",\"com_controle\",\"com_controle\",\"com_droga\",\"com_droga\",\"com_droga\",\"com_droga\",\"com_droga\",\"com_droga\",\"com_droga\",\"com_droga\",\"com_droga\",\"com_droga\",\"com_droga\",\"com_droga\",\"com_droga\",\"com_droga\",\"com_droga\",\"com_droga\",\"com_droga\",\"com_droga\",\"com_droga\",\"com_droga\",\"com_droga\",\"com_droga\",\"com_droga\",\"com_droga\",\"com_droga\",\"com_controle\",\"com_droga\",\"com_droga\",\"com_droga\",\"com_droga\",\"com_droga\",\"com_droga\",\"com_droga\",\"com_droga\",\"com_droga\",\"com_droga\",\"com_droga\",\"com_droga\",\"com_droga\",\"com_droga\",\"com_droga\",\"com_droga\",\"com_droga\",\"com_droga\",\"com_droga\",\"com_droga\",\"com_droga\",\"com_droga\",\"com_droga\",\"com_droga\",\"com_droga\",\"com_droga\",\"com_droga\",\"com_droga\",\"com_droga\",\"com_droga\",\"com_droga\",\"com_droga\",\"com_droga\",\"com_droga\",\"com_droga\",\"com_droga\",\"com_droga\",\"com_droga\",\"com_droga\",\"com_droga\",\"com_controle\",\"com_droga\",\"com_droga\",\"com_controle\",\"com_droga\",\"com_droga\",\"com_controle\",\"com_droga\",\"com_droga\",\"com_droga\",\"com_droga\",\"com_droga\",\"com_droga\",\"com_droga\",\"com_droga\",\"com_droga\",\"com_droga\",\"com_droga\",\"com_droga\",\"com_droga\",\"com_droga\",\"com_droga\",\"com_droga\",\"com_droga\",\"com_droga\",\"com_droga\",\"com_droga\",\"com_droga\",\"com_droga\",\"com_droga\",\"com_droga\",\"com_droga\",\"com_droga\",\"com_droga\",\"com_droga\",\"com_droga\",\"com_controle\",\"com_droga\",\"com_droga\",\"com_droga\",\"com_droga\",\"com_droga\",\"com_droga\",\"com_droga\",\"com_droga\",\"com_droga\",\"com_droga\",\"com_droga\",\"com_droga\",\"com_droga\",\"com_controle\",\"com_droga\",\"com_droga\",\"com_droga\",\"com_droga\",\"com_droga\",\"com_droga\",\"com_droga\",\"com_droga\",\"com_droga\",\"com_droga\",\"com_droga\",\"com_droga\",\"com_droga\",\"com_droga\",\"com_droga\",\"com_droga\",\"com_droga\",\"com_droga\",\"com_droga\",\"com_droga\",\"com_droga\",\"com_droga\",\"com_droga\",\"com_droga\",\"com_droga\",\"com_droga\",\"com_droga\",\"com_droga\",\"com_droga\",\"com_droga\",\"com_droga\",\"com_droga\",\"com_droga\",\"com_droga\",\"com_droga\",\"com_droga\",\"com_droga\",\"com_droga\",\"com_droga\",\"com_droga\",\"com_droga\",\"com_droga\",\"com_droga\",\"com_droga\",\"com_droga\",\"com_droga\",\"com_controle\",\"com_droga\",\"com_droga\",\"com_droga\",\"com_controle\",\"com_droga\",\"com_droga\",\"com_droga\",\"com_droga\",\"com_droga\",\"com_droga\",\"com_droga\",\"com_droga\",\"com_droga\",\"com_droga\",\"com_droga\",\"com_controle\",\"com_droga\",\"com_droga\",\"com_droga\",\"com_droga\",\"com_droga\",\"com_droga\",\"com_droga\",\"com_droga\",\"com_droga\",\"com_droga\",\"com_droga\",\"com_droga\",\"com_droga\",\"com_droga\",\"com_droga\",\"com_droga\",\"com_droga\",\"com_droga\",\"com_droga\",\"com_droga\",\"com_droga\",\"com_droga\",\"com_droga\",\"com_droga\",\"com_droga\",\"com_droga\",\"com_droga\",\"com_droga\",\"com_droga\",\"com_droga\",\"com_droga\",\"com_droga\",\"com_droga\",\"com_droga\",\"com_droga\",\"com_controle\",\"com_droga\",\"com_droga\",\"com_droga\",\"com_droga\",\"com_droga\",\"com_droga\",\"com_droga\",\"com_droga\",\"com_droga\",\"com_droga\",\"com_droga\",\"com_droga\",\"com_droga\",\"com_droga\",\"com_droga\",\"com_droga\",\"com_droga\",\"com_droga\",\"com_droga\",\"com_droga\",\"com_droga\",\"com_droga\",\"com_droga\",\"com_droga\",\"com_droga\",\"com_droga\",\"com_droga\",\"com_droga\",\"com_droga\",\"com_droga\",\"com_droga\",\"com_droga\",\"com_droga\",\"com_droga\",\"com_controle\",\"com_controle\",\"com_droga\",\"com_droga\",\"com_droga\",\"com_droga\",\"com_droga\",\"com_droga\",\"com_droga\",\"com_droga\",\"com_droga\",\"com_droga\",\"com_droga\",\"com_droga\",\"com_droga\",\"com_droga\",\"com_droga\",\"com_droga\",\"com_droga\",\"com_droga\",\"com_droga\",\"com_droga\",\"com_droga\",\"com_droga\",\"com_droga\",\"com_droga\",\"com_controle\",\"com_droga\",\"com_droga\",\"com_droga\",\"com_droga\",\"com_droga\",\"com_droga\",\"com_droga\",\"com_droga\",\"com_droga\",\"com_controle\",\"com_droga\",\"com_droga\",\"com_droga\",\"com_droga\",\"com_controle\",\"com_droga\",\"com_controle\",\"com_droga\",\"com_droga\",\"com_droga\",\"com_droga\",\"com_droga\",\"com_droga\",\"com_droga\",\"com_droga\",\"com_controle\",\"com_droga\",\"com_droga\",\"com_droga\",\"com_droga\",\"com_droga\",\"com_droga\",\"com_droga\",\"com_droga\",\"com_droga\",\"com_droga\",\"com_droga\",\"com_droga\",\"com_droga\",\"com_droga\",\"com_controle\",\"com_droga\",\"com_droga\",\"com_droga\",\"com_droga\",\"com_droga\",\"com_droga\",\"com_droga\",\"com_controle\",\"com_droga\",\"com_controle\",\"com_droga\",\"com_droga\",\"com_droga\",\"com_droga\",\"com_droga\",\"com_droga\",\"com_droga\",\"com_controle\",\"com_droga\",\"com_droga\",\"com_droga\",\"com_droga\",\"com_controle\",\"com_droga\",\"com_droga\",\"com_controle\",\"com_droga\",\"com_droga\",\"com_droga\",\"com_droga\",\"com_droga\",\"com_droga\",\"com_droga\",\"com_droga\",\"com_droga\",\"com_controle\",\"com_droga\",\"com_droga\",\"com_droga\",\"com_droga\",\"com_droga\",\"com_droga\",\"com_droga\",\"com_droga\",\"com_droga\",\"com_droga\",\"com_droga\",\"com_droga\",\"com_droga\",\"com_droga\",\"com_droga\",\"com_droga\",\"com_droga\",\"com_droga\",\"com_droga\",\"com_droga\",\"com_droga\",\"com_droga\",\"com_droga\",\"com_droga\",\"com_controle\",\"com_controle\",\"com_droga\",\"com_droga\",\"com_droga\",\"com_droga\",\"com_droga\",\"com_droga\",\"com_droga\",\"com_droga\",\"com_droga\",\"com_droga\",\"com_droga\",\"com_droga\",\"com_droga\",\"com_droga\",\"com_droga\",\"com_droga\",\"com_droga\",\"com_droga\",\"com_droga\",\"com_droga\",\"com_droga\",\"com_droga\",\"com_droga\",\"com_droga\",\"com_controle\",\"com_droga\",\"com_droga\",\"com_droga\",\"com_droga\",\"com_droga\",\"com_droga\",\"com_droga\",\"com_controle\",\"com_droga\",\"com_droga\",\"com_droga\",\"com_controle\",\"com_droga\",\"com_droga\",\"com_droga\",\"com_droga\",\"com_droga\",\"com_droga\",\"com_droga\",\"com_droga\",\"com_droga\",\"com_droga\",\"com_droga\",\"com_controle\",\"com_droga\",\"com_droga\",\"com_droga\",\"com_droga\",\"com_droga\",\"com_droga\",\"com_droga\",\"com_droga\",\"com_droga\",\"com_droga\",\"com_droga\",\"com_controle\",\"com_droga\",\"com_droga\",\"com_droga\",\"com_droga\",\"com_droga\",\"com_droga\",\"com_droga\",\"com_droga\",\"com_droga\",\"com_droga\",\"com_droga\",\"com_droga\",\"com_droga\",\"com_droga\",\"com_droga\",\"com_droga\",\"com_droga\",\"com_droga\",\"com_droga\",\"com_droga\",\"com_droga\",\"com_droga\",\"com_droga\",\"com_droga\",\"com_droga\",\"com_droga\",\"com_droga\",\"com_droga\",\"com_droga\",\"com_droga\",\"com_droga\",\"com_controle\",\"com_controle\",\"com_droga\",\"com_controle\",\"com_droga\",\"com_droga\",\"com_droga\",\"com_controle\",\"com_droga\",\"com_droga\",\"com_controle\",\"com_droga\",\"com_droga\",\"com_droga\",\"com_droga\",\"com_droga\",\"com_droga\",\"com_droga\",\"com_droga\",\"com_droga\",\"com_droga\",\"com_droga\",\"com_controle\",\"com_droga\",\"com_droga\",\"com_droga\",\"com_droga\",\"com_droga\",\"com_droga\",\"com_controle\",\"com_droga\",\"com_droga\",\"com_droga\",\"com_droga\",\"com_droga\",\"com_droga\",\"com_droga\",\"com_droga\",\"com_droga\",\"com_droga\",\"com_droga\",\"com_droga\",\"com_droga\",\"com_droga\",\"com_droga\",\"com_droga\",\"com_droga\",\"com_droga\",\"com_droga\",\"com_droga\",\"com_droga\",\"com_droga\",\"com_droga\",\"com_droga\",\"com_droga\",\"com_droga\",\"com_droga\",\"com_droga\",\"com_droga\",\"com_droga\",\"com_droga\",\"com_droga\",\"com_droga\",\"com_droga\",\"com_droga\",\"com_droga\",\"com_droga\",\"com_controle\",\"com_droga\",\"com_droga\",\"com_droga\",\"com_droga\",\"com_controle\",\"com_droga\",\"com_droga\",\"com_droga\",\"com_droga\",\"com_droga\",\"com_droga\",\"com_droga\",\"com_droga\",\"com_droga\",\"com_droga\",\"com_droga\",\"com_droga\",\"com_droga\",\"com_droga\",\"com_droga\",\"com_droga\",\"com_droga\",\"com_droga\",\"com_droga\",\"com_controle\",\"com_droga\",\"com_droga\",\"com_droga\",\"com_droga\",\"com_droga\",\"com_droga\",\"com_droga\",\"com_droga\",\"com_droga\",\"com_droga\",\"com_droga\",\"com_droga\",\"com_droga\",\"com_droga\",\"com_droga\",\"com_droga\",\"com_droga\",\"com_droga\",\"com_droga\",\"com_droga\",\"com_droga\",\"com_droga\",\"com_droga\",\"com_droga\",\"com_droga\",\"com_droga\",\"com_droga\",\"com_droga\",\"com_droga\",\"com_droga\",\"com_droga\",\"com_droga\",\"com_droga\",\"com_droga\",\"com_droga\",\"com_droga\",\"com_droga\",\"com_droga\",\"com_droga\",\"com_droga\",\"com_droga\",\"com_droga\",\"com_droga\",\"com_droga\",\"com_droga\",\"com_droga\",\"com_droga\",\"com_droga\",\"com_droga\",\"com_droga\",\"com_droga\",\"com_droga\",\"com_droga\",\"com_droga\",\"com_controle\",\"com_droga\",\"com_droga\",\"com_droga\",\"com_droga\",\"com_droga\",\"com_droga\",\"com_droga\",\"com_droga\",\"com_droga\",\"com_droga\",\"com_controle\",\"com_droga\",\"com_droga\",\"com_droga\",\"com_droga\",\"com_droga\",\"com_droga\",\"com_droga\",\"com_droga\",\"com_droga\",\"com_droga\",\"com_droga\",\"com_droga\",\"com_droga\",\"com_droga\",\"com_controle\",\"com_droga\",\"com_droga\",\"com_droga\",\"com_droga\",\"com_controle\",\"com_droga\",\"com_droga\",\"com_droga\",\"com_droga\",\"com_droga\",\"com_droga\",\"com_droga\",\"com_droga\",\"com_droga\",\"com_droga\",\"com_droga\",\"com_droga\",\"com_droga\",\"com_droga\",\"com_droga\",\"com_droga\",\"com_droga\",\"com_controle\",\"com_droga\",\"com_droga\",\"com_droga\",\"com_droga\",\"com_controle\",\"com_droga\",\"com_droga\",\"com_droga\",\"com_droga\",\"com_droga\",\"com_droga\",\"com_droga\",\"com_droga\",\"com_controle\",\"com_droga\",\"com_droga\",\"com_droga\",\"com_droga\",\"com_controle\",\"com_droga\",\"com_droga\",\"com_droga\",\"com_droga\",\"com_droga\",\"com_droga\",\"com_droga\",\"com_droga\",\"com_droga\",\"com_droga\",\"com_droga\",\"com_droga\",\"com_droga\",\"com_droga\",\"com_droga\",\"com_droga\",\"com_droga\",\"com_droga\",\"com_droga\",\"com_droga\",\"com_droga\",\"com_droga\",\"com_droga\",\"com_controle\",\"com_droga\",\"com_droga\",\"com_droga\",\"com_droga\",\"com_controle\",\"com_droga\",\"com_controle\",\"com_droga\",\"com_droga\",\"com_droga\",\"com_controle\",\"com_droga\",\"com_droga\",\"com_droga\",\"com_droga\",\"com_droga\",\"com_droga\",\"com_controle\",\"com_droga\",\"com_droga\",\"com_droga\",\"com_droga\",\"com_droga\",\"com_droga\",\"com_droga\",\"com_droga\",\"com_droga\",\"com_droga\",\"com_droga\",\"com_droga\",\"com_droga\",\"com_droga\",\"com_droga\",\"com_droga\",\"com_droga\",\"com_droga\",\"com_droga\",\"com_droga\",\"com_droga\",\"com_droga\",\"com_droga\",\"com_droga\",\"com_droga\",\"com_droga\",\"com_droga\",\"com_droga\",\"com_droga\",\"com_droga\",\"com_droga\",\"com_droga\",\"com_droga\",\"com_droga\",\"com_droga\",\"com_droga\",\"com_droga\",\"com_controle\",\"com_droga\",\"com_droga\",\"com_controle\",\"com_droga\",\"com_droga\",\"com_droga\",\"com_droga\",\"com_droga\",\"com_droga\",\"com_droga\",\"com_droga\",\"com_droga\",\"com_droga\",\"com_droga\",\"com_droga\",\"com_droga\",\"com_droga\",\"com_droga\",\"com_droga\",\"com_droga\",\"com_droga\",\"com_droga\",\"com_droga\",\"com_droga\",\"com_droga\",\"com_droga\",\"com_droga\",\"com_droga\",\"com_droga\",\"com_droga\",\"com_droga\",\"com_droga\",\"com_droga\",\"com_droga\",\"com_droga\",\"com_droga\",\"com_droga\",\"com_droga\",\"com_droga\",\"com_controle\",\"com_droga\",\"com_droga\",\"com_droga\",\"com_droga\",\"com_controle\",\"com_droga\",\"com_droga\",\"com_droga\",\"com_droga\",\"com_controle\",\"com_droga\",\"com_droga\",\"com_droga\",\"com_controle\",\"com_droga\",\"com_droga\",\"com_droga\",\"com_droga\",\"com_droga\",\"com_droga\",\"com_droga\",\"com_droga\",\"com_droga\",\"com_droga\",\"com_droga\",\"com_droga\",\"com_droga\",\"com_droga\",\"com_droga\",\"com_droga\",\"com_droga\",\"com_droga\",\"com_droga\",\"com_droga\",\"com_droga\",\"com_droga\",\"com_droga\",\"com_droga\",\"com_droga\",\"com_droga\",\"com_droga\",\"com_droga\",\"com_droga\",\"com_droga\",\"com_droga\",\"com_droga\",\"com_droga\",\"com_droga\",\"com_droga\",\"com_droga\",\"com_droga\",\"com_droga\",\"com_droga\",\"com_droga\",\"com_droga\",\"com_droga\",\"com_droga\",\"com_controle\",\"com_droga\",\"com_droga\",\"com_droga\",\"com_droga\",\"com_controle\",\"com_droga\",\"com_droga\",\"com_droga\",\"com_droga\",\"com_droga\",\"com_droga\",\"com_droga\",\"com_controle\",\"com_droga\",\"com_droga\",\"com_droga\",\"com_droga\",\"com_controle\",\"com_droga\",\"com_droga\",\"com_droga\",\"com_droga\",\"com_droga\",\"com_droga\",\"com_droga\",\"com_droga\",\"com_droga\",\"com_droga\",\"com_droga\",\"com_droga\",\"com_droga\",\"com_controle\",\"com_droga\",\"com_droga\",\"com_droga\",\"com_droga\",\"com_droga\",\"com_droga\",\"com_droga\",\"com_droga\",\"com_droga\",\"com_droga\",\"com_droga\",\"com_controle\",\"com_droga\",\"com_droga\",\"com_droga\",\"com_droga\",\"com_droga\",\"com_droga\",\"com_droga\",\"com_droga\",\"com_droga\",\"com_droga\",\"com_droga\",\"com_droga\",\"com_droga\",\"com_droga\",\"com_droga\",\"com_droga\",\"com_droga\",\"com_droga\",\"com_droga\",\"com_droga\",\"com_droga\",\"com_droga\",\"com_controle\",\"com_droga\",\"com_droga\",\"com_droga\",\"com_droga\",\"com_droga\",\"com_droga\",\"com_droga\",\"com_droga\",\"com_droga\",\"com_droga\",\"com_droga\",\"com_controle\",\"com_droga\",\"com_droga\",\"com_droga\",\"com_droga\",\"com_droga\",\"com_droga\",\"com_droga\",\"com_droga\",\"com_droga\",\"com_droga\",\"com_controle\",\"com_droga\",\"com_droga\",\"com_droga\",\"com_droga\",\"com_droga\",\"com_droga\",\"com_droga\",\"com_controle\",\"com_droga\",\"com_droga\",\"com_droga\",\"com_droga\",\"com_droga\",\"com_droga\",\"com_droga\",\"com_droga\",\"com_controle\",\"com_droga\",\"com_controle\",\"com_droga\",\"com_droga\",\"com_controle\",\"com_droga\",\"com_controle\",\"com_controle\",\"com_droga\",\"com_controle\",\"com_droga\",\"com_droga\",\"com_droga\",\"com_droga\",\"com_droga\",\"com_droga\",\"com_droga\",\"com_droga\",\"com_droga\",\"com_droga\",\"com_controle\",\"com_controle\",\"com_droga\",\"com_droga\",\"com_droga\",\"com_droga\",\"com_droga\",\"com_droga\",\"com_controle\",\"com_droga\",\"com_droga\",\"com_droga\",\"com_droga\",\"com_droga\",\"com_droga\",\"com_droga\",\"com_droga\",\"com_controle\",\"com_droga\",\"com_droga\",\"com_droga\",\"com_droga\",\"com_droga\",\"com_droga\",\"com_droga\",\"com_droga\",\"com_droga\",\"com_droga\",\"com_droga\",\"com_droga\",\"com_droga\",\"com_controle\",\"com_droga\",\"com_droga\",\"com_droga\",\"com_droga\",\"com_droga\",\"com_droga\",\"com_droga\",\"com_droga\",\"com_droga\",\"com_droga\",\"com_droga\",\"com_droga\",\"com_droga\",\"com_droga\",\"com_droga\",\"com_droga\",\"com_droga\",\"com_controle\",\"com_droga\",\"com_droga\",\"com_droga\",\"com_droga\",\"com_droga\",\"com_droga\",\"com_droga\",\"com_droga\",\"com_droga\",\"com_droga\",\"com_droga\",\"com_droga\",\"com_droga\",\"com_droga\",\"com_droga\",\"com_droga\",\"com_droga\",\"com_droga\",\"com_droga\",\"com_droga\",\"com_droga\",\"com_droga\",\"com_droga\",\"com_droga\",\"com_droga\",\"com_droga\",\"com_droga\",\"com_droga\",\"com_droga\",\"com_droga\",\"com_droga\",\"com_droga\",\"com_droga\",\"com_droga\",\"com_controle\",\"com_droga\",\"com_droga\",\"com_droga\",\"com_droga\",\"com_droga\",\"com_droga\",\"com_droga\",\"com_droga\",\"com_droga\",\"com_controle\",\"com_droga\",\"com_droga\",\"com_controle\",\"com_droga\",\"com_droga\",\"com_droga\",\"com_droga\",\"com_droga\",\"com_droga\",\"com_droga\",\"com_controle\",\"com_droga\",\"com_droga\",\"com_droga\",\"com_droga\",\"com_droga\",\"com_droga\",\"com_droga\",\"com_droga\",\"com_droga\",\"com_droga\",\"com_droga\",\"com_droga\",\"com_droga\",\"com_droga\",\"com_droga\",\"com_droga\",\"com_droga\",\"com_droga\",\"com_droga\",\"com_droga\",\"com_droga\",\"com_droga\",\"com_droga\",\"com_droga\",\"com_droga\",\"com_droga\",\"com_droga\",\"com_droga\",\"com_droga\",\"com_droga\",\"com_controle\",\"com_droga\",\"com_droga\",\"com_droga\",\"com_droga\",\"com_droga\",\"com_droga\",\"com_droga\",\"com_controle\",\"com_droga\",\"com_droga\",\"com_droga\",\"com_droga\",\"com_droga\",\"com_droga\",\"com_droga\",\"com_controle\",\"com_droga\",\"com_droga\",\"com_droga\",\"com_droga\",\"com_droga\",\"com_droga\",\"com_droga\",\"com_droga\",\"com_droga\",\"com_droga\",\"com_droga\",\"com_droga\",\"com_droga\",\"com_controle\",\"com_droga\",\"com_droga\",\"com_droga\",\"com_droga\",\"com_controle\",\"com_droga\",\"com_droga\",\"com_droga\",\"com_droga\",\"com_droga\",\"com_controle\",\"com_droga\",\"com_droga\",\"com_droga\",\"com_droga\",\"com_droga\",\"com_droga\",\"com_droga\",\"com_droga\",\"com_droga\",\"com_droga\",\"com_droga\",\"com_controle\",\"com_droga\",\"com_droga\",\"com_droga\",\"com_droga\",\"com_droga\",\"com_droga\",\"com_droga\",\"com_droga\",\"com_droga\",\"com_droga\",\"com_droga\",\"com_droga\",\"com_droga\",\"com_droga\",\"com_droga\",\"com_droga\",\"com_droga\",\"com_droga\",\"com_droga\",\"com_droga\",\"com_droga\",\"com_droga\",\"com_droga\",\"com_droga\",\"com_droga\",\"com_droga\",\"com_droga\",\"com_droga\",\"com_droga\",\"com_controle\",\"com_droga\",\"com_droga\",\"com_droga\",\"com_droga\",\"com_droga\",\"com_droga\",\"com_droga\",\"com_droga\",\"com_droga\",\"com_droga\",\"com_droga\",\"com_droga\",\"com_droga\",\"com_droga\",\"com_droga\",\"com_droga\",\"com_droga\",\"com_droga\",\"com_droga\",\"com_droga\",\"com_droga\",\"com_droga\",\"com_droga\",\"com_droga\",\"com_droga\",\"com_droga\",\"com_droga\",\"com_controle\",\"com_droga\",\"com_droga\",\"com_droga\",\"com_droga\",\"com_droga\",\"com_droga\",\"com_droga\",\"com_droga\",\"com_droga\",\"com_controle\",\"com_droga\",\"com_droga\",\"com_droga\",\"com_droga\",\"com_droga\",\"com_droga\",\"com_droga\",\"com_droga\",\"com_droga\",\"com_droga\",\"com_droga\",\"com_droga\",\"com_droga\",\"com_droga\",\"com_droga\",\"com_droga\",\"com_droga\",\"com_droga\",\"com_droga\",\"com_controle\",\"com_droga\",\"com_droga\",\"com_droga\",\"com_droga\",\"com_controle\",\"com_droga\",\"com_droga\",\"com_controle\",\"com_droga\",\"com_droga\",\"com_droga\",\"com_droga\",\"com_droga\",\"com_controle\",\"com_droga\",\"com_droga\",\"com_droga\",\"com_droga\",\"com_droga\",\"com_droga\",\"com_droga\",\"com_droga\",\"com_droga\",\"com_droga\",\"com_droga\",\"com_droga\",\"com_droga\",\"com_droga\",\"com_droga\",\"com_controle\",\"com_droga\",\"com_droga\",\"com_droga\",\"com_droga\",\"com_droga\",\"com_droga\",\"com_droga\",\"com_droga\",\"com_droga\",\"com_droga\",\"com_droga\",\"com_droga\",\"com_droga\",\"com_droga\",\"com_droga\",\"com_droga\",\"com_droga\",\"com_droga\",\"com_droga\",\"com_droga\",\"com_droga\",\"com_droga\",\"com_droga\",\"com_droga\",\"com_droga\",\"com_droga\",\"com_droga\",\"com_droga\",\"com_droga\",\"com_droga\",\"com_droga\",\"com_droga\",\"com_droga\",\"com_droga\",\"com_droga\",\"com_controle\",\"com_droga\",\"com_droga\",\"com_droga\",\"com_droga\",\"com_controle\",\"com_droga\",\"com_droga\",\"com_droga\",\"com_droga\",\"com_droga\",\"com_droga\",\"com_droga\",\"com_droga\",\"com_droga\",\"com_droga\",\"com_droga\",\"com_droga\",\"com_droga\",\"com_droga\",\"com_droga\",\"com_droga\",\"com_droga\",\"com_droga\",\"com_droga\",\"com_droga\",\"com_droga\",\"com_droga\",\"com_droga\",\"com_droga\",\"com_droga\",\"com_droga\",\"com_droga\",\"com_droga\",\"com_droga\",\"com_droga\",\"com_droga\",\"com_droga\",\"com_droga\",\"com_droga\",\"com_droga\",\"com_droga\",\"com_controle\",\"com_droga\",\"com_controle\",\"com_droga\",\"com_droga\",\"com_droga\",\"com_droga\",\"com_droga\",\"com_droga\",\"com_controle\",\"com_droga\",\"com_droga\",\"com_droga\",\"com_droga\",\"com_droga\",\"com_droga\",\"com_droga\",\"com_droga\",\"com_droga\",\"com_droga\",\"com_droga\",\"com_droga\",\"com_droga\",\"com_droga\",\"com_droga\",\"com_droga\",\"com_droga\",\"com_droga\",\"com_droga\",\"com_droga\",\"com_droga\",\"com_droga\",\"com_droga\",\"com_droga\",\"com_droga\",\"com_droga\",\"com_droga\",\"com_droga\",\"com_droga\",\"com_droga\",\"com_droga\",\"com_droga\",\"com_droga\",\"com_controle\",\"com_droga\",\"com_droga\",\"com_droga\",\"com_controle\",\"com_droga\",\"com_droga\",\"com_droga\",\"com_droga\",\"com_droga\",\"com_droga\",\"com_droga\",\"com_droga\",\"com_droga\",\"com_droga\",\"com_droga\",\"com_droga\",\"com_droga\",\"com_droga\",\"com_droga\",\"com_controle\",\"com_droga\",\"com_droga\",\"com_droga\",\"com_droga\",\"com_droga\",\"com_controle\",\"com_controle\",\"com_droga\",\"com_droga\",\"com_controle\",\"com_droga\",\"com_droga\",\"com_droga\",\"com_droga\",\"com_droga\",\"com_droga\",\"com_controle\",\"com_droga\",\"com_droga\",\"com_controle\",\"com_droga\",\"com_droga\",\"com_droga\",\"com_controle\",\"com_droga\",\"com_droga\",\"com_controle\",\"com_droga\",\"com_droga\",\"com_droga\",\"com_droga\",\"com_controle\",\"com_droga\",\"com_droga\",\"com_controle\",\"com_droga\",\"com_droga\",\"com_droga\",\"com_droga\",\"com_droga\",\"com_droga\",\"com_droga\",\"com_droga\",\"com_droga\",\"com_droga\",\"com_controle\",\"com_droga\",\"com_droga\",\"com_droga\",\"com_droga\",\"com_controle\",\"com_droga\",\"com_controle\",\"com_droga\",\"com_droga\",\"com_droga\",\"com_droga\",\"com_droga\",\"com_droga\",\"com_droga\",\"com_droga\",\"com_droga\",\"com_droga\",\"com_droga\",\"com_droga\",\"com_droga\",\"com_droga\",\"com_droga\",\"com_droga\",\"com_droga\",\"com_droga\",\"com_droga\",\"com_droga\",\"com_droga\",\"com_droga\",\"com_droga\",\"com_droga\",\"com_droga\",\"com_droga\",\"com_droga\",\"com_droga\",\"com_droga\",\"com_controle\",\"com_droga\",\"com_droga\",\"com_droga\",\"com_droga\",\"com_droga\",\"com_droga\",\"com_droga\",\"com_droga\",\"com_droga\",\"com_droga\",\"com_droga\",\"com_droga\",\"com_droga\",\"com_droga\",\"com_droga\",\"com_droga\",\"com_droga\",\"com_droga\",\"com_droga\",\"com_droga\",\"com_controle\",\"com_droga\",\"com_droga\",\"com_droga\",\"com_droga\",\"com_droga\",\"com_droga\",\"com_droga\",\"com_droga\",\"com_droga\",\"com_droga\",\"com_droga\",\"com_controle\",\"com_droga\",\"com_droga\",\"com_controle\",\"com_droga\",\"com_droga\",\"com_droga\",\"com_droga\",\"com_droga\",\"com_droga\",\"com_droga\",\"com_droga\",\"com_droga\",\"com_droga\",\"com_droga\",\"com_controle\",\"com_droga\",\"com_droga\",\"com_droga\",\"com_droga\",\"com_droga\",\"com_droga\",\"com_droga\",\"com_droga\",\"com_controle\",\"com_droga\",\"com_droga\",\"com_droga\",\"com_droga\",\"com_droga\",\"com_droga\",\"com_droga\",\"com_droga\",\"com_droga\",\"com_droga\",\"com_controle\",\"com_droga\",\"com_droga\",\"com_droga\",\"com_droga\",\"com_droga\",\"com_droga\",\"com_droga\",\"com_droga\",\"com_droga\",\"com_droga\",\"com_droga\",\"com_droga\",\"com_droga\",\"com_droga\",\"com_droga\",\"com_controle\",\"com_droga\",\"com_droga\",\"com_droga\",\"com_droga\",\"com_droga\",\"com_droga\",\"com_droga\",\"com_droga\",\"com_droga\",\"com_droga\",\"com_droga\",\"com_droga\",\"com_droga\",\"com_droga\",\"com_droga\",\"com_droga\",\"com_droga\",\"com_droga\",\"com_droga\",\"com_controle\",\"com_droga\",\"com_droga\",\"com_droga\",\"com_droga\",\"com_droga\",\"com_droga\",\"com_droga\",\"com_droga\",\"com_droga\",\"com_controle\",\"com_droga\",\"com_droga\",\"com_droga\",\"com_droga\",\"com_droga\",\"com_droga\",\"com_droga\",\"com_droga\",\"com_droga\",\"com_droga\",\"com_controle\",\"com_droga\",\"com_droga\",\"com_droga\",\"com_droga\",\"com_droga\",\"com_droga\",\"com_droga\",\"com_droga\",\"com_controle\",\"com_droga\",\"com_controle\",\"com_droga\",\"com_droga\",\"com_droga\",\"com_droga\",\"com_droga\",\"com_controle\",\"com_droga\",\"com_droga\",\"com_droga\",\"com_droga\",\"com_droga\",\"com_droga\",\"com_droga\",\"com_droga\",\"com_droga\",\"com_droga\",\"com_controle\",\"com_droga\",\"com_droga\",\"com_droga\",\"com_droga\",\"com_droga\",\"com_droga\",\"com_droga\",\"com_droga\",\"com_droga\",\"com_droga\",\"com_droga\",\"com_droga\",\"com_droga\",\"com_droga\",\"com_droga\",\"com_droga\",\"com_droga\",\"com_droga\",\"com_droga\",\"com_droga\",\"com_droga\",\"com_controle\",\"com_droga\",\"com_droga\",\"com_droga\",\"com_droga\",\"com_droga\",\"com_droga\",\"com_droga\",\"com_droga\",\"com_droga\",\"com_droga\",\"com_droga\",\"com_droga\",\"com_droga\",\"com_controle\",\"com_droga\",\"com_droga\",\"com_droga\",\"com_droga\",\"com_droga\",\"com_droga\",\"com_droga\",\"com_droga\",\"com_droga\",\"com_controle\",\"com_droga\",\"com_droga\",\"com_droga\",\"com_droga\",\"com_controle\",\"com_droga\",\"com_droga\",\"com_droga\",\"com_droga\",\"com_controle\",\"com_droga\",\"com_droga\",\"com_droga\",\"com_droga\",\"com_droga\",\"com_droga\",\"com_droga\",\"com_droga\",\"com_droga\",\"com_droga\",\"com_droga\",\"com_droga\",\"com_droga\",\"com_droga\",\"com_droga\",\"com_droga\",\"com_droga\",\"com_droga\",\"com_droga\",\"com_controle\",\"com_droga\",\"com_droga\",\"com_droga\",\"com_controle\",\"com_droga\",\"com_droga\",\"com_droga\",\"com_droga\",\"com_droga\",\"com_droga\",\"com_droga\",\"com_droga\",\"com_controle\",\"com_droga\",\"com_droga\",\"com_droga\",\"com_controle\",\"com_droga\",\"com_droga\",\"com_droga\",\"com_droga\",\"com_droga\",\"com_droga\",\"com_controle\",\"com_droga\",\"com_droga\",\"com_droga\",\"com_droga\",\"com_droga\",\"com_droga\",\"com_droga\",\"com_droga\",\"com_droga\",\"com_droga\",\"com_droga\",\"com_droga\",\"com_droga\",\"com_droga\",\"com_droga\",\"com_droga\",\"com_droga\",\"com_droga\",\"com_droga\",\"com_droga\",\"com_droga\",\"com_droga\",\"com_droga\",\"com_droga\",\"com_droga\",\"com_droga\",\"com_droga\",\"com_droga\",\"com_droga\",\"com_droga\",\"com_droga\",\"com_droga\",\"com_droga\",\"com_droga\",\"com_droga\",\"com_droga\",\"com_controle\",\"com_droga\",\"com_droga\",\"com_droga\",\"com_droga\",\"com_droga\",\"com_droga\",\"com_droga\",\"com_droga\",\"com_droga\",\"com_droga\",\"com_droga\",\"com_droga\",\"com_controle\",\"com_droga\",\"com_droga\",\"com_droga\",\"com_droga\",\"com_droga\",\"com_droga\",\"com_droga\",\"com_droga\",\"com_droga\",\"com_droga\",\"com_droga\",\"com_droga\",\"com_droga\",\"com_droga\",\"com_droga\",\"com_droga\",\"com_droga\",\"com_droga\",\"com_droga\",\"com_droga\",\"com_droga\",\"com_droga\",\"com_droga\",\"com_droga\",\"com_droga\",\"com_droga\",\"com_droga\",\"com_droga\",\"com_droga\",\"com_droga\",\"com_droga\",\"com_droga\",\"com_droga\",\"com_droga\",\"com_droga\",\"com_droga\",\"com_droga\",\"com_droga\",\"com_droga\",\"com_droga\",\"com_droga\",\"com_droga\",\"com_droga\",\"com_droga\",\"com_droga\",\"com_droga\",\"com_droga\",\"com_droga\",\"com_droga\",\"com_droga\",\"com_droga\",\"com_droga\",\"com_droga\",\"com_droga\",\"com_controle\",\"com_controle\",\"com_droga\",\"com_droga\",\"com_droga\",\"com_droga\",\"com_droga\",\"com_droga\",\"com_droga\",\"com_droga\",\"com_droga\",\"com_droga\",\"com_droga\",\"com_droga\",\"com_droga\",\"com_droga\",\"com_controle\",\"com_droga\",\"com_controle\",\"com_droga\",\"com_droga\",\"com_droga\",\"com_droga\",\"com_droga\",\"com_controle\",\"com_droga\",\"com_droga\",\"com_droga\",\"com_droga\",\"com_droga\",\"com_droga\",\"com_droga\",\"com_droga\",\"com_droga\",\"com_droga\",\"com_droga\",\"com_droga\",\"com_droga\",\"com_droga\",\"com_droga\",\"com_droga\",\"com_droga\",\"com_droga\",\"com_droga\",\"com_droga\",\"com_controle\",\"com_droga\",\"com_droga\",\"com_droga\",\"com_droga\",\"com_droga\",\"com_droga\",\"com_droga\",\"com_droga\",\"com_droga\",\"com_droga\",\"com_droga\",\"com_droga\",\"com_droga\",\"com_droga\",\"com_droga\",\"com_droga\",\"com_droga\",\"com_droga\",\"com_droga\",\"com_droga\",\"com_droga\",\"com_droga\",\"com_droga\",\"com_droga\",\"com_droga\",\"com_droga\",\"com_droga\",\"com_droga\",\"com_controle\",\"com_droga\",\"com_droga\",\"com_controle\",\"com_droga\",\"com_droga\",\"com_droga\",\"com_droga\",\"com_droga\",\"com_droga\",\"com_droga\",\"com_droga\",\"com_droga\",\"com_droga\",\"com_droga\",\"com_droga\",\"com_droga\",\"com_droga\",\"com_droga\",\"com_droga\",\"com_droga\",\"com_droga\",\"com_droga\",\"com_droga\",\"com_droga\",\"com_droga\",\"com_droga\",\"com_droga\",\"com_droga\",\"com_droga\",\"com_droga\",\"com_droga\",\"com_droga\",\"com_droga\",\"com_controle\",\"com_droga\",\"com_droga\",\"com_droga\",\"com_droga\",\"com_droga\",\"com_droga\",\"com_droga\",\"com_droga\",\"com_droga\",\"com_droga\",\"com_droga\",\"com_controle\",\"com_droga\",\"com_droga\",\"com_droga\",\"com_droga\",\"com_droga\",\"com_droga\",\"com_droga\",\"com_controle\",\"com_droga\",\"com_droga\",\"com_droga\",\"com_droga\",\"com_droga\",\"com_droga\",\"com_droga\",\"com_droga\",\"com_droga\",\"com_droga\",\"com_droga\",\"com_droga\",\"com_droga\",\"com_droga\",\"com_droga\",\"com_droga\",\"com_droga\",\"com_droga\",\"com_droga\",\"com_droga\",\"com_droga\",\"com_droga\",\"com_droga\",\"com_droga\",\"com_droga\",\"com_controle\",\"com_droga\",\"com_droga\",\"com_droga\",\"com_droga\",\"com_droga\",\"com_droga\",\"com_droga\",\"com_droga\",\"com_droga\",\"com_droga\",\"com_droga\",\"com_droga\",\"com_droga\",\"com_droga\",\"com_droga\",\"com_droga\",\"com_droga\",\"com_controle\",\"com_droga\",\"com_droga\",\"com_droga\",\"com_droga\",\"com_droga\",\"com_droga\",\"com_droga\",\"com_droga\",\"com_droga\",\"com_droga\",\"com_droga\",\"com_droga\",\"com_droga\",\"com_droga\",\"com_droga\",\"com_droga\",\"com_droga\",\"com_droga\",\"com_droga\",\"com_droga\",\"com_droga\",\"com_droga\",\"com_droga\",\"com_droga\",\"com_droga\",\"com_droga\",\"com_droga\",\"com_droga\",\"com_droga\",\"com_droga\",\"com_droga\",\"com_droga\",\"com_droga\",\"com_droga\",\"com_droga\",\"com_droga\",\"com_droga\",\"com_droga\",\"com_droga\",\"com_droga\",\"com_droga\",\"com_droga\",\"com_droga\",\"com_droga\",\"com_droga\",\"com_droga\",\"com_droga\",\"com_droga\",\"com_droga\",\"com_droga\",\"com_droga\",\"com_controle\",\"com_controle\",\"com_droga\",\"com_droga\",\"com_controle\",\"com_droga\",\"com_droga\",\"com_droga\",\"com_droga\",\"com_droga\",\"com_droga\",\"com_droga\",\"com_droga\",\"com_droga\",\"com_droga\",\"com_droga\",\"com_droga\",\"com_droga\",\"com_droga\",\"com_droga\",\"com_controle\",\"com_droga\",\"com_droga\",\"com_droga\",\"com_droga\",\"com_droga\",\"com_droga\",\"com_droga\",\"com_droga\",\"com_droga\",\"com_droga\",\"com_droga\",\"com_droga\",\"com_droga\",\"com_droga\",\"com_droga\",\"com_droga\",\"com_droga\",\"com_droga\",\"com_droga\",\"com_droga\",\"com_controle\",\"com_droga\",\"com_droga\",\"com_droga\",\"com_droga\",\"com_droga\",\"com_droga\",\"com_droga\",\"com_droga\",\"com_controle\",\"com_droga\",\"com_droga\",\"com_droga\",\"com_droga\",\"com_droga\",\"com_droga\",\"com_droga\",\"com_droga\",\"com_droga\",\"com_droga\",\"com_droga\",\"com_droga\",\"com_droga\",\"com_droga\",\"com_droga\",\"com_droga\",\"com_droga\",\"com_droga\",\"com_droga\",\"com_droga\",\"com_droga\",\"com_controle\",\"com_droga\",\"com_droga\",\"com_droga\",\"com_droga\",\"com_droga\",\"com_droga\",\"com_droga\",\"com_droga\",\"com_droga\",\"com_droga\",\"com_droga\",\"com_droga\",\"com_controle\",\"com_droga\",\"com_droga\",\"com_droga\",\"com_droga\",\"com_droga\",\"com_droga\",\"com_droga\",\"com_droga\",\"com_controle\",\"com_droga\",\"com_droga\",\"com_droga\",\"com_droga\",\"com_droga\",\"com_droga\",\"com_droga\",\"com_controle\",\"com_controle\",\"com_droga\",\"com_droga\",\"com_droga\",\"com_droga\",\"com_droga\",\"com_droga\",\"com_droga\",\"com_droga\",\"com_droga\",\"com_droga\",\"com_droga\",\"com_droga\",\"com_droga\",\"com_droga\",\"com_droga\",\"com_controle\",\"com_droga\",\"com_controle\",\"com_droga\",\"com_droga\",\"com_droga\",\"com_droga\",\"com_droga\",\"com_droga\",\"com_controle\",\"com_droga\",\"com_droga\",\"com_droga\",\"com_droga\",\"com_droga\",\"com_controle\",\"com_droga\",\"com_droga\",\"com_droga\",\"com_droga\",\"com_droga\",\"com_droga\",\"com_droga\",\"com_droga\",\"com_droga\",\"com_droga\",\"com_droga\",\"com_droga\",\"com_droga\",\"com_droga\",\"com_droga\",\"com_droga\",\"com_droga\",\"com_droga\",\"com_droga\",\"com_droga\",\"com_droga\",\"com_droga\",\"com_controle\",\"com_droga\",\"com_droga\",\"com_controle\",\"com_controle\",\"com_droga\",\"com_droga\",\"com_droga\",\"com_droga\",\"com_droga\",\"com_controle\",\"com_droga\",\"com_droga\",\"com_droga\",\"com_droga\",\"com_droga\",\"com_droga\",\"com_droga\",\"com_droga\",\"com_droga\",\"com_droga\",\"com_droga\",\"com_droga\",\"com_droga\",\"com_droga\",\"com_droga\",\"com_droga\",\"com_droga\",\"com_droga\",\"com_droga\",\"com_droga\",\"com_controle\",\"com_droga\",\"com_controle\",\"com_droga\",\"com_droga\",\"com_droga\",\"com_droga\",\"com_droga\",\"com_droga\",\"com_droga\",\"com_droga\",\"com_droga\",\"com_droga\",\"com_droga\",\"com_droga\",\"com_droga\",\"com_droga\",\"com_droga\",\"com_droga\",\"com_droga\",\"com_droga\",\"com_droga\",\"com_droga\",\"com_droga\",\"com_droga\",\"com_droga\",\"com_droga\",\"com_droga\",\"com_droga\",\"com_droga\",\"com_droga\",\"com_controle\",\"com_droga\",\"com_droga\",\"com_droga\",\"com_droga\",\"com_droga\",\"com_droga\",\"com_controle\",\"com_droga\",\"com_droga\",\"com_droga\",\"com_droga\",\"com_controle\",\"com_droga\",\"com_droga\",\"com_droga\",\"com_droga\",\"com_droga\",\"com_droga\",\"com_droga\",\"com_droga\",\"com_droga\",\"com_droga\",\"com_droga\",\"com_droga\",\"com_droga\",\"com_droga\",\"com_droga\",\"com_controle\",\"com_droga\",\"com_droga\",\"com_droga\",\"com_droga\",\"com_droga\",\"com_droga\",\"com_droga\",\"com_droga\",\"com_droga\",\"com_droga\",\"com_droga\",\"com_droga\",\"com_droga\",\"com_droga\",\"com_droga\",\"com_droga\",\"com_droga\",\"com_droga\",\"com_droga\",\"com_droga\",\"com_droga\",\"com_droga\",\"com_droga\",\"com_droga\",\"com_droga\",\"com_droga\",\"com_droga\",\"com_droga\",\"com_droga\",\"com_droga\",\"com_droga\",\"com_droga\",\"com_droga\",\"com_droga\",\"com_droga\",\"com_droga\",\"com_droga\",\"com_droga\",\"com_droga\",\"com_droga\",\"com_droga\",\"com_droga\",\"com_droga\",\"com_droga\",\"com_droga\",\"com_droga\",\"com_droga\",\"com_droga\",\"com_droga\",\"com_droga\",\"com_droga\",\"com_droga\",\"com_droga\",\"com_droga\",\"com_droga\",\"com_droga\",\"com_droga\",\"com_droga\",\"com_droga\",\"com_droga\",\"com_droga\",\"com_droga\",\"com_controle\",\"com_droga\",\"com_droga\",\"com_droga\",\"com_droga\",\"com_droga\",\"com_droga\",\"com_droga\",\"com_droga\",\"com_droga\",\"com_droga\",\"com_droga\",\"com_droga\",\"com_droga\",\"com_droga\",\"com_droga\",\"com_droga\",\"com_droga\",\"com_droga\",\"com_droga\",\"com_droga\",\"com_droga\",\"com_droga\",\"com_droga\",\"com_droga\",\"com_controle\",\"com_droga\",\"com_droga\",\"com_droga\",\"com_droga\",\"com_droga\",\"com_droga\",\"com_controle\",\"com_droga\",\"com_droga\",\"com_droga\",\"com_droga\",\"com_droga\",\"com_droga\",\"com_droga\",\"com_droga\",\"com_droga\",\"com_droga\",\"com_droga\",\"com_controle\",\"com_droga\",\"com_droga\",\"com_droga\",\"com_droga\",\"com_droga\",\"com_controle\",\"com_droga\",\"com_droga\",\"com_droga\",\"com_droga\",\"com_droga\",\"com_droga\",\"com_droga\",\"com_droga\",\"com_droga\",\"com_droga\",\"com_droga\",\"com_droga\",\"com_droga\",\"com_droga\",\"com_droga\",\"com_controle\",\"com_droga\",\"com_droga\",\"com_droga\",\"com_droga\",\"com_droga\",\"com_droga\",\"com_droga\",\"com_droga\",\"com_droga\",\"com_droga\",\"com_droga\",\"com_droga\",\"com_droga\",\"com_droga\",\"com_droga\",\"com_droga\",\"com_controle\",\"com_droga\",\"com_droga\",\"com_droga\",\"com_droga\",\"com_droga\",\"com_droga\",\"com_droga\",\"com_droga\",\"com_droga\",\"com_droga\",\"com_controle\",\"com_droga\",\"com_droga\",\"com_droga\",\"com_droga\",\"com_droga\",\"com_droga\",\"com_droga\",\"com_droga\",\"com_droga\",\"com_controle\",\"com_droga\",\"com_droga\",\"com_droga\",\"com_droga\",\"com_droga\",\"com_controle\",\"com_droga\",\"com_droga\",\"com_droga\",\"com_droga\",\"com_droga\",\"com_droga\",\"com_controle\",\"com_droga\",\"com_droga\",\"com_droga\",\"com_controle\",\"com_controle\",\"com_droga\",\"com_droga\",\"com_droga\",\"com_droga\",\"com_droga\",\"com_droga\",\"com_droga\",\"com_droga\",\"com_droga\",\"com_droga\",\"com_droga\",\"com_droga\",\"com_droga\",\"com_droga\",\"com_droga\",\"com_droga\",\"com_droga\",\"com_droga\",\"com_droga\",\"com_droga\",\"com_droga\",\"com_droga\",\"com_droga\",\"com_droga\",\"com_droga\",\"com_droga\",\"com_droga\",\"com_droga\",\"com_droga\",\"com_droga\",\"com_droga\",\"com_droga\",\"com_droga\",\"com_droga\",\"com_droga\",\"com_droga\",\"com_droga\",\"com_controle\",\"com_droga\",\"com_droga\",\"com_droga\",\"com_controle\",\"com_droga\",\"com_droga\",\"com_droga\",\"com_droga\",\"com_droga\",\"com_droga\",\"com_droga\",\"com_droga\",\"com_droga\",\"com_droga\",\"com_droga\",\"com_droga\",\"com_droga\",\"com_droga\",\"com_controle\",\"com_droga\",\"com_droga\",\"com_droga\",\"com_droga\",\"com_droga\",\"com_droga\",\"com_droga\",\"com_droga\",\"com_droga\",\"com_droga\",\"com_droga\",\"com_droga\",\"com_droga\",\"com_droga\",\"com_droga\",\"com_droga\",\"com_droga\",\"com_droga\",\"com_droga\",\"com_droga\",\"com_droga\",\"com_droga\",\"com_droga\",\"com_droga\",\"com_droga\",\"com_droga\",\"com_droga\",\"com_droga\",\"com_droga\",\"com_droga\",\"com_droga\",\"com_controle\",\"com_droga\",\"com_droga\",\"com_droga\",\"com_controle\",\"com_droga\",\"com_droga\",\"com_droga\",\"com_droga\",\"com_droga\",\"com_droga\",\"com_droga\",\"com_droga\",\"com_droga\",\"com_controle\",\"com_droga\",\"com_droga\",\"com_droga\",\"com_droga\",\"com_droga\",\"com_droga\",\"com_droga\",\"com_droga\",\"com_droga\",\"com_droga\",\"com_droga\",\"com_droga\",\"com_droga\",\"com_droga\",\"com_droga\",\"com_droga\",\"com_droga\",\"com_controle\",\"com_droga\",\"com_droga\",\"com_droga\",\"com_droga\",\"com_droga\",\"com_droga\",\"com_droga\",\"com_droga\",\"com_droga\",\"com_droga\",\"com_droga\",\"com_droga\",\"com_controle\",\"com_droga\",\"com_droga\",\"com_droga\",\"com_droga\",\"com_droga\",\"com_droga\",\"com_droga\",\"com_droga\",\"com_droga\",\"com_droga\",\"com_droga\",\"com_droga\",\"com_controle\",\"com_droga\",\"com_droga\",\"com_droga\",\"com_droga\",\"com_droga\",\"com_droga\",\"com_droga\",\"com_droga\",\"com_droga\",\"com_droga\",\"com_droga\",\"com_droga\",\"com_droga\",\"com_droga\",\"com_droga\",\"com_droga\",\"com_droga\",\"com_droga\",\"com_droga\",\"com_droga\",\"com_droga\",\"com_droga\",\"com_droga\",\"com_droga\",\"com_droga\",\"com_droga\",\"com_droga\",\"com_droga\",\"com_droga\",\"com_droga\",\"com_droga\",\"com_controle\",\"com_controle\",\"com_droga\",\"com_droga\",\"com_droga\",\"com_droga\",\"com_droga\",\"com_droga\",\"com_droga\",\"com_droga\",\"com_droga\",\"com_droga\",\"com_droga\",\"com_droga\",\"com_droga\",\"com_droga\",\"com_droga\",\"com_droga\",\"com_droga\",\"com_droga\",\"com_droga\",\"com_droga\",\"com_droga\",\"com_droga\",\"com_droga\",\"com_droga\",\"com_droga\",\"com_droga\",\"com_droga\",\"com_droga\",\"com_droga\",\"com_droga\",\"com_droga\",\"com_controle\",\"com_droga\",\"com_controle\",\"com_droga\",\"com_droga\",\"com_droga\",\"com_droga\",\"com_droga\",\"com_droga\",\"com_droga\",\"com_droga\",\"com_controle\",\"com_droga\",\"com_droga\",\"com_droga\",\"com_droga\",\"com_droga\",\"com_droga\",\"com_droga\",\"com_droga\",\"com_droga\",\"com_droga\",\"com_droga\",\"com_droga\",\"com_droga\",\"com_droga\",\"com_droga\",\"com_droga\",\"com_droga\",\"com_droga\",\"com_droga\",\"com_droga\",\"com_droga\",\"com_droga\",\"com_droga\",\"com_droga\",\"com_droga\",\"com_droga\",\"com_droga\",\"com_droga\",\"com_droga\",\"com_droga\",\"com_droga\",\"com_droga\",\"com_droga\",\"com_droga\",\"com_droga\",\"com_droga\",\"com_droga\",\"com_droga\",\"com_droga\",\"com_droga\",\"com_droga\",\"com_droga\",\"com_droga\",\"com_droga\",\"com_controle\",\"com_droga\",\"com_controle\",\"com_droga\",\"com_droga\",\"com_droga\",\"com_droga\",\"com_droga\",\"com_droga\",\"com_droga\",\"com_droga\",\"com_droga\",\"com_droga\",\"com_droga\",\"com_droga\",\"com_droga\",\"com_droga\",\"com_droga\",\"com_droga\",\"com_droga\",\"com_droga\",\"com_droga\",\"com_droga\",\"com_droga\",\"com_droga\",\"com_droga\",\"com_droga\",\"com_droga\",\"com_droga\",\"com_droga\",\"com_droga\",\"com_droga\",\"com_droga\",\"com_droga\",\"com_droga\",\"com_droga\",\"com_droga\",\"com_droga\",\"com_droga\",\"com_droga\",\"com_droga\",\"com_droga\",\"com_controle\",\"com_droga\",\"com_droga\",\"com_droga\",\"com_controle\",\"com_droga\",\"com_droga\",\"com_droga\",\"com_droga\",\"com_droga\",\"com_droga\",\"com_droga\",\"com_droga\",\"com_controle\",\"com_droga\",\"com_droga\",\"com_droga\",\"com_droga\",\"com_droga\",\"com_droga\",\"com_droga\",\"com_controle\",\"com_droga\",\"com_controle\",\"com_controle\",\"com_droga\",\"com_droga\",\"com_droga\",\"com_droga\",\"com_droga\",\"com_droga\",\"com_droga\",\"com_droga\",\"com_droga\",\"com_droga\",\"com_droga\",\"com_droga\",\"com_droga\",\"com_droga\",\"com_droga\",\"com_droga\",\"com_droga\",\"com_droga\",\"com_droga\",\"com_droga\",\"com_droga\",\"com_controle\",\"com_droga\",\"com_droga\",\"com_droga\",\"com_droga\",\"com_droga\",\"com_droga\",\"com_droga\",\"com_droga\",\"com_droga\",\"com_droga\",\"com_controle\",\"com_droga\",\"com_droga\",\"com_controle\",\"com_droga\",\"com_droga\",\"com_droga\",\"com_droga\",\"com_droga\",\"com_controle\",\"com_droga\",\"com_droga\",\"com_droga\",\"com_droga\",\"com_droga\",\"com_droga\",\"com_droga\",\"com_droga\",\"com_droga\",\"com_droga\",\"com_droga\",\"com_droga\",\"com_droga\",\"com_droga\",\"com_droga\",\"com_droga\",\"com_droga\",\"com_droga\",\"com_droga\",\"com_droga\",\"com_controle\",\"com_controle\",\"com_droga\",\"com_droga\",\"com_droga\",\"com_controle\",\"com_droga\",\"com_droga\",\"com_droga\",\"com_droga\",\"com_droga\",\"com_droga\",\"com_droga\",\"com_droga\",\"com_controle\",\"com_droga\",\"com_droga\",\"com_droga\",\"com_droga\",\"com_droga\",\"com_droga\",\"com_droga\",\"com_controle\",\"com_controle\",\"com_droga\",\"com_droga\",\"com_droga\",\"com_droga\",\"com_droga\",\"com_droga\",\"com_droga\",\"com_droga\",\"com_droga\",\"com_droga\",\"com_droga\",\"com_droga\",\"com_droga\",\"com_droga\",\"com_droga\",\"com_droga\",\"com_droga\",\"com_droga\",\"com_droga\",\"com_droga\",\"com_droga\",\"com_droga\",\"com_droga\",\"com_droga\",\"com_droga\",\"com_droga\",\"com_droga\",\"com_droga\",\"com_droga\",\"com_droga\",\"com_droga\",\"com_droga\",\"com_droga\",\"com_droga\",\"com_droga\",\"com_droga\",\"com_droga\",\"com_droga\",\"com_droga\",\"com_droga\",\"com_droga\",\"com_droga\",\"com_droga\",\"com_droga\",\"com_droga\",\"com_droga\",\"com_droga\",\"com_droga\",\"com_droga\",\"com_droga\",\"com_droga\",\"com_droga\",\"com_droga\",\"com_droga\",\"com_droga\",\"com_controle\",\"com_droga\",\"com_droga\",\"com_droga\",\"com_droga\",\"com_droga\",\"com_droga\",\"com_droga\",\"com_droga\",\"com_droga\",\"com_droga\",\"com_droga\",\"com_droga\",\"com_droga\",\"com_droga\",\"com_droga\",\"com_droga\",\"com_droga\",\"com_droga\",\"com_droga\",\"com_droga\",\"com_droga\",\"com_droga\",\"com_droga\",\"com_droga\",\"com_droga\",\"com_droga\",\"com_droga\",\"com_droga\",\"com_droga\",\"com_droga\",\"com_droga\",\"com_droga\",\"com_droga\",\"com_droga\",\"com_droga\",\"com_droga\",\"com_droga\",\"com_droga\",\"com_droga\",\"com_droga\",\"com_droga\",\"com_droga\",\"com_droga\",\"com_droga\",\"com_droga\",\"com_droga\",\"com_droga\",\"com_droga\",\"com_droga\",\"com_droga\",\"com_droga\",\"com_droga\",\"com_droga\",\"com_droga\",\"com_droga\",\"com_droga\",\"com_controle\",\"com_droga\",\"com_droga\",\"com_droga\",\"com_droga\",\"com_droga\",\"com_controle\",\"com_droga\",\"com_droga\",\"com_droga\",\"com_droga\",\"com_droga\",\"com_droga\",\"com_droga\",\"com_droga\",\"com_droga\",\"com_droga\",\"com_droga\",\"com_droga\",\"com_droga\",\"com_droga\",\"com_droga\",\"com_droga\",\"com_droga\",\"com_droga\",\"com_droga\",\"com_droga\",\"com_droga\",\"com_droga\",\"com_droga\",\"com_droga\",\"com_droga\",\"com_droga\",\"com_droga\",\"com_droga\",\"com_droga\",\"com_droga\",\"com_droga\",\"com_droga\",\"com_droga\",\"com_droga\",\"com_droga\",\"com_droga\",\"com_droga\",\"com_droga\",\"com_droga\",\"com_droga\",\"com_droga\",\"com_droga\",\"com_controle\",\"com_droga\",\"com_droga\",\"com_droga\",\"com_droga\",\"com_droga\",\"com_droga\",\"com_droga\",\"com_droga\",\"com_droga\",\"com_droga\",\"com_droga\",\"com_droga\",\"com_droga\",\"com_droga\",\"com_droga\",\"com_droga\",\"com_droga\",\"com_controle\",\"com_droga\",\"com_droga\",\"com_droga\",\"com_droga\",\"com_droga\",\"com_droga\",\"com_droga\",\"com_droga\",\"com_droga\",\"com_droga\",\"com_droga\",\"com_droga\",\"com_droga\",\"com_droga\",\"com_droga\",\"com_droga\",\"com_droga\",\"com_droga\",\"com_droga\",\"com_droga\",\"com_droga\",\"com_droga\",\"com_droga\",\"com_droga\",\"com_droga\",\"com_droga\",\"com_droga\",\"com_droga\",\"com_droga\",\"com_droga\",\"com_droga\",\"com_droga\",\"com_droga\",\"com_droga\",\"com_droga\",\"com_droga\",\"com_droga\",\"com_droga\",\"com_droga\",\"com_droga\",\"com_droga\",\"com_droga\",\"com_droga\",\"com_droga\",\"com_droga\",\"com_droga\",\"com_controle\",\"com_droga\",\"com_droga\",\"com_droga\",\"com_droga\",\"com_droga\",\"com_droga\",\"com_droga\",\"com_droga\",\"com_droga\",\"com_controle\",\"com_droga\",\"com_controle\",\"com_droga\",\"com_droga\",\"com_droga\",\"com_droga\",\"com_droga\",\"com_droga\",\"com_droga\",\"com_droga\",\"com_droga\",\"com_droga\",\"com_droga\",\"com_droga\",\"com_droga\",\"com_droga\",\"com_controle\",\"com_droga\",\"com_controle\",\"com_droga\",\"com_controle\",\"com_droga\",\"com_droga\",\"com_droga\",\"com_droga\",\"com_droga\",\"com_droga\",\"com_droga\",\"com_controle\",\"com_droga\",\"com_droga\",\"com_droga\",\"com_droga\",\"com_droga\",\"com_droga\",\"com_droga\",\"com_droga\",\"com_droga\",\"com_droga\",\"com_droga\",\"com_droga\",\"com_droga\",\"com_droga\",\"com_droga\",\"com_droga\",\"com_droga\",\"com_droga\",\"com_droga\",\"com_droga\",\"com_droga\",\"com_controle\",\"com_droga\",\"com_droga\",\"com_controle\",\"com_droga\",\"com_droga\",\"com_droga\",\"com_droga\",\"com_droga\",\"com_controle\",\"com_droga\",\"com_droga\",\"com_droga\",\"com_droga\",\"com_droga\",\"com_droga\",\"com_droga\",\"com_droga\",\"com_droga\",\"com_droga\",\"com_droga\",\"com_droga\",\"com_controle\",\"com_controle\",\"com_droga\",\"com_droga\",\"com_droga\",\"com_droga\",\"com_droga\",\"com_controle\",\"com_droga\",\"com_droga\",\"com_droga\",\"com_controle\",\"com_droga\",\"com_droga\",\"com_droga\",\"com_droga\",\"com_droga\",\"com_droga\",\"com_droga\",\"com_droga\",\"com_droga\",\"com_droga\",\"com_droga\",\"com_droga\",\"com_droga\",\"com_droga\",\"com_droga\",\"com_droga\",\"com_droga\",\"com_droga\",\"com_droga\",\"com_controle\",\"com_droga\",\"com_droga\",\"com_droga\",\"com_droga\",\"com_droga\",\"com_droga\",\"com_droga\",\"com_droga\",\"com_droga\",\"com_droga\",\"com_droga\",\"com_droga\",\"com_controle\",\"com_droga\",\"com_droga\",\"com_droga\",\"com_droga\",\"com_droga\",\"com_droga\",\"com_droga\",\"com_droga\",\"com_droga\",\"com_droga\",\"com_droga\",\"com_droga\",\"com_droga\",\"com_droga\",\"com_droga\",\"com_droga\",\"com_droga\",\"com_droga\",\"com_droga\",\"com_droga\",\"com_droga\",\"com_droga\",\"com_controle\",\"com_droga\",\"com_controle\",\"com_droga\",\"com_droga\",\"com_droga\",\"com_droga\",\"com_droga\",\"com_droga\",\"com_droga\",\"com_droga\",\"com_droga\",\"com_droga\",\"com_droga\",\"com_droga\",\"com_droga\",\"com_droga\",\"com_droga\",\"com_droga\",\"com_droga\",\"com_controle\",\"com_controle\",\"com_droga\",\"com_droga\",\"com_droga\",\"com_droga\",\"com_droga\",\"com_droga\",\"com_droga\",\"com_controle\",\"com_droga\",\"com_droga\",\"com_droga\",\"com_droga\",\"com_controle\",\"com_droga\",\"com_droga\",\"com_droga\",\"com_droga\",\"com_controle\",\"com_droga\",\"com_droga\",\"com_droga\",\"com_droga\",\"com_droga\",\"com_controle\",\"com_droga\",\"com_droga\",\"com_droga\",\"com_droga\",\"com_droga\",\"com_droga\",\"com_droga\",\"com_controle\",\"com_droga\",\"com_droga\",\"com_droga\",\"com_droga\",\"com_droga\",\"com_droga\",\"com_droga\",\"com_droga\",\"com_droga\",\"com_droga\",\"com_droga\",\"com_droga\",\"com_droga\",\"com_droga\",\"com_droga\",\"com_droga\",\"com_droga\",\"com_droga\",\"com_droga\",\"com_droga\",\"com_droga\",\"com_droga\",\"com_droga\",\"com_droga\",\"com_droga\",\"com_droga\",\"com_droga\",\"com_droga\",\"com_droga\",\"com_droga\",\"com_droga\",\"com_droga\",\"com_droga\",\"com_droga\",\"com_droga\",\"com_droga\",\"com_controle\",\"com_droga\",\"com_droga\",\"com_droga\",\"com_droga\",\"com_droga\",\"com_droga\",\"com_droga\",\"com_droga\",\"com_droga\",\"com_droga\",\"com_droga\",\"com_droga\",\"com_droga\",\"com_droga\",\"com_droga\",\"com_droga\",\"com_droga\",\"com_droga\",\"com_droga\",\"com_droga\",\"com_droga\",\"com_droga\",\"com_droga\",\"com_droga\",\"com_droga\",\"com_droga\",\"com_droga\",\"com_droga\",\"com_droga\",\"com_droga\",\"com_controle\",\"com_droga\",\"com_droga\",\"com_droga\",\"com_droga\",\"com_droga\",\"com_droga\",\"com_controle\",\"com_droga\",\"com_droga\",\"com_droga\",\"com_droga\",\"com_droga\",\"com_droga\",\"com_droga\",\"com_droga\",\"com_droga\",\"com_droga\",\"com_droga\",\"com_droga\",\"com_droga\",\"com_droga\",\"com_droga\",\"com_droga\",\"com_droga\",\"com_droga\",\"com_droga\",\"com_droga\",\"com_droga\",\"com_droga\",\"com_droga\",\"com_droga\",\"com_droga\",\"com_droga\",\"com_droga\",\"com_droga\",\"com_droga\",\"com_droga\",\"com_droga\",\"com_droga\",\"com_droga\",\"com_droga\",\"com_droga\",\"com_droga\",\"com_droga\",\"com_droga\",\"com_droga\",\"com_droga\",\"com_droga\",\"com_droga\",\"com_droga\",\"com_droga\",\"com_controle\",\"com_droga\",\"com_droga\",\"com_droga\",\"com_droga\",\"com_droga\",\"com_droga\",\"com_droga\",\"com_droga\",\"com_droga\",\"com_droga\",\"com_droga\",\"com_droga\",\"com_controle\",\"com_droga\",\"com_droga\",\"com_droga\",\"com_droga\",\"com_droga\",\"com_droga\",\"com_droga\",\"com_droga\",\"com_droga\",\"com_droga\",\"com_droga\",\"com_droga\",\"com_droga\",\"com_droga\",\"com_droga\",\"com_controle\",\"com_controle\",\"com_droga\",\"com_controle\",\"com_droga\",\"com_droga\",\"com_droga\",\"com_droga\",\"com_droga\",\"com_droga\",\"com_droga\",\"com_droga\",\"com_droga\",\"com_droga\",\"com_droga\",\"com_droga\",\"com_droga\",\"com_droga\",\"com_droga\",\"com_droga\",\"com_droga\",\"com_droga\",\"com_droga\",\"com_droga\",\"com_droga\",\"com_controle\",\"com_droga\",\"com_droga\",\"com_droga\",\"com_droga\",\"com_droga\",\"com_droga\",\"com_droga\",\"com_droga\",\"com_droga\",\"com_droga\",\"com_droga\",\"com_droga\",\"com_droga\",\"com_droga\",\"com_droga\",\"com_droga\",\"com_droga\",\"com_droga\",\"com_droga\",\"com_droga\",\"com_controle\",\"com_controle\",\"com_droga\",\"com_controle\",\"com_droga\",\"com_droga\",\"com_droga\",\"com_controle\",\"com_droga\",\"com_droga\",\"com_droga\",\"com_droga\",\"com_droga\",\"com_droga\",\"com_droga\",\"com_droga\",\"com_droga\",\"com_droga\",\"com_droga\",\"com_droga\",\"com_droga\",\"com_droga\",\"com_droga\",\"com_droga\",\"com_droga\",\"com_droga\",\"com_droga\",\"com_droga\",\"com_droga\",\"com_droga\",\"com_droga\",\"com_droga\",\"com_droga\",\"com_droga\",\"com_droga\",\"com_droga\",\"com_droga\",\"com_droga\",\"com_droga\",\"com_droga\",\"com_droga\",\"com_droga\",\"com_droga\",\"com_droga\",\"com_droga\",\"com_droga\",\"com_droga\",\"com_droga\",\"com_droga\",\"com_droga\",\"com_droga\",\"com_droga\",\"com_droga\",\"com_droga\",\"com_droga\",\"com_droga\",\"com_droga\",\"com_droga\",\"com_droga\",\"com_droga\",\"com_droga\",\"com_droga\",\"com_droga\",\"com_droga\",\"com_droga\",\"com_droga\",\"com_droga\",\"com_droga\",\"com_droga\",\"com_droga\",\"com_droga\",\"com_droga\",\"com_controle\",\"com_controle\",\"com_droga\",\"com_droga\",\"com_droga\",\"com_droga\",\"com_droga\",\"com_droga\",\"com_droga\",\"com_droga\",\"com_droga\",\"com_droga\",\"com_droga\",\"com_droga\",\"com_droga\",\"com_droga\",\"com_droga\",\"com_droga\",\"com_droga\",\"com_droga\",\"com_droga\",\"com_droga\",\"com_droga\",\"com_droga\",\"com_droga\",\"com_droga\",\"com_droga\",\"com_droga\",\"com_droga\",\"com_droga\",\"com_droga\",\"com_droga\",\"com_droga\",\"com_controle\",\"com_droga\",\"com_droga\",\"com_droga\",\"com_droga\",\"com_droga\",\"com_droga\",\"com_droga\",\"com_droga\",\"com_droga\",\"com_droga\",\"com_droga\",\"com_droga\",\"com_controle\",\"com_droga\",\"com_droga\",\"com_droga\",\"com_droga\",\"com_droga\",\"com_droga\",\"com_droga\",\"com_droga\",\"com_droga\",\"com_droga\",\"com_droga\",\"com_droga\",\"com_droga\",\"com_droga\",\"com_controle\",\"com_droga\",\"com_droga\",\"com_droga\",\"com_droga\",\"com_droga\",\"com_droga\",\"com_droga\",\"com_droga\",\"com_droga\",\"com_droga\",\"com_droga\",\"com_droga\",\"com_droga\",\"com_droga\",\"com_controle\",\"com_droga\",\"com_droga\",\"com_droga\",\"com_droga\",\"com_droga\",\"com_droga\",\"com_droga\",\"com_droga\",\"com_droga\",\"com_droga\",\"com_droga\",\"com_droga\",\"com_controle\",\"com_droga\",\"com_droga\",\"com_droga\",\"com_droga\",\"com_droga\",\"com_droga\",\"com_droga\",\"com_droga\",\"com_droga\",\"com_droga\",\"com_droga\",\"com_droga\",\"com_droga\",\"com_droga\",\"com_droga\",\"com_droga\",\"com_droga\",\"com_droga\",\"com_droga\",\"com_droga\",\"com_droga\",\"com_droga\",\"com_droga\",\"com_droga\",\"com_controle\",\"com_droga\",\"com_droga\",\"com_droga\",\"com_droga\",\"com_droga\",\"com_droga\",\"com_droga\",\"com_droga\",\"com_droga\",\"com_droga\",\"com_droga\",\"com_droga\",\"com_droga\",\"com_droga\",\"com_droga\",\"com_droga\",\"com_controle\",\"com_droga\",\"com_droga\",\"com_droga\",\"com_droga\",\"com_droga\",\"com_droga\",\"com_droga\",\"com_droga\",\"com_droga\",\"com_droga\",\"com_controle\",\"com_droga\",\"com_droga\",\"com_controle\",\"com_droga\",\"com_droga\",\"com_droga\",\"com_droga\",\"com_droga\",\"com_droga\",\"com_droga\",\"com_droga\",\"com_droga\",\"com_droga\",\"com_droga\",\"com_droga\",\"com_droga\",\"com_droga\",\"com_droga\",\"com_droga\",\"com_droga\",\"com_droga\",\"com_controle\",\"com_droga\",\"com_droga\",\"com_droga\",\"com_droga\",\"com_droga\",\"com_droga\",\"com_droga\",\"com_droga\",\"com_droga\",\"com_droga\",\"com_droga\",\"com_droga\",\"com_droga\",\"com_droga\",\"com_droga\",\"com_droga\",\"com_controle\",\"com_droga\",\"com_droga\",\"com_droga\",\"com_controle\",\"com_droga\",\"com_droga\",\"com_droga\",\"com_droga\",\"com_droga\",\"com_droga\",\"com_droga\",\"com_droga\",\"com_droga\",\"com_droga\",\"com_droga\",\"com_droga\",\"com_droga\",\"com_droga\",\"com_droga\",\"com_droga\",\"com_droga\",\"com_droga\",\"com_droga\",\"com_droga\",\"com_droga\",\"com_droga\",\"com_droga\",\"com_droga\",\"com_droga\",\"com_droga\",\"com_droga\",\"com_droga\",\"com_droga\",\"com_droga\",\"com_controle\",\"com_controle\",\"com_droga\",\"com_droga\",\"com_droga\",\"com_droga\",\"com_droga\",\"com_droga\",\"com_droga\",\"com_droga\",\"com_droga\",\"com_droga\",\"com_controle\",\"com_droga\",\"com_droga\",\"com_droga\",\"com_droga\",\"com_droga\",\"com_droga\",\"com_droga\",\"com_droga\",\"com_controle\",\"com_droga\",\"com_droga\",\"com_droga\",\"com_droga\",\"com_controle\",\"com_droga\",\"com_droga\",\"com_droga\",\"com_droga\",\"com_controle\",\"com_droga\",\"com_droga\",\"com_droga\",\"com_droga\",\"com_droga\",\"com_controle\",\"com_droga\",\"com_droga\",\"com_droga\",\"com_droga\",\"com_droga\",\"com_droga\",\"com_droga\",\"com_droga\",\"com_droga\",\"com_droga\",\"com_droga\",\"com_droga\",\"com_droga\",\"com_droga\",\"com_droga\",\"com_droga\",\"com_droga\",\"com_droga\",\"com_droga\",\"com_droga\",\"com_droga\",\"com_droga\",\"com_controle\",\"com_droga\",\"com_droga\",\"com_droga\",\"com_droga\",\"com_droga\",\"com_droga\",\"com_controle\",\"com_droga\",\"com_controle\",\"com_droga\",\"com_droga\",\"com_droga\",\"com_droga\",\"com_droga\",\"com_droga\",\"com_droga\",\"com_droga\",\"com_droga\",\"com_controle\",\"com_droga\",\"com_droga\",\"com_droga\",\"com_controle\",\"com_droga\",\"com_droga\",\"com_controle\",\"com_controle\",\"com_droga\",\"com_droga\",\"com_droga\",\"com_droga\",\"com_droga\",\"com_droga\",\"com_droga\",\"com_droga\",\"com_droga\",\"com_droga\",\"com_controle\",\"com_droga\",\"com_controle\",\"com_droga\",\"com_controle\",\"com_droga\",\"com_droga\",\"com_droga\",\"com_droga\",\"com_controle\",\"com_droga\",\"com_droga\",\"com_droga\",\"com_droga\",\"com_droga\",\"com_droga\",\"com_droga\",\"com_droga\",\"com_droga\",\"com_droga\",\"com_droga\",\"com_droga\",\"com_droga\",\"com_droga\",\"com_droga\",\"com_droga\",\"com_droga\",\"com_droga\",\"com_droga\",\"com_droga\",\"com_droga\",\"com_droga\",\"com_droga\",\"com_droga\",\"com_controle\",\"com_droga\",\"com_droga\",\"com_droga\",\"com_controle\",\"com_droga\",\"com_droga\",\"com_droga\",\"com_droga\",\"com_droga\",\"com_droga\",\"com_droga\",\"com_droga\",\"com_controle\",\"com_droga\",\"com_droga\",\"com_droga\",\"com_controle\",\"com_droga\",\"com_droga\",\"com_droga\",\"com_droga\",\"com_droga\",\"com_droga\",\"com_droga\",\"com_droga\",\"com_droga\",\"com_droga\",\"com_droga\",\"com_droga\",\"com_droga\",\"com_droga\",\"com_droga\",\"com_droga\",\"com_controle\",\"com_droga\",\"com_droga\",\"com_droga\",\"com_droga\",\"com_droga\",\"com_droga\",\"com_droga\",\"com_droga\",\"com_droga\",\"com_controle\",\"com_droga\",\"com_droga\",\"com_droga\",\"com_droga\",\"com_controle\",\"com_droga\",\"com_droga\",\"com_droga\",\"com_droga\",\"com_droga\",\"com_droga\",\"com_droga\",\"com_droga\",\"com_droga\",\"com_controle\",\"com_droga\",\"com_droga\",\"com_droga\",\"com_droga\",\"com_droga\",\"com_droga\",\"com_droga\",\"com_droga\",\"com_controle\",\"com_droga\",\"com_droga\",\"com_droga\",\"com_droga\",\"com_droga\",\"com_droga\",\"com_droga\",\"com_controle\",\"com_droga\",\"com_droga\",\"com_droga\",\"com_droga\",\"com_droga\",\"com_droga\",\"com_droga\",\"com_droga\",\"com_droga\",\"com_droga\",\"com_droga\",\"com_droga\",\"com_droga\",\"com_droga\",\"com_droga\",\"com_droga\",\"com_droga\",\"com_droga\",\"com_droga\",\"com_droga\",\"com_droga\",\"com_droga\",\"com_droga\",\"com_droga\",\"com_droga\",\"com_droga\",\"com_droga\",\"com_droga\",\"com_droga\",\"com_droga\",\"com_controle\",\"com_controle\",\"com_controle\",\"com_droga\",\"com_droga\",\"com_droga\",\"com_droga\",\"com_droga\",\"com_droga\",\"com_droga\",\"com_droga\",\"com_droga\",\"com_droga\",\"com_droga\",\"com_controle\",\"com_droga\",\"com_droga\",\"com_droga\",\"com_droga\",\"com_droga\",\"com_droga\",\"com_droga\",\"com_droga\",\"com_droga\",\"com_droga\",\"com_droga\",\"com_droga\",\"com_controle\",\"com_droga\",\"com_droga\",\"com_droga\",\"com_droga\",\"com_droga\",\"com_droga\",\"com_droga\",\"com_droga\",\"com_droga\",\"com_droga\",\"com_droga\",\"com_droga\",\"com_droga\",\"com_controle\",\"com_droga\",\"com_droga\",\"com_droga\",\"com_droga\",\"com_droga\",\"com_droga\",\"com_droga\",\"com_controle\",\"com_droga\",\"com_droga\",\"com_droga\",\"com_droga\",\"com_droga\",\"com_droga\",\"com_droga\",\"com_droga\",\"com_droga\",\"com_droga\",\"com_droga\",\"com_droga\",\"com_droga\",\"com_droga\",\"com_droga\",\"com_droga\",\"com_droga\",\"com_droga\",\"com_droga\",\"com_droga\",\"com_droga\",\"com_droga\",\"com_droga\",\"com_droga\",\"com_droga\",\"com_droga\",\"com_droga\",\"com_droga\",\"com_droga\",\"com_droga\",\"com_droga\",\"com_droga\",\"com_droga\",\"com_droga\",\"com_droga\",\"com_droga\",\"com_droga\",\"com_droga\",\"com_droga\",\"com_droga\",\"com_droga\",\"com_droga\",\"com_droga\",\"com_droga\",\"com_droga\",\"com_droga\",\"com_droga\",\"com_droga\",\"com_droga\",\"com_droga\",\"com_droga\",\"com_droga\",\"com_droga\",\"com_droga\",\"com_droga\",\"com_droga\",\"com_droga\",\"com_droga\",\"com_droga\",\"com_droga\",\"com_droga\",\"com_droga\",\"com_droga\",\"com_droga\",\"com_droga\",\"com_droga\",\"com_droga\",\"com_droga\",\"com_controle\",\"com_droga\",\"com_droga\",\"com_droga\",\"com_droga\",\"com_controle\",\"com_controle\",\"com_droga\",\"com_droga\",\"com_droga\",\"com_droga\",\"com_droga\",\"com_droga\",\"com_droga\",\"com_droga\",\"com_droga\",\"com_droga\",\"com_droga\",\"com_droga\",\"com_droga\",\"com_droga\",\"com_droga\",\"com_droga\",\"com_droga\",\"com_droga\",\"com_droga\",\"com_droga\",\"com_droga\",\"com_droga\",\"com_droga\",\"com_droga\",\"com_droga\",\"com_droga\",\"com_controle\",\"com_droga\",\"com_droga\",\"com_droga\",\"com_droga\",\"com_droga\",\"com_droga\",\"com_droga\",\"com_droga\",\"com_droga\",\"com_droga\",\"com_droga\",\"com_controle\",\"com_droga\",\"com_droga\",\"com_droga\",\"com_droga\",\"com_droga\",\"com_droga\",\"com_droga\",\"com_droga\",\"com_droga\",\"com_droga\",\"com_droga\",\"com_droga\",\"com_droga\",\"com_droga\",\"com_droga\",\"com_droga\",\"com_droga\",\"com_droga\",\"com_droga\",\"com_controle\",\"com_droga\",\"com_droga\",\"com_droga\",\"com_droga\",\"com_droga\",\"com_droga\",\"com_droga\",\"com_droga\",\"com_droga\",\"com_droga\",\"com_droga\",\"com_droga\",\"com_droga\",\"com_droga\",\"com_droga\",\"com_droga\",\"com_droga\",\"com_droga\",\"com_droga\",\"com_droga\",\"com_droga\",\"com_droga\",\"com_droga\",\"com_droga\",\"com_droga\",\"com_droga\",\"com_droga\",\"com_droga\",\"com_droga\",\"com_droga\",\"com_droga\",\"com_droga\",\"com_droga\",\"com_droga\",\"com_droga\",\"com_droga\",\"com_droga\",\"com_droga\",\"com_droga\",\"com_droga\",\"com_droga\",\"com_droga\",\"com_droga\",\"com_droga\",\"com_droga\",\"com_droga\",\"com_droga\",\"com_droga\",\"com_droga\",\"com_droga\",\"com_droga\",\"com_droga\",\"com_droga\",\"com_droga\",\"com_droga\",\"com_droga\",\"com_droga\",\"com_droga\",\"com_droga\",\"com_controle\",\"com_droga\",\"com_droga\",\"com_droga\",\"com_droga\",\"com_droga\",\"com_droga\",\"com_droga\",\"com_droga\",\"com_droga\",\"com_droga\",\"com_droga\",\"com_droga\",\"com_droga\",\"com_droga\",\"com_droga\",\"com_droga\",\"com_droga\",\"com_droga\",\"com_controle\",\"com_droga\",\"com_droga\",\"com_droga\",\"com_droga\",\"com_droga\",\"com_droga\",\"com_droga\",\"com_droga\",\"com_droga\",\"com_droga\",\"com_droga\",\"com_droga\",\"com_droga\",\"com_droga\",\"com_droga\",\"com_droga\",\"com_droga\",\"com_controle\",\"com_droga\",\"com_droga\",\"com_droga\",\"com_droga\",\"com_droga\",\"com_droga\",\"com_droga\",\"com_droga\",\"com_droga\",\"com_droga\",\"com_droga\",\"com_droga\",\"com_controle\",\"com_droga\",\"com_droga\",\"com_droga\",\"com_droga\",\"com_droga\",\"com_droga\",\"com_droga\",\"com_droga\",\"com_droga\",\"com_droga\",\"com_droga\",\"com_droga\",\"com_droga\",\"com_droga\",\"com_droga\",\"com_controle\",\"com_droga\",\"com_droga\",\"com_droga\",\"com_droga\",\"com_droga\",\"com_droga\",\"com_droga\",\"com_droga\",\"com_droga\",\"com_droga\",\"com_controle\",\"com_droga\",\"com_droga\",\"com_droga\",\"com_droga\",\"com_droga\",\"com_droga\",\"com_droga\",\"com_droga\",\"com_droga\",\"com_droga\",\"com_droga\",\"com_droga\",\"com_droga\",\"com_droga\",\"com_droga\",\"com_droga\",\"com_droga\",\"com_droga\",\"com_droga\",\"com_droga\",\"com_droga\",\"com_droga\",\"com_controle\",\"com_droga\",\"com_droga\",\"com_droga\",\"com_droga\",\"com_droga\",\"com_droga\",\"com_droga\",\"com_droga\",\"com_droga\",\"com_droga\",\"com_droga\",\"com_droga\",\"com_droga\",\"com_droga\",\"com_droga\",\"com_droga\",\"com_droga\",\"com_droga\",\"com_droga\",\"com_droga\",\"com_droga\",\"com_droga\",\"com_droga\",\"com_droga\",\"com_droga\",\"com_droga\",\"com_droga\",\"com_droga\",\"com_droga\",\"com_controle\",\"com_droga\",\"com_droga\",\"com_droga\",\"com_droga\",\"com_droga\",\"com_droga\",\"com_droga\",\"com_droga\",\"com_droga\",\"com_droga\",\"com_droga\",\"com_droga\",\"com_droga\",\"com_droga\",\"com_controle\",\"com_controle\",\"com_droga\",\"com_droga\",\"com_droga\",\"com_droga\",\"com_droga\",\"com_droga\",\"com_droga\",\"com_droga\",\"com_droga\",\"com_droga\",\"com_droga\",\"com_droga\",\"com_droga\",\"com_droga\",\"com_droga\",\"com_droga\",\"com_droga\",\"com_droga\",\"com_droga\",\"com_droga\",\"com_droga\",\"com_droga\",\"com_droga\",\"com_droga\",\"com_controle\",\"com_droga\",\"com_droga\",\"com_droga\",\"com_droga\",\"com_droga\",\"com_droga\",\"com_droga\",\"com_droga\",\"com_droga\",\"com_droga\",\"com_droga\",\"com_droga\",\"com_droga\",\"com_droga\",\"com_droga\",\"com_droga\",\"com_droga\",\"com_droga\",\"com_droga\",\"com_droga\",\"com_droga\",\"com_droga\",\"com_droga\",\"com_droga\",\"com_droga\",\"com_droga\",\"com_droga\",\"com_droga\",\"com_droga\",\"com_droga\",\"com_droga\",\"com_droga\",\"com_droga\",\"com_droga\",\"com_droga\",\"com_droga\",\"com_droga\",\"com_droga\",\"com_droga\",\"com_droga\",\"com_droga\",\"com_droga\",\"com_droga\",\"com_droga\",\"com_droga\",\"com_droga\",\"com_droga\",\"com_droga\",\"com_droga\",\"com_controle\",\"com_droga\",\"com_droga\",\"com_droga\",\"com_droga\",\"com_droga\",\"com_droga\",\"com_droga\",\"com_droga\",\"com_droga\",\"com_droga\",\"com_droga\",\"com_droga\",\"com_droga\",\"com_droga\",\"com_droga\",\"com_droga\",\"com_droga\",\"com_droga\",\"com_droga\",\"com_droga\",\"com_droga\",\"com_droga\",\"com_droga\",\"com_droga\",\"com_droga\",\"com_droga\",\"com_droga\",\"com_droga\",\"com_droga\",\"com_droga\",\"com_droga\",\"com_droga\",\"com_droga\",\"com_droga\",\"com_controle\",\"com_droga\",\"com_droga\",\"com_droga\",\"com_controle\",\"com_droga\",\"com_droga\",\"com_droga\",\"com_droga\",\"com_droga\",\"com_droga\",\"com_droga\",\"com_controle\",\"com_droga\",\"com_droga\",\"com_droga\",\"com_droga\",\"com_droga\",\"com_droga\",\"com_droga\",\"com_droga\",\"com_droga\",\"com_droga\",\"com_droga\",\"com_droga\",\"com_droga\",\"com_droga\",\"com_droga\",\"com_droga\",\"com_droga\",\"com_droga\",\"com_droga\",\"com_droga\",\"com_droga\",\"com_droga\",\"com_droga\",\"com_droga\",\"com_droga\",\"com_droga\",\"com_droga\",\"com_droga\",\"com_droga\",\"com_droga\",\"com_controle\",\"com_controle\",\"com_droga\",\"com_droga\",\"com_droga\",\"com_droga\",\"com_droga\",\"com_controle\",\"com_droga\",\"com_droga\",\"com_droga\",\"com_droga\",\"com_droga\",\"com_droga\",\"com_controle\",\"com_droga\",\"com_controle\",\"com_droga\",\"com_droga\",\"com_droga\",\"com_droga\",\"com_droga\",\"com_droga\",\"com_droga\",\"com_droga\",\"com_droga\",\"com_droga\",\"com_droga\",\"com_droga\",\"com_droga\",\"com_droga\",\"com_droga\",\"com_droga\",\"com_droga\",\"com_droga\",\"com_droga\",\"com_droga\",\"com_droga\",\"com_droga\",\"com_droga\",\"com_droga\",\"com_droga\",\"com_droga\",\"com_droga\",\"com_droga\",\"com_droga\",\"com_droga\",\"com_droga\",\"com_droga\",\"com_droga\",\"com_droga\",\"com_droga\",\"com_droga\",\"com_droga\",\"com_droga\",\"com_controle\",\"com_droga\",\"com_droga\",\"com_droga\",\"com_droga\",\"com_droga\",\"com_controle\",\"com_droga\",\"com_droga\",\"com_droga\",\"com_droga\",\"com_droga\",\"com_droga\",\"com_droga\",\"com_droga\",\"com_droga\",\"com_droga\",\"com_droga\",\"com_droga\",\"com_droga\",\"com_droga\",\"com_droga\",\"com_droga\",\"com_droga\",\"com_droga\",\"com_droga\",\"com_droga\",\"com_droga\",\"com_droga\",\"com_droga\",\"com_droga\",\"com_droga\",\"com_droga\",\"com_controle\",\"com_droga\",\"com_droga\",\"com_droga\",\"com_droga\",\"com_droga\",\"com_droga\",\"com_droga\",\"com_controle\",\"com_droga\",\"com_droga\",\"com_droga\",\"com_droga\",\"com_droga\",\"com_droga\",\"com_droga\",\"com_droga\",\"com_droga\",\"com_droga\",\"com_droga\",\"com_droga\",\"com_droga\",\"com_droga\",\"com_droga\",\"com_droga\",\"com_droga\",\"com_droga\",\"com_droga\",\"com_droga\",\"com_droga\",\"com_droga\",\"com_droga\",\"com_droga\",\"com_droga\",\"com_droga\",\"com_droga\",\"com_droga\",\"com_droga\",\"com_droga\",\"com_droga\",\"com_droga\",\"com_droga\",\"com_droga\",\"com_droga\",\"com_droga\",\"com_droga\",\"com_droga\",\"com_droga\",\"com_controle\",\"com_droga\",\"com_droga\",\"com_droga\",\"com_droga\",\"com_droga\",\"com_droga\",\"com_droga\",\"com_droga\",\"com_droga\",\"com_droga\",\"com_droga\",\"com_droga\",\"com_droga\",\"com_droga\",\"com_droga\",\"com_droga\",\"com_droga\",\"com_droga\",\"com_droga\",\"com_droga\",\"com_controle\",\"com_droga\",\"com_droga\",\"com_droga\",\"com_droga\",\"com_droga\",\"com_droga\",\"com_droga\",\"com_droga\",\"com_droga\",\"com_droga\",\"com_droga\",\"com_droga\",\"com_droga\",\"com_droga\",\"com_droga\",\"com_droga\",\"com_droga\",\"com_droga\",\"com_droga\",\"com_droga\",\"com_droga\",\"com_controle\",\"com_droga\",\"com_droga\",\"com_droga\",\"com_droga\",\"com_droga\",\"com_droga\",\"com_controle\",\"com_droga\",\"com_droga\",\"com_controle\",\"com_droga\",\"com_droga\",\"com_droga\",\"com_droga\",\"com_droga\",\"com_droga\",\"com_controle\",\"com_droga\",\"com_droga\",\"com_droga\",\"com_droga\",\"com_droga\",\"com_droga\",\"com_droga\",\"com_droga\",\"com_droga\",\"com_droga\",\"com_droga\",\"com_droga\",\"com_droga\",\"com_controle\",\"com_droga\",\"com_droga\",\"com_droga\",\"com_droga\",\"com_droga\",\"com_droga\",\"com_droga\",\"com_droga\",\"com_droga\",\"com_droga\",\"com_droga\",\"com_droga\",\"com_droga\",\"com_droga\",\"com_droga\",\"com_droga\",\"com_droga\",\"com_droga\",\"com_droga\",\"com_droga\",\"com_droga\",\"com_droga\",\"com_droga\",\"com_droga\",\"com_droga\",\"com_droga\",\"com_droga\",\"com_droga\",\"com_droga\",\"com_droga\",\"com_controle\",\"com_controle\",\"com_droga\",\"com_droga\",\"com_droga\",\"com_droga\",\"com_droga\",\"com_droga\",\"com_droga\",\"com_droga\",\"com_droga\",\"com_droga\",\"com_droga\",\"com_droga\",\"com_controle\",\"com_controle\",\"com_droga\",\"com_droga\",\"com_droga\",\"com_droga\",\"com_droga\",\"com_droga\",\"com_droga\",\"com_droga\",\"com_droga\",\"com_droga\",\"com_droga\",\"com_droga\",\"com_droga\",\"com_controle\",\"com_droga\",\"com_droga\",\"com_controle\",\"com_droga\",\"com_droga\",\"com_droga\",\"com_droga\",\"com_droga\",\"com_droga\",\"com_droga\",\"com_droga\",\"com_droga\",\"com_droga\",\"com_droga\",\"com_droga\",\"com_droga\",\"com_droga\",\"com_droga\",\"com_droga\",\"com_droga\",\"com_controle\",\"com_droga\",\"com_droga\",\"com_droga\",\"com_droga\",\"com_droga\",\"com_controle\",\"com_droga\",\"com_droga\",\"com_droga\",\"com_droga\",\"com_droga\",\"com_droga\",\"com_controle\",\"com_controle\",\"com_droga\",\"com_droga\",\"com_droga\",\"com_droga\",\"com_droga\",\"com_droga\",\"com_droga\",\"com_droga\",\"com_droga\",\"com_droga\",\"com_droga\",\"com_droga\",\"com_droga\",\"com_droga\",\"com_droga\",\"com_droga\",\"com_droga\",\"com_droga\",\"com_controle\",\"com_droga\",\"com_droga\",\"com_droga\",\"com_droga\",\"com_droga\",\"com_droga\",\"com_droga\",\"com_controle\",\"com_droga\",\"com_controle\",\"com_droga\",\"com_droga\",\"com_controle\",\"com_droga\",\"com_droga\",\"com_droga\",\"com_droga\",\"com_droga\",\"com_droga\",\"com_controle\",\"com_droga\",\"com_droga\",\"com_droga\",\"com_droga\",\"com_droga\",\"com_droga\",\"com_droga\",\"com_droga\",\"com_droga\",\"com_droga\",\"com_droga\",\"com_droga\",\"com_droga\",\"com_droga\",\"com_droga\",\"com_droga\",\"com_droga\",\"com_droga\",\"com_droga\",\"com_droga\",\"com_controle\",\"com_droga\",\"com_droga\",\"com_droga\",\"com_controle\",\"com_droga\",\"com_droga\",\"com_droga\",\"com_droga\",\"com_droga\",\"com_droga\",\"com_droga\",\"com_droga\",\"com_droga\",\"com_droga\",\"com_droga\",\"com_droga\",\"com_droga\",\"com_droga\",\"com_droga\",\"com_droga\",\"com_droga\",\"com_droga\",\"com_droga\",\"com_droga\",\"com_droga\",\"com_droga\",\"com_droga\",\"com_droga\",\"com_droga\",\"com_droga\",\"com_controle\",\"com_droga\",\"com_droga\",\"com_droga\",\"com_droga\",\"com_droga\",\"com_droga\",\"com_droga\",\"com_droga\",\"com_droga\",\"com_droga\",\"com_droga\",\"com_droga\",\"com_droga\",\"com_droga\",\"com_droga\",\"com_droga\",\"com_droga\",\"com_droga\",\"com_droga\",\"com_droga\",\"com_droga\",\"com_droga\",\"com_droga\",\"com_droga\",\"com_controle\",\"com_droga\",\"com_droga\",\"com_droga\",\"com_droga\",\"com_droga\",\"com_droga\",\"com_droga\",\"com_droga\",\"com_droga\",\"com_droga\",\"com_controle\",\"com_droga\",\"com_droga\",\"com_controle\",\"com_droga\",\"com_droga\",\"com_droga\",\"com_droga\",\"com_droga\",\"com_droga\",\"com_droga\",\"com_droga\",\"com_droga\",\"com_droga\",\"com_droga\",\"com_droga\",\"com_droga\",\"com_droga\",\"com_droga\",\"com_controle\",\"com_droga\",\"com_droga\",\"com_droga\",\"com_droga\",\"com_droga\",\"com_droga\",\"com_droga\",\"com_droga\",\"com_droga\",\"com_droga\",\"com_droga\",\"com_droga\",\"com_droga\",\"com_droga\",\"com_droga\",\"com_droga\",\"com_droga\",\"com_droga\",\"com_droga\",\"com_droga\",\"com_droga\",\"com_droga\",\"com_droga\",\"com_droga\",\"com_droga\",\"com_droga\",\"com_droga\",\"com_droga\",\"com_droga\",\"com_droga\",\"com_droga\",\"com_droga\",\"com_droga\",\"com_droga\",\"com_droga\",\"com_droga\",\"com_droga\",\"com_droga\",\"com_droga\",\"com_droga\",\"com_droga\",\"com_droga\",\"com_droga\",\"com_droga\",\"com_droga\",\"com_controle\",\"com_droga\",\"com_droga\",\"com_droga\",\"com_droga\",\"com_droga\",\"com_droga\",\"com_droga\",\"com_droga\",\"com_droga\",\"com_controle\",\"com_droga\",\"com_droga\",\"com_droga\",\"com_droga\",\"com_droga\",\"com_droga\",\"com_controle\",\"com_droga\",\"com_droga\",\"com_droga\",\"com_droga\",\"com_droga\",\"com_droga\",\"com_droga\",\"com_controle\",\"com_controle\",\"com_controle\",\"com_droga\",\"com_droga\",\"com_droga\",\"com_droga\",\"com_droga\",\"com_droga\",\"com_droga\",\"com_droga\",\"com_controle\",\"com_droga\",\"com_droga\",\"com_droga\",\"com_droga\",\"com_droga\",\"com_droga\",\"com_droga\",\"com_controle\",\"com_controle\",\"com_droga\",\"com_droga\",\"com_droga\",\"com_droga\",\"com_droga\",\"com_droga\",\"com_droga\",\"com_droga\",\"com_droga\",\"com_droga\",\"com_droga\",\"com_droga\",\"com_droga\",\"com_droga\",\"com_controle\",\"com_droga\",\"com_droga\",\"com_droga\",\"com_droga\",\"com_droga\",\"com_droga\",\"com_droga\",\"com_droga\",\"com_droga\",\"com_droga\",\"com_droga\",\"com_droga\",\"com_droga\",\"com_droga\",\"com_droga\",\"com_droga\",\"com_droga\",\"com_droga\",\"com_droga\",\"com_droga\",\"com_droga\",\"com_droga\",\"com_controle\",\"com_droga\",\"com_droga\",\"com_droga\",\"com_droga\",\"com_droga\",\"com_droga\",\"com_droga\",\"com_droga\",\"com_droga\",\"com_droga\",\"com_droga\",\"com_droga\",\"com_droga\",\"com_droga\",\"com_droga\",\"com_controle\",\"com_droga\",\"com_droga\",\"com_droga\",\"com_droga\",\"com_droga\",\"com_droga\",\"com_droga\",\"com_droga\",\"com_droga\",\"com_controle\",\"com_droga\",\"com_droga\",\"com_droga\",\"com_droga\",\"com_droga\",\"com_droga\",\"com_droga\",\"com_droga\",\"com_droga\",\"com_droga\",\"com_droga\",\"com_droga\",\"com_droga\",\"com_droga\",\"com_droga\",\"com_droga\",\"com_droga\",\"com_droga\",\"com_droga\",\"com_droga\",\"com_droga\",\"com_droga\",\"com_droga\",\"com_droga\",\"com_droga\",\"com_droga\",\"com_droga\",\"com_droga\",\"com_droga\",\"com_droga\",\"com_droga\",\"com_droga\",\"com_controle\",\"com_droga\",\"com_droga\",\"com_droga\",\"com_droga\",\"com_droga\",\"com_droga\",\"com_droga\",\"com_droga\",\"com_droga\",\"com_droga\",\"com_droga\",\"com_droga\",\"com_droga\",\"com_droga\",\"com_droga\",\"com_droga\",\"com_droga\",\"com_droga\",\"com_droga\",\"com_droga\",\"com_droga\",\"com_controle\",\"com_droga\",\"com_droga\",\"com_droga\",\"com_droga\",\"com_droga\",\"com_droga\",\"com_droga\",\"com_droga\",\"com_droga\",\"com_droga\",\"com_droga\",\"com_droga\",\"com_droga\",\"com_droga\",\"com_droga\",\"com_droga\",\"com_droga\",\"com_droga\",\"com_droga\",\"com_droga\",\"com_droga\",\"com_controle\",\"com_droga\",\"com_droga\",\"com_droga\",\"com_droga\",\"com_droga\",\"com_droga\",\"com_droga\",\"com_droga\",\"com_controle\",\"com_droga\",\"com_droga\",\"com_droga\",\"com_droga\",\"com_droga\",\"com_droga\",\"com_droga\",\"com_droga\",\"com_droga\",\"com_droga\",\"com_droga\",\"com_droga\",\"com_droga\",\"com_droga\",\"com_droga\",\"com_droga\",\"com_droga\",\"com_droga\",\"com_controle\",\"com_droga\",\"com_droga\",\"com_droga\",\"com_droga\",\"com_droga\",\"com_droga\",\"com_droga\",\"com_droga\",\"com_droga\",\"com_droga\",\"com_droga\",\"com_droga\",\"com_controle\",\"com_droga\",\"com_droga\",\"com_droga\",\"com_droga\",\"com_droga\",\"com_droga\",\"com_droga\",\"com_droga\",\"com_droga\",\"com_droga\",\"com_droga\",\"com_droga\",\"com_controle\",\"com_droga\",\"com_droga\",\"com_droga\",\"com_droga\",\"com_droga\",\"com_droga\",\"com_droga\",\"com_droga\",\"com_droga\",\"com_droga\",\"com_droga\",\"com_droga\",\"com_droga\",\"com_droga\",\"com_droga\",\"com_droga\",\"com_droga\",\"com_droga\",\"com_droga\",\"com_controle\",\"com_droga\",\"com_droga\",\"com_droga\",\"com_droga\",\"com_droga\",\"com_droga\",\"com_droga\",\"com_droga\",\"com_droga\",\"com_droga\",\"com_controle\",\"com_droga\",\"com_controle\",\"com_droga\",\"com_controle\",\"com_droga\",\"com_droga\",\"com_droga\",\"com_droga\",\"com_droga\",\"com_droga\",\"com_droga\",\"com_controle\",\"com_droga\",\"com_droga\",\"com_droga\",\"com_droga\",\"com_droga\",\"com_droga\",\"com_droga\",\"com_droga\",\"com_controle\",\"com_droga\",\"com_droga\",\"com_droga\",\"com_droga\",\"com_droga\",\"com_droga\",\"com_droga\",\"com_droga\",\"com_droga\",\"com_droga\",\"com_controle\",\"com_droga\",\"com_droga\",\"com_droga\",\"com_droga\",\"com_droga\",\"com_droga\",\"com_droga\",\"com_droga\",\"com_droga\",\"com_droga\",\"com_droga\",\"com_droga\",\"com_droga\",\"com_droga\",\"com_droga\",\"com_droga\",\"com_droga\",\"com_droga\",\"com_droga\",\"com_droga\",\"com_droga\",\"com_droga\",\"com_droga\",\"com_droga\",\"com_droga\",\"com_droga\",\"com_droga\",\"com_droga\",\"com_droga\",\"com_droga\",\"com_controle\",\"com_droga\",\"com_droga\",\"com_droga\",\"com_droga\",\"com_droga\",\"com_droga\",\"com_droga\",\"com_droga\",\"com_droga\",\"com_droga\",\"com_droga\",\"com_droga\",\"com_droga\",\"com_controle\",\"com_droga\",\"com_droga\",\"com_droga\",\"com_droga\",\"com_droga\",\"com_droga\",\"com_droga\",\"com_droga\",\"com_droga\",\"com_droga\",\"com_droga\",\"com_droga\",\"com_droga\",\"com_droga\",\"com_droga\",\"com_droga\",\"com_droga\",\"com_controle\",\"com_droga\",\"com_droga\",\"com_droga\",\"com_controle\",\"com_droga\",\"com_droga\",\"com_droga\",\"com_droga\",\"com_controle\",\"com_droga\",\"com_droga\",\"com_droga\",\"com_droga\",\"com_droga\",\"com_droga\",\"com_droga\",\"com_droga\",\"com_droga\",\"com_droga\",\"com_droga\",\"com_droga\",\"com_droga\",\"com_droga\",\"com_droga\",\"com_droga\",\"com_droga\",\"com_droga\",\"com_droga\",\"com_droga\",\"com_droga\",\"com_droga\",\"com_droga\",\"com_droga\",\"com_droga\",\"com_droga\",\"com_droga\",\"com_droga\",\"com_droga\",\"com_droga\",\"com_droga\",\"com_droga\",\"com_controle\",\"com_droga\",\"com_droga\",\"com_controle\",\"com_droga\",\"com_droga\",\"com_droga\",\"com_droga\",\"com_droga\",\"com_droga\",\"com_droga\",\"com_droga\",\"com_droga\",\"com_droga\",\"com_controle\",\"com_droga\",\"com_droga\",\"com_droga\",\"com_droga\",\"com_droga\",\"com_droga\",\"com_droga\",\"com_droga\",\"com_droga\",\"com_droga\",\"com_controle\",\"com_droga\",\"com_controle\",\"com_droga\",\"com_droga\",\"com_droga\",\"com_droga\",\"com_droga\",\"com_droga\",\"com_droga\",\"com_droga\",\"com_droga\",\"com_droga\",\"com_controle\",\"com_droga\",\"com_droga\",\"com_droga\",\"com_droga\",\"com_droga\",\"com_droga\",\"com_droga\",\"com_droga\",\"com_droga\",\"com_droga\",\"com_droga\",\"com_droga\",\"com_droga\",\"com_droga\",\"com_droga\",\"com_droga\",\"com_droga\",\"com_droga\",\"com_droga\",\"com_droga\",\"com_droga\",\"com_droga\",\"com_droga\",\"com_droga\",\"com_droga\",\"com_droga\",\"com_droga\",\"com_droga\",\"com_droga\",\"com_droga\",\"com_droga\",\"com_droga\",\"com_droga\",\"com_droga\",\"com_droga\",\"com_droga\",\"com_controle\",\"com_droga\",\"com_droga\",\"com_droga\",\"com_droga\",\"com_controle\",\"com_droga\",\"com_droga\",\"com_droga\",\"com_droga\",\"com_droga\",\"com_droga\",\"com_droga\",\"com_droga\",\"com_droga\",\"com_droga\",\"com_droga\",\"com_droga\",\"com_droga\",\"com_droga\",\"com_controle\",\"com_droga\",\"com_droga\",\"com_droga\",\"com_droga\",\"com_droga\",\"com_droga\",\"com_droga\",\"com_droga\",\"com_droga\",\"com_droga\",\"com_droga\",\"com_controle\",\"com_droga\",\"com_controle\",\"com_controle\",\"com_controle\",\"com_controle\",\"com_droga\",\"com_controle\",\"com_droga\",\"com_droga\",\"com_droga\",\"com_droga\",\"com_droga\",\"com_controle\",\"com_droga\",\"com_droga\",\"com_droga\",\"com_droga\",\"com_droga\",\"com_droga\",\"com_droga\",\"com_droga\",\"com_droga\",\"com_droga\",\"com_droga\",\"com_droga\",\"com_droga\",\"com_controle\",\"com_droga\",\"com_droga\",\"com_droga\",\"com_controle\",\"com_droga\",\"com_droga\",\"com_droga\",\"com_droga\",\"com_droga\",\"com_droga\",\"com_droga\",\"com_droga\",\"com_droga\",\"com_droga\",\"com_droga\",\"com_droga\",\"com_droga\",\"com_droga\",\"com_droga\",\"com_droga\",\"com_droga\",\"com_droga\",\"com_droga\",\"com_droga\",\"com_droga\",\"com_droga\",\"com_controle\",\"com_droga\",\"com_droga\",\"com_droga\",\"com_droga\",\"com_droga\",\"com_droga\",\"com_droga\",\"com_droga\",\"com_droga\",\"com_droga\",\"com_droga\",\"com_droga\",\"com_droga\",\"com_droga\",\"com_droga\",\"com_droga\",\"com_droga\",\"com_droga\",\"com_droga\",\"com_droga\",\"com_droga\",\"com_droga\",\"com_controle\",\"com_droga\",\"com_droga\",\"com_droga\",\"com_droga\",\"com_droga\",\"com_droga\",\"com_droga\",\"com_droga\",\"com_droga\",\"com_droga\",\"com_droga\",\"com_controle\",\"com_droga\",\"com_droga\",\"com_droga\",\"com_droga\",\"com_droga\",\"com_droga\",\"com_droga\",\"com_droga\",\"com_droga\",\"com_droga\",\"com_droga\",\"com_droga\",\"com_droga\",\"com_droga\",\"com_droga\",\"com_droga\",\"com_droga\",\"com_droga\",\"com_droga\",\"com_droga\",\"com_droga\",\"com_droga\",\"com_droga\",\"com_droga\",\"com_droga\",\"com_controle\",\"com_droga\",\"com_droga\",\"com_droga\",\"com_droga\",\"com_droga\",\"com_droga\",\"com_droga\",\"com_droga\",\"com_droga\",\"com_droga\",\"com_droga\",\"com_droga\",\"com_droga\",\"com_droga\",\"com_droga\",\"com_droga\",\"com_droga\",\"com_droga\",\"com_droga\",\"com_droga\",\"com_droga\",\"com_droga\",\"com_droga\",\"com_droga\",\"com_droga\",\"com_controle\",\"com_droga\",\"com_droga\",\"com_droga\",\"com_droga\",\"com_controle\",\"com_droga\",\"com_droga\",\"com_droga\",\"com_droga\",\"com_droga\",\"com_droga\",\"com_droga\",\"com_droga\",\"com_droga\",\"com_droga\",\"com_droga\",\"com_droga\",\"com_droga\",\"com_droga\",\"com_droga\",\"com_droga\",\"com_droga\",\"com_droga\",\"com_droga\",\"com_droga\",\"com_droga\",\"com_controle\",\"com_controle\",\"com_droga\",\"com_droga\",\"com_droga\",\"com_droga\",\"com_controle\",\"com_droga\",\"com_droga\",\"com_droga\",\"com_droga\",\"com_controle\",\"com_droga\",\"com_droga\",\"com_droga\",\"com_droga\",\"com_droga\",\"com_droga\",\"com_droga\",\"com_droga\",\"com_droga\",\"com_droga\",\"com_droga\",\"com_droga\",\"com_controle\",\"com_droga\",\"com_droga\",\"com_droga\",\"com_droga\",\"com_droga\",\"com_droga\",\"com_droga\",\"com_droga\",\"com_droga\",\"com_droga\",\"com_droga\",\"com_controle\",\"com_droga\",\"com_droga\",\"com_controle\",\"com_droga\",\"com_controle\",\"com_droga\",\"com_droga\",\"com_droga\",\"com_droga\",\"com_droga\",\"com_droga\",\"com_droga\",\"com_droga\",\"com_droga\",\"com_droga\",\"com_droga\",\"com_droga\",\"com_droga\",\"com_droga\",\"com_droga\",\"com_droga\",\"com_controle\",\"com_droga\",\"com_droga\",\"com_droga\",\"com_droga\",\"com_droga\",\"com_controle\",\"com_droga\",\"com_droga\",\"com_droga\",\"com_droga\",\"com_droga\",\"com_droga\",\"com_droga\",\"com_droga\",\"com_droga\",\"com_droga\",\"com_droga\",\"com_droga\",\"com_droga\",\"com_droga\",\"com_droga\",\"com_droga\",\"com_droga\",\"com_droga\",\"com_droga\",\"com_droga\",\"com_droga\",\"com_droga\",\"com_droga\",\"com_droga\",\"com_droga\",\"com_droga\",\"com_droga\",\"com_droga\",\"com_droga\",\"com_droga\",\"com_droga\",\"com_droga\",\"com_droga\",\"com_droga\",\"com_droga\",\"com_droga\",\"com_droga\",\"com_droga\",\"com_droga\",\"com_droga\",\"com_droga\",\"com_droga\",\"com_droga\",\"com_droga\",\"com_droga\",\"com_droga\",\"com_droga\",\"com_droga\",\"com_droga\",\"com_droga\",\"com_droga\",\"com_droga\",\"com_droga\",\"com_droga\",\"com_droga\",\"com_droga\",\"com_droga\",\"com_droga\",\"com_controle\",\"com_droga\",\"com_droga\",\"com_droga\",\"com_droga\",\"com_droga\",\"com_droga\",\"com_droga\",\"com_droga\",\"com_droga\",\"com_droga\",\"com_droga\",\"com_droga\",\"com_droga\",\"com_droga\",\"com_droga\",\"com_droga\",\"com_droga\",\"com_droga\",\"com_droga\",\"com_droga\",\"com_droga\",\"com_droga\",\"com_droga\",\"com_droga\",\"com_droga\",\"com_droga\",\"com_droga\",\"com_droga\",\"com_droga\",\"com_controle\",\"com_droga\",\"com_droga\",\"com_controle\",\"com_droga\",\"com_droga\",\"com_droga\",\"com_droga\",\"com_droga\",\"com_droga\",\"com_droga\",\"com_droga\",\"com_droga\",\"com_droga\",\"com_droga\",\"com_droga\",\"com_droga\",\"com_droga\",\"com_droga\",\"com_droga\",\"com_droga\",\"com_droga\",\"com_droga\",\"com_droga\",\"com_controle\",\"com_droga\",\"com_droga\",\"com_droga\",\"com_droga\",\"com_controle\",\"com_controle\",\"com_droga\",\"com_droga\",\"com_droga\",\"com_droga\",\"com_droga\",\"com_droga\",\"com_controle\",\"com_droga\",\"com_droga\",\"com_droga\",\"com_droga\",\"com_droga\",\"com_droga\",\"com_droga\",\"com_droga\",\"com_droga\",\"com_droga\",\"com_controle\",\"com_droga\",\"com_droga\",\"com_droga\",\"com_droga\",\"com_droga\",\"com_droga\",\"com_droga\",\"com_droga\",\"com_controle\",\"com_droga\",\"com_droga\",\"com_droga\",\"com_droga\",\"com_droga\",\"com_droga\",\"com_droga\",\"com_droga\",\"com_droga\",\"com_droga\",\"com_droga\",\"com_droga\",\"com_droga\",\"com_droga\",\"com_droga\",\"com_droga\",\"com_droga\",\"com_droga\",\"com_droga\",\"com_droga\",\"com_droga\",\"com_droga\",\"com_droga\",\"com_droga\",\"com_droga\",\"com_droga\",\"com_droga\",\"com_droga\",\"com_droga\",\"com_droga\",\"com_controle\",\"com_droga\",\"com_droga\",\"com_droga\",\"com_droga\",\"com_droga\",\"com_droga\",\"com_droga\",\"com_droga\",\"com_droga\",\"com_droga\",\"com_droga\",\"com_droga\",\"com_droga\",\"com_droga\",\"com_droga\",\"com_droga\",\"com_droga\",\"com_droga\",\"com_droga\",\"com_droga\",\"com_droga\",\"com_droga\",\"com_droga\",\"com_droga\",\"com_droga\",\"com_droga\",\"com_droga\",\"com_droga\",\"com_droga\",\"com_droga\",\"com_droga\",\"com_droga\",\"com_droga\",\"com_droga\",\"com_droga\",\"com_droga\",\"com_controle\",\"com_droga\",\"com_droga\",\"com_droga\",\"com_droga\",\"com_droga\",\"com_droga\",\"com_controle\",\"com_droga\",\"com_droga\",\"com_droga\",\"com_droga\",\"com_droga\",\"com_droga\",\"com_droga\",\"com_droga\",\"com_droga\",\"com_droga\",\"com_droga\",\"com_droga\",\"com_droga\",\"com_droga\",\"com_droga\",\"com_controle\",\"com_droga\",\"com_droga\",\"com_droga\",\"com_droga\",\"com_droga\",\"com_droga\",\"com_droga\",\"com_droga\",\"com_controle\",\"com_droga\",\"com_droga\",\"com_droga\",\"com_droga\",\"com_droga\",\"com_droga\",\"com_droga\",\"com_droga\",\"com_droga\",\"com_droga\",\"com_droga\",\"com_droga\",\"com_droga\",\"com_droga\",\"com_droga\",\"com_droga\",\"com_droga\",\"com_droga\",\"com_droga\",\"com_droga\",\"com_droga\",\"com_droga\",\"com_droga\",\"com_droga\",\"com_droga\",\"com_droga\",\"com_droga\",\"com_droga\",\"com_droga\",\"com_droga\",\"com_droga\",\"com_droga\",\"com_droga\",\"com_droga\",\"com_droga\",\"com_controle\",\"com_droga\",\"com_droga\",\"com_droga\",\"com_controle\",\"com_droga\",\"com_droga\",\"com_droga\",\"com_droga\",\"com_droga\",\"com_controle\",\"com_droga\",\"com_droga\",\"com_droga\",\"com_droga\",\"com_droga\",\"com_droga\",\"com_droga\",\"com_droga\",\"com_droga\",\"com_droga\",\"com_droga\",\"com_controle\",\"com_droga\",\"com_droga\",\"com_droga\",\"com_droga\",\"com_controle\",\"com_droga\",\"com_droga\",\"com_droga\",\"com_droga\",\"com_droga\",\"com_droga\",\"com_droga\",\"com_droga\",\"com_droga\",\"com_droga\",\"com_droga\",\"com_droga\",\"com_droga\",\"com_droga\",\"com_droga\",\"com_droga\",\"com_droga\",\"com_droga\",\"com_droga\",\"com_controle\",\"com_droga\",\"com_droga\",\"com_droga\",\"com_droga\",\"com_droga\",\"com_droga\",\"com_droga\",\"com_droga\",\"com_droga\",\"com_droga\",\"com_droga\",\"com_droga\",\"com_droga\",\"com_droga\",\"com_droga\",\"com_droga\",\"com_droga\",\"com_droga\",\"com_controle\",\"com_droga\",\"com_droga\",\"com_droga\",\"com_droga\",\"com_droga\",\"com_droga\",\"com_droga\",\"com_droga\",\"com_droga\",\"com_controle\",\"com_droga\",\"com_droga\",\"com_droga\",\"com_droga\",\"com_droga\",\"com_droga\",\"com_droga\",\"com_droga\",\"com_droga\",\"com_droga\",\"com_droga\",\"com_droga\",\"com_droga\",\"com_droga\",\"com_droga\",\"com_droga\",\"com_droga\",\"com_droga\",\"com_droga\",\"com_controle\",\"com_droga\",\"com_droga\",\"com_droga\",\"com_droga\",\"com_droga\",\"com_droga\",\"com_droga\",\"com_droga\",\"com_droga\",\"com_droga\",\"com_droga\",\"com_droga\",\"com_droga\",\"com_droga\",\"com_droga\",\"com_droga\",\"com_droga\",\"com_droga\",\"com_controle\",\"com_droga\",\"com_droga\",\"com_droga\",\"com_droga\",\"com_droga\",\"com_droga\",\"com_droga\",\"com_droga\",\"com_controle\",\"com_droga\",\"com_droga\",\"com_droga\",\"com_droga\",\"com_controle\",\"com_droga\",\"com_droga\",\"com_droga\",\"com_droga\",\"com_droga\",\"com_droga\",\"com_droga\",\"com_droga\",\"com_controle\",\"com_droga\",\"com_droga\",\"com_droga\",\"com_droga\",\"com_controle\",\"com_droga\",\"com_droga\",\"com_droga\",\"com_droga\",\"com_droga\",\"com_droga\",\"com_controle\",\"com_droga\",\"com_droga\",\"com_droga\",\"com_droga\",\"com_droga\",\"com_droga\",\"com_droga\",\"com_droga\",\"com_droga\",\"com_droga\",\"com_droga\",\"com_droga\",\"com_droga\",\"com_droga\",\"com_droga\",\"com_droga\",\"com_droga\",\"com_droga\",\"com_droga\",\"com_droga\",\"com_droga\",\"com_droga\",\"com_droga\",\"com_droga\",\"com_droga\",\"com_droga\",\"com_controle\",\"com_droga\",\"com_droga\",\"com_droga\",\"com_droga\",\"com_droga\",\"com_droga\",\"com_droga\",\"com_droga\",\"com_droga\",\"com_droga\",\"com_droga\",\"com_droga\",\"com_droga\",\"com_droga\",\"com_droga\",\"com_droga\",\"com_controle\",\"com_droga\",\"com_droga\",\"com_droga\",\"com_droga\",\"com_droga\",\"com_droga\",\"com_droga\",\"com_droga\",\"com_controle\",\"com_controle\",\"com_droga\",\"com_droga\",\"com_droga\",\"com_controle\",\"com_droga\",\"com_droga\",\"com_droga\",\"com_droga\",\"com_droga\",\"com_droga\",\"com_controle\",\"com_droga\",\"com_droga\",\"com_droga\",\"com_droga\",\"com_droga\",\"com_droga\",\"com_droga\",\"com_droga\",\"com_controle\",\"com_droga\",\"com_droga\",\"com_droga\",\"com_droga\",\"com_droga\",\"com_droga\",\"com_droga\",\"com_controle\",\"com_droga\",\"com_droga\",\"com_droga\",\"com_droga\",\"com_droga\",\"com_droga\",\"com_droga\",\"com_droga\",\"com_droga\",\"com_droga\",\"com_droga\",\"com_droga\",\"com_droga\",\"com_droga\",\"com_droga\",\"com_droga\",\"com_droga\",\"com_droga\",\"com_droga\",\"com_droga\",\"com_droga\",\"com_droga\",\"com_droga\",\"com_droga\",\"com_droga\",\"com_droga\",\"com_droga\",\"com_droga\",\"com_controle\",\"com_controle\",\"com_droga\",\"com_droga\",\"com_droga\",\"com_droga\",\"com_droga\",\"com_droga\",\"com_droga\",\"com_droga\",\"com_droga\",\"com_droga\",\"com_droga\",\"com_droga\",\"com_droga\",\"com_droga\",\"com_controle\",\"com_droga\",\"com_droga\",\"com_droga\",\"com_droga\",\"com_droga\",\"com_droga\",\"com_droga\",\"com_droga\",\"com_controle\",\"com_droga\",\"com_controle\",\"com_droga\",\"com_droga\",\"com_droga\",\"com_droga\",\"com_controle\",\"com_droga\",\"com_droga\",\"com_controle\",\"com_droga\",\"com_droga\",\"com_droga\",\"com_droga\",\"com_controle\",\"com_droga\",\"com_droga\",\"com_droga\",\"com_droga\",\"com_droga\",\"com_droga\",\"com_droga\",\"com_droga\",\"com_controle\",\"com_droga\",\"com_droga\",\"com_droga\",\"com_droga\",\"com_controle\",\"com_droga\",\"com_droga\",\"com_droga\",\"com_droga\",\"com_droga\",\"com_droga\",\"com_controle\",\"com_droga\",\"com_droga\",\"com_droga\",\"com_droga\",\"com_droga\",\"com_droga\",\"com_droga\",\"com_droga\",\"com_droga\",\"com_droga\",\"com_droga\",\"com_droga\",\"com_droga\",\"com_droga\",\"com_droga\",\"com_droga\",\"com_droga\",\"com_droga\",\"com_droga\",\"com_droga\",\"com_droga\",\"com_droga\",\"com_droga\",\"com_droga\",\"com_droga\",\"com_droga\",\"com_droga\",\"com_droga\",\"com_droga\",\"com_droga\",\"com_droga\",\"com_droga\",\"com_droga\",\"com_droga\",\"com_droga\",\"com_droga\",\"com_droga\",\"com_droga\",\"com_droga\",\"com_droga\",\"com_droga\",\"com_droga\",\"com_droga\",\"com_droga\",\"com_droga\",\"com_droga\",\"com_droga\",\"com_droga\",\"com_droga\",\"com_droga\",\"com_droga\",\"com_droga\",\"com_droga\",\"com_droga\",\"com_droga\",\"com_droga\",\"com_droga\",\"com_droga\",\"com_droga\",\"com_droga\",\"com_droga\",\"com_droga\",\"com_droga\",\"com_droga\",\"com_droga\",\"com_droga\",\"com_controle\",\"com_droga\",\"com_droga\",\"com_droga\",\"com_droga\",\"com_droga\",\"com_droga\",\"com_droga\",\"com_droga\",\"com_droga\",\"com_droga\",\"com_droga\",\"com_droga\",\"com_droga\",\"com_droga\",\"com_droga\",\"com_droga\",\"com_droga\",\"com_droga\",\"com_droga\",\"com_droga\",\"com_droga\",\"com_droga\",\"com_droga\",\"com_droga\",\"com_droga\",\"com_droga\",\"com_droga\",\"com_controle\",\"com_droga\",\"com_droga\",\"com_droga\",\"com_droga\",\"com_droga\",\"com_droga\",\"com_droga\",\"com_droga\",\"com_droga\",\"com_droga\",\"com_droga\",\"com_droga\",\"com_droga\",\"com_controle\",\"com_droga\",\"com_controle\",\"com_droga\",\"com_droga\",\"com_droga\",\"com_droga\",\"com_droga\",\"com_droga\",\"com_droga\",\"com_droga\",\"com_droga\",\"com_droga\",\"com_droga\",\"com_droga\",\"com_droga\",\"com_droga\",\"com_droga\",\"com_droga\",\"com_droga\",\"com_droga\",\"com_controle\",\"com_droga\",\"com_droga\",\"com_droga\",\"com_droga\",\"com_droga\",\"com_droga\",\"com_droga\",\"com_droga\",\"com_droga\",\"com_droga\",\"com_droga\",\"com_droga\",\"com_droga\",\"com_droga\",\"com_droga\",\"com_droga\",\"com_droga\",\"com_droga\",\"com_droga\",\"com_droga\",\"com_droga\",\"com_droga\",\"com_droga\",\"com_droga\",\"com_droga\",\"com_droga\",\"com_controle\",\"com_droga\",\"com_droga\",\"com_droga\",\"com_droga\",\"com_droga\",\"com_droga\",\"com_droga\",\"com_droga\",\"com_droga\",\"com_droga\",\"com_droga\",\"com_droga\",\"com_droga\",\"com_droga\",\"com_droga\",\"com_droga\",\"com_droga\",\"com_droga\",\"com_droga\",\"com_droga\",\"com_controle\",\"com_droga\",\"com_droga\",\"com_droga\",\"com_droga\",\"com_droga\",\"com_droga\",\"com_droga\",\"com_droga\",\"com_controle\",\"com_droga\",\"com_droga\",\"com_droga\",\"com_droga\",\"com_droga\",\"com_droga\",\"com_droga\",\"com_controle\",\"com_droga\",\"com_droga\",\"com_droga\",\"com_droga\",\"com_droga\",\"com_droga\",\"com_droga\",\"com_droga\",\"com_droga\",\"com_droga\",\"com_droga\",\"com_droga\",\"com_droga\",\"com_droga\",\"com_droga\",\"com_droga\",\"com_droga\",\"com_droga\",\"com_droga\",\"com_droga\",\"com_droga\",\"com_droga\",\"com_controle\",\"com_droga\",\"com_droga\",\"com_droga\",\"com_controle\",\"com_droga\",\"com_droga\",\"com_droga\",\"com_droga\",\"com_controle\",\"com_controle\",\"com_droga\",\"com_droga\",\"com_droga\",\"com_droga\",\"com_droga\",\"com_droga\",\"com_controle\",\"com_droga\",\"com_droga\",\"com_droga\",\"com_droga\",\"com_droga\",\"com_droga\",\"com_droga\",\"com_controle\",\"com_droga\",\"com_droga\",\"com_controle\",\"com_droga\",\"com_droga\",\"com_droga\",\"com_droga\",\"com_droga\",\"com_droga\",\"com_droga\",\"com_droga\",\"com_droga\",\"com_droga\",\"com_droga\",\"com_droga\",\"com_droga\",\"com_droga\",\"com_droga\",\"com_droga\",\"com_droga\",\"com_droga\",\"com_droga\",\"com_droga\",\"com_droga\",\"com_droga\",\"com_droga\",\"com_droga\",\"com_droga\",\"com_droga\",\"com_droga\",\"com_droga\",\"com_droga\",\"com_droga\",\"com_droga\",\"com_droga\",\"com_droga\",\"com_droga\",\"com_droga\",\"com_controle\",\"com_controle\",\"com_droga\",\"com_droga\",\"com_droga\",\"com_droga\",\"com_droga\",\"com_droga\",\"com_droga\",\"com_droga\",\"com_droga\",\"com_droga\",\"com_controle\",\"com_droga\",\"com_droga\",\"com_droga\",\"com_droga\",\"com_droga\",\"com_droga\",\"com_droga\",\"com_droga\",\"com_droga\",\"com_droga\",\"com_droga\",\"com_droga\",\"com_droga\",\"com_droga\",\"com_droga\",\"com_droga\",\"com_droga\",\"com_droga\",\"com_droga\",\"com_droga\",\"com_controle\",\"com_droga\",\"com_droga\",\"com_droga\",\"com_controle\",\"com_droga\",\"com_droga\",\"com_droga\",\"com_droga\",\"com_droga\",\"com_droga\",\"com_droga\",\"com_droga\",\"com_droga\",\"com_droga\",\"com_droga\",\"com_droga\",\"com_droga\",\"com_droga\",\"com_controle\",\"com_droga\",\"com_droga\",\"com_droga\",\"com_droga\",\"com_droga\",\"com_droga\",\"com_droga\",\"com_droga\",\"com_droga\",\"com_droga\",\"com_droga\",\"com_droga\",\"com_droga\",\"com_droga\",\"com_droga\",\"com_droga\",\"com_droga\",\"com_droga\",\"com_droga\",\"com_droga\",\"com_droga\",\"com_droga\",\"com_droga\",\"com_droga\",\"com_droga\",\"com_droga\",\"com_droga\",\"com_droga\",\"com_droga\",\"com_droga\",\"com_droga\",\"com_droga\",\"com_droga\",\"com_droga\",\"com_droga\",\"com_droga\",\"com_droga\",\"com_droga\",\"com_droga\",\"com_droga\",\"com_droga\",\"com_droga\",\"com_controle\",\"com_droga\",\"com_controle\",\"com_droga\",\"com_droga\",\"com_droga\",\"com_droga\",\"com_droga\",\"com_droga\",\"com_controle\",\"com_droga\",\"com_controle\",\"com_droga\",\"com_droga\",\"com_droga\",\"com_controle\",\"com_droga\",\"com_droga\",\"com_droga\",\"com_droga\",\"com_droga\",\"com_droga\",\"com_droga\",\"com_droga\",\"com_droga\",\"com_controle\",\"com_controle\",\"com_droga\",\"com_controle\",\"com_droga\",\"com_droga\",\"com_droga\",\"com_droga\",\"com_droga\",\"com_droga\",\"com_droga\",\"com_droga\",\"com_droga\",\"com_droga\",\"com_droga\",\"com_droga\",\"com_droga\",\"com_droga\",\"com_droga\",\"com_droga\",\"com_droga\",\"com_droga\",\"com_droga\",\"com_droga\",\"com_droga\",\"com_droga\",\"com_droga\",\"com_droga\",\"com_droga\",\"com_droga\",\"com_droga\",\"com_droga\",\"com_droga\",\"com_droga\",\"com_droga\",\"com_droga\",\"com_droga\",\"com_droga\",\"com_droga\",\"com_droga\",\"com_droga\",\"com_droga\",\"com_controle\",\"com_droga\",\"com_droga\",\"com_droga\",\"com_droga\",\"com_droga\",\"com_droga\",\"com_droga\",\"com_droga\",\"com_droga\",\"com_droga\",\"com_droga\",\"com_droga\",\"com_droga\",\"com_droga\",\"com_droga\",\"com_droga\",\"com_controle\",\"com_droga\",\"com_droga\",\"com_droga\",\"com_droga\",\"com_droga\",\"com_droga\",\"com_droga\",\"com_controle\",\"com_droga\",\"com_droga\",\"com_droga\",\"com_droga\",\"com_droga\",\"com_droga\",\"com_droga\",\"com_droga\",\"com_droga\",\"com_droga\",\"com_droga\",\"com_droga\",\"com_droga\",\"com_droga\",\"com_droga\",\"com_droga\",\"com_droga\",\"com_droga\",\"com_droga\",\"com_droga\",\"com_droga\",\"com_droga\",\"com_droga\",\"com_droga\",\"com_droga\",\"com_droga\",\"com_droga\",\"com_droga\",\"com_droga\",\"com_droga\",\"com_droga\",\"com_droga\",\"com_droga\",\"com_controle\",\"com_droga\",\"com_droga\",\"com_droga\",\"com_droga\",\"com_droga\",\"com_droga\",\"com_droga\",\"com_controle\",\"com_droga\",\"com_droga\",\"com_droga\",\"com_droga\",\"com_droga\",\"com_droga\",\"com_controle\",\"com_droga\",\"com_droga\",\"com_droga\",\"com_droga\",\"com_controle\",\"com_droga\",\"com_droga\",\"com_droga\",\"com_droga\",\"com_droga\",\"com_droga\",\"com_droga\",\"com_droga\",\"com_droga\",\"com_droga\",\"com_droga\",\"com_droga\",\"com_droga\",\"com_droga\",\"com_controle\",\"com_droga\",\"com_droga\",\"com_droga\",\"com_droga\",\"com_droga\",\"com_droga\",\"com_droga\",\"com_droga\",\"com_droga\",\"com_droga\",\"com_droga\",\"com_droga\",\"com_droga\",\"com_droga\",\"com_droga\",\"com_controle\",\"com_droga\",\"com_droga\",\"com_droga\",\"com_droga\",\"com_droga\",\"com_droga\",\"com_droga\",\"com_droga\",\"com_droga\",\"com_droga\",\"com_droga\",\"com_droga\",\"com_droga\",\"com_droga\",\"com_droga\",\"com_droga\",\"com_droga\",\"com_droga\",\"com_controle\",\"com_controle\",\"com_droga\",\"com_droga\",\"com_droga\",\"com_droga\",\"com_droga\",\"com_droga\",\"com_droga\",\"com_droga\",\"com_droga\",\"com_droga\",\"com_droga\",\"com_droga\",\"com_droga\",\"com_droga\",\"com_droga\",\"com_droga\",\"com_droga\",\"com_droga\",\"com_droga\",\"com_droga\",\"com_droga\",\"com_droga\",\"com_droga\",\"com_droga\",\"com_droga\",\"com_droga\",\"com_droga\",\"com_droga\",\"com_droga\",\"com_droga\",\"com_droga\",\"com_droga\",\"com_droga\",\"com_droga\",\"com_droga\",\"com_droga\",\"com_droga\",\"com_droga\",\"com_droga\",\"com_droga\",\"com_droga\",\"com_controle\",\"com_droga\",\"com_droga\",\"com_droga\",\"com_droga\",\"com_droga\",\"com_droga\",\"com_droga\",\"com_droga\",\"com_droga\",\"com_droga\",\"com_droga\",\"com_droga\",\"com_droga\",\"com_droga\",\"com_droga\",\"com_droga\",\"com_droga\",\"com_droga\",\"com_droga\",\"com_droga\",\"com_droga\",\"com_droga\",\"com_droga\",\"com_droga\",\"com_droga\",\"com_droga\",\"com_droga\",\"com_droga\",\"com_droga\",\"com_droga\",\"com_droga\",\"com_droga\",\"com_droga\",\"com_droga\",\"com_droga\",\"com_droga\",\"com_droga\",\"com_droga\",\"com_droga\",\"com_droga\",\"com_droga\",\"com_droga\",\"com_droga\",\"com_droga\",\"com_droga\",\"com_droga\",\"com_droga\",\"com_droga\",\"com_droga\",\"com_controle\",\"com_droga\",\"com_droga\",\"com_droga\",\"com_droga\",\"com_controle\",\"com_droga\",\"com_droga\",\"com_droga\",\"com_droga\",\"com_droga\",\"com_droga\",\"com_controle\",\"com_droga\",\"com_droga\",\"com_droga\",\"com_droga\",\"com_droga\",\"com_controle\",\"com_droga\",\"com_droga\",\"com_droga\",\"com_droga\",\"com_droga\",\"com_droga\",\"com_droga\",\"com_droga\",\"com_droga\",\"com_droga\",\"com_droga\",\"com_droga\",\"com_droga\",\"com_droga\",\"com_droga\",\"com_droga\",\"com_droga\",\"com_droga\",\"com_droga\",\"com_droga\",\"com_droga\",\"com_droga\",\"com_droga\",\"com_droga\",\"com_droga\",\"com_droga\",\"com_droga\",\"com_droga\",\"com_controle\",\"com_droga\",\"com_droga\",\"com_droga\",\"com_droga\",\"com_droga\",\"com_droga\",\"com_droga\",\"com_droga\",\"com_droga\",\"com_droga\",\"com_droga\",\"com_droga\",\"com_droga\",\"com_droga\",\"com_droga\",\"com_droga\",\"com_controle\",\"com_droga\",\"com_droga\",\"com_droga\",\"com_droga\",\"com_droga\",\"com_droga\",\"com_droga\",\"com_droga\",\"com_droga\",\"com_droga\",\"com_droga\",\"com_controle\",\"com_droga\",\"com_droga\",\"com_controle\",\"com_droga\",\"com_droga\",\"com_droga\",\"com_droga\",\"com_droga\",\"com_droga\",\"com_droga\",\"com_droga\",\"com_controle\",\"com_droga\",\"com_controle\",\"com_droga\",\"com_droga\",\"com_droga\",\"com_droga\",\"com_droga\",\"com_droga\",\"com_droga\",\"com_droga\",\"com_droga\",\"com_droga\",\"com_controle\",\"com_droga\",\"com_droga\",\"com_droga\",\"com_droga\",\"com_droga\",\"com_droga\",\"com_droga\",\"com_droga\",\"com_droga\",\"com_droga\",\"com_droga\",\"com_droga\",\"com_droga\",\"com_droga\",\"com_droga\",\"com_droga\",\"com_droga\",\"com_droga\",\"com_droga\",\"com_droga\",\"com_droga\",\"com_droga\",\"com_droga\",\"com_droga\",\"com_droga\",\"com_droga\",\"com_droga\",\"com_controle\",\"com_droga\",\"com_droga\",\"com_droga\",\"com_droga\",\"com_droga\",\"com_droga\",\"com_droga\",\"com_droga\",\"com_droga\",\"com_droga\",\"com_droga\",\"com_droga\",\"com_droga\",\"com_controle\",\"com_droga\",\"com_droga\",\"com_droga\",\"com_droga\",\"com_droga\",\"com_droga\",\"com_droga\",\"com_droga\",\"com_droga\",\"com_droga\",\"com_droga\",\"com_droga\",\"com_droga\",\"com_droga\",\"com_droga\",\"com_droga\",\"com_droga\",\"com_droga\",\"com_droga\",\"com_droga\",\"com_droga\",\"com_droga\",\"com_droga\",\"com_droga\",\"com_droga\",\"com_droga\",\"com_droga\",\"com_droga\",\"com_droga\",\"com_droga\",\"com_droga\",\"com_droga\",\"com_droga\",\"com_droga\",\"com_droga\",\"com_droga\",\"com_controle\",\"com_droga\",\"com_droga\",\"com_droga\",\"com_droga\",\"com_droga\",\"com_droga\",\"com_droga\",\"com_droga\",\"com_droga\",\"com_droga\",\"com_droga\",\"com_droga\",\"com_droga\",\"com_droga\",\"com_controle\",\"com_droga\",\"com_droga\",\"com_droga\",\"com_droga\",\"com_controle\",\"com_droga\",\"com_droga\",\"com_droga\",\"com_droga\",\"com_droga\",\"com_controle\",\"com_droga\",\"com_droga\",\"com_droga\",\"com_droga\",\"com_droga\",\"com_droga\",\"com_droga\",\"com_droga\",\"com_droga\",\"com_droga\",\"com_droga\",\"com_droga\",\"com_droga\",\"com_droga\",\"com_droga\",\"com_droga\",\"com_droga\",\"com_droga\",\"com_droga\",\"com_droga\",\"com_droga\",\"com_droga\",\"com_droga\",\"com_droga\",\"com_droga\",\"com_droga\",\"com_droga\",\"com_droga\",\"com_droga\",\"com_controle\",\"com_droga\",\"com_droga\",\"com_droga\",\"com_droga\",\"com_droga\",\"com_droga\",\"com_droga\",\"com_droga\",\"com_droga\",\"com_droga\",\"com_controle\",\"com_droga\",\"com_controle\",\"com_droga\",\"com_droga\",\"com_droga\",\"com_droga\",\"com_droga\",\"com_droga\",\"com_droga\",\"com_droga\",\"com_droga\",\"com_droga\",\"com_droga\",\"com_droga\",\"com_droga\",\"com_droga\",\"com_droga\",\"com_droga\",\"com_droga\",\"com_controle\",\"com_droga\",\"com_droga\",\"com_droga\",\"com_droga\",\"com_droga\",\"com_droga\",\"com_droga\",\"com_droga\",\"com_droga\",\"com_droga\",\"com_droga\",\"com_droga\",\"com_droga\",\"com_droga\",\"com_droga\",\"com_droga\",\"com_droga\",\"com_droga\",\"com_droga\",\"com_droga\",\"com_droga\",\"com_droga\",\"com_droga\",\"com_droga\",\"com_droga\",\"com_controle\",\"com_droga\",\"com_controle\",\"com_droga\",\"com_droga\",\"com_droga\",\"com_droga\",\"com_droga\",\"com_droga\",\"com_droga\",\"com_droga\",\"com_droga\",\"com_droga\",\"com_droga\",\"com_droga\",\"com_droga\",\"com_droga\",\"com_droga\",\"com_droga\",\"com_droga\",\"com_controle\",\"com_controle\",\"com_droga\",\"com_droga\",\"com_droga\",\"com_droga\",\"com_droga\",\"com_droga\",\"com_droga\",\"com_droga\",\"com_droga\",\"com_droga\",\"com_droga\",\"com_droga\",\"com_droga\",\"com_droga\",\"com_droga\",\"com_droga\",\"com_droga\",\"com_droga\",\"com_droga\",\"com_controle\",\"com_controle\",\"com_droga\",\"com_droga\",\"com_droga\",\"com_droga\",\"com_droga\",\"com_droga\",\"com_droga\",\"com_droga\",\"com_droga\",\"com_droga\",\"com_droga\",\"com_droga\",\"com_droga\",\"com_droga\",\"com_droga\",\"com_droga\",\"com_droga\",\"com_controle\",\"com_droga\",\"com_droga\",\"com_droga\",\"com_droga\",\"com_droga\",\"com_droga\",\"com_droga\",\"com_droga\",\"com_controle\",\"com_droga\",\"com_droga\",\"com_droga\",\"com_droga\",\"com_droga\",\"com_controle\",\"com_droga\",\"com_controle\",\"com_droga\",\"com_droga\",\"com_droga\",\"com_droga\",\"com_droga\",\"com_droga\",\"com_droga\",\"com_droga\",\"com_droga\",\"com_droga\",\"com_droga\",\"com_droga\",\"com_droga\",\"com_droga\",\"com_droga\",\"com_droga\",\"com_droga\",\"com_controle\",\"com_droga\",\"com_droga\",\"com_droga\",\"com_droga\",\"com_droga\",\"com_droga\",\"com_droga\",\"com_droga\",\"com_droga\",\"com_droga\",\"com_droga\",\"com_droga\",\"com_controle\",\"com_controle\",\"com_droga\",\"com_droga\",\"com_droga\",\"com_droga\",\"com_droga\",\"com_droga\",\"com_droga\",\"com_droga\",\"com_droga\",\"com_droga\",\"com_droga\",\"com_droga\",\"com_droga\",\"com_droga\",\"com_droga\",\"com_droga\",\"com_droga\",\"com_droga\",\"com_droga\",\"com_droga\",\"com_droga\",\"com_droga\",\"com_droga\",\"com_droga\",\"com_droga\",\"com_droga\",\"com_droga\",\"com_droga\",\"com_droga\",\"com_droga\",\"com_droga\",\"com_droga\",\"com_droga\",\"com_droga\",\"com_droga\",\"com_droga\",\"com_droga\",\"com_droga\",\"com_droga\",\"com_droga\",\"com_droga\",\"com_droga\",\"com_droga\",\"com_droga\",\"com_droga\",\"com_droga\",\"com_droga\",\"com_droga\",\"com_controle\",\"com_droga\",\"com_droga\",\"com_droga\",\"com_droga\",\"com_droga\",\"com_droga\",\"com_droga\",\"com_droga\",\"com_droga\",\"com_droga\",\"com_droga\",\"com_droga\",\"com_droga\",\"com_droga\",\"com_controle\",\"com_droga\",\"com_droga\",\"com_droga\",\"com_droga\",\"com_droga\",\"com_droga\",\"com_controle\",\"com_droga\",\"com_droga\",\"com_droga\",\"com_droga\",\"com_droga\",\"com_droga\",\"com_droga\",\"com_droga\",\"com_droga\",\"com_droga\",\"com_droga\",\"com_droga\",\"com_droga\",\"com_droga\",\"com_droga\",\"com_droga\",\"com_droga\",\"com_droga\",\"com_droga\",\"com_droga\",\"com_droga\",\"com_droga\",\"com_droga\",\"com_droga\",\"com_droga\",\"com_droga\",\"com_droga\",\"com_droga\",\"com_controle\",\"com_droga\",\"com_droga\",\"com_droga\",\"com_droga\",\"com_droga\",\"com_controle\",\"com_droga\",\"com_droga\",\"com_droga\",\"com_droga\",\"com_droga\",\"com_droga\",\"com_droga\",\"com_droga\",\"com_droga\",\"com_droga\",\"com_droga\",\"com_droga\",\"com_droga\",\"com_droga\",\"com_droga\",\"com_droga\",\"com_droga\",\"com_droga\",\"com_droga\",\"com_droga\",\"com_controle\",\"com_droga\",\"com_droga\",\"com_droga\",\"com_droga\",\"com_droga\",\"com_droga\",\"com_droga\",\"com_droga\",\"com_droga\",\"com_controle\",\"com_droga\",\"com_droga\",\"com_droga\",\"com_droga\",\"com_droga\",\"com_droga\",\"com_droga\",\"com_droga\",\"com_droga\",\"com_droga\",\"com_droga\",\"com_droga\",\"com_droga\",\"com_droga\",\"com_controle\",\"com_droga\",\"com_droga\",\"com_controle\",\"com_droga\",\"com_droga\",\"com_droga\",\"com_droga\",\"com_droga\",\"com_droga\",\"com_droga\",\"com_controle\",\"com_droga\",\"com_droga\",\"com_droga\",\"com_droga\",\"com_droga\",\"com_droga\",\"com_droga\",\"com_droga\",\"com_droga\",\"com_droga\",\"com_droga\",\"com_droga\",\"com_droga\",\"com_droga\",\"com_droga\",\"com_droga\",\"com_droga\",\"com_droga\",\"com_droga\",\"com_droga\",\"com_controle\",\"com_controle\",\"com_droga\",\"com_droga\",\"com_droga\",\"com_droga\",\"com_droga\",\"com_droga\",\"com_droga\",\"com_droga\",\"com_droga\",\"com_droga\",\"com_controle\",\"com_droga\",\"com_droga\",\"com_controle\",\"com_droga\",\"com_droga\",\"com_droga\",\"com_droga\",\"com_droga\",\"com_droga\",\"com_droga\",\"com_droga\",\"com_droga\",\"com_droga\",\"com_droga\",\"com_droga\",\"com_controle\",\"com_droga\",\"com_droga\",\"com_droga\",\"com_droga\",\"com_droga\",\"com_droga\",\"com_droga\",\"com_droga\",\"com_droga\",\"com_droga\",\"com_droga\",\"com_droga\",\"com_droga\",\"com_droga\",\"com_droga\",\"com_droga\",\"com_droga\",\"com_droga\",\"com_controle\",\"com_droga\",\"com_droga\",\"com_droga\",\"com_droga\",\"com_droga\",\"com_droga\",\"com_droga\",\"com_droga\",\"com_droga\",\"com_droga\",\"com_droga\",\"com_droga\",\"com_droga\",\"com_droga\",\"com_droga\",\"com_droga\",\"com_droga\",\"com_droga\",\"com_droga\",\"com_droga\",\"com_droga\",\"com_droga\",\"com_droga\",\"com_droga\",\"com_droga\",\"com_droga\",\"com_droga\",\"com_droga\",\"com_droga\",\"com_droga\",\"com_droga\",\"com_controle\",\"com_droga\",\"com_droga\",\"com_droga\",\"com_droga\",\"com_droga\",\"com_droga\",\"com_droga\",\"com_droga\",\"com_droga\",\"com_droga\",\"com_droga\",\"com_droga\",\"com_droga\",\"com_droga\",\"com_droga\",\"com_droga\",\"com_droga\",\"com_droga\",\"com_droga\",\"com_droga\",\"com_controle\",\"com_droga\",\"com_droga\",\"com_droga\",\"com_droga\",\"com_droga\",\"com_droga\",\"com_controle\",\"com_controle\",\"com_droga\",\"com_droga\",\"com_droga\",\"com_controle\",\"com_droga\",\"com_droga\",\"com_droga\",\"com_droga\",\"com_droga\",\"com_droga\",\"com_controle\",\"com_droga\",\"com_droga\",\"com_droga\",\"com_droga\",\"com_droga\",\"com_droga\",\"com_droga\",\"com_droga\",\"com_droga\",\"com_droga\",\"com_droga\",\"com_droga\",\"com_droga\",\"com_droga\",\"com_controle\",\"com_droga\",\"com_droga\",\"com_controle\",\"com_droga\",\"com_droga\",\"com_droga\",\"com_droga\",\"com_droga\",\"com_droga\",\"com_droga\",\"com_droga\",\"com_droga\",\"com_droga\",\"com_droga\",\"com_droga\",\"com_droga\",\"com_droga\",\"com_droga\",\"com_droga\",\"com_droga\",\"com_droga\",\"com_droga\",\"com_droga\",\"com_droga\",\"com_droga\",\"com_controle\",\"com_droga\",\"com_droga\",\"com_droga\",\"com_droga\",\"com_controle\",\"com_droga\",\"com_droga\",\"com_droga\",\"com_droga\",\"com_droga\",\"com_droga\",\"com_droga\",\"com_droga\",\"com_droga\",\"com_droga\",\"com_droga\",\"com_droga\",\"com_controle\",\"com_droga\",\"com_droga\",\"com_droga\",\"com_droga\",\"com_droga\",\"com_droga\",\"com_droga\",\"com_droga\",\"com_droga\",\"com_droga\",\"com_droga\",\"com_droga\",\"com_droga\",\"com_droga\",\"com_droga\",\"com_droga\",\"com_droga\",\"com_controle\",\"com_droga\",\"com_droga\",\"com_droga\",\"com_droga\",\"com_droga\",\"com_droga\",\"com_droga\",\"com_droga\",\"com_droga\",\"com_droga\",\"com_droga\",\"com_droga\",\"com_droga\",\"com_droga\",\"com_droga\",\"com_controle\",\"com_droga\",\"com_droga\",\"com_droga\",\"com_droga\",\"com_droga\",\"com_droga\",\"com_droga\",\"com_droga\",\"com_controle\",\"com_droga\",\"com_droga\",\"com_controle\",\"com_droga\",\"com_droga\",\"com_droga\",\"com_droga\",\"com_controle\",\"com_droga\",\"com_droga\",\"com_droga\",\"com_droga\",\"com_droga\",\"com_droga\",\"com_droga\",\"com_droga\",\"com_droga\",\"com_droga\",\"com_droga\",\"com_droga\",\"com_controle\",\"com_droga\",\"com_droga\",\"com_droga\",\"com_droga\",\"com_droga\",\"com_droga\",\"com_controle\",\"com_droga\",\"com_droga\",\"com_droga\",\"com_droga\",\"com_droga\",\"com_controle\",\"com_droga\",\"com_droga\",\"com_droga\",\"com_droga\",\"com_droga\",\"com_droga\",\"com_droga\",\"com_droga\",\"com_droga\",\"com_droga\",\"com_droga\",\"com_droga\",\"com_droga\",\"com_droga\",\"com_droga\",\"com_droga\",\"com_droga\",\"com_droga\",\"com_droga\",\"com_droga\",\"com_controle\",\"com_droga\",\"com_controle\",\"com_droga\",\"com_droga\",\"com_droga\",\"com_droga\",\"com_droga\",\"com_droga\",\"com_droga\",\"com_controle\",\"com_droga\",\"com_droga\",\"com_droga\",\"com_droga\",\"com_droga\",\"com_droga\",\"com_droga\",\"com_droga\",\"com_droga\",\"com_droga\",\"com_droga\",\"com_droga\",\"com_droga\",\"com_droga\",\"com_droga\",\"com_droga\",\"com_droga\",\"com_droga\",\"com_droga\",\"com_droga\",\"com_controle\",\"com_droga\",\"com_droga\",\"com_droga\",\"com_droga\",\"com_droga\",\"com_controle\",\"com_droga\",\"com_droga\",\"com_droga\",\"com_droga\",\"com_controle\",\"com_droga\",\"com_droga\",\"com_droga\",\"com_droga\",\"com_droga\",\"com_droga\",\"com_droga\",\"com_droga\",\"com_droga\",\"com_droga\",\"com_droga\",\"com_droga\",\"com_droga\",\"com_droga\",\"com_droga\",\"com_droga\",\"com_droga\",\"com_droga\",\"com_droga\",\"com_droga\",\"com_droga\",\"com_droga\",\"com_droga\",\"com_droga\",\"com_droga\",\"com_droga\",\"com_controle\",\"com_droga\",\"com_droga\",\"com_droga\",\"com_droga\",\"com_droga\",\"com_droga\",\"com_droga\",\"com_controle\",\"com_droga\",\"com_droga\",\"com_droga\",\"com_droga\",\"com_droga\",\"com_droga\",\"com_droga\",\"com_droga\",\"com_droga\",\"com_droga\",\"com_droga\",\"com_droga\",\"com_droga\",\"com_droga\",\"com_droga\",\"com_droga\",\"com_droga\",\"com_droga\",\"com_droga\",\"com_droga\",\"com_droga\",\"com_droga\",\"com_droga\",\"com_droga\",\"com_controle\",\"com_droga\",\"com_droga\",\"com_droga\",\"com_droga\",\"com_droga\",\"com_droga\",\"com_controle\",\"com_droga\",\"com_droga\",\"com_droga\",\"com_droga\",\"com_droga\",\"com_droga\",\"com_droga\",\"com_droga\",\"com_droga\",\"com_controle\",\"com_droga\",\"com_droga\",\"com_droga\",\"com_droga\",\"com_droga\",\"com_droga\",\"com_droga\",\"com_droga\",\"com_droga\",\"com_droga\",\"com_droga\",\"com_droga\",\"com_droga\",\"com_droga\",\"com_controle\",\"com_droga\",\"com_droga\",\"com_droga\",\"com_droga\",\"com_controle\",\"com_droga\",\"com_droga\",\"com_droga\",\"com_droga\",\"com_droga\",\"com_controle\",\"com_droga\",\"com_droga\",\"com_droga\",\"com_droga\",\"com_droga\",\"com_droga\",\"com_controle\",\"com_droga\",\"com_droga\",\"com_droga\",\"com_droga\",\"com_droga\",\"com_droga\",\"com_droga\",\"com_droga\",\"com_droga\",\"com_droga\",\"com_droga\",\"com_droga\",\"com_droga\",\"com_droga\",\"com_droga\",\"com_droga\",\"com_droga\",\"com_droga\",\"com_droga\",\"com_droga\",\"com_controle\",\"com_droga\",\"com_controle\",\"com_droga\",\"com_controle\",\"com_droga\",\"com_droga\",\"com_controle\",\"com_droga\",\"com_droga\",\"com_droga\",\"com_droga\",\"com_droga\",\"com_droga\",\"com_droga\",\"com_droga\",\"com_droga\",\"com_droga\",\"com_droga\",\"com_droga\",\"com_droga\",\"com_droga\",\"com_droga\",\"com_droga\",\"com_droga\",\"com_controle\",\"com_droga\",\"com_controle\",\"com_droga\",\"com_droga\",\"com_droga\",\"com_droga\",\"com_droga\",\"com_droga\",\"com_droga\",\"com_droga\",\"com_droga\",\"com_droga\",\"com_controle\",\"com_droga\",\"com_droga\",\"com_droga\",\"com_droga\",\"com_controle\",\"com_controle\",\"com_droga\",\"com_droga\",\"com_droga\",\"com_droga\",\"com_droga\",\"com_droga\",\"com_droga\",\"com_droga\",\"com_droga\",\"com_droga\",\"com_controle\",\"com_droga\",\"com_droga\",\"com_droga\",\"com_droga\",\"com_droga\",\"com_droga\",\"com_droga\",\"com_droga\",\"com_droga\",\"com_droga\",\"com_droga\",\"com_droga\",\"com_droga\",\"com_controle\",\"com_droga\",\"com_droga\",\"com_droga\",\"com_droga\",\"com_droga\",\"com_droga\",\"com_droga\",\"com_droga\",\"com_droga\",\"com_droga\",\"com_droga\",\"com_controle\",\"com_droga\",\"com_droga\",\"com_droga\",\"com_droga\",\"com_droga\",\"com_controle\",\"com_droga\",\"com_droga\",\"com_droga\",\"com_droga\",\"com_droga\",\"com_droga\",\"com_droga\",\"com_droga\",\"com_droga\",\"com_droga\",\"com_droga\",\"com_droga\",\"com_droga\",\"com_droga\",\"com_droga\",\"com_droga\",\"com_droga\",\"com_droga\",\"com_droga\",\"com_droga\",\"com_droga\",\"com_droga\",\"com_droga\",\"com_droga\",\"com_droga\",\"com_droga\",\"com_droga\",\"com_droga\",\"com_droga\",\"com_droga\",\"com_droga\",\"com_droga\",\"com_droga\",\"com_droga\",\"com_droga\",\"com_droga\",\"com_controle\",\"com_droga\",\"com_droga\",\"com_droga\",\"com_droga\",\"com_droga\",\"com_droga\",\"com_controle\",\"com_droga\",\"com_droga\",\"com_droga\",\"com_droga\",\"com_droga\",\"com_droga\",\"com_droga\",\"com_droga\",\"com_droga\",\"com_droga\",\"com_droga\",\"com_droga\",\"com_droga\",\"com_droga\",\"com_droga\",\"com_controle\",\"com_droga\",\"com_droga\",\"com_droga\",\"com_droga\",\"com_droga\",\"com_droga\",\"com_controle\",\"com_droga\",\"com_droga\",\"com_droga\",\"com_droga\",\"com_droga\",\"com_droga\",\"com_droga\",\"com_droga\",\"com_droga\",\"com_droga\",\"com_droga\",\"com_droga\",\"com_droga\",\"com_droga\",\"com_droga\",\"com_droga\",\"com_droga\",\"com_droga\",\"com_droga\",\"com_droga\",\"com_droga\",\"com_droga\",\"com_droga\",\"com_droga\",\"com_droga\",\"com_droga\",\"com_droga\",\"com_droga\",\"com_droga\",\"com_droga\",\"com_droga\",\"com_droga\",\"com_droga\",\"com_controle\",\"com_droga\",\"com_droga\",\"com_droga\",\"com_droga\",\"com_droga\",\"com_droga\",\"com_droga\",\"com_droga\",\"com_droga\",\"com_droga\",\"com_droga\",\"com_controle\",\"com_droga\",\"com_droga\",\"com_droga\",\"com_droga\",\"com_controle\",\"com_droga\",\"com_droga\",\"com_controle\",\"com_droga\",\"com_droga\",\"com_droga\",\"com_droga\",\"com_droga\",\"com_droga\",\"com_controle\",\"com_droga\",\"com_droga\",\"com_droga\",\"com_droga\",\"com_droga\",\"com_droga\",\"com_droga\",\"com_droga\",\"com_droga\",\"com_droga\",\"com_droga\",\"com_droga\",\"com_droga\",\"com_droga\",\"com_droga\",\"com_droga\",\"com_droga\",\"com_droga\",\"com_droga\",\"com_droga\",\"com_droga\",\"com_droga\",\"com_droga\",\"com_droga\",\"com_droga\",\"com_droga\",\"com_droga\",\"com_droga\",\"com_droga\",\"com_droga\",\"com_droga\",\"com_droga\",\"com_controle\",\"com_droga\",\"com_controle\",\"com_droga\",\"com_droga\",\"com_droga\",\"com_droga\",\"com_droga\",\"com_droga\",\"com_droga\",\"com_droga\",\"com_droga\",\"com_droga\",\"com_droga\",\"com_droga\",\"com_droga\",\"com_droga\",\"com_droga\",\"com_droga\",\"com_droga\",\"com_droga\",\"com_droga\",\"com_droga\",\"com_droga\",\"com_controle\",\"com_droga\",\"com_droga\",\"com_droga\",\"com_droga\",\"com_droga\",\"com_droga\",\"com_droga\",\"com_droga\",\"com_droga\",\"com_controle\",\"com_droga\",\"com_droga\",\"com_droga\",\"com_droga\",\"com_droga\",\"com_droga\",\"com_droga\",\"com_droga\",\"com_droga\",\"com_droga\",\"com_droga\",\"com_droga\",\"com_droga\",\"com_droga\",\"com_droga\",\"com_droga\",\"com_droga\",\"com_controle\",\"com_droga\",\"com_droga\",\"com_droga\",\"com_droga\",\"com_controle\",\"com_droga\",\"com_droga\",\"com_droga\",\"com_droga\",\"com_droga\",\"com_droga\",\"com_controle\",\"com_droga\",\"com_droga\",\"com_droga\",\"com_droga\",\"com_droga\",\"com_controle\",\"com_droga\",\"com_controle\",\"com_droga\",\"com_controle\",\"com_droga\",\"com_droga\",\"com_droga\",\"com_droga\",\"com_droga\",\"com_droga\",\"com_droga\",\"com_droga\",\"com_droga\",\"com_controle\",\"com_droga\",\"com_droga\",\"com_droga\",\"com_droga\",\"com_droga\",\"com_droga\",\"com_droga\",\"com_droga\",\"com_droga\",\"com_droga\",\"com_droga\",\"com_droga\",\"com_droga\",\"com_droga\",\"com_droga\",\"com_droga\",\"com_controle\",\"com_droga\",\"com_droga\",\"com_droga\",\"com_droga\",\"com_droga\",\"com_droga\",\"com_controle\",\"com_droga\",\"com_droga\",\"com_droga\",\"com_droga\",\"com_droga\",\"com_droga\",\"com_droga\",\"com_droga\",\"com_droga\",\"com_droga\",\"com_droga\",\"com_droga\",\"com_droga\",\"com_droga\",\"com_controle\",\"com_droga\",\"com_droga\",\"com_droga\",\"com_droga\",\"com_droga\",\"com_droga\",\"com_droga\",\"com_droga\",\"com_droga\",\"com_droga\",\"com_controle\",\"com_droga\",\"com_droga\",\"com_droga\",\"com_droga\",\"com_droga\",\"com_droga\",\"com_droga\",\"com_droga\",\"com_droga\",\"com_droga\",\"com_droga\",\"com_droga\",\"com_droga\",\"com_droga\",\"com_droga\",\"com_droga\",\"com_droga\",\"com_droga\",\"com_droga\",\"com_droga\",\"com_droga\",\"com_droga\",\"com_droga\",\"com_droga\",\"com_droga\",\"com_droga\",\"com_droga\",\"com_droga\",\"com_droga\",\"com_droga\",\"com_controle\",\"com_droga\",\"com_droga\",\"com_droga\",\"com_droga\",\"com_droga\",\"com_droga\",\"com_droga\",\"com_droga\",\"com_droga\",\"com_droga\",\"com_droga\",\"com_droga\",\"com_droga\",\"com_droga\",\"com_droga\",\"com_droga\",\"com_droga\",\"com_droga\",\"com_controle\",\"com_droga\",\"com_droga\",\"com_controle\",\"com_droga\",\"com_droga\",\"com_droga\",\"com_droga\",\"com_droga\",\"com_droga\",\"com_droga\",\"com_droga\",\"com_droga\",\"com_droga\",\"com_droga\",\"com_droga\",\"com_droga\",\"com_droga\",\"com_droga\",\"com_droga\",\"com_droga\",\"com_droga\",\"com_droga\",\"com_droga\",\"com_droga\",\"com_droga\",\"com_droga\",\"com_droga\",\"com_droga\",\"com_droga\",\"com_droga\",\"com_droga\",\"com_droga\",\"com_droga\",\"com_droga\",\"com_droga\",\"com_droga\",\"com_droga\",\"com_droga\",\"com_droga\",\"com_droga\",\"com_droga\",\"com_droga\",\"com_droga\",\"com_controle\",\"com_droga\",\"com_droga\",\"com_droga\",\"com_droga\",\"com_droga\",\"com_droga\",\"com_droga\",\"com_droga\",\"com_controle\",\"com_droga\",\"com_droga\",\"com_droga\",\"com_droga\",\"com_droga\",\"com_droga\",\"com_droga\",\"com_droga\",\"com_droga\",\"com_droga\",\"com_droga\",\"com_droga\",\"com_droga\",\"com_controle\",\"com_droga\",\"com_droga\",\"com_droga\",\"com_droga\",\"com_droga\",\"com_droga\",\"com_droga\",\"com_droga\",\"com_droga\",\"com_droga\",\"com_droga\",\"com_droga\",\"com_controle\",\"com_droga\",\"com_droga\",\"com_droga\",\"com_droga\",\"com_droga\",\"com_controle\",\"com_controle\",\"com_droga\",\"com_droga\",\"com_droga\",\"com_droga\",\"com_droga\",\"com_droga\",\"com_droga\",\"com_droga\",\"com_droga\",\"com_droga\",\"com_droga\",\"com_droga\",\"com_droga\",\"com_droga\",\"com_droga\",\"com_droga\",\"com_droga\",\"com_droga\",\"com_droga\",\"com_controle\",\"com_droga\",\"com_droga\",\"com_droga\",\"com_droga\",\"com_controle\",\"com_droga\",\"com_droga\",\"com_droga\",\"com_droga\",\"com_droga\",\"com_droga\",\"com_droga\",\"com_controle\",\"com_droga\",\"com_controle\",\"com_droga\",\"com_droga\",\"com_droga\",\"com_droga\",\"com_droga\",\"com_droga\",\"com_droga\",\"com_droga\",\"com_droga\",\"com_droga\",\"com_droga\",\"com_droga\",\"com_droga\",\"com_droga\",\"com_droga\",\"com_droga\",\"com_droga\",\"com_droga\",\"com_droga\",\"com_droga\",\"com_droga\",\"com_controle\",\"com_droga\",\"com_droga\",\"com_droga\",\"com_droga\",\"com_droga\",\"com_droga\",\"com_droga\",\"com_droga\",\"com_controle\",\"com_droga\",\"com_droga\",\"com_droga\",\"com_controle\",\"com_droga\",\"com_droga\",\"com_droga\",\"com_droga\",\"com_droga\",\"com_droga\",\"com_droga\",\"com_droga\",\"com_droga\",\"com_droga\",\"com_controle\",\"com_controle\",\"com_droga\",\"com_droga\",\"com_droga\",\"com_droga\",\"com_droga\",\"com_droga\",\"com_droga\",\"com_droga\",\"com_droga\",\"com_droga\",\"com_droga\",\"com_droga\",\"com_controle\",\"com_droga\",\"com_droga\",\"com_droga\",\"com_droga\",\"com_droga\",\"com_droga\",\"com_droga\",\"com_droga\",\"com_controle\",\"com_droga\",\"com_droga\",\"com_droga\",\"com_controle\",\"com_droga\",\"com_droga\",\"com_droga\",\"com_droga\",\"com_controle\",\"com_droga\",\"com_droga\",\"com_droga\",\"com_droga\",\"com_droga\",\"com_droga\",\"com_droga\",\"com_droga\",\"com_droga\",\"com_droga\",\"com_droga\",\"com_droga\",\"com_droga\",\"com_droga\",\"com_droga\",\"com_droga\",\"com_droga\",\"com_droga\",\"com_droga\",\"com_droga\",\"com_droga\",\"com_droga\",\"com_droga\",\"com_droga\",\"com_droga\",\"com_droga\",\"com_controle\",\"com_droga\",\"com_droga\",\"com_droga\",\"com_droga\",\"com_droga\",\"com_droga\",\"com_droga\",\"com_droga\",\"com_droga\",\"com_droga\",\"com_droga\",\"com_droga\",\"com_droga\",\"com_droga\",\"com_droga\",\"com_droga\",\"com_droga\",\"com_droga\",\"com_droga\",\"com_droga\",\"com_droga\",\"com_droga\",\"com_droga\",\"com_droga\",\"com_droga\",\"com_droga\",\"com_droga\",\"com_droga\",\"com_droga\",\"com_droga\",\"com_droga\",\"com_droga\",\"com_controle\",\"com_droga\",\"com_droga\",\"com_droga\",\"com_droga\",\"com_droga\",\"com_droga\",\"com_droga\",\"com_droga\",\"com_droga\",\"com_droga\",\"com_droga\",\"com_droga\",\"com_droga\",\"com_droga\",\"com_droga\",\"com_droga\",\"com_droga\",\"com_droga\",\"com_droga\",\"com_droga\",\"com_droga\",\"com_droga\",\"com_droga\",\"com_droga\",\"com_droga\",\"com_droga\",\"com_droga\",\"com_droga\",\"com_droga\",\"com_droga\",\"com_droga\",\"com_droga\",\"com_droga\",\"com_droga\",\"com_droga\",\"com_droga\",\"com_droga\",\"com_droga\",\"com_droga\",\"com_droga\",\"com_droga\",\"com_droga\",\"com_droga\",\"com_droga\",\"com_droga\",\"com_droga\",\"com_droga\",\"com_droga\",\"com_droga\",\"com_droga\",\"com_droga\",\"com_droga\",\"com_droga\",\"com_droga\",\"com_droga\",\"com_droga\",\"com_droga\",\"com_droga\",\"com_droga\",\"com_droga\",\"com_droga\",\"com_droga\",\"com_droga\",\"com_controle\",\"com_droga\",\"com_droga\",\"com_droga\",\"com_droga\",\"com_droga\",\"com_droga\",\"com_droga\",\"com_droga\",\"com_droga\",\"com_droga\",\"com_droga\",\"com_droga\",\"com_droga\",\"com_droga\",\"com_droga\",\"com_droga\",\"com_droga\",\"com_controle\",\"com_droga\",\"com_droga\",\"com_droga\",\"com_droga\",\"com_droga\",\"com_droga\",\"com_droga\",\"com_droga\",\"com_droga\",\"com_droga\",\"com_droga\",\"com_droga\",\"com_droga\",\"com_droga\",\"com_droga\",\"com_droga\",\"com_droga\",\"com_droga\",\"com_droga\",\"com_droga\",\"com_droga\",\"com_droga\",\"com_droga\",\"com_droga\",\"com_droga\",\"com_droga\",\"com_droga\",\"com_droga\",\"com_droga\",\"com_droga\",\"com_controle\",\"com_droga\",\"com_droga\",\"com_droga\",\"com_droga\",\"com_droga\",\"com_droga\",\"com_droga\",\"com_droga\",\"com_droga\",\"com_droga\",\"com_droga\",\"com_droga\",\"com_droga\",\"com_droga\",\"com_droga\",\"com_droga\",\"com_droga\",\"com_controle\",\"com_droga\",\"com_droga\",\"com_droga\",\"com_droga\",\"com_controle\",\"com_droga\",\"com_droga\",\"com_droga\",\"com_droga\",\"com_controle\",\"com_droga\",\"com_droga\",\"com_droga\",\"com_droga\",\"com_droga\",\"com_droga\",\"com_droga\",\"com_droga\",\"com_droga\",\"com_droga\",\"com_droga\",\"com_droga\",\"com_droga\",\"com_droga\",\"com_droga\",\"com_droga\",\"com_droga\",\"com_droga\",\"com_droga\",\"com_droga\",\"com_droga\",\"com_droga\",\"com_droga\",\"com_droga\",\"com_droga\",\"com_droga\",\"com_droga\",\"com_droga\",\"com_droga\",\"com_droga\",\"com_droga\",\"com_droga\",\"com_droga\",\"com_droga\",\"com_droga\",\"com_droga\",\"com_droga\",\"com_droga\",\"com_droga\",\"com_droga\",\"com_droga\",\"com_droga\",\"com_droga\",\"com_droga\",\"com_controle\",\"com_droga\",\"com_droga\",\"com_droga\",\"com_droga\",\"com_droga\",\"com_droga\",\"com_droga\",\"com_droga\",\"com_droga\",\"com_droga\",\"com_droga\",\"com_controle\",\"com_droga\",\"com_droga\",\"com_droga\",\"com_droga\",\"com_droga\",\"com_droga\",\"com_droga\",\"com_droga\",\"com_droga\",\"com_droga\",\"com_droga\",\"com_droga\",\"com_droga\",\"com_droga\",\"com_droga\",\"com_droga\",\"com_controle\",\"com_droga\",\"com_droga\",\"com_droga\",\"com_droga\",\"com_droga\",\"com_droga\",\"com_droga\",\"com_droga\",\"com_droga\",\"com_droga\",\"com_droga\",\"com_droga\",\"com_droga\",\"com_droga\",\"com_droga\",\"com_controle\",\"com_controle\",\"com_droga\",\"com_droga\",\"com_droga\",\"com_droga\",\"com_droga\",\"com_droga\",\"com_droga\",\"com_droga\",\"com_droga\",\"com_droga\",\"com_droga\",\"com_droga\",\"com_droga\",\"com_droga\",\"com_droga\",\"com_droga\",\"com_droga\",\"com_droga\",\"com_droga\",\"com_droga\",\"com_droga\",\"com_droga\",\"com_controle\",\"com_droga\",\"com_droga\",\"com_droga\",\"com_droga\",\"com_droga\",\"com_droga\",\"com_droga\",\"com_droga\",\"com_droga\",\"com_droga\",\"com_droga\",\"com_droga\",\"com_droga\",\"com_controle\",\"com_droga\",\"com_droga\",\"com_droga\",\"com_droga\",\"com_droga\",\"com_droga\",\"com_droga\",\"com_droga\",\"com_droga\",\"com_droga\",\"com_droga\",\"com_droga\",\"com_droga\",\"com_controle\",\"com_droga\",\"com_droga\",\"com_droga\",\"com_droga\",\"com_droga\",\"com_droga\",\"com_droga\",\"com_droga\",\"com_droga\",\"com_droga\",\"com_droga\",\"com_droga\",\"com_droga\",\"com_droga\",\"com_droga\",\"com_droga\",\"com_droga\",\"com_droga\",\"com_droga\",\"com_droga\",\"com_controle\",\"com_droga\",\"com_droga\",\"com_droga\",\"com_droga\",\"com_controle\",\"com_droga\",\"com_droga\",\"com_droga\",\"com_droga\",\"com_droga\",\"com_droga\",\"com_droga\",\"com_droga\",\"com_droga\",\"com_droga\",\"com_droga\",\"com_droga\",\"com_droga\",\"com_droga\",\"com_droga\",\"com_droga\",\"com_controle\",\"com_droga\",\"com_droga\",\"com_droga\",\"com_droga\",\"com_droga\",\"com_droga\",\"com_droga\",\"com_droga\",\"com_droga\",\"com_droga\",\"com_droga\",\"com_droga\",\"com_droga\",\"com_droga\",\"com_droga\",\"com_droga\",\"com_droga\",\"com_droga\",\"com_droga\",\"com_droga\",\"com_droga\",\"com_droga\",\"com_droga\",\"com_droga\",\"com_droga\",\"com_droga\",\"com_droga\",\"com_droga\",\"com_droga\",\"com_droga\",\"com_droga\",\"com_droga\",\"com_droga\",\"com_droga\",\"com_controle\",\"com_droga\",\"com_droga\",\"com_droga\",\"com_controle\",\"com_droga\",\"com_droga\",\"com_droga\",\"com_droga\",\"com_droga\",\"com_droga\",\"com_droga\",\"com_droga\",\"com_droga\",\"com_droga\",\"com_droga\",\"com_droga\",\"com_droga\",\"com_droga\",\"com_droga\",\"com_controle\",\"com_droga\",\"com_droga\",\"com_droga\",\"com_droga\",\"com_droga\",\"com_droga\",\"com_droga\",\"com_droga\",\"com_controle\",\"com_droga\",\"com_droga\",\"com_droga\",\"com_controle\",\"com_droga\",\"com_droga\",\"com_droga\",\"com_droga\",\"com_droga\",\"com_droga\",\"com_droga\",\"com_droga\",\"com_droga\",\"com_droga\",\"com_droga\",\"com_controle\",\"com_droga\",\"com_droga\",\"com_controle\",\"com_droga\",\"com_droga\",\"com_controle\",\"com_controle\",\"com_droga\",\"com_droga\",\"com_droga\",\"com_droga\",\"com_droga\",\"com_droga\",\"com_droga\",\"com_droga\",\"com_droga\",\"com_controle\",\"com_droga\",\"com_droga\",\"com_droga\",\"com_droga\",\"com_droga\",\"com_droga\",\"com_droga\",\"com_droga\",\"com_droga\",\"com_droga\",\"com_droga\",\"com_droga\",\"com_droga\",\"com_droga\",\"com_droga\",\"com_droga\",\"com_droga\",\"com_droga\",\"com_droga\",\"com_droga\",\"com_droga\",\"com_droga\",\"com_droga\",\"com_droga\",\"com_droga\",\"com_droga\",\"com_droga\",\"com_droga\",\"com_droga\",\"com_droga\",\"com_droga\",\"com_droga\",\"com_droga\",\"com_droga\",\"com_controle\",\"com_droga\",\"com_droga\",\"com_droga\",\"com_droga\",\"com_droga\",\"com_droga\",\"com_droga\",\"com_controle\",\"com_droga\",\"com_controle\",\"com_droga\",\"com_droga\",\"com_droga\",\"com_droga\",\"com_droga\",\"com_droga\",\"com_droga\",\"com_droga\",\"com_droga\",\"com_droga\",\"com_droga\",\"com_droga\",\"com_droga\",\"com_droga\",\"com_droga\",\"com_droga\",\"com_droga\",\"com_droga\",\"com_droga\",\"com_droga\",\"com_droga\",\"com_droga\",\"com_droga\",\"com_droga\",\"com_droga\",\"com_droga\",\"com_droga\",\"com_droga\",\"com_droga\",\"com_droga\",\"com_droga\",\"com_droga\",\"com_droga\",\"com_droga\",\"com_droga\",\"com_droga\",\"com_controle\",\"com_droga\",\"com_controle\",\"com_droga\",\"com_controle\",\"com_droga\",\"com_droga\",\"com_droga\",\"com_droga\",\"com_controle\",\"com_droga\",\"com_droga\",\"com_droga\",\"com_droga\",\"com_droga\",\"com_droga\",\"com_droga\",\"com_droga\",\"com_droga\",\"com_droga\",\"com_droga\",\"com_droga\",\"com_droga\",\"com_droga\",\"com_droga\",\"com_droga\",\"com_droga\",\"com_droga\",\"com_droga\",\"com_droga\",\"com_droga\",\"com_droga\",\"com_droga\",\"com_controle\",\"com_droga\",\"com_droga\",\"com_droga\",\"com_controle\",\"com_droga\",\"com_droga\",\"com_droga\",\"com_droga\",\"com_droga\",\"com_droga\",\"com_droga\",\"com_droga\",\"com_droga\",\"com_droga\",\"com_droga\",\"com_droga\",\"com_droga\",\"com_droga\",\"com_droga\",\"com_droga\",\"com_droga\",\"com_droga\",\"com_droga\",\"com_droga\",\"com_droga\",\"com_controle\",\"com_controle\",\"com_droga\",\"com_droga\",\"com_droga\",\"com_droga\",\"com_droga\",\"com_droga\",\"com_droga\",\"com_droga\",\"com_droga\",\"com_droga\",\"com_droga\",\"com_droga\",\"com_droga\",\"com_droga\",\"com_droga\",\"com_droga\",\"com_droga\",\"com_droga\",\"com_droga\",\"com_controle\",\"com_droga\",\"com_droga\",\"com_droga\",\"com_droga\",\"com_droga\",\"com_droga\",\"com_droga\",\"com_droga\",\"com_droga\",\"com_droga\",\"com_controle\",\"com_droga\",\"com_droga\",\"com_droga\",\"com_droga\",\"com_droga\",\"com_droga\",\"com_droga\",\"com_droga\",\"com_droga\",\"com_droga\",\"com_droga\",\"com_droga\",\"com_controle\",\"com_droga\",\"com_droga\",\"com_droga\",\"com_droga\",\"com_droga\",\"com_droga\",\"com_droga\",\"com_droga\",\"com_droga\",\"com_droga\",\"com_droga\",\"com_droga\",\"com_droga\",\"com_droga\",\"com_droga\",\"com_droga\",\"com_droga\",\"com_controle\",\"com_droga\",\"com_controle\",\"com_controle\",\"com_droga\",\"com_droga\",\"com_droga\",\"com_droga\",\"com_droga\",\"com_droga\",\"com_droga\",\"com_droga\",\"com_droga\",\"com_controle\",\"com_droga\",\"com_droga\",\"com_droga\",\"com_droga\",\"com_droga\",\"com_droga\",\"com_droga\",\"com_droga\",\"com_droga\",\"com_droga\",\"com_droga\",\"com_droga\",\"com_droga\",\"com_droga\",\"com_droga\",\"com_droga\",\"com_droga\",\"com_droga\",\"com_droga\",\"com_droga\",\"com_droga\",\"com_droga\",\"com_droga\",\"com_droga\",\"com_droga\",\"com_droga\",\"com_droga\",\"com_droga\",\"com_droga\",\"com_droga\",\"com_droga\",\"com_droga\",\"com_droga\",\"com_controle\",\"com_droga\",\"com_droga\",\"com_droga\",\"com_droga\",\"com_droga\",\"com_droga\",\"com_droga\",\"com_droga\",\"com_droga\",\"com_droga\",\"com_droga\",\"com_droga\",\"com_droga\",\"com_droga\",\"com_droga\",\"com_droga\",\"com_droga\",\"com_droga\",\"com_droga\",\"com_droga\",\"com_controle\",\"com_droga\",\"com_droga\",\"com_droga\",\"com_droga\",\"com_droga\",\"com_droga\",\"com_droga\",\"com_droga\",\"com_droga\",\"com_droga\",\"com_droga\",\"com_droga\",\"com_droga\",\"com_droga\",\"com_droga\",\"com_droga\",\"com_droga\",\"com_droga\",\"com_droga\",\"com_droga\",\"com_droga\",\"com_droga\",\"com_droga\",\"com_droga\",\"com_droga\",\"com_droga\",\"com_droga\",\"com_controle\",\"com_droga\",\"com_droga\",\"com_droga\",\"com_controle\",\"com_droga\",\"com_droga\",\"com_droga\",\"com_droga\",\"com_droga\",\"com_droga\",\"com_droga\",\"com_droga\",\"com_droga\",\"com_droga\",\"com_droga\",\"com_droga\",\"com_droga\",\"com_droga\",\"com_droga\",\"com_controle\",\"com_droga\",\"com_droga\",\"com_droga\",\"com_droga\",\"com_droga\",\"com_controle\",\"com_droga\",\"com_droga\",\"com_droga\",\"com_droga\",\"com_droga\",\"com_droga\",\"com_droga\",\"com_droga\",\"com_controle\",\"com_droga\",\"com_droga\",\"com_droga\",\"com_droga\",\"com_droga\",\"com_droga\",\"com_droga\",\"com_droga\",\"com_droga\",\"com_droga\",\"com_droga\",\"com_droga\",\"com_droga\",\"com_droga\",\"com_droga\",\"com_controle\",\"com_droga\",\"com_droga\",\"com_droga\",\"com_droga\",\"com_droga\",\"com_droga\",\"com_droga\",\"com_droga\",\"com_droga\",\"com_droga\",\"com_controle\",\"com_droga\",\"com_droga\",\"com_droga\",\"com_droga\",\"com_droga\",\"com_droga\",\"com_controle\",\"com_droga\",\"com_droga\",\"com_droga\",\"com_droga\",\"com_droga\",\"com_controle\",\"com_droga\",\"com_droga\",\"com_droga\",\"com_droga\",\"com_droga\",\"com_droga\",\"com_droga\",\"com_droga\",\"com_droga\",\"com_droga\",\"com_droga\",\"com_controle\",\"com_droga\",\"com_droga\",\"com_droga\",\"com_droga\",\"com_droga\",\"com_droga\",\"com_droga\",\"com_controle\",\"com_droga\",\"com_droga\",\"com_droga\",\"com_droga\",\"com_droga\",\"com_droga\",\"com_droga\",\"com_droga\",\"com_droga\",\"com_droga\",\"com_droga\",\"com_droga\",\"com_droga\",\"com_droga\",\"com_droga\",\"com_droga\",\"com_droga\",\"com_controle\",\"com_droga\",\"com_droga\",\"com_droga\",\"com_droga\",\"com_droga\",\"com_droga\",\"com_droga\",\"com_droga\",\"com_droga\",\"com_droga\",\"com_droga\",\"com_droga\",\"com_droga\",\"com_controle\",\"com_droga\",\"com_droga\",\"com_droga\",\"com_droga\",\"com_droga\",\"com_droga\",\"com_droga\",\"com_controle\",\"com_droga\",\"com_droga\",\"com_droga\",\"com_droga\",\"com_droga\",\"com_droga\",\"com_droga\",\"com_droga\",\"com_droga\",\"com_droga\",\"com_droga\",\"com_droga\",\"com_droga\",\"com_controle\",\"com_controle\",\"com_droga\",\"com_droga\",\"com_droga\",\"com_droga\",\"com_droga\",\"com_droga\",\"com_droga\",\"com_droga\",\"com_droga\",\"com_droga\",\"com_droga\",\"com_controle\",\"com_droga\",\"com_droga\",\"com_droga\",\"com_droga\",\"com_droga\",\"com_droga\",\"com_droga\",\"com_droga\",\"com_droga\",\"com_droga\",\"com_droga\",\"com_droga\",\"com_droga\",\"com_droga\",\"com_controle\",\"com_droga\",\"com_droga\",\"com_droga\",\"com_droga\",\"com_droga\",\"com_droga\",\"com_droga\",\"com_droga\",\"com_droga\",\"com_controle\",\"com_droga\",\"com_droga\",\"com_droga\",\"com_droga\",\"com_droga\",\"com_droga\",\"com_droga\",\"com_droga\",\"com_controle\",\"com_droga\",\"com_droga\",\"com_droga\",\"com_droga\",\"com_controle\",\"com_droga\",\"com_droga\",\"com_droga\",\"com_controle\",\"com_droga\",\"com_droga\",\"com_droga\",\"com_droga\",\"com_droga\",\"com_droga\",\"com_droga\",\"com_droga\",\"com_droga\",\"com_droga\",\"com_droga\",\"com_droga\",\"com_droga\",\"com_droga\",\"com_droga\",\"com_droga\",\"com_droga\",\"com_droga\",\"com_droga\",\"com_droga\",\"com_droga\",\"com_droga\",\"com_droga\",\"com_droga\",\"com_droga\",\"com_droga\",\"com_droga\",\"com_droga\",\"com_droga\",\"com_droga\",\"com_droga\",\"com_droga\",\"com_droga\",\"com_droga\",\"com_droga\",\"com_droga\",\"com_droga\",\"com_droga\",\"com_droga\",\"com_droga\",\"com_controle\",\"com_droga\",\"com_controle\",\"com_droga\",\"com_droga\",\"com_droga\",\"com_droga\",\"com_droga\",\"com_droga\",\"com_droga\",\"com_droga\",\"com_droga\",\"com_droga\",\"com_droga\",\"com_droga\",\"com_droga\",\"com_droga\",\"com_droga\",\"com_controle\",\"com_droga\",\"com_controle\",\"com_controle\",\"com_droga\",\"com_droga\",\"com_droga\",\"com_controle\",\"com_droga\",\"com_droga\",\"com_droga\",\"com_droga\",\"com_droga\",\"com_droga\",\"com_droga\",\"com_droga\",\"com_controle\",\"com_droga\",\"com_droga\",\"com_droga\",\"com_droga\",\"com_droga\",\"com_droga\",\"com_droga\",\"com_controle\",\"com_droga\",\"com_droga\",\"com_droga\",\"com_droga\",\"com_controle\",\"com_droga\",\"com_droga\",\"com_droga\",\"com_droga\",\"com_droga\",\"com_droga\",\"com_droga\",\"com_droga\",\"com_droga\",\"com_droga\",\"com_droga\",\"com_droga\",\"com_droga\",\"com_droga\",\"com_droga\",\"com_droga\",\"com_droga\",\"com_droga\",\"com_droga\",\"com_droga\",\"com_controle\",\"com_droga\",\"com_controle\",\"com_droga\",\"com_droga\",\"com_droga\",\"com_droga\",\"com_droga\",\"com_droga\",\"com_droga\",\"com_droga\",\"com_droga\",\"com_droga\",\"com_droga\",\"com_droga\",\"com_droga\",\"com_droga\",\"com_droga\",\"com_droga\",\"com_droga\",\"com_droga\",\"com_droga\",\"com_droga\",\"com_droga\",\"com_droga\",\"com_droga\",\"com_droga\",\"com_droga\",\"com_droga\",\"com_droga\",\"com_droga\",\"com_droga\",\"com_droga\",\"com_droga\",\"com_controle\",\"com_droga\",\"com_droga\",\"com_droga\",\"com_droga\",\"com_droga\",\"com_droga\",\"com_droga\",\"com_droga\",\"com_droga\",\"com_droga\",\"com_droga\",\"com_droga\",\"com_droga\",\"com_droga\",\"com_droga\",\"com_droga\",\"com_droga\",\"com_controle\",\"com_droga\",\"com_droga\",\"com_controle\",\"com_droga\",\"com_droga\",\"com_controle\",\"com_droga\",\"com_droga\",\"com_droga\",\"com_droga\",\"com_droga\",\"com_droga\",\"com_droga\",\"com_droga\",\"com_droga\",\"com_droga\",\"com_droga\",\"com_droga\",\"com_droga\",\"com_droga\",\"com_droga\",\"com_droga\",\"com_droga\",\"com_droga\",\"com_controle\",\"com_controle\",\"com_droga\",\"com_droga\",\"com_droga\",\"com_droga\",\"com_droga\",\"com_droga\",\"com_droga\",\"com_droga\",\"com_droga\",\"com_droga\",\"com_droga\",\"com_droga\",\"com_droga\",\"com_droga\",\"com_droga\",\"com_droga\",\"com_droga\",\"com_droga\",\"com_droga\",\"com_droga\",\"com_droga\",\"com_droga\",\"com_droga\",\"com_droga\",\"com_droga\",\"com_droga\",\"com_controle\",\"com_droga\",\"com_droga\",\"com_droga\",\"com_droga\",\"com_droga\",\"com_droga\",\"com_controle\",\"com_droga\",\"com_droga\",\"com_droga\",\"com_droga\",\"com_droga\",\"com_droga\",\"com_droga\",\"com_droga\",\"com_droga\",\"com_droga\",\"com_droga\",\"com_droga\",\"com_droga\",\"com_droga\",\"com_controle\",\"com_droga\",\"com_droga\",\"com_controle\",\"com_droga\",\"com_droga\",\"com_droga\",\"com_droga\",\"com_droga\",\"com_droga\",\"com_droga\",\"com_droga\",\"com_droga\",\"com_droga\",\"com_droga\",\"com_droga\",\"com_droga\",\"com_droga\",\"com_droga\",\"com_droga\",\"com_droga\",\"com_droga\",\"com_droga\",\"com_droga\",\"com_controle\",\"com_droga\",\"com_droga\",\"com_droga\",\"com_controle\",\"com_droga\",\"com_droga\",\"com_controle\",\"com_droga\",\"com_droga\",\"com_droga\",\"com_droga\",\"com_droga\",\"com_droga\",\"com_droga\",\"com_droga\",\"com_droga\",\"com_droga\",\"com_droga\",\"com_droga\",\"com_droga\",\"com_droga\",\"com_droga\",\"com_droga\",\"com_droga\",\"com_droga\",\"com_droga\",\"com_droga\",\"com_droga\",\"com_droga\",\"com_droga\",\"com_droga\",\"com_droga\",\"com_droga\",\"com_droga\",\"com_droga\",\"com_droga\",\"com_droga\",\"com_droga\",\"com_droga\",\"com_droga\",\"com_droga\",\"com_droga\",\"com_controle\",\"com_droga\",\"com_droga\",\"com_droga\",\"com_droga\",\"com_droga\",\"com_droga\",\"com_droga\",\"com_droga\",\"com_controle\",\"com_droga\",\"com_droga\",\"com_controle\",\"com_droga\",\"com_droga\",\"com_droga\",\"com_droga\",\"com_droga\",\"com_droga\",\"com_droga\",\"com_droga\",\"com_droga\",\"com_droga\",\"com_droga\",\"com_droga\",\"com_droga\",\"com_droga\",\"com_droga\",\"com_droga\",\"com_controle\",\"com_droga\",\"com_droga\",\"com_droga\",\"com_droga\",\"com_droga\",\"com_droga\",\"com_droga\",\"com_droga\",\"com_droga\",\"com_droga\",\"com_droga\",\"com_droga\",\"com_controle\",\"com_droga\",\"com_controle\",\"com_droga\",\"com_droga\",\"com_droga\",\"com_droga\",\"com_droga\",\"com_droga\",\"com_droga\",\"com_droga\",\"com_droga\",\"com_droga\",\"com_droga\",\"com_droga\",\"com_droga\",\"com_droga\",\"com_droga\",\"com_droga\",\"com_droga\",\"com_droga\",\"com_droga\",\"com_droga\",\"com_droga\",\"com_droga\",\"com_droga\",\"com_droga\",\"com_droga\",\"com_droga\",\"com_droga\",\"com_droga\",\"com_droga\",\"com_droga\",\"com_droga\",\"com_droga\",\"com_droga\",\"com_droga\",\"com_droga\",\"com_droga\",\"com_droga\",\"com_droga\",\"com_droga\",\"com_droga\",\"com_droga\",\"com_droga\",\"com_droga\",\"com_droga\",\"com_droga\",\"com_droga\",\"com_droga\",\"com_droga\",\"com_droga\",\"com_droga\",\"com_droga\",\"com_droga\",\"com_droga\",\"com_droga\",\"com_droga\",\"com_droga\",\"com_droga\",\"com_droga\",\"com_droga\",\"com_droga\",\"com_droga\",\"com_droga\",\"com_droga\",\"com_droga\",\"com_droga\",\"com_droga\",\"com_droga\",\"com_droga\",\"com_droga\",\"com_droga\",\"com_droga\",\"com_droga\",\"com_droga\",\"com_droga\",\"com_droga\",\"com_droga\",\"com_droga\",\"com_droga\",\"com_droga\",\"com_droga\",\"com_droga\",\"com_droga\",\"com_droga\",\"com_droga\",\"com_droga\",\"com_droga\",\"com_droga\",\"com_droga\",\"com_droga\",\"com_droga\",\"com_droga\",\"com_droga\",\"com_controle\",\"com_controle\",\"com_droga\",\"com_droga\",\"com_droga\",\"com_droga\",\"com_droga\",\"com_droga\",\"com_controle\",\"com_droga\",\"com_droga\",\"com_droga\",\"com_droga\",\"com_droga\",\"com_droga\",\"com_droga\",\"com_droga\",\"com_droga\",\"com_droga\",\"com_droga\",\"com_droga\",\"com_controle\",\"com_droga\",\"com_droga\",\"com_droga\",\"com_droga\",\"com_droga\",\"com_droga\",\"com_droga\",\"com_droga\",\"com_droga\",\"com_droga\",\"com_droga\",\"com_droga\",\"com_droga\",\"com_droga\",\"com_droga\",\"com_droga\",\"com_droga\",\"com_droga\",\"com_droga\",\"com_droga\",\"com_droga\",\"com_droga\",\"com_droga\",\"com_droga\",\"com_droga\",\"com_droga\",\"com_droga\",\"com_droga\",\"com_droga\",\"com_droga\",\"com_droga\",\"com_droga\",\"com_droga\",\"com_droga\",\"com_droga\",\"com_droga\",\"com_droga\",\"com_droga\",\"com_droga\",\"com_droga\",\"com_droga\",\"com_droga\",\"com_droga\",\"com_droga\",\"com_droga\",\"com_droga\",\"com_droga\",\"com_droga\",\"com_controle\",\"com_droga\",\"com_droga\",\"com_droga\",\"com_droga\",\"com_droga\",\"com_droga\",\"com_droga\",\"com_droga\",\"com_controle\",\"com_droga\",\"com_droga\",\"com_droga\",\"com_droga\",\"com_droga\",\"com_droga\",\"com_droga\",\"com_droga\",\"com_droga\",\"com_droga\",\"com_controle\",\"com_droga\",\"com_droga\",\"com_droga\",\"com_controle\",\"com_droga\",\"com_droga\",\"com_droga\",\"com_droga\",\"com_droga\",\"com_droga\",\"com_droga\",\"com_droga\",\"com_droga\",\"com_droga\",\"com_droga\",\"com_droga\",\"com_droga\",\"com_droga\",\"com_droga\",\"com_droga\",\"com_droga\",\"com_droga\",\"com_droga\",\"com_droga\",\"com_droga\",\"com_droga\",\"com_droga\",\"com_droga\",\"com_droga\",\"com_droga\",\"com_droga\",\"com_droga\",\"com_droga\",\"com_droga\",\"com_controle\",\"com_droga\",\"com_droga\",\"com_droga\",\"com_droga\",\"com_controle\",\"com_droga\",\"com_droga\",\"com_droga\",\"com_droga\",\"com_droga\",\"com_droga\",\"com_droga\",\"com_controle\",\"com_droga\",\"com_droga\",\"com_droga\",\"com_droga\",\"com_droga\",\"com_droga\",\"com_droga\",\"com_droga\",\"com_droga\",\"com_droga\",\"com_controle\",\"com_controle\",\"com_droga\",\"com_droga\",\"com_droga\",\"com_droga\",\"com_droga\",\"com_droga\",\"com_droga\",\"com_droga\",\"com_droga\",\"com_droga\",\"com_droga\",\"com_droga\",\"com_droga\",\"com_droga\",\"com_droga\",\"com_droga\",\"com_droga\",\"com_droga\",\"com_droga\",\"com_droga\",\"com_droga\",\"com_droga\",\"com_droga\",\"com_droga\",\"com_controle\",\"com_droga\",\"com_droga\",\"com_droga\",\"com_droga\",\"com_droga\",\"com_droga\",\"com_controle\",\"com_droga\",\"com_controle\",\"com_droga\",\"com_droga\",\"com_droga\",\"com_droga\",\"com_droga\",\"com_droga\",\"com_droga\",\"com_controle\",\"com_droga\",\"com_droga\",\"com_droga\",\"com_droga\",\"com_droga\",\"com_droga\",\"com_droga\",\"com_droga\",\"com_droga\",\"com_droga\",\"com_droga\",\"com_droga\",\"com_droga\",\"com_droga\",\"com_droga\",\"com_droga\",\"com_droga\",\"com_droga\",\"com_droga\",\"com_droga\",\"com_droga\",\"com_droga\",\"com_droga\",\"com_droga\",\"com_droga\",\"com_droga\",\"com_droga\",\"com_controle\",\"com_droga\",\"com_droga\",\"com_droga\",\"com_droga\",\"com_droga\",\"com_droga\",\"com_droga\",\"com_droga\",\"com_droga\",\"com_droga\",\"com_droga\",\"com_droga\",\"com_droga\",\"com_droga\",\"com_droga\",\"com_droga\",\"com_droga\",\"com_droga\",\"com_droga\",\"com_droga\",\"com_droga\",\"com_droga\",\"com_droga\",\"com_droga\",\"com_droga\",\"com_droga\",\"com_droga\",\"com_controle\",\"com_controle\",\"com_droga\",\"com_droga\",\"com_droga\",\"com_droga\",\"com_droga\",\"com_droga\",\"com_droga\",\"com_droga\",\"com_droga\",\"com_droga\",\"com_droga\",\"com_droga\",\"com_droga\",\"com_droga\",\"com_droga\",\"com_droga\",\"com_droga\",\"com_droga\",\"com_droga\",\"com_droga\",\"com_droga\",\"com_droga\",\"com_droga\",\"com_controle\",\"com_controle\",\"com_droga\",\"com_droga\",\"com_droga\",\"com_droga\",\"com_controle\",\"com_droga\",\"com_droga\",\"com_droga\",\"com_droga\",\"com_droga\",\"com_droga\",\"com_droga\",\"com_droga\",\"com_controle\",\"com_droga\",\"com_droga\",\"com_droga\",\"com_droga\",\"com_droga\",\"com_controle\",\"com_droga\",\"com_droga\",\"com_droga\",\"com_droga\",\"com_droga\",\"com_droga\",\"com_controle\",\"com_droga\",\"com_droga\",\"com_droga\",\"com_droga\",\"com_droga\",\"com_droga\",\"com_droga\",\"com_droga\",\"com_droga\",\"com_droga\",\"com_controle\",\"com_droga\",\"com_droga\",\"com_droga\",\"com_droga\",\"com_droga\",\"com_droga\",\"com_controle\",\"com_droga\",\"com_droga\",\"com_droga\",\"com_droga\",\"com_droga\",\"com_droga\",\"com_droga\",\"com_droga\",\"com_controle\",\"com_controle\",\"com_droga\",\"com_droga\",\"com_droga\",\"com_droga\",\"com_droga\",\"com_droga\",\"com_droga\",\"com_droga\",\"com_controle\",\"com_droga\",\"com_controle\",\"com_droga\",\"com_droga\",\"com_droga\",\"com_droga\",\"com_droga\",\"com_droga\",\"com_droga\",\"com_droga\",\"com_droga\",\"com_controle\",\"com_droga\",\"com_droga\",\"com_droga\",\"com_droga\",\"com_droga\",\"com_droga\",\"com_droga\",\"com_droga\",\"com_droga\",\"com_droga\",\"com_droga\",\"com_droga\",\"com_droga\",\"com_droga\",\"com_droga\",\"com_droga\",\"com_droga\",\"com_droga\",\"com_droga\",\"com_droga\",\"com_controle\",\"com_droga\",\"com_droga\",\"com_controle\",\"com_droga\",\"com_droga\",\"com_droga\",\"com_droga\",\"com_droga\",\"com_droga\",\"com_droga\",\"com_droga\",\"com_droga\",\"com_droga\",\"com_droga\",\"com_droga\",\"com_droga\",\"com_droga\",\"com_droga\",\"com_controle\",\"com_droga\",\"com_droga\",\"com_droga\",\"com_droga\",\"com_droga\",\"com_droga\",\"com_droga\",\"com_droga\",\"com_droga\",\"com_droga\",\"com_droga\",\"com_droga\",\"com_droga\",\"com_droga\",\"com_droga\",\"com_droga\",\"com_droga\",\"com_droga\",\"com_droga\",\"com_droga\",\"com_droga\",\"com_controle\",\"com_droga\",\"com_droga\",\"com_droga\",\"com_droga\",\"com_droga\",\"com_droga\",\"com_droga\",\"com_droga\",\"com_droga\",\"com_droga\",\"com_droga\",\"com_droga\",\"com_droga\",\"com_droga\",\"com_droga\",\"com_droga\",\"com_droga\",\"com_controle\",\"com_droga\",\"com_droga\",\"com_droga\",\"com_controle\",\"com_droga\",\"com_droga\",\"com_droga\",\"com_droga\",\"com_droga\",\"com_droga\",\"com_droga\",\"com_droga\",\"com_droga\",\"com_droga\",\"com_droga\",\"com_droga\",\"com_droga\",\"com_droga\",\"com_droga\",\"com_droga\",\"com_droga\",\"com_droga\",\"com_droga\",\"com_controle\",\"com_droga\",\"com_droga\",\"com_droga\",\"com_droga\",\"com_controle\",\"com_controle\",\"com_droga\",\"com_droga\",\"com_controle\",\"com_droga\",\"com_droga\",\"com_droga\",\"com_droga\",\"com_droga\",\"com_droga\",\"com_droga\",\"com_droga\",\"com_droga\",\"com_droga\",\"com_droga\",\"com_droga\",\"com_droga\",\"com_controle\",\"com_droga\",\"com_droga\",\"com_droga\",\"com_droga\",\"com_droga\",\"com_droga\",\"com_droga\",\"com_droga\",\"com_droga\",\"com_droga\",\"com_droga\",\"com_droga\",\"com_droga\",\"com_droga\",\"com_droga\",\"com_droga\",\"com_droga\",\"com_droga\",\"com_droga\",\"com_droga\",\"com_droga\",\"com_droga\",\"com_droga\",\"com_droga\",\"com_droga\",\"com_droga\",\"com_droga\",\"com_droga\",\"com_droga\",\"com_droga\",\"com_droga\",\"com_droga\",\"com_droga\",\"com_droga\",\"com_droga\",\"com_droga\",\"com_droga\",\"com_droga\",\"com_droga\",\"com_droga\",\"com_droga\",\"com_droga\",\"com_droga\",\"com_droga\",\"com_droga\",\"com_droga\",\"com_droga\",\"com_droga\",\"com_droga\",\"com_droga\",\"com_droga\",\"com_droga\",\"com_droga\",\"com_droga\",\"com_droga\",\"com_droga\",\"com_droga\",\"com_droga\",\"com_droga\",\"com_droga\",\"com_droga\",\"com_droga\",\"com_droga\",\"com_droga\",\"com_droga\",\"com_droga\",\"com_droga\",\"com_droga\",\"com_droga\",\"com_controle\",\"com_droga\",\"com_droga\",\"com_droga\",\"com_droga\",\"com_droga\",\"com_droga\",\"com_droga\",\"com_droga\",\"com_droga\",\"com_droga\",\"com_droga\",\"com_droga\",\"com_droga\",\"com_droga\",\"com_droga\",\"com_droga\",\"com_droga\",\"com_droga\",\"com_controle\",\"com_droga\",\"com_droga\",\"com_droga\",\"com_droga\",\"com_droga\",\"com_droga\",\"com_droga\",\"com_droga\",\"com_droga\",\"com_droga\",\"com_droga\",\"com_droga\",\"com_controle\",\"com_droga\",\"com_droga\",\"com_droga\",\"com_droga\",\"com_droga\",\"com_droga\",\"com_droga\",\"com_droga\",\"com_droga\",\"com_droga\",\"com_droga\",\"com_controle\",\"com_droga\",\"com_droga\",\"com_droga\",\"com_droga\",\"com_droga\",\"com_droga\",\"com_droga\",\"com_droga\",\"com_droga\",\"com_droga\",\"com_droga\",\"com_droga\",\"com_droga\",\"com_droga\",\"com_droga\",\"com_droga\",\"com_droga\",\"com_droga\",\"com_droga\",\"com_droga\",\"com_droga\",\"com_droga\",\"com_droga\",\"com_droga\",\"com_droga\",\"com_droga\",\"com_droga\",\"com_droga\",\"com_droga\",\"com_droga\",\"com_droga\",\"com_droga\",\"com_droga\",\"com_droga\",\"com_droga\",\"com_droga\",\"com_droga\",\"com_droga\",\"com_droga\",\"com_droga\",\"com_droga\",\"com_droga\",\"com_droga\",\"com_droga\",\"com_droga\",\"com_droga\",\"com_droga\",\"com_droga\",\"com_droga\",\"com_droga\",\"com_droga\",\"com_droga\",\"com_droga\",\"com_droga\",\"com_controle\",\"com_droga\",\"com_droga\",\"com_controle\",\"com_controle\",\"com_droga\",\"com_droga\",\"com_droga\",\"com_droga\",\"com_controle\",\"com_droga\",\"com_droga\",\"com_droga\",\"com_droga\",\"com_droga\",\"com_droga\",\"com_droga\",\"com_droga\",\"com_droga\",\"com_droga\",\"com_controle\",\"com_controle\",\"com_droga\",\"com_droga\",\"com_droga\",\"com_droga\",\"com_droga\",\"com_droga\",\"com_droga\",\"com_droga\",\"com_controle\",\"com_droga\",\"com_droga\",\"com_controle\",\"com_droga\",\"com_droga\",\"com_droga\",\"com_droga\",\"com_droga\",\"com_droga\",\"com_droga\",\"com_droga\",\"com_droga\",\"com_droga\",\"com_droga\",\"com_droga\",\"com_droga\",\"com_droga\",\"com_droga\",\"com_controle\",\"com_droga\",\"com_droga\",\"com_controle\",\"com_droga\",\"com_droga\",\"com_droga\",\"com_droga\",\"com_droga\",\"com_droga\",\"com_droga\",\"com_droga\",\"com_droga\",\"com_controle\",\"com_droga\",\"com_controle\",\"com_droga\",\"com_droga\",\"com_droga\",\"com_controle\",\"com_droga\",\"com_droga\",\"com_droga\",\"com_droga\",\"com_droga\",\"com_droga\",\"com_droga\",\"com_droga\",\"com_droga\",\"com_droga\",\"com_controle\",\"com_droga\",\"com_droga\",\"com_controle\",\"com_droga\",\"com_droga\",\"com_droga\",\"com_droga\",\"com_droga\",\"com_droga\",\"com_droga\",\"com_droga\",\"com_droga\",\"com_droga\",\"com_droga\",\"com_droga\",\"com_droga\",\"com_droga\",\"com_droga\",\"com_droga\",\"com_droga\",\"com_droga\",\"com_droga\",\"com_droga\",\"com_droga\",\"com_droga\",\"com_droga\",\"com_controle\",\"com_droga\",\"com_droga\",\"com_droga\",\"com_droga\",\"com_droga\",\"com_droga\",\"com_droga\",\"com_droga\",\"com_droga\",\"com_droga\",\"com_droga\",\"com_droga\",\"com_droga\",\"com_droga\",\"com_droga\",\"com_droga\",\"com_droga\",\"com_droga\",\"com_droga\",\"com_droga\",\"com_droga\",\"com_droga\",\"com_droga\",\"com_droga\",\"com_droga\",\"com_controle\",\"com_droga\",\"com_controle\",\"com_droga\",\"com_droga\",\"com_droga\",\"com_droga\",\"com_droga\",\"com_droga\",\"com_droga\",\"com_droga\",\"com_controle\",\"com_droga\",\"com_controle\",\"com_droga\",\"com_droga\",\"com_droga\",\"com_droga\",\"com_droga\",\"com_droga\",\"com_droga\",\"com_droga\",\"com_droga\",\"com_droga\",\"com_droga\",\"com_droga\",\"com_droga\",\"com_droga\",\"com_droga\",\"com_droga\",\"com_droga\",\"com_droga\",\"com_droga\",\"com_droga\",\"com_droga\",\"com_droga\",\"com_droga\",\"com_controle\",\"com_droga\",\"com_controle\",\"com_droga\",\"com_droga\",\"com_droga\",\"com_droga\",\"com_droga\",\"com_droga\",\"com_droga\",\"com_droga\",\"com_controle\",\"com_droga\",\"com_droga\",\"com_droga\",\"com_droga\",\"com_droga\",\"com_droga\",\"com_droga\",\"com_droga\",\"com_droga\",\"com_droga\",\"com_droga\",\"com_droga\",\"com_droga\",\"com_controle\",\"com_controle\",\"com_droga\",\"com_droga\",\"com_droga\",\"com_droga\",\"com_droga\",\"com_droga\",\"com_controle\",\"com_droga\",\"com_droga\",\"com_droga\",\"com_droga\",\"com_droga\",\"com_droga\",\"com_droga\",\"com_controle\",\"com_droga\",\"com_droga\",\"com_droga\",\"com_droga\",\"com_droga\",\"com_droga\",\"com_droga\",\"com_droga\",\"com_droga\",\"com_droga\",\"com_droga\",\"com_droga\",\"com_droga\",\"com_droga\",\"com_droga\",\"com_droga\",\"com_droga\",\"com_droga\",\"com_droga\",\"com_droga\",\"com_droga\",\"com_droga\",\"com_droga\",\"com_droga\",\"com_droga\",\"com_droga\",\"com_droga\",\"com_droga\",\"com_droga\",\"com_droga\",\"com_droga\",\"com_droga\",\"com_droga\",\"com_droga\",\"com_droga\",\"com_droga\",\"com_droga\",\"com_droga\",\"com_droga\",\"com_droga\",\"com_droga\",\"com_droga\",\"com_controle\",\"com_droga\",\"com_droga\",\"com_droga\",\"com_droga\",\"com_droga\",\"com_droga\",\"com_droga\",\"com_droga\",\"com_droga\",\"com_droga\",\"com_droga\",\"com_droga\",\"com_droga\",\"com_droga\",\"com_droga\",\"com_droga\",\"com_droga\",\"com_droga\",\"com_droga\",\"com_droga\",\"com_droga\",\"com_droga\",\"com_droga\",\"com_droga\",\"com_droga\",\"com_droga\",\"com_droga\",\"com_droga\",\"com_droga\",\"com_droga\",\"com_droga\",\"com_droga\",\"com_droga\",\"com_droga\",\"com_droga\",\"com_droga\",\"com_droga\",\"com_droga\",\"com_droga\",\"com_droga\",\"com_droga\",\"com_droga\",\"com_droga\",\"com_droga\",\"com_droga\",\"com_droga\",\"com_controle\",\"com_droga\",\"com_droga\",\"com_droga\",\"com_droga\",\"com_droga\",\"com_droga\",\"com_droga\",\"com_droga\",\"com_droga\",\"com_droga\",\"com_droga\",\"com_droga\",\"com_droga\",\"com_droga\",\"com_droga\",\"com_droga\",\"com_droga\",\"com_droga\",\"com_droga\",\"com_droga\",\"com_droga\",\"com_droga\",\"com_droga\",\"com_droga\",\"com_controle\",\"com_droga\",\"com_droga\",\"com_droga\",\"com_droga\",\"com_droga\",\"com_droga\",\"com_droga\",\"com_droga\",\"com_droga\",\"com_droga\",\"com_droga\",\"com_droga\",\"com_droga\",\"com_droga\",\"com_droga\",\"com_droga\",\"com_droga\",\"com_droga\",\"com_droga\",\"com_droga\",\"com_droga\",\"com_droga\",\"com_controle\",\"com_droga\",\"com_droga\",\"com_droga\",\"com_droga\",\"com_droga\",\"com_controle\",\"com_droga\",\"com_droga\",\"com_droga\",\"com_droga\",\"com_droga\",\"com_droga\",\"com_controle\",\"com_droga\",\"com_droga\",\"com_droga\",\"com_droga\",\"com_controle\",\"com_droga\",\"com_droga\",\"com_droga\",\"com_droga\",\"com_droga\",\"com_droga\",\"com_controle\",\"com_controle\",\"com_droga\",\"com_droga\",\"com_droga\",\"com_droga\",\"com_droga\",\"com_droga\",\"com_droga\",\"com_droga\",\"com_droga\",\"com_droga\",\"com_droga\",\"com_droga\",\"com_droga\",\"com_controle\",\"com_droga\",\"com_droga\",\"com_droga\",\"com_droga\",\"com_droga\",\"com_droga\",\"com_droga\",\"com_droga\",\"com_droga\",\"com_droga\",\"com_droga\",\"com_droga\",\"com_droga\",\"com_droga\",\"com_droga\",\"com_droga\",\"com_droga\",\"com_controle\",\"com_droga\",\"com_droga\",\"com_droga\",\"com_droga\",\"com_droga\",\"com_droga\",\"com_droga\",\"com_droga\",\"com_droga\",\"com_droga\",\"com_droga\",\"com_droga\",\"com_droga\",\"com_droga\",\"com_droga\",\"com_droga\",\"com_droga\",\"com_droga\",\"com_droga\",\"com_droga\",\"com_droga\",\"com_droga\",\"com_droga\",\"com_droga\",\"com_droga\",\"com_droga\",\"com_controle\",\"com_droga\",\"com_droga\",\"com_controle\",\"com_controle\",\"com_droga\",\"com_droga\",\"com_droga\",\"com_droga\",\"com_droga\",\"com_droga\",\"com_droga\",\"com_droga\",\"com_droga\",\"com_droga\",\"com_droga\",\"com_droga\",\"com_droga\",\"com_controle\",\"com_droga\",\"com_droga\",\"com_droga\",\"com_droga\",\"com_droga\",\"com_droga\",\"com_droga\",\"com_droga\",\"com_droga\",\"com_droga\",\"com_droga\",\"com_droga\",\"com_droga\",\"com_droga\",\"com_droga\",\"com_droga\",\"com_droga\",\"com_droga\",\"com_droga\",\"com_droga\",\"com_droga\",\"com_droga\",\"com_droga\",\"com_droga\",\"com_controle\",\"com_droga\",\"com_droga\",\"com_droga\",\"com_droga\",\"com_droga\",\"com_droga\",\"com_droga\",\"com_droga\",\"com_droga\",\"com_droga\",\"com_droga\",\"com_droga\",\"com_droga\",\"com_droga\",\"com_droga\",\"com_droga\",\"com_droga\",\"com_droga\",\"com_droga\",\"com_droga\",\"com_droga\",\"com_droga\",\"com_droga\",\"com_droga\",\"com_droga\",\"com_droga\",\"com_droga\",\"com_droga\",\"com_droga\",\"com_droga\",\"com_droga\",\"com_droga\",\"com_droga\",\"com_droga\",\"com_droga\",\"com_droga\",\"com_controle\",\"com_droga\",\"com_droga\",\"com_droga\",\"com_droga\",\"com_droga\",\"com_droga\",\"com_droga\",\"com_droga\",\"com_droga\",\"com_droga\",\"com_droga\",\"com_droga\",\"com_droga\",\"com_droga\",\"com_droga\",\"com_droga\",\"com_droga\",\"com_droga\",\"com_droga\",\"com_droga\",\"com_droga\",\"com_droga\",\"com_droga\",\"com_droga\",\"com_droga\",\"com_droga\",\"com_droga\",\"com_droga\",\"com_droga\",\"com_droga\",\"com_droga\",\"com_droga\",\"com_droga\",\"com_droga\",\"com_droga\",\"com_droga\",\"com_droga\",\"com_droga\",\"com_droga\",\"com_droga\",\"com_droga\",\"com_droga\",\"com_droga\",\"com_droga\",\"com_droga\",\"com_droga\",\"com_droga\",\"com_droga\",\"com_droga\",\"com_droga\",\"com_droga\",\"com_droga\",\"com_droga\",\"com_droga\",\"com_droga\",\"com_droga\",\"com_controle\",\"com_controle\",\"com_droga\",\"com_droga\",\"com_droga\",\"com_droga\",\"com_droga\",\"com_droga\",\"com_controle\",\"com_droga\",\"com_droga\",\"com_droga\",\"com_droga\",\"com_droga\",\"com_droga\",\"com_droga\",\"com_droga\",\"com_droga\",\"com_droga\",\"com_droga\",\"com_droga\",\"com_droga\",\"com_controle\",\"com_droga\",\"com_droga\",\"com_droga\",\"com_droga\",\"com_droga\",\"com_droga\",\"com_droga\",\"com_droga\",\"com_droga\",\"com_droga\",\"com_droga\",\"com_droga\",\"com_droga\",\"com_droga\",\"com_droga\",\"com_droga\",\"com_droga\",\"com_droga\",\"com_controle\",\"com_droga\",\"com_controle\",\"com_droga\",\"com_droga\",\"com_droga\",\"com_droga\",\"com_droga\",\"com_controle\",\"com_droga\",\"com_droga\",\"com_droga\",\"com_droga\",\"com_controle\",\"com_droga\",\"com_droga\",\"com_droga\",\"com_droga\",\"com_droga\",\"com_droga\",\"com_controle\",\"com_droga\",\"com_controle\",\"com_droga\",\"com_droga\",\"com_droga\",\"com_controle\",\"com_droga\",\"com_droga\",\"com_droga\",\"com_droga\",\"com_droga\",\"com_droga\",\"com_droga\",\"com_droga\",\"com_droga\",\"com_droga\",\"com_droga\",\"com_droga\",\"com_droga\",\"com_droga\",\"com_controle\",\"com_droga\",\"com_droga\",\"com_droga\",\"com_droga\",\"com_droga\",\"com_droga\",\"com_droga\",\"com_droga\",\"com_droga\",\"com_droga\",\"com_droga\",\"com_controle\",\"com_droga\",\"com_droga\",\"com_droga\",\"com_droga\",\"com_droga\",\"com_droga\",\"com_droga\",\"com_controle\",\"com_droga\",\"com_droga\",\"com_droga\",\"com_droga\",\"com_controle\",\"com_droga\",\"com_droga\",\"com_droga\",\"com_droga\",\"com_droga\",\"com_droga\",\"com_droga\",\"com_droga\",\"com_droga\",\"com_droga\",\"com_droga\",\"com_droga\",\"com_droga\",\"com_droga\",\"com_controle\",\"com_droga\",\"com_droga\",\"com_droga\",\"com_droga\",\"com_droga\",\"com_droga\",\"com_droga\",\"com_droga\",\"com_droga\",\"com_droga\",\"com_droga\",\"com_droga\",\"com_controle\",\"com_droga\",\"com_droga\",\"com_droga\",\"com_droga\",\"com_droga\",\"com_droga\",\"com_droga\",\"com_droga\",\"com_droga\",\"com_droga\",\"com_droga\",\"com_droga\",\"com_droga\",\"com_droga\",\"com_droga\",\"com_droga\",\"com_droga\",\"com_controle\",\"com_droga\",\"com_droga\",\"com_controle\",\"com_controle\",\"com_droga\",\"com_controle\",\"com_droga\",\"com_droga\",\"com_droga\",\"com_droga\",\"com_droga\",\"com_droga\",\"com_droga\",\"com_droga\",\"com_controle\",\"com_droga\",\"com_droga\",\"com_droga\",\"com_droga\",\"com_droga\",\"com_droga\",\"com_droga\",\"com_droga\",\"com_droga\",\"com_droga\",\"com_droga\",\"com_droga\",\"com_droga\",\"com_droga\",\"com_droga\",\"com_droga\",\"com_controle\",\"com_droga\",\"com_droga\",\"com_droga\",\"com_droga\",\"com_controle\",\"com_droga\",\"com_droga\",\"com_droga\",\"com_droga\",\"com_droga\",\"com_droga\",\"com_droga\",\"com_droga\",\"com_controle\",\"com_droga\",\"com_droga\",\"com_droga\",\"com_controle\",\"com_droga\",\"com_droga\",\"com_droga\",\"com_droga\",\"com_droga\",\"com_droga\",\"com_droga\",\"com_controle\",\"com_droga\",\"com_droga\",\"com_droga\",\"com_droga\",\"com_droga\",\"com_droga\",\"com_droga\",\"com_controle\",\"com_droga\",\"com_droga\",\"com_droga\",\"com_droga\",\"com_droga\",\"com_droga\",\"com_droga\",\"com_droga\",\"com_droga\",\"com_droga\",\"com_droga\",\"com_droga\",\"com_droga\",\"com_droga\",\"com_droga\",\"com_droga\",\"com_droga\",\"com_droga\",\"com_controle\",\"com_droga\",\"com_droga\",\"com_droga\",\"com_droga\",\"com_droga\",\"com_droga\",\"com_droga\",\"com_droga\",\"com_droga\",\"com_droga\",\"com_controle\",\"com_droga\",\"com_droga\",\"com_controle\",\"com_droga\",\"com_droga\",\"com_droga\",\"com_droga\",\"com_droga\",\"com_droga\",\"com_controle\",\"com_droga\",\"com_droga\",\"com_droga\",\"com_droga\",\"com_controle\",\"com_droga\",\"com_droga\",\"com_droga\",\"com_droga\",\"com_droga\",\"com_droga\",\"com_droga\",\"com_droga\",\"com_droga\",\"com_droga\",\"com_droga\",\"com_droga\",\"com_droga\",\"com_droga\",\"com_droga\",\"com_droga\",\"com_droga\",\"com_droga\",\"com_droga\",\"com_droga\",\"com_droga\",\"com_droga\",\"com_controle\",\"com_droga\",\"com_controle\",\"com_droga\",\"com_droga\",\"com_droga\",\"com_droga\",\"com_droga\",\"com_droga\",\"com_droga\",\"com_droga\",\"com_droga\",\"com_droga\",\"com_droga\",\"com_droga\",\"com_droga\",\"com_droga\",\"com_droga\",\"com_controle\",\"com_droga\",\"com_droga\",\"com_droga\",\"com_droga\",\"com_droga\",\"com_controle\",\"com_droga\",\"com_droga\",\"com_droga\",\"com_droga\",\"com_droga\",\"com_droga\",\"com_controle\",\"com_droga\",\"com_droga\",\"com_droga\",\"com_droga\",\"com_droga\",\"com_droga\",\"com_droga\",\"com_droga\",\"com_controle\",\"com_droga\",\"com_droga\",\"com_droga\",\"com_droga\",\"com_controle\",\"com_controle\",\"com_droga\",\"com_droga\",\"com_droga\",\"com_droga\",\"com_controle\",\"com_droga\",\"com_droga\",\"com_droga\",\"com_droga\",\"com_droga\",\"com_droga\",\"com_controle\",\"com_controle\",\"com_droga\",\"com_droga\",\"com_droga\",\"com_controle\",\"com_droga\",\"com_droga\",\"com_droga\",\"com_droga\",\"com_controle\",\"com_droga\",\"com_droga\",\"com_droga\",\"com_droga\",\"com_droga\",\"com_droga\",\"com_droga\",\"com_droga\",\"com_droga\",\"com_droga\",\"com_droga\",\"com_controle\",\"com_droga\",\"com_droga\",\"com_droga\",\"com_droga\",\"com_droga\",\"com_droga\",\"com_droga\",\"com_droga\",\"com_droga\",\"com_droga\",\"com_droga\",\"com_droga\",\"com_droga\",\"com_droga\",\"com_droga\",\"com_droga\",\"com_droga\",\"com_droga\",\"com_droga\",\"com_droga\",\"com_droga\",\"com_droga\",\"com_droga\",\"com_droga\",\"com_droga\",\"com_droga\",\"com_droga\",\"com_droga\",\"com_controle\",\"com_droga\",\"com_droga\",\"com_droga\",\"com_droga\",\"com_droga\",\"com_droga\",\"com_droga\",\"com_droga\",\"com_droga\",\"com_droga\",\"com_droga\",\"com_droga\",\"com_droga\",\"com_controle\",\"com_droga\",\"com_droga\",\"com_droga\",\"com_droga\",\"com_droga\",\"com_droga\",\"com_droga\",\"com_droga\",\"com_droga\",\"com_droga\",\"com_droga\",\"com_droga\",\"com_droga\",\"com_controle\",\"com_droga\",\"com_droga\",\"com_droga\",\"com_droga\",\"com_droga\",\"com_droga\",\"com_droga\",\"com_droga\",\"com_droga\",\"com_droga\",\"com_droga\",\"com_droga\",\"com_droga\",\"com_droga\",\"com_droga\",\"com_droga\",\"com_controle\",\"com_droga\",\"com_droga\",\"com_droga\",\"com_controle\",\"com_droga\",\"com_droga\",\"com_droga\",\"com_droga\",\"com_controle\",\"com_droga\",\"com_droga\",\"com_droga\",\"com_droga\",\"com_droga\",\"com_droga\",\"com_droga\",\"com_droga\",\"com_droga\",\"com_droga\",\"com_droga\",\"com_droga\",\"com_droga\",\"com_droga\",\"com_droga\",\"com_droga\",\"com_droga\",\"com_droga\",\"com_droga\",\"com_droga\",\"com_droga\",\"com_droga\",\"com_droga\",\"com_droga\",\"com_droga\",\"com_controle\",\"com_droga\",\"com_droga\",\"com_droga\",\"com_droga\",\"com_droga\",\"com_droga\",\"com_droga\",\"com_droga\",\"com_droga\",\"com_droga\",\"com_droga\",\"com_droga\",\"com_droga\",\"com_droga\",\"com_droga\",\"com_droga\",\"com_droga\",\"com_droga\",\"com_droga\",\"com_droga\",\"com_droga\",\"com_droga\",\"com_droga\",\"com_droga\",\"com_controle\",\"com_droga\",\"com_droga\",\"com_droga\",\"com_droga\",\"com_droga\",\"com_droga\",\"com_droga\",\"com_droga\",\"com_controle\",\"com_droga\",\"com_droga\",\"com_droga\",\"com_controle\",\"com_droga\",\"com_droga\",\"com_droga\",\"com_droga\",\"com_droga\",\"com_droga\",\"com_droga\",\"com_droga\",\"com_droga\",\"com_droga\",\"com_droga\",\"com_droga\",\"com_droga\",\"com_droga\",\"com_droga\",\"com_droga\",\"com_droga\",\"com_droga\",\"com_droga\",\"com_droga\",\"com_droga\",\"com_droga\",\"com_droga\",\"com_controle\",\"com_controle\",\"com_droga\",\"com_droga\",\"com_droga\",\"com_droga\",\"com_droga\",\"com_droga\",\"com_droga\",\"com_droga\",\"com_droga\",\"com_droga\",\"com_controle\",\"com_droga\",\"com_droga\",\"com_droga\",\"com_droga\",\"com_droga\",\"com_droga\",\"com_droga\",\"com_droga\",\"com_droga\",\"com_droga\",\"com_droga\",\"com_droga\",\"com_droga\",\"com_droga\",\"com_droga\",\"com_droga\",\"com_droga\",\"com_droga\",\"com_droga\",\"com_droga\",\"com_droga\",\"com_droga\",\"com_droga\",\"com_droga\",\"com_droga\",\"com_droga\",\"com_controle\",\"com_droga\",\"com_droga\",\"com_controle\",\"com_droga\",\"com_droga\",\"com_droga\",\"com_controle\",\"com_droga\",\"com_droga\",\"com_droga\",\"com_droga\",\"com_droga\",\"com_droga\",\"com_droga\",\"com_droga\",\"com_droga\",\"com_droga\",\"com_droga\",\"com_droga\",\"com_droga\",\"com_droga\",\"com_droga\",\"com_droga\",\"com_droga\",\"com_droga\",\"com_droga\",\"com_droga\",\"com_droga\",\"com_droga\",\"com_droga\",\"com_droga\",\"com_droga\",\"com_droga\",\"com_droga\",\"com_droga\",\"com_droga\",\"com_droga\",\"com_droga\",\"com_droga\",\"com_droga\",\"com_droga\",\"com_droga\",\"com_droga\",\"com_droga\",\"com_droga\",\"com_controle\",\"com_droga\",\"com_droga\",\"com_droga\",\"com_droga\",\"com_droga\",\"com_droga\",\"com_droga\",\"com_droga\",\"com_droga\",\"com_droga\",\"com_droga\",\"com_droga\",\"com_droga\",\"com_controle\",\"com_droga\",\"com_droga\",\"com_droga\",\"com_droga\",\"com_droga\",\"com_droga\",\"com_droga\",\"com_droga\",\"com_droga\",\"com_droga\",\"com_controle\",\"com_controle\",\"com_droga\",\"com_droga\",\"com_droga\",\"com_controle\",\"com_droga\",\"com_droga\",\"com_droga\",\"com_droga\",\"com_droga\",\"com_droga\",\"com_droga\",\"com_droga\",\"com_droga\",\"com_controle\",\"com_controle\",\"com_droga\",\"com_droga\",\"com_droga\",\"com_droga\",\"com_droga\",\"com_droga\",\"com_droga\",\"com_droga\",\"com_droga\",\"com_droga\",\"com_droga\",\"com_controle\",\"com_droga\",\"com_droga\",\"com_droga\",\"com_droga\",\"com_droga\",\"com_droga\",\"com_droga\",\"com_droga\",\"com_droga\",\"com_droga\",\"com_droga\",\"com_droga\",\"com_droga\",\"com_droga\",\"com_droga\",\"com_droga\",\"com_droga\",\"com_droga\",\"com_droga\",\"com_droga\",\"com_droga\",\"com_droga\",\"com_droga\",\"com_droga\",\"com_droga\",\"com_droga\",\"com_droga\",\"com_droga\",\"com_droga\",\"com_droga\",\"com_droga\",\"com_droga\",\"com_droga\",\"com_droga\",\"com_droga\",\"com_droga\",\"com_droga\",\"com_droga\",\"com_droga\",\"com_droga\",\"com_droga\",\"com_droga\",\"com_droga\",\"com_droga\",\"com_droga\",\"com_droga\",\"com_droga\",\"com_droga\",\"com_droga\",\"com_droga\",\"com_droga\",\"com_droga\",\"com_droga\",\"com_droga\",\"com_droga\",\"com_droga\",\"com_droga\",\"com_droga\",\"com_droga\",\"com_droga\",\"com_controle\",\"com_droga\",\"com_droga\",\"com_droga\",\"com_droga\",\"com_droga\",\"com_droga\",\"com_droga\",\"com_droga\",\"com_droga\",\"com_droga\",\"com_droga\",\"com_droga\",\"com_droga\",\"com_controle\",\"com_droga\",\"com_droga\",\"com_controle\",\"com_droga\",\"com_droga\",\"com_droga\",\"com_droga\",\"com_droga\",\"com_droga\",\"com_droga\",\"com_droga\",\"com_controle\",\"com_droga\",\"com_droga\",\"com_droga\",\"com_droga\",\"com_droga\",\"com_droga\",\"com_droga\",\"com_droga\",\"com_droga\",\"com_droga\",\"com_droga\",\"com_droga\",\"com_droga\",\"com_droga\",\"com_droga\",\"com_droga\",\"com_droga\",\"com_droga\",\"com_droga\",\"com_droga\",\"com_droga\",\"com_droga\",\"com_droga\",\"com_droga\",\"com_droga\",\"com_droga\",\"com_droga\",\"com_droga\",\"com_droga\",\"com_droga\",\"com_droga\",\"com_droga\",\"com_droga\",\"com_droga\",\"com_droga\",\"com_controle\",\"com_droga\",\"com_droga\",\"com_droga\",\"com_droga\",\"com_droga\",\"com_droga\",\"com_droga\",\"com_droga\",\"com_controle\",\"com_droga\",\"com_droga\",\"com_droga\",\"com_droga\",\"com_droga\",\"com_droga\",\"com_droga\",\"com_droga\",\"com_droga\",\"com_droga\",\"com_droga\",\"com_droga\",\"com_droga\",\"com_droga\",\"com_droga\",\"com_droga\",\"com_droga\",\"com_droga\",\"com_droga\",\"com_droga\",\"com_droga\",\"com_droga\",\"com_droga\",\"com_droga\",\"com_droga\",\"com_droga\",\"com_droga\",\"com_droga\",\"com_droga\",\"com_droga\",\"com_droga\",\"com_droga\",\"com_droga\",\"com_droga\",\"com_droga\",\"com_droga\",\"com_droga\",\"com_droga\",\"com_droga\",\"com_droga\",\"com_droga\",\"com_droga\",\"com_droga\",\"com_droga\",\"com_droga\",\"com_droga\",\"com_droga\",\"com_droga\",\"com_droga\",\"com_droga\",\"com_droga\",\"com_droga\",\"com_controle\",\"com_controle\",\"com_droga\",\"com_droga\",\"com_droga\",\"com_droga\",\"com_droga\",\"com_droga\",\"com_droga\",\"com_droga\",\"com_droga\",\"com_droga\",\"com_droga\",\"com_droga\",\"com_droga\",\"com_droga\",\"com_droga\",\"com_droga\",\"com_droga\",\"com_droga\",\"com_droga\",\"com_controle\",\"com_droga\",\"com_droga\",\"com_droga\",\"com_droga\",\"com_droga\",\"com_controle\",\"com_droga\",\"com_droga\",\"com_droga\",\"com_droga\",\"com_droga\",\"com_droga\",\"com_droga\",\"com_droga\",\"com_droga\",\"com_droga\",\"com_droga\",\"com_droga\",\"com_droga\",\"com_controle\",\"com_droga\",\"com_droga\",\"com_droga\",\"com_droga\",\"com_droga\",\"com_droga\",\"com_controle\",\"com_controle\",\"com_controle\",\"com_droga\",\"com_droga\",\"com_droga\",\"com_droga\",\"com_droga\",\"com_droga\",\"com_droga\",\"com_droga\",\"com_droga\",\"com_droga\",\"com_droga\",\"com_droga\",\"com_controle\",\"com_droga\",\"com_droga\",\"com_droga\",\"com_droga\",\"com_controle\",\"com_droga\",\"com_droga\",\"com_droga\",\"com_droga\",\"com_droga\",\"com_droga\",\"com_droga\",\"com_droga\",\"com_droga\",\"com_droga\",\"com_droga\",\"com_controle\",\"com_droga\",\"com_droga\",\"com_droga\",\"com_droga\",\"com_droga\",\"com_droga\",\"com_droga\",\"com_controle\",\"com_droga\",\"com_droga\",\"com_droga\",\"com_droga\",\"com_droga\",\"com_droga\",\"com_droga\",\"com_droga\",\"com_droga\",\"com_droga\",\"com_droga\",\"com_droga\",\"com_droga\",\"com_droga\",\"com_droga\",\"com_controle\",\"com_droga\",\"com_droga\",\"com_droga\",\"com_droga\",\"com_droga\",\"com_controle\",\"com_droga\",\"com_droga\",\"com_droga\",\"com_droga\",\"com_droga\",\"com_droga\",\"com_droga\",\"com_droga\",\"com_controle\",\"com_droga\",\"com_droga\",\"com_droga\",\"com_droga\",\"com_droga\",\"com_droga\",\"com_droga\",\"com_droga\",\"com_droga\",\"com_droga\",\"com_droga\",\"com_droga\",\"com_droga\",\"com_droga\",\"com_droga\",\"com_droga\",\"com_droga\",\"com_droga\",\"com_droga\",\"com_controle\",\"com_droga\",\"com_droga\",\"com_droga\",\"com_droga\",\"com_droga\",\"com_droga\",\"com_droga\",\"com_droga\",\"com_droga\",\"com_droga\",\"com_droga\",\"com_droga\",\"com_droga\",\"com_droga\",\"com_droga\",\"com_droga\",\"com_droga\",\"com_droga\",\"com_droga\",\"com_droga\",\"com_droga\",\"com_droga\",\"com_droga\",\"com_droga\",\"com_droga\",\"com_droga\",\"com_droga\",\"com_droga\",\"com_droga\",\"com_droga\",\"com_droga\",\"com_droga\",\"com_droga\",\"com_droga\",\"com_droga\",\"com_droga\",\"com_droga\",\"com_droga\",\"com_droga\",\"com_droga\",\"com_droga\",\"com_droga\",\"com_droga\",\"com_droga\",\"com_controle\",\"com_controle\",\"com_controle\",\"com_droga\",\"com_droga\",\"com_droga\",\"com_droga\",\"com_droga\",\"com_droga\",\"com_droga\",\"com_droga\",\"com_droga\",\"com_droga\",\"com_droga\",\"com_droga\",\"com_droga\",\"com_droga\",\"com_droga\",\"com_droga\",\"com_droga\",\"com_controle\",\"com_droga\",\"com_droga\",\"com_droga\",\"com_droga\",\"com_droga\",\"com_droga\",\"com_droga\",\"com_droga\",\"com_droga\",\"com_droga\",\"com_droga\",\"com_droga\",\"com_droga\",\"com_droga\",\"com_droga\",\"com_droga\",\"com_droga\",\"com_droga\",\"com_droga\",\"com_droga\",\"com_droga\",\"com_droga\",\"com_droga\",\"com_droga\",\"com_droga\",\"com_controle\",\"com_droga\",\"com_droga\",\"com_droga\",\"com_droga\",\"com_droga\",\"com_droga\",\"com_droga\",\"com_droga\",\"com_droga\",\"com_droga\",\"com_droga\",\"com_droga\",\"com_droga\",\"com_droga\",\"com_droga\",\"com_droga\",\"com_droga\",\"com_droga\",\"com_droga\",\"com_droga\",\"com_droga\",\"com_controle\",\"com_droga\",\"com_droga\",\"com_droga\",\"com_droga\",\"com_droga\",\"com_droga\",\"com_droga\",\"com_droga\",\"com_droga\",\"com_droga\",\"com_droga\",\"com_droga\",\"com_droga\",\"com_droga\",\"com_droga\",\"com_droga\",\"com_droga\",\"com_droga\",\"com_droga\",\"com_droga\",\"com_droga\",\"com_droga\",\"com_droga\",\"com_droga\",\"com_droga\",\"com_droga\",\"com_droga\",\"com_droga\",\"com_controle\",\"com_droga\",\"com_droga\",\"com_droga\",\"com_droga\",\"com_droga\",\"com_droga\",\"com_droga\",\"com_controle\",\"com_droga\",\"com_droga\",\"com_controle\",\"com_controle\",\"com_droga\",\"com_droga\",\"com_droga\",\"com_droga\",\"com_droga\",\"com_droga\",\"com_droga\",\"com_droga\",\"com_droga\",\"com_droga\",\"com_droga\",\"com_controle\",\"com_droga\",\"com_droga\",\"com_droga\",\"com_droga\",\"com_droga\",\"com_droga\",\"com_droga\",\"com_droga\",\"com_droga\",\"com_droga\",\"com_controle\",\"com_droga\",\"com_droga\",\"com_droga\",\"com_droga\",\"com_droga\",\"com_droga\",\"com_droga\",\"com_droga\",\"com_droga\",\"com_droga\",\"com_droga\",\"com_droga\",\"com_droga\",\"com_droga\",\"com_droga\",\"com_droga\",\"com_droga\",\"com_droga\",\"com_droga\",\"com_droga\",\"com_droga\",\"com_droga\",\"com_droga\",\"com_droga\",\"com_droga\",\"com_droga\",\"com_droga\",\"com_droga\",\"com_droga\",\"com_droga\",\"com_droga\",\"com_droga\",\"com_droga\",\"com_droga\",\"com_droga\",\"com_droga\",\"com_droga\",\"com_droga\",\"com_droga\",\"com_droga\",\"com_droga\",\"com_droga\",\"com_droga\",\"com_droga\",\"com_droga\",\"com_droga\",\"com_controle\",\"com_droga\",\"com_controle\",\"com_droga\",\"com_droga\",\"com_droga\",\"com_droga\",\"com_droga\",\"com_droga\",\"com_droga\",\"com_droga\",\"com_droga\",\"com_droga\",\"com_droga\",\"com_droga\",\"com_droga\",\"com_droga\",\"com_droga\",\"com_controle\",\"com_droga\",\"com_droga\",\"com_droga\",\"com_droga\",\"com_droga\",\"com_droga\",\"com_controle\",\"com_droga\",\"com_droga\",\"com_droga\",\"com_droga\",\"com_droga\",\"com_droga\",\"com_droga\",\"com_droga\",\"com_droga\",\"com_droga\",\"com_droga\",\"com_droga\",\"com_droga\",\"com_droga\",\"com_droga\",\"com_droga\",\"com_droga\",\"com_droga\",\"com_droga\",\"com_droga\",\"com_droga\",\"com_droga\",\"com_droga\",\"com_droga\",\"com_droga\",\"com_droga\",\"com_droga\",\"com_droga\",\"com_droga\",\"com_droga\",\"com_droga\",\"com_droga\",\"com_droga\",\"com_droga\",\"com_droga\",\"com_controle\",\"com_droga\",\"com_droga\",\"com_droga\",\"com_droga\",\"com_controle\",\"com_droga\",\"com_droga\",\"com_droga\",\"com_controle\",\"com_droga\",\"com_droga\",\"com_droga\",\"com_droga\",\"com_droga\",\"com_droga\",\"com_droga\",\"com_droga\",\"com_droga\",\"com_droga\",\"com_droga\",\"com_droga\",\"com_droga\",\"com_droga\",\"com_droga\",\"com_controle\",\"com_droga\",\"com_droga\",\"com_droga\",\"com_droga\",\"com_controle\",\"com_droga\",\"com_controle\",\"com_droga\",\"com_droga\",\"com_droga\",\"com_droga\",\"com_droga\",\"com_droga\",\"com_droga\",\"com_droga\",\"com_droga\",\"com_droga\",\"com_droga\",\"com_droga\",\"com_droga\",\"com_droga\",\"com_droga\",\"com_droga\",\"com_droga\",\"com_droga\",\"com_droga\",\"com_droga\",\"com_droga\",\"com_droga\",\"com_droga\",\"com_droga\",\"com_droga\",\"com_droga\",\"com_droga\",\"com_droga\",\"com_droga\",\"com_droga\",\"com_droga\",\"com_droga\",\"com_droga\",\"com_droga\",\"com_controle\",\"com_droga\",\"com_droga\",\"com_droga\",\"com_droga\",\"com_droga\",\"com_droga\",\"com_droga\",\"com_droga\",\"com_droga\",\"com_droga\",\"com_controle\",\"com_droga\",\"com_droga\",\"com_droga\",\"com_droga\",\"com_droga\",\"com_droga\",\"com_droga\",\"com_droga\",\"com_droga\",\"com_droga\",\"com_droga\",\"com_droga\",\"com_droga\",\"com_droga\",\"com_droga\",\"com_droga\",\"com_droga\",\"com_droga\",\"com_droga\",\"com_droga\",\"com_droga\",\"com_droga\",\"com_droga\",\"com_droga\",\"com_droga\",\"com_droga\",\"com_droga\",\"com_droga\",\"com_droga\",\"com_controle\",\"com_droga\",\"com_droga\",\"com_controle\",\"com_controle\",\"com_controle\",\"com_droga\",\"com_droga\",\"com_droga\",\"com_droga\",\"com_droga\",\"com_controle\",\"com_droga\",\"com_droga\",\"com_droga\",\"com_droga\",\"com_droga\",\"com_droga\",\"com_droga\",\"com_droga\",\"com_droga\",\"com_droga\",\"com_droga\",\"com_droga\",\"com_droga\",\"com_droga\",\"com_droga\",\"com_droga\",\"com_droga\",\"com_droga\",\"com_droga\",\"com_droga\",\"com_droga\",\"com_droga\",\"com_controle\",\"com_droga\",\"com_controle\",\"com_droga\",\"com_droga\",\"com_droga\",\"com_droga\",\"com_droga\",\"com_droga\",\"com_droga\",\"com_droga\",\"com_droga\",\"com_droga\",\"com_droga\",\"com_droga\",\"com_droga\",\"com_controle\",\"com_droga\",\"com_droga\",\"com_droga\",\"com_droga\",\"com_droga\",\"com_controle\",\"com_controle\",\"com_droga\",\"com_droga\",\"com_droga\",\"com_droga\",\"com_droga\",\"com_droga\",\"com_droga\",\"com_controle\",\"com_droga\",\"com_droga\",\"com_controle\",\"com_droga\",\"com_droga\",\"com_droga\",\"com_droga\",\"com_droga\",\"com_droga\",\"com_droga\",\"com_controle\",\"com_droga\",\"com_droga\",\"com_droga\",\"com_droga\",\"com_droga\",\"com_droga\",\"com_droga\",\"com_droga\",\"com_droga\",\"com_droga\",\"com_droga\",\"com_droga\",\"com_droga\",\"com_controle\",\"com_controle\",\"com_controle\",\"com_droga\",\"com_droga\",\"com_droga\",\"com_droga\",\"com_droga\",\"com_droga\",\"com_droga\",\"com_droga\",\"com_droga\",\"com_droga\",\"com_droga\",\"com_droga\",\"com_droga\",\"com_droga\",\"com_droga\",\"com_droga\",\"com_droga\",\"com_droga\",\"com_droga\",\"com_droga\",\"com_droga\",\"com_droga\",\"com_controle\",\"com_droga\",\"com_droga\",\"com_droga\",\"com_droga\",\"com_droga\",\"com_controle\",\"com_droga\",\"com_droga\",\"com_droga\",\"com_droga\",\"com_droga\",\"com_droga\",\"com_droga\",\"com_droga\",\"com_droga\",\"com_droga\",\"com_droga\",\"com_droga\",\"com_droga\",\"com_droga\",\"com_droga\",\"com_droga\",\"com_droga\",\"com_droga\",\"com_droga\",\"com_droga\",\"com_droga\",\"com_droga\",\"com_droga\",\"com_droga\",\"com_droga\",\"com_droga\",\"com_droga\",\"com_droga\",\"com_droga\",\"com_droga\",\"com_controle\",\"com_droga\",\"com_droga\",\"com_droga\",\"com_droga\",\"com_droga\",\"com_droga\",\"com_droga\",\"com_droga\",\"com_droga\",\"com_droga\",\"com_droga\",\"com_droga\",\"com_droga\",\"com_droga\",\"com_droga\",\"com_droga\",\"com_droga\",\"com_droga\",\"com_controle\",\"com_droga\",\"com_droga\",\"com_droga\",\"com_droga\",\"com_droga\",\"com_droga\",\"com_droga\",\"com_droga\",\"com_droga\",\"com_droga\",\"com_droga\",\"com_droga\",\"com_droga\",\"com_droga\",\"com_droga\",\"com_controle\",\"com_droga\",\"com_droga\",\"com_droga\",\"com_droga\",\"com_droga\",\"com_droga\",\"com_droga\",\"com_droga\",\"com_droga\",\"com_droga\",\"com_droga\",\"com_droga\",\"com_droga\",\"com_droga\",\"com_droga\",\"com_droga\",\"com_droga\",\"com_droga\",\"com_droga\",\"com_droga\",\"com_droga\",\"com_droga\",\"com_droga\",\"com_droga\",\"com_droga\",\"com_droga\",\"com_droga\",\"com_droga\",\"com_droga\",\"com_controle\",\"com_controle\",\"com_droga\",\"com_droga\",\"com_droga\",\"com_controle\",\"com_droga\",\"com_droga\",\"com_droga\",\"com_droga\",\"com_droga\",\"com_droga\",\"com_droga\",\"com_droga\",\"com_droga\",\"com_droga\",\"com_controle\",\"com_controle\",\"com_droga\",\"com_droga\",\"com_droga\",\"com_droga\",\"com_droga\",\"com_droga\",\"com_droga\",\"com_droga\",\"com_controle\",\"com_droga\",\"com_droga\",\"com_droga\",\"com_droga\",\"com_droga\",\"com_droga\",\"com_droga\",\"com_droga\",\"com_droga\",\"com_droga\",\"com_droga\",\"com_droga\",\"com_droga\",\"com_droga\",\"com_droga\",\"com_droga\",\"com_droga\",\"com_droga\",\"com_droga\",\"com_droga\",\"com_droga\",\"com_droga\",\"com_droga\",\"com_droga\",\"com_droga\",\"com_droga\",\"com_droga\",\"com_droga\",\"com_droga\",\"com_droga\",\"com_droga\",\"com_droga\",\"com_droga\",\"com_droga\",\"com_droga\",\"com_droga\",\"com_droga\",\"com_droga\",\"com_droga\",\"com_droga\",\"com_droga\",\"com_droga\",\"com_droga\",\"com_droga\",\"com_droga\",\"com_droga\",\"com_droga\",\"com_droga\",\"com_droga\",\"com_droga\",\"com_droga\",\"com_droga\",\"com_droga\",\"com_droga\",\"com_droga\",\"com_droga\",\"com_droga\",\"com_droga\",\"com_droga\",\"com_droga\",\"com_droga\",\"com_droga\",\"com_droga\",\"com_droga\",\"com_droga\",\"com_droga\",\"com_controle\",\"com_droga\",\"com_droga\",\"com_droga\",\"com_droga\",\"com_droga\",\"com_droga\",\"com_controle\",\"com_droga\",\"com_droga\",\"com_droga\",\"com_droga\",\"com_controle\",\"com_droga\",\"com_droga\",\"com_droga\",\"com_droga\",\"com_droga\",\"com_droga\",\"com_droga\",\"com_droga\",\"com_droga\",\"com_droga\",\"com_droga\",\"com_droga\",\"com_droga\",\"com_droga\",\"com_droga\",\"com_droga\",\"com_droga\",\"com_droga\",\"com_droga\",\"com_droga\",\"com_droga\",\"com_droga\",\"com_droga\",\"com_droga\",\"com_droga\",\"com_droga\",\"com_droga\",\"com_droga\",\"com_droga\",\"com_droga\",\"com_droga\",\"com_droga\",\"com_droga\",\"com_droga\",\"com_droga\",\"com_droga\",\"com_droga\",\"com_droga\",\"com_droga\",\"com_droga\",\"com_droga\",\"com_droga\",\"com_droga\",\"com_droga\",\"com_droga\",\"com_droga\",\"com_droga\",\"com_droga\",\"com_droga\",\"com_droga\",\"com_droga\",\"com_droga\",\"com_droga\",\"com_droga\",\"com_droga\",\"com_droga\",\"com_droga\",\"com_droga\",\"com_droga\",\"com_droga\",\"com_droga\",\"com_droga\",\"com_droga\",\"com_droga\",\"com_droga\",\"com_droga\",\"com_droga\",\"com_droga\",\"com_droga\",\"com_controle\",\"com_droga\",\"com_droga\",\"com_controle\",\"com_controle\",\"com_droga\",\"com_controle\",\"com_controle\",\"com_droga\",\"com_droga\",\"com_controle\",\"com_droga\",\"com_droga\",\"com_droga\",\"com_droga\",\"com_droga\",\"com_droga\",\"com_droga\",\"com_droga\",\"com_droga\",\"com_droga\",\"com_droga\",\"com_droga\",\"com_droga\",\"com_droga\",\"com_droga\",\"com_droga\",\"com_droga\",\"com_controle\",\"com_droga\",\"com_droga\",\"com_droga\",\"com_droga\",\"com_droga\",\"com_droga\",\"com_droga\",\"com_droga\",\"com_droga\",\"com_droga\",\"com_droga\",\"com_droga\",\"com_droga\",\"com_droga\",\"com_droga\",\"com_droga\",\"com_droga\",\"com_droga\",\"com_droga\",\"com_droga\",\"com_droga\",\"com_droga\",\"com_droga\",\"com_droga\",\"com_controle\",\"com_droga\",\"com_droga\",\"com_controle\",\"com_droga\",\"com_droga\",\"com_droga\",\"com_droga\",\"com_droga\",\"com_droga\",\"com_droga\",\"com_droga\",\"com_droga\",\"com_controle\",\"com_droga\",\"com_droga\",\"com_droga\",\"com_droga\",\"com_droga\",\"com_droga\",\"com_droga\",\"com_droga\",\"com_droga\",\"com_droga\",\"com_droga\",\"com_droga\",\"com_droga\",\"com_droga\",\"com_droga\",\"com_controle\",\"com_droga\",\"com_droga\",\"com_droga\",\"com_droga\",\"com_droga\",\"com_droga\",\"com_droga\",\"com_droga\",\"com_droga\",\"com_droga\",\"com_droga\",\"com_droga\",\"com_droga\",\"com_droga\",\"com_droga\",\"com_droga\",\"com_droga\",\"com_droga\",\"com_droga\",\"com_droga\",\"com_droga\",\"com_droga\",\"com_droga\",\"com_droga\",\"com_droga\",\"com_controle\",\"com_droga\",\"com_droga\",\"com_droga\",\"com_droga\",\"com_droga\",\"com_droga\",\"com_droga\",\"com_droga\",\"com_droga\",\"com_droga\",\"com_droga\",\"com_droga\",\"com_droga\",\"com_droga\",\"com_droga\",\"com_droga\",\"com_droga\",\"com_droga\",\"com_droga\",\"com_droga\",\"com_droga\",\"com_droga\",\"com_droga\",\"com_droga\",\"com_droga\",\"com_droga\",\"com_droga\",\"com_droga\",\"com_droga\",\"com_droga\",\"com_droga\",\"com_droga\",\"com_droga\",\"com_droga\",\"com_droga\",\"com_droga\",\"com_droga\",\"com_droga\",\"com_droga\",\"com_droga\",\"com_droga\",\"com_droga\",\"com_droga\",\"com_droga\",\"com_droga\",\"com_droga\",\"com_droga\",\"com_droga\",\"com_droga\",\"com_droga\",\"com_droga\",\"com_droga\",\"com_droga\",\"com_droga\",\"com_droga\",\"com_droga\",\"com_droga\",\"com_droga\",\"com_droga\",\"com_droga\",\"com_droga\",\"com_droga\",\"com_droga\",\"com_droga\",\"com_droga\",\"com_droga\",\"com_droga\",\"com_droga\",\"com_droga\",\"com_droga\",\"com_droga\",\"com_droga\",\"com_controle\",\"com_droga\",\"com_droga\",\"com_droga\",\"com_droga\",\"com_droga\",\"com_controle\",\"com_controle\",\"com_droga\",\"com_controle\",\"com_controle\",\"com_droga\",\"com_droga\",\"com_droga\",\"com_droga\",\"com_droga\",\"com_droga\",\"com_droga\",\"com_droga\",\"com_droga\",\"com_droga\",\"com_droga\",\"com_droga\",\"com_droga\",\"com_droga\",\"com_droga\",\"com_droga\",\"com_droga\",\"com_droga\",\"com_droga\",\"com_droga\",\"com_controle\",\"com_droga\",\"com_droga\",\"com_droga\",\"com_droga\",\"com_controle\",\"com_droga\",\"com_droga\",\"com_controle\",\"com_droga\",\"com_droga\",\"com_droga\",\"com_droga\",\"com_droga\",\"com_droga\",\"com_droga\",\"com_droga\",\"com_droga\",\"com_droga\",\"com_droga\",\"com_controle\",\"com_droga\",\"com_droga\",\"com_controle\",\"com_droga\",\"com_droga\",\"com_droga\",\"com_droga\",\"com_droga\",\"com_droga\",\"com_droga\",\"com_droga\",\"com_droga\",\"com_droga\",\"com_droga\",\"com_droga\",\"com_droga\",\"com_droga\",\"com_droga\",\"com_droga\",\"com_droga\",\"com_droga\",\"com_controle\",\"com_droga\",\"com_droga\",\"com_droga\",\"com_droga\",\"com_droga\",\"com_droga\",\"com_droga\",\"com_droga\",\"com_droga\",\"com_droga\",\"com_droga\",\"com_droga\",\"com_droga\",\"com_controle\",\"com_droga\",\"com_droga\",\"com_droga\",\"com_droga\",\"com_droga\",\"com_droga\",\"com_droga\",\"com_droga\",\"com_droga\",\"com_droga\",\"com_droga\",\"com_droga\",\"com_droga\",\"com_droga\",\"com_controle\",\"com_droga\",\"com_droga\",\"com_droga\",\"com_droga\",\"com_droga\",\"com_droga\",\"com_controle\",\"com_droga\",\"com_droga\",\"com_controle\",\"com_droga\",\"com_droga\",\"com_droga\",\"com_droga\",\"com_droga\",\"com_droga\",\"com_droga\",\"com_droga\",\"com_droga\",\"com_droga\",\"com_droga\",\"com_droga\",\"com_droga\",\"com_droga\",\"com_droga\",\"com_droga\",\"com_droga\",\"com_droga\",\"com_droga\",\"com_droga\",\"com_droga\",\"com_droga\",\"com_droga\",\"com_droga\",\"com_droga\",\"com_droga\",\"com_droga\",\"com_droga\",\"com_droga\",\"com_droga\",\"com_droga\",\"com_droga\",\"com_droga\",\"com_droga\",\"com_droga\",\"com_droga\",\"com_droga\",\"com_controle\",\"com_droga\",\"com_droga\",\"com_droga\",\"com_droga\",\"com_droga\",\"com_controle\",\"com_droga\",\"com_droga\",\"com_droga\",\"com_droga\",\"com_droga\",\"com_droga\",\"com_droga\",\"com_droga\",\"com_droga\",\"com_droga\",\"com_droga\",\"com_droga\",\"com_controle\",\"com_droga\",\"com_droga\",\"com_droga\",\"com_droga\",\"com_droga\",\"com_droga\",\"com_droga\",\"com_droga\",\"com_droga\",\"com_droga\",\"com_droga\",\"com_droga\",\"com_droga\",\"com_droga\",\"com_droga\",\"com_droga\",\"com_droga\",\"com_droga\",\"com_droga\",\"com_controle\",\"com_droga\",\"com_droga\",\"com_droga\",\"com_controle\",\"com_droga\",\"com_droga\",\"com_controle\",\"com_droga\",\"com_droga\",\"com_controle\",\"com_droga\",\"com_droga\",\"com_droga\",\"com_droga\",\"com_droga\",\"com_droga\",\"com_droga\",\"com_droga\",\"com_droga\",\"com_droga\",\"com_controle\",\"com_droga\",\"com_droga\",\"com_droga\",\"com_droga\",\"com_controle\",\"com_droga\",\"com_droga\",\"com_droga\",\"com_controle\",\"com_droga\",\"com_droga\",\"com_droga\",\"com_droga\",\"com_droga\",\"com_droga\",\"com_droga\",\"com_droga\",\"com_droga\",\"com_controle\",\"com_droga\",\"com_controle\",\"com_droga\",\"com_droga\",\"com_droga\",\"com_droga\",\"com_droga\",\"com_droga\",\"com_droga\",\"com_droga\",\"com_droga\",\"com_droga\",\"com_droga\",\"com_droga\",\"com_droga\",\"com_droga\",\"com_droga\",\"com_droga\",\"com_droga\",\"com_droga\",\"com_droga\",\"com_droga\",\"com_droga\",\"com_droga\",\"com_droga\",\"com_droga\",\"com_droga\",\"com_droga\",\"com_droga\",\"com_droga\",\"com_droga\",\"com_droga\",\"com_droga\",\"com_droga\",\"com_droga\",\"com_droga\",\"com_droga\",\"com_droga\",\"com_droga\",\"com_droga\",\"com_controle\",\"com_droga\",\"com_droga\",\"com_droga\",\"com_droga\",\"com_droga\",\"com_droga\",\"com_droga\",\"com_droga\",\"com_droga\",\"com_droga\",\"com_droga\",\"com_droga\",\"com_droga\",\"com_droga\",\"com_droga\",\"com_droga\",\"com_controle\",\"com_droga\",\"com_droga\",\"com_droga\",\"com_droga\",\"com_droga\",\"com_droga\",\"com_droga\",\"com_droga\",\"com_droga\",\"com_droga\",\"com_droga\",\"com_droga\",\"com_droga\",\"com_droga\",\"com_droga\",\"com_droga\",\"com_droga\",\"com_droga\",\"com_droga\",\"com_controle\",\"com_droga\",\"com_droga\",\"com_droga\",\"com_droga\",\"com_droga\",\"com_droga\",\"com_droga\",\"com_droga\",\"com_droga\",\"com_droga\",\"com_droga\",\"com_droga\",\"com_controle\",\"com_droga\",\"com_droga\",\"com_droga\",\"com_droga\",\"com_droga\",\"com_droga\",\"com_droga\",\"com_droga\",\"com_droga\",\"com_droga\",\"com_droga\",\"com_droga\",\"com_droga\",\"com_droga\",\"com_droga\",\"com_droga\",\"com_droga\",\"com_droga\",\"com_droga\",\"com_droga\",\"com_droga\",\"com_droga\",\"com_droga\",\"com_droga\",\"com_droga\",\"com_droga\",\"com_droga\",\"com_droga\",\"com_droga\",\"com_droga\",\"com_droga\",\"com_droga\",\"com_controle\",\"com_droga\",\"com_droga\",\"com_droga\",\"com_droga\",\"com_droga\",\"com_droga\",\"com_droga\",\"com_droga\",\"com_droga\",\"com_droga\",\"com_droga\",\"com_droga\",\"com_droga\",\"com_droga\",\"com_droga\",\"com_droga\",\"com_controle\",\"com_droga\",\"com_droga\",\"com_droga\",\"com_droga\",\"com_droga\",\"com_droga\",\"com_droga\",\"com_droga\",\"com_droga\",\"com_droga\",\"com_droga\",\"com_droga\",\"com_droga\",\"com_droga\",\"com_controle\",\"com_droga\",\"com_droga\",\"com_droga\",\"com_droga\",\"com_droga\",\"com_droga\",\"com_droga\",\"com_droga\",\"com_droga\",\"com_droga\",\"com_droga\",\"com_droga\",\"com_droga\",\"com_droga\",\"com_droga\",\"com_droga\",\"com_droga\",\"com_droga\",\"com_droga\",\"com_droga\",\"com_droga\",\"com_droga\",\"com_droga\",\"com_droga\",\"com_droga\",\"com_droga\",\"com_controle\",\"com_droga\",\"com_droga\",\"com_droga\",\"com_droga\",\"com_droga\",\"com_controle\",\"com_droga\",\"com_droga\",\"com_droga\",\"com_controle\",\"com_droga\",\"com_droga\",\"com_droga\",\"com_droga\",\"com_droga\",\"com_controle\",\"com_droga\",\"com_droga\",\"com_droga\",\"com_droga\",\"com_controle\",\"com_droga\",\"com_droga\",\"com_droga\",\"com_controle\",\"com_droga\",\"com_droga\",\"com_droga\",\"com_droga\",\"com_droga\",\"com_droga\",\"com_droga\",\"com_controle\",\"com_droga\",\"com_droga\",\"com_droga\",\"com_droga\",\"com_controle\",\"com_droga\",\"com_droga\",\"com_droga\",\"com_droga\",\"com_droga\",\"com_droga\",\"com_droga\",\"com_droga\",\"com_droga\",\"com_droga\",\"com_droga\",\"com_droga\",\"com_droga\",\"com_droga\",\"com_droga\",\"com_droga\",\"com_droga\",\"com_droga\",\"com_droga\",\"com_controle\",\"com_droga\",\"com_droga\",\"com_droga\",\"com_droga\",\"com_droga\",\"com_droga\",\"com_droga\",\"com_droga\",\"com_droga\",\"com_droga\",\"com_droga\",\"com_droga\",\"com_droga\",\"com_droga\",\"com_droga\",\"com_droga\",\"com_droga\",\"com_droga\",\"com_droga\",\"com_droga\",\"com_droga\",\"com_droga\",\"com_droga\",\"com_controle\",\"com_droga\",\"com_droga\",\"com_droga\",\"com_droga\",\"com_droga\",\"com_droga\",\"com_droga\",\"com_droga\",\"com_droga\",\"com_controle\",\"com_droga\",\"com_controle\",\"com_controle\",\"com_droga\",\"com_droga\",\"com_droga\",\"com_droga\",\"com_droga\",\"com_controle\",\"com_controle\",\"com_controle\",\"com_droga\",\"com_droga\",\"com_droga\",\"com_droga\",\"com_droga\",\"com_controle\",\"com_droga\",\"com_droga\",\"com_droga\",\"com_droga\",\"com_droga\",\"com_droga\",\"com_droga\",\"com_droga\",\"com_droga\",\"com_droga\",\"com_droga\",\"com_droga\",\"com_controle\",\"com_droga\",\"com_droga\",\"com_droga\",\"com_droga\",\"com_droga\",\"com_droga\",\"com_droga\",\"com_droga\",\"com_droga\",\"com_droga\",\"com_droga\",\"com_droga\",\"com_droga\",\"com_droga\",\"com_controle\",\"com_droga\",\"com_droga\",\"com_droga\",\"com_droga\",\"com_droga\",\"com_droga\",\"com_droga\",\"com_droga\",\"com_droga\",\"com_droga\",\"com_droga\",\"com_droga\",\"com_droga\",\"com_droga\",\"com_droga\",\"com_droga\",\"com_droga\",\"com_controle\",\"com_droga\",\"com_droga\",\"com_droga\",\"com_droga\",\"com_droga\",\"com_droga\",\"com_droga\",\"com_droga\",\"com_droga\",\"com_droga\",\"com_droga\",\"com_droga\",\"com_controle\",\"com_droga\",\"com_droga\",\"com_droga\",\"com_droga\",\"com_droga\",\"com_droga\",\"com_droga\",\"com_droga\",\"com_droga\",\"com_droga\",\"com_droga\",\"com_droga\",\"com_controle\",\"com_droga\",\"com_droga\",\"com_droga\",\"com_droga\",\"com_droga\",\"com_droga\",\"com_droga\",\"com_droga\",\"com_droga\",\"com_controle\",\"com_controle\",\"com_droga\",\"com_droga\",\"com_droga\",\"com_droga\",\"com_droga\",\"com_droga\",\"com_droga\",\"com_droga\",\"com_droga\",\"com_droga\",\"com_droga\",\"com_droga\",\"com_droga\",\"com_droga\",\"com_droga\",\"com_droga\",\"com_droga\",\"com_droga\",\"com_droga\",\"com_droga\",\"com_droga\",\"com_droga\",\"com_droga\",\"com_droga\",\"com_droga\",\"com_droga\",\"com_droga\",\"com_droga\",\"com_droga\",\"com_droga\",\"com_droga\",\"com_droga\",\"com_droga\",\"com_droga\",\"com_droga\",\"com_droga\",\"com_droga\",\"com_droga\",\"com_droga\",\"com_droga\",\"com_droga\",\"com_droga\",\"com_droga\",\"com_droga\",\"com_droga\",\"com_droga\",\"com_droga\",\"com_droga\",\"com_droga\",\"com_droga\",\"com_droga\",\"com_droga\",\"com_droga\",\"com_droga\",\"com_droga\",\"com_droga\",\"com_droga\",\"com_droga\",\"com_droga\",\"com_droga\",\"com_droga\",\"com_droga\",\"com_droga\",\"com_droga\",\"com_droga\",\"com_droga\",\"com_droga\",\"com_droga\",\"com_droga\",\"com_droga\",\"com_droga\",\"com_droga\",\"com_droga\",\"com_droga\",\"com_controle\",\"com_droga\",\"com_droga\",\"com_droga\",\"com_droga\",\"com_droga\",\"com_droga\",\"com_droga\",\"com_droga\",\"com_droga\",\"com_droga\",\"com_droga\",\"com_droga\",\"com_droga\",\"com_droga\",\"com_controle\",\"com_droga\",\"com_controle\",\"com_droga\",\"com_controle\",\"com_droga\",\"com_droga\",\"com_droga\",\"com_droga\",\"com_droga\",\"com_droga\",\"com_droga\",\"com_droga\",\"com_droga\",\"com_droga\",\"com_droga\",\"com_droga\",\"com_droga\",\"com_droga\",\"com_droga\",\"com_droga\",\"com_droga\",\"com_droga\",\"com_droga\",\"com_droga\",\"com_droga\",\"com_controle\",\"com_controle\",\"com_droga\",\"com_droga\",\"com_droga\",\"com_droga\",\"com_droga\",\"com_droga\",\"com_droga\",\"com_droga\",\"com_droga\",\"com_droga\",\"com_droga\",\"com_droga\",\"com_droga\",\"com_droga\",\"com_controle\",\"com_droga\",\"com_droga\",\"com_droga\",\"com_droga\",\"com_droga\",\"com_droga\",\"com_droga\",\"com_droga\",\"com_controle\",\"com_droga\",\"com_droga\",\"com_droga\",\"com_droga\",\"com_droga\",\"com_droga\",\"com_droga\",\"com_droga\",\"com_droga\",\"com_droga\",\"com_droga\",\"com_droga\",\"com_droga\",\"com_controle\",\"com_droga\",\"com_droga\",\"com_droga\",\"com_droga\",\"com_controle\",\"com_droga\",\"com_droga\",\"com_droga\",\"com_droga\",\"com_droga\",\"com_droga\",\"com_droga\",\"com_droga\",\"com_droga\",\"com_droga\",\"com_controle\",\"com_controle\",\"com_droga\",\"com_droga\",\"com_droga\",\"com_droga\",\"com_droga\",\"com_droga\",\"com_droga\",\"com_droga\",\"com_droga\",\"com_droga\",\"com_droga\",\"com_droga\",\"com_droga\",\"com_droga\",\"com_controle\",\"com_droga\",\"com_droga\",\"com_droga\",\"com_droga\",\"com_droga\",\"com_droga\",\"com_droga\",\"com_droga\",\"com_droga\",\"com_droga\",\"com_droga\",\"com_droga\",\"com_droga\",\"com_droga\",\"com_controle\",\"com_droga\",\"com_droga\",\"com_droga\",\"com_droga\",\"com_droga\",\"com_droga\",\"com_droga\",\"com_droga\",\"com_droga\",\"com_droga\",\"com_droga\",\"com_droga\",\"com_droga\",\"com_droga\",\"com_droga\",\"com_droga\",\"com_droga\",\"com_droga\",\"com_controle\",\"com_droga\",\"com_droga\",\"com_droga\",\"com_droga\",\"com_droga\",\"com_droga\",\"com_droga\",\"com_droga\",\"com_droga\",\"com_droga\",\"com_droga\",\"com_droga\",\"com_droga\",\"com_droga\",\"com_droga\",\"com_droga\",\"com_droga\",\"com_droga\",\"com_droga\",\"com_droga\",\"com_droga\",\"com_droga\",\"com_droga\",\"com_droga\",\"com_droga\",\"com_droga\",\"com_droga\",\"com_droga\",\"com_droga\",\"com_droga\",\"com_droga\",\"com_droga\",\"com_droga\",\"com_droga\",\"com_droga\",\"com_droga\",\"com_droga\",\"com_droga\",\"com_droga\",\"com_droga\",\"com_droga\",\"com_droga\",\"com_controle\",\"com_droga\",\"com_droga\",\"com_controle\",\"com_droga\",\"com_droga\",\"com_droga\",\"com_droga\",\"com_droga\",\"com_droga\",\"com_droga\",\"com_droga\",\"com_droga\",\"com_droga\",\"com_droga\",\"com_droga\",\"com_droga\",\"com_droga\",\"com_droga\",\"com_droga\",\"com_droga\",\"com_droga\",\"com_droga\",\"com_droga\",\"com_droga\",\"com_droga\",\"com_droga\",\"com_droga\",\"com_droga\",\"com_droga\",\"com_droga\",\"com_droga\",\"com_droga\",\"com_droga\",\"com_controle\",\"com_droga\",\"com_droga\",\"com_droga\",\"com_droga\",\"com_droga\",\"com_droga\",\"com_droga\",\"com_droga\",\"com_controle\",\"com_droga\",\"com_droga\",\"com_droga\",\"com_droga\",\"com_droga\",\"com_droga\",\"com_droga\",\"com_droga\",\"com_droga\",\"com_droga\",\"com_droga\",\"com_droga\",\"com_droga\",\"com_droga\",\"com_droga\",\"com_controle\",\"com_droga\",\"com_droga\",\"com_droga\",\"com_droga\",\"com_droga\",\"com_droga\",\"com_droga\",\"com_droga\",\"com_droga\",\"com_droga\",\"com_droga\",\"com_droga\",\"com_droga\",\"com_controle\",\"com_droga\",\"com_droga\",\"com_droga\",\"com_droga\",\"com_droga\",\"com_droga\",\"com_droga\",\"com_droga\",\"com_droga\",\"com_droga\",\"com_droga\",\"com_droga\",\"com_droga\",\"com_droga\",\"com_droga\",\"com_droga\",\"com_droga\",\"com_controle\",\"com_droga\",\"com_droga\",\"com_droga\",\"com_droga\",\"com_droga\",\"com_droga\",\"com_controle\",\"com_droga\",\"com_droga\",\"com_droga\",\"com_droga\",\"com_droga\",\"com_droga\",\"com_droga\",\"com_droga\",\"com_droga\",\"com_droga\",\"com_droga\",\"com_droga\",\"com_droga\",\"com_droga\",\"com_droga\",\"com_droga\",\"com_droga\",\"com_droga\",\"com_droga\",\"com_droga\",\"com_droga\",\"com_droga\",\"com_droga\",\"com_droga\",\"com_droga\",\"com_droga\",\"com_droga\",\"com_droga\",\"com_droga\",\"com_droga\",\"com_droga\",\"com_droga\",\"com_droga\",\"com_droga\",\"com_droga\",\"com_droga\",\"com_droga\",\"com_droga\",\"com_controle\",\"com_droga\",\"com_droga\",\"com_droga\",\"com_droga\",\"com_droga\",\"com_droga\",\"com_droga\",\"com_droga\",\"com_droga\",\"com_droga\",\"com_droga\",\"com_droga\",\"com_droga\",\"com_droga\",\"com_droga\",\"com_droga\",\"com_droga\",\"com_droga\",\"com_droga\",\"com_droga\",\"com_droga\",\"com_droga\",\"com_droga\",\"com_droga\",\"com_droga\",\"com_droga\",\"com_controle\",\"com_droga\",\"com_droga\",\"com_droga\",\"com_droga\",\"com_droga\",\"com_droga\",\"com_droga\",\"com_droga\",\"com_droga\",\"com_droga\",\"com_droga\",\"com_droga\",\"com_controle\",\"com_droga\",\"com_droga\",\"com_droga\",\"com_droga\",\"com_controle\",\"com_droga\",\"com_droga\",\"com_droga\",\"com_droga\",\"com_droga\",\"com_droga\",\"com_droga\",\"com_droga\",\"com_droga\",\"com_droga\",\"com_droga\",\"com_droga\",\"com_droga\",\"com_droga\",\"com_droga\",\"com_droga\",\"com_droga\",\"com_droga\",\"com_droga\",\"com_droga\",\"com_droga\",\"com_droga\",\"com_droga\",\"com_droga\",\"com_droga\",\"com_droga\",\"com_droga\",\"com_droga\",\"com_droga\",\"com_droga\",\"com_controle\",\"com_droga\",\"com_droga\",\"com_droga\",\"com_droga\",\"com_droga\",\"com_droga\",\"com_droga\",\"com_droga\",\"com_droga\",\"com_droga\",\"com_droga\",\"com_droga\",\"com_droga\",\"com_droga\",\"com_droga\",\"com_droga\",\"com_droga\",\"com_droga\",\"com_droga\",\"com_droga\",\"com_droga\",\"com_controle\",\"com_droga\",\"com_controle\",\"com_controle\",\"com_controle\",\"com_droga\",\"com_droga\",\"com_droga\",\"com_droga\",\"com_droga\",\"com_droga\",\"com_droga\",\"com_controle\",\"com_droga\",\"com_controle\",\"com_droga\",\"com_droga\",\"com_controle\",\"com_droga\",\"com_droga\",\"com_droga\",\"com_controle\",\"com_droga\",\"com_droga\",\"com_droga\",\"com_droga\",\"com_droga\",\"com_droga\",\"com_droga\",\"com_controle\",\"com_droga\",\"com_droga\",\"com_droga\",\"com_droga\",\"com_droga\",\"com_droga\",\"com_droga\",\"com_droga\",\"com_droga\",\"com_droga\",\"com_droga\",\"com_droga\",\"com_droga\",\"com_droga\",\"com_droga\",\"com_droga\",\"com_droga\",\"com_droga\",\"com_controle\",\"com_droga\",\"com_droga\",\"com_controle\",\"com_droga\",\"com_droga\",\"com_droga\",\"com_droga\",\"com_droga\",\"com_droga\",\"com_droga\",\"com_droga\",\"com_droga\",\"com_droga\",\"com_droga\",\"com_controle\",\"com_controle\",\"com_droga\",\"com_droga\",\"com_droga\",\"com_droga\",\"com_droga\",\"com_controle\",\"com_droga\",\"com_droga\",\"com_droga\",\"com_droga\",\"com_droga\",\"com_droga\",\"com_droga\",\"com_droga\",\"com_droga\",\"com_droga\",\"com_droga\",\"com_droga\",\"com_droga\",\"com_droga\",\"com_droga\",\"com_droga\",\"com_droga\",\"com_droga\",\"com_droga\",\"com_controle\",\"com_droga\",\"com_droga\",\"com_droga\",\"com_controle\",\"com_droga\",\"com_droga\",\"com_droga\",\"com_droga\",\"com_droga\",\"com_droga\",\"com_droga\",\"com_droga\",\"com_droga\",\"com_droga\",\"com_droga\",\"com_droga\",\"com_controle\",\"com_droga\",\"com_droga\",\"com_droga\",\"com_droga\",\"com_controle\",\"com_droga\",\"com_droga\",\"com_controle\",\"com_droga\",\"com_droga\",\"com_droga\",\"com_droga\",\"com_droga\",\"com_droga\",\"com_droga\",\"com_droga\",\"com_droga\",\"com_droga\",\"com_droga\",\"com_droga\",\"com_controle\",\"com_controle\",\"com_droga\",\"com_droga\",\"com_droga\",\"com_droga\",\"com_droga\",\"com_droga\",\"com_droga\",\"com_droga\",\"com_droga\",\"com_droga\",\"com_droga\",\"com_controle\",\"com_droga\",\"com_droga\",\"com_droga\",\"com_droga\",\"com_droga\",\"com_controle\",\"com_droga\",\"com_droga\",\"com_controle\",\"com_controle\",\"com_droga\",\"com_droga\",\"com_droga\",\"com_droga\",\"com_droga\",\"com_controle\",\"com_droga\",\"com_droga\",\"com_droga\",\"com_droga\",\"com_droga\",\"com_droga\",\"com_droga\",\"com_droga\",\"com_droga\",\"com_droga\",\"com_droga\",\"com_droga\",\"com_droga\",\"com_droga\",\"com_droga\",\"com_droga\",\"com_droga\",\"com_droga\",\"com_droga\",\"com_controle\",\"com_droga\",\"com_droga\",\"com_droga\",\"com_droga\",\"com_droga\",\"com_droga\",\"com_droga\",\"com_droga\",\"com_controle\",\"com_droga\",\"com_droga\",\"com_droga\",\"com_droga\",\"com_droga\",\"com_droga\",\"com_droga\",\"com_droga\",\"com_droga\",\"com_droga\",\"com_droga\",\"com_droga\",\"com_droga\",\"com_droga\",\"com_droga\",\"com_droga\",\"com_droga\",\"com_droga\",\"com_droga\",\"com_droga\",\"com_droga\",\"com_droga\",\"com_droga\",\"com_droga\",\"com_droga\",\"com_droga\",\"com_droga\",\"com_droga\",\"com_droga\",\"com_droga\",\"com_droga\",\"com_droga\",\"com_droga\",\"com_droga\",\"com_droga\",\"com_droga\",\"com_droga\",\"com_droga\",\"com_droga\",\"com_droga\",\"com_droga\",\"com_droga\",\"com_droga\",\"com_droga\",\"com_droga\",\"com_controle\",\"com_droga\",\"com_droga\",\"com_droga\",\"com_droga\",\"com_controle\",\"com_droga\",\"com_droga\",\"com_droga\",\"com_droga\",\"com_droga\",\"com_droga\",\"com_droga\",\"com_droga\",\"com_droga\",\"com_droga\",\"com_droga\",\"com_droga\",\"com_droga\",\"com_droga\",\"com_controle\",\"com_droga\",\"com_droga\",\"com_droga\",\"com_droga\",\"com_droga\",\"com_controle\",\"com_droga\",\"com_droga\",\"com_controle\",\"com_droga\",\"com_droga\",\"com_droga\",\"com_droga\",\"com_droga\",\"com_droga\",\"com_droga\",\"com_droga\",\"com_droga\",\"com_droga\",\"com_droga\",\"com_droga\",\"com_droga\",\"com_droga\",\"com_droga\",\"com_droga\",\"com_droga\",\"com_droga\",\"com_droga\",\"com_droga\",\"com_droga\",\"com_droga\",\"com_droga\",\"com_droga\",\"com_droga\",\"com_droga\",\"com_droga\",\"com_droga\",\"com_droga\",\"com_droga\",\"com_droga\",\"com_controle\",\"com_droga\",\"com_droga\",\"com_droga\",\"com_droga\",\"com_droga\",\"com_droga\",\"com_droga\",\"com_droga\",\"com_droga\",\"com_droga\",\"com_droga\",\"com_droga\",\"com_droga\",\"com_droga\",\"com_droga\",\"com_droga\",\"com_droga\",\"com_droga\",\"com_droga\",\"com_droga\",\"com_droga\",\"com_droga\",\"com_droga\",\"com_droga\",\"com_droga\",\"com_droga\",\"com_droga\",\"com_droga\",\"com_droga\",\"com_droga\",\"com_droga\",\"com_droga\",\"com_droga\",\"com_droga\",\"com_droga\",\"com_droga\",\"com_droga\",\"com_droga\",\"com_droga\",\"com_droga\",\"com_droga\",\"com_droga\",\"com_controle\",\"com_droga\",\"com_droga\",\"com_droga\",\"com_droga\",\"com_droga\",\"com_droga\",\"com_droga\",\"com_droga\",\"com_droga\",\"com_droga\",\"com_droga\",\"com_droga\",\"com_droga\",\"com_droga\",\"com_droga\",\"com_droga\",\"com_droga\",\"com_droga\",\"com_droga\",\"com_droga\",\"com_droga\",\"com_droga\",\"com_droga\",\"com_droga\",\"com_droga\",\"com_droga\",\"com_droga\",\"com_controle\",\"com_droga\",\"com_droga\",\"com_droga\",\"com_droga\",\"com_droga\",\"com_droga\",\"com_droga\",\"com_droga\",\"com_droga\",\"com_droga\",\"com_droga\",\"com_droga\",\"com_droga\",\"com_droga\",\"com_droga\",\"com_droga\",\"com_droga\",\"com_droga\",\"com_droga\",\"com_droga\",\"com_droga\",\"com_droga\",\"com_droga\",\"com_droga\",\"com_droga\",\"com_droga\",\"com_droga\",\"com_droga\",\"com_droga\",\"com_droga\",\"com_droga\",\"com_droga\",\"com_droga\",\"com_droga\",\"com_droga\",\"com_droga\",\"com_controle\",\"com_droga\",\"com_droga\",\"com_droga\",\"com_droga\",\"com_droga\",\"com_droga\",\"com_droga\",\"com_droga\",\"com_droga\",\"com_droga\",\"com_droga\",\"com_droga\",\"com_droga\",\"com_droga\",\"com_droga\",\"com_droga\",\"com_droga\",\"com_droga\",\"com_droga\",\"com_droga\",\"com_droga\",\"com_droga\",\"com_droga\",\"com_controle\",\"com_droga\",\"com_droga\",\"com_droga\",\"com_droga\",\"com_droga\",\"com_droga\",\"com_droga\",\"com_droga\",\"com_droga\",\"com_droga\",\"com_droga\",\"com_droga\",\"com_droga\",\"com_droga\",\"com_droga\",\"com_droga\",\"com_droga\",\"com_droga\",\"com_droga\",\"com_droga\",\"com_droga\",\"com_droga\",\"com_droga\",\"com_droga\",\"com_droga\",\"com_controle\",\"com_droga\",\"com_droga\",\"com_controle\",\"com_droga\",\"com_droga\",\"com_droga\",\"com_droga\",\"com_droga\",\"com_droga\",\"com_droga\",\"com_controle\",\"com_droga\",\"com_droga\",\"com_droga\",\"com_droga\",\"com_droga\",\"com_droga\",\"com_droga\",\"com_droga\",\"com_droga\",\"com_droga\",\"com_droga\",\"com_droga\",\"com_droga\",\"com_droga\",\"com_controle\",\"com_droga\",\"com_droga\",\"com_droga\",\"com_droga\",\"com_droga\",\"com_droga\",\"com_controle\",\"com_droga\",\"com_droga\",\"com_droga\",\"com_droga\",\"com_droga\",\"com_droga\",\"com_droga\",\"com_droga\",\"com_droga\",\"com_droga\",\"com_controle\",\"com_droga\",\"com_controle\",\"com_droga\",\"com_controle\",\"com_droga\",\"com_droga\",\"com_droga\",\"com_droga\",\"com_controle\",\"com_droga\",\"com_droga\",\"com_droga\",\"com_droga\",\"com_droga\",\"com_droga\",\"com_droga\",\"com_droga\",\"com_droga\",\"com_droga\",\"com_droga\",\"com_droga\",\"com_droga\",\"com_droga\",\"com_droga\",\"com_droga\",\"com_droga\",\"com_droga\",\"com_droga\",\"com_droga\",\"com_controle\",\"com_droga\",\"com_droga\",\"com_droga\",\"com_droga\",\"com_controle\",\"com_droga\",\"com_droga\",\"com_droga\",\"com_droga\",\"com_droga\",\"com_droga\",\"com_droga\",\"com_droga\",\"com_droga\",\"com_droga\",\"com_droga\",\"com_droga\",\"com_droga\",\"com_droga\",\"com_droga\",\"com_droga\",\"com_droga\",\"com_droga\",\"com_droga\",\"com_droga\",\"com_controle\",\"com_droga\",\"com_droga\",\"com_droga\",\"com_droga\",\"com_droga\",\"com_droga\",\"com_droga\",\"com_droga\",\"com_droga\",\"com_droga\",\"com_droga\",\"com_droga\",\"com_droga\",\"com_controle\",\"com_droga\",\"com_controle\",\"com_droga\",\"com_droga\",\"com_droga\",\"com_droga\",\"com_droga\",\"com_droga\",\"com_droga\",\"com_droga\",\"com_droga\",\"com_controle\",\"com_droga\",\"com_droga\",\"com_droga\",\"com_controle\",\"com_droga\",\"com_droga\",\"com_droga\",\"com_droga\",\"com_droga\",\"com_droga\",\"com_droga\",\"com_droga\",\"com_droga\",\"com_droga\",\"com_droga\",\"com_controle\",\"com_droga\",\"com_droga\",\"com_droga\",\"com_droga\",\"com_droga\",\"com_droga\",\"com_droga\",\"com_droga\",\"com_droga\",\"com_droga\",\"com_droga\",\"com_droga\",\"com_droga\",\"com_droga\",\"com_droga\",\"com_droga\",\"com_droga\",\"com_droga\",\"com_droga\",\"com_droga\",\"com_droga\",\"com_droga\",\"com_droga\",\"com_droga\",\"com_droga\",\"com_droga\",\"com_droga\",\"com_droga\",\"com_droga\",\"com_droga\",\"com_droga\",\"com_droga\",\"com_droga\",\"com_droga\",\"com_droga\",\"com_droga\",\"com_droga\",\"com_droga\",\"com_droga\",\"com_droga\",\"com_droga\",\"com_droga\",\"com_droga\",\"com_droga\",\"com_droga\",\"com_droga\",\"com_droga\",\"com_droga\",\"com_droga\",\"com_droga\",\"com_droga\",\"com_droga\",\"com_droga\",\"com_droga\",\"com_droga\",\"com_droga\",\"com_droga\",\"com_droga\",\"com_droga\",\"com_droga\",\"com_droga\",\"com_controle\",\"com_controle\",\"com_droga\",\"com_droga\",\"com_droga\",\"com_droga\",\"com_droga\",\"com_droga\",\"com_droga\",\"com_droga\",\"com_droga\",\"com_droga\",\"com_droga\",\"com_droga\",\"com_droga\",\"com_droga\",\"com_droga\",\"com_droga\",\"com_droga\",\"com_droga\",\"com_droga\",\"com_droga\",\"com_controle\",\"com_droga\",\"com_droga\",\"com_droga\",\"com_droga\",\"com_droga\",\"com_droga\",\"com_droga\",\"com_droga\",\"com_droga\",\"com_droga\",\"com_droga\",\"com_droga\",\"com_droga\",\"com_controle\",\"com_droga\",\"com_droga\",\"com_droga\",\"com_droga\",\"com_droga\",\"com_droga\",\"com_droga\",\"com_droga\",\"com_droga\",\"com_droga\",\"com_droga\",\"com_droga\",\"com_droga\",\"com_droga\",\"com_droga\",\"com_droga\",\"com_droga\",\"com_droga\",\"com_droga\",\"com_droga\",\"com_droga\",\"com_droga\",\"com_droga\",\"com_droga\",\"com_droga\",\"com_droga\",\"com_droga\",\"com_droga\",\"com_droga\",\"com_droga\",\"com_droga\",\"com_droga\",\"com_droga\",\"com_droga\",\"com_droga\",\"com_droga\",\"com_droga\",\"com_droga\",\"com_droga\",\"com_droga\",\"com_droga\",\"com_droga\",\"com_droga\",\"com_droga\",\"com_droga\",\"com_droga\",\"com_controle\",\"com_droga\",\"com_droga\",\"com_droga\",\"com_droga\",\"com_droga\",\"com_droga\",\"com_droga\",\"com_droga\",\"com_controle\",\"com_controle\",\"com_droga\",\"com_droga\",\"com_droga\",\"com_droga\",\"com_controle\",\"com_droga\",\"com_droga\",\"com_droga\",\"com_droga\",\"com_controle\",\"com_droga\",\"com_droga\",\"com_droga\",\"com_droga\",\"com_droga\",\"com_droga\",\"com_droga\",\"com_droga\",\"com_droga\",\"com_droga\",\"com_controle\",\"com_controle\",\"com_droga\",\"com_droga\",\"com_droga\",\"com_droga\",\"com_droga\",\"com_droga\",\"com_droga\",\"com_droga\",\"com_droga\",\"com_droga\",\"com_droga\",\"com_droga\",\"com_droga\",\"com_droga\",\"com_droga\",\"com_droga\",\"com_droga\",\"com_droga\",\"com_droga\",\"com_droga\",\"com_droga\",\"com_droga\",\"com_droga\",\"com_droga\",\"com_droga\",\"com_droga\",\"com_droga\",\"com_droga\",\"com_droga\",\"com_droga\",\"com_droga\",\"com_droga\",\"com_droga\",\"com_droga\",\"com_droga\",\"com_droga\",\"com_droga\",\"com_droga\",\"com_droga\",\"com_droga\",\"com_droga\",\"com_droga\",\"com_droga\",\"com_droga\",\"com_droga\",\"com_droga\",\"com_droga\",\"com_droga\",\"com_droga\",\"com_droga\",\"com_droga\",\"com_droga\",\"com_droga\",\"com_droga\",\"com_controle\",\"com_droga\",\"com_droga\",\"com_droga\",\"com_droga\",\"com_droga\",\"com_droga\",\"com_droga\",\"com_droga\",\"com_droga\",\"com_droga\",\"com_droga\",\"com_droga\",\"com_droga\",\"com_droga\",\"com_droga\",\"com_droga\",\"com_droga\",\"com_droga\",\"com_droga\",\"com_droga\",\"com_droga\",\"com_droga\",\"com_droga\",\"com_droga\",\"com_droga\",\"com_droga\",\"com_droga\",\"com_droga\",\"com_droga\",\"com_droga\",\"com_droga\",\"com_droga\",\"com_droga\",\"com_droga\",\"com_droga\",\"com_droga\",\"com_droga\",\"com_droga\",\"com_droga\",\"com_controle\",\"com_droga\",\"com_droga\",\"com_droga\",\"com_droga\",\"com_droga\",\"com_droga\",\"com_droga\",\"com_droga\",\"com_droga\",\"com_droga\",\"com_droga\",\"com_droga\",\"com_droga\",\"com_droga\",\"com_droga\",\"com_droga\",\"com_droga\",\"com_droga\",\"com_droga\",\"com_droga\",\"com_droga\",\"com_droga\",\"com_droga\",\"com_droga\",\"com_droga\",\"com_droga\",\"com_droga\",\"com_controle\",\"com_droga\",\"com_droga\",\"com_droga\",\"com_droga\",\"com_droga\",\"com_droga\",\"com_droga\",\"com_droga\",\"com_droga\",\"com_droga\",\"com_droga\",\"com_droga\",\"com_droga\",\"com_droga\",\"com_droga\",\"com_droga\",\"com_droga\",\"com_droga\",\"com_droga\",\"com_droga\",\"com_droga\",\"com_droga\",\"com_droga\",\"com_droga\",\"com_droga\",\"com_droga\",\"com_droga\",\"com_droga\",\"com_droga\",\"com_droga\",\"com_controle\",\"com_droga\",\"com_droga\",\"com_droga\",\"com_droga\",\"com_droga\",\"com_droga\",\"com_droga\",\"com_droga\",\"com_droga\",\"com_controle\",\"com_droga\",\"com_droga\",\"com_droga\",\"com_droga\",\"com_droga\",\"com_droga\",\"com_controle\",\"com_controle\",\"com_droga\",\"com_droga\",\"com_droga\",\"com_droga\",\"com_droga\",\"com_droga\",\"com_droga\",\"com_droga\",\"com_droga\",\"com_droga\",\"com_droga\",\"com_droga\",\"com_droga\",\"com_droga\",\"com_droga\",\"com_droga\",\"com_droga\",\"com_droga\",\"com_droga\",\"com_droga\",\"com_droga\",\"com_droga\",\"com_controle\",\"com_droga\",\"com_droga\",\"com_droga\",\"com_droga\",\"com_droga\",\"com_droga\",\"com_droga\",\"com_droga\",\"com_droga\",\"com_droga\",\"com_droga\",\"com_droga\",\"com_droga\",\"com_droga\",\"com_droga\",\"com_droga\",\"com_droga\",\"com_droga\",\"com_droga\",\"com_droga\",\"com_droga\",\"com_controle\",\"com_droga\",\"com_droga\",\"com_droga\",\"com_droga\",\"com_droga\",\"com_droga\",\"com_controle\",\"com_droga\",\"com_droga\",\"com_droga\",\"com_droga\",\"com_droga\",\"com_droga\",\"com_droga\",\"com_droga\",\"com_controle\",\"com_droga\",\"com_controle\",\"com_droga\",\"com_droga\",\"com_droga\",\"com_controle\",\"com_droga\",\"com_droga\",\"com_controle\",\"com_droga\",\"com_droga\",\"com_droga\",\"com_droga\",\"com_droga\",\"com_droga\",\"com_droga\",\"com_droga\",\"com_droga\",\"com_droga\",\"com_droga\",\"com_droga\",\"com_droga\",\"com_droga\",\"com_droga\",\"com_droga\",\"com_droga\",\"com_droga\",\"com_droga\",\"com_droga\",\"com_droga\",\"com_droga\",\"com_droga\",\"com_droga\",\"com_droga\",\"com_droga\",\"com_droga\",\"com_droga\",\"com_droga\",\"com_droga\",\"com_droga\",\"com_droga\",\"com_droga\",\"com_droga\",\"com_droga\",\"com_droga\",\"com_droga\",\"com_droga\",\"com_droga\",\"com_droga\",\"com_droga\",\"com_droga\",\"com_droga\",\"com_droga\",\"com_droga\",\"com_droga\",\"com_droga\",\"com_droga\",\"com_droga\",\"com_droga\",\"com_droga\",\"com_droga\",\"com_droga\",\"com_droga\",\"com_droga\",\"com_droga\",\"com_droga\",\"com_droga\",\"com_droga\",\"com_droga\",\"com_droga\",\"com_droga\",\"com_droga\",\"com_droga\",\"com_droga\",\"com_droga\",\"com_droga\",\"com_droga\",\"com_droga\",\"com_controle\",\"com_droga\",\"com_controle\",\"com_droga\",\"com_droga\",\"com_controle\",\"com_droga\",\"com_droga\",\"com_droga\",\"com_droga\",\"com_droga\",\"com_droga\",\"com_droga\",\"com_droga\",\"com_droga\",\"com_droga\",\"com_controle\",\"com_droga\",\"com_droga\",\"com_controle\",\"com_droga\",\"com_droga\",\"com_droga\",\"com_droga\",\"com_droga\",\"com_droga\",\"com_controle\",\"com_droga\",\"com_droga\",\"com_droga\",\"com_controle\",\"com_droga\",\"com_droga\",\"com_droga\",\"com_droga\",\"com_droga\",\"com_droga\",\"com_droga\",\"com_droga\",\"com_droga\",\"com_droga\",\"com_droga\",\"com_droga\",\"com_droga\",\"com_droga\",\"com_droga\",\"com_droga\",\"com_droga\",\"com_droga\",\"com_droga\",\"com_droga\",\"com_droga\",\"com_droga\",\"com_controle\",\"com_droga\",\"com_droga\",\"com_droga\",\"com_droga\",\"com_droga\",\"com_droga\",\"com_droga\",\"com_droga\",\"com_droga\",\"com_droga\",\"com_droga\",\"com_droga\",\"com_droga\",\"com_droga\",\"com_droga\",\"com_droga\",\"com_controle\",\"com_controle\",\"com_droga\",\"com_controle\",\"com_droga\",\"com_controle\",\"com_droga\",\"com_droga\",\"com_droga\",\"com_droga\",\"com_droga\",\"com_controle\",\"com_droga\",\"com_droga\",\"com_droga\",\"com_droga\",\"com_droga\",\"com_droga\",\"com_droga\",\"com_droga\",\"com_droga\",\"com_droga\",\"com_droga\",\"com_droga\",\"com_droga\",\"com_droga\",\"com_droga\",\"com_droga\",\"com_droga\",\"com_droga\",\"com_droga\",\"com_droga\",\"com_droga\",\"com_droga\",\"com_droga\",\"com_droga\",\"com_droga\",\"com_droga\",\"com_controle\",\"com_droga\",\"com_controle\",\"com_droga\",\"com_droga\",\"com_droga\",\"com_droga\",\"com_droga\",\"com_droga\",\"com_droga\",\"com_droga\",\"com_droga\",\"com_droga\",\"com_droga\",\"com_droga\",\"com_droga\",\"com_droga\",\"com_droga\",\"com_controle\",\"com_droga\",\"com_droga\",\"com_droga\",\"com_droga\",\"com_droga\",\"com_droga\",\"com_droga\",\"com_droga\",\"com_droga\",\"com_droga\",\"com_droga\",\"com_controle\",\"com_droga\",\"com_droga\",\"com_droga\",\"com_droga\",\"com_droga\",\"com_droga\",\"com_droga\",\"com_droga\",\"com_droga\",\"com_droga\",\"com_droga\",\"com_droga\",\"com_controle\",\"com_droga\",\"com_droga\",\"com_droga\",\"com_droga\",\"com_droga\",\"com_droga\",\"com_droga\",\"com_droga\",\"com_droga\",\"com_droga\",\"com_droga\",\"com_droga\",\"com_droga\",\"com_droga\",\"com_droga\",\"com_droga\",\"com_droga\",\"com_droga\",\"com_droga\",\"com_controle\",\"com_droga\",\"com_droga\",\"com_droga\",\"com_droga\",\"com_droga\",\"com_droga\",\"com_droga\",\"com_droga\",\"com_droga\",\"com_droga\",\"com_droga\",\"com_droga\",\"com_droga\",\"com_controle\",\"com_droga\",\"com_droga\",\"com_droga\",\"com_controle\",\"com_droga\",\"com_droga\",\"com_droga\",\"com_controle\",\"com_droga\",\"com_droga\",\"com_droga\",\"com_droga\",\"com_droga\",\"com_droga\",\"com_droga\",\"com_droga\",\"com_droga\",\"com_droga\",\"com_droga\",\"com_droga\",\"com_droga\",\"com_controle\",\"com_droga\",\"com_droga\",\"com_droga\",\"com_droga\",\"com_droga\",\"com_droga\",\"com_droga\",\"com_droga\",\"com_droga\",\"com_droga\",\"com_droga\",\"com_droga\",\"com_droga\",\"com_droga\",\"com_droga\",\"com_droga\",\"com_droga\",\"com_droga\",\"com_droga\",\"com_droga\",\"com_droga\",\"com_droga\",\"com_droga\",\"com_droga\",\"com_controle\",\"com_droga\",\"com_droga\",\"com_controle\",\"com_droga\",\"com_droga\",\"com_droga\",\"com_droga\",\"com_droga\",\"com_droga\",\"com_droga\",\"com_droga\",\"com_droga\",\"com_droga\",\"com_droga\",\"com_droga\",\"com_droga\",\"com_droga\",\"com_droga\",\"com_droga\",\"com_droga\",\"com_droga\",\"com_droga\",\"com_droga\",\"com_droga\",\"com_droga\",\"com_droga\",\"com_droga\",\"com_droga\",\"com_droga\",\"com_droga\",\"com_droga\",\"com_droga\",\"com_droga\",\"com_droga\",\"com_droga\",\"com_droga\",\"com_droga\",\"com_controle\",\"com_droga\",\"com_controle\",\"com_droga\",\"com_droga\",\"com_droga\",\"com_droga\",\"com_droga\",\"com_droga\",\"com_droga\",\"com_droga\",\"com_droga\",\"com_droga\",\"com_droga\",\"com_droga\",\"com_droga\",\"com_droga\",\"com_controle\",\"com_droga\",\"com_droga\",\"com_droga\",\"com_droga\",\"com_droga\",\"com_droga\",\"com_droga\",\"com_droga\",\"com_droga\",\"com_droga\",\"com_droga\",\"com_droga\",\"com_droga\",\"com_droga\",\"com_droga\",\"com_droga\",\"com_controle\",\"com_droga\",\"com_droga\",\"com_droga\",\"com_droga\",\"com_droga\",\"com_controle\",\"com_droga\",\"com_droga\",\"com_droga\",\"com_droga\",\"com_controle\",\"com_droga\",\"com_droga\",\"com_controle\",\"com_droga\",\"com_controle\",\"com_controle\",\"com_droga\",\"com_droga\",\"com_droga\",\"com_controle\",\"com_droga\",\"com_droga\",\"com_droga\",\"com_droga\",\"com_droga\",\"com_droga\",\"com_controle\",\"com_controle\",\"com_droga\",\"com_droga\",\"com_droga\",\"com_droga\",\"com_controle\",\"com_droga\",\"com_droga\",\"com_droga\",\"com_droga\",\"com_droga\",\"com_droga\",\"com_droga\",\"com_droga\",\"com_droga\",\"com_droga\",\"com_droga\",\"com_droga\",\"com_droga\",\"com_droga\",\"com_droga\",\"com_droga\",\"com_droga\",\"com_controle\",\"com_droga\",\"com_droga\",\"com_droga\",\"com_droga\",\"com_droga\",\"com_droga\",\"com_droga\",\"com_droga\",\"com_droga\",\"com_droga\",\"com_droga\",\"com_controle\",\"com_droga\",\"com_droga\",\"com_droga\",\"com_controle\",\"com_droga\",\"com_droga\",\"com_droga\",\"com_droga\",\"com_droga\",\"com_droga\",\"com_droga\",\"com_droga\",\"com_droga\",\"com_droga\",\"com_droga\",\"com_controle\",\"com_droga\",\"com_droga\",\"com_droga\",\"com_droga\",\"com_droga\",\"com_droga\",\"com_droga\",\"com_droga\",\"com_droga\",\"com_droga\",\"com_droga\",\"com_droga\",\"com_droga\",\"com_droga\",\"com_droga\",\"com_droga\",\"com_droga\",\"com_droga\",\"com_droga\",\"com_droga\",\"com_droga\",\"com_droga\",\"com_droga\",\"com_droga\",\"com_droga\",\"com_controle\",\"com_droga\",\"com_droga\",\"com_droga\",\"com_droga\",\"com_droga\",\"com_droga\",\"com_droga\",\"com_droga\",\"com_droga\",\"com_droga\",\"com_droga\",\"com_droga\",\"com_droga\",\"com_droga\",\"com_droga\",\"com_droga\",\"com_controle\",\"com_droga\",\"com_droga\",\"com_droga\",\"com_droga\",\"com_droga\",\"com_droga\",\"com_droga\",\"com_droga\",\"com_droga\",\"com_droga\",\"com_controle\",\"com_droga\",\"com_droga\",\"com_droga\",\"com_controle\",\"com_droga\",\"com_droga\",\"com_droga\",\"com_droga\",\"com_droga\",\"com_droga\",\"com_droga\",\"com_droga\",\"com_droga\",\"com_droga\",\"com_droga\",\"com_droga\",\"com_droga\",\"com_droga\",\"com_droga\",\"com_droga\",\"com_droga\",\"com_droga\",\"com_controle\",\"com_droga\",\"com_droga\",\"com_controle\",\"com_droga\",\"com_droga\",\"com_droga\",\"com_controle\",\"com_droga\",\"com_droga\",\"com_droga\",\"com_droga\",\"com_droga\",\"com_droga\",\"com_droga\",\"com_droga\",\"com_droga\",\"com_droga\",\"com_droga\",\"com_droga\",\"com_droga\",\"com_controle\",\"com_droga\",\"com_droga\",\"com_droga\",\"com_droga\",\"com_droga\",\"com_droga\",\"com_droga\",\"com_droga\",\"com_droga\",\"com_droga\",\"com_droga\",\"com_droga\",\"com_droga\",\"com_droga\",\"com_droga\",\"com_droga\",\"com_droga\",\"com_droga\",\"com_droga\",\"com_droga\",\"com_droga\",\"com_droga\",\"com_droga\",\"com_droga\",\"com_droga\",\"com_droga\",\"com_droga\",\"com_droga\",\"com_droga\",\"com_droga\",\"com_droga\",\"com_droga\",\"com_droga\",\"com_controle\",\"com_droga\",\"com_droga\",\"com_droga\",\"com_droga\",\"com_droga\",\"com_droga\",\"com_controle\",\"com_droga\",\"com_droga\",\"com_droga\",\"com_droga\",\"com_droga\",\"com_droga\",\"com_droga\",\"com_controle\",\"com_droga\",\"com_droga\",\"com_droga\",\"com_droga\",\"com_droga\",\"com_droga\",\"com_droga\",\"com_controle\",\"com_droga\",\"com_droga\",\"com_droga\",\"com_droga\",\"com_droga\",\"com_droga\",\"com_droga\",\"com_droga\",\"com_droga\",\"com_droga\",\"com_droga\",\"com_droga\",\"com_droga\",\"com_droga\",\"com_droga\",\"com_droga\",\"com_droga\",\"com_droga\",\"com_droga\",\"com_droga\",\"com_droga\",\"com_droga\",\"com_droga\",\"com_droga\",\"com_droga\",\"com_droga\",\"com_droga\",\"com_droga\",\"com_droga\",\"com_droga\",\"com_droga\",\"com_droga\",\"com_droga\",\"com_controle\",\"com_droga\",\"com_droga\",\"com_droga\",\"com_droga\",\"com_controle\",\"com_droga\",\"com_droga\",\"com_droga\",\"com_droga\",\"com_droga\",\"com_droga\",\"com_controle\",\"com_droga\",\"com_droga\",\"com_droga\",\"com_droga\",\"com_droga\",\"com_droga\",\"com_droga\",\"com_droga\",\"com_droga\",\"com_droga\",\"com_droga\",\"com_droga\",\"com_droga\",\"com_droga\",\"com_droga\",\"com_droga\",\"com_droga\",\"com_droga\",\"com_controle\",\"com_droga\",\"com_droga\",\"com_droga\",\"com_droga\",\"com_droga\",\"com_droga\",\"com_droga\",\"com_droga\",\"com_droga\",\"com_droga\",\"com_droga\",\"com_droga\",\"com_droga\",\"com_droga\",\"com_droga\",\"com_droga\",\"com_droga\",\"com_droga\",\"com_droga\",\"com_droga\",\"com_droga\",\"com_droga\",\"com_droga\",\"com_droga\",\"com_droga\",\"com_droga\",\"com_droga\",\"com_controle\",\"com_droga\",\"com_droga\",\"com_droga\",\"com_droga\",\"com_droga\",\"com_droga\",\"com_droga\",\"com_droga\",\"com_droga\",\"com_droga\",\"com_droga\",\"com_droga\",\"com_droga\",\"com_droga\",\"com_droga\",\"com_droga\",\"com_droga\",\"com_droga\",\"com_droga\",\"com_droga\",\"com_droga\",\"com_droga\",\"com_droga\",\"com_droga\",\"com_droga\",\"com_controle\",\"com_droga\",\"com_droga\",\"com_droga\",\"com_droga\",\"com_droga\",\"com_droga\",\"com_droga\",\"com_droga\",\"com_droga\",\"com_droga\",\"com_droga\",\"com_droga\",\"com_droga\",\"com_droga\",\"com_droga\",\"com_controle\",\"com_droga\",\"com_droga\",\"com_droga\",\"com_droga\",\"com_droga\",\"com_droga\",\"com_droga\",\"com_droga\",\"com_droga\",\"com_droga\",\"com_droga\",\"com_droga\",\"com_droga\",\"com_droga\",\"com_droga\",\"com_droga\",\"com_droga\",\"com_droga\",\"com_droga\",\"com_droga\",\"com_droga\",\"com_droga\",\"com_droga\",\"com_droga\",\"com_droga\",\"com_droga\",\"com_droga\",\"com_controle\",\"com_droga\",\"com_droga\",\"com_droga\",\"com_droga\",\"com_droga\",\"com_droga\",\"com_droga\",\"com_droga\",\"com_droga\",\"com_droga\",\"com_droga\",\"com_droga\",\"com_droga\",\"com_droga\",\"com_droga\",\"com_droga\",\"com_droga\",\"com_droga\",\"com_droga\",\"com_droga\",\"com_droga\",\"com_droga\",\"com_droga\",\"com_controle\",\"com_droga\",\"com_droga\",\"com_droga\",\"com_droga\",\"com_droga\",\"com_droga\",\"com_droga\",\"com_droga\",\"com_droga\",\"com_droga\",\"com_droga\",\"com_droga\",\"com_droga\",\"com_droga\",\"com_droga\",\"com_droga\",\"com_droga\",\"com_droga\",\"com_controle\",\"com_droga\",\"com_droga\",\"com_droga\",\"com_droga\",\"com_droga\",\"com_droga\",\"com_droga\",\"com_droga\",\"com_droga\",\"com_droga\",\"com_droga\",\"com_droga\",\"com_droga\",\"com_droga\",\"com_droga\",\"com_droga\",\"com_droga\",\"com_controle\",\"com_droga\",\"com_droga\",\"com_droga\",\"com_droga\",\"com_droga\",\"com_droga\",\"com_droga\",\"com_droga\",\"com_droga\",\"com_droga\",\"com_droga\",\"com_droga\",\"com_droga\",\"com_droga\",\"com_droga\",\"com_droga\",\"com_droga\",\"com_droga\",\"com_droga\",\"com_droga\",\"com_controle\",\"com_droga\",\"com_droga\",\"com_droga\",\"com_droga\",\"com_droga\",\"com_droga\",\"com_droga\",\"com_droga\",\"com_droga\",\"com_controle\",\"com_droga\",\"com_droga\",\"com_droga\",\"com_droga\",\"com_controle\",\"com_droga\",\"com_droga\",\"com_droga\",\"com_droga\",\"com_droga\",\"com_droga\",\"com_droga\",\"com_droga\",\"com_droga\",\"com_droga\",\"com_droga\",\"com_droga\",\"com_droga\",\"com_droga\",\"com_droga\",\"com_droga\",\"com_droga\",\"com_droga\",\"com_droga\",\"com_droga\",\"com_droga\",\"com_droga\",\"com_droga\",\"com_controle\",\"com_droga\",\"com_droga\",\"com_droga\",\"com_droga\",\"com_droga\",\"com_droga\",\"com_droga\",\"com_droga\",\"com_droga\",\"com_droga\",\"com_droga\",\"com_droga\",\"com_droga\",\"com_droga\",\"com_droga\",\"com_droga\",\"com_droga\",\"com_droga\",\"com_droga\",\"com_controle\",\"com_droga\",\"com_droga\",\"com_droga\",\"com_droga\",\"com_droga\",\"com_droga\",\"com_droga\",\"com_droga\",\"com_droga\",\"com_droga\",\"com_droga\",\"com_droga\",\"com_droga\",\"com_droga\",\"com_droga\",\"com_droga\",\"com_droga\",\"com_droga\",\"com_droga\",\"com_droga\",\"com_droga\",\"com_droga\",\"com_droga\",\"com_droga\",\"com_droga\",\"com_droga\",\"com_droga\",\"com_droga\",\"com_droga\",\"com_droga\",\"com_droga\",\"com_droga\",\"com_droga\",\"com_droga\",\"com_droga\",\"com_controle\",\"com_droga\",\"com_droga\",\"com_droga\",\"com_droga\",\"com_droga\",\"com_droga\",\"com_droga\",\"com_droga\",\"com_droga\",\"com_droga\",\"com_droga\",\"com_droga\",\"com_droga\",\"com_droga\",\"com_droga\",\"com_droga\",\"com_droga\",\"com_droga\",\"com_droga\",\"com_droga\",\"com_droga\",\"com_droga\",\"com_droga\",\"com_droga\",\"com_droga\",\"com_droga\",\"com_droga\",\"com_droga\",\"com_controle\",\"com_droga\",\"com_droga\",\"com_droga\",\"com_droga\",\"com_droga\",\"com_droga\",\"com_droga\",\"com_droga\",\"com_controle\",\"com_droga\",\"com_droga\",\"com_droga\",\"com_droga\",\"com_droga\",\"com_droga\",\"com_controle\",\"com_droga\",\"com_droga\",\"com_droga\",\"com_droga\",\"com_droga\",\"com_controle\",\"com_droga\",\"com_droga\",\"com_droga\",\"com_droga\",\"com_droga\",\"com_droga\",\"com_droga\",\"com_droga\",\"com_droga\",\"com_droga\",\"com_droga\",\"com_droga\",\"com_droga\",\"com_droga\",\"com_droga\",\"com_controle\",\"com_droga\",\"com_droga\",\"com_droga\",\"com_droga\",\"com_droga\",\"com_droga\",\"com_droga\",\"com_droga\",\"com_droga\",\"com_droga\",\"com_droga\",\"com_droga\",\"com_droga\",\"com_controle\",\"com_droga\",\"com_droga\",\"com_droga\",\"com_droga\",\"com_droga\",\"com_droga\",\"com_droga\",\"com_droga\",\"com_droga\",\"com_droga\",\"com_droga\",\"com_droga\",\"com_controle\",\"com_droga\",\"com_droga\",\"com_droga\",\"com_droga\",\"com_droga\",\"com_droga\",\"com_droga\",\"com_droga\",\"com_droga\",\"com_droga\",\"com_droga\",\"com_droga\",\"com_controle\",\"com_droga\",\"com_droga\",\"com_droga\",\"com_controle\",\"com_droga\",\"com_droga\",\"com_droga\",\"com_droga\",\"com_droga\",\"com_droga\",\"com_droga\",\"com_droga\",\"com_droga\",\"com_droga\",\"com_droga\",\"com_droga\",\"com_droga\",\"com_droga\",\"com_droga\",\"com_droga\",\"com_droga\",\"com_droga\",\"com_droga\",\"com_droga\",\"com_droga\",\"com_droga\",\"com_droga\",\"com_droga\",\"com_droga\",\"com_droga\",\"com_controle\",\"com_controle\",\"com_droga\",\"com_droga\",\"com_controle\",\"com_droga\",\"com_droga\",\"com_droga\",\"com_droga\",\"com_droga\",\"com_controle\",\"com_controle\",\"com_droga\",\"com_droga\",\"com_droga\",\"com_droga\",\"com_droga\",\"com_controle\",\"com_droga\",\"com_droga\",\"com_droga\",\"com_droga\",\"com_droga\",\"com_droga\",\"com_droga\",\"com_droga\",\"com_droga\",\"com_controle\",\"com_droga\",\"com_droga\",\"com_droga\",\"com_droga\",\"com_droga\",\"com_droga\",\"com_droga\",\"com_droga\",\"com_droga\",\"com_droga\",\"com_droga\",\"com_controle\",\"com_droga\",\"com_droga\",\"com_droga\",\"com_droga\",\"com_droga\",\"com_controle\",\"com_controle\",\"com_droga\",\"com_droga\",\"com_droga\",\"com_droga\",\"com_droga\",\"com_droga\",\"com_droga\",\"com_droga\",\"com_droga\",\"com_droga\",\"com_droga\",\"com_droga\",\"com_droga\",\"com_droga\",\"com_droga\",\"com_controle\",\"com_droga\",\"com_droga\",\"com_droga\",\"com_controle\",\"com_droga\",\"com_droga\",\"com_droga\",\"com_droga\",\"com_droga\",\"com_droga\",\"com_droga\",\"com_droga\",\"com_droga\",\"com_droga\",\"com_droga\",\"com_droga\",\"com_droga\",\"com_droga\",\"com_droga\",\"com_droga\",\"com_droga\",\"com_droga\",\"com_droga\",\"com_droga\",\"com_droga\",\"com_droga\",\"com_droga\",\"com_droga\",\"com_droga\",\"com_droga\",\"com_droga\",\"com_droga\",\"com_droga\",\"com_droga\",\"com_droga\",\"com_droga\",\"com_droga\",\"com_droga\",\"com_droga\",\"com_droga\",\"com_droga\",\"com_droga\",\"com_droga\",\"com_droga\",\"com_droga\",\"com_droga\",\"com_droga\",\"com_droga\",\"com_droga\",\"com_droga\",\"com_droga\",\"com_droga\",\"com_controle\",\"com_droga\",\"com_droga\",\"com_droga\",\"com_droga\",\"com_droga\",\"com_droga\",\"com_controle\",\"com_droga\",\"com_droga\",\"com_droga\",\"com_droga\",\"com_droga\",\"com_controle\",\"com_droga\",\"com_droga\",\"com_droga\",\"com_droga\",\"com_droga\",\"com_droga\",\"com_controle\",\"com_droga\",\"com_droga\",\"com_droga\",\"com_droga\",\"com_controle\",\"com_droga\",\"com_droga\",\"com_droga\",\"com_droga\",\"com_droga\",\"com_droga\",\"com_droga\",\"com_droga\",\"com_droga\",\"com_droga\",\"com_droga\",\"com_droga\",\"com_droga\",\"com_droga\",\"com_droga\",\"com_droga\",\"com_droga\",\"com_droga\",\"com_controle\",\"com_droga\",\"com_droga\",\"com_droga\",\"com_controle\",\"com_droga\",\"com_droga\",\"com_droga\",\"com_droga\",\"com_droga\",\"com_droga\",\"com_droga\",\"com_droga\",\"com_droga\",\"com_droga\",\"com_droga\",\"com_droga\",\"com_droga\",\"com_droga\",\"com_droga\",\"com_droga\",\"com_droga\",\"com_droga\",\"com_droga\",\"com_controle\",\"com_droga\",\"com_droga\",\"com_droga\",\"com_droga\",\"com_controle\",\"com_droga\",\"com_droga\",\"com_droga\",\"com_droga\",\"com_droga\",\"com_controle\",\"com_droga\",\"com_droga\",\"com_droga\",\"com_droga\",\"com_droga\",\"com_droga\",\"com_droga\",\"com_droga\",\"com_controle\",\"com_droga\",\"com_droga\",\"com_droga\",\"com_droga\",\"com_droga\",\"com_droga\",\"com_droga\",\"com_droga\",\"com_droga\",\"com_droga\",\"com_droga\",\"com_droga\",\"com_droga\",\"com_droga\",\"com_droga\",\"com_droga\",\"com_droga\",\"com_droga\",\"com_droga\",\"com_droga\",\"com_droga\",\"com_droga\",\"com_droga\",\"com_droga\",\"com_droga\",\"com_droga\",\"com_droga\",\"com_droga\",\"com_droga\",\"com_droga\",\"com_droga\",\"com_droga\",\"com_droga\",\"com_droga\",\"com_droga\",\"com_droga\",\"com_droga\",\"com_droga\",\"com_droga\",\"com_droga\",\"com_droga\",\"com_droga\",\"com_droga\",\"com_droga\",\"com_droga\",\"com_controle\",\"com_droga\",\"com_droga\",\"com_droga\",\"com_controle\",\"com_controle\",\"com_droga\",\"com_droga\",\"com_controle\",\"com_droga\",\"com_droga\",\"com_droga\",\"com_droga\",\"com_droga\",\"com_droga\",\"com_droga\",\"com_droga\",\"com_droga\",\"com_droga\",\"com_droga\",\"com_droga\",\"com_droga\",\"com_droga\",\"com_droga\",\"com_droga\",\"com_droga\",\"com_droga\",\"com_droga\",\"com_droga\",\"com_droga\",\"com_droga\",\"com_droga\",\"com_droga\",\"com_droga\",\"com_controle\",\"com_droga\",\"com_droga\",\"com_droga\",\"com_droga\",\"com_droga\",\"com_droga\",\"com_droga\",\"com_droga\",\"com_droga\",\"com_controle\",\"com_droga\",\"com_controle\",\"com_droga\",\"com_droga\",\"com_droga\",\"com_controle\",\"com_droga\",\"com_droga\",\"com_controle\",\"com_droga\",\"com_droga\",\"com_droga\",\"com_droga\",\"com_droga\",\"com_controle\",\"com_droga\",\"com_droga\",\"com_droga\",\"com_controle\",\"com_droga\",\"com_droga\",\"com_droga\",\"com_controle\",\"com_droga\",\"com_droga\",\"com_droga\",\"com_controle\",\"com_droga\",\"com_droga\",\"com_droga\",\"com_droga\",\"com_droga\",\"com_droga\",\"com_droga\",\"com_droga\",\"com_droga\",\"com_droga\",\"com_droga\",\"com_droga\",\"com_droga\",\"com_controle\",\"com_droga\",\"com_droga\",\"com_droga\",\"com_controle\",\"com_droga\",\"com_droga\",\"com_droga\",\"com_droga\",\"com_droga\",\"com_droga\",\"com_droga\",\"com_droga\",\"com_droga\",\"com_droga\",\"com_droga\",\"com_controle\",\"com_droga\",\"com_droga\",\"com_droga\",\"com_droga\",\"com_droga\",\"com_droga\",\"com_droga\",\"com_droga\",\"com_droga\",\"com_droga\",\"com_droga\",\"com_droga\",\"com_droga\",\"com_droga\",\"com_droga\",\"com_droga\",\"com_droga\",\"com_droga\",\"com_droga\",\"com_droga\",\"com_droga\",\"com_droga\",\"com_controle\",\"com_droga\",\"com_droga\",\"com_droga\",\"com_droga\",\"com_droga\",\"com_droga\",\"com_droga\",\"com_droga\",\"com_droga\",\"com_droga\",\"com_droga\",\"com_droga\",\"com_droga\",\"com_droga\",\"com_droga\",\"com_droga\",\"com_droga\",\"com_droga\",\"com_droga\",\"com_droga\",\"com_droga\",\"com_droga\",\"com_droga\",\"com_droga\",\"com_droga\",\"com_droga\",\"com_droga\",\"com_droga\",\"com_droga\",\"com_droga\",\"com_droga\",\"com_droga\",\"com_controle\",\"com_droga\",\"com_droga\",\"com_droga\",\"com_droga\",\"com_droga\",\"com_droga\",\"com_droga\",\"com_droga\",\"com_droga\",\"com_droga\",\"com_droga\",\"com_droga\",\"com_controle\",\"com_droga\",\"com_droga\",\"com_droga\",\"com_droga\",\"com_droga\",\"com_droga\",\"com_droga\",\"com_droga\",\"com_droga\",\"com_droga\",\"com_droga\",\"com_droga\",\"com_droga\",\"com_droga\",\"com_droga\",\"com_droga\",\"com_droga\",\"com_droga\",\"com_droga\",\"com_droga\",\"com_droga\",\"com_droga\",\"com_droga\",\"com_droga\",\"com_droga\",\"com_droga\",\"com_droga\",\"com_droga\",\"com_droga\",\"com_droga\",\"com_droga\",\"com_droga\",\"com_droga\",\"com_droga\",\"com_droga\",\"com_droga\",\"com_droga\",\"com_droga\",\"com_droga\",\"com_droga\",\"com_droga\",\"com_droga\",\"com_droga\",\"com_droga\",\"com_droga\",\"com_droga\",\"com_droga\",\"com_droga\",\"com_droga\",\"com_droga\",\"com_droga\",\"com_droga\",\"com_droga\",\"com_droga\",\"com_droga\",\"com_droga\",\"com_droga\",\"com_droga\",\"com_droga\",\"com_droga\",\"com_droga\",\"com_controle\",\"com_droga\",\"com_droga\",\"com_droga\",\"com_droga\",\"com_droga\",\"com_droga\",\"com_droga\",\"com_droga\",\"com_droga\",\"com_droga\",\"com_controle\",\"com_droga\",\"com_droga\",\"com_controle\",\"com_droga\",\"com_droga\",\"com_droga\",\"com_droga\",\"com_droga\",\"com_controle\",\"com_droga\",\"com_droga\",\"com_droga\",\"com_controle\",\"com_droga\",\"com_droga\",\"com_droga\",\"com_droga\",\"com_droga\",\"com_droga\",\"com_droga\",\"com_droga\",\"com_droga\",\"com_droga\",\"com_droga\",\"com_droga\",\"com_droga\",\"com_droga\",\"com_droga\",\"com_droga\",\"com_droga\",\"com_droga\",\"com_droga\",\"com_droga\",\"com_droga\",\"com_droga\",\"com_droga\",\"com_droga\",\"com_droga\",\"com_droga\",\"com_droga\",\"com_droga\",\"com_droga\",\"com_droga\",\"com_controle\",\"com_droga\",\"com_controle\",\"com_droga\",\"com_droga\",\"com_droga\",\"com_droga\",\"com_droga\",\"com_droga\",\"com_droga\",\"com_droga\",\"com_droga\",\"com_droga\",\"com_droga\",\"com_droga\",\"com_droga\",\"com_droga\",\"com_droga\",\"com_droga\",\"com_droga\",\"com_droga\",\"com_droga\",\"com_droga\",\"com_droga\",\"com_droga\",\"com_droga\",\"com_droga\",\"com_controle\",\"com_droga\",\"com_droga\",\"com_droga\",\"com_droga\",\"com_droga\",\"com_droga\",\"com_droga\",\"com_droga\",\"com_droga\",\"com_droga\",\"com_droga\",\"com_droga\",\"com_droga\",\"com_droga\",\"com_droga\",\"com_droga\",\"com_droga\",\"com_droga\",\"com_droga\",\"com_droga\",\"com_droga\",\"com_droga\",\"com_droga\",\"com_droga\",\"com_droga\",\"com_droga\",\"com_droga\",\"com_droga\",\"com_droga\",\"com_droga\",\"com_droga\",\"com_droga\",\"com_droga\",\"com_droga\",\"com_droga\",\"com_droga\",\"com_droga\",\"com_droga\",\"com_controle\",\"com_droga\",\"com_droga\",\"com_droga\",\"com_droga\",\"com_droga\",\"com_droga\",\"com_controle\",\"com_droga\",\"com_droga\",\"com_droga\",\"com_droga\",\"com_droga\",\"com_droga\",\"com_droga\",\"com_droga\",\"com_droga\",\"com_droga\",\"com_droga\",\"com_droga\",\"com_droga\",\"com_droga\",\"com_droga\",\"com_droga\",\"com_droga\",\"com_controle\",\"com_droga\",\"com_droga\",\"com_droga\",\"com_droga\",\"com_droga\",\"com_droga\",\"com_droga\",\"com_droga\",\"com_droga\",\"com_droga\",\"com_droga\",\"com_droga\",\"com_droga\",\"com_droga\",\"com_droga\",\"com_droga\",\"com_droga\",\"com_droga\",\"com_droga\",\"com_droga\",\"com_controle\",\"com_droga\",\"com_droga\",\"com_droga\",\"com_droga\",\"com_droga\",\"com_droga\",\"com_droga\",\"com_droga\",\"com_droga\",\"com_droga\",\"com_droga\",\"com_droga\",\"com_droga\",\"com_droga\",\"com_droga\",\"com_droga\",\"com_droga\",\"com_droga\",\"com_droga\",\"com_droga\",\"com_droga\",\"com_droga\",\"com_droga\",\"com_droga\",\"com_controle\",\"com_droga\",\"com_droga\",\"com_droga\",\"com_droga\",\"com_droga\",\"com_droga\",\"com_droga\",\"com_droga\",\"com_droga\",\"com_droga\",\"com_droga\",\"com_droga\",\"com_droga\",\"com_droga\",\"com_droga\",\"com_droga\",\"com_droga\",\"com_controle\",\"com_droga\",\"com_droga\"],\"x0\":\" \",\"xaxis\":\"x\",\"y\":[-0.0347,0.1194,0.3477,-0.7229,0.1302,-0.3552,1.284,0.4141,0.1081,-0.0765,-2.042,-0.6743,0.4866,1.049,0.196,-0.1926,-10.0,0.7561,-0.3488,-0.8475,-0.8104,-0.6586,0.9406,0.2314,0.3928,0.7484,-1.003,0.1429,-0.0273,0.6204,-0.6068,-0.3447,0.3001,-0.5882,-0.0524,-0.5589,0.1424,-1.155,-0.4196,-2.067,-0.8526,-1.841,0.2282,0.5244,-0.0629,-0.0034,-0.0146,1.252,0.4271,0.2056,0.7854,-0.1102,0.4243,-0.2853,0.0328,1.661,1.188,-0.0775,0.4499,-0.1295,-0.0727,1.21,0.0189,-0.1649,0.3314,-0.5611,-0.2597,0.7003,-0.9473,-0.9307,-0.1266,0.2652,0.2104,-0.1726,1.347,-0.2301,-4.057,-0.6893,-0.2324,-1.596,0.1983,0.2042,0.1251,0.9333,0.1551,0.1505,-0.2224,-0.6091,0.4578,-0.6871,-0.3268,0.1419,-0.4983,-0.0006,0.225,-0.3092,0.8939,0.0,0.247,-0.1764,-0.0826,-0.1549,-0.0756,0.7407,0.0181,-0.2918,0.0504,0.1646,0.377,-0.4959,0.6815,0.4913,-0.0681,0.5777,-0.8586,0.3535,0.2239,0.559,-0.2763,-0.706,-0.2217,0.3941,0.4445,0.9883,-1.062,-0.0638,0.4812,1.152,0.0069,-2.72,-0.5141,-0.362,-0.6665,2.178,0.6089,0.1103,0.3316,1.089,0.9596,-0.1002,0.8702,-0.2384,0.0469,0.3693,0.0412,-0.1784,-0.2523,-0.5116,1.115,-0.6321,0.327,0.9495,1.309,-0.4866,0.7441,-1.007,-0.4411,-0.2509,1.628,-0.5592,0.2002,0.0,0.4432,-0.0508,0.905,0.4812,0.351,1.64,-0.6159,-1.25,0.3633,0.6745,0.9082,0.3656,-0.4954,0.2623,0.298,-0.0382,-0.4965,-0.6222,-0.6154,-1.082,-0.1697,-0.1715,0.9423,-0.2971,-0.059,0.2439,-0.102,-0.6513,-0.1817,0.1703,0.4397,1.786,0.3586,0.063,0.0682,-0.3868,1.033,0.6636,-0.004,0.1459,0.6154,0.2568,-0.4799,0.4301,0.6401,-0.1538,-0.4132,-8.648,-0.8809,-0.4621,-1.108,0.1706,-0.176,-0.2213,-0.5356,0.5484,1.279,-0.3867,0.4758,-0.8673,-1.052,0.4304,1.207,-2.936,1.341,0.1421,-0.78,-1.836,-0.1936,-1.915,-1.067,-0.6179,1.036,0.3545,0.8207,-0.3748,0.2647,-0.2966,1.273,-0.5616,1.681,-0.0701,-0.4372,1.019,-2.336,0.6139,0.0403,-4.873,-0.0689,2.501,0.1381,-0.2661,0.3002,1.176,-0.8182,-0.263,0.2812,0.1758,-0.0951,0.0,-0.3474,0.1327,1.307,-0.4232,-0.322,0.2589,-1.451,-0.1825,-1.264,0.7933,0.4755,-0.0727,0.9311,-0.8785,-0.1053,-0.3932,-0.2725,-0.1794,0.0891,-0.1441,0.9039,0.9204,-0.7308,0.2209,0.0849,-0.8084,0.1491,-9.086,0.5471,0.4195,0.6988,-0.1604,0.2696,-0.4609,0.9026,-0.6234,-0.6348,-0.979,0.5495,0.8801,-0.2142,0.6461,-0.8317,0.1679,-0.5698,-0.6805,0.7361,1.195,0.6157,-0.5308,-1.564,-0.5608,-0.0649,0.468,0.0527,-0.1542,0.7877,0.3262,0.9556,0.036,-0.3109,-0.8417,0.6934,0.004,-0.5677,0.1372,-0.2255,-1.532,-1.306,-0.7385,0.0027,0.0389,0.3274,1.265,-7.829,-0.8867,-0.3478,1.045,-0.1929,-0.616,0.0939,-0.3011,0.07,0.8593,-0.146,0.6517,-6.6,-1.689,1.262,-0.5423,-0.3666,0.4313,0.1907,-0.5293,-0.2916,-3.412,-0.3045,-0.1912,0.2177,0.295,-0.1836,1.039,0.3351,-0.7723,-2.943,0.0866,-1.508,0.0129,0.9924,0.5104,-3.249,-0.059,-0.5942,-0.2391,-7.081,0.1643,-1.044,0.5324,0.4761,-0.4786,0.2735,0.0894,-0.6379,-0.1277,0.2898,-1.3,0.433,-0.4748,-1.211,-0.5956,0.1695,-0.1271,-1.764,0.3672,-0.1467,-1.476,-0.4827,-0.5304,-0.1306,0.6772,-2.093,-0.5599,0.6197,-0.2589,-1.474,-1.128,0.4309,-1.056,-0.1078,1.087,0.1889,0.3095,-5.035,-0.4586,0.4464,-0.0752,-0.0072,0.2249,-0.3204,-0.902,0.8874,-9.419,-0.705,-0.3327,-0.837,-1.244,3.194,-0.3042,1.168,0.1842,-2.159,0.5179,1.154,-0.1318,0.6632,0.2561,-1.013,-0.5197,0.274,-0.0906,-0.3364,0.3119,-0.2816,-1.795,-0.1485,-0.6734,-0.7541,0.6601,0.0,0.6689,0.3241,-1.004,0.0263,-1.436,-0.0004,0.2307,0.3549,-0.8151,0.3471,-0.7072,0.7397,0.539,-1.506,0.0357,-1.078,0.8943,0.1037,-2.638,-0.5102,-0.2539,0.043,-0.2952,0.5543,0.4691,-0.1398,0.1831,0.6745,0.3228,-0.4877,0.0783,0.3923,-0.5757,-0.6071,-1.24,0.5657,0.8131,-0.0012,-0.3878,-0.0246,-0.4464,0.4829,1.037,0.3142,-0.5453,0.1924,0.2509,0.6528,-0.5178,0.5524,-0.5096,-8.352,-0.7934,-0.7297,1.05,0.7484,0.5187,0.0177,0.3311,-0.2607,-0.5653,-0.205,0.377,1.023,-2.354,-1.593,1.307,0.1977,0.0474,-0.1,0.5908,0.4451,0.3889,-0.1926,2.036,-0.9537,-0.059,-9.33,-8.192,-1.157,1.122,0.9123,0.6446,0.0893,-0.3259,0.2651,-0.2509,0.8537,1.88,-0.7796,0.1711,-2.306,1.016,-0.4246,-0.5792,-0.5696,0.7049,0.1047,0.288,0.3656,-0.6323,0.6517,-2.62,0.0454,-1.021,0.8329,0.5813,0.1504,0.4109,-7.19,1.029,-0.2826,-0.2028,0.4682,-0.1838,-1.083,-0.7877,-0.2718,-0.7445,-0.2336,-1.75,1.272,0.0423,-0.1703,0.0229,-0.0384,0.6267,0.9012,-0.3903,1.075,-4.37,-0.0236,-1.104,0.6057,-0.5063,0.3339,0.1405,1.18,0.547,-0.2396,1.111,1.032,-0.497,0.0209,-0.4996,0.5254,0.1482,-0.4402,0.2393,2.027,0.6214,-1.668,-0.9885,-0.2537,0.205,-0.4803,-0.3859,0.469,0.644,-1.757,0.2408,-0.6666,1.322,-0.1605,-0.3454,0.5301,0.0916,0.4505,0.8245,1.628,-0.1824,1.457,-0.2148,-0.176,-0.386,-0.9967,-1.625,1.347,-0.5856,-0.1089,-0.5058,0.5541,0.7298,-0.0895,-0.1632,0.4317,-1.549,0.2329,-7.066,0.5899,1.526,0.4758,-10.0,-1.646,0.1589,-0.4104,-8.01,0.8456,0.2772,-0.1585,1.229,-0.0871,-1.235,-0.4825,-1.179,-0.6991,-0.0713,-0.1779,0.1197,-0.8853,-0.5227,1.369,-1.113,-0.5567,0.9626,-0.4297,-0.4376,0.342,-0.4077,1.105,0.3512,0.1111,0.7488,-1.027,0.8845,-1.343,0.3918,0.6432,0.2582,0.4471,1.155,0.4161,-0.9841,0.0523,-0.1558,1.277,-0.0985,0.1232,-0.0696,-4.031,-0.524,1.184,0.2124,-0.0296,0.1066,-0.2369,-0.2016,-0.7126,1.222,0.9555,0.3369,-0.9454,0.3119,-0.569,0.0218,-0.8757,1.041,0.2188,-6.91,-1.241,0.1506,-0.0794,0.1933,0.3986,1.002,0.6671,-1.541,0.613,-1.658,-0.2554,0.7674,-0.7265,0.8061,-2.744,-1.729,-1.44,-1.33,3.333,0.5673,0.2541,-0.2452,-0.0638,-1.697,0.8915,-0.4697,1.117,0.5947,0.4095,-1.172,-0.6375,0.7789,0.1072,0.544,0.4203,-0.4283,-0.0249,1.47,-0.9608,-0.4304,1.217,-0.1399,0.7621,-0.7059,0.7319,0.4529,0.0707,0.1846,-1.084,-0.1588,-0.1959,0.2808,0.415,-0.318,-1.1,-0.0152,0.6438,-0.3878,1.399,0.5666,-0.5812,-0.0169,-0.2634,0.0135,0.0934,-0.6925,-1.903,-0.1898,-1.559,0.2054,-0.2334,0.7082,0.0567,-1.291,-0.9398,-0.2901,0.3304,0.5978,-0.9614,-3.828,0.2422,-0.2655,0.081,0.4132,-0.0034,-0.4576,0.664,0.9695,-1.305,-3.638,0.2964,0.0588,-0.0387,-0.2605,0.0779,-0.0492,-7.376,0.4913,0.9004,-0.3495,-1.453,0.2662,-0.6713,-0.063,-0.6309,0.2676,-0.1154,0.0155,0.8109,0.1619,0.1278,0.4627,0.4917,-0.6029,0.1436,-0.3521,0.5927,0.2883,0.0725,0.36,0.5964,-0.5105,-0.0393,0.1538,0.2424,0.2605,0.7416,-0.2274,-0.5586,0.4218,1.132,0.7429,-2.151,0.0821,1.376,-1.217,0.2102,0.3398,0.1215,-0.6963,0.311,-0.0644,-0.7667,0.6933,0.4945,0.8759,0.3703,-0.3607,-0.014,0.9154,-2.514,0.4186,0.029,-0.7747,0.2314,0.7752,0.1699,-0.0712,-0.4853,-0.3592,1.111,0.005,-1.129,-0.027,1.53,-0.4718,0.1859,-0.9231,-0.195,-0.6595,-1.264,-0.9254,-0.1835,0.7384,-0.4401,-0.4771,-0.1405,0.0308,-0.0713,-0.0674,0.8928,-0.2057,-0.487,0.5326,0.9992,-0.2794,-0.6312,0.1765,0.5202,-0.6242,-1.241,0.2909,-0.4051,-0.0357,-2.164,0.1408,-0.3289,-0.628,-0.2976,0.3379,-0.4729,-0.4474,1.301,0.4466,0.1618,-0.4913,-0.6063,0.494,0.3508,0.0856,-0.5633,0.3993,0.5666,-0.1027,-0.9739,0.0,0.0299,0.1925,0.4172,1.409,-0.4244,-0.2342,-0.4031,0.1203,-1.05,-0.3952,-0.0415,-0.4799,-1.226,-0.6165,-0.4228,0.1834,0.5831,-0.0435,0.2047,-3.903,0.0449,-0.3919,-0.0425,1.161,0.9656,0.3774,-0.4657,-0.3001,0.4084,0.4158,0.332,0.6051,-0.5114,-0.6054,-2.949,0.9264,1.375,0.3848,-0.1322,0.1706,0.3648,-0.8919,0.309,0.2184,0.6401,1.246,0.6539,0.0454,0.8944,-0.2098,0.1733,-0.6714,-0.8869,0.9809,-0.0027,-0.563,-0.8174,0.4166,0.188,0.8181,0.4108,-0.0263,0.2713,0.7923,0.6639,-1.587,-0.028,0.1315,0.5868,-0.4647,0.5669,0.129,-0.1322,-1.282,0.1231,0.7325,-0.5918,1.013,-0.6188,1.139,-2.058,0.0424,0.1629,-0.3372,-1.184,0.8586,-0.0361,-0.0891,0.0146,-0.3407,-0.3442,-0.1574,0.3218,-1.107,-0.1612,-9.24,-0.6682,-0.0782,1.356,0.1333,1.192,-0.5888,-0.9001,-1.146,-0.7508,0.445,-5.982,0.0589,-0.5411,1.641,0.4658,0.059,-1.15,0.3615,0.2322,-0.2328,0.2767,-0.4806,-0.5583,0.7303,0.2518,-1.747,-2.318,0.2451,-0.5015,1.658,-0.27,-0.277,0.295,0.6704,-1.535,-0.6748,-8.888,-0.1936,0.1212,0.5877,-0.4108,0.1024,0.1017,-0.5558,0.0279,-2.803,-0.9169,-0.1703,-1.712,-0.145,1.46,0.3293,0.4994,0.9365,1.705,0.1957,-0.2621,1.061,-0.5372,-0.0424,0.7696,-0.6793,-0.3899,1.188,-0.0772,-0.9905,1.123,0.4321,0.1459,1.447,0.4995,-0.3019,-2.071,-1.006,0.3835,-0.8947,-0.8022,1.371,-1.122,-0.5602,-0.7956,0.3398,1.031,-0.7179,-1.283,0.1136,-0.578,0.373,0.1671,-0.2495,-0.6424,0.1061,0.0,-0.2692,-1.465,0.7224,-7.679,-0.2371,1.091,0.7025,-0.6708,-0.3977,-0.2322,-0.1082,0.035,-0.251,-0.2817,0.6715,-0.1097,-0.5838,-0.1656,-0.7791,-0.6493,0.2266,0.3943,-0.4775,1.456,-0.0638,0.415,0.1158,0.2617,1.137,0.3797,0.3949,-1.468,0.1843,-0.2835,-0.7667,-0.378,0.462,-1.058,-0.6793,-0.5447,0.5941,-1.613,-0.2882,-0.5478,-0.2234,-1.508,-0.4027,0.7885,-0.317,-1.092,0.1041,-0.3838,0.4022,0.4595,-0.7746,0.0302,0.0673,1.315,0.5113,0.0556,0.0992,0.2929,1.217,0.6803,-0.0486,0.8011,1.499,-0.4357,0.8975,0.1729,0.4514,0.6438,0.1561,-4.188,-0.5303,-0.8469,-0.551,0.0518,-4.622,0.9305,-10.0,0.7772,1.055,1.046,-0.0233,-0.531,-0.5851,-0.9632,-2.54,-0.8674,-0.2916,-0.2893,2.15,-0.388,-0.3015,-0.1764,-0.976,0.501,0.0788,0.1108,-0.5231,-0.4329,-0.6688,0.6872,0.7441,1.024,0.1398,-0.0103,0.0221,0.486,-0.4542,3.049,-4.489,-0.3246,0.5168,0.6699,-0.4453,0.8285,-0.8605,-1.366,0.0687,0.6909,0.4259,0.8037,-0.4309,-0.0337,-0.147,1.291,0.5162,-0.875,-0.9476,-1.064,-0.1877,0.9055,1.593,0.1035,1.426,1.426,0.46,2.077,-0.4554,-0.2635,0.4886,-0.8045,-0.3786,0.3218,0.3588,0.7783,-0.0323,1.426,0.7671,0.0014,-0.0211,0.6553,0.546,-0.4624,-0.0423,-0.6174,-0.2291,0.615,0.5964,-0.4037,-0.7996,-0.2502,-6.06,-1.076,0.2876,-0.5864,-0.2907,0.3624,0.5657,0.0753,0.0565,0.1212,-1.617,-0.0748,-0.1998,0.6107,0.6926,-1.075,0.668,0.4825,0.6759,0.286,-9.301,0.8573,0.1995,-0.041,-0.7394,-8.648,-1.099,0.3372,-0.184,-0.6725,-1.081,0.8124,0.0443,-0.3666,0.2369,-0.3722,0.5948,1.049,-0.7828,0.7121,1.021,0.7598,-0.1585,0.5408,1.015,0.8483,0.168,-1.036,-0.7843,0.198,1.605,0.1319,-0.0085,-0.3193,0.4922,-0.5024,-0.1849,0.0651,-0.7769,0.2964,0.1835,0.4924,-0.4037,0.8876,-0.0985,1.03,-2.701,0.6256,0.2279,-0.2368,0.874,-0.6384,1.38,-0.4058,0.0415,-0.1459,-0.2991,0.7038,0.4033,0.5516,-0.6138,-0.2961,1.294,-0.4141,-0.0401,0.2284,-0.4328,-0.1205,-0.1452,0.3433,-1.035,0.4314,-0.7445,-0.0607,0.1917,0.6308,0.5285,-0.0891,0.0954,0.6551,-0.9593,-0.0152,0.2354,0.4013,1.18,-1.008,0.1981,-0.9411,-0.783,-1.394,0.9365,-2.209,0.0162,-0.3902,-0.6326,-0.0951,-0.0659,-0.2911,1.094,-0.743,-0.4703,-0.5827,0.1619,0.272,-0.8885,0.2573,-0.0323,-0.3512,-1.166,0.7123,0.8001,1.285,1.068,-0.1079,-0.7139,0.059,0.3325,-0.5329,-9.489,-0.4498,-0.1222,0.4238,0.6875,0.1697,-0.2199,-0.2165,0.9458,-0.0542,0.2401,-0.2328,0.2543,0.0027,1.624,-0.5174,1.679,1.853,-2.015,-0.6226,0.7546,-1.88,-0.2078,-0.4333,0.4328,0.337,0.3848,0.169,0.1774,0.0068,0.9003,-0.3409,-0.3406,-0.2537,-0.13,0.8304,0.6724,0.4132,0.3146,-1.858,-0.394,-0.421,0.7742,-0.929,1.105,-0.2975,-0.1531,0.0169,-1.04,1.643,-0.341,0.4259,-4.505,0.8066,-1.433,0.8918,-0.4646,-0.1006,1.956,0.5957,-0.1565,-0.1605,-0.2435,0.0738,0.0459,0.1538,0.3486,0.4228,0.0892,-0.5768,-0.3666,0.007,0.2937,-0.1066,0.6638,-0.3409,0.2247,-0.0779,0.2142,-0.4593,-0.5375,0.3607,-0.027,0.0606,-1.142,0.2907,0.4926,0.9153,-0.1267,0.1933,0.06,-0.854,-0.0255,-0.0713,-0.1249,-0.881,0.4866,0.6313,0.4944,-1.284,0.3015,0.2895,-0.9939,0.1106,-0.1828,0.5496,-0.2911,-1.517,0.498,-0.5328,0.1459,1.143,0.1382,-0.9646,-0.3995,0.3474,-0.3332,-0.1966,0.3605,-0.0648,-1.104,-0.3231,-0.7517,-0.1639,0.5357,0.9979,-0.3499,0.7822,0.4149,-0.1147,0.0967,-0.7684,-0.3799,1.244,0.3677,0.9003,-0.0801,-0.9193,-0.4603,-0.0915,0.2767,-0.0499,0.4857,-1.543,-0.501,-0.8127,-2.544,-0.0894,0.2366,-0.1149,0.1066,1.503,0.5362,0.4033,-0.2044,0.2651,0.0496,1.762,1.489,-0.7465,0.2638,-3.805,0.5926,0.055,-0.5978,-0.5664,0.6745,0.2363,-0.6083,0.1967,0.391,-0.6486,-0.6652,-0.7054,-1.249,1.161,0.5845,0.4168,0.8865,0.7497,-0.7637,-0.4602,-1.809,0.0917,0.848,-0.6657,-6.113,1.113,0.4252,0.0153,-0.1702,-0.7972,-0.1813,0.3021,0.6699,-0.0856,-1.058,-0.0638,0.4558,1.413,-0.2174,0.0544,-0.885,0.0751,1.025,-0.6482,0.2324,-0.2614,0.4606,0.6006,-0.0006,-0.6063,-0.7689,-0.5676,0.3817,0.4848,-0.9986,0.1476,-0.361,-1.201,0.4919,-0.0186,0.5407,-0.5008,0.6078,0.136,-1.178,0.4504,-0.0384,1.11,0.1995,0.8928,-0.5306,-4.987,0.7285,0.3679,0.1351,-1.234,-0.5767,-0.0678,0.836,0.4121,-0.9259,-0.3305,-0.6452,-1.099,-1.442,-0.5767,-0.1843,-1.012,-0.263,0.7305,-0.1073,-0.5632,0.4135,-0.3001,0.5534,-1.159,0.2558,0.8788,-2.35,0.4263,0.5558,0.001,-0.6241,-0.8475,0.672,0.6083,-0.7796,0.2314,-0.4676,-0.1762,-0.2911,-2.291,0.0811,-1.797,-0.4796,0.7056,0.0401,0.4216,0.1164,-0.2274,-0.0658,-0.2099,-0.0617,-0.001,1.326,-0.444,0.4819,-0.1409,-1.851,0.5476,0.4717,-0.1106,0.9562,-0.0273,-0.1275,1.028,0.5224,-0.1112,1.017,0.8277,-0.2595,0.8341,0.5622,-0.7217,0.2899,0.6722,0.1511,-1.535,0.2623,0.3893,-0.4012,-2.057,0.4541,-0.5673,-0.0234,-0.3875,1.997,-0.6392,0.2846,-0.1936,-0.6719,-1.088,-0.1354,-0.1952,0.4178,0.257,0.0863,-0.3277,-0.9685,0.3384,-1.166,-0.5581,0.1434,-0.0511,0.3111,-7.384,-0.1799,-4.052,-0.9164,0.1704,0.1294,-0.5042,0.1413,-0.124,0.5975,0.9935,0.1519,-0.2202,-0.9166,0.6848,-0.7961,-1.821,0.2871,-0.5246,1.78,1.958,0.2671,-3.624,0.2532,1.501,0.2729,-0.2012,-0.8934,-0.4492,-0.7036,-0.8052,0.3517,0.3777,-0.3737,0.176,-4.577,-0.5617,-0.697,-0.0158,0.3996,0.4135,-0.8532,-0.0895,0.3881,0.5142,-0.6882,-0.6371,0.9149,-1.053,0.2844,-0.0185,-1.549,0.3798,-0.7937,0.6123,-0.304,-0.3311,-1.063,1.374,0.9165,0.7648,0.3576,-0.4485,0.6452,0.6318,-0.2145,-0.9851,-0.7862,-0.5591,0.1116,0.3781,0.8403,-0.3713,0.8269,0.1649,-0.0714,-0.0673,0.0916,0.2876,0.1718,-0.2307,0.8491,-0.2359,0.6129,0.1286,-0.2846,-0.9574,0.95,0.5932,-0.582,0.8284,-0.864,-0.0722,-0.5965,-0.2609,-0.4421,1.125,-0.5242,-1.217,-0.0314,0.198,-0.5434,-2.659,-0.8052,0.1187,-0.0391,0.455,0.6065,0.6189,0.1429,-0.6712,-0.3329,-1.004,-0.0774,-0.9289,-0.4481,-0.163,0.7912,0.3089,-0.0464,-5.219,1.717,-0.4089,0.1868,0.2187,-0.7274,-1.594,-0.8216,0.4954,0.9816,-0.4172,0.0754,0.6255,0.2355,0.7777,-0.3803,-0.0776,0.1546,-1.062,0.7922,-0.6097,0.0085,1.663,-1.163,0.8313,1.339,-0.2113,0.1546,1.11,-0.5264,1.394,1.035,0.2021,0.3814,-1.013,-1.04,-0.433,0.9217,0.335,-0.0097,0.5367,-1.273,0.0848,1.332,-0.445,-3.519,-0.4362,0.7551,-0.117,1.068,1.039,0.0418,-0.8579,-1.158,-0.964,0.6492,-0.7635,0.7032,0.1007,-0.1206,1.078,0.6988,-0.7366,1.757,-0.0705,-0.0958,-0.0577,0.0411,0.4195,-1.169,-0.2824,1.031,0.4265,-0.9465,-0.0384,0.6637,-0.3115,-0.0425,-0.4003,-4.22,-0.1687,0.0348,-2.503,-0.27,-0.4451,-0.3478,-0.197,0.3011,-6.997,-0.0949,-3.874,0.0425,-0.4639,-0.3858,-0.1942,0.2629,0.7797,0.5777,0.0158,-0.0294,0.7992,0.4583,-0.0992,1.035,0.3991,0.4693,-0.3832,0.4476,-0.3364,0.2492,-0.9929,-0.0573,1.427,0.663,-0.6235,0.9193,-0.0323,1.077,-0.9548,-0.6618,-0.1693,-1.424,-1.142,0.4648,0.78,-0.352,0.351,-0.2588,0.4823,1.139,0.519,-0.9433,-0.1526,0.1074,-0.2326,0.0633,-0.4936,-0.2684,-0.1492,-0.0095,-0.3985,0.7191,-0.5671,-0.9564,-0.1027,1.61,-0.4523,-0.1916,-4.806,-0.9088,-0.0321,0.4913,0.3601,0.2171,0.1007,-0.3274,0.5764,-1.441,0.099,-7.276,-0.9996,-1.873,0.7675,-0.0578,0.1578,-9.939,1.571,-0.7492,-0.5696,-0.6141,-0.4174,-0.6345,-0.5006,0.2612,0.2901,-0.1435,0.6894,-1.05,-0.089,-0.2688,0.164,0.6576,0.0,-0.0094,-0.9747,-0.1719,-0.1116,-0.6989,-0.2167,0.2907,-0.7631,0.1477,0.9952,0.6323,0.7056,-0.1189,-0.5579,-0.3411,0.3834,-0.4397,-0.8166,0.6547,-0.228,-0.5974,0.0765,-0.531,1.169,-0.0633,1.424,-0.8556,0.9086,-0.913,-0.6957,-0.2465,-0.0386,-0.5427,0.4192,-0.6045,-0.6086,-0.859,-0.6284,-1.123,-0.1076,0.2071,0.3535,1.6,1.273,-0.2605,-0.558,2.438,-0.5823,-0.3939,-0.5202,-0.8512,-0.697,-0.1083,-0.227,0.3152,-0.9454,-0.528,0.2759,-0.084,-0.1784,-1.041,0.854,-0.6592,-0.3953,0.1781,0.6777,-0.7742,-0.2723,0.0138,0.1592,0.2224,-0.0692,0.9984,-0.1669,-0.5889,0.6755,-1.551,-0.8718,-1.653,-0.9521,-0.4178,-0.0988,-0.4523,0.8888,1.405,0.4006,-1.155,-1.365,0.2162,-0.0712,0.0092,-0.3593,1.128,0.4561,0.1597,0.1226,0.3809,-0.8801,1.422,-1.187,-0.4177,0.2041,0.6863,0.5588,-0.2259,-0.2455,-0.7798,-0.4735,0.0831,0.8489,0.3744,0.8694,-0.979,0.3666,0.4857,-1.053,-0.6105,0.168,-8.373,0.7384,-0.233,-1.407,-0.6406,1.247,0.3312,0.2442,0.9395,1.14,1.831,-0.4514,1.112,-0.2964,0.3187,-0.2361,0.8256,-1.199,1.428,0.5943,-0.3999,0.4306,-0.1229,0.5956,0.2218,0.826,-0.2255,0.463,-0.9054,0.6487,-0.2748,0.0506,0.134,0.8143,0.4091,-0.2238,0.9944,-0.1591,-1.665,0.5933,-0.3096,-0.7416,-3.624,-0.1436,-0.5272,0.6098,0.822,0.2729,-0.8113,-0.6562,0.5992,-0.9567,0.7584,-0.0762,-0.3544,1.722,-0.3642,-0.4414,0.9708,-0.4209,-0.2412,-0.004,0.0192,-8.041,0.4424,0.3767,-0.6637,-0.5998,-0.6136,-2.821,0.6537,2.303,0.2375,-1.609,0.05,-0.4466,-0.0904,1.164,1.262,-1.156,-0.2015,0.9939,-0.4484,-0.0674,-0.1261,1.285,0.9592,-1.859,0.5524,-0.035,-0.2049,-4.543,0.6009,-0.2438,-0.4688,-0.7634,0.0742,-1.051,-0.0862,0.37,-0.2554,-1.159,-0.5585,-2.0,0.4114,-0.0904,-0.8131,1.231,-0.402,-0.5044,0.6515,0.3264,0.1193,0.2243,0.5981,-0.0431,-0.8342,0.1521,0.4218,-0.5458,0.7015,-0.1447,-0.733,0.4956,-0.2738,0.3662,0.0774,-0.4206,0.1511,-0.2077,0.06,0.2403,-0.2919,-0.1413,0.066,0.0115,-0.2438,-0.3109,-1.021,-0.228,-0.0704,-0.1881,-0.5196,-1.005,1.674,0.9579,1.257,-0.0588,0.2838,-8.518,0.4431,0.3964,-0.0761,0.1219,-0.0126,1.872,0.8307,0.5983,-0.1359,0.3509,0.1249,0.0957,0.1912,-0.2926,-0.0921,0.4223,0.1516,-0.3145,0.0418,0.3248,0.977,-0.6585,0.6962,1.106,0.2224,0.6745,-0.1568,-1.189,-0.4848,-0.799,-0.9262,-0.2609,-0.3103,0.0475,-0.1208,-0.3262,0.0503,-0.3417,-0.4622,-0.1197,0.1019,1.002,0.0037,-0.3841,1.017,0.5027,0.0789,0.1479,-0.688,0.6437,0.4986,-0.451,0.3015,0.2195,-1.204,-1.049,0.3512,-0.0472,-0.702,0.6557,0.8444,-0.2403,0.1156,-1.374,3.194,0.4135,0.2564,-2.326,-0.8455,-0.6251,-0.6293,0.4035,0.4229,0.8214,-0.5016,-0.8174,0.0969,2.01,0.8743,-2.059,-0.0144,-0.5858,-0.9777,0.9035,-0.8548,0.1984,-0.1861,-1.154,0.1599,1.219,0.7767,-0.7829,-1.771,-0.2817,1.595,-0.6745,-1.353,0.5107,0.2229,0.3976,0.4191,-0.0228,0.9374,-1.041,-0.3953,-0.2027,-0.6155,-0.0187,-0.0173,-0.3199,0.1138,-1.517,0.86,0.252,0.4214,0.4571,0.7099,-0.4341,-0.3964,-0.3665,0.548,0.2776,0.6655,-0.4932,-0.0795,-0.27,0.2555,-0.7315,0.8684,0.8505,0.4263,0.4859,-0.2411,-2.126,-0.6388,-0.7966,0.4902,-2.052,0.0672,-0.0615,1.586,-0.2657,0.0853,-0.6064,-0.9752,0.8457,0.287,0.6676,0.3913,-1.133,-0.279,-1.022,-0.3621,1.73,-1.195,-0.4678,0.585,-1.074,-5.474,-0.6992,-0.6867,-1.385,0.8542,1.269,-0.5074,-0.3013,0.3263,-0.0543,0.7737,-0.4433,0.2882,1.162,-0.8309,2.143,0.5874,-0.6817,0.3526,-0.4041,-1.15,0.4746,0.2114,-0.8088,-0.3487,-3.634,-0.7322,0.4129,-1.39,0.615,-0.3892,0.3102,1.128,-0.2235,0.424,-0.0038,-0.0718,-0.5365,0.5332,-0.9942,0.8666,0.4633,0.0689,0.0461,-0.4659,-0.318,-0.185,-1.547,1.485,0.2404,-9.45,-0.4939,0.6605,-0.5653,-0.0506,0.9086,0.1204,0.5175,0.8264,-0.9675,-0.7161,0.1271,0.255,1.136,-0.9592,-0.3139,0.0605,-0.0161,-0.3579,0.5009,0.1006,-0.4414,-0.2323,0.4569,0.577,-0.0109,-1.326,-1.285,0.6923,0.3239,-0.2879,-0.598,0.2665,-0.9055,0.589,-0.9388,-4.16,-2.574,-1.729,-0.3447,-0.2371,0.7891,-0.1986,0.4111,0.1105,0.1829,-3.999,0.4911,0.302,0.5084,0.4626,0.8809,-0.2467,-0.3063,-0.4623,-0.0903,-0.0179,-1.354,0.1196,-1.074,0.6811,0.7444,0.3192,0.3584,0.2919,0.0492,-0.4826,-0.8459,0.3722,0.8534,0.0574,0.3723,0.0239,0.6571,-0.7325,-1.05,-0.7406,0.0711,-0.4297,-0.9716,1.092,-0.5632,0.1703,-0.9235,0.0205,0.8223,-1.077,-2.07,0.0546,1.151,-1.506,0.3045,-0.1484,0.0639,-0.1296,0.8873,-0.1659,-0.6873,-0.374,0.8491,0.2147,-0.983,1.172,-0.7582,0.4098,-0.9111,0.5141,2.3,-0.0755,-0.6142,1.012,0.3043,0.4934,-0.7323,0.7825,-1.582,-0.6715,-1.628,1.264,-2.863,0.8161,-0.549,-0.3316,0.5023,-0.0135,-3.031,1.27,-0.4529,-0.5456,-0.0612,-0.1953,0.2955,-0.8997,-1.453,-10.0,-0.2594,0.5826,0.2189,0.7926,0.2183,-1.638,-1.425,0.0174,0.4287,0.4778,-2.059,-1.226,0.8383,0.568,-0.1384,0.7035,1.213,2.173,0.7874,-0.9831,0.0629,-0.6708,-0.8921,1.44,0.3616,1.805,0.0255,0.1389,-2.228,0.9072,-0.8498,-8.743,0.0112,0.4003,1.02,1.142,0.2124,1.235,-0.0289,0.1953,-0.5719,-0.993,0.4148,-0.8219,-0.0988,0.2775,1.0,0.2326,1.109,0.2986,-0.4164,-1.062,-0.0897,-0.1518,-0.6937,0.0517,-0.2802,-0.0758,0.0104,1.046,1.089,-5.302,-0.5135,-0.7065,-0.8413,-1.068,-4.107,-0.5511,0.6718,-0.0512,0.0075,0.6752,-1.037,-0.8683,-1.229,-1.952,-0.6686,-0.6735,-0.8311,-4.818,-0.2657,0.1701,1.459,-0.1492,-1.543,-9.929,-0.0219,0.3637,-0.8104,0.3489,-0.8295,-0.4974,0.7922,-0.7691,-7.888,0.2582,0.2244,-0.7135,0.6522,0.1276,0.2016,-0.6266,0.5033,-1.65,0.6211,0.6335,-1.253,-0.559,0.3666,1.08,0.18,-0.4007,1.057,0.7668,0.8112,-0.299,0.8245,0.5667,-2.058,-0.3245,-0.1584,-0.1362,-0.6276,-0.1934,-0.1349,-0.6967,0.2182,-0.4435,-0.3899,-0.3571,-0.4089,-1.881,-0.9963,0.9074,0.9002,-0.3454,0.4833,-0.6342,0.2395,0.9875,-0.1742,0.5297,-0.2804,0.3814,0.4524,0.253,1.386,0.813,0.9643,0.5332,0.6504,0.1646,-0.1923,-0.2987,0.4892,-0.3277,-0.7892,-0.6138,0.0232,0.3668,-1.428,0.6148,-0.0695,1.057,0.2977,0.424,0.2361,0.0992,0.3112,0.1376,-0.3188,0.524,0.3564,-0.2311,0.1544,2.665,-0.231,0.1041,-0.3376,0.0307,0.2501,-0.3831,-0.052,-0.4746,-0.1791,-0.263,-0.194,0.4197,0.0146,-0.597,0.2,-0.0654,1.686,-0.9694,0.5355,0.665,0.1961,0.9647,-0.2692,0.1475,0.4314,-4.619,0.583,0.5567,0.6035,0.9549,0.0921,0.0903,-0.1136,-0.3336,0.052,0.0328,-0.525,0.4691,0.0998,-0.4528,-1.109,-0.4738,0.5518,1.035,-0.5561,0.1442,-1.409,0.0716,-0.7383,-0.1995,0.0004,-1.126,-0.1269,0.3345,0.8813,0.3101,0.8373,0.5005,-8.914,-0.522,0.2703,1.193,-1.293,-0.571,-0.4224,-0.3534,0.4479,-0.7309,0.4704,0.3097,-0.6134,-0.0575,0.1837,-0.3662,-0.3372,0.3388,0.702,0.2867,1.011,-0.9075,-0.933,-0.1042,-1.027,-0.6105,-0.8597,-0.6247,0.9022,0.7344,0.1516,0.554,0.5076,0.5282,0.46,0.2009,0.19,-2.146,0.1241,0.1903,0.1771,2.78,-0.1264,1.276,-0.2051,0.1089,1.025,1.609,-0.7032,0.1002,0.6554,-0.1185,-1.221,-2.287,-1.676,0.1157,0.9209,0.1144,-0.2537,0.7663,1.766,0.6242,0.6675,-0.2708,-0.2375,0.1319,0.6322,0.3979,-0.7065,0.0,-0.0457,0.0514,-0.1666,1.059,-0.3158,-0.5845,-0.2118,1.597,-0.9648,0.5908,0.2207,-0.3212,0.4646,-0.6165,-0.7871,1.187,-6.095,0.2342,0.9164,0.3271,-1.035,0.4369,0.5207,-0.7571,0.9245,0.3537,-0.1091,0.5025,0.238,0.5153,0.383,-0.6608,0.9616,0.7957,-0.3406,0.2021,-0.2281,-0.3256,0.7339,0.1639,0.6053,0.3786,-0.0751,0.1978,-0.9065,0.5312,0.346,0.0,0.2922,-4.451,0.1967,-0.3689,0.4754,-0.651,0.6674,0.868,-0.082,1.125,-0.0669,0.718,-0.517,-0.9056,0.0769,-0.286,0.014,-0.4522,-0.3258,-0.2301,1.045,-0.9059,0.7332,0.4845,0.4944,1.147,-0.6072,0.4109,-0.5871,0.1375,-0.531,0.0823,0.677,0.4567,0.0722,2.73,-0.0591,-0.5285,-0.1641,0.1165,-0.0525,-0.241,0.314,0.5747,-1.813,-7.161,0.1699,0.0644,0.0582,-0.3692,-0.2525,0.1821,0.2882,-0.5579,-0.8652,1.792,1.384,-0.1917,-0.546,-0.2667,-0.1826,-0.3372,-0.1189,-0.8749,0.8341,0.2425,0.7714,-0.6902,-0.3051,-0.5267,0.9926,-0.796,-1.392,-0.5814,-0.2628,-0.4418,0.9477,-3.077,-0.3194,1.424,-0.2163,1.399,1.063,0.0896,1.637,-0.3428,-0.2781,-0.1458,-0.2284,0.2397,0.6259,0.0614,-0.8299,0.1303,0.1912,-0.077,-0.4833,0.1276,0.2217,0.9531,-0.7125,0.4028,-0.6398,-0.3711,0.7371,-0.2903,0.7444,-1.757,-0.4198,0.2369,-0.1275,-0.3819,1.054,-0.345,-0.7092,0.7595,-0.2862,-0.2278,0.6351,-3.048,0.3193,0.2101,0.665,-0.2677,0.7655,-0.1385,-0.0066,0.2311,0.4055,-0.287,-0.996,0.182,-1.002,-0.0558,0.0709,-0.3512,-0.4427,-0.3138,-0.5297,0.1058,-0.1953,-0.2657,0.7688,-0.0705,-0.2493,1.241,-0.1288,-0.0636,-1.124,-0.3045,0.314,-0.5258,-0.8343,-0.3008,-0.0968,1.417,0.7988,0.2007,-0.3886,0.6151,-0.0306,-1.773,0.1173,1.597,-0.1703,-2.316,-0.0276,-0.1561,-0.2633,0.249,-0.0954,0.1195,-0.1834,0.582,0.0474,0.2564,-0.1908,-1.375,-10.0,0.0791,-0.2106,-1.041,-0.0054,1.604,-0.1648,0.4875,1.113,0.4358,-0.2199,0.5308,0.644,0.7555,0.6219,-0.1591,-1.23,-0.4696,1.659,-8.183,0.2472,-2.227,0.2316,-1.408,0.2403,-1.361,0.1744,-0.992,1.45,-0.4006,-0.2879,-1.23,-0.6187,-0.0813,0.8242,0.0309,0.0,0.502,-2.226,-1.052,0.0063,-0.3004,0.3874,-0.3368,-0.3521,-0.4381,0.9545,-0.6245,0.4232,0.4458,-2.023,1.129,-1.84,-0.2036,-0.4447,-0.4168,-0.7564,0.4216,0.383,0.0031,-2.292,0.3416,0.3881,0.3423,1.894,-0.7718,0.4165,0.3135,0.1315,-0.352,-0.7889,0.8539,-0.1137,-0.117,-0.2323,-1.284,1.033,0.9519,-1.534,-8.851,0.1889,0.261,0.4094,0.3112,0.1258,0.9766,0.3514,-0.1479,-0.2871,0.8242,-1.303,0.8162,-0.2205,0.9513,-0.8242,0.7922,0.8718,0.4692,-0.7442,1.092,-0.0577,-0.2564,-0.0728,2.033,0.2538,0.7975,-0.5742,0.8974,-1.171,-0.7109,0.6204,-0.4013,-1.225,-0.9359,-0.9621,-0.3514,-0.2369,-0.5794,-0.3372,0.043,0.2773,-0.352,0.0823,-5.858,0.1197,-0.6347,-0.5214,-0.0262,-0.4086,1.07,0.2002,-1.505,-0.1851,0.8801,0.0951,-0.021,-0.1367,-1.329,0.1954,-0.0318,0.2275,-0.1436,0.0944,-4.216,0.9737,0.339,0.5001,0.2691,-0.6271,-0.2121,-1.368,-1.339,-0.3385,-0.2553,-0.2025,0.0404,-1.112,-0.6268,-1.556,-5.054,0.5323,0.2613,2.723,-0.3833,0.6572,0.5335,-0.493,0.7929,-0.0391,1.386,-0.1047,-0.227,1.04,-0.618,0.2445,0.2403,0.2937,-0.5677,-2.761,-0.1614,0.2169,0.5406,-0.4061,0.0396,0.5574,0.7966,0.3794,-0.5056,1.165,-0.3261,0.7315,0.2051,0.2179,0.1683,1.417,-0.3101,0.2602,0.0078,-1.057,-1.209,-0.2536,0.2321,-0.093,-0.8111,0.1504,-0.8217,-0.2255,-0.9614,0.1343,0.1622,-0.4516,0.1773,-1.688,0.7018,-0.6715,0.9955,-0.4168,0.2803,0.7857,1.201,-0.8026,0.257,-0.2456,0.6704,-0.0543,0.193,1.138,0.6326,0.0377,-0.1618,0.4799,0.4388,-0.6576,-0.2118,-0.8379,0.8884,-2.878,0.7438,-0.317,0.5105,0.9693,-0.8475,-0.5275,0.0377,0.4064,-0.7731,0.6665,0.6152,-0.1469,0.4751,-0.4795,-1.068,0.2939,-0.4981,-0.513,-1.323,0.3266,-0.6342,-0.1181,-0.5084,0.9778,0.1549,-0.0648,-0.4533,2.098,-0.9169,-1.735,0.295,-0.9498,-0.4297,0.145,0.2504,0.2561,-0.5581,-1.351,-6.716,-0.6849,0.3503,0.4981,0.0069,0.7232,0.7497,0.999,0.0563,-1.141,0.6133,-0.2716,-0.4941,-0.8858,-0.3943,-0.3325,0.1502,-0.4326,0.4149,-1.313,-8.516,-2.185,-0.1999,-0.0767,0.0419,-0.1834,1.585,-0.0394,-0.2602,0.0191,-0.374,0.4801,-0.6044,-0.6138,0.1525,0.2544,0.1314,-0.8101,0.3836,-0.1331,0.6583,0.3739,-0.7555,-0.0158,1.022,0.2128,0.0894,0.622,-0.8371,0.1898,-1.247,-1.01,0.0806,-0.0474,0.6653,-0.5831,0.5025,-1.971,0.4754,0.5323,0.2607,1.537,0.6872,-0.9287,1.072,-0.1904,-0.0748,-0.2765,-0.4998,0.0464,-0.1011,-5.467,0.5025,1.16,0.5569,-0.484,1.249,-0.2344,-0.134,0.4448,-0.3232,-0.1332,-0.3225,0.2238,-0.1285,-0.0553,-0.3338,0.2152,-0.5448,-0.462,0.69,-1.323,-0.2586,-0.3536,1.014,0.9784,0.4966,2.194,-0.0169,0.2362,0.4324,0.4674,0.4956,0.589,-4.569,-0.2143,0.8321,-0.0635,-0.1664,-0.2933,0.3812,-0.7638,0.1381,0.7423,-0.1366,-2.39,0.0483,-1.194,0.72,1.435,0.8622,0.2853,-0.0256,0.6826,-0.8286,-0.8748,0.2162,-0.3176,-0.1699,-0.2679,0.0862,0.498,-0.3871,-0.8059,0.6022,0.7807,0.5547,-0.7211,0.7195,-0.3478,0.0357,-1.395,1.262,0.2567,-0.0323,-1.414,0.8961,-0.05,-0.27,-0.804,0.5604,0.169,0.2746,0.5448,0.6452,-0.3562,-0.5092,-9.357,0.5435,-0.3266,-0.4206,0.8844,0.0154,0.0741,-1.711,-0.619,-1.309,-0.3156,-0.0003,-0.4476,-2.069,-0.3878,-0.0759,-0.8975,-0.4929,-0.1036,0.3188,0.1632,0.216,0.7962,-1.39,-0.1472,1.364,0.4891,1.086,-0.0301,-0.6949,0.1366,0.4656,1.354,0.9051,-0.3451,-0.0034,-2.966,-2.695,-0.3121,-0.2183,-0.4618,-0.4041,-0.1753,-1.274,0.4761,0.0182,0.2765,0.9788,-0.7463,-0.5164,0.1429,0.0168,-0.7913,0.4782,0.2883,0.4906,-5.508,2.124,-0.1942,0.4877,-0.0887,1.075,1.004,0.063,-7.865,1.232,0.882,0.6214,0.2635,-0.5055,-0.3529,-0.382,-0.3164,-0.205,1.191,0.2726,0.2283,-1.639,-0.7012,0.0375,1.986,-0.4247,0.7924,0.3314,-0.6788,0.3358,0.1891,-1.2,-0.3376,0.6867,0.6602,-0.2111,-0.2879,-0.9378,0.0199,1.077,0.2143,-0.3818,0.3187,0.6689,-0.4198,-2.039,-0.0335,0.6313,-0.7366,0.2145,-1.483,-6.561,-6.042,0.0462,0.1808,0.2457,-0.3949,0.028,-1.405,0.2503,-0.5468,0.1621,1.161,1.02,-0.4327,0.0965,1.268,-1.064,-0.2214,-0.7254,-1.313,0.0121,0.0997,0.3458,0.2011,0.2268,-0.8033,-0.6263,-0.0884,-0.026,1.204,1.288,-0.8277,0.3388,-0.0123,1.339,-1.946,0.3986,0.1351,-3.139,-0.1248,0.0722,0.6532,-7.931,0.3431,-0.0635,-0.0582,-0.4923,0.408,0.379,-0.2217,-2.336,0.2654,0.3109,-0.2311,-0.9126,0.5369,-0.2949,1.087,0.9783,-0.0639,0.6149,-1.007,-0.4861,-0.181,0.2403,0.3938,-0.7419,-0.546,0.496,0.3622,0.4911,-0.5953,0.3914,-0.336,-0.7416,0.7812,0.3079,0.052,-0.2253,0.521,0.7243,-0.0731,-0.7772,-1.937,0.3107,-0.9373,0.7716,1.007,-0.5009,0.4596,0.8949,-0.2681,0.2036,-0.2059,-1.466,-0.3573,0.8359,0.149,-0.6909,1.143,0.5321,-0.1206,0.4934,-1.398,0.3802,0.3089,-5.331,-0.0856,0.87,-0.1034,0.859,0.2391,-0.3966,0.4621,0.0053,-0.1761,0.2041,0.0273,0.2316,0.8131,-0.0714,-0.1904,-0.5765,0.2105,0.0664,-0.5283,0.7332,-8.789,-0.4883,-0.6851,-0.2202,-1.908,0.6345,-1.844,-0.0746,0.2168,-0.1831,0.1699,-0.9732,-4.803,-0.7794,0.3332,0.5279,-0.2145,0.7309,-0.8442,-0.1706,-1.036,0.377,0.2549,0.1542,-0.0929,-0.1108,0.6826,0.4836,1.986,0.8255,0.5076,-0.7336,-0.3914,-0.2307,-1.319,-0.3231,-1.049,0.3288,-0.5113,-0.5743,-0.2619,0.5779,-0.4493,0.3259,-0.6655,0.4219,-0.3108,-1.076,-0.725,-4.843,0.4571,-1.094,-0.587,1.591,0.1302,0.2908,0.0063,-0.2669,-0.9061,-0.1956,-0.7494,-1.517,-0.0727,0.9037,-1.087,-0.2162,-0.3557,0.8195,-3.493,-0.4259,0.2634,0.4883,-0.1293,-0.7407,0.9597,0.2149,0.7953,-1.34,-0.5711,-1.022,1.197,0.315,0.3073,0.2206,-1.258,0.0,0.0163,1.137,0.1102,-0.8864,0.1428,0.4818,-0.0709,-0.8546,0.0857,1.281,-0.8374,0.8343,0.7963,-0.1822,-0.5703,-0.355,0.5689,-0.8511,-8.225,-0.9135,0.1143,0.6424,1.216,-0.21,-0.3651,-0.7481,0.6136,-0.3146,0.0459,-0.1881,-0.6921,0.6924,-0.0288,-1.2,-0.3586,0.0852,0.2006,1.083,-0.0442,-0.8786,0.405,-0.2683,-0.1887,0.1467,-0.3004,-0.2984,-0.1452,0.3331,0.7187,-0.2713,-0.0024,-1.462,0.635,-0.2898,-0.6844,1.253,0.3078,0.355,-0.8443,0.4595,0.1113,0.5658,0.3738,0.4603,-1.902,0.3989,-0.1487,0.2707,1.506,0.4441,-0.0692,0.0202,-0.2704,-0.1873,-0.5603,0.8147,0.3719,1.195,-1.286,-0.7228,-0.7716,-0.1353,-0.0209,-0.1481,0.1075,-0.2237,0.3524,-5.693,-0.3201,0.8317,-1.711,1.188,-0.8386,0.6108,0.0262,-0.8456,-3.863,-0.2812,-0.7372,0.6535,0.7912,-2.167,-2.073,0.2561,-0.0512,0.0998,-1.222,-2.634,-1.822,0.2079,-0.1437,0.2149,-0.0667,-0.1097,-1.48,0.2013,-0.6927,0.8436,-1.703,-0.2002,-0.0872,-0.2297,-0.6687,0.4123,0.4363,-0.2068,-0.0705,0.4592,0.145,0.7902,0.8387,0.4546,0.7696,0.8928,-0.5212,-1.007,0.2187,0.0983,0.4081,-0.5611,-0.268,0.3535,0.6854,1.458,-0.2249,0.1562,-0.4882,-0.9588,-0.2668,0.5649,0.4387,-0.2406,-0.0668,0.3895,-0.8448,0.8116,-0.2581,-0.3188,-0.4636,1.653,-0.3017,-0.2841,0.868,-0.5778,-0.2197,0.3823,0.0086,0.2398,-0.5243,-0.0887,-3.686,3.422,-0.1656,-1.73,0.5752,0.4981,0.2759,0.5619,-1.315,0.1382,1.082,0.5216,-0.4893,-0.4613,-0.1872,-0.6088,-1.284,0.6225,0.6139,-0.7165,-0.983,0.4674,-0.0169,0.4101,-2.059,0.1877,-1.183,0.0745,0.286,-2.178,-0.4981,0.0825,-1.036,-1.101,-0.0185,0.2979,0.4929,-0.1335,0.2782,0.3464,1.052,0.3284,-0.2794,0.1471,-0.4388,-0.2668,-0.2049,0.0084,-0.4008,0.429,0.2344,-0.2634,-0.7941,1.217,-0.7969,1.345,-0.9787,-0.2952,1.158,0.3233,-3.269,-0.4321,0.538,0.5878,-0.284,-0.4916,-0.0722,0.3518,-0.6651,-0.2068,0.3685,-2.887,-1.495,0.2725,0.7077,0.5136,-1.113,-1.131,-0.0974,-0.0256,-0.5809,0.1549,-1.142,0.0689,0.7099,0.2571,0.5722,0.0,-0.3831,-7.534,0.6659,1.337,0.0506,0.3725,0.8078,-1.046,-4.13,-1.138,0.5028,1.104,-0.5849,-0.5045,-0.1584,0.8543,-0.4433,0.5955,1.006,0.3754,1.292,0.8836,1.85,0.4018,0.9559,0.9264,-0.3572,-1.117,1.591,0.1389,0.5561,-8.033,0.1471,-0.4775,-0.7812,0.0154,0.6704,0.1066,-1.001,-5.416,0.0135,-0.6314,-0.3848,0.4205,1.185,0.0457,1.257,-0.6693,0.2182,-1.401,-0.5741,-0.026,0.3808,0.8795,-0.016,-0.5801,-1.001,-1.26,-0.5912,0.158,-0.4444,-0.9665,-0.0847,1.093,0.2758,0.1725,-0.4576,-2.18,-0.3353,0.0185,-0.1521,0.1751,0.3465,-1.064,-1.114,0.06,0.0644,0.5271,-0.1708,-0.3046,0.4216,0.5915,-0.1136,1.684,-0.146,-0.0469,0.2977,-0.5132,-0.5936,-0.1439,-0.7728,-0.0398,-0.799,-0.1292,1.444,-1.062,-0.8533,0.4205,-0.8615,0.7652,-0.9925,-6.579,0.508,0.0669,0.1028,-0.0659,-1.113,-1.634,0.0481,-7.603,0.1378,-0.2672,0.6386,-0.0163,0.9677,0.4195,-0.1824,-0.1456,-0.7952,-1.539,-2.889,0.6016,0.5286,0.1767,1.153,0.3045,-0.0733,1.0,0.9313,0.2033,-0.6379,1.816,-0.4868,1.268,-0.6543,0.266,0.2667,-0.9969,-0.2525,0.0806,-0.4579,-0.2772,-0.2974,1.573,0.4399,1.05,0.2528,-0.399,0.6093,-0.6126,0.3887,0.2923,-0.3174,-0.5189,0.6207,-0.6102,0.0901,-0.5753,-1.171,-0.4293,-1.236,0.4411,0.3925,-0.5097,0.3889,-0.4259,0.0563,0.7375,0.1055,-0.3372,0.5616,-0.084,-0.8489,-0.3347,1.424,-1.865,0.6179,-0.0704,-1.841,0.1379,-0.4482,-0.1534,-0.2629,0.9375,-0.8907,-0.3188,-0.1066,-2.049,0.4285,-4.647,0.633,-0.1668,0.3706,0.836,0.4834,-0.1911,-0.2702,1.478,-0.7372,-0.3769,-0.1645,-1.332,0.5308,0.9718,-0.9409,0.1646,-0.1078,0.1624,-1.548,-0.9747,-0.531,-0.44,0.1024,0.5889,1.589,0.3521,0.8533,0.1178,-0.8246,-7.565,-0.3602,0.1787,1.162,-0.1559,-0.7686,-1.008,-0.2244,-1.245,0.6537,0.0094,2.113,-1.693,1.04,0.0735,-0.4656,-0.2614,0.3255,-0.5685,1.674,1.021,0.0639,0.6583,-0.0019,0.8329,0.8049,0.3524,0.8046,1.298,-2.532,-0.1583,-0.5637,0.7997,-0.4079,0.1607,0.54,0.9595,-0.9748,-0.8312,1.099,-0.3553,0.3757,0.6351,-0.4196,0.7007,0.1671,0.5483,-0.6008,-0.157,0.6672,0.1462,0.777,1.316,-0.2817,-0.255,-0.4853,0.1704,-0.4489,-0.0959,0.1801,-0.5531,-0.1585,2.158,0.0037,-0.1036,-0.3821,0.167,0.2621,-0.1983,0.9171,0.8426,-2.271,-0.7302,0.4091,0.1258,-0.8627,0.1057,0.1042,0.2104,0.7198,-1.395,0.1467,0.8124,-0.1721,-0.3151,-0.1537,-0.4337,0.0892,-0.3164,-0.6859,-0.0421,1.116,-0.7581,0.7367,0.4486,-0.5829,0.3512,-0.0969,-0.6908,-0.0193,0.1571,-0.7458,-0.4174,0.1505,0.1521,0.2237,-0.9823,-0.5796,0.1377,1.066,-0.5828,0.0449,0.6632,-0.8192,0.6981,0.348,-0.229,-4.431,0.5673,0.202,1.158,0.9233,0.8073,-0.4989,-7.769,1.835,-1.165,-0.5611,0.6927,-1.388,0.0668,0.2266,0.0851,0.4385,-0.7191,-1.113,-0.7541,0.0872,-1.106,-0.6509,-1.11,0.5677,0.6891,0.1442,-0.9301,1.18,0.0901,0.6291,0.3193,-2.264,0.1858,-0.0006,-0.3224,-0.3312,0.7002,0.8122,-0.7946,-0.9487,-0.3626,0.1245,-0.2266,0.4529,0.2398,-0.5597,-0.0712,0.0873,0.4497,0.4138,0.2661,0.4041,-0.2812,1.079,0.285,-7.568,-0.7996,0.0077,0.0835,-1.537,1.186,-0.4388,-3.081,0.312,-0.6043,-0.3445,0.5791,-0.1937,-1.073,0.6984,-0.436,0.6364,-0.0411,-0.2251,0.4336,0.0425,0.2345,-0.2393,-4.278,-0.2993,0.0328,-0.2929,-0.2803,-0.4477,-0.3231,-0.0888,0.5882,-2.135,0.0138,0.45,-1.042,0.7215,1.005,0.0077,-1.227,0.8941,-0.3221,1.057,0.0031,0.4408,-0.5976,0.0721,-7.054,0.3811,0.691,-0.1688,-0.1466,-0.8052,0.0007,0.823,-0.1435,0.338,-0.9319,-0.2246,0.4801,-0.194,0.1268,0.8496,-0.0722,0.4103,0.1693,0.8573,-1.319,-0.1627,-0.5972,1.247,2.725,1.53,-0.3224,-1.213,0.3507,0.6924,0.2573,-0.2047,-1.36,-4.337,-0.3787,0.5359,-2.354,0.9367,-0.1733,0.2179,-1.334,-0.7224,-0.7265,-0.6329,0.5059,0.3277,0.2774,0.33,-1.692,1.392,-0.3749,0.7522,-1.22,-0.21,0.9158,-0.3006,0.569,-0.7254,0.1177,-0.489,0.1495,-0.2039,-0.8603,-1.232,-0.2936,-0.2102,0.1126,0.3548,-0.1398,-0.6367,-0.4556,-0.0043,-2.204,0.5494,0.0663,0.3704,0.1382,0.6665,1.257,-0.1689,0.094,0.0636,0.6646,0.3875,0.151,-1.72,-0.1095,0.0186,0.7595,0.1935,-0.1792,0.1734,-1.291,-0.9869,-0.3477,1.639,0.7421,0.1083,-0.2331,-0.3884,-3.803,0.1954,-0.0172,-0.5116,0.6791,0.7068,-0.5674,2.852,1.304,0.2808,0.7904,-0.9402,-0.5301,0.2364,0.4548,-0.3839,0.5832,-0.9042,0.7167,-0.6094,-1.025,-0.2584,0.9365,0.8981,-0.9804,0.1247,-0.8244,-0.2206,0.1855,-0.5612,-0.2836,-0.4325,0.5499,-1.317,-0.5599,-0.0887,0.2934,0.3751,0.0184,-0.2105,1.473,0.6111,0.4563,0.7787,0.5518,0.0627,0.1974,-0.0532,-0.4475,-4.005,0.1512,1.036,-0.2958,-1.574,-0.5023,-0.4601,0.8246,0.2648,0.6108,-0.5059,-1.202,-0.2621,-0.183,0.6669,0.4811,-2.057,-0.0428,-1.271,-0.4536,-0.1648,0.3054,0.2756,0.478,0.8561,-3.159,-0.3783,0.6371,0.377,-0.6032,-0.6865,0.0824,0.233,-0.2277,-0.0058,-7.936,1.063,-0.2387,-0.8142,-4.172,0.5555,-0.7386,0.0736,-0.7979,0.1511,-0.8252,-1.042,-0.2271,-0.4035,0.372,-0.5039,0.1053,-0.5602,-9.324,-0.0327,0.7979,-0.8607,-0.8849,-0.6798,-1.758,0.0155,-0.1725,-0.3029,1.164,0.0936,-3.079,0.3328,-0.6355,-0.4281,1.001,0.6159,-0.8492,0.3372,0.391,0.5949,-1.329,0.4007,-0.1157,0.7841,0.1687,0.9821,0.3393,0.5231,-1.114,-0.1809,0.0835,-0.5661,0.057,0.1352,0.4171,-0.3656,-0.8502,-0.13,-0.9524,0.6593,-0.2891,0.4489,0.339,-1.184,-0.8786,0.568,0.2175,-0.4179,-0.1848,0.2007,-0.206,0.0183,-0.403,0.4183,-2.362,-0.8284,-1.341,1.074,-0.4027,0.116,0.1609,-1.128,-0.7158,-1.69,1.042,-1.192,0.1693,-0.631,-0.4223,-0.5311,-1.022,0.3251,0.0097,0.3676,-0.3224,0.023,0.6869,0.1042,-1.172,-1.684,0.3309,-0.3293,0.0745,0.3916,0.1003,-1.235,-0.4623,-0.9983,0.3047,-0.0797,0.6993,-0.1217,-0.3909,0.6172,0.4322,0.8858,2.05,1.01,-1.07,-0.6951,1.433,-0.3129,0.3938,0.4263,0.8509,-0.4386,0.9394,0.1899,-0.4467,0.0766,0.9744,0.1471,-5.843,-0.4428,-0.2251,-0.2103,0.3984,-0.3447,-1.271,-2.551,0.7708,-1.545,0.1605,0.2519,-0.486,-0.4998,-0.1781,0.0591,1.044,0.0486,-0.4927,-0.5452,-0.0467,-0.5511,-0.7749,-8.98,-0.5538,-0.14,0.0213,-1.234,0.6259,0.7582,1.52,-0.0179,0.5117,-0.0297,-0.3748,-0.0971,-0.2077,0.2455,1.45,0.7177,-6.101,-1.193,0.458,-2.323,-0.8821,-0.455,-0.7169,-0.7024,-0.3416,-1.222,0.3234,0.1565,0.7439,-1.201,0.2584,1.324,0.3544,0.5624,0.4453,-0.8001,0.3067,-0.0644,0.1757,0.7531,2.136,-0.1672,0.6233,1.155,0.0462,2.543,0.202,-0.0186,-0.7402,0.1473,-0.1218,0.0334,-0.9333,-0.2306,-0.27,1.163,0.4913,-0.6844,0.5947,0.037,0.3233,0.1742,0.5436,-0.0533,1.016,-0.1271,-0.0235,0.377,0.0111,-0.6258,0.0477,0.2946,-0.5153,-0.6914,0.0852,-0.432,-0.9888,-0.0144,-1.475,-0.2825,1.224,-0.8652,-0.4999,0.7883,-1.116,-0.3067,1.551,0.5467,-0.1322,-0.3469,0.3426,0.167,0.3293,0.1337,0.4507,1.335,-0.7897,0.9403,1.886,0.8643,-0.6169,1.9,0.1306,0.3757,-3.107,-0.956,0.0738,1.415,-1.364,0.2881,-0.4867,0.1546,-0.4907,1.573,0.3667,-0.7438,0.5474,-0.6695,-1.202,0.6971,0.4155,-0.0786,-0.7194,0.7662,0.2549,-0.6415,0.7981,-0.0931,-0.7558,0.4583,0.3964,0.3267,0.6414,2.053,-0.8161,-0.7151,-0.0209,-0.5134,-1.15,1.371,-0.1834,-0.9853,-0.0546,0.2343,-0.0294,0.3083,-0.2939,-0.6753,-0.8812,0.1865,-0.5721,-0.3231,-1.078,-0.9902,0.1868,-1.665,-0.0849,0.0951,0.1451,-0.1953,0.8299,0.4585,0.4367,0.9032,-0.4793,0.548,-0.3821,-0.9276,-0.9005,-0.5865,-0.4131,-0.317,-0.4829,-0.7343,0.434,1.972,-1.323,0.0187,1.829,-0.1463,0.1573,-0.7484,0.2144,-0.9983,0.1393,0.5654,0.5836,0.2504,0.4847,-0.9035,0.185,-0.1673,0.3858,-1.436,0.2165,1.061,1.11,0.8635,0.5764,-0.7526,0.3774,-0.3297,0.3012,0.524,0.2536,0.1814,-0.4135,-0.6465,-0.2876,-0.522,0.1379,0.8508,-2.012,-1.427,0.4215,-0.2493,-2.039,-0.2745,-2.197,-1.037,-0.0595,0.8684,-0.8492,-0.6287,-2.795,-0.1787,0.0248,0.5705,0.2536,0.4954,0.1159,-0.4072,0.2264,-0.6221,0.5684,-0.8856,0.5483,-0.1328,-0.0673,0.063,0.6158,-2.702,-0.4983,-0.7652,0.1508,1.279,0.3817,0.7714,0.4775,-0.9887,1.082,-1.641,-1.254,0.2169,-1.024,-0.8643,-0.1856,0.6111,0.1016,0.3475,-0.2404,0.3912,-0.6571,0.7987,0.3332,-0.1708,0.144,-0.4738,1.5,-0.2327,0.3207,0.1155,0.1129,0.6598,-1.189,-0.197,0.2385,-0.7684,0.4991,0.1299,-0.1936,-0.7171,0.2203,-0.0047,0.6051,1.272,2.178,-0.7614,-0.6466,0.6697,-0.4266,-0.6777,-0.3044,-3.901,0.5576,0.6477,-0.1691,0.4248,-1.038,0.3757,-0.0221,-0.3181,-0.2627,-0.3372,-0.7388,1.892,0.5637,-0.7608,1.282,-0.3764,0.508,1.023,1.27,-0.5608,0.4178,0.0256,-0.4722,0.0377,-0.2512,0.2408,0.1638,0.5538,-1.468,0.07,-0.058,0.197,0.9987,2.088,0.7869,-0.3278,0.3976,-0.239,0.4961,-0.0464,0.4921,-0.5515,-0.4071,1.163,0.7994,-1.086,-0.186,1.13,0.4746,-0.6859,0.1157,-0.8049,0.2673,-0.4653,0.2163,-0.0824,0.0764,0.578,0.3527,0.2351,0.4013,0.8159,0.4471,-0.137,-0.1116,-0.5362,-0.1473,0.0024,-0.1714,0.3577,-0.2835,0.0171,0.6634,-0.4799,-0.0911,-0.2217,0.9604,-1.487,0.2402,-0.8212,-0.5294,1.13,-0.193,-0.2584,-0.1881,-0.4478,-0.7671,-0.4248,0.8424,0.9765,0.4619,-0.9634,0.2694,-1.024,0.4314,-0.4573,0.8124,-0.3044,-0.3665,1.072,0.256,-1.377,-0.6344,-0.8628,0.1238,-0.0874,0.1649,1.432,0.6859,0.7511,0.1847,-2.165,0.0987,-8.463,1.295,-0.1307,-0.0215,-0.2271,-0.4322,0.3249,-0.9815,0.4351,-1.895,-1.007,0.077,0.6245,-0.2787,-0.1116,0.5201,-0.0722,-0.2069,-0.4984,-0.7188,-1.041,0.6795,-0.2242,0.2313,0.3367,0.2106,-0.1824,-1.094,-1.053,0.922,-0.2,-0.2633,-0.6452,0.2679,0.4033,1.032,0.7356,0.5062,0.3421,0.6197,-1.322,0.2239,0.2722,-0.4483,-0.2106,1.733,-0.158,-0.7921,-0.1283,0.1138,-0.2852,-0.1207,-0.0828,0.3031,-0.4137,0.4333,-0.1699,-0.0964,-0.4491,-1.369,0.48,-0.8301,-0.3979,0.4229,-0.3383,0.213,0.0839,-0.999,0.7009,-1.359,1.723,0.3305,-0.4329,-0.0128,-0.6345,-0.3128,-0.2006,1.242,-0.8634,-9.669,-0.5752,-0.2208,-0.2234,-0.8957,-0.4045,-0.6431,0.2435,-0.9418,-0.349,1.19,-0.3612,-0.349,-0.467,-0.2108,-0.798,0.859,-0.6061,-0.8763,1.031,0.9693,0.1704,-0.0985,-1.252,0.6364,-0.8458,0.2233,-0.03,-1.034,0.0655,0.2087,0.5058,0.0885,-1.298,0.2064,-0.2309,1.439,-0.7573,0.6321,-4.795,0.7431,0.6141,-0.0662,-0.9272,1.06,-0.395,0.0187,0.3978,0.4114,-0.1956,-0.6623,1.131,1.033,-1.728,-0.0126,0.6697,0.1492,1.395,2.54,0.23,-0.0171,0.2103,-0.8273,0.2653,1.576,0.6839,-1.473,0.6211,0.1146,0.0728,-1.081,1.504,-0.4961,0.3765,-0.2562,-0.6841,-0.2034,-0.8959,-1.044,0.9643,0.3772,1.859,1.038,-0.0155,-1.042,-0.277,0.6051,-1.168,-0.5511,0.6157,0.2874,0.3724,0.1931,-0.0755,0.8836,0.391,1.163,0.1049,-0.4066,-0.4875,0.2276,0.2812,0.1588,0.747,0.9579,-0.0373,-0.1846,-2.117,0.3386,0.5109,0.6046,0.2585,-0.5858,0.9884,0.1727,-1.82,-0.7374,-0.2737,1.109,-0.9885,0.7064,-0.9569,1.175,0.6762,0.7591,1.094,-0.0316,0.0165,-0.179,-0.7519,-0.1788,0.6606,1.292,-0.893,0.0861,0.0795,-1.136,-0.1135,-0.9196,-0.862,-0.2888,0.4298,0.174,0.1658,-0.0427,-0.1516,0.4417,0.2887,0.729,0.0362,-0.2524,0.1565,1.299,1.144,0.0752,-0.1329,-0.0746,0.808,-0.2438,0.6988,0.6898,1.013,-0.0222,-2.902,0.6883,0.7359,0.7008,-1.878,0.3474,-0.0621,-0.2911,0.5629,0.0043,0.1828,-0.4205,0.1395,-1.283,0.1717,0.455,1.049,-1.979,-0.8994,0.8062,0.1698,0.9446,0.1973,-0.3372,-0.3364,-0.0011,-0.2006,-1.417,0.4196,1.153,0.231,-0.7898,1.29,-0.8787,0.2224,0.7557,0.4457,-0.5056,-0.2735,-0.6381,-0.3242,0.8317,0.3323,-0.7543,-0.9841,-0.131,0.1877,-0.0297,0.0203,-0.0103,0.0268,-0.4581,0.1183,-0.1487,0.6609,0.9819,0.3356,-0.2614,-6.001,0.9948,0.6209,-0.6837,0.2037,0.2665,-0.2558,-0.6823,-3.824,-0.1513,-1.143,-0.0954,-0.1906,0.0273,0.3372,-0.2975,-0.3881,0.6096,0.2032,-0.6644,0.3602,0.4091,0.2162,-0.0435,0.3515,0.8262,-3.2,-1.117,0.5044,-0.1416,-0.0161,-0.9231,-0.6255,1.181,0.6083,0.0703,0.0049,-0.1753,-0.4671,0.4585,-0.7309,0.2456,-1.263,-0.6388,-0.9145,0.3563,0.5282,-1.116,0.071,1.022,-0.459,-0.7486,0.6984,-0.6872,-0.2876,-0.3867,-1.055,0.1521,-0.4552,-0.943,0.7952,0.622,0.7384,0.1129,-0.4097,-0.3117,1.112,-0.7894,0.6127,0.8248,-0.8555,0.534,1.138,0.3857,0.3558,0.5657,-0.4746,0.0243,0.61,3.96,-0.0051,-9.308,-0.0519,0.0454,-0.6281,-1.069,0.8271,-0.0386,-1.243,0.3324,-0.3621,-0.5512,-0.1308,0.9939,0.5817,1.066,0.0622,0.0,0.6181,0.954,0.2511,0.7866,-0.5785,0.7867,1.066,0.4268,-1.574,-0.1418,-0.4682,-0.1352,0.1199,1.237,-0.7666,-0.0021,-2.162,-0.601,0.9719,-0.2745,0.0272,-1.994,-0.6919,0.6475,-0.5945,-0.4583,1.029,0.8199,-0.4448,1.083,-0.1544,0.7449,0.0447,1.134,0.0693,-0.7541,-1.773,-1.41,0.6214,2.285,-3.16,0.1525,0.3424,-0.7462,0.6697,0.5602,-1.379,0.3564,-1.077,0.3313,-0.4284,-0.8363,0.3129,1.243,-0.0845,0.2686,1.718,0.1106,0.7645,-1.785,0.814,-0.2975,-0.0245,-0.1078,0.5899,-0.9532,0.1851,-0.3343,-8.963,0.4388,0.4165,-1.691,2.225,0.5827,-0.6008,0.1062,-0.1792,0.7911,-0.2821,-1.471,-0.1456,0.886,-0.3685,0.3579,-1.122,-0.6513,0.6163,-0.5878,0.077,0.0192,-1.701,1.371,-1.719,0.9129,-0.8553,0.5752,0.171,0.1111,-0.2257,0.0088,-0.5476,0.0209,-0.1817,0.1568,0.3606,-0.277,-0.766,0.1841,0.2668,0.1207,0.4252,0.3334,0.8055,0.3282,2.046,-1.498,0.3372,0.5323,-0.0232,0.706,0.0983,-0.36,-0.9835,1.384,-0.6781,0.2666,1.211,-0.5215,-0.4449,-0.8939,-1.043,1.464,-0.0108,-1.449,0.7434,0.1793,-0.8325,0.4141,-0.0853,-0.4765,-1.839,-0.3075,-0.0914,-0.0739,0.4259,0.0129,0.3619,-0.0336,-0.3113,-0.6424,0.2774,0.9301,-0.2089,0.7475,-0.5434,-0.4835,0.3783,-0.0964,0.0264,-0.5803,0.3372,-0.0208,-8.626,0.8342,-0.0086,0.3061,-0.639,0.5433,-0.1583,0.4773,-0.3372,-0.0355,0.2666,-0.4978,0.007,0.5471,-0.6845,-9.038,-0.1243,0.1609,-0.1669,-0.1384,0.2044,0.8499,0.0391,0.5975,0.7737,-0.7046,0.6461,0.9807,0.7973,-1.544,0.2596,0.6424,0.5062,0.552,-0.4929,-0.4047,-0.2648,0.0766,0.8243,-5.124,0.4008,0.8434,0.4457,-0.0294,0.3521,-2.032,2.162,0.4693,1.21,-1.137,1.403,-0.2239,0.1689,-1.165,0.2119,-1.264,-1.055,-0.4363,0.314,-0.395,-0.9959,-1.385,1.878,0.9327,0.4448,0.4436,1.542,-0.9678,0.4411,0.4595,-0.9579,-1.239,0.5979,0.4157,-0.2982,-0.2078,0.1811,-0.5885,0.1593,0.5654,0.14,-0.1215,-1.414,0.3342,0.6281,0.3535,0.2512,-0.5549,0.0,-0.2509,0.3284,1.419,-7.175,0.5665,-0.3167,-0.055,-0.7758,-0.7258,-0.4842,-0.1024,0.0011,-0.0595,-1.986,-0.293,0.7759,-0.0709,-0.1888,-0.1744,0.1223,-2.046,-0.5437,0.2258,0.247,-0.3213,-0.5896,-0.7673,-0.255,0.4045,0.2432,-0.0408,0.7645,0.883,-0.3787,-0.3801,-0.3846,-1.552,-0.2921,0.1921,-0.8956,0.1929,-0.0538,0.0,-0.0658,-0.5848,0.3354,0.4013,0.2438,-0.3663,0.0974,0.5859,1.042,-0.4447,0.4744,-1.8,-0.3059,-0.7692,-9.265,0.3747,0.4374,0.6704,-0.2584,-0.4814,0.7247,-1.089,-0.8655,-0.5888,1.553,-0.0787,-0.3314,1.53,0.2772,-0.5106,0.776,-0.3591,-0.1734,0.8255,-0.9133,0.2632,-0.794,0.0,0.674,0.1183,1.06,0.3849,-0.6404,-0.4356,-0.9908,-0.4112,-0.7242,-0.661,0.0,1.297,0.5413,0.4443,0.2866,0.7418,0.2401,-0.1388,0.5942,0.2585,0.666,-0.7966,0.9028,0.4942,0.3318,-0.1676,1.237,-0.6945,0.7221,0.7553,1.023,-0.5495,-0.0298,0.8663,-0.5923,-0.9438,-0.8181,-1.417,-0.5809,-2.355,0.1816,0.2273,-1.097,-1.467,-0.8095,-0.9195,0.5983,-0.3372,-0.6179,-0.0954,-0.7455,-0.0139,-0.793,0.614,0.2863,-0.4883,-0.4238,-0.7652,-0.0365,-0.3835,0.5828,0.1669,1.238,0.1997,-0.0939,0.9109,0.64,-0.2377,-2.354,0.9433,1.05,-1.25,0.4162,1.024,-0.2066,-0.4053,-1.555,0.1312,-2.483,-3.046,-1.168,-0.0958,0.2829,-0.7163,-0.1817,0.7716,0.8242,0.6305,0.2817,0.7128,0.354,-0.6908,0.4256,0.4104,-1.992,-0.7283,-1.626,-0.3528,-0.3056,0.6939,-0.5541,0.6872,0.0839,-0.1497,-0.165,0.2404,0.1065,0.04,-0.6428,-0.1639,-0.0303,0.1342,0.0007,0.2458,1.915,-6.469,-0.3666,0.1225,0.8286,-0.3231,0.2887,0.4207,0.5713,-4.251,-0.6736,0.01,-0.9138,-0.8613,-0.5564,0.1949,0.376,-0.4788,-1.438,0.3234,0.0265,-0.0366,-0.0683,1.084,0.7859,-0.1956,-0.2035,0.6161,1.263,0.1585,-0.5735,0.3449,-0.2277,-7.094,-0.2948,-0.4545,0.2485,0.2484,0.0585,-0.5288,-0.656,0.7277,-0.822,-0.4518,0.187,0.9015,-0.6866,-0.2921,0.5264,0.6432,-0.8335,1.16,-1.186,0.2292,-0.5035,-0.2123,-0.3705,-0.2698,2.071,0.339,-1.035,0.5207,0.2624,0.8871,0.5811,-0.1075,0.0597,0.3322,-0.872,0.5386,-0.3026,-0.1909,-0.0814,-0.3469,0.4995,-0.87,0.0,-1.247,1.074,0.0873,-0.1004,-0.0882,-1.367,2.222,-0.796,1.027,0.1049,0.183,0.6194,1.163,-0.6366,-0.093,0.2759,0.7752,-0.43,-1.047,0.3514,-0.0664,0.5512,0.1351,-0.2229,-0.1542,-0.4009,0.259,0.5193,-1.265,-6.385,0.6409,-0.138,0.419,-0.2454,1.078,0.0086,-0.275,0.9257,-0.4694,-0.2515,-0.4411,-0.1966,-1.026,1.135,0.0868,-0.1253,-2.226,-0.314,0.051,0.1149,-0.9105,-0.9313,-1.531,0.9021,0.2148,-0.9109,-0.551,0.4164,-0.3375,0.7231,-0.7891,1.197,-0.2401,0.3457,0.1365,0.0517,1.169,0.1331,-0.3995,0.8618,-0.2953,2.061,-0.9675,-2.047,0.8292,0.5365,-0.5549,-0.6309,0.2639,0.9651,-0.9121,0.3512,1.086,0.6349,0.2592,-0.891,-0.7322,0.78,-1.594,1.461,1.227,0.027,0.4511,0.351,-0.5143,-0.169,0.5521,-0.2649,2.285,-0.1808,0.0425,-0.1981,0.342,0.5078,0.6696,0.0182,-0.1646,0.3231,-0.5993,0.1193,1.028,-0.3536,-0.8982,-0.0264,0.7833,-0.9002,0.3722,-0.0859,1.353,0.6523,-0.7006,0.6055,-0.8596,-1.042,-1.073,-0.3521,0.7696,-0.6306,0.0286,0.3044,0.4256,0.0158,0.0477,0.4487,0.1396,0.6755,0.92,-0.3246,-0.354,0.7503,0.6508,0.9568,0.0454,-0.231,-0.7885,0.0883,0.7456,-1.486,0.5868,-1.175,-0.35,-0.2145,0.0925,-0.2677,-1.181,-0.232,-0.3942,-0.4444,-0.4223,0.4215,-0.9519,-0.5947,0.9407,-0.0421,-0.8855,0.1063,-1.482,-1.501,-0.0466,0.1076,0.0039,-0.7073,0.0272,0.1711,-0.0722,1.494,-1.184,-0.0638,-0.8438,-0.0748,-0.9491,0.426,0.3909,0.484,0.2624,-1.729,1.06,0.2066,1.205,0.6603,-4.131,0.7322,-0.4055,0.4395,0.3076,-1.483,-0.6813,0.4998,0.2158,0.6416,-0.4173,0.1629,0.0168,-0.4368,0.8677,-0.2331,-0.0568,-0.4895,-0.2273,-0.8327,-0.2171,0.3129,0.0892,-8.671,0.9165,0.5527,0.4448,-0.004,-1.253,0.2844,-0.4455,-0.2347,-0.0321,-1.045,0.2132,-0.6991,-0.9959,-2.112,0.1019,1.137,-0.0023,0.5743,0.0285,-0.0806,-0.835,-0.7847,0.2429,-0.3495,-3.0,-0.0796,0.8209,0.6313,0.5942,0.8947,-0.6046,0.5483,0.2289,-1.027,1.428,-0.0683,0.2799,0.073,0.2396,-1.167,0.778,-0.5418,-0.1257,0.236,0.3544,0.7648,-0.1438,1.553,0.2878,-0.4395,0.9146,-4.285,-0.3958,0.4105,-0.3788,0.735,0.265,1.174,0.3479,1.031,0.2672,1.361,1.13,-1.011,0.4633,-1.684,-0.7217,-0.3285,-0.1437,-1.301,0.7337,0.9773,0.1992,-0.2695,0.0189,0.2712,0.4859,0.8252,-0.2788,-0.0755,-0.7317,0.8234,-0.8812,-0.4074,-0.4617,-0.685,0.4288,0.3058,-0.0495,-1.56,-0.1919,-0.0593,0.0604,-1.124,0.5878,0.0,0.2127,0.5354,0.154,-1.706,-0.1737,-0.4645,0.1136,-9.413,-0.3867,0.1045,0.928,1.082,-0.4263,0.2843,0.1355,0.8399,-0.388,0.6012,1.341,-0.7394,0.3442,0.6417,-1.003,1.348,0.9323,-0.3356,0.7172,-0.2768,0.1559,0.9605,0.0179,-0.3721,2.254,0.7163,-0.153,-0.6303,-1.171,-0.1375,0.5334,-1.009,-0.684,-0.4915,0.0508,-0.4873,-0.0873,0.0809,0.0684,-8.5,1.773,-1.085,0.6388,0.1679,-2.933,-1.059,-0.2048,0.0113,0.3471,0.5039,0.6748,0.0908,0.0301,-0.4388,1.174,-0.0357,0.1303,0.7024,-0.229,-0.7402,-0.1281,-0.0489,2.299,0.3895,1.172,-0.3356,0.9716,-1.247,-1.234,0.2629,-0.8886,0.1937,-0.897,0.0629,-2.063,-0.4366,-1.994,0.1844,-0.139,-0.6646,-0.1275,-0.2359,-0.5381,-0.7936,-0.5618,1.393,0.1757,-0.1808,0.3302,0.4259,0.3916,0.1291,0.1797,-0.6513,0.5217,-0.3433,-0.6314,-0.7625,0.1991,-0.1295,-0.4563,-9.349,-0.9038,-0.1197,1.348,0.8739,-0.3865,0.2462,-0.215,-0.2468,-0.8156,-0.3255,-0.116,0.7646,0.1568,0.761,0.7766,0.9398,-0.5776,0.7878,0.6592,-0.1724,0.3363,-0.6043,-0.052,0.5047,-0.2988,-0.6963,0.1672,0.887,-8.958,-0.0517,-0.1739,0.4955,-0.3411,-1.081,1.121,0.9885,-0.3414,-1.869,0.5956,0.3174,2.026,-0.2158,0.3155,-0.0159,-0.6793,0.3817,-2.419,-0.7207,0.215,-0.1764,0.0805,0.0327,0.7074,0.5386,0.7309,-0.5825,-0.8,-0.3425,-0.5253,0.0138,0.789,-0.885,0.9586,0.7294,-1.37,0.4499,0.125,-1.268,-0.6577,-0.2287,-0.2267,1.362,0.3965,-2.76,0.155,-0.0042,-0.5712,0.4259,-0.9771,-3.057,0.2273,-0.796,0.0308,0.3321,-0.059,0.6499,0.0144,0.6141,-0.8482,-0.5386,-0.6887,0.3047,-0.664,0.7434,-1.692,-0.3221,-0.4511,-0.6084,0.2608,-0.2741,-2.835,-0.2907,0.3262,0.0057,-0.2084,-0.323,-0.0956,-0.752,0.0188,-0.2195,-0.1274,0.2957,0.6208,-0.7965,0.2658,1.231,0.0992,0.8286,0.7585,0.2113,1.222,-1.222,0.8007,-0.9009,-0.6428,-0.8236,0.205,0.2812,-0.0103,0.8532,-0.285,0.1828,-0.235,-1.059,-1.083,-0.4545,-0.3676,0.12,-0.2248,0.0,0.4832,-0.1967,0.9884,0.0219,-2.486,-0.3406,0.4395,0.5538,-0.5615,-0.2804,-0.0727,0.0304,0.5114,-1.187,0.064,1.045,0.0358,-0.1708,0.7719,-0.8743,-7.816,0.5892,-0.0782,-0.8407,-0.6045,-2.629,-0.8663,0.003,0.4844,0.4415,0.3436,0.4593,0.2383,0.9183,0.3161,-0.507,0.3976,0.0629,-0.4404,-1.091,-1.075,0.7503,-0.1559,-0.2145,-0.1524,0.0561,0.2214,-1.008,-0.5201,-0.8747,0.4336,-0.139,-0.2779,-4.875,-0.3629,0.5411,-0.3674,0.3231,0.0,-0.445,0.7481,0.931,0.0867,0.5882,-7.828,-0.6169,-0.3388,-0.6196,0.2332,1.094,-7.337,0.3862,0.2567,0.2206,-0.2219,-0.9611,-1.105,0.8687,-0.2057,0.2264,-0.1238,0.7032,0.7001,-0.3952,-0.0447,0.74,-0.3565,-2.858,0.0982,-0.0226,-0.0172,0.4752,0.9237,-0.6582,0.5008,-0.551,1.211,-0.8024,-0.1023,-0.174,0.4553,-0.289,0.1434,-0.7208,1.607,-0.52,0.2133,0.7326,1.593,0.3704,0.8196,0.744,-2.464,0.4546,-0.5322,-0.1602,-1.025,-0.8353,-0.7594,-2.382,-0.3087,1.342,0.8468,-0.7331,-1.136,-0.7593,-0.6087,-0.426,0.7696,-0.0374,-2.094,-3.637,0.5114,0.0437,-0.0241,0.4839,0.5045,0.2961,0.9686,0.0355,-0.3575,-1.3,-0.0603,0.4483,-0.216,1.021,-0.5653,-0.1239,0.1194,-0.6311,0.4243,-0.5376,-0.1865,0.0,-0.5355,-0.0037,-3.053,0.7558,0.4895,-9.734,0.752,0.3505,0.3,0.5218,0.2305,-0.1518,-1.342,0.2262,-0.0198,0.4953,0.2304,1.865,0.0882,0.68,0.7713,-5.413,-1.491,-2.012,0.7776,0.3713,0.5369,0.1301,0.8738,-1.278,0.5654,0.3238,-1.093,-0.3349,-0.0906,-0.4287,-0.4761,-1.77,-0.4391,-0.0296,0.3072,-1.3,0.175,-0.0421,0.3965,-0.8995,-0.0222,-0.0337,-1.151,0.5096,0.3193,0.9446,-0.6179,-0.2123,0.2835,-0.5969,1.224,-7.818,0.1594,0.4059,0.3255,-0.142,-0.3743,-0.1436,-0.2361,0.24,0.7916,-0.4348,-0.9462,0.7106,1.379,-0.1487,0.0994,-3.342,0.0851,-0.4379,1.26,-0.6412,0.1934,-0.5087,-0.3898,0.1081,0.6535,0.7293,0.6078,-5.401,-0.5478,-2.359,-1.509,-0.5655,0.1106,1.334,0.7646,-0.7595,0.2867,-0.435,-0.5202,-0.2609,-8.243,0.0803,-0.8432,-0.5788,0.9593,0.3287,-0.5836,-2.117,-0.3251,0.5678,1.936,0.086,0.3038,-0.5617,0.0451,-0.3386,-1.31,-0.8168,-0.4176,-0.4615,0.0483,-0.6631,0.7315,-0.0011,0.1565,0.2165,0.3004,-0.0147,0.4002,0.8451,0.7214,-0.3131,0.1676,-0.5737,0.6631,-0.8836,0.0938,-0.5797,-0.6277,0.2304,0.1863,-0.7674,-0.4799,0.0513,-0.5114,-0.489,0.2718,-0.6211,0.4057,-0.4081,-0.3778,-2.889,0.5476,0.232,0.5272,1.552,-0.3099,-0.0669,0.5279,0.0207,0.7746,0.1262,0.4631,0.5667,0.1453,-0.3582,-0.4905,1.329,0.0338,-1.056,1.12,0.101,-0.0051,0.7702,0.5677,-0.3639,0.6972,-0.7194,-0.9284,-0.3905,-0.455,-9.629,0.169,0.1912,0.463,0.3928,0.4908,-0.8829,-0.2408,2.32,0.4279,-0.1226,-0.1539,-1.25,0.5373,-1.802,-1.066,0.2461,-1.022,-2.86,0.4072,-0.8475,0.0,2.732,0.8917,-1.139,-0.7715,-0.7024,-1.09,-0.0295,-0.5311,-0.0708,0.147,0.3501,0.2378,0.1962,0.1669,-0.3169,-0.3321,0.1459,-1.0,1.818,-0.0269,-0.7266,0.5567,0.7126,-0.7485,-1.164,-0.3753,0.601,-0.3487,-0.1309,-1.112,-0.6623,-0.1499,0.6956,-0.3943,-0.8084,0.904,-3.006,0.7943,1.009,0.1616,-0.7004,0.3494,-0.8944,-0.8247,0.39,0.4003,0.4286,0.3918,-0.4588,-1.298,-0.3223,0.1736,-0.2845,-0.1019,-0.7263,0.9614,0.9466,0.1932,0.3806,0.318,-0.4431,0.8128,0.2837,-1.063,0.3104,0.1722,-0.7096,0.4752,0.1521,0.5435,-0.9563,-0.6461,-0.3899,-0.3451,-0.489,-0.2061,0.0413,-0.5981,-0.1234,0.2812,0.6362,0.646,0.0529,-1.021,-0.5161,-0.265,0.5626,-0.2531,-4.11,-0.0786,-1.18,0.1373,-0.4371,-0.5305,-0.2826,1.324,-1.876,-0.515,-0.9685,-0.9963,-0.0058,0.432,0.2732,-1.318,0.1619,-0.5621,-0.0102,-0.2737,0.5069,-2.69,0.0537,-0.1534,1.291,1.37,0.4027,0.3013,0.1396,0.3755,0.1639,-0.1771,0.6313,1.503,0.3813,0.7904,0.8044,-0.5281,0.3662,1.634,0.6315,0.1142,0.497,0.0267,-0.7592,0.3941,-0.3197,-1.003,0.1356,-0.6769,0.4745,-0.5529,-0.3501,-3.237,-0.1476,-0.1919,-0.0553,1.134,0.5791,-0.0371,0.6696,0.5725,0.411,0.3177,0.6486,-8.944,-0.6441,-2.644,0.2952,-0.6629,-0.4951,0.3924,0.4913,-0.7436,-0.2594,-0.0815,0.0681,0.5099,-2.884,-0.2867,-9.001,0.161,-1.199,0.4049,-1.091,-0.3919,-0.3054,-0.7781,0.5911,-0.7582,0.1504,-0.4049,-0.5561,1.322,1.347,-1.371,-1.556,-0.6302,0.1686,-0.6888,0.1697,-0.0479,-3.731,-0.007,0.7197,0.3232,-2.406,0.6851,-0.1319,0.7704,0.0225,0.1133,-0.9388,0.2549,0.3924,0.2827,0.84,-0.5658,-0.1551,0.819,1.514,0.0067,0.1388,0.9353,0.175,-0.4183,-0.7163,-0.3963,0.9222,0.2805,0.0061,-2.104,-0.2605,0.4332,0.8465,-0.1955,-0.78,0.3019,-0.4865,-0.8151,-0.0754,-0.6406,0.2652,-0.3995,-0.8643,-0.2357,-0.9851,0.6846,-1.341,-0.5641,0.4327,-0.7576,-0.7163,-0.2307,0.3483,0.9777,0.3065,1.17,0.3147,-0.2884,-0.9405,-0.8812,0.512,0.4365,0.6513,0.9726,0.1462,0.0735,0.6368,0.0,-0.6779,-1.825,0.6347,-0.1966,2.437,-2.733,-2.182,0.3324,-0.1997,1.72,-0.78,-0.6301,-1.776,0.5394,-0.7958,0.6298,0.3188,-0.0713,-0.2302,0.3243,-0.834,-0.8332,0.1757,-0.8572,-1.162,0.0179,0.087,-0.2973,0.1396,-0.2914,-0.4213,-0.5078,0.584,-0.7919,-0.979,-0.0249,0.433,-1.238,0.4488,-0.6594,-0.3801,0.0611,-0.6062,-0.5265,0.7183,-6.003,0.0688,0.6468,-0.5265,-0.2407,0.3062,-2.459,-1.101,-1.12,-0.6708,-0.2043,-0.7429,2.173,0.3763,1.154,-0.548,-0.1167,0.9837,0.6759,0.3673,-0.0722,-0.6098,-0.1253,0.4401,-0.2472,-0.986,-2.144,0.1514,0.2555,0.2648,-0.3443,0.4192,-1.61,-0.567,-1.335,0.1039,0.4895,-0.6421,0.2991,-0.4017,0.5094,0.3674,0.7772,0.7962,-0.5059,0.1408,-0.2121,-1.014,-0.2059,-0.3451,-1.228,-2.2,-0.1197,-0.2497,-0.5604,-0.6182,-0.4178,0.2266,-0.8212,0.8196,-3.501,0.8657,-0.7862,0.1965,-2.001,0.3546,-0.5108,0.2364,0.2233,0.517,-0.3523,-0.5184,1.354,0.2501,-0.9834,1.269,-0.3303,-2.126,-0.4766,1.035,0.0901,-1.034,-1.226,-1.443,0.6496,-0.2517,1.003,0.3395,0.5187,-0.3952,-0.9416,-0.0834,-1.388,0.521,-0.0842,-1.027,-0.278,-0.5527,0.8476,-0.6905,0.4193,0.2711,-1.306,-0.0921,0.4487,-4.116,0.6214,-0.1679,0.1048,-7.279,1.031,-0.0334,-1.155,-0.2678,-3.851,0.803,0.1944,0.4005,-1.76,0.4158,-2.802,-0.2051,1.056,-1.124,-0.0386,0.722,0.129,0.2826,-0.0169,-0.6456,-1.476,2.104,0.2058,0.8613,-0.034,0.1504,-2.806,-0.3512,-0.7315,-0.7679,-0.9305,-0.5849,0.561,0.0385,-0.0816,0.2738,-0.1976,0.686,-0.2743,0.1341,0.8673,0.1565,-0.3277,-0.8569,0.9496,0.5885,-0.2367,0.5292,-0.9918,-0.131,-1.174,-0.8757,-0.1688,-0.219,0.3971,0.6008,-1.235,-0.5266,0.8407,-0.6283,-0.3877,-0.6493,-0.1632,-3.899,0.7997,-0.3902,0.6776,0.7865,0.6086,-0.3121,0.1255,-1.272,0.0146,0.7075,0.2024,0.6622,-1.782,0.7359,1.155,0.0137,-1.117,0.5013,0.7469,0.2475,0.3568,-0.3153,-0.8788,-0.1267,-0.6388,-1.242,-0.77,-0.138,-0.1295,-0.3663,0.4222,0.7411,-0.6941,-4.023,0.5656,-5.795,-0.058,-0.9573,-0.1781,-0.3853,0.1767,-0.5551,-4.212,1.709,-0.0833,-1.366,0.3512,0.5116,0.0299,-0.468,0.5066,0.6957,0.1788,-0.9763,0.2447,-0.5914,0.3943,0.3661,-0.2891,0.0636,-0.0549,0.671,-1.09,-3.485,1.113,1.05,1.072,-0.8807,1.923,0.7584,0.4574,-0.2649,-0.2089,-0.5835,-0.1273,0.1822,0.4789,-0.4511,-1.219,-1.122,0.1412,0.4876,-0.5541,-0.256,0.2382,-0.2914,1.438,0.6691,0.2484,-0.5217,0.0514,0.4276,-0.1781,-0.884,-0.6337,-0.6058,-0.1427,-0.261,-0.4366,-0.1073,-0.6347,0.0124,0.3372,0.2036,-0.5091,-0.9349,0.4081,-0.0692,0.622,0.6444,1.207,-0.3123,0.7309,-1.218,0.227,-0.6784,0.6346,-0.6913,0.5211,0.1656,-0.5698,-0.3474,0.5025,-0.9472,-0.6266,-0.0006,-0.1917,0.4263,-0.1781,0.6204,-0.5171,0.194,-0.0803,0.6495,-0.4643,0.471,0.0671,0.515,0.1204,-0.1549,0.2132,-0.787,-0.3549,-0.0815,-0.3597,0.414,-0.0704,-0.2731,0.1674,-0.5978,-0.4493,-0.0096,0.6275,-0.2605,-0.214,-0.3787,-0.0029,0.5343,-0.0886,0.2568,-1.062,0.7618,-0.2532,0.5419,-1.449,-0.8536,0.0781,0.7925,0.4755,-0.3068,-1.131,0.5095,0.2512,0.0732,-1.96,0.049,0.1624,0.2742,0.8408,-0.3963,-0.513,-0.3965,-0.0766,-0.5494,0.3187,-0.6101,0.0178,-0.6411,0.6398,0.8687,0.2421,-0.5911,0.0824,-0.664,-0.1486,0.286,0.292,1.469,-0.1637,-0.2855,-1.396,0.0972,-1.152,0.7224,-0.3487,-0.0219,-0.3333,0.0,-1.222,0.7287,3.147,1.832,-1.972,-0.129,0.3943,-0.913,0.6756,1.011,0.3978,0.5107,-1.211,-0.9307,1.525,-0.3938,0.0887,-0.9277,-0.4615,-0.1912,0.2233,-2.01,0.0202,0.1528,-1.14,1.551,-0.0931,-0.2761,0.1405,-0.4211,0.0261,1.393,-2.935,-0.513,-0.1373,-0.6127,0.3147,0.638,0.3114,-0.2245,-0.4785,-0.1688,-0.0612,0.4361,0.1974,-0.3449,-0.6083,-0.2935,1.637,-0.0401,-0.1494,-0.1292,0.633,-0.2709,-0.7787,-0.0968,-0.9216,0.544,-0.3196,-0.3898,-1.043,0.8879,0.5302,0.5669,0.7243,0.331,0.7867,0.1578,-7.148,0.4546,-0.1046,0.135,-0.7368,-0.6551,0.0053,0.7699,0.0546,0.4937,0.3634,-1.489,-1.775,0.0471,0.4261,-0.6215,0.184,0.5081,-0.67,-1.183,-0.2691,-0.2046,-0.3535,1.238,0.0272,0.9286,-0.6838,0.7007,-0.1073,0.0566,-0.7314,0.9531,-0.1005,-0.1878,0.5676,-0.9478,-0.6926,-0.6611,-1.196,-0.3792,-0.4908,0.2676,-1.071,-0.3281,-1.2,0.4678,-0.4297,-0.3586,-0.1543,0.1611,-0.6999,-1.581,0.8475,0.0492,0.1496,0.6288,-0.7892,0.5124,-0.8996,0.5843,-0.0929,-0.6234,0.0321,-0.0026,-1.189,-1.143,0.0485,-0.3198,-0.3245,0.3372,-0.4559,-1.359,-2.562,-0.1636,-0.3529,0.1052,-0.6372,0.4642,-0.0635,1.97,-0.1332,-0.2483,-0.9508,0.3865,-1.185,0.4319,0.3075,-0.5622,-0.2874,0.2049,0.0138,0.0098,-0.0488,-0.3315,-1.074,0.1062,0.001,0.3203,0.4115,-0.2037,0.8957,-0.9237,0.3834,-4.262,-0.1008,-0.9615,1.096,0.0233,1.26,-0.1011,0.516,0.3062,-0.0673,-0.8128,-0.5941,-0.8616,-0.0887,-0.2636,1.676,-0.3357,-1.013,-0.5689,0.2988,-0.4259,-0.4007,0.2196,-0.2544,0.492,0.0,-1.692,0.1255,2.201,0.3675,0.5978,-0.4887,0.1654,-0.8111,-5.425,-0.0683,-0.0641,0.4951,-1.146,1.851,-0.043,0.1235,-0.0304,-0.3169,0.4022,-0.3363,-0.3091,-0.2297,0.6795,-0.6771,-0.867,0.5598,0.228,-0.1626,0.162,0.4581,0.334,-0.0256,-0.3553,-0.5349,-0.9386,0.1025,0.5616,1.506,0.1354,-0.2472,0.1508,1.214,-1.484,1.896,-0.1658,0.801,0.7352,-0.8727,-0.6008,-0.2032,-1.008,-9.778,0.9841,-1.166,-0.0731,1.664,-0.052,-0.343,-6.164,-0.318,0.9632,-0.43,-0.7577,0.3612,0.2617,-0.6165,-0.1608,-0.599,-1.591,0.2998,-0.0732,-0.6364,-1.961,0.694,-0.0398,-0.6601,1.003,0.0539,0.7134,0.5821,0.4218,-0.3065,-0.4342,0.2528,-0.656,-0.3801,1.16,-0.2411,0.3233,0.3724,0.4154,0.5174,-0.1781,0.2695,-0.0249,0.5055,0.1995,0.4789,-0.7551,-0.6551,-0.3976,-0.6426,-0.6118,0.1555,2.098,-1.127,-10.0,-0.1116,-0.3329,-1.753,0.3512,1.637,-0.3109,-0.807,-0.4394,-0.0445,-0.3699,0.4218,-2.818,-1.174,0.6709,0.1317,1.133,1.028,0.0876,-0.0961,0.3048,-0.2663,0.1216,-0.0698,-1.11,-0.06,-1.414,-1.031,-0.2226,-0.9874,0.0375,0.2168,-0.3069,-0.3546,-0.5836,-0.6757,0.7098,-0.6695,-2.111,-1.405,-0.6902,-0.1607,0.1159,0.2097,-0.4664,0.0591,-4.872,0.3461,1.699,0.785,0.3732,-0.6102,-0.0321,0.0582,0.72,-3.033,0.3377,0.2724,-1.426,-0.3218,0.7459,-0.5844,0.7885,-0.3376,-0.5127,-3.876,-0.7328,-0.2857,-0.739,0.13,-0.3288,0.6858,-0.0201,0.6819,-0.228,0.2531,-0.7409,0.664,1.879,0.5548,0.0075,0.5605,-0.4469,-1.453,-1.55,0.6368,1.032,0.5426,0.3778,0.7406,0.7948,0.9752,0.1777,-0.0006,-0.406,0.3188,1.264,-0.0895,-0.9335,0.4445,0.5745,0.1772,0.251,-0.6257,-0.1051,-0.0111,-0.5598,0.3855,-0.2947,-1.024,1.069,-0.2062,0.3537,-0.7154,-0.1329,-0.2535,-2.184,-0.6442,-0.0425,-1.139,0.0106,0.4545,0.3613,-0.4156,0.1003,-0.804,0.4101,0.5193,0.3916,-0.2659,-0.6051,-3.58,0.0265,0.286,0.2403,-0.5114,0.0779,0.0222,0.9973,-0.3082,-0.063,0.0774,-0.446,-4.014,-0.2594,-4.063,0.294,-0.1253,0.9217,0.6802,0.655,-0.0936,-0.123,-0.4769,-0.8954,0.1565,0.1753,1.062,0.9027,0.3643,0.8099,0.5136,-0.3234,1.749,0.1592,-0.8235,-1.034,-0.0724,-0.1567,-0.9671,0.2165,0.0974,0.0179,-0.4758,0.4759,0.3146,-1.463,0.1911,-0.7594,-0.5653,0.0201,0.1651,-0.4148,0.624,-0.4566,0.429,-1.221,0.5486,0.1766,-0.0006,0.0338,0.07,1.57,1.195,-0.643,1.814,-9.697,0.4222,-0.4013,0.7345,0.5301,-0.2549,0.7268,-0.2014,-0.9409,0.4835,0.4286,-0.8154,-0.9331,-1.045,0.7484,-0.0158,-1.417,-1.356,0.1784,-0.3575,-0.3346,-0.4613,0.7589,-0.3799,0.0997,-9.198,-0.3516,0.6191,-1.336,-0.5028,-0.7817,-1.635,-0.388,1.048,1.145,-0.2609,0.4216,1.293,0.2628,0.4484,-1.832,-0.6407,0.4746,0.5178,-0.696,0.0546,0.2663,-0.3252,0.1039,-0.791,-0.3571,0.1142,0.2623,-0.3518,-0.3132,0.5436,0.2103,0.5243,0.2194,0.9301,0.1947,-6.786,0.2401,0.9679,-0.9787,1.727,-0.3644,-1.053,-0.6067,0.3295,-0.5301,-0.2444,1.288,-0.918,0.0852,0.1976,-0.1661,0.5027,-0.9508,-0.2089,-0.5734,0.2381,-0.7615,-1.195,-0.2603,1.076,-1.254,-0.2497,0.85,0.1729,0.1841,-1.189,-2.62,-0.0347,-7.005,-0.9571,-0.6306,0.6916,0.6583,0.0027,-0.4182,0.3422,0.0643,0.6219,0.6266,-0.2923,0.259,0.2753,0.049,-1.467,-0.5302,-0.212,0.1364,-0.1565,-0.1875,-0.2745,0.9915,-1.207,0.2996,0.7309,-0.7541,-0.066,0.0988,-0.1948,-0.3415,0.0086,-0.7614,-0.9193,0.0837,0.8959,0.0443,-0.665,-0.5353,0.3977,-0.2479,-0.624,0.7145,-0.0361,0.4608,0.775,-0.4091,-3.366,0.402,-0.2819,0.5649,-0.123,-1.661,0.0593,-0.5733,-0.69,0.7464,0.0418,-0.4003,-6.119,0.0347,0.3251,0.3406,-1.796,0.279,0.1649,0.4086,-1.213,-0.5396,0.129,0.2421,0.2982,-0.7865,1.557,0.729,-1.015,-0.6151,-0.5275,0.1116,-0.9323,0.9347,-0.1474,-1.148,0.1107,-0.7551,-0.7768,0.1847,-0.29,-0.1942,0.2745,-2.484,-0.5674,0.322,-0.2578,-0.2394,1.035,0.787,-0.5737,0.0728,-0.5692,-0.227,0.0222,0.2914,-0.6528,1.202,-0.2034,0.6303,1.092,0.286,0.0432,0.3423,-3.01,-1.331,0.0779,0.1651,0.738,-0.7809,-1.029,-1.958,-0.5629,0.1816,-1.117,0.3961,-0.1423,-0.3987,0.0,0.4187,-0.1322,-0.8856,-0.3493,-0.3914,0.8047,0.5622,0.1442,1.016,-0.9859,-0.0118,0.5301,0.2445,-2.518,0.2002,0.0752,0.4472,-1.1,-1.299,0.1644,-0.78,-0.3911,-0.2206,0.0043,0.5323,-0.534,0.1275,0.0,0.1459,0.0568,-0.0391,-0.0942,0.8695,0.612,-0.9837,-0.3471,0.5259,-0.5692,0.8762,-0.6371,0.3706,0.6141,-0.9336,-0.3535,0.5042,0.4184,-5.16,0.1556,-0.6846,1.389,1.139,-0.376,-0.9858,0.0388,0.474,-0.4438,-0.1269,-1.117,0.3114,1.035,0.3266,1.503,0.6368,0.7699,0.0324,-0.1614,-0.5878,-2.188,0.2672,-0.6084,0.999,0.4663,0.2999,0.3272,-9.671,-0.264,-0.7113,-0.7438,0.0242,-1.142,0.1675,0.3912,-0.4921,-0.55,0.8559,1.916,1.35,-0.2271,0.2868,-1.482,-1.656,-0.7305,-2.282,0.2819,0.6977,0.3345,-0.0392,0.5558,-0.2858,-0.0408,-0.3126,0.2587,-0.3885,0.0611,-0.7544,-0.4701,-0.4866,-0.5082,0.8917,0.3114,0.2175,-8.829,1.701,0.4746,-0.0034,0.2406,0.0829,-0.4294,-0.1283,-1.64,-0.3938,-0.1124,-0.6424,-0.1804,0.7479,-0.1342,0.4155,0.7309,-0.1326,0.4476,-0.0219,-3.928,-0.0476,-0.1544,-0.4681,0.0173,-0.2283,0.3709,-0.0066,0.5524,-1.387,-2.067,-0.3771,0.379,-2.058,1.071,-0.0263,0.2802,0.1694,0.3097,0.4026,-0.5882,0.0737,0.4121,0.0618,0.0639,-0.4225,-0.0232,-0.5254,0.5318,0.1165,-0.1551,-2.75,-3.515,0.0135,0.5119,-3.416,-0.3265,-0.3742,1.395,-0.8336,0.2626,0.187,-0.7273,-0.0793,0.389,-0.0217,0.2209,-0.9729,-0.2045,0.5332,0.3025,-0.1638,-7.772,-0.8615,1.423,0.4747,0.4586,-1.778,0.2154,-0.323,0.1065,-0.2057,1.481,0.37,-2.19,-0.0668,0.308,-1.614,1.603,0.4196,-1.262,-2.95,1.026,-0.4317,0.7875,-2.449,0.7342,-0.8716,-0.8219,-0.4458,0.6574,0.2535,-2.019,0.4529,0.9743,0.5987,0.5263,-0.5505,0.4284,-0.3474,-2.051,1.037,-0.9268,0.1433,-0.2637,-0.078,0.4293,-0.2279,0.3943,-0.9834,-0.2659,-0.5259,-0.0117,-1.018,-3.083,0.9682,0.0003,0.2266,1.273,0.577,0.4273,-0.2093,0.0844,0.137,-0.8608,0.2646,0.3724,-0.0006,0.7665,-0.3176,0.0221,-0.2907,0.4631,-0.3919,0.1651,0.4109,1.153,0.0291,-1.943,-0.177,1.398,0.2692,-1.046,-0.3452,-0.4744,0.0152,-1.128,0.3452,-1.346,-1.26,0.9165,-0.2313,0.2118,1.094,0.0,-0.4074,-4.116,0.6745,-0.9879,0.6839,0.1694,0.3678,-0.1242,2.776,-0.2454,0.0277,-1.495,-0.5191,0.0,0.0163,0.149,-1.041,0.4627,-0.1431,0.6434,0.4193,0.3002,0.0674,-3.924,0.6978,0.3224,0.63,1.315,0.2354,0.7737,-0.6045,-0.89,0.6219,0.8938,-0.2777,-1.889,0.2977,-0.0769,-1.237,-0.4963,-5.514,0.2157,0.7573,-0.0573,0.6016,0.1349,-1.692,-0.04,0.0061,0.5148,0.9409,-1.755,-1.088,-0.8286,0.7345,-9.212,-6.625,-0.539,0.3828,-0.2286,-0.397,-0.0169,-0.5261,1.281,0.1075,-1.675,-1.319,0.6037,-0.8697,-0.6233,-5.337,0.8224,0.5174,-0.3193,-1.182,1.181,0.2994,-0.4101,-0.359,-0.2786,-1.07,-0.2684,0.8548,0.7704,0.199,-0.0834,0.5791,1.161,0.355,-0.5282,0.4836,-0.3797,0.5729,0.4693,1.836,-0.0435,-0.452,-0.6138,-0.3729,-0.368,-0.9248,-0.1732,0.0056,-0.3032,0.4382,-0.1416,0.183,-0.5788,0.4519,0.1351,0.3203,-0.7236,-0.2772,-0.5912,0.372,1.15,0.1799,-0.5085,-1.215,-0.1343,0.4485,0.2084,-0.1516,-0.574,-0.3717,-0.9528,0.6155,-0.459,-0.5281,0.7365,-0.1912,-0.266,0.2264,0.8024,0.0339,0.274,0.255,1.381,0.4651,-0.8056,1.348,0.5108,1.999,1.185,-1.762,0.6216,-0.8467,0.8553,0.0347,0.2634,-0.0994,0.0352,-0.0097,0.4294,0.5763,0.7106,-0.8117,-5.151,-0.6642,0.7829,0.5278,0.4755,-0.3019,-0.3625,0.3726,0.2934,0.6449,0.7663,-0.4769,0.5062,-1.554,1.207,0.9622,-0.1958,-0.3805,-0.4216,0.429,1.094,-0.2131,-0.5759,0.5713,-0.0215,-1.004,0.6421,-1.916,0.1464,-1.467,0.6183,0.4974,-1.244,0.2636,-0.2057,0.3093,-1.947,0.9595,2.109,-0.8054,-0.2946,0.6534,0.6417,-0.2442,-1.436,-2.886,0.6583,-0.7134,0.5566,-0.0023,0.6007,-0.853,-0.667,-0.7423,0.496,-0.5009,-0.0543,0.0906,-0.2267,0.4638,-1.335,0.3509,-2.68,0.1033,-0.3065,-0.6868,-0.2242,0.4639,-0.3528,-0.5861,-0.7873,-0.877,-4.244,-1.729,-0.6831,-0.0951,-0.2648,-1.356,-0.2255,-0.5864,0.3313,-0.066,-1.294,1.177,0.224,-0.1942,-0.7701,-0.4351,-0.414,0.4134,-0.1806,0.5841,0.373,-0.2867,1.495,0.7237,-0.7663,0.0622,0.6461,-0.5659,-0.3346,-0.1816,-1.365,0.5406,-0.1086,0.1182,-2.255,-0.0387,0.2274,-0.2679,-0.6121,0.0819,-1.062,0.0084,-0.6406,0.364,0.0421,-1.117,-0.1477,-1.3,-1.538,0.5318,-0.0968,0.144,0.1356,0.8374,0.7248,0.094,-0.6595,0.3123,-0.2278,-0.7704,0.1784,-0.938,-0.5241,0.7678,0.0563,-0.0673,-0.5653,0.4822,-0.2835,-0.874,1.219,-0.7091,-0.1995,0.7534,0.5195,0.2466,-0.489,0.3046,-0.4101,-0.2644,-0.6043,-3.021,-0.6248,-0.1331,-2.428,-0.6,0.7509,-0.1531,0.0674,0.7585,1.031,-1.829,0.4839,-0.5109,-0.2106,-0.3074,0.0769,0.2546,0.2857,0.2588,-0.1913,0.4293,0.2993,-0.4451,-0.5683,-1.142,-0.4919,-0.0022,-1.874,-0.3497,0.468,-0.2093,0.1813,0.4055,0.2121,1.391,-1.626,-0.6813,0.0273,-0.0304,0.9057,0.2596,0.1206,0.8008,-1.007,1.582,0.3002,-1.614,-0.7197,-1.479,-1.094,-0.1324,0.3008,-0.2863,-0.2288,-0.4181,0.8954,0.5372,-0.9991,0.2402,0.559,-0.0466,0.8075,0.869,0.5673,0.774,0.4507,0.0098,0.1005,-0.9342,0.3261,0.8491,0.828,-1.632,-0.5981,0.0968,1.076,0.735,0.015,-0.0072,-0.4542,0.586,-0.6468,0.1097,0.5227,1.77,0.7665,-6.928,-0.0674,0.7416,0.2162,0.9859,-0.3042,0.2711,1.295,-0.8697,-0.7688,0.077,-0.7924,-0.419,-0.9572,-0.3048,-0.0384,0.2876,1.107,-1.717,0.5537,0.1096,0.0833,0.3881,0.0791,-0.1355,-0.6297,-0.8346,0.1666,-0.4656,0.6573,0.2239,0.2842,0.0,0.1305,0.091,0.6185,0.1713,1.188,-0.2302,-0.6385,1.318,-3.11,-0.197,-0.4412,0.1623,-1.265,0.2472,-1.023,-1.075,0.6908,-0.9251,-0.2228,-0.0743,-1.417,1.705,0.2002,-1.302,-0.4585,0.3133,0.257,-7.467,-0.9733,-0.6315,0.5538,0.1808,0.9242,-0.344,0.9698,-0.3251,-0.9911,0.3261,1.372,-0.4974,-1.967,2.425,0.5696,-0.785,0.3423,0.6414,-2.766,3.5,0.225,0.2256,0.5035,-0.1785,1.074,1.864,2.166,-2.009,0.4164,-0.0766,0.2219,-0.5684,-0.283,-0.2167,-4.141,0.0885,0.15,0.7161,0.656,-0.2344,-2.082,-0.903,-0.3217,-1.177,-0.2235,-0.3944,-0.8112,-1.067,1.31,-9.651,-0.7376,-0.1188,-0.6325,-0.5645,-0.4278,0.4059,0.8627,-0.1089,-0.9499,-0.6356,-0.1023,-0.197,0.1717,-1.088,-0.8758,0.2867,0.2659,0.2467,0.2041,-0.3103,-0.6064,0.2278,-0.7458,-0.1619,0.6002,0.286,-0.2855,0.8636,-0.6995,-0.7898,0.6946,0.3413,0.0623,0.3302,-0.4818,-0.2661,-1.252,-0.7618,0.5085,-0.7758,0.6022,0.2369,0.5382,-0.2135,-0.415,1.323,-0.2,0.4743,0.2275,0.1838,-2.02,-0.9564,-1.377,-0.2258,-0.9749,-0.4337,-0.4819,-0.243,-0.3088,0.6517,-0.0915,-0.3784,-0.7768,0.6148,0.1248,0.0587,-0.8684,0.5531,0.1981,0.5571,0.9412,1.201,0.8383,-0.2294,0.1505,0.3307,-5.177,0.0078,-0.4219,0.015,1.125,-1.473,-0.2133,0.0544,1.046,0.1262,0.1683,0.3273,0.6023,0.6192,0.6776,1.286,-0.0196,-0.4121,0.7743,0.0526,-1.442,-0.2627,-0.455,-1.252,-0.6741,0.2401,-0.3767,0.3534,0.4681,0.47,0.1409,-0.1933,-0.0682,0.3635,-0.2334,-0.3528,-1.203,0.6924,0.0003,1.193,-0.3953,-1.484,-0.631,-0.3987,-0.2802,0.0,2.391,0.6,-0.2775,0.335,1.323,-0.7894,-0.0832,-1.63,-3.073,-0.2044,-0.3158,-0.1278,0.012,-0.748,1.62,-0.3184,-3.07,-0.0481,-0.1939,-0.0655,0.1025,0.3693,0.0563,0.2287,-0.1936,0.2944,-1.22,0.5042,-0.7115,1.314,-0.3534,-0.7691,0.3181,0.3395,-0.6808,0.1311,1.461,-9.832,-0.4386,0.2317,0.8771,0.3965,0.3423,-0.0193,0.1838,0.0966,0.6745,1.386,0.0999,-9.378,-0.3521,-0.0932,-1.048,0.7873,0.2678,0.1059,0.4541,-0.5741,-0.5181,0.2694,0.3366,0.5529,-1.898,0.1801,0.3765,-0.2176,-0.3925,-0.4902,-1.357,-0.3963,-6.861,0.4778,-0.3669,-0.4446,-0.8808,0.3961,-0.5154,0.2878,0.2722,-0.805,-1.428,-4.744,-0.5005,0.5182,-0.0594,-0.0832,1.608,-0.7567,0.1898,0.9026,0.4681,-0.1847,-0.2504,0.9508,0.9857,-0.3649,0.4825,-0.1097,0.2624,0.9351,-1.586,0.4342,0.2375,1.321,-1.629,-0.4595,-0.0607,0.3882,0.4395,-0.4453,-0.6671,0.9426,0.9997,-1.904,0.215,0.6155,1.066,-0.6611,0.817,-0.3066,0.8837,0.9305,0.1857,0.0125,-0.0914,-1.445,-0.3865,0.0496,-0.833,0.3475,-0.5646,-0.6762,-0.1019,-0.3638,0.2312,-0.284,-0.6842,1.137,-0.0676,-0.2125,-0.6421,-1.564,0.8657,0.4336,0.6866,1.378,0.2255,-0.2551,-0.1813,-0.0434,0.2646,0.2155,0.5187,-1.73,0.2553,-0.0914,0.0328,-9.581,-0.6401,0.8179,-2.585,0.2145,0.4438,-0.7426,-0.0779,0.0331,0.5096,0.9732,0.8341,-1.401,-0.171,0.0624,-0.3254,0.5335,-0.3612,0.2333,-0.0714,-0.8227,0.0936,-2.647,-9.82,-0.4085,0.5146,-0.85,-0.2102,0.7669,0.3737,-0.4333,-0.9307,0.3053,0.8371,0.6737,-0.076,-1.036,-2.052,-0.9561,-0.3864,-0.2846,0.9526,-0.59,-0.1221,0.5741,-0.2812,-0.8033,-1.057,0.0803,-0.4949,0.0668,1.323,-1.994,0.2862,-0.2259,0.8492,0.4731,0.3986,-0.3666,0.5791,1.62,0.6679,0.3002,1.293,0.8862,-0.3654,0.4919,-1.97,-0.4597,-0.7301,0.3081,0.0321,-0.5335,0.5996,-0.8224,0.2279,0.5318,-0.2784,0.6705,0.5622,-0.4143,0.3142,-0.8487,1.586,0.1793,-0.2419,0.3741,0.1196,0.3751,0.2449,1.043,1.749,0.4657,0.1643,0.7932,-4.043,1.389,-0.1847,-0.2187,-0.3146,-0.086,-0.6777,1.057,-0.7592,-1.525,0.3579,0.0191,0.1128,0.8921,0.8836,-0.0294,0.4184,-0.7032,-0.9428,0.6195,0.0789,0.136,-0.996,-0.7129,-0.6033,0.5166,-9.328,-0.742,1.06,-0.1411,-2.215,-0.5282,0.2987,0.2653,-0.5777,-0.3086,0.0286,0.8957,-1.472,-0.5871,0.315,0.1683,-0.2404,0.3372,-0.1621,0.1495,0.4035,0.2447,-1.054,0.5745,-0.208,-1.113,0.0,0.5237,0.1628,-0.8582,0.3474,-0.8558,1.108,-0.2605,-0.2707,-0.4338,-0.2202,0.4746,-1.1,0.3288,-0.3264,-1.035,-0.4053,0.7158,-0.6215,-0.0089,-0.6239,0.3662,1.256,0.3216,-0.8835,1.628,0.0062,0.9335,0.3999,0.0997,0.2104,1.327,-0.234,-0.5005,-1.623,-2.036,-1.114,-0.4342,-0.274,-0.2155,1.937,0.8542,0.087,-0.913,0.1932,0.5892,-0.5871,1.154,-0.5123,-0.8552,0.9281,0.721,1.07,-0.1357,0.1234,0.4739,2.301,-0.0739,0.7261,-0.5433,0.2641,0.0,-0.8673,-0.1494,0.2592,-0.1902,0.6163,-0.7126,0.243,-7.658,0.9136,-0.8483,0.1551,-4.814,-5.018,3.5,0.1309,-0.2606,-0.4051,-0.014,0.8604,0.5865,0.2553,0.1128,0.2002,-0.073,0.0352,0.6284,-0.8687,-0.2854,-4.144,1.105,0.1069,-1.281,-0.0135,-0.0436,1.287,-0.0054,-4.796,0.302,0.3311,0.2204,0.3437,0.5019,-0.1145,-0.1374,0.3883,0.2747,0.1349,0.0049,-0.3839,0.3751,0.1357,-0.0585,1.071,-0.4623,-3.195,-0.0178,0.2443,-0.2911,1.467,0.6896,0.3812,-1.237,1.587,0.1327,-7.14,-0.2857,0.4701,-0.569,0.2605,0.4913,1.085,-0.4352,0.2152,-2.716,0.5063,-3.749,-0.4941,-1.849,-0.3565,-0.6231,-0.8652,-0.6071,0.4313,0.3174,0.9384,-0.8528,1.204,1.4,0.2479,1.58,0.097,0.529,0.0251,0.0066,0.3081,-0.1477,-0.1171,0.7781,-0.0146,-0.4151,-0.7659,-1.504,0.2572,-0.2503,0.7517,0.0613,0.2729,-0.2583,-0.3372,0.409,-0.5145,-0.6312,-1.218,0.9724,0.5332,-0.0502,-0.8091,-5.919,-1.809,0.3551,0.4305,0.2302,0.2217,0.7286,0.6163,0.432,-0.3155,-0.7485,0.3322,1.54,0.4913,-1.066,1.312,-0.0541,-0.2381,0.1674,-0.8268,0.3214,0.3979,0.915,0.6373,-0.1099,-0.1455,-0.0517,1.161,3.741,-0.6091,-2.301,-1.046,0.2044,-0.2067,-0.6289,-0.9461,0.0955,0.5526,-0.2328,0.2147,0.1779,0.2667,-0.3098,0.2784,-0.3254,-0.2097,0.8068,-3.074,0.8694,0.1073,-0.9597,0.2778,2.26,0.3311,-0.3212,-1.067,-0.4445,0.4934,-0.4276,0.2521,-1.738,-0.033,-0.1086,-0.3584,0.3488,0.4154,-1.142,1.091,-1.169,-0.0298,0.1204,1.387,0.651,0.6532,-1.778,0.3062,1.984,-0.1979,0.3109,0.4547,0.0644,-0.1379,0.4117,-1.316,0.8491,0.6555,-0.3372,0.7203,-0.4892,-0.4791,1.378,-1.047,-0.171,-1.609,-3.357,0.1061,0.4755,-0.2375,0.8356,0.6687,-0.7401,0.4427,-1.677,1.356,0.1073,1.2,0.5189,-0.1453,-1.296,0.4592,-0.8077,0.6029,-0.0742,-0.9262,-0.1524,-0.9969,0.0818,-0.1417,1.061,-0.6896,-1.689,-0.7032,-0.6285,0.0702,0.8795,0.3624,-0.432,-1.293,0.1705,-0.3167,0.1037,0.1852,-0.1232,0.4135,-0.632,-0.6351,-0.0966,-8.612,0.1915,-0.7934,0.387,0.2648,-0.8269,1.337,-0.7203,0.7405,-0.0948,0.311,-0.0833,-0.6044,0.3583,-0.5461,0.1767,0.5922,0.2671,0.2815,-0.1606,-0.1668,-1.131,-0.2704,-0.6941,0.394,-0.1781,0.7849,-0.0838,-0.7,-0.0497,-0.2578,0.314,0.6372,1.189,-0.8408,-2.129,-0.3875,0.2054,-0.3164,0.351,-1.298,-0.5283,0.8256,-0.4108,0.1639,1.128,-0.7147,-0.4187,-0.7209,0.0286,0.1004,0.9989,-0.6747,-0.341,-1.032,-1.12,-0.7434,-0.8781,0.0604,0.0259,-0.0086,0.3033,-0.4352,0.54,-1.101,0.2459,-0.3194,-0.2419,0.1849,0.5194,1.148,1.336,-0.156,0.529,-0.1503,-0.0495,-0.1674,0.3816,0.6344,0.0473,0.1015,0.1375,-0.3103,0.5159,1.037,-1.165,-0.1371,-0.4774,1.204,0.0257,0.5703,0.0766,-10.0,-0.6448,-0.1914,-0.0752,-0.9258,-0.2026,0.5342,-0.287,-0.892,0.0476,0.9807,1.067,-0.2247,-0.7674,1.661,-1.105,-0.3361,0.1206,-0.1942,-0.0175,0.0,0.5686,0.401,0.793,-0.4502,-1.737,-1.281,-0.1977,0.3616,0.8615,0.1589,-6.181,0.3175,-0.6745,0.0439,0.958,-5.046,-0.8337,0.4324,0.543,-0.7143,-0.72,-0.1602,0.3338,0.9117,-0.0672,-1.097,-0.1588,0.1208,0.1071,-0.6301,-0.6576,1.38,0.6745,0.1001,-2.749,-0.3932,-0.286,-2.359,-0.8799,0.832,0.8255,-0.4093,-0.5983,0.4101,1.556,0.7197,0.3936,-0.4599,-0.2991,0.6621,-0.2773,0.7627,-0.4244,-0.245,0.4013,1.11,-1.019,0.2959,-1.019,-0.4212,0.3865,1.053,-0.6022,0.1722,-0.7541,-0.4391,0.3693,0.6045,-0.6168,0.5763,-0.99,0.3515,0.029,-0.3495,-0.5177,1.306,0.9387,0.3781,-0.5519,-0.3031,-1.225,-0.4838,-1.721,-0.0293,-0.249,0.2555,0.7699,-0.9698,0.2401,0.1882,-2.749,-0.2192,0.4631,-0.4023,0.2691,-0.4972,0.9217,-0.7825,0.6108,-3.228,1.303,-1.921,0.0,-1.322,-1.133,0.6216,-0.5767,-0.3057,-1.469,-0.3669,-0.2166,2.364,-1.983,-0.1005,-0.9236,-0.0032,-1.626,-0.1239,1.119,-0.4341,2.198,0.0887,-0.0891,0.2508,0.7733,0.1203,0.6326,-10.0,-0.5733,-0.3667,-1.176,-1.267,0.6148,-1.27,-0.6551,-0.0914,0.8974,-1.08,-0.7201,0.2454,0.2066,-0.1069,-0.2303,0.2984,-0.8934,0.896,0.1247,-0.2013,0.8555,-1.51,-3.016,-0.2894,0.3277,-2.536,-0.7559,-0.0765,1.451,-0.3122,0.775,0.5017,-0.5695,0.5845,0.1881,-0.0162,-1.001,-0.098,0.495,0.4329,-0.116,0.2107,-0.352,0.5548,-0.0513,-1.427,0.649,-0.4888,1.038,-1.569,0.6399,0.014,0.646,-1.921,-0.5168,0.4466,0.7303,-1.51,0.2961,-0.2077,0.4608,-0.5558,0.0853,0.3273,0.2457,-0.4519,-0.0601,-0.1559,0.1455,1.507,0.0828,-0.1765,0.1356,0.3499,0.1536,0.0,-0.433,-0.4631,-0.5113,-0.0471,0.2502,-1.972,3.34,0.4859,-0.0408,0.5238,-0.4184,0.6924,0.1463,0.1787,0.3711,-0.3365,-1.084,-0.2371,0.332,0.0606,0.8561,0.6756,-0.3234,0.3099,0.1126,-1.004,0.2324,-0.0787,0.2078,0.1407,0.4713,-1.453,0.2867,0.0,-0.6757,1.062,0.7519,-0.8848,0.505,-1.159,0.6658,1.651,0.3232,0.0149,-0.3257,0.3835,0.55,-0.2599,0.0867,-0.5069,-1.132,0.4347,-0.0478,-1.594,1.113,-0.2782,0.5053,-0.7406,0.5595,-0.2887,0.0954,-0.8751,-0.7564,-0.4119,-0.004,0.5693,-0.6991,0.2093,0.5569,0.0907,1.37,0.3277,0.4104,0.3911,-0.0938,-10.0,0.7132,0.1066,-0.3598,-3.417,0.1154,-1.535,0.4086,-0.0097,0.6252,1.394,0.95,0.4232,-0.5487,-0.1174,-0.4049,-0.9613,-0.6989,-9.717,-0.7909,0.4739,-0.1052,-0.2879,2.14,0.3088,-0.957,-0.1121,1.767,0.3851,-0.1236,-1.366,0.0271,-0.1494,1.306,0.8225,0.1816,-0.0495,0.6111,-1.361,0.8005,0.2991,0.3543,0.0497,-0.8077,0.1089,-0.673,0.8614,0.2463,-0.5543,-0.6356,-0.8788,0.8367,1.478,-0.2749,0.0563,0.6402,1.241,-0.9455,1.036,-0.2654,2.437,1.027,-1.305,-0.0761,-0.4907,0.1516,0.1101,-0.6102,-0.5015,0.2337,0.1844,1.303,0.511,-0.0968,0.1531,-0.4798,-0.2472,-0.3697,0.3782,-0.6614,0.6919,0.7815,0.2037,0.9057,-0.8697,-0.7926,0.9203,-0.4088,0.1568,-2.028,-3.485,-0.9946,-0.6745,0.05,-0.2669,0.0418,-0.7726,-0.0766,-0.1477,0.2612,0.4611,-0.3221,0.144,-5.838,-1.348,-0.0958,0.1646,-0.0587,0.228,-0.1977,0.3156,-2.687,0.8414,0.5382,0.2285,0.8802,0.2612,-0.2634,-0.9436,1.958,0.5777,0.6945,0.1322,-0.8652,-0.4185,0.7092,0.5318,0.7259,-0.5048,1.562,0.2228,0.4833,-0.1831,0.1214,0.3785,0.7673,-0.4366,-0.3389,-0.528,1.051,0.4746,-0.3681,2.006,0.4859,0.1616,0.4,-0.1512,-2.055,-0.2727,1.084,-1.052,-0.2952,0.9099,-1.129,-0.9944,-0.6947,-0.0298,-0.4185,0.6429,1.634,-0.5622,-0.8669,-0.6611,-0.9807,-0.4201,-0.4636,0.2356,0.0644,-0.5662,0.7146,-0.6432,-0.8305,0.1951,0.3177,-1.177,0.6593,0.0435,0.4241,-0.5899,-0.623,0.5222,-0.9257,-0.0272,-0.3831,0.087,-1.098,-0.9454,-5.944,-0.4058,0.017,-4.31,-0.0489,-6.663,0.8295,0.0303,0.128,0.6532,-0.7614,-1.585,1.452,0.131,-0.2297,0.9011,-5.953,-0.3214,-0.2314,-0.6129,2.278,-0.1806,0.196,-0.0479,0.3654,-0.371,1.024,-1.326,-1.249,-0.0097,2.17,-0.5261,-0.3941,1.395,0.8453,-0.5248,0.1203,0.8442,-0.0024,0.3619,-0.9079,0.1305,0.2364,-2.781,-1.431,-0.702,0.037,1.479,-3.754,-0.1489,0.5373,0.2082,0.0408,0.1559,0.4007,-0.3211,0.1822,-2.283,-0.4216,0.0573,0.1231,-5.124,-0.8047,0.1593,-1.062,0.3754,0.1963,0.5024,-1.038,0.374,-1.561,0.0914,1.951,0.2819,0.7801,0.1193,0.2145,0.1297,0.3009,-0.1567,-0.8681,0.4076,0.2361,0.5289,0.4381,-0.613,1.522,-0.5692,0.8972,-0.9422,0.177,-4.269,1.908,0.355,-0.7837,-0.5612,-0.2262,0.5669,0.4741,-0.4032,-2.973,0.0779,1.068,-0.2232,0.2627,0.7294,0.7505,0.5089,0.2966,-0.4638,0.922,1.065,-0.1635,-0.4863,-1.94,-9.915,0.3622,-0.5851,0.2717,-0.0447,1.274,0.0733,-2.408,-0.0595,-1.377,0.752,0.19,1.174,1.212,-0.9318,0.5069,-0.3739,-0.4822,0.0214,-1.099,-0.8571,-0.4933,-0.8415,0.2508,0.5045,-0.3913,0.0155,0.3971,-2.733,0.5576,-0.7492,-0.5215,0.9429,-1.22,1.471,-1.536,0.3683,0.8081,0.7946,0.3067,-0.2678,1.649,-0.7659,0.6863,-0.2503,0.3372,0.5978,-0.87,-1.193,-0.7459,0.5049,0.2895,0.2476,-0.5254,-1.463,-0.0381,-0.2471,1.962,-0.4744,0.5588,1.187,1.022,0.361,-0.0897,1.462,0.9109,0.0278,-0.1756,-0.5976,0.7823,0.4546,-0.3356,-0.8921,0.2898,0.2374,0.3877,-0.0833,1.33,-0.6286,0.0248,-0.5753,0.6971,0.7291,-0.7226,-0.9057,0.5376,-0.779,-0.3399,0.3913,-0.4429,-0.1514,-0.2642,0.22,0.5984,-0.2512,0.5598,-1.042,0.0686,0.0674,-0.0914,-1.25,0.1039,0.0907,0.1801,0.4135,1.281,0.3564,0.2937,0.0843,0.0988,0.1112,0.911,-0.4552,-1.489,-1.058,-0.6606,2.316,-0.0289,-1.827,-0.145,0.331,-0.2876,0.7094,0.2088,-0.079,0.8407,-0.4585,-0.1694,0.0956,0.4295,-0.4384,-0.3389,-0.4654,0.5624,-0.2796,-1.439,0.4026,-0.9745,0.6188,-0.6793,-0.0638,0.6793,-8.278,-0.1982,-0.2589,0.0269,0.8546,0.1355,-0.0974,0.6533,-0.0769,-7.758,0.9422,-4.548,-1.07,-0.3769,-0.0225,0.0332,0.3332,-0.9639,0.5023,-1.32,-1.219,0.0452,-0.9428,0.8749,0.2296,-0.876,0.2654,0.7418,0.6045,0.5666,0.0201,1.194,-0.0239,1.267,0.1638,-1.924,1.191,-0.8358,-0.798,0.4246,-0.7709,-0.2467,1.1,1.563,-0.2854,-0.0901,1.195,0.2898,0.4608,0.8336,0.8138,-0.1681,-0.2873,-0.1316,0.1386,-0.0462,-0.1912,-0.6906,0.5831,-0.3376,0.0524,-0.0466,-1.029,0.2306,-0.0732,0.1357,0.3709,-2.407,0.1194,0.1974,-0.2456,0.7326,-0.4849,-0.7976,0.7403,0.0251,0.0954,1.493,-0.0588,0.5099,-0.2702,-0.803,0.0388,0.309,0.6025,0.6929,0.1047,-0.7494,-0.8534,-0.2799,0.0823,-0.341,-6.758,1.533,0.4766,-0.7725,-1.356,1.243,-1.771,-0.5062,0.2357,0.9161,-0.2733,-0.4326,0.002,0.0011,-3.706,0.3807,-0.5393,0.4757,1.563,-2.085,-0.3127,-1.465,-0.9816,-0.1959,0.3726,-0.7822,-0.5077,0.7301,-0.5753,1.711,-0.1788,0.7455,0.1672,-0.5886,-0.1767,0.2098,-0.5125,0.6546,-0.837,-0.5746,0.2826,0.1047,-1.975,0.063,0.3811,0.7736,0.3621,-0.4135,-0.9709,1.132,-0.6208,0.1258,-0.7003,-0.7686,1.903,0.261,0.012,-0.2137,0.8569,0.0,0.9883,1.162,0.0203,-0.1787,-0.042,-0.2726,-0.2607,-0.2925,0.073,-0.0563,0.3754,0.2855,-0.8116,-1.397,0.5803,0.5239,0.2705,0.4736,-0.2817,-0.1199,0.4958,-0.7225,0.0342,0.1227,-0.5985,0.8992,-0.1946,-0.0415,1.024,0.0342,1.526,0.3099,0.4897,-0.4337,-0.4054,0.5565,0.1619,0.885,-1.131,0.3629,-0.4809,0.6371,-0.2695,-0.9248,0.5561,0.122,-0.0597,0.3406,0.1374,-1.066,-0.826,-0.4459,-0.7109,0.6406,0.5331,-0.0384,-0.7161,0.835,-0.5537,-0.329,-0.5116,0.7555,-8.867,-0.1806,0.3212,1.368,0.8372,-0.071,-0.9051,-0.1003,-0.3132,-0.3514,-0.1629,0.9075,0.1389,-0.5321,0.2189,0.9877,-2.238,-1.284,0.5089,-1.541,-0.0878,0.4985,0.0138,-0.6941,-0.0659,-1.161,0.3324,-0.595,-0.6367,-0.7062,-0.7723,-0.9967,-1.873,0.1183,-0.5538,1.338,0.4246,0.9455,0.3369,0.6022,-0.8003,-0.3708,-0.265,-0.4349,-0.5459,-6.248,-0.5358,-1.676,1.903,0.1963,-0.7263,-0.6303,2.243,-1.844,0.2247,0.3675,0.2596,-0.1316,-0.0819,0.3079,0.6733,0.2844,-0.7217,0.2508,0.1197,-2.349,-0.1784,1.431,-0.0793,0.0068,0.777,-1.714,0.0362,1.134,-0.5165,0.443,-0.3477,0.2966,-0.0743,-0.2381,-0.0612,0.0476,0.3608,-0.3789,-0.3433,0.047,-0.0572,0.593,-0.3119,-0.0925,-0.7512,-0.4321,0.169,-0.0284,-0.9628,1.484,-0.3867,-0.5306,0.0401,-0.3149,-0.6485,0.2424,0.168,-0.8826,0.6694,-1.269,0.0971,-0.234,-0.1634,-0.195,-1.21,0.8148,0.3631,0.2634,-0.3211,0.5498,0.7048,-2.312,1.704,0.4996,-0.2394,0.2343,1.455,-0.5918,-0.5612,0.1925,0.9051,0.7244,-0.0549,-0.6185,-0.2799,0.8272,-0.5072,-3.588,0.4423,-0.0022,-0.2772,0.9401,-0.1073,0.2013,-0.6584,-1.262,0.8086,-1.582,1.77,-1.054,-10.0,-0.1912,0.0556,0.478,0.2657,0.0411,-2.178,0.2435,0.2394,-0.136,0.8835,-2.965,-0.2877,1.065,-0.506,-0.2094,-0.0907,0.0805,-1.777,0.2745,0.2797,-0.0549,-0.3478,-0.1764,-0.0539,0.0228,-0.4178,-0.8964,1.109,-0.4104,-0.088,-0.1722,-0.1838,0.6513,1.002,-0.1131,0.1808,-3.648,-0.002,-0.9431,-0.0879,1.717,0.0552,-0.5659,-0.2874,1.254,-9.021,-0.1452,-0.9794,0.6445,-0.3871,-0.1961,0.14,-0.2091,-1.285,1.201,-0.5264,-0.487,0.7527,-1.126,-6.279,0.7742,0.2157,-0.2211,0.4225,-0.61,0.5767,-0.018,0.3754,0.2908,0.2721,0.9301,0.1468,-0.038,0.2836,0.5231,0.1512,0.1268,-0.8295,-0.5668,0.7924,-0.7567,-2.106,-0.7609,0.8945,-1.477,1.509,0.8132,0.4488,-0.0135,-1.218,1.194,-0.1768,1.068,-0.6206,-0.2483,0.2435,-0.1225,-0.6912,0.999,1.328,-0.7736,-1.68,0.471,-0.189,-0.6707,0.228,0.3129,0.8505,-0.2688,0.1402,0.0541,-0.3294,0.0625,-0.614,-0.5541,-0.0173,-0.2163,0.1553,-0.6246,-0.1782,-2.43,0.3932,-0.4522,1.011,-1.585,-0.2631,0.2691,-1.752,0.0526,-0.1022,0.5383,0.0954,-1.181,0.7765,-0.8831,0.3246,0.924,0.1602,0.0049,0.5304,0.3231,-0.5509,0.8372,-0.1905,-1.504,1.276,0.5537,1.532,0.9939,0.2455,-0.1504,-1.35,-2.396,-0.3597,-0.6093,0.0553,-0.1432,-1.051,-0.4373,-0.8225,-3.055,0.221,0.1607,0.0882,1.194,0.1456,-1.044,-0.2493,0.0302,0.9449,-0.0849,-0.6689,-7.772,0.6846,1.905,0.1109,0.0406,0.3749,0.2557,0.6299,0.3685,0.6924,-0.3491,-3.636,-0.3504,-0.1254,0.6242,0.7932,-0.2391,0.0128,-0.0321,0.0189,0.5499,-1.009,0.7325,-1.225,0.7018,-0.3659,-0.3656,0.8434,0.3548,0.0867,-0.6812,2.071,-0.1687,-0.2659,0.4809,-0.8907,0.1639,-0.581,0.4193,0.1757,-0.8735,0.5868,-0.1042,-0.8142,0.3209,0.3384,-1.073,-0.3146,0.6932,1.628,-0.4482,0.1305,-0.6289,-1.341,2.743,0.4101,-0.0294,-0.4826,-7.337,0.671,-0.241,0.2342,-1.72,-0.1646,-0.5968,1.556,0.2051,0.3328,-1.691,-0.227,0.2236,0.7049,0.2011,-0.613,-0.4357,0.2311,-0.0711,-0.5462,0.214,-2.472,-0.2924,-0.317,0.7023,-0.5098,0.0644,-0.1804,0.3314,-0.3413,-0.3278,-1.009,-1.018,0.1215,0.9766,-1.099,-1.406,-0.8929,1.621,-0.3187,0.1362,0.1437,0.3015,0.0746,-0.1495,1.267,-0.2897,0.1888,0.3335,0.0629,-0.5777,-0.307,-0.0721,1.25,-1.438,0.1029,-0.7847,-0.9612,-0.3963,0.193,0.2927,0.3269,0.015,0.3481,-1.161,0.1467,-2.733,0.2875,-0.0862,0.3732,-0.9755,-8.026,-0.4196,-2.546,0.188,-0.2885,0.2065,-0.805,-0.1033,-1.117,-0.5767,-0.418,0.3287,0.1704,-0.936,0.4481,0.6653,0.3742,-0.2562,-0.0664,-0.5929,-0.127,-0.3047,0.3284,0.4337,0.5279,0.0464,-0.3575,-0.234,0.4878,-2.838,-0.3211,-0.7133,-0.4104,-1.3,0.7547,-0.2456,-0.801,0.3221,1.266,-0.2112,-0.8867,-0.5551,-0.263,-0.5962,-5.708,-0.5389,-0.9385,-0.7182,-1.096,0.0915,-0.6087,1.149,0.335,0.507,0.1434,-1.934,0.2074,-0.1838,-1.078,0.2594,-0.857,0.0,0.1512,-0.2562,-0.7518,0.3869,1.03,-0.6691,0.9844,-0.1008,0.1454,-0.4017,-0.2836,0.1757,0.376,1.241,1.022,0.3302,-0.4839,-1.176,0.6556,-0.193,-0.4886,0.5602,0.7618,0.5707,1.703,0.4299,0.6536,0.7318,0.2225,0.6219,0.054,-0.8604,0.1009,0.6798,0.0995,-0.9808,0.624,-1.064,-0.3052,0.7218,0.2894,-0.8157,-0.8439,0.0965,-0.0263,0.2042,-0.1112,0.0027,-1.302,0.0289,-0.6824,-0.6453,0.7382,0.4688,0.7703,-0.3045,0.6424,0.1612,0.8037,-0.2388,-0.4067,0.0544,-0.3541,0.8637,-0.0266,0.0788,-0.5066,-2.861,-0.6481,-0.5472,-2.569,0.2876,-0.1849,0.2126,0.4107,0.0146,-0.2536,0.2248,-0.0037,-0.0624,0.4379,0.4121,0.0105,0.5157,1.014,-0.8098,-1.171,1.354,0.302,-0.8734,0.2307,-1.502,0.7319,-0.1865,0.2178,-0.8609,1.35,0.1074,-0.2699,-0.3593,0.7674,0.0433,0.0948,0.1328,0.9282,0.1381,-0.9793,-0.3944,-0.3341,0.0,0.9474,-1.831,0.6721,-0.3667,-0.1512,-0.8996,-0.2528,0.4715,-0.2961,-0.1905,0.5805,0.7452,-1.012,-0.6865,-0.5807,-0.5055,0.867,-0.41,0.3216,0.4762,0.9272,-0.615,0.3038,-0.0565,0.2774,0.4873,-0.4604,-0.6772,-0.6988,0.1262,-4.64,2.649,0.8246,0.2239,-0.5504,-0.0954,-1.306,0.6539,-0.06,0.2978,0.5146,-0.5697,-0.5113,-0.4505,-0.2447,0.027,0.2169,0.3398,-1.56,-0.2403,-0.4836,0.7201,-0.8349,0.4224,-0.8708,-0.0658,-0.2234,0.5169,-0.0593,-0.9528,0.4723,0.343,-0.9106,1.122,-5.295,1.597,-0.2368,-0.1483,-0.0193,-0.4348,0.6381,0.2167,0.5436,0.985,-0.0251,0.9901,0.4327,-0.3027,0.5419,-0.2263,0.5567,0.7502,0.1809,-1.02,0.4395,-0.6716,-0.8795,-0.3486,0.4817,-0.0104,-0.9026,0.1863,0.8505,-0.2263,0.6111,0.4885,1.288,0.0237,0.6646,0.6779,-0.6087,-0.5119,0.4766,0.5033,0.2644,-0.3809,-0.1051,0.4229,0.726,-0.2469,0.4335,-0.6294,-0.2136,0.5966,-1.93,0.5016,0.5838,0.2745,-0.7241,-1.15,0.5128,-0.024,-0.4532,-2.488,-0.6546,-0.5241,0.5193,0.07,0.3477,0.8837,0.1845,-0.5879,-3.4,-0.3131,1.027,-0.832,-2.977,-0.5119,0.8832,0.0562,-0.4344,0.2887,0.2962,1.133,0.517,0.3823,0.5864,-0.6132,0.9427,0.2437,1.487,-2.254,-0.6928,0.7094,-0.9122,-0.3827,0.372,0.2286,1.863,-0.6278,0.4375,0.7418,-1.017,0.1963,0.2738,0.7228,-5.262,1.231,-0.7266,1.643,-0.0234,0.0654,0.8496,0.1547,-0.0283,0.544,0.1275,0.6057,-0.2181,-7.02,0.1133,1.013,-0.5605,-1.153,-0.5847,0.4323,0.5673,0.4259,0.649,-0.5753,0.2681,-0.1473,-0.0437,0.946,0.558,0.2824,-0.5763,0.5756,0.9161,-0.5848,0.3471,-0.6913,-1.022,0.4027,-0.1456,0.2304,-2.094,0.3528,-0.2382,-0.2298,0.0756,-3.97,-0.2199,-0.5822,0.0654,0.2979,-0.4051,0.2392,1.741,-1.055,0.4627,1.516,0.4217,-0.1248,0.3011,-0.6676,-0.0856,0.5908,0.8636,-3.849,0.4693,-0.256,0.1587,0.5899,-0.1144,-0.1696,-2.117,-0.1494,0.5451,0.5947,-0.7095,-0.1882,-0.4731,0.7897,-0.9746,0.1801,0.0,-1.897,0.177,-0.0595,-0.5695,-1.692,-0.0013,0.4087,-0.9265,0.7642,-0.1089,0.2135,0.0003,-0.4047,-0.3537,0.3148,1.084,-0.1848,0.9773,0.2891,0.2226,-0.921,0.5375,-0.2699,-0.2173,0.6836,-0.4164,-0.7365,-0.8338,-0.5077,0.6748,1.023,1.523,-0.5569,-0.3347,-0.3424,-0.5209,-1.533,-0.1612,0.0757,1.562,-4.615,-0.433,-0.396,0.0717,-0.4213,1.052,-7.608,-0.149,0.0544,0.177,0.4517,0.748,-0.2142,-0.4714,0.1898,0.2059,-0.6414,-0.8264,1.052,0.5482,0.7657,0.1407,0.0833,0.2014,0.6627,-0.3146,0.6427,0.5394,-0.4701,-0.8225,0.2012,0.4419,0.462,-0.414,-0.5125,0.2439,-1.427,-0.1512,-0.0479,-0.1141,0.409,0.1106,0.8238,0.2668,-0.6366,-0.1788,-0.9476,0.0531,-0.302,-0.1929,-1.531,0.2498,0.3083,0.7453,-1.148,0.3723,-1.072,0.3413,-1.155,1.814,-0.182,-1.952,-0.892,-0.5641,-0.4016,-1.066,0.5048,-0.33,0.7956,-0.5469,-1.28,0.6148,0.0573,1.096,-0.8225,-1.429,-0.8985,0.5516,0.4648,0.2661,-0.8817,0.9713,0.1403,0.7696,-0.5311,-0.2846,-1.469,-1.0,0.2937,-1.225,1.506,0.0198,-0.6672,-0.7885,0.251,0.0809,-2.369,-1.324,0.1564,-1.498,-0.2476,0.7787,-0.1805,-0.2758,-0.7506,1.393,0.5085,0.0457,-1.783,-0.3372,0.4121,0.5024,0.6317,0.3209,1.282,1.033,0.3382,0.4715,1.542,1.904,0.4371,0.0587,-0.4918,-0.1163,-0.7331,0.2285,-0.2936,-0.2485,-1.128,-0.2448,-0.3781,-0.9421,-1.517,0.5607,0.1406,0.3912,-0.5645,-0.461,0.1584,-0.5885,-0.3072,0.5548,-0.4818,0.567,-0.3723,0.6644,-1.16,0.4914,0.5241,-0.4464,0.491,-1.469,0.1732,-0.041,-0.1626,0.2164,1.335,-0.3268,-1.261,0.8678,0.6003,0.6737,-0.1787,1.154,1.428,0.4895,0.2014,-0.3025,-0.4619,1.037,0.0443,0.0671,0.1498,-0.2323,0.1442,0.4902,0.0721,-2.282,-0.1207,1.281,-0.5283,-0.0049,-0.4417,-0.0939,1.205,0.5193,0.7281,-0.2836,-0.199,-1.24,1.679,0.8922,0.0772,-1.127,0.0253,0.07,0.3629,0.5747,0.1013,0.5894,0.5033,-0.184,0.4298,-2.136,-0.2796,0.7526,2.462,0.2199,-0.6508,-0.7958,0.1403,0.0579,1.1,-0.7987,-0.1514,-0.3976,0.005,0.0854,0.0774,-0.1292,-1.102,0.2492,0.7069,0.352,-2.886,0.5452,-0.257,-0.0775,-0.8582,0.1331,0.4294,0.735,-2.126,0.4395,-6.678,0.332,-0.7964,-1.093,0.472,-0.8944,-0.7637,0.0442,0.5121,-0.7406,0.0684,0.6199,-1.035,1.285,-1.175,0.9159,-0.2597,-0.3672,-0.5705,-0.1171,0.3146,0.5178,-0.1045,0.7106,0.0486,-0.0578,-1.376,-0.4453,0.1498,-0.3356,-0.9099,0.3069,0.6931,0.4984,-1.016,-0.1796,0.8155,-0.0703,0.4942,-0.3452,0.5274,-0.2148,-0.5221,-0.0819,-0.2734,-0.4244,0.0699,1.2,1.11,-0.7096,0.3943,0.5021,-0.1485,0.0807,0.1112,0.5915,-0.7859,0.2718,0.3022,0.5504,0.0037,0.5868,0.0181,0.6455,0.2047,-0.7699,0.4365,-0.5874,-0.3116,-0.6388,0.2738,0.0764,0.7652,-0.2185,0.8231,-0.3424,-0.2774,-0.217,0.5321,0.1781,0.1032,-0.5335,0.4256,-1.24,1.197,-0.0975,1.736,-0.3063,-0.2623,-0.3949,-0.551,-0.4971,0.3744,-0.3759,0.8291,-0.0871,-0.7625,-0.692,-0.3194,0.2763,0.988,-0.8327,-1.305,2.134,-9.905,0.0481,0.2166,-0.5183,1.154,-0.5149,-0.3445,0.5072,-0.4678,0.3277,-0.5744,-0.647,1.115,-1.061,-0.4013,-1.93,-0.2238,-1.008,-0.1231,0.1564,0.8737,1.275,-0.0401,-0.2765,-0.8174,-0.5818,-0.059,2.211,0.9679,-0.5956,0.9532,1.102,-1.554,-0.5723,-0.2997,-0.1087,-0.288,-0.5877,-0.319,0.8437,0.0872,0.034,-0.8345,-0.2639,-0.0935,-2.35,0.5224,1.878,0.9047,-0.1859,0.9729,0.1242,-0.7418,1.378,-1.676,0.4395,0.2901,0.2938,0.145,-0.6246,-0.1544,0.8843,0.0,0.6172,0.7464,1.133,-1.407,0.0052,-0.2469,-0.9617,0.3372,0.0462,-0.3652,-0.3359,-0.0869,0.4696,-0.0267,-0.2019,0.0071,-0.5193,-0.1441,-0.9868,-0.7407,0.8944,-0.2732,0.252,0.0774,0.3408,0.1069,-0.6783,0.5087,-0.9663,-0.6174,-1.781,-0.5408,-0.3251,-0.1608,-0.1099,0.2369,-0.3313,-7.184,0.4164,-2.439,0.1684,-0.627,-0.0353,0.1747,0.8009,0.0276,-0.8301,-0.8852,0.0357,0.6577,-0.3536,0.0379,-1.605,0.1535,0.4667,-0.8828,-1.484,1.194,0.1623,0.7421,-0.6417,-0.3223,-0.6974,-0.1612,-1.177,0.29,-2.929,0.3089,-0.0828,0.2267,-0.6621,-1.479,0.1558,-0.5037,0.3993,1.148,-0.2504,-0.8754,-3.882,0.4121,-0.5259,-0.7139,-2.043,0.4335,0.8241,-0.4175,0.2123,-1.078,-1.035,-0.2431,-0.4963,-1.138,-0.3104,0.8583,-0.0204,-0.4304,-0.6385,-2.149,0.8131,0.1982,1.672,-0.3864,0.1211,0.7423,0.0517,-0.2416,-0.1162,-0.6205,0.1507,2.887,-0.3365,-0.3106,-0.2484,-0.7251,0.7247,0.3521,-0.4338,1.012,-0.7362,-2.571,1.083,-0.4643,0.3461,-0.0914,0.3558,0.3336,0.4648,0.5256,-0.6089,-0.0141,-0.8892,-0.6768,-0.5165,0.4337,0.3015,-0.4974,0.5494,-1.193,-0.8929,-0.0115,0.6353,-0.6725,-0.1359,0.2648,0.571,-0.2663,-0.1153,-0.5008,-0.2711,1.112,-0.5215,-0.1005,0.1226,0.4957,1.187,0.4087,-2.083,-0.6738,-0.2544,0.3846,-0.4914,-0.5684,0.2688,-0.1494,-0.3716,-0.2185,-6.473,0.3332,0.5526,-6.526,-6.169,-0.534,0.6675,-7.19,0.8808,-0.5487,-0.2757,-0.4567,-3.806,1.983,0.3949,-0.4068,0.3442,0.472,-0.0411,0.1924,0.5056,-0.1209,-0.795,1.0,-0.6738,-1.004,0.0476,-3.139,0.0775,0.5033,0.5107,-1.647,-0.8425,-0.1886,0.4719,1.373,1.327,-8.398,0.4358,-0.9737,-0.9516,0.1334,-0.3347,0.7099,0.9598,0.2165,0.4883,0.4033,0.6452,0.5242,-0.723,1.176,-0.6642,0.7557,0.1084,0.601,0.1219,0.5836,-1.746,0.0929,0.7985,0.3088,-0.0138,0.7666,-0.3611,-1.768,1.284,-0.1016,-0.9377,0.6571,-0.5615,-8.503,-0.3477,0.6852,-0.4505,0.1599,-0.8285,0.1857,-2.533,-0.3659,0.3145,0.4934,-0.5597,0.8952,-0.4168,0.2084,-0.3982,-0.9367,-0.0318,0.8947,0.5683,0.7193,0.5491,-0.575,-1.347,0.1985,-0.4472,1.663,-0.6796,-0.4918,-0.0344,0.94,0.4866,0.8992,1.442,-1.118,-0.3642,-0.2823,0.7569,-0.2613,0.808,-0.7365,-0.7569,0.2987,-1.74,-0.7168,-0.0718,-0.6767,0.9614,-1.013,-2.271,1.415,0.541,-0.2771,-1.92,-0.0799,1.071,0.3372,0.7703,0.3678,0.1828,0.5846,0.1459,0.0191,-0.8802,0.3963,-1.005,-0.2824,0.154,1.297,-0.4428,-1.509,0.2631,0.3181,0.0203,0.0324,-0.0593,-1.497,-0.1308,0.1186,-0.7332,-6.686,0.6499,0.0057,0.5436,0.752,-0.7724,-0.1411,-0.4873,-0.0793,-0.104,-0.7142,0.7773,-0.4146,0.7699,-0.6772,0.2503,-0.1587,0.5013,-0.4175,0.2364,-0.5005,-0.1019,-1.102,-1.005,-0.6155,0.4455,0.777,-0.2654,-0.0588,-0.6798,0.525,-0.3506,-0.7352,1.063,0.6399,-0.1708,-0.1299,-0.2216,0.4799,-0.0464,1.132,0.808,-0.4404,0.6743,-1.073,1.242,1.211,0.1498,-2.238,-1.701,-0.7197,-1.225,-1.506,-0.8389,0.4758,1.153,-0.2993,-0.4354,0.4343,-0.0664,-3.837,0.3509,0.6718,0.2065,0.1057,-0.4976,-0.5052,-0.7632,0.6619,0.4661,-9.442,0.5202,-0.072,-0.2308,-1.008,0.4293,-0.7131,1.372,0.2165,-0.5901,0.6015,0.2162,1.607,-0.0508,-0.5125,0.3872,0.5368,-0.6013,-0.0984,0.171,-2.727,0.3322,0.6398,-0.6347,0.1265,-0.4696,0.573,0.8977,-0.8427,-0.0969,0.1096,0.5658,-0.7142,-0.1609,0.214,0.0931,0.5025,-0.6971,0.1921,-0.0553,-0.6812,0.5578,-1.668,0.3075,-0.5963,-1.586,0.2456,0.3501,0.1344,-0.4526,0.0473,-0.6197,0.2729,1.252,0.0563,0.9095,-1.203,0.1983,0.6503,0.8489,-1.243,-0.2004,0.3946,0.0957,0.1147,-0.5308,2.289,-0.0391,0.3919,-0.2686,-2.873,1.687,-0.5061,-0.1876,-0.2284,1.012,0.8735,-0.6763,0.3183,-0.1261,-0.2271,0.1955,-0.6855,-1.077,-0.8808,-0.0911,-1.371,-3.885,-0.1843,-0.4128,-0.0776,0.8515,-0.2846,-1.065,-1.055,-0.0766,-2.695,-0.0481,-0.0233,1.944,-0.6299,0.6045,0.3514,-1.141,-0.5195,0.6115,1.385,1.398,1.128,0.3834,-2.323,0.3787,-0.9858,0.6144,0.3916,-0.4401,0.4425,-1.276,-0.2696,0.198,-0.1618,-1.754,-0.6195,-0.633,1.292,-0.197,0.7661,-1.207,-4.239,-2.179,0.0459,0.7093,-0.1454,-0.3132,0.3189,0.6667,0.5231,-0.7768,0.2276,0.0732,0.6054,-0.9202,0.3994,-0.2226,-0.7897,-0.7139,-0.9729,0.1496,-1.108,-0.3877,0.5483,0.3617,-2.637,-0.0294,-0.9398,-1.306,0.067,0.2945,-1.048,-0.035,-1.844,0.8694,0.1213,1.157,0.4661,-0.0213,0.8809,0.8475,-0.8287,-0.8202,0.5008,-10.0,-0.6593,-2.202,2.543,-0.3616,-0.0435,0.9376,-3.938,1.58,-0.0708,-0.6617,0.8896,-9.861,-0.1807,1.041,0.434,0.5908,-0.1494,-2.75,-0.023,-0.2181,-1.421,-0.5045,-0.6655,-0.208,0.0678,0.6224,-0.3341,0.4776,-0.5153,0.3912,-0.0391,-0.2608,0.92,-1.479,-1.653,0.9441,-0.6984,-0.2667,1.232,0.0966,0.2847,-1.022,0.2111,-0.8323,0.9514,-0.0823,-0.0251,-0.6008,-0.5594,-0.2317,0.1049,0.2386,0.3737,0.0312,0.7406,1.062,-0.3521,0.3201,0.4263,-0.1479,0.2747,-0.3627,-0.2258,-0.2027,-0.7778,0.1103,0.5868,0.4556,1.392,-0.2816,0.2395,-0.2061,-2.268,1.382,0.2801,-0.5967,-0.7519,0.2909,-0.9948,-0.6799,0.1904,0.0206,-0.0625,-0.7035,-0.6094,-0.8398,-0.2403,0.5436,0.434,-3.526,-2.564,0.1008,0.4941,-0.0887,-0.4475,-0.0282,1.161,-0.2096,-0.683,0.3891,-0.6247,-6.546,1.065,0.4351,1.667,0.0701,0.5852,0.7439,-0.304,0.3986,-1.058,1.243,-0.0543,0.2531,-0.3273,-0.4947,-0.5113,0.3535,0.1327,-0.2173,0.3659,-1.234,0.6141,0.123,0.0158,-0.3639,0.3447,0.4977,0.8276,-0.2145,-1.179,0.4569,-0.6426,0.5189,0.8029,0.8235,-0.0968,0.3322,-0.1464,-0.4384,-0.9869,0.5352,-0.8285,-0.9598,0.0857,0.3371,-1.114,0.5856,0.3372,0.0672,-0.546,0.4342,-0.4225,1.035,0.9892,-0.6503,-0.1574,0.4833,0.7287,0.3976,0.1045,-0.8658,-0.6136,-0.4641,0.0685,-1.268,-0.0474,0.9004,-0.412,-0.4257,-0.2908,0.2044,-1.9,1.019,-0.2493,-0.5721,1.28,0.0084,0.735,1.04,-0.4566,0.7053,0.1079,0.7196,0.4629,0.2054,-0.5785,-0.7052,-3.381,-0.4702,0.181,-0.9737,1.065,0.7372,0.0266,1.429,-0.4991,-1.903,-1.853,0.2928,-0.1833,0.1325,0.3691,-0.3438,-1.506,0.9998,-0.9546,0.1085,-0.7911,-4.915,0.201,0.8039,0.3881,-0.3443,0.7421,1.712,-0.5605,-0.8963,-1.052,0.0619,0.5751,-1.999,-0.1996,0.5758,-7.632,-0.0779,-0.8485,3.15,0.5062,0.0134,-1.417,0.4122,1.011,1.227,0.3037,-0.4337,-0.149,-0.6709,-0.2334,-0.5025,0.1082,-0.5762,-0.5753,-0.4907,0.0308,0.5804,-0.2201,0.6824,-0.8603,-0.3664,-0.4155,0.6318,0.5826,0.0088,1.481,0.9939,-0.9256,-1.082,0.355,-9.125,-0.5127,0.5472,-0.5321,0.2321,0.3166,-2.366,0.1015,0.4295,-0.1028,-0.0555,0.8214,0.8507,-1.391,-0.5534,-1.163,-0.4818,0.3504,0.457,0.2949,-0.2394,-2.77,-6.334,-0.3383,1.62,-0.3762,0.4339,0.4567,-0.3723,0.5978,0.332,0.0488,-1.009,0.2791,0.4179,-0.3266,-0.1365,-0.8829,-0.6405,0.1625,0.1086,0.4775,0.6636,0.0612,0.1389,1.731,-1.981,-0.6499,-9.442,-0.2911,-1.393,0.0091,1.233,0.1036,-4.347,-0.255,-1.491,-1.624,0.8917,-0.7443,-0.5224,-0.3999,-0.5834,1.431,0.9938,0.0324,0.0165,0.5199,-0.1612,-0.7606,-1.238,-0.0377,-0.6819,0.1851,-6.816,-0.5694,0.478,0.1326,-0.0678,-0.3932,0.8495,-0.589,1.522,-0.1445,0.3757,-0.3766,-0.3977,0.0282,0.4789,-0.9334,-0.7903,0.3462,0.2847,-0.0829,-0.5091,-0.154,0.3206,0.7803,-0.7976,-0.9143,0.8175,0.4314,0.8566,0.3109,0.0844,0.8645,-0.8471,-0.9103,-7.935,1.183,0.5501,0.3454,-0.0972,0.0982,-0.8215,-0.4051,-0.4979,0.6284,-0.2094,-0.3034,-0.9451,-0.7316,0.2175,-1.26,-0.6841,-0.0131,0.8282,-0.3353,0.8977,-0.374,0.8224,-0.9183,1.41,0.2343,-0.5502,0.2373,0.07,0.7283,1.254,0.3671,0.4341,0.2977,-1.784,0.4971,-1.073,-1.745,-5.033,-0.2884,0.3764,1.052,0.1315,-0.0803,0.8355,-0.2569,0.2522,-7.238,-0.1855,0.2307,-0.2472,0.3808,-0.0895,0.2481,0.1754,-0.2308,0.3286,0.1086,-1.973,0.5355,0.0803,-0.3103,-0.8943,-1.231,-0.1824,0.0086,0.5811,0.5211,-0.1708,0.3952,0.0295,0.2145,-0.3974,-0.5799,0.9119,1.408,-0.1295,-0.0138,-0.0942,0.7875,-1.449,-0.6616,-1.728,0.7962,0.0459,0.3297,0.3695,-4.648,-0.0643,0.1547,0.0028,-0.0474,0.3311,-0.0398,-0.1488,0.0067,-0.0991,0.0152,0.554,0.1395,0.1416,-0.6196,0.4016,0.3277,-1.826,0.2758,-0.289,-0.2334,-0.5173,-4.869,0.0584,0.1535,0.1617,0.1597,0.396,-0.0432,-0.8389,0.2598,0.5183,-0.9403,-0.0659,-0.1113,0.6854,0.0954,-0.0135,-1.75,-1.47,0.5064,-0.5107,-0.1076,-1.211,-1.113,-0.3681,-0.2825,0.3354,-0.4518,-0.4706,0.021,-0.3878,0.545,-0.3413,-0.6563,-0.394,-1.109,1.008,-0.4175,-0.2093,-0.4139,0.2817,0.4101,-0.3365,-0.775,0.5321,0.0,0.5025,-0.89,-0.3794,0.3548,-0.5831,0.0481,0.8012,0.9226,0.021,0.4144,-6.599,0.1861,-0.2079,-0.3221,-0.3664,-1.025,0.0785,0.6293,-0.4061,-0.3989,1.035,-0.6945,0.7878,1.222,-0.2434,0.3983,-0.8533,-0.8432,-0.6284,-0.7865,-2.936,0.4556,-0.7107,-9.139,-0.2386,0.9211,-1.065,-0.3984,1.174,-0.9911,-1.441,0.4615,-0.0877,-0.4268,1.123,0.001,0.3572,0.105,-1.149,-0.7199,-0.1157,-1.183,0.6201,-0.2327,-0.0111,0.9089,-0.243,2.291,0.221,0.2553,0.1051,0.6418,-0.6944,0.0401,-0.046,-0.0708,0.9144,-0.4489,0.4831,0.3474,0.9021,-0.0527,-0.2043,-0.0403,-0.4883,0.3844,1.094,0.0921,-1.017,0.1625,0.1771,0.3578,-1.24,-0.6926,-0.2193,-0.4137,0.3913,0.4158,0.1081,0.0529,-1.038,0.6705,-0.3902,0.3372,0.86,0.377,1.09,0.6773,0.4042,1.052,0.1253,-0.2079,-1.102,-0.9627,-1.801,-9.924,-3.729,0.1659,0.507,-0.3258,-0.8389,0.2023,1.649,-3.612,2.553,0.8242,-1.461,0.1729,-1.297,0.3892,1.431,1.013,0.936,0.511,0.5059,0.0,0.5953,0.6535,-0.7192,0.5813,-0.6055,-0.6385,0.6851,-0.0794,-0.5238,-0.3255,-0.4649,0.2898,-0.517,-0.6916,-0.4933,-0.5733,-0.197,0.2237,0.4637,0.8483,-0.7905,-0.0956,-1.345,0.4791,-0.2333,0.4976,-0.3231,1.142,-1.077,-0.922,1.421,0.1984,0.6133,-2.737,0.2607,-0.3941,1.352,0.2344,0.3639,-0.9433,-0.2684,-0.3612,-0.0812,-1.389,0.8561,0.1703,-1.026,0.8684,-1.393,0.712,0.3121,-0.152,0.5973,0.0053,-0.4112,0.0457,0.3083,-0.6286,0.934,0.0948,0.191,1.341,0.1509,0.553,-0.3805,-0.4656,1.085,-0.2422,-7.469,0.402,0.5743,0.4958,-0.8497,0.4689,-0.4003,0.4916,0.109,0.2303,-2.228,-0.6424,-0.0434,-0.5738,-1.258,0.273,0.1973,-0.5508,0.0428,0.2177,0.7654,-0.6836,0.0972,-0.1444,0.0175,-0.5028,1.023,0.171,-0.6617,-1.158,0.7146,-0.143,0.0017,0.2242,-0.5124,1.035,1.074,-0.5979,0.6949,0.903,-9.967,0.3348,0.7595,0.7834,-0.6188,0.3565,0.1963,-0.5076,-0.4607,0.228,0.8119,0.2474,0.6684,0.0469,-0.2483,-0.646,-0.1543,0.9499,-0.1786,0.0,-0.4204,-0.3191,0.8022,0.0638,0.732,-0.8324,0.861,-0.3126,0.211,-1.815,0.478,-1.009,0.3135,0.7305,0.0,0.1661,-0.0915,1.386,-0.3633,1.157,-0.2094,-0.7032,-0.5945,0.2016,0.4412,-0.5278,0.9779,-1.228,-2.186,-0.4694,-0.5524,0.4128,0.0775,-0.3731,0.0,-0.2255,1.104,-0.2122,-0.7093,0.5152,0.0832,0.1568,0.7113,-0.1632,-0.0984,0.5222,0.5437,-0.2546,-0.1479,-1.31,-0.8992,1.49,-8.34,0.1008,0.0873,0.2365,0.1929,0.005,1.462,0.5386,1.168,-2.592,-0.4132,0.318,1.39,-1.561,0.6665,-0.1308,-0.8757,0.1854,-0.3971,0.0859,0.4408,-0.3923,-1.837,-0.1122,0.4209,-0.6712,0.1065,0.1069,0.5978,-0.0466,0.3731,0.5801,0.3381,2.701,-1.208,-0.1752,0.7358,0.4391,-0.7292,-3.797,-0.1384,1.015,0.1593,-0.3592,0.3939,-0.422,-0.357,0.3372,-0.1901,0.5971,0.534,0.8923,0.1217,0.6906,0.2507,0.2757,-0.4449,-0.6397,0.6745,-0.8339,0.6603,0.3261,0.4284,0.6282,-6.804,0.8183,-0.3183,0.6556,-0.8254,0.229,-0.7628,0.6918,0.541,-1.101,-0.0641,0.3137,-2.544,-0.253,-0.093,0.031,0.1183,0.7787,-0.7275,0.9807,0.9656,-2.718,-0.3157,0.2675,-0.9701,0.0148,0.2317,0.6367,0.5258,0.3166,-0.1176,-0.9972,-0.2,0.7868,0.2131,0.6438,0.1543,-0.7254,-1.028,0.1377,0.7546,-0.5959,0.0344,-0.1047,1.284,1.449,-1.281,0.0,-0.8598,-0.5746,0.367,-0.5757,-0.1367,-2.98,-1.2,0.2132,-0.291,0.5357,0.6947,0.0734,-0.2087,0.4729,0.9049,-0.4782,0.5889,-0.8856,-1.427,0.4958,-0.0382,0.15,0.1446,0.7501,-0.1349,-0.6151,0.0057,0.3454,0.225,-0.0626,0.1204,-1.071,-0.9392,0.0056,0.4517,-0.2113,-0.2181,0.4561,-0.1757,0.5138,-0.1601,-0.8578,-1.06,-0.1573,-0.3646,-0.197,0.5921,-0.3251,0.0332,-0.0963,1.314,0.3314,-0.6978,-4.041,-0.2247,0.7332,0.2775,0.2087,0.1834,-0.5869,-1.227,-0.692,-0.9362,0.4903,-0.1623,0.3928,0.0434,-0.4408,1.144,-0.665,0.7291,-1.268,1.015,-0.3876,0.6459,-0.0295,-0.666,-0.5915,0.4642,0.4708,0.0268,-0.7875,0.5816,-0.7408,-0.9721,-0.3649,-0.5425,0.3826,-0.2448,0.5181,0.1609,2.385,0.0,-1.331,0.0289,0.0549,-0.4164,-0.1684,0.7028,0.0749,-0.1452,0.6183,0.0149,0.8758,-0.3372,-0.7092,0.1963,-0.0361,-1.186,-0.036,-1.262,0.7286,-0.3403,1.034,0.8214,-3.221,-0.372,-2.569,0.0164,-1.495,-0.056,-1.041,-0.0522,1.253,-0.0175,0.6823,0.4495,0.1924,0.0352,0.6208,-0.0512,-5.173,-0.6948,-0.3674,0.6593,-0.4227,0.3326,-0.5047,-0.3251,-0.4578,-0.4814,-1.621,0.5688,-0.9699,-0.6834,0.2081,-0.2521,-0.2248,-0.3855,0.1757,0.6524,0.7825,0.6974,-0.241,0.1676,0.2475,-1.262,-1.578,-0.0895,0.0271,-1.331,-1.63,0.6644,0.3824,-0.526,1.096,-0.4413,0.0932,-0.2718,-0.8904,0.1669,0.4442,0.1988,0.4,-1.632,-0.5447,-0.7136,0.5654,-0.646,0.0668,-1.059,1.522,0.5521,-2.343,0.4859,-1.157,-0.416,-0.8874,-0.0115,0.369,-0.4906,-0.8355,0.1634,0.0241,0.0672,0.1346,-0.6065,-1.189,-0.7825,1.023,1.306,-0.4139,-1.581,-0.7892,-1.372,-1.85,0.6429,-0.2069,0.9777,-5.131,0.4347,1.54,0.012,-0.0519,-0.3611,-0.2118,0.1861,0.0991,0.0921,-0.723,-0.5876,-0.3585,-0.6208,0.0013,1.536,0.3668,0.1981,0.6086,0.2745,-0.0561,1.323,-0.4897,0.5649,-0.3899,-0.2921,0.2311,-0.197,-1.051,-1.487,-0.1097,-0.5891,0.3579,-0.4456,1.36,0.0408,-0.1555,0.4441,-0.9061,0.6189,-0.1632,0.6596,-2.947,0.9749,-0.3858,-1.276,0.9219,-0.5605,-0.4517,-0.1136,-0.4417,0.5619,0.351,-0.8237,0.1901,-0.367,0.4631,1.137,-1.481,-0.4469,0.0883,0.2888,-0.2667,0.0812,1.12,-0.6367,-0.2481,1.095,-1.465,0.6441,-1.432,0.4834,-5.486,-0.5352,2.075,-0.7378,0.626,0.8684,-0.8835,0.3146,-0.9999,-0.3256,1.409,-3.8,-4.699,-0.1526,0.2475,-0.5389,-0.8856,0.3159,0.179,-0.5339,-0.2412,0.1511,-1.299,-0.268,-0.5323,0.0427,0.0146,0.3794,2.261,0.5241,0.5096,0.7842,-0.833,0.3498,-0.9212,-0.066,-0.5513,-5.448,-1.912,-0.8265,-0.4378,0.2653,1.889,-0.9149,-0.4986,0.7442,0.2553,1.382,0.1962,0.4877,0.3261,0.0204,-0.3476,-0.0321,-0.0169,0.8666,0.448,-0.7845,0.0907,-0.0364,-0.4817,-0.4445,-0.7754,-1.046,0.2164,-0.6413,-0.0669,1.483,-0.5194,-0.5273,-0.5702,-1.087,0.161,-1.52,0.2392,-2.263,-0.2307,0.017,-0.3983,0.0244,-0.7639,-1.805,0.2124,-0.3477,-0.1182,-0.4035,0.4435,0.3146,-0.377,-0.2046,-0.2227,0.8475,0.3773,-0.4541,0.1154,0.1969,0.9237,0.487,0.3666,0.0261,-0.3031,-0.7343,0.4931,0.5426,-0.8338,0.3059,-1.103,0.5791,-2.578,0.1678,-0.5763,0.9908,0.0501,-1.163,-0.0466,-1.376,-0.7667,1.022,0.6665,0.1599,-0.6046,-0.8706,1.013,0.2206,-0.7975,0.2868,-7.744,-0.9579,-1.074,0.0114,-1.009,0.3414,-0.1109,-1.958,-3.552,-0.1511,-0.561,0.2193,-0.7689,0.2772,0.7392,-0.8311,0.6913,-0.2916,-0.1634,-5.994,0.2366,-0.4888,-1.091,0.4361,0.0331,-0.8583,-0.2975,-0.7191,0.1452,-0.105,-0.4448,-1.482,0.2243,-0.5325,-0.5471,-1.276,1.091,-0.05,-1.188,1.481,0.4599,0.1649,0.7106,0.0273,0.0413,0.0,0.3406,0.142,-0.2472,-0.5317,-1.304,-0.4519,0.0738,-0.6585,0.2661,0.4128,-0.275,-0.222,0.0286,-1.325,1.608,-0.6587,0.4284,1.035,0.6188,-0.2239,-0.3019,0.6316,-0.3461,-3.279,-0.0271,-0.2724,-0.7922,0.8948,0.3628,-0.5315,-0.7258,-0.3257,0.337,0.5674,-0.2262,-0.2878,-0.8668,2.695,-0.0727,-2.026,-0.3757,0.3554,0.4369,-1.188,-0.8142,0.2492,-0.3584,-0.601,0.0305,-0.812,0.1734,-0.7709,0.5234,0.0332,-0.0549,1.46,-0.702,-1.49,0.0579,-0.1745,0.8549,0.0244,0.2153,-0.0809,1.255,0.203,0.2865,0.1524,0.9035,0.0233,-7.027,-1.543,0.12,0.8785,-1.032,-0.6811,-0.5849,0.7304,0.2514,1.11,-0.1847,0.015,0.3557,1.22,-0.5827,-0.2848,1.552,-0.1757,1.289,-0.7213,0.7737,0.7524,-0.6791,-0.1275,-1.377,0.7625,-0.0418,-0.5515,0.8842,1.648,0.809,-0.2267,-0.9043,0.0,0.3298,-0.1939,-0.638,2.072,-0.4509,0.1429,-0.1629,-0.2936,-0.6785,-0.5908,0.1932,-0.446,1.061,-0.2499,-0.0716,0.3302,0.6148,-0.1593,-0.6627,0.3565,0.0813,-0.4897,-0.2507,-0.4719,-0.9996,0.6044,0.2157,0.091,-0.076,0.3472,0.0722,1.043,-1.513,0.4496,0.1691,-0.2137,0.3888,0.7408,0.4094,-0.3332,-0.5896,0.0106,-1.296,0.8666,-0.4398,0.2607,-1.303,-0.4097,-0.7159,0.2938,1.197,-0.0992,-0.7355,0.2263,-2.928,-0.0522,-0.9586,0.9379,-1.042,0.9912,1.148,0.1084,0.5732,0.6551,-0.424,1.132,-0.0442,0.1249,0.066,-0.5895,0.9367,-2.595,-0.5136,-0.6607,-0.6047,-0.2503,0.7158,-1.472,-0.6439,0.7042,0.5602,0.0213,0.1197,-0.7622,-1.577,-1.17,0.4237,0.3312,0.7655,-0.9704,0.2239,-0.5316,-0.6183,0.4581,-0.2731,-2.275,-0.2133,0.4735,0.0688,0.6914,-0.514,-0.4566,-7.754,0.8194,0.7402,0.0646,-0.6386,-0.4738,1.546,-0.1922,1.219,-0.0254,-0.2255,-0.2145,1.055,0.4325,1.221,-2.873,0.7315,0.4077,0.1947,-1.409,-0.1097,-0.2643,-1.663,-0.521,0.9895,-0.6364,-0.7441,0.4665,-0.5652,-0.5979,0.5838,0.733,-2.205,0.2114,-0.7609,0.8131,0.3494,0.3253,-1.11,-0.2921,-0.0708,0.507,-1.054,-0.2126,0.1549,0.2883,-0.9689,-0.2401,0.5753,0.4067,0.4193,1.184,-1.253,-0.2591,1.036,-0.6486,0.4836,0.7564,-0.2681,-6.302,-0.5474,0.5938,0.1299,0.608,-3.032,0.0347,2.067,-0.7266,0.2896,0.4354,0.511,-0.4476,-1.26,-0.6558,0.4139,0.4639,0.712,0.4451,-0.5829,-0.6856,-0.0534,2.014,0.005,0.5476,-1.047,0.2829,0.858,-0.1547,-0.3846,0.2876,-0.1923,0.1291,0.0358,-0.9699,-0.4891,-0.5723,-0.0064,-0.4132,0.6374,0.3288,-0.2633,0.0626,-0.6415,-0.2208,-0.8522,-1.143,-0.0089,-0.3231,0.4382,-1.606,-0.4144,-0.9868,-1.462,1.468,0.2952,-1.388,0.4929,-0.248,0.3869,-1.326,0.5312,1.271,0.609,0.8449,-3.24,-9.581,1.338,-0.4998,0.2031,0.7607,0.9088,-0.7925,-0.111,0.5289,0.7555,-0.3464,0.37,-0.3167,-0.2983,-0.2716,0.376,0.966,0.1291,0.6904,-0.7918,-0.4752,1.009,-0.489,-0.3748,0.6233,-0.8608,0.1275,0.5479,-0.1865,0.4126,-0.3213,0.2001,-0.347,-5.272,-0.2265,-0.3684,-0.1943,-0.2616,-0.4929,2.984,-0.4442,0.0032,0.0789,-0.7404,1.063,1.24,0.1251,0.2789,-0.0421,-1.612,0.6036,0.4721,1.706,0.9231,0.0359,-0.431,-0.2173,-0.2713,-0.3914,0.4561,0.8248,-1.21,0.101,1.465,-0.6298,0.4388,-0.7094,0.4229,0.0563,-0.9342,0.2241,0.3372,-0.5831,0.7189,-6.128,-1.846,-1.127,-0.3905,0.3844,0.1363,0.1488,-0.8295,0.3502,-0.6798,-1.482,0.519,-0.1911,0.7508,-0.1684,-0.1142,-0.4755,1.554,1.558,0.247,1.05,0.511,0.4753,-1.215,-0.0506,1.671,-0.2924,0.2591,-0.6057,-0.3372,0.4612,0.176,0.2898,0.2629,-0.1086,-0.6909,-0.3671,0.6206,-0.8488,-0.4391,0.5285,-0.3642,-0.5204,0.0646,0.3663,-0.2938,-1.078,0.1417,0.0734,0.2663,1.383,0.8188,-0.7803,0.5547,-0.712,-1.345,-1.098,-0.619,-0.3302,-0.3467,0.0,0.2711,0.5406,0.7055,-0.4466,0.1592,-0.7491,-1.234,-0.673,-1.735,-0.1736,1.001,0.1754,0.5879,0.5706,0.946,-4.942,0.5229,1.086,-1.172,-2.235,-0.6876,-0.5914,-0.2336,0.4946,-0.2941,0.6452,0.6922,-1.149,-0.4178,0.5011,-0.0671,-0.2448,-0.6315,0.3545,0.2842,0.5067,1.837,-0.4523,-0.7736,-0.439,0.0,0.2553,0.6114,0.9039,0.1058,0.1287,-0.4379,0.1824,-0.1026,1.364,-3.241,-0.8776,-0.0381,-0.0704,-0.2628,-0.2522,-0.5419,0.0862,0.5731,-0.482,0.3684,-0.2344,-0.1183,0.6967,0.477,-0.5728,2.242,-0.2183,-0.9072,-2.109,-4.27,-1.136,-0.2393,-0.3105,-1.316,0.3946,-0.5659,0.2703,-0.3196,0.057,-1.885,-1.106,0.2526,0.3497,0.5446,-0.0774,-2.672,-0.6129,-0.1346,0.3055,-0.5195,-1.244,-0.1817,1.052,-0.9233,-0.0172,0.3372,-0.3065,-0.2111,-0.4145,0.1215,-0.649,0.5499,-1.167,-0.2313,0.8673,0.6809,-0.8103,2.338,-0.3878,0.8148,0.1373,-0.0077,-1.068,-1.562,-0.3088,-0.2718,0.0068,0.4125,0.2639,0.1788,-0.3963,1.348,0.5694,1.008,-9.452,0.4647,-0.3971,0.9998,-0.4421,1.28,-0.4395,0.6885,-0.7488,-1.218,-0.182,-0.1802,-1.014,-0.0958,0.0347,-0.186,-0.0578,-0.2558,-0.5858,0.1276,-0.4355,0.7442,0.1154,0.4535,0.2836,-0.0428,0.6636,0.4382,-1.097,0.8192,-0.1362,0.9726,-0.8414,-0.7394,0.1332,0.7869,-0.7192,0.0067,-0.3126,-0.2878,-0.8657,0.4475,-0.9143,1.404,0.1777,-0.7515,-0.5717,-1.581,1.291,-0.8274,-0.6461,0.5555,-0.4323,-0.31,-0.5545,0.2715,0.0,-0.7314,0.5831,-0.7655,0.2536,-1.211,1.093,1.361,0.316,0.4631,0.0,-0.5638,0.1521,-0.8472,-0.0343,0.9309,0.0715,0.2346,-0.3033,-0.3561,-7.68,0.2765,0.3062,0.0661,-0.433,0.2509,-0.9055,-0.714,0.4094,0.577,0.8475,-3.333,1.11,-1.19,-0.0838,0.0213,0.0006,-0.0226,-0.3029,-8.412,-1.582,-0.4544,-0.6231,0.4231,0.7484,0.3717,0.5263,-0.0071,-0.2559,-0.5653,-0.7465,-0.9205,-1.85,-0.581,0.924,-0.501,-0.3058,0.137,-0.0938,0.5192,0.5923,0.225,-0.738,-2.604,-2.167,0.8707,-1.246,0.1842,0.9272,-0.8111,-0.0897,0.0293,0.5317,0.7564,0.2491,-0.0785,0.0495,-0.1599,-0.5119,0.1208,-4.924,-1.362,1.202,-0.8938,1.181,-7.148,0.3194,0.6614,0.1846,-0.4726,-1.026,-1.146,1.313,-1.652,-4.821,-0.5599,-1.332,0.9399,-0.2148,0.1041,0.4125,-0.1459,-0.4801,-0.255,0.6212,0.7243,-0.2928,-0.0406,0.627,-0.9553,-0.4354,0.8277,-0.5759,-1.525,0.7237,-0.4299,-0.0547,0.1108,0.0197,-0.2883,0.27,0.2501,-2.309,-0.5552,-3.829,1.789,0.0641,-0.0832,-0.3569,-3.705,-0.8419,-0.055,0.0519,-0.19,-0.1574,0.2345,-5.017,0.5005,-0.2106,-0.202,1.038,0.5363,-1.88,-0.0989,-1.034,0.1659,-0.1242,-0.2569,-0.0382,-0.4462,-0.5129,0.6926,-0.1282,1.417,2.212,0.3345,0.6435,0.995,-0.3649,0.4589,0.0503,0.2759,0.9885,0.3638,0.4789,-0.0048,0.2564,0.0347,1.867,-0.5954,-1.612,-0.4911,0.3372,0.4129,-0.0991,0.6648,0.1563,0.8068,0.1168,-0.1503,-1.151,-0.2873,-0.7546,0.4424,0.5874,-0.1075,0.144,-0.1913,0.349,0.6665,-0.0493,-0.6389,0.6659,0.1948,-1.244,-0.0316,-0.0172,0.402,0.0915,1.016,-0.1292,1.39,-0.4898,0.1515,-0.5203,1.371,-0.026,-0.879,0.4026,-1.082,0.6737,0.6935,0.3627,-0.3372,-0.4283,0.1062,0.3697,0.7665,-0.2624,-0.8564,0.7238,-0.9236,-2.679,-0.5709,2.102,-0.0935,-0.7158,0.2549,-0.3222,0.1043,0.9568,0.1686,0.8421,0.1061,0.6148,0.1809,0.7014,-1.901,-0.2665,-3.84,-0.0644,-0.3245,-0.5988,1.252,-0.0795,0.4512,-0.4808,0.4799,-0.2777,0.1198,-1.072,0.774,0.6909,1.321,0.2273,-1.225,0.4496,-0.0939,0.3372,0.0013,-5.763,0.6745,-0.263,-0.6789,0.0725,0.377,0.3851,-0.1824,1.656,-0.7363,0.6337,-1.006,-0.4025,-1.013,0.1327,1.065,0.6854,-1.259,-0.7743,0.2666,0.1086,-1.131,0.0732,-0.4007,0.0254,0.7193,0.6212,0.1797,0.1606,-1.117,1.133,-0.6826,-0.9109,0.6141,-0.6136,-1.007,-0.1765,-3.231,0.4743,-0.9593,0.5369,1.271,-0.265,0.3834,-0.3502,-0.1654,-0.4685,-0.0622,-0.607,-0.0152,-0.7759,0.5551,-0.0722,0.0401,-0.4732,-0.2997,1.628,0.0383,-0.3278,-0.888,0.3063,1.2,0.5199,0.1153,-0.604,2.132,-0.6826,-0.0425,0.3882,-0.346,0.1822,1.126,-0.5214,0.3931,-1.486,0.1967,0.3867,-0.8117,-0.3949,0.0503,1.0,1.456,0.4766,-2.142,-1.055,0.7325,0.7269,0.1231,-0.5843,0.7538,-0.3221,0.9717,-1.21,1.159,1.826,-0.1565,0.6969,-0.6694,0.1197,0.6982,-0.5792,-0.1182,-0.7054,-0.3768,-0.7512,-0.2958,-0.8835,0.387,0.0697,0.3582,-2.989,-0.2688,0.3585,0.0187,0.7457,-1.257,-0.1035,-0.7711,0.3293,0.9657,0.1352,0.2293,0.0149,0.3131,0.3921,-0.3158,0.1744,1.001,0.6325,0.063,-1.297,-1.475,0.3007,0.6849,0.1744,0.2317,-0.0508,-0.1809,0.3521,0.1344,0.8336,0.2439,0.5125,-0.9233,0.6596,1.595,-0.5587,0.2423,0.1004,-0.4477,0.7955,-0.5477,0.6163,-0.0373,0.0778,0.854,-0.2336,-0.8019,0.2376,0.524,-0.4342,0.3474,-0.3256,0.5737,0.0282,-0.2589,-1.481,0.5272,0.3547,-1.341,-0.4885,-0.4071,-0.0239,0.0059,-0.5875,-0.2433,0.0305,-6.181,-1.343,1.334,-0.4924,-0.4444,-0.7961,-0.7889,-0.3433,0.9039,0.1821,-0.1383,0.5357,0.6172,0.2134,0.8942,-0.3724,0.2718,0.5868,0.5265,0.3565,0.7696,0.7565,-1.069,-0.1032,-0.0398,0.0018,-2.07,-0.1998,0.2412,0.4981,0.227,0.1019,0.754,-0.9571,0.6429,1.045,0.6739,0.1942,0.924,-1.391,-0.0619,-1.238,0.0477,-1.375,1.381,0.2263,0.4347,0.2663,1.054,0.649,0.7025,-0.51,0.2794,0.8455,0.0853,-0.8052,-0.142,-7.023,-0.8065,0.3046,0.5462,-0.8397,0.5853,-0.2434,-0.9879,0.897,-0.2435,0.288,-0.5386,-0.2241,-0.5933,-0.8835,0.2818,0.4608,-0.6448,0.0597,0.5643,-1.68,-1.263,-1.392,0.6806,-0.0723,-0.5712,-0.605,0.303,0.2414,0.3521,-0.124,-0.2323,-1.234,0.5136,-0.0567,0.1605,0.8983,0.8913,0.1305,0.8493,0.1099,-0.3757,-0.0092,0.4447,-0.1912,-0.3104,-0.4533,-2.346,0.8684,-0.0464,0.8218,0.4682,-0.0044,-0.5767,-0.0106,-0.0135,0.9437,0.0655,-1.186,-1.448,1.621,-0.9214,0.1213,-0.4418,0.2657,-0.1923,0.2756,0.4083,1.12,0.372,-0.3099,-1.219,-0.9626,-1.459,0.4294,-1.398,0.2369,-0.7038,0.1757,0.3671,-1.031,-0.0692,-0.0713,-0.3556,1.431,-0.3009,-0.5246,1.162,0.3558,-1.03,-0.4071,-1.082,-0.7983,-0.7393,-3.318,0.2383,0.4575,-5.544,-0.8126,0.5354,0.707,0.5676,0.1086,0.3612,-0.7702,-0.5834,-0.4437,0.0566,-0.6179,-0.3372,-0.1247,-1.331,0.538,-1.291,0.2903,0.4939,0.1453,0.2765,-0.215,0.5777,0.9743,-0.5013,-0.8247,0.3986,0.5504,0.2543,-0.1318,0.1537,0.0481,-0.1605,-0.2549,-1.684,-0.3686,-0.017,-0.7038,-0.7152,0.24,-0.7095,-0.9145,-1.295,0.4505,-2.184,-0.918,-0.0449,0.5899,0.0154,0.8647,-0.1609,-1.836,0.311,0.0364,-0.8399,-4.764,0.1568,-1.045,0.3043,-0.2836,-0.4799,0.1143,-2.193,0.2546,-0.1308,1.089,-0.4223,-0.4882,0.5465,-0.7314,-0.9574,0.1805,0.3372,-0.416,-0.0092,-0.5173,0.0383,0.6699,-0.3607,0.0756,-0.1398,-0.3584,0.5723,-2.343,-0.7027,0.1716,2.028,0.2988,-0.0512,-0.225,1.169,0.5836,-0.1011,0.1544,-0.3642,0.7746,0.4756,-1.13,-0.3643,-0.1937,0.486,0.3769,-1.729,0.1376,-3.599,-0.0304,-1.312,-1.123,0.0669,0.8381,-0.3172,0.2105,-1.079,1.039,2.082,0.6344,0.2878,-1.222,-0.3189,0.1059,0.3772,0.6388,-0.8832,-0.2311,-1.493,0.145,-1.131,0.2127,-0.3047,0.6021,0.6458,-0.7508,0.5386,-0.3728,1.065,-0.1443,0.3993,-1.232,0.1254,0.0902,-1.062,0.224,-0.3526,-5.579,-0.6431,0.6752,0.3117,-1.339,-0.1877,-0.0786,-0.8285,0.0274,1.074,0.5483,-0.28,0.2549,0.1112,-8.142,-1.066,-0.3665,-0.0147,-1.155,0.1955,0.3622,-0.3438,-2.03,0.7615,-0.1761,1.292,0.3052,0.3317,1.292,0.7973,1.076,0.6972,-2.338,-0.6362,-5.056,1.499,-0.147,-0.33,0.3558,0.3261,-0.0144,0.4284,-0.2133,0.4474,0.9035,0.5033,0.3622,-0.5836,0.7523,-0.4507,0.8748,-0.6563,0.025,-0.2276,-0.1535,-0.6032,-1.405,0.3376,-0.6043,-0.7386,-0.6745,-0.3614,0.3039,-0.6308,-2.774,0.9686,-0.7021,-0.7876,0.046,0.508,-0.5038,-0.9871,1.406,-0.7923,-1.366,-0.9545,0.4273,-0.1465,-0.5194,1.374,-0.1032,0.649,0.1503,0.0272,-0.3752,-0.3214,-1.007,-1.916,0.3295,-0.8007,0.1942,0.4644,0.5386,-0.0346,0.1622,0.6517,0.471,0.0288,-0.9596,-1.28,1.954,-0.5263,-0.2427,0.142,0.3533,-0.7711,-0.1585,-0.0406,0.2993,0.2302,0.3228,0.5036,1.203,-0.0094,0.1225,0.2124,-4.275,0.0727,1.128,-0.6079,0.1033,0.878,-0.8314,1.184,0.6135,1.079,-0.3292,0.688,1.363,-1.861,-0.0717,-0.0844,-1.55,0.6151,-1.197,0.2681,-0.0466,0.5468,-0.607,-0.9612,0.3546,-0.1609,-3.013,-1.214,0.0356,1.474,-0.3661,1.463,0.9262,-0.2941,0.9347,-0.2257,-1.597,1.073,-0.3453,0.0664,-0.7676,0.0226,0.4057,0.0687,1.03,0.2853,-0.2708,0.4089,-1.081,-0.3777,0.7824,-0.3773,-1.061,0.4284,-0.631,0.3242,0.4171,0.3372,-8.527,-5.858,-0.0037,-0.6015,-0.2226,-0.1543,0.2201,-0.2426,1.534,-0.3126,1.039,0.0675,0.1932,0.0319,0.5699,0.3002,1.137,-0.1946,1.248,1.943,-0.216,-3.044,0.1376,-0.6953,-0.5704,0.1056,0.4091,0.7487,0.2762,0.0268,0.5558,-0.0534,-0.494,0.2508,-0.739,0.0908,-0.2413,0.1919,0.3225,0.3532,-0.3939,0.3257,0.3703,-1.542,-0.3174,0.328,0.5818,-0.4418,0.1099,0.0,0.31,-0.7764,-0.2661,0.8811,0.516,-0.0622,1.356,-0.2061,0.1466,-0.3389,0.058,0.5476,-0.9811,0.5841,1.644,0.9294,0.4415,0.6151,0.769,-0.0357,-0.5511,-0.3024,0.0,1.385,-1.269,-0.1767,0.7291,-0.3746,0.6832,-0.7283,-0.8994,0.1964,-0.7567,-0.1204,0.8743,-0.6618,0.9554,-1.002,0.6141,0.9035,0.1067,-1.353,0.6219,4.201,0.5302,0.2111,1.053,1.427,-0.3814,0.3544,-0.1464,-0.125,-0.1612,1.177,0.0666,-0.7051,-0.4604,-0.9917,0.2989,-1.734,-0.2573,0.8027,-1.226,0.2157,-0.5193,-0.0482,1.43,0.4636,1.286,0.7497,-0.6172,0.534,-0.4973,1.192,-0.8438,0.0331,0.4111,-0.6249,0.0018,-0.7045,-0.1567,0.5829,-0.3382,0.3372,-1.453,0.5597,0.5688,0.3398,-0.4617,0.2508,0.6219,-0.7163,-0.6995,-0.4877,-0.4924,0.591,0.4946,0.3699,0.7103,-0.1788,0.2719,-0.2444,0.3798,0.1593,-0.0552,-0.1357,0.8483,-0.9369,-0.0597,-0.0873,-0.2868,-0.8576,0.5854,0.8435,0.844,-0.0887,0.6101,0.1943,0.4582,-0.6946,1.025,-0.0365,-0.1926,0.2933,0.4704,0.2009,-0.2008,-0.2504,-0.0277,-0.2634,-0.5385,-0.1773,-0.3225,-0.0664,0.0617,-1.596,-0.4098,0.4964,1.268,-0.9637,-0.4038,0.5868,0.0564,0.1463,-0.1735,0.5121,0.6533,-0.1636,-0.8179,-0.4755,0.5922,0.6654,-0.1544,-0.0486,0.4399,0.6803,0.0948,-0.6442,-0.1396,-0.5391,0.0928,-10.0,0.2664,-0.6289,0.1139,-0.4688,-0.0823,0.8369,-3.712,-0.0333,-0.5763,-0.6942,0.1929,-8.036,0.0496,0.4415,-0.7117,0.8547,1.061,-0.5381,-0.2569,-0.5312,0.371,-3.485,-0.144,-3.936,-0.1334,-0.2311,0.1433,0.0036,-2.345,-0.2115,0.2928,1.012,-0.3457,0.3764,0.6483,1.068,-0.273,-0.6689,0.742,-1.542,-0.179,-0.8858,0.1371,-0.6486,-0.5061,0.4546,0.4718,0.0379,0.4469,-0.5256,-1.317,-0.2483,0.0786,-0.3231,-1.146,-0.2605,1.339,0.9196,-0.4369,-0.0664,0.8894,1.809,0.0622,-2.775,-0.8836,-0.1939,-2.387,0.4146,1.041,1.081,0.3123,0.807,1.086,1.271,-0.1356,-0.2991,0.6883,0.2803,0.6215,-0.103,-0.2644,0.1147,0.0147,1.495,0.0847,0.4241,-1.537,-0.5003,-4.196,-0.4022,0.2236,-0.1027,0.0144,-0.3752,0.3671,0.1787,-1.019,0.6266,-0.3997,0.4448,0.3203,-0.7888,0.0992,0.704,-0.4489,0.2294,0.169,1.042,-0.1298,-0.0134,0.6061,0.8749,-0.5931,-0.1349,-0.1964,0.7604,0.8565,-0.7534,0.1136,2.328,0.1757,-0.0822,-0.4823,1.02,-0.1794,-0.2012,-0.5543,0.1006,0.5045,-0.0795,0.0848,-0.3234,0.164,-0.1454,0.1504,0.594,0.7568,-0.2094,-2.835,-0.1153,-0.5795,0.1305,0.2035,-0.436,0.3284,-0.2201,-0.2503,-0.2657,-1.694,-0.4358,0.6697,0.1274,-1.224,0.1565,1.218,-0.3045,-0.0526,0.1467,-0.1065,-0.2775,-6.97,0.4164,0.0683,-0.2737,-0.4357,-1.145,-9.198,-0.809,0.2192,0.7018,0.4512,-0.1097,0.522,0.7562,-0.5221,-0.7396,0.1205,0.1809,1.031,0.4726,0.0891,-0.8862,0.185,0.8674,-0.3262,-6.589,0.7204,-0.938,0.0948,-1.106,-0.254,0.6323,0.0267,0.45,-1.201,0.1838,0.2503,0.4165,-0.2004,0.5651,0.3699,0.1005,1.109,-0.2792,0.1664,0.3799,0.7389,0.1705,0.2235,-0.7106,-4.093,0.9169,-0.4667,-1.045,-2.055,-0.1916,-0.2275,-0.3483,-0.1782,-6.739,0.7763,-0.4853,0.1711,-0.0179,0.1915,0.1435,-0.034,0.6801,-0.0788,-0.8006,-0.0903,-0.8549,0.2549,-1.051,-1.309,-0.7135,-1.757,0.3109,-0.9543,-1.809,-1.753,0.1828,0.2008,-2.177,-8.311,0.7787,0.4388,-0.5419,0.6982,0.7098,0.2376,-0.0981,-1.548,1.071,-1.465,0.5574,0.9772,-0.8951,0.5741,-0.4002,-0.4664,-0.6988,0.3286,0.2969,-1.386,0.8382,-0.0696,-0.4039,0.5764,0.6136,-0.7226,-0.0602,-0.5413,-0.0068,-0.115,0.1003,0.5981,-0.3578,-0.513,-0.0193,0.1727,0.533,-1.27,-0.3376,-0.2103,-3.236,-1.145,0.8992,0.2623,-0.8591,-0.0811,-0.093,0.4317,-0.6696,-0.1691,0.8083,-0.5727,0.4033,1.056,-2.82,1.168,-1.175,-0.1359,0.0919,-1.305,0.3076,-0.6283,-0.0979,0.4128,-0.8949,0.2621,-0.5015,0.4891,0.4354,-0.1842,-0.4622,0.1285,-0.0939,-0.4526,1.618,-1.164,0.2506,0.8252,0.1309,1.161,0.1913,-0.6472,-0.2694,0.2694,-1.845,-0.9426,0.3376,1.098,-1.142,-0.212,0.3711,-0.2108,0.6075,-0.3717,-0.5163,-1.3,-1.708,0.328,0.3517,-0.2285,-1.168,0.6593,0.1403,0.9989,1.038,0.2826,0.4277,-0.4849,-7.505,-0.3385,0.4376,-1.385,0.6378,0.2196,-0.2995,-0.8183,-0.0858,-0.0805,-0.7385,-0.5908,0.6266,-3.275,-0.0298,0.9639,-7.211,-1.04,0.3372,-0.0272,0.9083,0.5701,-0.1401,-0.0398,-1.156,-1.344,0.1433,-0.6488,-0.5317,-0.7168,-0.3986,-0.8428,-2.18,0.0546,-0.3171,0.1149,-1.115,0.9458,-0.3826,-0.3277,0.6272,-0.5908,-2.788,1.105,-0.7864,0.8928,-3.755,-1.134,0.0867,-0.5962,-0.3048,-0.3681,0.8167,0.2162,-0.1748,0.1578,-0.6387,-0.4313,-0.4659,-0.1093,0.2902,-0.9765,-0.1939,0.3039,-0.3472,-4.694,-0.5468,1.151,1.01,0.8627,0.068,-0.6701,-0.8203,0.478,-0.3808,0.1609,-1.049,1.149,-0.9412,1.591,-0.4605,0.3238,-2.569,0.0025,0.0315,0.8286,-10.0,-0.6827,-0.8069,-0.1701,-0.1464,0.7475,-0.5173,0.3245,-0.4624,0.7271,-0.8006,0.1093,-0.1025,1.273,0.8235,-0.4182,-0.0914,-0.5265,-0.5167,0.205,0.1112,-0.9654,0.3427,-0.0713,0.2443,-0.7003,-0.0712,0.1803,-0.185,-0.4799,-0.2884,0.3146,0.5231,-0.9595,-0.7176,0.2531,0.8533,-0.1329,1.06,2.529,-0.9007,0.3591,-0.3665,0.9537,-0.651,-0.2452,0.5123,1.917,0.4457,-0.2085,0.3837,0.0831,-0.3605,-0.4395,0.2571,-0.771,-0.1848,1.216,0.0132,-0.2549,-0.2133,0.0194,0.5289,-1.953,0.9106,0.2393,-0.338,0.4239,0.5985,-0.2433,0.0867,-1.263,-0.8936,0.6134,-1.702,-2.127,1.204,-1.246,0.6244,0.4584,0.4441,-0.3973,-0.5975,-0.0432,-0.6569,-1.552,-0.966,0.65,0.7966,-0.117,-0.2509,-0.2025,0.1847,-0.73,0.4478,0.2524,0.5276,-0.2594,-0.2298,0.0408,0.1208,0.359,0.3273,-0.0725,-0.4486,-0.979,0.8356,-0.0897,0.0708,1.461,0.5625,0.1373,0.6204,0.4758,1.235,-0.3667,1.286,-0.0871,-0.5379,0.4694,0.6877,0.5099,0.802,1.411,0.0282,1.731,0.0,-0.0225,0.7341,-0.7973,0.471,0.3201,-1.07,-0.6623,-0.4521,-0.6365,-0.3595,0.8214,0.367,0.512,-0.955,-0.6781,-0.2328,0.4314,-0.197,-0.5609,-0.1209,-2.836,-0.0896,0.078,-0.4952,-1.414,-0.9987,1.208,0.1202,-0.5374,-1.176,0.6721,-1.462,-0.138,0.5025,1.015,-0.7376,-1.052,0.4516,-0.0994,0.4997,0.293,-0.2909,0.1085,0.6002,-0.6118,-0.5917,-0.2141,-0.2199,-2.356,-0.5676,0.511,-0.0972,-0.2853,0.2064,-0.0421,-0.0748,0.1947,-1.205,0.4388,-0.289,-0.1463,-0.5387,0.4383,0.8532,-0.3716,-0.0799,-1.87,-0.0085,0.4175,-0.3376,0.6077,0.5135,-0.6593,0.3295,0.338,0.1702,0.8224,0.0545,-1.214,0.2991,-0.4848,-1.255,1.863,-1.594,0.3374,0.1376,-0.8255,0.3997,-0.4003,0.075,0.2995,-0.093,-0.3259,0.2405,0.4354,-0.2488,0.1096,0.5256,0.603,-0.2558,-0.4213,-0.772,0.2762,0.2114,-1.029,-0.4338,1.023,0.7228,0.276,-0.3372,0.6195,-1.285,0.665,0.8928,-10.0,0.2969,-0.0936,1.068,-0.3248,0.6941,-0.2977,-0.8916,0.2775,-0.0934,0.3472,0.9143,-0.7482,2.839,-0.2608,0.1405,0.084,-0.8745,-0.3829,0.8318,0.3089,0.4573,-0.3456,0.4273,-0.4615,0.6041,-0.2897,0.601,-0.4181,-0.5085,-3.478,0.0,0.1897,-0.2832,-0.4322,0.3817,-0.3056,1.323,-0.48,1.017,0.2577,0.5989,-0.5656,-1.006,-0.4258,1.745,0.1364,-1.146,-0.2145,0.3676,-0.2878,-2.308,-0.0421,0.4558,0.2582,-1.292,1.059,-1.066,0.1091,-1.268,-0.5278,0.4208,0.4622,0.1875,-0.6047,-0.0723,-0.2749,0.2546,0.6845,0.4929,0.5024,-0.4553,0.4886,-0.2624,-0.4865,-0.4445,-0.3905,-4.07,-0.5608,0.0415,-0.1847,1.542,1.181,-0.6546,-0.1358,1.345,0.5378,-1.11,-0.1042,-0.2084,0.201,-0.3953,0.5526,0.5755,-0.1282,-0.334,-0.1614,0.4206,0.3617,0.1579,1.607,0.9924,0.7747,0.8492,0.0968,0.153,0.0192,0.6045,-0.3953,1.23,-1.634,0.5802,0.511,0.0372,-1.379,-1.004,-0.0297,0.9961,-1.099,0.4448,0.0841,-0.4395,0.1208,-0.7696,-0.2041,0.9229,0.5081,0.6591,0.2912,-0.3591,-0.2074,0.0496,-1.359,0.1575,-0.6715,1.171,1.317,-0.5912,-0.3377,-3.307,0.9492,0.3447,0.4986,-5.654,-1.485,0.4763,0.1239,0.2386,0.4554,0.4347,0.7873,-0.2567,0.4356,-0.0738,0.037,-0.6829,0.4592,-2.162,1.255,0.1742,-0.584,0.689,-0.1787,-1.132,0.928,-0.2341,0.6315,0.3137,-0.1124,-0.3823,0.9548,0.9531,-1.131,-0.0796,0.8806,-1.351,-0.6777,0.5567,0.4901,0.049,-1.704,-0.534,-0.5797,0.2167,0.1506,-0.5763,0.4396,-0.0496,-2.587,0.2248,-0.341,-0.1452,0.4581,0.2203,-1.014,-0.1172,-0.6829,-1.678,-0.3873,0.3002,-0.095,-0.718,-0.3674,-3.496,0.5878,0.043,-0.4302,-0.5705,0.0734,0.5232,-0.201,0.4269,-0.311,-0.672,0.2447,1.035,-0.0813,0.7485,-1.113,-0.5462,-0.5452,1.692,-2.81,-1.093,0.1639,0.3191,0.4131,-0.4944,0.2376,0.1733,0.6544,0.5525,0.5993,1.372,-0.0527,-0.5173,0.7565,-0.3586,0.3524,-0.0818,-1.669,0.2275,1.336,-1.381,-0.3474,0.1162,-0.1079,0.9318,-1.245,0.0546,-0.461,1.549,-0.5613,-2.0,0.3005,-0.5165,0.8627,0.1619,0.3898,0.2435,-1.597,-0.018,1.723,0.1311,-0.1934,1.133,-0.6926,0.5174,0.1197,0.3011,0.2519,-2.096,-1.546,1.068,-0.3641,-0.3201,-0.8908,0.3941,-0.9637,0.076,1.579,-0.5536,-0.0678,-1.649,1.102,-0.0595,-0.4145,0.7198,-0.3007,-0.2712,-1.971,0.4944,-1.326,0.0938,0.4193,-0.2128,-3.013,-5.396,0.2648,-0.1142,0.1292,-0.0898,0.1137,-0.6073,0.0359,0.1106,1.255,-0.0231,1.824,-0.8572,-0.005,-0.2785,0.3382,-0.5371,0.8869,0.2316,-4.08,-0.0425,0.6822,-0.7827,1.27,-0.9962,-0.2535,-0.0891,-0.3103,0.3971,0.9115,-0.9308,0.6551,-0.1175,-0.1633,-3.801,0.7871,-0.0065,0.5904,0.3989,-0.2692,-0.5723,0.0815,-0.8165,0.5121,0.8416,-0.3656,-0.317,-0.3769,-1.199,-2.281,0.2886,-0.5776,0.9593,-6.105,1.097,0.2242,-0.2749,0.1065,0.3165,-1.282,-0.0103,1.185,-0.587,0.5753,0.0358,-0.1542,-0.6503,0.4066,-0.1666,0.0443,0.7334,0.4979,0.3826,-1.062,-0.3925,0.1354,0.1635,-0.253,-1.837,0.4257,0.5141,-0.3709,-0.9469,-1.402,-0.6802,-0.3357,0.1794,0.4033,-0.4458,0.0832,1.073,-5.894,-0.6854,-0.2977,0.8112,-0.1956,-0.2437,0.0009,1.368,0.1505,0.3525,0.2509,0.8885,-0.2729,0.0651,-2.885,-0.303,0.4853,2.998,-1.134,-4.967,0.1364,-0.7217,-0.5045,-0.1408,0.5315,0.1488,0.7782,0.5699,-0.6465,0.3013,-0.2421,-0.3084,-0.358,-2.96,-0.9356,0.5717,0.267,0.8424,-0.5397,0.6326,0.2831,-0.2324,0.0251,2.897,-0.1152,-0.6747,-0.4351,-0.5817,-0.5782,-0.7325,-0.5652,-0.4623,0.7584,0.0112,0.7868,-0.0941,-0.4417,-0.5647,1.078,0.3678,-0.8964,0.407,-1.021,0.3662,0.4165,-0.5688,-0.1951,-0.0644,-0.8443,-1.111,0.7896,-4.047,-0.0969,-0.3698,0.0213,-0.979,0.2056,0.2842,-0.2745,0.5005,0.1883,-0.0678,0.0476,0.5962,0.0408,0.3698,-0.263,0.6514,1.386,-4.942,0.1758,-0.2932,0.4554,-1.409,-0.0138,1.088,1.096,0.0624,-1.211,0.41,1.027,0.4693,-0.69,0.6677,-0.0175,-0.0556,-1.031,0.1525,-0.3379,1.081,0.1936,0.3109,0.3377,-0.0536,-1.62,1.241,0.804,0.4629,0.4215,0.8299,-5.446,-0.2537,-0.2871,-1.396,-0.9671,-0.7169,-0.1823,-1.344,0.4232,-0.0779,-3.075,-0.3627,-1.881,0.2743,-0.8492,0.6751,-0.3335,-0.8849,-0.5554,0.2553,0.2107,0.752,-0.3808,0.2044,0.9336,-0.9312,-0.5936,1.376,-0.7978,0.9717,0.061,0.5996,-0.3058,0.2124,0.4232,-1.659,-0.4685,0.4864,2.053,-0.1568,-1.426,-0.5848,0.4578,0.4546,-0.3092,-0.4321,-0.3234,-0.5929,-0.66,0.5428,-0.1162,0.2273,-0.2655,-0.2334,-6.452,-0.5504,0.0582,0.3266,-0.091,-8.979,-0.2129,-0.4816,-7.918,0.7854,0.1983,0.433,-9.091,-0.1457,0.0784,0.3228,0.5073,-1.303,-0.2558,-0.385,0.7363,0.1655,0.6266,0.1596,-0.4881,-0.6755,-0.1089,0.5289,0.7922,0.1501,-0.2721,-0.2109,0.867,0.3634,-0.3025,2.121,-0.8546,0.9868,0.4345,0.0619,-1.433,0.4164,0.8354,0.5292,0.0259,0.0609,2.144,-0.5644,0.4373,-0.7598,-2.897,0.3905,0.6211,0.1182,0.5136,-0.6075,1.268,-0.5025,-0.7018,0.2961,-0.0534,0.5838,0.4527,-0.7641,0.1679,0.6216,0.5427,0.2421,2.144,0.3868,-0.0904,0.5433,1.063,-1.299,0.4983,-1.198,1.484,0.3881,0.2617,-0.0255,-0.0106,-0.7178,-0.6745,-0.2648,-0.8552,-0.7703,0.0331,0.3741,1.179,-0.0488,-0.7171,-2.149,-1.618,-0.9284,-0.2292,0.6431,0.6608,0.6537,0.0983,0.3916,0.2998,0.809,-5.904,0.0,-8.701,0.3589,-1.385,0.8868,0.5588,-0.1977,0.5354,-0.5003,-5.09,0.4338,-0.4313,1.328,-0.3501,0.0891,-0.0684,0.6806,0.548,-0.4039,-0.4478,-0.4729,0.135,-0.2341,0.9019,-0.8254,0.5081,0.0633,0.164,0.5366,0.3081,-0.9503,0.3153,0.7182,-9.152,0.5638,0.0282,0.1699,1.309,0.6003,0.2045,0.5686,0.85,1.27,-0.6299,-0.2067,0.1804,-0.0502,1.475,0.2765,2.451,0.355,-9.432,0.2462,-1.212,-1.197,-1.073,0.0338,0.0,-0.3711,-1.166,0.5288,0.5321,-0.3651,0.9401,-0.1953,-10.0,0.4742,-0.1264,0.3999,-0.1947,1.55,0.4228,-1.056,-0.2277,0.5717,1.325,-0.004,-4.822,-0.4726,-0.1695,-0.294,0.162,-0.5729,0.2033,1.078,-0.0336,-1.086,0.8195,0.4883,-0.7869,0.6562,0.145,-0.4678,0.7262,-0.0906,-0.5167,0.1894,-1.373,0.3117,-0.1197,-0.172,-0.5783,0.2216,0.073,-3.437,-0.1805,-0.3772,0.9284,0.1688,-0.088,-1.757,-3.047,0.0688,1.286,-0.9238,0.0147,-1.002,1.401,2.387,-0.2227,1.361,-0.0141,0.4096,0.3694,0.149,0.3512,-1.097,1.226,-0.7757,0.1999,-2.611,1.171,-0.7472,1.358,-1.447,-2.275,-0.5237,0.1504,-0.5243,-0.8212,-0.1299,0.8676,-1.172,0.7895,0.5336,-2.339,-0.1051,-0.0014,-0.7794,-0.6405,0.7804,0.0958,-0.807,0.0384,-0.5062,-0.725,-0.4742,-0.2499,0.6924,-1.293,-1.003,0.6345,-0.5138,0.7767,2.309,-6.128,-0.2752,0.2009,-0.3501,0.0323,0.0702,0.8289,0.8618,-1.415,0.1091,0.4705,-1.248,0.4259,0.1027,0.695,0.2106,-0.6738,-1.03,0.697,-0.1849,0.0901,0.5655,-0.6919,-0.286,-0.4994,0.3198,-0.6862,0.1792,-0.5803,-1.392,-1.008,-1.779,0.0345,0.1056,0.0984,-0.7674,0.135,-0.2456,0.7821,-0.2992,0.0644,-2.261,-0.8201,0.284,-0.3939,0.6697,-0.1222,-0.2307,0.302,-0.3393,-0.8531,0.3453,0.0809,-0.4424,0.3372,-0.5146,0.6445,-0.1157,0.5197,-0.1479,0.5477,0.9273,-0.8522,-0.1825,0.9684,-2.355,-0.9056,0.2224,1.177,0.5468,0.5488,-2.231,0.5926,0.2503,0.7559,-0.0955,-0.1785,-0.2818,-0.9646,0.0014,-0.0907,1.176,0.0261,0.6667,-0.1035,0.3565,-0.3551,0.2233,0.879,-0.1496,0.5588,0.5276,0.416,-0.127,-1.48,-0.7915,-0.7957,-0.1731,-0.9376,0.5751,-0.1956,0.0809,0.808,0.3733,0.5338,-0.44,-0.5045,0.6468,-1.687,0.247,0.1705,1.128,0.515,-0.2025,-0.7711,0.497,0.1914,0.5446,-0.7421,0.5597,0.3305,-3.972,-0.1067,0.8706,-0.1747,-1.506,0.7997,-2.955,-0.4715,0.4808,0.8977,0.3296,-0.8512,-2.082,-1.476,1.193,-0.1787,0.0716,0.4524,-0.6087,-0.9045,0.5178,1.443,0.5508,0.3458,1.47,-0.309,-0.3758,-0.1469,0.0165,0.4114,-0.3986,-1.396,0.0926,-0.0233,0.5997,0.0821,0.4189,-0.1479,0.1118,-0.0273,0.8548,0.489,0.1307,-0.0752,-0.4236,0.9207,-0.4644,1.272,-0.827,0.6826,0.5848,-1.811,0.3047,0.4855,0.1483,-0.0396,-0.018,0.7351,-1.566,0.5483,-0.7494,0.4292,-0.7296,-0.0464,-0.761,0.1569,0.1242,0.2462,-2.609,-0.1212,0.0,-0.8966,-0.8357,-0.0267,-0.1849,-1.403,-1.457,0.8274,0.1056,0.1204,1.016,0.3721,1.356,0.0597,0.6157,-0.5008,0.5033,0.3507,-1.292,-0.1703,-0.0755,0.5843,-0.0297,-0.4535,0.197,0.2843,-1.115,-0.478,0.9677,0.9643,0.8177,0.0774,-0.8467,0.0822,1.363,-0.3149,0.5308,-0.6998,-0.2452,-0.6614,0.2817,1.864,1.898,0.043,-0.0015,-0.0636,0.2224,0.8327,-0.335,0.9871,-0.5129,-0.2218,-7.739,-0.0779,-1.01,-1.275,1.728,-0.6793,0.3117,0.1047,1.323,0.2361,1.394,-0.2229,0.7098,0.1838,-0.1457,-0.2449,-0.976,-1.825,-0.1235,-0.6411,-0.0192,-1.094,0.6877,0.0152,0.8889,1.079,-2.561,0.2338,0.3859,0.4833,0.5278,0.5924,-0.9898,0.4105,0.1933,-6.536,-0.8917,-0.2491,-0.0844,0.8797,-1.057,0.9412,-0.484,0.7178,-0.9664,-0.4696,1.537,-0.3714,0.5476,-0.1626,-0.3656,0.4827,-0.3078,-0.2142,0.0927,-1.044,0.7234,1.054,0.0473,-0.3536,-0.4715,-1.9,0.4801,0.1926,1.052,-0.7758,0.898,0.8235,-0.2379,-0.0857,0.0972,1.317,-0.3007,-0.6131,-0.3598,-0.1013,-0.6449,0.8203,-0.6633,-0.9084,-5.783,-1.041,-0.3843,0.2397,0.4491,0.4509,0.9301,-3.797,0.4987,-0.602,1.028,-0.4289,0.7322,0.0944,-0.6298,0.3837,-0.8623,-2.049,-9.534,-0.7215,0.4228,-0.1716,-0.0614,0.764,0.3788,1.075,-0.4045,-2.781,-1.328,0.8451,-1.61,-0.4144,0.5904,0.0,0.0954,0.9597,-1.755,-0.0888,-0.2619,-0.7245,0.0415,-0.066,-0.7298,0.3173,-0.7478,0.3148,0.6216,-0.0943,0.4212,-1.062,0.2171,0.7965,-0.1733,-0.5696,-0.2546,-2.551,0.4699,-2.099,1.333,0.4326,-0.8728,-0.4967,-5.785,0.7738,-0.7414,0.2875,-0.8883,1.331,0.2073,0.7649,-0.1133,-0.0669,0.1594,-0.8868,-0.2411,-2.189,-1.446,0.669,1.39,0.1946,-0.8598,-0.1936,0.203,0.0307,0.467,-0.3535,0.6369,0.0924,0.0998,-0.3575,0.4054,-8.357,0.129,0.7034,-0.494,0.5051,-0.0979,0.3276,0.3986,-0.3372,0.2962,0.5911,-2.829,0.7013,0.5927,-0.0644,-0.3152,-0.8994,-0.5099,-0.0238,-0.0602,-0.3658,-1.964,-0.4381,-0.243,-0.2624,1.199,0.3616,-0.081,-2.601,2.628,-0.0497,-0.4045,0.7673,0.7516,2.528,-1.125,0.1628,0.7794,0.5154,0.9153,1.267,-1.611,0.5271,0.2651,-2.589,0.0462,-0.3515,0.7993,0.7315,-1.859,-0.2165,0.0362,0.3792,1.707,-0.7923,-0.3022,-0.6922,0.8317,0.1126,0.9641,0.113,0.5845,0.3194,0.0005,0.3604,1.192,0.8422,0.7451,0.693,0.9163,-0.2033,0.7473,-0.7785,0.055,-0.5953,0.3511,0.4809,1.214,0.8548,-0.4033,-1.358,1.106,1.348,-0.2633,0.8242,-0.7871,-2.32,-1.317,0.1452,1.208,0.2415,0.3837,0.3025,0.8523,0.0428,-0.7592,-3.853,-0.3674,-0.47,0.8015,-0.5214,-0.1782,-0.2334,-0.0401,-0.2176,-0.2028,0.4374,0.4816,1.059,0.5232,0.0541,-1.488,-0.2504,-0.3016,-1.276,0.4679,-0.3255,-0.8886,-0.8366,-0.3164,-0.0232,0.203,1.446,0.2304,-0.4263,-1.593,-0.0914,-6.061,-1.009,-0.1652,-0.5347,0.6733,0.3197,0.5359,1.225,0.3848,0.1443,0.3201,0.0019,0.3156,-0.0651,0.5645,-0.4833,-0.6195,-0.7736,0.3551,0.8499,-0.9044,-0.6602,1.288,0.0,-0.7922,0.3316,-0.0911,0.2235,0.4448,0.0255,-0.3587,0.6341,-0.4462,-1.021,0.0673,-0.0474,-0.12,-6.58,0.7456,-0.6831,-6.066,-1.166,-0.891,0.2435,-0.5712,-0.6493,-0.7512,0.068,0.6421,0.8906,-0.1748,-0.2948,0.2603,-0.9595,0.0184,0.2318,-1.165,0.5248,0.3791,-0.6102,-1.016,-0.7345,0.4774,0.7299,-0.6658,0.8368,-0.5155,-0.2377,0.0688,0.5633,-0.5681,-1.592,-0.1465,0.5267,-0.4988,0.7074,-0.6066,-0.1753,-2.306,-1.019,0.4121,-0.5188,-1.133,-0.3322,0.2765,-0.3116,0.3345,-0.738,1.27,-0.4355,0.1514,-0.03,1.177,-0.4656,-0.9807,-0.3842,1.155,0.6623,-0.4599,0.0848,0.5354,-0.9314,0.8416,0.4105,1.405,-0.6662,0.1936,0.8401,0.4782,-2.121,-0.3413,0.5187,0.799,0.1266,0.4617,-0.5306,0.0155,-6.626,0.0614,0.4016,-0.4155,-3.647,-0.3832,0.4103,0.5454,0.4478,-0.0097,1.06,0.0066,0.2479,-0.8144,-4.648,-1.317,0.3344,0.4766,0.871,0.4724,0.7638,0.8817,0.8672,0.8175,0.0464,0.7338,-0.4446,0.0,-0.9153,-1.753,-0.2089,0.228,-0.3115,-0.3465,0.0498,-0.4992,1.079,0.5187,-0.9038,0.2603,-1.079,0.391,-0.5275,0.3758,-0.0259,-0.3025,0.0459,0.8269,-1.429,-0.0278,0.559,0.019,0.0901,-0.5723,0.0901,-0.0213,0.6174,0.3794,0.0433,1.153,0.2075,-1.543,-0.4431,0.3986,0.7285,1.657,0.7016,-0.4712,-0.0294,-1.286,-2.713,0.0988,-0.8636,0.0669,-4.091,-0.6228,-0.4212,-0.2941,-0.4873,0.4644,-0.8531,-0.9976,0.4223,0.2159,0.9548,0.0752,0.3203,-0.1076,-0.2408,0.3372,-0.3058,-0.7192,-0.8666,0.5112,-0.6344,0.5406,0.1515,0.4229,-1.097,0.8348,-0.0367,-2.057,1.196,0.7857,0.4072,0.9538,0.4819,0.8202,0.1656,-0.3529,-0.585,-1.07,-0.1487,-0.1459,-1.093,-1.015,1.084,-0.7064,-1.168,0.5864,-0.9748,0.3392,0.0707,0.9923,1.031,-1.141,0.4707,-0.939,-0.3271,0.7814,-0.2855,-0.005,0.1274,0.4013,-0.2604,0.173,-1.439,0.3711,0.5318,-1.629,-0.2663,-1.15,1.49,-0.6543,0.29,-3.539,-0.4895,0.1643,0.2701,0.5279,-10.0,0.0911,0.3426,-0.5341,-0.4189,-0.2134,0.3912,-0.5992,-0.3364,1.046,-1.821,-0.7824,-0.403,-0.3748,0.0155,0.1953,0.2667,-0.162,-0.0278,-0.4384,-0.6222,-5.085,-0.1292,-10.0,-1.403,-0.1808,0.6958,-1.174,1.824,0.196,-0.3731,0.1289,-0.7492,-1.087,0.541,-0.5459,-0.6151,-1.386,-0.9597,0.2283,-0.4872,0.6202,0.0691,0.7612,0.3339,0.3315,-1.311,1.268,0.4926,-4.63,-1.004,0.1835,0.3639,0.1242,-0.6761,-2.648,-0.0759,-1.827,1.252,-0.1197,-0.0472,0.3072,0.2742,0.3462,-1.161,0.037,1.082,0.117,0.0327,-0.255,-0.2578,0.5932,-8.02,0.7699,-0.4606,0.8147,1.549,-0.808,-0.2523,1.274,-1.922,0.72,-0.2646,0.8011,-6.863,0.1013,0.7027,-0.9079,-0.5993,0.6388,-1.081,0.5246,-1.309,-0.7296,0.5214,-1.665,-1.093,-0.3234,1.063,-0.8193,-0.0199,-0.0593,-1.187,-0.2254,-0.1878,0.6592,-0.9748,-4.806,-0.3759,0.9693,-1.458,-0.1275,0.5631,0.6139,0.0687,-0.1194,0.0138,-0.9025,0.4876,0.1186,-1.106,-0.445,-0.3284,-1.051,-1.006,0.4528,-0.7769,-0.0972,0.9903,0.9813,0.3746,0.072,-0.9228,0.0226,-0.3959,-0.8421,1.021,-0.3474,1.291,0.1997,-0.3392,-0.3672,-0.8158,-0.0849,0.3467,-0.9207,-3.201,-0.8711,-0.9037,-0.1947,0.8245,-2.46,0.169,0.5189,0.6286,-0.1328,0.1385,-0.8808,1.036,0.1027,-0.5911,-1.117,0.1771,1.099,-0.0091,0.5864,0.5307,0.8182,-1.105,0.4421,0.636,0.1338,-0.2727,-7.757,-4.309,-1.811,0.311,0.6374,0.1001,-1.388,-0.4209,0.9347,0.4805,-0.2936,-0.1749,-0.304,0.1461,1.204,-0.3349,-7.186,-0.1274,-0.5049,-0.0165,-1.53,0.9573,-0.0972,-0.4459,-1.631,-0.8592,-2.781,-1.406,-1.01,0.896,0.6162,-0.4514,-8.65,-0.6025,1.329,-6.678,0.3394,0.0286,0.4774,0.714,-0.919,0.8252,0.1926,-0.6664,0.7453,-0.8957,-0.8772,0.1723,-0.1706,0.1683,0.1838,0.265,0.8433,-1.74,-0.2263,-0.2471,-1.802,-0.3853,-0.0593,0.1732,-0.0294,1.09,-0.0939,-0.8554,0.2883,0.8556,0.5939,-0.5978,0.3268,-0.0943,-0.0296,0.3984,-0.2468,0.915,0.7041,-0.3307,-0.1172,1.191,-2.198,-0.1607,1.045,1.721,0.4447,1.18,-0.0992,-1.176,-0.5568,0.9874,-0.4882,-0.3799,0.2398,1.59,0.3859,-0.0278,-0.2141,1.221,0.1312,-1.876,0.1495,0.6348,-1.135,-0.6328,-1.014,-0.2876,-2.763,0.8027,-0.6084,0.91,1.334,0.5278,1.291,-0.2271,0.5469,-0.0067,-0.1564,-0.2411,-0.4333,-1.734,0.1512,-9.265,0.9114,-0.7888,0.5806,-1.066,0.4395,0.1078,0.2158,3.811,0.4196,-0.6867,0.6129,-0.5782,-0.693,0.9908,0.7039,0.2856,1.148,0.8969,-1.009,-0.1903,0.7099,-0.4567,-0.696,-0.445,-0.5018,0.1607,0.4442,-6.326,0.5299,0.1602,0.7847,-0.9366,0.3486,0.664,-0.4684,0.7784,0.2941,0.8591,-0.2244,0.7866,-0.5926,-0.1921,-0.6388,0.5923,-0.0164,0.2506,0.9446,0.2651,-0.4733,-1.106,-1.996,1.51,-0.5358,0.906,-0.922,-0.1251,0.3094,0.3586,-0.2969,0.5679,-0.4533,0.131,-1.142,-0.908,-1.6,-5.194,-1.682,-0.4247,-0.5504,-0.0722,-0.562,0.3301,0.9707,-0.4062,-0.3372,-0.2747,0.1193,1.55,-2.488,-0.9368,-0.2126,-0.2877,-0.7272,0.1623,0.4354,0.2067,0.9276,0.9521,1.054,-1.465,1.061,-0.2099,-0.5628,0.0,1.192,0.2857,-1.162,0.0857,-0.4061,-4.727,-9.872,0.6441,-1.007,-0.6784,-0.4873,0.1008,-2.21,0.1258,0.3744,1.585,0.8214,1.752,-0.4395,-0.8767,-1.21,-0.3411,0.3859,1.088,-0.3965,-0.5447,1.312,-7.376,-0.0898,0.1085,0.5723,-0.3055,0.9851,-0.3436,-0.6586,-7.897,0.295,-0.1613,-0.2932,0.172,0.1791,-0.2835,-1.657,-0.1681,0.5772,-0.3952,-0.4226,0.541,0.5038,0.3535,0.0776,0.2555,0.1276,0.1763,-0.3895,-0.0278,1.316,-0.7601,-1.225,-0.165,0.0226,0.1283,0.8784,0.8355,-0.2688,1.065,0.2165,0.8921,0.8329,-0.5897,-0.4556,0.376,-1.041,1.029,-0.2129,0.0485,-1.223,-1.002,0.4371,-0.2951,0.281,-0.0897,-0.649,0.1418,-0.1669,0.5274,-0.1109,-0.2151,0.4218,-0.1646,0.357,1.353,-1.327,0.4315,-0.0855,1.432,0.8063,-2.115,0.0442,0.4401,-0.7347,0.4475,-0.4826,0.1468,0.3311,0.068,-0.0406,-7.483,0.517,1.005,-0.9314,0.1808,-0.4918,-0.1873,0.7274,-1.046,0.2313,-0.6882,0.9864,0.1339,0.0457,-4.433,0.9972,0.0055,1.23,0.1275,-0.455,0.4836,-0.2645,-0.2469,-0.2594,-0.2077,-0.2697,-0.1953,-0.0449,-0.4288,-0.0601,0.2404,0.8656,-0.0073,-0.4826,-1.417,0.4435,-1.118,-0.4818,0.7211,-0.9723,1.04,-0.0896,-2.862,-0.1779,0.1466,-0.8001,-1.274,-0.8383,0.7372,0.0285,0.2294,-0.2435,0.1579,0.0911,-0.353,0.2283,-1.037,0.7308,0.9839,-2.247,-0.6152,0.1443,0.9685,0.7319,-0.3231,0.6859,-0.8094,-0.8001,-0.4437,-0.3224,-0.6925,0.2118,0.1793,-2.748,0.1754,0.1619,1.116,-0.0272,-1.476,0.0168,0.3485,-0.8652,0.6858,0.5274,1.117,0.1204,-1.094,-0.5004,0.8948,-0.115,-0.7467,-0.1005,-0.8609,0.67,-1.305,-0.6984,0.073,-0.0308,-0.4507,0.3894,0.6833,1.518,-0.4246,0.0459,0.0666,0.3097,0.4906,0.1777,-0.0272,0.1203,-0.0995,-0.4062,0.6768,-0.3005,-0.8733,0.2844,-0.304,0.4115,0.6963,1.14,0.1183,0.4931,0.0961,-1.233,-0.3717,-0.5069,-1.752,-0.5103,-0.0172,-0.5692,1.602,-0.1135,1.035,-1.113,-1.096,-0.0184,-1.122,2.051,-1.944,-2.46,-0.6179,-1.199,0.2502,0.0303,-2.829,0.1882,-0.29,0.2058,-0.337,-0.7423,-7.667,-0.6864,-0.8257,0.4389,-1.152,-0.0336,-1.11,0.672,0.6709,0.2475,0.0097,-1.141,0.6913,-0.4669,-0.467,-0.7379,0.943,-0.5753,-0.7483,0.1541,0.0651,0.3272,-0.4291,0.3388,0.5972,-0.9453,0.3476,0.0,0.6819,-6.974,-0.8003,-1.285,-1.559,-0.5145,-0.276,1.28,0.0669,-1.453,-0.9969,0.1069,-0.839,0.5026,-0.4607,0.6452,0.142,0.7488,-0.036,0.4084,-0.213,0.4339,-0.2563,-1.043,0.4557,0.0203,-0.7875,-0.2321,-0.6502,0.6341,0.2819,-3.546,0.1086,0.5179,0.0636,-0.442,0.0694,-0.3341,-1.15,0.2917,-0.507,-0.059,0.4267,-0.624,-0.0118,0.3033,-0.9443,0.1729,-1.133,-0.5874,-0.6294,0.2697,-0.3245,-0.8104,-0.2252,0.2868,0.9164,-0.3686,1.282,-0.659,0.1017,0.4366,0.068,-0.0295,-0.138,-0.5179,0.7509,-0.4583,0.8863,0.5923,0.7322,-9.246,0.5501,0.5732,0.0661,0.2587,0.0828,-1.534,-0.2192,1.351,-0.9038,0.3823,-0.0919,0.9662,0.251,0.3065,-0.4925,0.3849,0.6119,0.0019,0.8302,0.1332,0.4866,0.6378,0.2316,0.6139,0.8725,-0.6072,1.205,-0.729,-1.553,-0.5356,-0.4842,-0.9766,-1.884,-0.8242,-0.2519,-0.0544,0.6567,-1.124,0.0746,-0.8053,-0.7764,-1.008,-0.6754,-1.481,-0.7063,0.3978,-2.353,0.3328,0.6684,1.439,-0.5265,0.4859,0.0958,0.3693,0.927,-0.5009,-0.3155,0.652,-0.8706,1.193,0.3535,0.6265,0.721,0.774,-0.963,-0.1009,0.159,-1.058,3.682,0.3344,0.5944,-0.3079,0.0186,-0.1275,0.554,0.0049,-1.343,-0.3726,-1.028,-0.483,0.4367,-1.773,0.6773,-0.8009,0.1249,2.902,-0.4894,-0.4602,-0.1353,2.107,0.1808,-0.5558,-0.4513,-0.204,0.0006,-0.3703,-1.336,0.667,-0.4273,0.2761,-0.1626,-0.7776,0.6195,-3.929,0.4967,1.21,-0.2713,-0.0285,-1.803,2.253,2.004,-0.3783,0.1038,-0.4777,-1.199,-0.0687,0.5072,0.5606,0.5631,-0.0826,-0.7596,1.017,-0.7207,0.1669,1.802,0.4381,-1.17,0.8772,-0.8817,-0.544,0.7772,-1.043,-0.8128,0.2422,0.0556,0.302,0.5098,-0.9372,-0.3877,1.264,0.5819,1.941,-0.8284,-1.272,0.4724,0.915,-0.2465,-2.035,-0.1412,-0.1791,-2.727,-0.5911,0.6573,0.0358,0.655,-0.2471,0.3372,-0.5427,-0.1612,0.1382,-1.257,-0.5558,-1.393,-0.7347,-3.045,0.9779,-0.0934,-0.3058,0.0261,-2.125,-0.0621,-1.806,-0.4672,0.4386,-0.805,-1.958,-0.2162,-0.2005,0.8,-0.3146,-0.9923,1.621,-0.5142,0.1075,0.7542,0.5755,1.422,0.2604,0.8539,-0.8316,-0.076,-0.5978,-0.2171,0.5369,0.1191,-2.716,-0.3805,-0.5508,0.6789,0.5777,0.2236,-2.236,0.7858,-0.5615,-0.547,-1.107,0.615,0.3899,0.0427,-0.255,-1.149,-0.5425,-0.1891,-0.6197,0.7448,0.7502,-0.4649,0.8804,-0.4099,-0.6491,0.8844,0.6205,-0.2482,1.264,-0.9419,-0.3052,-0.0701,-0.9062,-2.189,-0.8183,-0.242,0.7315,1.369,0.5346,1.135,0.7664,-0.3108,0.3819,-0.9315,-0.2428,0.3088,0.6525,-0.4694,-1.257,0.1554,0.0546,-0.2536,1.394,-0.7177,0.791,-0.9388,-1.374,-4.055,0.2666,0.598,-0.1768,-0.2851,-0.4639,-0.1527,-0.4244,-0.0135,-0.1881,-0.3188,0.3148,-3.791,0.277,0.0693,0.3946,-0.3841,1.058,0.4889,0.0917,0.8189,-0.906,0.3746,0.5518,-0.1974,-0.4725,-0.1843,0.1361,0.003,0.6914,0.1567,0.6124,-0.8593,-0.0398,0.1216,-0.7916,0.6018,0.4867,0.5321,0.6858,1.109,0.1033,0.4444,0.0954,-0.3484,0.1815,0.1596,0.5956,-0.5301,0.0021,-0.0803,-0.1016,-0.4013,0.1078,-1.317,-0.2389,0.0084,1.091,0.6532,-0.0168,-1.465,-0.5224,-0.3495,-3.917,0.31,0.2091,0.1814,-0.1235,0.7596,-0.7599,-0.2328,-0.2607,-1.188,-0.5187,-0.7351,-1.018,-0.2037,0.9151,0.3361,-6.066,-1.242,-0.0384,0.8223,0.7736,0.0783,-0.9828,0.7463,0.096,1.555,-0.6138,0.5121,-1.374,-1.156,0.397,0.0703,0.2111,0.3057,-1.439,-0.3372,-0.1097,1.186,-0.0891,0.1917,-1.318,0.8483,-5.933,0.521,-0.0801,0.2121,0.6641,-0.0948,-1.22,0.1824,-0.0711,0.5662,-1.039,-0.8037,-1.082,-0.1358,0.7023,-1.022,-1.0,-0.4611,-0.8727,1.278,-0.6191,0.4322,0.4232,0.1204,0.7681,0.7544,-0.4695,-0.0992,0.2216,1.561,-1.014,0.1628,0.0365,0.4135,0.0342,0.7835,-0.5388,0.0449,-3.814,-1.06,0.406,-1.367,0.2789,-0.2161,0.3106,0.1302,0.5047,0.5135,0.1834,0.2033,0.1656,0.2213,-0.4437,0.2421,-0.1939,0.0788,-1.291,-0.5028,-0.1042,0.1356,-0.7814,-0.524,0.9193,-6.178,-0.6924,0.12,-0.6782,-1.059,0.3763,0.5987,0.5831,0.5267,0.5207,-0.607,0.3112,-0.2944,0.2378,1.4,3.292,-0.7602,0.1426,-0.6102,-0.7824,0.3381,-1.851,-0.4412,0.5023,-0.501,-0.0297,0.0972,-0.544,1.126,-0.3227,0.0723,-0.5714,-0.1178,2.099,-0.9183,1.197,-0.8067,0.3347,-0.4006,-0.3291,0.4158,0.3554,-3.263,0.3329,-0.2052,-0.088,1.799,0.7244,-2.0,-8.825,1.466,0.6745,0.3828,-0.2955,-0.1588,0.9746,0.2395,-0.7776,-0.8589,-0.922,0.018,-0.8736,0.5076,-0.358,0.5393,-0.5689,-0.2233,-0.0761,-1.577,-0.1285,0.3977,-0.1817,0.136,0.2854,0.0629,0.1505,0.6197,-3.786,-0.6389,0.9118,-0.0445,-0.8785,-0.7237,-0.5396,0.1526,2.294,-0.0243,0.9219,-0.3684,-0.2673,-0.1094,0.024,-0.3243,0.5379,0.4786,-0.4742,0.6881,0.8201,-0.2448,-0.4421,-0.8198,-0.7724,0.4428,-0.1237,0.8382,-0.6604,-0.5307,-0.124,0.5648,0.803,-0.7407,0.3446,-0.7355,-2.222,-0.3061,0.2835,-0.6604,-0.4114,0.5247,-1.232,-0.0717,-0.3877,0.6489,0.7254,-1.257,-0.317,0.2344,0.2765,-4.904,-0.9059,-0.5094,-0.6262,0.2381,0.0251,0.5668,-0.6781,-0.7366,-2.236,-0.3831,-0.0953,-1.491,0.4958,-1.515,0.4755,1.286,-0.6306,0.7967,0.0829,0.3996,-0.3153,-0.3405,0.4154,-0.1867,1.065,0.2546,0.042,0.8464,0.0198,0.5406,-1.705,0.5405,-0.6951,0.7717,-0.1525,0.544,0.0129,-0.0887,0.149,0.746,-0.377,0.6787,0.0,0.9067,-0.0235,-0.9413,0.8966,-5.005,-0.7631,-0.6019,-0.1588,0.0628,-0.4283,0.2275,-1.069,0.1694,1.363,-1.258,0.3536,-1.088,-8.13,-10.0,-0.2545,-0.2757,-0.3457,-0.0539,-0.049,-1.133,0.2751,-0.8559,-1.141,0.8148,1.542,-0.5925,-0.4951,-3.836,0.2885,0.3058,0.0989,0.6216,-0.2951,0.6388,0.5886,0.4135,0.5551,-0.3197,2.193,0.4756,1.197,-0.0614,0.8852,0.0862,-0.4416,-0.3197,0.1501,0.2742,0.3515,0.4702,0.4768,-0.2016,-1.754,-6.234,-0.1723,0.0738,-1.073,-0.227,1.778,-0.5788,-0.1673,-0.1963,-0.257,-1.381,-1.022,0.8413,0.3875,-0.2014,-0.6448,-0.3962,0.6811,-0.1367,-1.085,0.7247,0.9741,0.6515,0.268,1.114,-0.3828,-0.2242,0.2439,-6.293,0.147,-1.056,1.531,0.8914,-0.3848,-0.0727,0.9444,-1.96,-0.6207,-0.2327,-0.4631,0.4642,-0.0732,0.6471,-1.035,-0.482,0.6965,0.6742,-0.5414,1.298,0.6048,-0.1626,0.4029,-0.8849,-0.2091,3.767,0.4253,-0.0649,-0.2958,-4.326,-0.5001,-1.091,-1.132,-1.224,-0.6865,-1.6,-0.5662,-0.4129,0.6209,-1.796,-0.1131,-0.2207,-0.6684,0.1629,1.155,-0.3515,-0.1187,0.0637,0.1737,-1.051,-0.064,0.6499,1.128,0.0513,-0.1897,0.7272,0.5953,0.2725,0.4108,1.25,-2.134,-0.6718,0.7865,-1.885,0.5743,0.0228,-0.6301,2.137,0.3002,-2.194,-0.3828,0.5153,-0.4747,-0.4285,-0.4003,2.386,-1.093,-0.1344,-0.0949,-0.1892,0.1448,0.8215,0.0453,-0.2883,-0.7681,-0.5558,-1.868,-0.4682,-0.7791,0.8795,0.1221,-0.7546,0.4907,-0.2028,-0.2195,-0.0544,-0.8202,0.9939,0.7169,-0.3942,-0.8032,-0.4947,-0.1386,0.2314,-0.5773,0.6135,0.9381,0.1808,3.399,-0.6516,0.3347,1.061,0.2778,1.434,-1.011,0.3481,-0.9291,0.5497,0.5465,0.113,0.6539,-1.248,1.219,-0.2857,-0.1414,-0.2423,0.0379,-0.147,-3.158,0.2408,-0.473,0.5923,-1.441,-0.1494,-0.6571,-0.8147,-0.7211,-0.0135,-0.3404,0.9227,-0.2908,-0.12,-1.245,0.3313,-0.2606,-4.907,-0.3879,-0.7251,-0.2925,0.9003,-0.4832,0.9448,0.133,-8.087,-0.4038,-0.0422,0.5883,1.56,0.1251,-1.949,0.6407,-0.6957,-0.0432,0.3787,-0.5913,1.088,0.5285,0.5196,-4.096,-1.281,0.3104,1.716,-0.2503,-1.158,-1.268,-0.0621,-1.284,-0.5719,1.128,1.115,0.2285,-0.4519,-0.4513,-0.0958,-1.232,-1.003,-0.5099,0.376,0.566,0.5914,-0.2686,-0.86,0.3898,0.5694,-0.8625,-0.5684,0.5976,0.3339,-0.2435,-0.7048,1.24,0.2506,0.2752,-1.091,0.3688,0.4934,-0.9681,-0.3424,0.9243,0.162,1.022,0.1708,-1.322,-0.4634,-0.7329,-0.8464,-0.0215,-1.125,-0.5586,-9.405,-0.2688,0.1524,0.6967,0.2629,-0.3731,-0.4941,1.054,-0.0615,0.3903,0.6178,-0.4276,1.034,0.5831,3.327,-1.611,1.151,-0.7158,-0.0096,-0.8152,0.6195,-1.441,0.1806,-1.041,-0.7242,-0.719,0.5922,0.3774,-1.015,0.6044,1.126,0.0527,-1.102,-0.7608,-0.9965,-1.238,-0.3038,0.1735,1.003,-0.1937,-0.2471,-0.1803,-6.438,0.0914,-0.2205,-1.204,1.392,0.0439,-0.2649,0.2231,0.2889,-0.0466,0.5577,-2.619,-0.6255,0.5776,-0.364,0.4541,0.1954,-0.3087,0.5541,0.1393,-2.68,0.416,0.7181,0.5828,-0.0042,0.2264,1.297,-0.2775,-0.6287,-0.6551,-0.0495,-1.511,-1.126,-0.3025,0.5442,-0.0783,-0.2891,-0.1206,1.598,0.2779,-0.5726,-0.4416,-0.4573,-1.397,0.2347,-1.233,-1.175,0.6473,-0.722,0.2971,0.0365,1.428,-0.1688,0.6394,0.1781,-0.7118,-1.202,0.1477,-1.149,-3.052,-0.1512,0.6045,-0.8038,0.3857,-0.5713,0.2064,0.6212,0.1435,0.4262,-2.028,0.3324,-0.2896,-0.4552,-1.85,0.7282,0.463,0.4294,-0.2472,0.3171,0.4847,-0.5337,1.286,0.1452,-0.9614,-0.6633,-0.9202,0.023,-2.58,-8.349,-0.6175,-0.6637,-0.5084,-0.3016,-0.5152,0.402,0.4399,0.8745,-0.2728,-1.632,-0.8789,-0.2307,-4.504,-0.0357,0.0416,-0.2394,-0.3751,0.2344,0.85,-0.3248,1.773,0.4611,-1.542,0.2986,-1.311,0.3497,-3.666,2.501,0.7968,0.238,-0.4408,1.122,-0.4216,-0.6299,-0.1275,-0.2955,-9.041,1.136,0.1462,1.376,0.7268,-1.11,2.112,0.0859,-0.1452,1.175,0.0115,0.4447,0.1878,-0.8509,-0.6918,-0.58,-0.3528,-0.3042,0.4578,-1.259,-0.1113,0.6941,0.5494,-0.6637,0.1287,0.2753,0.4451,-0.5561,0.4719,-0.9923,-0.0589,-0.714,-0.4131,0.8242,0.3661,-1.191,-0.1844,-1.013,-0.6142,0.758,-0.9227,-0.8482,0.5764,-0.2803,-0.2482,0.2489,-0.3498,0.1546,0.1978,0.9772,0.9801,-0.4502,2.491,-1.029,-1.434,-0.636,1.549,-0.2699,0.1972,-1.844,-2.558,-2.442,0.3489,1.371,-1.826,0.1022,-0.3935,-0.2533,-1.044,0.683,0.1618,0.6827,0.1939,0.5669,-1.464,-0.358,-0.085,-0.5045,1.277,0.5529,0.4365,-6.869,0.9778,0.818,0.2651,1.11,0.377,-0.6124,0.9955,-0.3176,-0.4072,-1.844,-5.353,0.7448,1.325,0.0286,-0.5213,-0.4444,0.5074,1.162,0.2467,0.8738,-0.3311,1.74,0.0779,1.189,-0.1781,-0.094,-0.2609,-1.64,-0.2641,0.2932,-0.1484,-0.5791,-0.2038,-1.268,0.0649,-0.4006,0.4178,-0.1119,0.507,0.0577,0.3145,-1.407,-3.494,-0.0351,-0.6053,-0.0775,0.0413,-1.068,-0.027,0.6335,1.219,-0.996,-0.1349,-0.4437,0.4991,-0.2662,-0.0664,-0.0761,-2.139,-0.0304,-1.27,-0.0553,0.6019,-1.149,-10.0,0.1187,-0.5757,0.7254,-0.6571,0.4681,-0.0158,-2.084,0.3269,-1.137,-0.0312,-0.1182,-0.8748,0.8705,-0.4256,-0.84,0.207,-0.1879,0.5378,0.6671,0.1901,0.2129,-0.9556,-0.1541,-1.103,0.1247,-1.276,-0.0132,-0.4823,-1.087,-0.265,-1.609,0.6599,-0.2275,0.4801,0.2067,-0.4384,-0.4863,0.0115,-0.4442,0.5868,-0.4453,0.5157,-0.0257,0.3524,-3.968,-1.306,-0.752,-0.5028,0.573,-1.132,-0.3787,-0.7032,-1.978,-0.1182,-1.362,0.2634,1.035,-0.2014,-0.2075,0.4827,-0.761,1.128,0.2155,-0.3914,0.3823,-1.281,0.6429,-1.538,0.134,0.8372,0.785,1.262,-0.0717,0.6159,-0.4312,-8.019,0.7902,0.8772,-0.3077,0.5005,-0.3858,-6.722,-0.2575,-1.794,0.7273,-4.238,0.18,0.1382,0.6779,0.5811,-0.6733,0.3708,-3.169,-0.47,0.4033,-0.9295,-1.611,-1.807,0.2247,0.6243,-0.9402,0.367,-0.4628,0.6172,-1.154,0.8067,0.2977,-0.6018,1.146,1.394,-0.5476,0.1364,0.9193,1.293,-1.419,-0.9008,-0.3267,0.3264,-0.4011,-1.189,-0.2304,0.5495,0.3311,-0.5632,-4.665,0.2255,0.2456,-0.5573,-0.3096,-0.3878,0.7459,-1.502,-1.934,-0.6198,-0.431,1.234,-0.5544,-0.374,0.2914,-1.053,-1.799,0.1888,-0.0172,-7.943,-0.761,0.9707,-0.5015,-0.0931,-1.21,-0.5387,-0.5851,-0.9672,0.74,-0.0684,0.46,1.101,-0.0051,0.2536,-6.882,-0.076,1.278,-0.2439,-0.3419,0.2991,0.2425,-0.5752,-1.829,-1.183,0.4475,1.034,1.359,-0.024,0.3819,-1.059,-1.634,0.4008,0.7247,0.1737,1.541,-0.3968,-0.1971,0.6108,-0.0286,-0.3908,0.9463,-0.6998,-0.6061,-0.0764,0.2239,0.6096,-1.805,0.056,0.1436,-0.3536,-0.0831,-9.264,-0.0747,0.3677,1.059,-0.1423,0.5106,0.5106,0.6029,-0.1003,0.954,-9.446,-0.3983,-1.747,-0.7502,-0.4983,0.0708,-1.398,-0.4803,0.0992,-0.6217,1.335,-0.5497,0.0,0.8785,0.5878,0.0194,-1.694,-1.674,-0.2024,-0.4021,0.6003,-0.3058,-0.5337,0.171,-1.109,0.7657,1.009,0.4006,-0.1669,-0.5641,0.0617,-1.085,-0.1796,0.5312,0.6237,0.8119,-0.0278,0.4763,-1.992,-1.616,0.7858,1.959,-0.1112,-1.081,-0.2895,-0.3372,1.593,-0.0046,1.11,-0.2997,-1.186,-1.88,1.016,0.6659,0.9283,0.3037,-0.6306,-0.7087,-1.366,0.7305,1.394,-0.2112,-0.3379,-0.0165,0.3457,-0.5875,0.0109,0.4263,-0.0264,0.5166,-0.9433,0.8806,0.3549,0.4047,-0.5221,0.1416,0.2979,-1.466,-0.256,-0.6661,0.1323,-0.7263,-0.3544,-0.3056,0.4747,-0.253,0.2653,-4.822,0.6705,0.638,1.709,0.4778,-1.677,-0.6405,-2.134,1.036,0.6652,-0.4667,0.1555,-0.0335,0.3109,-0.3612,-0.1537,0.1385,-0.232,0.6351,0.0431,-0.0289,0.1126,0.4128,0.286,0.5743,-1.001,0.0877,0.0428,0.0716,0.1247,1.038,0.1679,0.1727,-0.4692,0.0155,0.2853,-0.2714,-0.87,0.8836,-0.9354,-0.1697,-0.7699,-4.335,0.1066,-0.4725,0.2066,-0.0219,-0.8749,0.9625,-0.6612,0.9401,-0.0418,1.257,-0.961,0.1025,-0.6284,-0.0412,-0.513,0.6589,-0.1983,0.2314,0.511,0.0923,-0.7672,-0.5417,0.2455,-0.1076,-0.8881,0.0516,-0.2668,-2.967,-0.9159,-0.7167,-1.088,-0.1741,0.9897,0.21,1.0,-0.37,0.1204,0.0981,-0.0038,0.6296,-0.0691,-0.5544,0.0,-0.4353,-0.7604,-1.008,0.0911,0.3058,0.5256,0.429,1.213,0.2236,0.2536,-0.0593,-1.016,0.0988,-0.2885,-0.1203,-0.673,-0.7889,-0.5682,1.657,1.505,1.238,0.7928,-0.6018,0.5981,0.5197,0.2738,0.2842,1.126,0.5991,-0.2378,-0.1314,-0.8809,-0.6937,-2.386,0.1376,0.2774,0.7723,-0.0326,-0.301,1.04,0.2175,0.9976,-0.4144,-0.264,0.4864,0.1639,-3.086,1.638,-0.4526,-7.661,-0.4317,-0.2652,0.3548,-0.1154,0.3954,1.337,-0.3741,-5.23,0.0347,0.4438,1.965,1.059,-0.5461,0.4176,-0.2695,0.2196,0.803,-0.2693,-0.0551,-0.3482,-0.0708,-1.238,0.2334,-0.4938,-0.1281,0.1142,0.4862,0.1005,0.8421,-0.563,-0.4639,-0.1965,-0.0165,-5.035,1.974,0.1499,-1.249,-0.8828,-3.506,0.0659,0.5859,0.604,0.8416,-0.1619,0.9215,0.3744,-0.3115,-0.255,0.887,-0.6788,0.7592,-5.341,1.076,0.1899,-0.0449,-0.3382,-0.0126,0.5978,1.712,0.2889,1.173,1.027,-0.046,0.6556,0.4862,0.517,0.8845,-1.338,-0.316,0.7979,-0.7697,-3.313,1.129,0.6815,0.9545,1.28,-0.3113,0.1133,1.148,0.0,0.967,0.7274,-0.2017,0.3372,0.3045,0.2894,1.191,0.334,0.6607,-0.4873,-0.3582,-0.3946,0.005,0.0344,-0.0381,-1.389,-0.7253,-3.071,0.7315,-0.4566,-2.019,-1.227,-1.595,-0.1554,0.5297,-0.0958,0.7272,-0.8059,-0.3932,-0.4488,-0.0059,0.7854,-0.3266,0.5376,0.4395,0.2617,0.3704,0.0014,-0.3395,0.7617,-0.4462,0.1933,-1.199,-1.87,1.042,-0.8197,-0.4647,0.6465,0.4499,-0.1368,-1.343,0.4569,0.7541,-1.033,-1.2,-0.5537,-0.0026,0.2496,0.7201,0.1649,0.6219,-0.9448,-0.1273,0.252,0.171,0.368,-0.3644,-0.4162,1.337,-0.2218,0.3353,0.0546,-0.133,-0.6417,0.2016,-0.9832,-1.03,-0.0563,-0.0094,-0.8738,-0.1534,-0.7905,-0.6026,0.2933,-5.575,0.5785,-0.5631,-1.076,-0.3142,-1.128,-1.002,0.4342,-1.1,1.324,0.2796,-0.4978,-0.1517,-0.1494,0.5696,0.3267,1.301,0.405,-1.171,0.8451,-0.2875,-1.219,0.168,1.18,-0.1767,-0.0968,-4.584,-0.5142,-0.6916,-0.1635,0.4574,0.0432,0.0837,-0.5912,0.5092,-1.353,0.0,-0.6503,0.3579,0.9129,-0.5576,-0.8566,0.0232,-0.4498,1.066,-0.4624,0.7013,0.1088,-0.3155,-0.2433,-0.7652,1.225,0.5548,-0.5598,0.7392,-0.2882,0.568,0.4754,-0.548,0.2708,-0.5195,0.0706,0.7585,-0.5609,-0.6199,0.6515,-0.6718,-0.5187,0.3095,0.0997,-0.3004,1.334,1.106,1.966,0.4437,-0.1938,-1.035,0.1366,-7.986,-1.136,-0.8316,0.654,-0.1454,0.4744,-0.344,0.5664,0.1921,0.3174,-0.7042,-0.0174,-0.7478,0.7223,-0.3704,0.8171,1.133,0.7883,-1.397,-0.1494,-0.2171,1.074,-0.2123,-0.7949,0.0415,-0.6087,0.9919,0.6462,0.3579,-0.6771,-0.201,1.3,-0.0668,-1.874,0.6973,0.6665,-0.4566,0.8475,-0.5188,0.2545,-1.562,0.1155,1.18,-0.988,-0.2632,-0.3512,-1.038,0.6066,-3.706,-8.143,0.1657,-1.252,0.0823,0.6141,0.0919,-2.249,0.8422,-0.2829,-0.7545,0.3249,-0.3781,0.2293,0.574,1.78,-0.8229,-2.067,0.0684,0.6822,1.077,-0.4124,0.0,-0.9235,-0.8758,0.332,0.378,-1.287,0.5409,-2.319,0.0817,0.5038,0.0212,-0.4808,-0.2852,-0.8613,-0.413,-0.8381,-3.819,0.8885,-1.587,0.6098,-0.482,-0.5702,-0.0306,0.9504,1.053,-0.6234,-0.0665,-0.7297,0.8708,-0.1457,-2.098,-0.6304,-0.579,0.9273,-0.0018,-1.143,-0.1328,-0.0119,-0.345,0.0129,0.3619,-0.2606,-0.2284,0.1849,-0.2746,-0.6401,-1.305,-0.3605,0.4384,0.4049,-0.5924,-0.2154,0.4107,0.1434,0.6414,-0.1057,-0.3728,-0.6897,0.407,0.1354,-0.1744,-0.1668,0.2878,-0.2373,-1.087,1.608,0.8533,-0.9034,0.3535,0.2973,0.3033,-0.4478,0.601,-3.532,0.1829,0.6632,0.6956,-0.2316,0.6963,0.6226,-0.1885,0.2663,-2.243,0.2414,1.194,0.7621,-0.5867,0.2696,0.0916,0.0044,0.2988,-0.493,0.6913,0.1353,0.7444,0.5785,-0.275,0.0277,0.3586,-0.3971,-0.3544,0.7055,0.7499,-5.017,-0.46,0.2367,0.3252,-7.95,0.1011,-0.209,0.5881,-0.1562,0.048,-0.291,1.37,0.0,-0.5225,0.3582,-9.483,0.5235,-0.1805,-1.304,-0.4999,0.0184,0.0791,-0.2738,0.3806,-0.5449,1.106,0.0168,0.3438,-0.8059,0.2439,-0.1679,0.3119,0.7262,0.5508,-0.004,0.1343,-0.2307,-2.041,-0.3582,-0.1663,0.274,-0.6904,-0.2374,0.7853,0.5708,0.489,-0.2067,-0.5706,-0.1035,-0.1831,0.29,-0.3733,1.008,-0.3681,-0.6102,0.4279,0.3901,-0.0607,-0.227,-1.755,-0.5508,-2.65,0.296,1.038,0.3106,-0.3925,-0.2657,-0.1765,0.1421,-0.2818,0.3003,-4.132,0.3093,-1.063,0.1298,0.4627,-4.681,-0.729,0.377,-1.111,0.5524,0.6299,-0.1609,-1.147,-0.3856,-0.8384,-0.2034,1.275,-0.3689,0.3729,-0.3521,0.1453,0.9392,0.4756,-0.0433,-1.462,-1.404,-1.426,-0.1995,-0.8899,-0.0668,-0.1886,-1.325,-0.2536,-0.775,0.5269,-0.2165,-0.8285,-6.065,0.0934,0.5483,-0.0722,0.4945,-0.7848,-0.3878,-0.2903,-0.5165,-1.622,-0.461,-1.299,0.0,-10.0,-0.3755,0.429,0.7554,-0.0233,-1.004,0.1183,-0.5324,0.3322,1.886,0.9296,0.8425,-1.06,0.5357,0.1014,0.6032,0.103,-0.3978,-1.797,-0.309,0.4421,1.207,0.2499,-0.5774,-2.096,1.004,0.5512,-1.115,-1.158,-1.157,-0.8326,0.6019,0.2435,0.7564,-0.9777,-0.7182,-0.6493,1.894,0.5376,0.4518,0.1523,-0.431,-0.8047,-1.172,-1.318,-0.2284,-1.139,-1.648,0.9073,0.3372,0.4387,0.1674,0.3543,0.0267,-1.447,-1.377,0.0,0.5628,-0.1222,1.314,0.2876,-0.5117,-0.2614,0.735,-0.1333,-9.906,-3.449,0.2654,-0.989,-1.401,-0.3448,-2.289,-3.363,0.1098,0.2553,-0.4733,0.4419,-1.444,-0.7372,0.1211,-0.1615,-0.1753,-1.604,0.5148,-0.0158,-1.337,-2.71,-0.0143,-0.1787,-2.854,-0.0595,0.8063,0.3398,-0.3477,-0.9434,-0.6098,-0.7723,-6.524,-0.3113,-0.5027,0.633,-0.0563,0.9803,1.321,-1.241,0.6905,-0.1065,-1.127,0.633,-0.6793,0.4864,-0.921,-1.249,0.4627,-0.5873,-1.381,-0.7457,0.3656,-1.092,0.3999,0.1781,-0.6091,0.6539,1.0,0.9004,0.8429,2.259,-1.329,0.2691,0.4245,-0.3216,-0.9798,-0.6654,-0.2766,0.801,-1.612,0.5426,-0.6563,-0.2736,0.6172,-0.0843,-0.1443,0.1077,1.335,-0.3207,0.348,0.3102,0.5923,0.5872,0.4339,0.3586,-1.275,-0.3424,-0.1331,0.4123,0.2889,0.4633,0.4884,-0.2688,1.773,-0.3906,-0.0261,1.05,-0.3944,0.4063,-0.0948,-0.0537,-0.2182,-0.8008,-0.2094,-0.2141,0.2095,0.5308,0.3015,1.341,0.5664,-0.7343,0.0445,0.4437,-0.5314,-0.1781,0.5412,-0.3326,-0.3072,0.9153,-0.8576,0.5964,-1.921,0.0796,0.1943,-0.5099,-0.3751,-0.2037,0.9888,-1.206,-0.5441,-0.1444,1.466,0.8367,-0.0285,-0.3271,-1.838,0.777,0.031,0.3568,-2.53,0.2004,-1.117,0.6191,0.0428,0.0806,-0.4708,-0.4519,-0.706,-1.241,-0.3282,-0.5448,0.1808,-0.7245,-0.891,0.3601,0.6401,-0.23,0.6902,0.0168,0.9011,-1.503,-0.9347,-0.1905,-1.522,0.3794,0.4489,-0.1977,-1.172,0.0992,0.0974,0.7165,-0.1826,0.8778,-0.9827,-1.561,0.2225,-0.5961,0.5352,1.421,-0.4834,0.3986,0.3037,-1.292,0.0554,-0.575,-0.6783,-0.1481,1.447,0.3245,-1.043,-0.4928,0.1158,-1.746,0.6462,-0.3129,1.347,-0.2864,0.5207,-0.5129,-0.9716,-1.717,0.1328,-0.7242,0.0489,-0.0316,-0.991,-0.1995,0.3783,-1.062,-0.1666,-0.6173,-0.2932,1.002,-0.3737,-4.949,-0.3026,0.7665,0.714,-0.2393,0.6701,0.1143,0.538,0.6596,-0.4058,-0.5665,-0.0793,-0.8556,0.3372,-0.1251,0.7497,0.5719,-0.1187,-1.738,-1.862,0.1084,1.334,-0.4121,0.4703,0.6672,0.7711,-0.348,-0.75,-0.2471,-0.0411,0.3372,0.46,-0.604,0.5277,-0.0897,-0.4112,0.3582,-2.06,0.1579,-8.855,-0.2148,0.4158,-0.6612,0.1669,-0.0239,-7.93,-0.4174,0.0759,0.0629,-0.898,-0.0127,0.5823,-0.7293,-0.173,-0.3642,-0.9911,-0.1599,-0.4035,0.8801,0.9159,0.215,-0.6288,-0.1045,-0.5071,0.896,-0.761,2.054,-0.992,0.3697,-1.023,0.2558,-0.4907,-0.0771,-0.2144,0.1505,-0.3185,-0.6893,0.7711,-0.7514,-0.3585,-0.1929,-0.6313,0.6705,-0.4981,0.244,0.3887,0.6414,-1.138,-0.2243,0.3677,-0.2929,-0.9421,-0.3388,0.5547,0.4273,-5.021,0.9254,-0.8811,0.4938,-0.1503,-0.1056,-0.3376,0.0246,-0.3424,1.362,-0.4444,0.2172,-0.1997,0.2826,0.2675,1.243,-0.1966,0.1358,0.3523,-0.0388,-1.026,0.4802,-1.73,0.2228,0.1054,0.7406,0.6752,-0.0587,1.061,-0.7139,0.1392,-0.7423,-1.054,0.2964,0.4857,1.176,-0.2753,-1.113,-0.8839,-0.3478,-0.6657,0.6658,-9.479,-0.525,-0.324,0.279,-0.2307,-1.14,-3.817,0.3034,-0.4133,-0.1419,0.8838,0.1584,0.224,-0.4563,0.1777,-0.5389,0.3372,0.4135,-0.2311,0.6473,1.482,-0.1125,0.9191,0.4959,0.0,-0.0748,-0.3723,-1.485,-2.115,0.7526,0.8203,0.8569,0.2248,-0.0648,0.093,0.7558,-0.5382,0.153,0.5997,-0.0384,0.2941,1.008,0.1027,0.2346,0.9241,-0.6613,-0.0583,0.3136,0.2707,0.3961,-0.6201,0.0068,-0.1096,0.4867,1.403,0.2145,1.085,0.3314,-0.2971,-0.7926,-0.1494,1.212,0.3763,0.4835,-0.2316,-0.0677,0.0124,2.109,-0.3023,-0.3389,0.1177,0.3358,-0.4866,-0.3813,1.271,0.1244,0.7032,0.4082,-1.291,0.4483,-0.2195,0.5244,-0.0479,0.198,1.033,0.1655,0.2761,-0.1388,0.3177,0.1029,-0.7919,-10.0,0.1019,-6.787,0.2016,-1.417,-0.335,-0.0556,-0.1141,-0.276,0.3201,-0.0619,-1.504,0.9534,0.2112,0.0759,-0.3535,-0.8522,0.3384,0.8407,1.103,-0.5942,0.3539,-0.9258,0.1807,0.6627,0.2369,0.8542,0.4991,-0.7038,-0.0266,2.077,0.6831,-5.02,0.6406,0.803,-0.1354,-0.8735,-1.087,-1.046,0.2912,-1.321,0.5791,0.4391,0.9858,-0.5083,-0.0532,0.286,0.3875,-0.7409,-0.455,0.8722,0.9971,1.617,0.3483,-1.315,-0.1205,-0.9553,1.475,-0.1203,-0.954,-5.014,0.1775,1.367,0.95,-0.0277,-0.3964,0.2038,-0.0219,1.456,0.2745,1.301,-0.8331,-1.289,0.0675,-0.4434,-0.1663,-1.176,0.5133,-2.058,-0.3208,-0.7143,-1.197,0.2584,0.7449,0.1781,0.4122,0.9813,0.1429,-0.8556,-1.071,0.0759,0.365,1.58,0.4072,-0.0857,-1.03,-0.3357,-0.7491,-1.309,0.9875,0.0135,0.7525,0.4092,0.6414,-0.3874,0.4489,-0.2732,0.8108,-4.055,-0.9526,-0.1765,0.1859,-1.388,1.74,0.5416,-0.3552,1.134,2.011,-0.0374,-0.3824,0.0459,0.9779,0.6751,0.345,1.062,-0.3829,0.2662,0.1712,0.5605,0.5351,0.0715,0.015,0.4434,0.763,0.9451,0.0751,-0.3237,0.3905,0.4938,-0.7791,-0.7469,0.946,-0.7541,-0.1292,-0.6067,-0.9364,0.3178,-0.8146,1.253,-5.279,0.7943,-0.9634,0.0019,1.11,1.431,0.846,-0.3907,0.5996,-1.755,-0.3062,1.818,-9.608,0.0222,-0.3396,-1.823,-0.9124,-0.5475,-0.7214,-0.2115,0.1961,0.1935,0.174,1.231,-0.0866,-0.0697,-1.255,-0.1382,-1.373,-1.462,0.3067,-0.0114,-1.012,-5.09,-1.145,-0.1784,0.2725,0.5591,-1.152,0.003,-0.7612,-1.153,-1.234,0.8851,0.3821,-0.3792,-0.4796,-0.0544,-1.567,-0.5396,0.6626,-0.0593,-0.1678,0.5213,0.5448,0.9095,1.043,-0.3788,-7.597,0.3044,-4.849,0.0675,-0.7156,-1.029,-0.7139,-0.5074,-0.5685,1.075,-0.1028,-0.3388,-0.2812,-0.2462,-0.6741,-0.3686,-1.518,-0.747,1.065,-0.2579,0.1808,-0.6444,-1.052,0.0858,-1.481,-0.4712,-0.1431,-0.369,0.1163,0.3372,0.6498,-0.1586,-0.7111,0.533,0.7234,-1.491,0.2528,0.6425,-0.8371,-1.1,0.6987,0.0748,0.7439,-0.7929,-0.6636,0.0759,0.6715,0.1683,0.7704,-0.9518,0.4621,-1.674,-0.077,-1.347,0.295,0.0554,0.3046,1.039,-0.1602,1.047,-0.4135,-1.572,1.855,0.5778,-0.0624,1.185,-1.259,0.3787,-0.2992,-1.201,0.2373,-1.023,-1.404,-1.196,0.0384,0.0715,0.5727,-0.1497,0.2165,0.0769,0.2814,1.401,-1.425,-1.003,-0.6867,0.2125,0.6173,0.2559,0.1197,-1.139,-2.605,-6.613,0.7025,0.2037,0.01,-0.0404,-0.012,-0.8587,-0.3528,-0.2707,0.3268,-1.011,-0.6915,0.0,0.0904,-0.3447,-0.8596,-0.1708,-1.495,-0.4346,-1.569,-0.5689,-0.4112,0.0992,0.1429,0.3324,-0.0667,1.488,-0.8206,-0.766,-0.1374,-0.118,0.2183,-0.1887,-4.691,0.7682,-3.028,-0.8465,0.3602,-0.7096,-1.033,-0.5658,0.6872,0.2553,-0.2937,0.2412,-0.9633,-0.5317,-1.691,-0.5652,0.1116,-0.2493,0.1839,0.1757,-0.1861,-0.1845,0.2368,-0.7958,0.7653,-0.3558,-1.172,-0.095,-0.0486,0.3062,-0.1365,-2.183,-0.369,-0.3194,-0.3209,0.0289,-0.3483,-0.4677,0.0914,0.3541,0.8981,0.3971,-1.344,-0.9438,0.636,-0.2536,-0.3254,0.2187,-0.2855,-0.0732,-4.692,-0.1973,-0.1435,-0.7659,-0.3258,-0.6525,-0.2582,0.3462,0.1102,0.187,0.1997,1.289,0.3372,0.511,0.1319,-0.6312,1.184,0.4388,-1.422,-0.6707,-0.1467,-0.2212,-0.4148,-0.3125,-0.1005,0.2639,0.9817,0.7054,-0.4254,2.094,-0.0779,-0.1688,-0.0764,0.4125,0.6538,1.672,-0.7776,-1.14,-0.3902,-0.2012,-2.365,0.6689,0.511,1.519,1.08,-0.4324,-0.372,-0.3971,0.5469,-0.733,-0.4997,0.1588,0.0835,-1.03,-0.5285,0.6067,0.7843,0.3715,1.289,0.5409,0.2535,-0.0769,1.658,-1.434,0.6355,-0.1287,-0.0968,-0.9284,-0.4868,-0.6792,-0.1843,-0.1875,0.647,0.4789,-0.786,-0.377,-0.7856,-0.2327,-0.6684,0.5703,-0.3192,-0.2812,-0.4148,-1.784,-0.2327,0.8677,0.0285,0.7075,0.6991,0.3774,-0.2847,0.6815,-0.7461,1.176,-1.631,0.1319,0.3695,-0.4234,0.2646,-0.1996,-0.0691,-1.22,-0.6251,-0.3657,-0.526,0.5045,1.608,-0.3826,0.0199,0.8428,-1.447,-2.65,-0.7957,0.5675,0.0143,0.6866,1.614,1.108,-0.6266,-0.7341,0.1183,0.3482,-0.6403,-0.1545,1.014,-1.718,0.5769,0.3848,0.9401,-1.022,0.8175,0.7291,-0.9406,-0.2296,-4.256,-0.4416,-0.5002,1.579,-0.3357,1.539,-0.0867,-0.3005,-0.5071,0.1091,1.891,0.0812,-0.4802,0.1224,0.7472,-1.227,0.7991,1.371,-0.7404,-2.214,0.1771,-0.7332,-1.257,1.041,0.8184,-0.86,-0.5227,0.6392,0.1295,0.0525,0.2738,0.0418,-0.1052,0.2153,0.8521,0.547,-0.3224,0.2671,-0.1667,-0.1781,0.7035,0.6667,-0.2785,0.5749,0.315,1.742,0.0245,0.1251,-0.3069,-0.4108,-1.654,-0.7153,-0.245,-0.0727,0.3201,0.0216,0.6266,0.4163,-0.0648,0.6452,0.4506,-2.169,0.2291,-0.6359,0.3142,-0.8758,0.231,1.217,1.197,1.071,0.0822,0.7926,-0.293,0.5679,0.3482,1.154,0.9536,-0.2631,-0.0607,-0.0249,-1.126,0.5328,0.5846,-0.4236,-0.1865,0.3101,-0.6985,0.7429,-2.081,-0.2091,0.3923,0.8109,0.516,0.0138,0.3062,-0.296,1.16,-0.1582,-2.398,-9.069,0.3699,0.0118,0.8906,-1.11,0.1526,0.0263,0.0442,-0.2796,0.1023,-0.4626,-0.5147,1.188,-0.0932,-0.3178,-0.0796,-2.685,0.5598,-0.4739,-0.8535,0.0415,-0.9828,0.0428,1.584,-0.0219,0.2275,0.5447,0.9144,-0.2702,0.1612,0.4097,0.0925,0.4267,0.225,-2.573,-0.808,0.2969,0.445,-0.4499,-0.2847,0.0226,-0.6616,-0.8018,0.0433,-0.3466,0.0813,-0.255,-0.0525,0.5357,-0.2318,-0.1347,0.0626,-1.089,-1.002,-0.0968,-0.0738,0.6267,0.1622,0.2735,0.3535,-0.0203,1.043,-0.1042,-5.502,0.5985,-0.2782,-0.378,-1.236,-0.8155,-0.4293,0.7267,-5.65,1.325,-0.8655,-0.9153,0.6298,-0.5064,-0.7756,-0.1465,0.1746,1.119,0.8136,-1.396,0.0813,-0.4263,1.821,0.372,-0.0239,-0.595,-0.5777,0.9564,-0.4803,-0.0921,-2.043,0.2937,-1.728,-0.4679,-0.571,2.155,-0.8431,0.8322,-0.4974,0.289,0.08,0.4592,0.1539,0.3377,-0.4395,-0.2314,0.0075,0.6263,0.9263,-0.0181,0.336,0.9163,-1.142,2.072,0.1468,-0.493,-0.1606,0.4617,0.7621,-0.5515,0.2243,0.5114,0.1474,-1.121,0.1905,-0.0935,0.6842,-0.3036,-2.574,-0.4914,-6.668,0.8803,-0.5256,-0.367,-0.4061,0.1584,1.63,0.0542,1.168,0.6946,-0.5333,0.0958,-0.6442,2.074,-0.6026,-0.5225,-1.354,0.731,1.138,-0.1916,0.4714,-0.3144,0.0415,0.219,0.0483,1.276,1.416,-1.112,0.3406,-0.4664,1.076,-1.193,0.8002,0.4168,-0.0842,-0.4539,0.7395,-3.061,-0.349,-0.4253,0.0014,1.631,-0.7182,-1.06,0.5288,-0.1136,0.3747,-0.4094,0.7615,-0.2921,0.4913,0.2743,-1.233,-0.1475,1.043,-1.123,0.4447,0.3083,1.163,0.1514,0.1992,0.1451,-0.7081,-0.6033,0.2792,0.3012,0.1771,0.8063,-0.0421,0.54,-0.3681,-1.089,0.0357,-0.2358,0.4676,-1.447,-0.5885,0.752,-0.3954,-0.0832,0.74,-0.4634,-0.0365,-0.1532,0.1943,0.2135,0.8354,0.735,0.4475,0.4913,0.2275,0.1053,-0.0664,-0.2215,0.31,0.0303,0.4101,0.4633,-1.079,-0.4478,0.758,1.44,0.5241,1.161,0.441,-0.0398,2.256,0.1772,0.5441,0.5484,-2.661,0.2031,-0.1197,0.3014,-1.028,-1.643,-0.0421,-1.047,0.1643,-1.132,0.8501,0.8992,0.0959,0.1275,0.4657,0.6417,-0.8921,-0.1524,-0.5926,-2.021,-3.278,0.9012,-1.047,-0.9497,-0.4566,-0.5231,-0.5978,0.0898,-1.2,-0.0861,-0.3276,1.947,0.679,-0.4975,-1.494,-0.1874,-0.5358,0.1352,-0.3666,-0.0489,1.646,-0.1401,0.0248,0.6576,-0.1553,-0.3607,-0.2285,0.1523,-0.6536,0.8684,-1.533,0.4652,-0.3031,0.4305,-0.4522,-1.035,0.8319,0.4644,0.5296,-0.3787,1.061,-0.3419,-0.7151,-2.432,0.1861,1.468,-0.7421,-0.5414,0.6707,-0.0754,-2.152,-0.3419,0.4087,-1.019,-0.9957,0.1811,-0.9309,0.1669,-0.2536,-0.631,0.1584,-0.4081,-0.402,0.7433,-0.2605,-2.462,0.5918,-0.3821,0.6067,-0.1767,-0.2125,-0.6247,-0.614,0.0859,0.0379,-0.1418,0.2942,-1.41,-0.1584,0.0503,0.1256,0.0109,0.0715,-0.629,-0.8264,0.0496,-0.6523,0.2799,0.705,-1.652,0.1708,-0.321,1.466,0.0715,-0.2424,0.0791,0.1147,-0.7783,0.0203,1.278,1.226,-0.914,-4.389,0.4981,0.5412,1.188,-0.1003,0.6266,0.239,0.3168,-0.5901,-0.5365,0.0549,-10.0,0.2835,-0.7365,0.4199,0.1193,0.383,0.799,0.2629,1.097,0.1343,-1.272,-0.0044,-0.252,0.1416,-0.1729,1.077,-0.2709,-0.7031,0.8927,-0.8662,0.24,-0.2884,0.4117,-1.403,-0.3066,-0.43,-0.4056,-0.5855,-0.5831,-0.6074,-0.1717,0.8586,-5.905,0.4387,0.0213,-0.8094,0.2943,-0.5757,-0.0124,0.4549,-0.7504,-0.891,-0.7564,-0.7761,-0.507,-0.1702,1.143,0.418,-1.402,0.8954,-0.4605,0.0,0.2096,0.251,0.2909,0.2893,-0.2633,0.0597,0.1686,-0.1734,0.7844,0.1665,0.7332,-2.4,0.1588,-0.4574,-0.8464,0.2036,0.1143,0.6313,-0.4724,0.0628,0.3481,0.7699,0.9305,0.9792,-0.4539,0.5214,0.2285,-0.2213,-0.3625,-0.2105,-3.864,0.2656,-0.3751,-0.6393,0.8873,0.6212,0.0554,0.0198,-0.1467,-1.102,0.2344,0.646,-0.9622,0.4946,0.0,0.0354,-0.4597,-0.5186,-0.6605,-0.2951,-0.0638,-0.2556,0.5336,-0.5171,0.9605,-0.9061,0.0305,0.0514,-0.5332,0.1747,-0.1764,-0.2384,0.7965,0.1971,1.775,-0.1983,-0.5441,-0.1195,0.2964,-1.903,-0.0871,0.2624,-0.0512,0.2949,0.9327,0.4176,-0.455,0.1693,0.7072,-0.6704,-0.1087,1.182,-1.384,0.3457,0.8057,-0.6993,0.3088,0.761,0.0461,-5.94,-0.2345,-0.2728,0.3123,0.7834,0.4867,0.0,-0.5643,-1.64,-0.1862,-0.0867,0.676,0.7942,0.0633,0.808,0.4186,-0.2038,0.0757,-2.228,-1.281,0.1235,-1.082,0.0017,0.0169,-0.4047,-0.0742,0.6789,-0.2652,-0.3914,-0.3483,-0.2364,-3.461,-1.981,0.6673,-0.0975,-1.375,-1.339,-0.1251,-0.5306,0.3375,-0.1762,0.0268,0.5226,-0.2297,1.082,-0.3327,-1.907,0.1903,0.1649,0.348,0.1231,-1.093,0.409,1.75,0.0459,0.2549,0.6522,-0.8054,0.2118,-0.086,0.8247,-0.0636,-0.7383,0.5762,-0.0853,-0.6404,-0.5713,0.966,1.282,-0.0129,-1.956,0.5286,-0.8939,-1.347,-0.3518,-0.0072,0.7266,0.5992,0.6901,-0.1242,0.2445,-1.072,1.099,-0.1606,-0.1787,0.3651,-0.6496,-0.2791,-8.339,-1.108,-0.2637,-0.2307,0.5504,-0.2709,-0.9645,-0.1253,0.2625,0.1847,-1.164,-0.5267,-0.6754,1.022,-9.192,0.6306,-0.8545,0.6273,0.1374,0.999,-1.317,-0.0065,-0.6229,1.016,-0.6421,0.1512,-1.161,0.1808,-0.2628,-0.3245,-1.876,-0.1707,0.7419,1.614,0.0,0.6263,-1.251,0.575,-2.185,-2.216,0.1612,-1.102,0.2551,0.3309,1.093,0.3992,-0.272,-0.1039,-0.5406,0.7461,-0.2028,-6.558,0.4306,0.2623,0.0117,0.8662,0.2287,0.7099,0.1042,-0.8613,0.7869,-0.9028,-0.3108,-0.0543,-0.0641,0.5986,-0.4949,-1.45,-0.2961,-0.7587,-1.803,-1.387,-0.9157,0.6246,-0.2067,0.5594,0.7786,-1.496,2.266,-0.4139,1.062,-0.5059,0.1163,-0.258,-0.084,-1.159,-0.6729,0.4549,0.048,-0.2333,-1.737,0.9855,-0.4262,-0.4664,-1.751,-0.7234,-0.1588,0.3792,-1.699,0.2546,0.5578,-0.0539,0.0476,0.6028,-0.8465,0.6055,-1.042,-0.4418,-2.197,-9.589,0.8888,0.6487,0.4141,-1.118,1.795,0.7181,-0.5986,-0.8216,-0.0621,1.011,-1.708,0.8593,-0.4185,-1.525,-0.8856,0.8924,-1.803,0.6524,-0.5469,-0.3023,-0.5407,-0.4536,0.7558,-0.1248,-0.0284,-0.2704,-0.8424,-0.1819,0.1155,-0.1768,0.2965,-0.0486,-0.7623,-0.4279,0.6154,-0.0462,-0.4611,0.7259,-0.3499,-0.1483,-0.1154,-0.0089,-3.111,0.3339,-0.3147,-0.3289,1.975,0.0717,-1.149,0.3156,0.1956,-3.161,0.7352,0.5943,0.9433,-3.853,-0.1046,-0.0779,0.2576,-0.1577,0.2373,0.2831,0.9935,-0.2291,-0.9857,0.7783,-0.6152,-0.7689,-0.9709,-0.6544,0.7274,-0.6793,1.182,0.7819,0.0543,-0.6521,-0.3931,-0.3528,-0.045,-0.464,0.3928,-0.0583,-0.9629,-0.2648,-0.229,-0.5889,-0.4978,0.0585,0.5007,0.0486,0.3706,0.4616,-2.122,-2.09,2.425,-0.8488,0.2165,0.0644,0.9844,0.6244,0.4907,-0.4433,0.737,1.591,-0.3511,-0.799,0.631,0.3005,-0.4527,0.1204,-1.885,1.419,0.4327,0.3795,0.1638,-0.1377,0.6963,-0.1377,0.1878,-0.3666,0.4478,-1.4,-1.302,-1.97,-5.033,-0.74,0.3859,-0.2078,-2.429,-0.0744,0.5927,-0.1928,-0.698,0.3548,-0.6535,0.457,1.567,-5.874,-9.038,0.3584,0.1646,-0.6044,-0.6508,0.0544,0.9263,-0.3277,-1.021,0.3551,1.02,-0.7853,-0.8401,-0.2887,-0.6846,0.4202,-0.1073,0.4227,-0.142,0.3116,0.7074,-0.1307,-0.8301,-0.4581,0.2532,-0.6648,-0.2786,0.2049,-0.7332,-0.3751,-0.8512,-0.4018,-0.3659,0.0713,0.0213,-5.314,-1.224,-0.567,1.345,-0.8832,0.8327,-0.8745,-0.527,0.0607,0.4971,0.7612,-0.1938,-0.3158,0.858,0.4491,0.2492,0.265,-2.97,0.1323,0.665,0.2698,0.6154,-8.643,-0.3466,1.827,-1.209,-0.3352,0.2087,-0.2993,-1.138,-0.3656,-4.767,0.4336,-0.7747,0.5858,0.2024,-0.034,-0.4111,-0.5589,-1.12,-1.431,-0.1972,0.1962,0.7946,0.2831,-0.8526,-0.0406,-0.5853,-0.635,-0.4209,0.4066,0.1702,-0.6448,-0.662,0.203,-0.9011,-0.4475,-0.3281,0.0098,0.4566,0.7228,-0.2463,0.286,0.1932,-0.0743,-0.1133,0.2022,0.5394,0.4932,-0.3285,-0.5272,0.0404,1.016,1.147,-0.1616,1.535,0.4778,-0.8322,0.4193,0.2422,-3.474,-5.475,0.9801,0.9248,-0.255,-0.0819,-0.9969,0.5308,1.478,0.65,-0.1693,-1.08,0.2395,0.6313,0.3391,-0.402,0.2582,0.5831,-1.132,0.5236,-2.207,-0.0215,1.343,0.6687,-1.478,-1.132,0.3224,-0.2156,0.0019,-0.5888,-1.648,-0.2444,1.903,0.8139,-0.6719,0.1112,0.2044,-0.3593,0.3358,0.3065,-0.6417,-0.8354,0.2227,-0.014,-0.1774,0.6629,1.021,0.0467,-0.3746,-0.7018,-0.8556,0.2411,1.326,-0.4886,0.4791,-1.069,-0.5577,-0.246,0.6704,0.2998,0.7827,-0.7131,0.1091,0.0418,0.0544,-0.3787,0.6055,0.6425,0.2063,0.1971,-0.4519,-10.0,-0.8597,0.1306,-0.0972,-1.181,0.0132,-1.138,0.3234,-0.8657,-0.8077,-0.7206,-0.0435,-0.8215,-1.006,0.7842,0.6667,-0.3576,0.6725,-0.4588,2.077,0.2722,0.5518,0.1776,0.6378,-0.0301,0.1018,0.2908,-0.004,-2.4,0.5062,0.6441,0.6107,-0.6978,-0.42,-0.2593,-0.1673,-0.7433,0.2041,-0.3851,0.3117,-0.0959,0.172,-0.2746,-0.6671,0.2765,0.205,-8.357,0.6201,0.1214,0.9713,0.1459,-0.1631,-0.0134,0.274,0.511,0.158,0.3214,0.4631,-1.101,-0.4349,-0.3204,0.4077,1.519,0.7605,-0.2887,0.0722,-0.2684,-0.7915,-1.028,-0.486,0.4446,0.0324,-0.965,0.8046,-0.6532,0.5109,0.2294,-0.235,0.4125,-1.079,-0.3056,-0.2277,-1.058,-0.578,-0.2054,1.89,-0.7459,-0.5033,0.5811,-0.2775,-2.503,-0.3386,0.0974,0.7679,-0.7702,-0.1133,-0.2512,-0.3245,0.6955,0.591,0.6009,-0.6838,-1.122,-0.2095,-0.1784,0.293,-1.133,-0.3748,-0.144,-0.5013,0.0433,0.4267,-0.4407,0.4704,0.2682,0.1762,0.1467,-0.589,-0.5401,-1.539,0.2696,0.9482,-0.1053,-0.0968,-0.5501,0.3001,-1.798,-0.9058,-0.4682,-0.2419,-0.049,-0.939,0.53,-0.4415,-0.5939,-0.002,-0.8454,0.4976,0.6927,-0.2549,-0.2863,0.2222,2.344,-0.5272,-0.3756,0.4611,-1.08,-0.2085,2.494,-0.6768,-2.01,-0.9068,0.7499,0.4018,0.1538,-1.374,-4.62,-1.885,0.034,1.459,-0.0944,-0.1331,-0.4624,0.289,-3.657,-1.422,-0.6035,-1.223,-1.411,1.171,-1.583,-0.2294,0.8427,-0.0722,0.0674,0.1119,-0.0843,-0.4128,-0.1714,-0.3885],\"y0\":\" \",\"yaxis\":\"y\",\"type\":\"box\"}],                        {\"template\":{\"data\":{\"histogram2dcontour\":[{\"type\":\"histogram2dcontour\",\"colorbar\":{\"outlinewidth\":0,\"ticks\":\"\"},\"colorscale\":[[0.0,\"#0d0887\"],[0.1111111111111111,\"#46039f\"],[0.2222222222222222,\"#7201a8\"],[0.3333333333333333,\"#9c179e\"],[0.4444444444444444,\"#bd3786\"],[0.5555555555555556,\"#d8576b\"],[0.6666666666666666,\"#ed7953\"],[0.7777777777777778,\"#fb9f3a\"],[0.8888888888888888,\"#fdca26\"],[1.0,\"#f0f921\"]]}],\"choropleth\":[{\"type\":\"choropleth\",\"colorbar\":{\"outlinewidth\":0,\"ticks\":\"\"}}],\"histogram2d\":[{\"type\":\"histogram2d\",\"colorbar\":{\"outlinewidth\":0,\"ticks\":\"\"},\"colorscale\":[[0.0,\"#0d0887\"],[0.1111111111111111,\"#46039f\"],[0.2222222222222222,\"#7201a8\"],[0.3333333333333333,\"#9c179e\"],[0.4444444444444444,\"#bd3786\"],[0.5555555555555556,\"#d8576b\"],[0.6666666666666666,\"#ed7953\"],[0.7777777777777778,\"#fb9f3a\"],[0.8888888888888888,\"#fdca26\"],[1.0,\"#f0f921\"]]}],\"heatmap\":[{\"type\":\"heatmap\",\"colorbar\":{\"outlinewidth\":0,\"ticks\":\"\"},\"colorscale\":[[0.0,\"#0d0887\"],[0.1111111111111111,\"#46039f\"],[0.2222222222222222,\"#7201a8\"],[0.3333333333333333,\"#9c179e\"],[0.4444444444444444,\"#bd3786\"],[0.5555555555555556,\"#d8576b\"],[0.6666666666666666,\"#ed7953\"],[0.7777777777777778,\"#fb9f3a\"],[0.8888888888888888,\"#fdca26\"],[1.0,\"#f0f921\"]]}],\"heatmapgl\":[{\"type\":\"heatmapgl\",\"colorbar\":{\"outlinewidth\":0,\"ticks\":\"\"},\"colorscale\":[[0.0,\"#0d0887\"],[0.1111111111111111,\"#46039f\"],[0.2222222222222222,\"#7201a8\"],[0.3333333333333333,\"#9c179e\"],[0.4444444444444444,\"#bd3786\"],[0.5555555555555556,\"#d8576b\"],[0.6666666666666666,\"#ed7953\"],[0.7777777777777778,\"#fb9f3a\"],[0.8888888888888888,\"#fdca26\"],[1.0,\"#f0f921\"]]}],\"contourcarpet\":[{\"type\":\"contourcarpet\",\"colorbar\":{\"outlinewidth\":0,\"ticks\":\"\"}}],\"contour\":[{\"type\":\"contour\",\"colorbar\":{\"outlinewidth\":0,\"ticks\":\"\"},\"colorscale\":[[0.0,\"#0d0887\"],[0.1111111111111111,\"#46039f\"],[0.2222222222222222,\"#7201a8\"],[0.3333333333333333,\"#9c179e\"],[0.4444444444444444,\"#bd3786\"],[0.5555555555555556,\"#d8576b\"],[0.6666666666666666,\"#ed7953\"],[0.7777777777777778,\"#fb9f3a\"],[0.8888888888888888,\"#fdca26\"],[1.0,\"#f0f921\"]]}],\"surface\":[{\"type\":\"surface\",\"colorbar\":{\"outlinewidth\":0,\"ticks\":\"\"},\"colorscale\":[[0.0,\"#0d0887\"],[0.1111111111111111,\"#46039f\"],[0.2222222222222222,\"#7201a8\"],[0.3333333333333333,\"#9c179e\"],[0.4444444444444444,\"#bd3786\"],[0.5555555555555556,\"#d8576b\"],[0.6666666666666666,\"#ed7953\"],[0.7777777777777778,\"#fb9f3a\"],[0.8888888888888888,\"#fdca26\"],[1.0,\"#f0f921\"]]}],\"mesh3d\":[{\"type\":\"mesh3d\",\"colorbar\":{\"outlinewidth\":0,\"ticks\":\"\"}}],\"scatter\":[{\"fillpattern\":{\"fillmode\":\"overlay\",\"size\":10,\"solidity\":0.2},\"type\":\"scatter\"}],\"parcoords\":[{\"type\":\"parcoords\",\"line\":{\"colorbar\":{\"outlinewidth\":0,\"ticks\":\"\"}}}],\"scatterpolargl\":[{\"type\":\"scatterpolargl\",\"marker\":{\"colorbar\":{\"outlinewidth\":0,\"ticks\":\"\"}}}],\"bar\":[{\"error_x\":{\"color\":\"#2a3f5f\"},\"error_y\":{\"color\":\"#2a3f5f\"},\"marker\":{\"line\":{\"color\":\"#E5ECF6\",\"width\":0.5},\"pattern\":{\"fillmode\":\"overlay\",\"size\":10,\"solidity\":0.2}},\"type\":\"bar\"}],\"scattergeo\":[{\"type\":\"scattergeo\",\"marker\":{\"colorbar\":{\"outlinewidth\":0,\"ticks\":\"\"}}}],\"scatterpolar\":[{\"type\":\"scatterpolar\",\"marker\":{\"colorbar\":{\"outlinewidth\":0,\"ticks\":\"\"}}}],\"histogram\":[{\"marker\":{\"pattern\":{\"fillmode\":\"overlay\",\"size\":10,\"solidity\":0.2}},\"type\":\"histogram\"}],\"scattergl\":[{\"type\":\"scattergl\",\"marker\":{\"colorbar\":{\"outlinewidth\":0,\"ticks\":\"\"}}}],\"scatter3d\":[{\"type\":\"scatter3d\",\"line\":{\"colorbar\":{\"outlinewidth\":0,\"ticks\":\"\"}},\"marker\":{\"colorbar\":{\"outlinewidth\":0,\"ticks\":\"\"}}}],\"scattermapbox\":[{\"type\":\"scattermapbox\",\"marker\":{\"colorbar\":{\"outlinewidth\":0,\"ticks\":\"\"}}}],\"scatterternary\":[{\"type\":\"scatterternary\",\"marker\":{\"colorbar\":{\"outlinewidth\":0,\"ticks\":\"\"}}}],\"scattercarpet\":[{\"type\":\"scattercarpet\",\"marker\":{\"colorbar\":{\"outlinewidth\":0,\"ticks\":\"\"}}}],\"carpet\":[{\"aaxis\":{\"endlinecolor\":\"#2a3f5f\",\"gridcolor\":\"white\",\"linecolor\":\"white\",\"minorgridcolor\":\"white\",\"startlinecolor\":\"#2a3f5f\"},\"baxis\":{\"endlinecolor\":\"#2a3f5f\",\"gridcolor\":\"white\",\"linecolor\":\"white\",\"minorgridcolor\":\"white\",\"startlinecolor\":\"#2a3f5f\"},\"type\":\"carpet\"}],\"table\":[{\"cells\":{\"fill\":{\"color\":\"#EBF0F8\"},\"line\":{\"color\":\"white\"}},\"header\":{\"fill\":{\"color\":\"#C8D4E3\"},\"line\":{\"color\":\"white\"}},\"type\":\"table\"}],\"barpolar\":[{\"marker\":{\"line\":{\"color\":\"#E5ECF6\",\"width\":0.5},\"pattern\":{\"fillmode\":\"overlay\",\"size\":10,\"solidity\":0.2}},\"type\":\"barpolar\"}],\"pie\":[{\"automargin\":true,\"type\":\"pie\"}]},\"layout\":{\"autotypenumbers\":\"strict\",\"colorway\":[\"#636efa\",\"#EF553B\",\"#00cc96\",\"#ab63fa\",\"#FFA15A\",\"#19d3f3\",\"#FF6692\",\"#B6E880\",\"#FF97FF\",\"#FECB52\"],\"font\":{\"color\":\"#2a3f5f\"},\"hovermode\":\"closest\",\"hoverlabel\":{\"align\":\"left\"},\"paper_bgcolor\":\"white\",\"plot_bgcolor\":\"#E5ECF6\",\"polar\":{\"bgcolor\":\"#E5ECF6\",\"angularaxis\":{\"gridcolor\":\"white\",\"linecolor\":\"white\",\"ticks\":\"\"},\"radialaxis\":{\"gridcolor\":\"white\",\"linecolor\":\"white\",\"ticks\":\"\"}},\"ternary\":{\"bgcolor\":\"#E5ECF6\",\"aaxis\":{\"gridcolor\":\"white\",\"linecolor\":\"white\",\"ticks\":\"\"},\"baxis\":{\"gridcolor\":\"white\",\"linecolor\":\"white\",\"ticks\":\"\"},\"caxis\":{\"gridcolor\":\"white\",\"linecolor\":\"white\",\"ticks\":\"\"}},\"coloraxis\":{\"colorbar\":{\"outlinewidth\":0,\"ticks\":\"\"}},\"colorscale\":{\"sequential\":[[0.0,\"#0d0887\"],[0.1111111111111111,\"#46039f\"],[0.2222222222222222,\"#7201a8\"],[0.3333333333333333,\"#9c179e\"],[0.4444444444444444,\"#bd3786\"],[0.5555555555555556,\"#d8576b\"],[0.6666666666666666,\"#ed7953\"],[0.7777777777777778,\"#fb9f3a\"],[0.8888888888888888,\"#fdca26\"],[1.0,\"#f0f921\"]],\"sequentialminus\":[[0.0,\"#0d0887\"],[0.1111111111111111,\"#46039f\"],[0.2222222222222222,\"#7201a8\"],[0.3333333333333333,\"#9c179e\"],[0.4444444444444444,\"#bd3786\"],[0.5555555555555556,\"#d8576b\"],[0.6666666666666666,\"#ed7953\"],[0.7777777777777778,\"#fb9f3a\"],[0.8888888888888888,\"#fdca26\"],[1.0,\"#f0f921\"]],\"diverging\":[[0,\"#8e0152\"],[0.1,\"#c51b7d\"],[0.2,\"#de77ae\"],[0.3,\"#f1b6da\"],[0.4,\"#fde0ef\"],[0.5,\"#f7f7f7\"],[0.6,\"#e6f5d0\"],[0.7,\"#b8e186\"],[0.8,\"#7fbc41\"],[0.9,\"#4d9221\"],[1,\"#276419\"]]},\"xaxis\":{\"gridcolor\":\"white\",\"linecolor\":\"white\",\"ticks\":\"\",\"title\":{\"standoff\":15},\"zerolinecolor\":\"white\",\"automargin\":true,\"zerolinewidth\":2},\"yaxis\":{\"gridcolor\":\"white\",\"linecolor\":\"white\",\"ticks\":\"\",\"title\":{\"standoff\":15},\"zerolinecolor\":\"white\",\"automargin\":true,\"zerolinewidth\":2},\"scene\":{\"xaxis\":{\"backgroundcolor\":\"#E5ECF6\",\"gridcolor\":\"white\",\"linecolor\":\"white\",\"showbackground\":true,\"ticks\":\"\",\"zerolinecolor\":\"white\",\"gridwidth\":2},\"yaxis\":{\"backgroundcolor\":\"#E5ECF6\",\"gridcolor\":\"white\",\"linecolor\":\"white\",\"showbackground\":true,\"ticks\":\"\",\"zerolinecolor\":\"white\",\"gridwidth\":2},\"zaxis\":{\"backgroundcolor\":\"#E5ECF6\",\"gridcolor\":\"white\",\"linecolor\":\"white\",\"showbackground\":true,\"ticks\":\"\",\"zerolinecolor\":\"white\",\"gridwidth\":2}},\"shapedefaults\":{\"line\":{\"color\":\"#2a3f5f\"}},\"annotationdefaults\":{\"arrowcolor\":\"#2a3f5f\",\"arrowhead\":0,\"arrowwidth\":1},\"geo\":{\"bgcolor\":\"white\",\"landcolor\":\"#E5ECF6\",\"subunitcolor\":\"white\",\"showland\":true,\"showlakes\":true,\"lakecolor\":\"white\"},\"title\":{\"x\":0.05},\"mapbox\":{\"style\":\"light\"}}},\"xaxis\":{\"anchor\":\"y\",\"domain\":[0.0,1.0],\"title\":{\"text\":\"tratamento\"}},\"yaxis\":{\"anchor\":\"x\",\"domain\":[0.0,1.0],\"title\":{\"text\":\"g-40\"}},\"legend\":{\"tracegroupgap\":0},\"margin\":{\"t\":60},\"boxmode\":\"group\"},                        {\"responsive\": true}                    ).then(function(){\n",
              "                            \n",
              "var gd = document.getElementById('dd8e581d-f470-4530-8be6-725d954bfa55');\n",
              "var x = new MutationObserver(function (mutations, observer) {{\n",
              "        var display = window.getComputedStyle(gd).display;\n",
              "        if (!display || display === 'none') {{\n",
              "            console.log([gd, 'removed!']);\n",
              "            Plotly.purge(gd);\n",
              "            observer.disconnect();\n",
              "        }}\n",
              "}});\n",
              "\n",
              "// Listen for the removal of the full notebook cells\n",
              "var notebookContainer = gd.closest('#notebook-container');\n",
              "if (notebookContainer) {{\n",
              "    x.observe(notebookContainer, {childList: true});\n",
              "}}\n",
              "\n",
              "// Listen for the clearing of the current output cell\n",
              "var outputEl = gd.closest('.output');\n",
              "if (outputEl) {{\n",
              "    x.observe(outputEl, {childList: true});\n",
              "}}\n",
              "\n",
              "                        })                };                            </script>        </div>\n",
              "</body>\n",
              "</html>"
            ]
          },
          "metadata": {}
        }
      ]
    },
    {
      "cell_type": "markdown",
      "source": [
        "### Correlação"
      ],
      "metadata": {
        "id": "dCvGsGQX3CO0"
      }
    },
    {
      "cell_type": "code",
      "source": [
        "corr = dados.loc[:, 'g-0': 'g-30'].corr()"
      ],
      "metadata": {
        "id": "f_MFM8xs3Dcq"
      },
      "execution_count": 59,
      "outputs": []
    },
    {
      "cell_type": "code",
      "source": [
        "corr"
      ],
      "metadata": {
        "colab": {
          "base_uri": "https://localhost:8080/",
          "height": 1000
        },
        "id": "i90h2rE83xo9",
        "outputId": "f4ef3cb9-7855-451a-953e-f53fb4d5f1b4"
      },
      "execution_count": 60,
      "outputs": [
        {
          "output_type": "execute_result",
          "data": {
            "text/plain": [
              "           g-0       g-1       g-2       g-3       g-4       g-5       g-6  \\\n",
              "g-0   1.000000  0.086032  0.176188  0.011266  0.403153 -0.165478  0.238348   \n",
              "g-1   0.086032  1.000000 -0.054518 -0.027855  0.193647 -0.151590 -0.122541   \n",
              "g-2   0.176188 -0.054518  1.000000  0.042633  0.013968  0.018516  0.015190   \n",
              "g-3   0.011266 -0.027855  0.042633  1.000000 -0.033039  0.042231 -0.043177   \n",
              "g-4   0.403153  0.193647  0.013968 -0.033039  1.000000 -0.057449  0.206405   \n",
              "g-5  -0.165478 -0.151590  0.018516  0.042231 -0.057449  1.000000  0.083620   \n",
              "g-6   0.238348 -0.122541  0.015190 -0.043177  0.206405  0.083620  1.000000   \n",
              "g-7  -0.374451  0.144537 -0.144205 -0.175692 -0.032748  0.102345  0.030544   \n",
              "g-8  -0.604212 -0.009973 -0.128029 -0.086167 -0.474828  0.073885 -0.212292   \n",
              "g-9  -0.428779 -0.047558 -0.081332 -0.014052 -0.274167  0.126561 -0.134739   \n",
              "g-10 -0.547606 -0.009051 -0.105050 -0.074101 -0.458021  0.038743 -0.264575   \n",
              "g-11  0.219762  0.161274  0.011198  0.181024  0.116467 -0.171709 -0.064363   \n",
              "g-12 -0.199453  0.037178 -0.063501  0.030539 -0.207078 -0.000393 -0.041731   \n",
              "g-13  0.472223 -0.009256  0.082011  0.192727  0.210440 -0.112423  0.110102   \n",
              "g-14 -0.346179  0.002632 -0.082204  0.128792 -0.307280  0.073760 -0.126069   \n",
              "g-15 -0.201323 -0.070193 -0.059607 -0.045688  0.019531  0.037763 -0.107593   \n",
              "g-16 -0.513026 -0.063414 -0.137811  0.033974 -0.275700  0.221227 -0.109543   \n",
              "g-17 -0.433536 -0.000944 -0.085491 -0.070920 -0.422889  0.033641 -0.182960   \n",
              "g-18 -0.002073 -0.023748  0.053335  0.237669 -0.012207  0.041073 -0.058387   \n",
              "g-19 -0.074622 -0.034714  0.028813  0.112392 -0.088152  0.134431  0.070343   \n",
              "g-20 -0.468599 -0.131031 -0.061160  0.027867 -0.311798  0.136226  0.049195   \n",
              "g-21  0.052445  0.196596 -0.129131 -0.167263  0.286106  0.042455  0.244205   \n",
              "g-22  0.022269 -0.061441 -0.007426  0.197013 -0.055368  0.095901 -0.076039   \n",
              "g-23 -0.076298  0.090620 -0.034230 -0.049480 -0.113396 -0.000709 -0.063008   \n",
              "g-24 -0.337522 -0.004299 -0.128312 -0.113336 -0.120743  0.120697  0.034160   \n",
              "g-25 -0.235191 -0.032600 -0.067363  0.175615 -0.233682  0.082212 -0.002408   \n",
              "g-26 -0.422814 -0.019435 -0.126554  0.111355 -0.340708  0.058257 -0.194962   \n",
              "g-27  0.148432  0.015661  0.036984  0.007168  0.070292 -0.106304 -0.051850   \n",
              "g-28 -0.471092 -0.098907 -0.129481 -0.022381 -0.360274  0.137596 -0.032510   \n",
              "g-29 -0.296871 -0.091071 -0.017941 -0.128269 -0.225461  0.171353  0.091318   \n",
              "g-30 -0.528327 -0.053331 -0.152288 -0.042827 -0.402256  0.136856 -0.113642   \n",
              "\n",
              "           g-7       g-8       g-9  ...      g-21      g-22      g-23  \\\n",
              "g-0  -0.374451 -0.604212 -0.428779  ...  0.052445  0.022269 -0.076298   \n",
              "g-1   0.144537 -0.009973 -0.047558  ...  0.196596 -0.061441  0.090620   \n",
              "g-2  -0.144205 -0.128029 -0.081332  ... -0.129131 -0.007426 -0.034230   \n",
              "g-3  -0.175692 -0.086167 -0.014052  ... -0.167263  0.197013 -0.049480   \n",
              "g-4  -0.032748 -0.474828 -0.274167  ...  0.286106 -0.055368 -0.113396   \n",
              "g-5   0.102345  0.073885  0.126561  ...  0.042455  0.095901 -0.000709   \n",
              "g-6   0.030544 -0.212292 -0.134739  ...  0.244205 -0.076039 -0.063008   \n",
              "g-7   1.000000  0.278085  0.288780  ...  0.321506 -0.043685  0.143473   \n",
              "g-8   0.278085  1.000000  0.330284  ...  0.037205 -0.028802  0.175015   \n",
              "g-9   0.288780  0.330284  1.000000  ...  0.000340  0.140954  0.161157   \n",
              "g-10  0.382325  0.556854  0.423656  ... -0.042062  0.052603  0.235931   \n",
              "g-11 -0.184966 -0.145569 -0.182298  ... -0.056922 -0.060820 -0.099806   \n",
              "g-12  0.166101  0.278549  0.181920  ...  0.047377  0.008977  0.073713   \n",
              "g-13 -0.380687 -0.386297 -0.309551  ... -0.058168 -0.037199 -0.137603   \n",
              "g-14  0.266334  0.417574  0.306363  ...  0.016463  0.117654  0.073009   \n",
              "g-15  0.141999 -0.078128  0.099181  ... -0.069827  0.050530 -0.059718   \n",
              "g-16  0.372104  0.424483  0.390175  ...  0.100730  0.119032  0.126337   \n",
              "g-17  0.185269  0.639804  0.327539  ...  0.074221  0.082768  0.233580   \n",
              "g-18 -0.061020 -0.085082 -0.002785  ... -0.115020  0.247936  0.007070   \n",
              "g-19  0.121534 -0.006910 -0.003900  ... -0.036707  0.180519 -0.029250   \n",
              "g-20  0.231938  0.419846  0.241005  ... -0.078284 -0.030640  0.020368   \n",
              "g-21  0.321506  0.037205  0.000340  ...  1.000000 -0.019706  0.158318   \n",
              "g-22 -0.043685 -0.028802  0.140954  ... -0.019706  1.000000  0.111432   \n",
              "g-23  0.143473  0.175015  0.161157  ...  0.158318  0.111432  1.000000   \n",
              "g-24  0.458273  0.246916  0.235827  ...  0.183171 -0.060301  0.059869   \n",
              "g-25  0.123891  0.295657  0.123404  ... -0.018741  0.059959 -0.020426   \n",
              "g-26  0.262002  0.384568  0.383703  ... -0.047095  0.067503  0.155888   \n",
              "g-27 -0.126174 -0.119738 -0.084327  ...  0.015391 -0.062607 -0.017392   \n",
              "g-28  0.287440  0.581645  0.309824  ...  0.067244  0.076743  0.081917   \n",
              "g-29  0.222967  0.233969  0.191556  ... -0.002585  0.029931 -0.033143   \n",
              "g-30  0.419395  0.484871  0.394296  ... -0.010101  0.000369  0.096281   \n",
              "\n",
              "          g-24      g-25      g-26      g-27      g-28      g-29      g-30  \n",
              "g-0  -0.337522 -0.235191 -0.422814  0.148432 -0.471092 -0.296871 -0.528327  \n",
              "g-1  -0.004299 -0.032600 -0.019435  0.015661 -0.098907 -0.091071 -0.053331  \n",
              "g-2  -0.128312 -0.067363 -0.126554  0.036984 -0.129481 -0.017941 -0.152288  \n",
              "g-3  -0.113336  0.175615  0.111355  0.007168 -0.022381 -0.128269 -0.042827  \n",
              "g-4  -0.120743 -0.233682 -0.340708  0.070292 -0.360274 -0.225461 -0.402256  \n",
              "g-5   0.120697  0.082212  0.058257 -0.106304  0.137596  0.171353  0.136856  \n",
              "g-6   0.034160 -0.002408 -0.194962 -0.051850 -0.032510  0.091318 -0.113642  \n",
              "g-7   0.458273  0.123891  0.262002 -0.126174  0.287440  0.222967  0.419395  \n",
              "g-8   0.246916  0.295657  0.384568 -0.119738  0.581645  0.233969  0.484871  \n",
              "g-9   0.235827  0.123404  0.383703 -0.084327  0.309824  0.191556  0.394296  \n",
              "g-10  0.325821  0.187969  0.535527 -0.003980  0.483219  0.247360  0.611078  \n",
              "g-11 -0.182518  0.004280 -0.142447  0.074184 -0.259489 -0.293538 -0.233195  \n",
              "g-12  0.125555  0.231326  0.281110  0.073022  0.359570  0.081565  0.300071  \n",
              "g-13 -0.283177 -0.122701 -0.305791  0.098049 -0.392892 -0.315442 -0.410571  \n",
              "g-14  0.308931  0.302840  0.404077 -0.092894  0.322512  0.212951  0.410599  \n",
              "g-15 -0.006925 -0.057076  0.058076  0.017995 -0.052726 -0.017395  0.054795  \n",
              "g-16  0.293214  0.224524  0.385105 -0.157421  0.417846  0.265257  0.449254  \n",
              "g-17  0.161418  0.227800  0.362121 -0.036154  0.473136  0.102827  0.388864  \n",
              "g-18 -0.110808  0.031519  0.005422 -0.008610 -0.016055  0.017671 -0.086942  \n",
              "g-19 -0.030343  0.038504 -0.083654 -0.187676  0.003884  0.045875 -0.101919  \n",
              "g-20  0.191178  0.264432  0.224424 -0.010426  0.457646  0.260409  0.404318  \n",
              "g-21  0.183171 -0.018741 -0.047095  0.015391  0.067244 -0.002585 -0.010101  \n",
              "g-22 -0.060301  0.059959  0.067503 -0.062607  0.076743  0.029931  0.000369  \n",
              "g-23  0.059869 -0.020426  0.155888 -0.017392  0.081917 -0.033143  0.096281  \n",
              "g-24  1.000000  0.141133  0.326184 -0.128719  0.225751  0.275870  0.464049  \n",
              "g-25  0.141133  1.000000  0.238111 -0.111857  0.329292  0.130257  0.281866  \n",
              "g-26  0.326184  0.238111  1.000000 -0.061375  0.376835  0.170572  0.544694  \n",
              "g-27 -0.128719 -0.111857 -0.061375  1.000000 -0.052955 -0.160213 -0.057207  \n",
              "g-28  0.225751  0.329292  0.376835 -0.052955  1.000000  0.321613  0.529473  \n",
              "g-29  0.275870  0.130257  0.170572 -0.160213  0.321613  1.000000  0.421884  \n",
              "g-30  0.464049  0.281866  0.544694 -0.057207  0.529473  0.421884  1.000000  \n",
              "\n",
              "[31 rows x 31 columns]"
            ],
            "text/html": [
              "\n",
              "  <div id=\"df-c4b20406-570a-471f-ad42-404123661c2f\" class=\"colab-df-container\">\n",
              "    <div>\n",
              "<style scoped>\n",
              "    .dataframe tbody tr th:only-of-type {\n",
              "        vertical-align: middle;\n",
              "    }\n",
              "\n",
              "    .dataframe tbody tr th {\n",
              "        vertical-align: top;\n",
              "    }\n",
              "\n",
              "    .dataframe thead th {\n",
              "        text-align: right;\n",
              "    }\n",
              "</style>\n",
              "<table border=\"1\" class=\"dataframe\">\n",
              "  <thead>\n",
              "    <tr style=\"text-align: right;\">\n",
              "      <th></th>\n",
              "      <th>g-0</th>\n",
              "      <th>g-1</th>\n",
              "      <th>g-2</th>\n",
              "      <th>g-3</th>\n",
              "      <th>g-4</th>\n",
              "      <th>g-5</th>\n",
              "      <th>g-6</th>\n",
              "      <th>g-7</th>\n",
              "      <th>g-8</th>\n",
              "      <th>g-9</th>\n",
              "      <th>...</th>\n",
              "      <th>g-21</th>\n",
              "      <th>g-22</th>\n",
              "      <th>g-23</th>\n",
              "      <th>g-24</th>\n",
              "      <th>g-25</th>\n",
              "      <th>g-26</th>\n",
              "      <th>g-27</th>\n",
              "      <th>g-28</th>\n",
              "      <th>g-29</th>\n",
              "      <th>g-30</th>\n",
              "    </tr>\n",
              "  </thead>\n",
              "  <tbody>\n",
              "    <tr>\n",
              "      <th>g-0</th>\n",
              "      <td>1.000000</td>\n",
              "      <td>0.086032</td>\n",
              "      <td>0.176188</td>\n",
              "      <td>0.011266</td>\n",
              "      <td>0.403153</td>\n",
              "      <td>-0.165478</td>\n",
              "      <td>0.238348</td>\n",
              "      <td>-0.374451</td>\n",
              "      <td>-0.604212</td>\n",
              "      <td>-0.428779</td>\n",
              "      <td>...</td>\n",
              "      <td>0.052445</td>\n",
              "      <td>0.022269</td>\n",
              "      <td>-0.076298</td>\n",
              "      <td>-0.337522</td>\n",
              "      <td>-0.235191</td>\n",
              "      <td>-0.422814</td>\n",
              "      <td>0.148432</td>\n",
              "      <td>-0.471092</td>\n",
              "      <td>-0.296871</td>\n",
              "      <td>-0.528327</td>\n",
              "    </tr>\n",
              "    <tr>\n",
              "      <th>g-1</th>\n",
              "      <td>0.086032</td>\n",
              "      <td>1.000000</td>\n",
              "      <td>-0.054518</td>\n",
              "      <td>-0.027855</td>\n",
              "      <td>0.193647</td>\n",
              "      <td>-0.151590</td>\n",
              "      <td>-0.122541</td>\n",
              "      <td>0.144537</td>\n",
              "      <td>-0.009973</td>\n",
              "      <td>-0.047558</td>\n",
              "      <td>...</td>\n",
              "      <td>0.196596</td>\n",
              "      <td>-0.061441</td>\n",
              "      <td>0.090620</td>\n",
              "      <td>-0.004299</td>\n",
              "      <td>-0.032600</td>\n",
              "      <td>-0.019435</td>\n",
              "      <td>0.015661</td>\n",
              "      <td>-0.098907</td>\n",
              "      <td>-0.091071</td>\n",
              "      <td>-0.053331</td>\n",
              "    </tr>\n",
              "    <tr>\n",
              "      <th>g-2</th>\n",
              "      <td>0.176188</td>\n",
              "      <td>-0.054518</td>\n",
              "      <td>1.000000</td>\n",
              "      <td>0.042633</td>\n",
              "      <td>0.013968</td>\n",
              "      <td>0.018516</td>\n",
              "      <td>0.015190</td>\n",
              "      <td>-0.144205</td>\n",
              "      <td>-0.128029</td>\n",
              "      <td>-0.081332</td>\n",
              "      <td>...</td>\n",
              "      <td>-0.129131</td>\n",
              "      <td>-0.007426</td>\n",
              "      <td>-0.034230</td>\n",
              "      <td>-0.128312</td>\n",
              "      <td>-0.067363</td>\n",
              "      <td>-0.126554</td>\n",
              "      <td>0.036984</td>\n",
              "      <td>-0.129481</td>\n",
              "      <td>-0.017941</td>\n",
              "      <td>-0.152288</td>\n",
              "    </tr>\n",
              "    <tr>\n",
              "      <th>g-3</th>\n",
              "      <td>0.011266</td>\n",
              "      <td>-0.027855</td>\n",
              "      <td>0.042633</td>\n",
              "      <td>1.000000</td>\n",
              "      <td>-0.033039</td>\n",
              "      <td>0.042231</td>\n",
              "      <td>-0.043177</td>\n",
              "      <td>-0.175692</td>\n",
              "      <td>-0.086167</td>\n",
              "      <td>-0.014052</td>\n",
              "      <td>...</td>\n",
              "      <td>-0.167263</td>\n",
              "      <td>0.197013</td>\n",
              "      <td>-0.049480</td>\n",
              "      <td>-0.113336</td>\n",
              "      <td>0.175615</td>\n",
              "      <td>0.111355</td>\n",
              "      <td>0.007168</td>\n",
              "      <td>-0.022381</td>\n",
              "      <td>-0.128269</td>\n",
              "      <td>-0.042827</td>\n",
              "    </tr>\n",
              "    <tr>\n",
              "      <th>g-4</th>\n",
              "      <td>0.403153</td>\n",
              "      <td>0.193647</td>\n",
              "      <td>0.013968</td>\n",
              "      <td>-0.033039</td>\n",
              "      <td>1.000000</td>\n",
              "      <td>-0.057449</td>\n",
              "      <td>0.206405</td>\n",
              "      <td>-0.032748</td>\n",
              "      <td>-0.474828</td>\n",
              "      <td>-0.274167</td>\n",
              "      <td>...</td>\n",
              "      <td>0.286106</td>\n",
              "      <td>-0.055368</td>\n",
              "      <td>-0.113396</td>\n",
              "      <td>-0.120743</td>\n",
              "      <td>-0.233682</td>\n",
              "      <td>-0.340708</td>\n",
              "      <td>0.070292</td>\n",
              "      <td>-0.360274</td>\n",
              "      <td>-0.225461</td>\n",
              "      <td>-0.402256</td>\n",
              "    </tr>\n",
              "    <tr>\n",
              "      <th>g-5</th>\n",
              "      <td>-0.165478</td>\n",
              "      <td>-0.151590</td>\n",
              "      <td>0.018516</td>\n",
              "      <td>0.042231</td>\n",
              "      <td>-0.057449</td>\n",
              "      <td>1.000000</td>\n",
              "      <td>0.083620</td>\n",
              "      <td>0.102345</td>\n",
              "      <td>0.073885</td>\n",
              "      <td>0.126561</td>\n",
              "      <td>...</td>\n",
              "      <td>0.042455</td>\n",
              "      <td>0.095901</td>\n",
              "      <td>-0.000709</td>\n",
              "      <td>0.120697</td>\n",
              "      <td>0.082212</td>\n",
              "      <td>0.058257</td>\n",
              "      <td>-0.106304</td>\n",
              "      <td>0.137596</td>\n",
              "      <td>0.171353</td>\n",
              "      <td>0.136856</td>\n",
              "    </tr>\n",
              "    <tr>\n",
              "      <th>g-6</th>\n",
              "      <td>0.238348</td>\n",
              "      <td>-0.122541</td>\n",
              "      <td>0.015190</td>\n",
              "      <td>-0.043177</td>\n",
              "      <td>0.206405</td>\n",
              "      <td>0.083620</td>\n",
              "      <td>1.000000</td>\n",
              "      <td>0.030544</td>\n",
              "      <td>-0.212292</td>\n",
              "      <td>-0.134739</td>\n",
              "      <td>...</td>\n",
              "      <td>0.244205</td>\n",
              "      <td>-0.076039</td>\n",
              "      <td>-0.063008</td>\n",
              "      <td>0.034160</td>\n",
              "      <td>-0.002408</td>\n",
              "      <td>-0.194962</td>\n",
              "      <td>-0.051850</td>\n",
              "      <td>-0.032510</td>\n",
              "      <td>0.091318</td>\n",
              "      <td>-0.113642</td>\n",
              "    </tr>\n",
              "    <tr>\n",
              "      <th>g-7</th>\n",
              "      <td>-0.374451</td>\n",
              "      <td>0.144537</td>\n",
              "      <td>-0.144205</td>\n",
              "      <td>-0.175692</td>\n",
              "      <td>-0.032748</td>\n",
              "      <td>0.102345</td>\n",
              "      <td>0.030544</td>\n",
              "      <td>1.000000</td>\n",
              "      <td>0.278085</td>\n",
              "      <td>0.288780</td>\n",
              "      <td>...</td>\n",
              "      <td>0.321506</td>\n",
              "      <td>-0.043685</td>\n",
              "      <td>0.143473</td>\n",
              "      <td>0.458273</td>\n",
              "      <td>0.123891</td>\n",
              "      <td>0.262002</td>\n",
              "      <td>-0.126174</td>\n",
              "      <td>0.287440</td>\n",
              "      <td>0.222967</td>\n",
              "      <td>0.419395</td>\n",
              "    </tr>\n",
              "    <tr>\n",
              "      <th>g-8</th>\n",
              "      <td>-0.604212</td>\n",
              "      <td>-0.009973</td>\n",
              "      <td>-0.128029</td>\n",
              "      <td>-0.086167</td>\n",
              "      <td>-0.474828</td>\n",
              "      <td>0.073885</td>\n",
              "      <td>-0.212292</td>\n",
              "      <td>0.278085</td>\n",
              "      <td>1.000000</td>\n",
              "      <td>0.330284</td>\n",
              "      <td>...</td>\n",
              "      <td>0.037205</td>\n",
              "      <td>-0.028802</td>\n",
              "      <td>0.175015</td>\n",
              "      <td>0.246916</td>\n",
              "      <td>0.295657</td>\n",
              "      <td>0.384568</td>\n",
              "      <td>-0.119738</td>\n",
              "      <td>0.581645</td>\n",
              "      <td>0.233969</td>\n",
              "      <td>0.484871</td>\n",
              "    </tr>\n",
              "    <tr>\n",
              "      <th>g-9</th>\n",
              "      <td>-0.428779</td>\n",
              "      <td>-0.047558</td>\n",
              "      <td>-0.081332</td>\n",
              "      <td>-0.014052</td>\n",
              "      <td>-0.274167</td>\n",
              "      <td>0.126561</td>\n",
              "      <td>-0.134739</td>\n",
              "      <td>0.288780</td>\n",
              "      <td>0.330284</td>\n",
              "      <td>1.000000</td>\n",
              "      <td>...</td>\n",
              "      <td>0.000340</td>\n",
              "      <td>0.140954</td>\n",
              "      <td>0.161157</td>\n",
              "      <td>0.235827</td>\n",
              "      <td>0.123404</td>\n",
              "      <td>0.383703</td>\n",
              "      <td>-0.084327</td>\n",
              "      <td>0.309824</td>\n",
              "      <td>0.191556</td>\n",
              "      <td>0.394296</td>\n",
              "    </tr>\n",
              "    <tr>\n",
              "      <th>g-10</th>\n",
              "      <td>-0.547606</td>\n",
              "      <td>-0.009051</td>\n",
              "      <td>-0.105050</td>\n",
              "      <td>-0.074101</td>\n",
              "      <td>-0.458021</td>\n",
              "      <td>0.038743</td>\n",
              "      <td>-0.264575</td>\n",
              "      <td>0.382325</td>\n",
              "      <td>0.556854</td>\n",
              "      <td>0.423656</td>\n",
              "      <td>...</td>\n",
              "      <td>-0.042062</td>\n",
              "      <td>0.052603</td>\n",
              "      <td>0.235931</td>\n",
              "      <td>0.325821</td>\n",
              "      <td>0.187969</td>\n",
              "      <td>0.535527</td>\n",
              "      <td>-0.003980</td>\n",
              "      <td>0.483219</td>\n",
              "      <td>0.247360</td>\n",
              "      <td>0.611078</td>\n",
              "    </tr>\n",
              "    <tr>\n",
              "      <th>g-11</th>\n",
              "      <td>0.219762</td>\n",
              "      <td>0.161274</td>\n",
              "      <td>0.011198</td>\n",
              "      <td>0.181024</td>\n",
              "      <td>0.116467</td>\n",
              "      <td>-0.171709</td>\n",
              "      <td>-0.064363</td>\n",
              "      <td>-0.184966</td>\n",
              "      <td>-0.145569</td>\n",
              "      <td>-0.182298</td>\n",
              "      <td>...</td>\n",
              "      <td>-0.056922</td>\n",
              "      <td>-0.060820</td>\n",
              "      <td>-0.099806</td>\n",
              "      <td>-0.182518</td>\n",
              "      <td>0.004280</td>\n",
              "      <td>-0.142447</td>\n",
              "      <td>0.074184</td>\n",
              "      <td>-0.259489</td>\n",
              "      <td>-0.293538</td>\n",
              "      <td>-0.233195</td>\n",
              "    </tr>\n",
              "    <tr>\n",
              "      <th>g-12</th>\n",
              "      <td>-0.199453</td>\n",
              "      <td>0.037178</td>\n",
              "      <td>-0.063501</td>\n",
              "      <td>0.030539</td>\n",
              "      <td>-0.207078</td>\n",
              "      <td>-0.000393</td>\n",
              "      <td>-0.041731</td>\n",
              "      <td>0.166101</td>\n",
              "      <td>0.278549</td>\n",
              "      <td>0.181920</td>\n",
              "      <td>...</td>\n",
              "      <td>0.047377</td>\n",
              "      <td>0.008977</td>\n",
              "      <td>0.073713</td>\n",
              "      <td>0.125555</td>\n",
              "      <td>0.231326</td>\n",
              "      <td>0.281110</td>\n",
              "      <td>0.073022</td>\n",
              "      <td>0.359570</td>\n",
              "      <td>0.081565</td>\n",
              "      <td>0.300071</td>\n",
              "    </tr>\n",
              "    <tr>\n",
              "      <th>g-13</th>\n",
              "      <td>0.472223</td>\n",
              "      <td>-0.009256</td>\n",
              "      <td>0.082011</td>\n",
              "      <td>0.192727</td>\n",
              "      <td>0.210440</td>\n",
              "      <td>-0.112423</td>\n",
              "      <td>0.110102</td>\n",
              "      <td>-0.380687</td>\n",
              "      <td>-0.386297</td>\n",
              "      <td>-0.309551</td>\n",
              "      <td>...</td>\n",
              "      <td>-0.058168</td>\n",
              "      <td>-0.037199</td>\n",
              "      <td>-0.137603</td>\n",
              "      <td>-0.283177</td>\n",
              "      <td>-0.122701</td>\n",
              "      <td>-0.305791</td>\n",
              "      <td>0.098049</td>\n",
              "      <td>-0.392892</td>\n",
              "      <td>-0.315442</td>\n",
              "      <td>-0.410571</td>\n",
              "    </tr>\n",
              "    <tr>\n",
              "      <th>g-14</th>\n",
              "      <td>-0.346179</td>\n",
              "      <td>0.002632</td>\n",
              "      <td>-0.082204</td>\n",
              "      <td>0.128792</td>\n",
              "      <td>-0.307280</td>\n",
              "      <td>0.073760</td>\n",
              "      <td>-0.126069</td>\n",
              "      <td>0.266334</td>\n",
              "      <td>0.417574</td>\n",
              "      <td>0.306363</td>\n",
              "      <td>...</td>\n",
              "      <td>0.016463</td>\n",
              "      <td>0.117654</td>\n",
              "      <td>0.073009</td>\n",
              "      <td>0.308931</td>\n",
              "      <td>0.302840</td>\n",
              "      <td>0.404077</td>\n",
              "      <td>-0.092894</td>\n",
              "      <td>0.322512</td>\n",
              "      <td>0.212951</td>\n",
              "      <td>0.410599</td>\n",
              "    </tr>\n",
              "    <tr>\n",
              "      <th>g-15</th>\n",
              "      <td>-0.201323</td>\n",
              "      <td>-0.070193</td>\n",
              "      <td>-0.059607</td>\n",
              "      <td>-0.045688</td>\n",
              "      <td>0.019531</td>\n",
              "      <td>0.037763</td>\n",
              "      <td>-0.107593</td>\n",
              "      <td>0.141999</td>\n",
              "      <td>-0.078128</td>\n",
              "      <td>0.099181</td>\n",
              "      <td>...</td>\n",
              "      <td>-0.069827</td>\n",
              "      <td>0.050530</td>\n",
              "      <td>-0.059718</td>\n",
              "      <td>-0.006925</td>\n",
              "      <td>-0.057076</td>\n",
              "      <td>0.058076</td>\n",
              "      <td>0.017995</td>\n",
              "      <td>-0.052726</td>\n",
              "      <td>-0.017395</td>\n",
              "      <td>0.054795</td>\n",
              "    </tr>\n",
              "    <tr>\n",
              "      <th>g-16</th>\n",
              "      <td>-0.513026</td>\n",
              "      <td>-0.063414</td>\n",
              "      <td>-0.137811</td>\n",
              "      <td>0.033974</td>\n",
              "      <td>-0.275700</td>\n",
              "      <td>0.221227</td>\n",
              "      <td>-0.109543</td>\n",
              "      <td>0.372104</td>\n",
              "      <td>0.424483</td>\n",
              "      <td>0.390175</td>\n",
              "      <td>...</td>\n",
              "      <td>0.100730</td>\n",
              "      <td>0.119032</td>\n",
              "      <td>0.126337</td>\n",
              "      <td>0.293214</td>\n",
              "      <td>0.224524</td>\n",
              "      <td>0.385105</td>\n",
              "      <td>-0.157421</td>\n",
              "      <td>0.417846</td>\n",
              "      <td>0.265257</td>\n",
              "      <td>0.449254</td>\n",
              "    </tr>\n",
              "    <tr>\n",
              "      <th>g-17</th>\n",
              "      <td>-0.433536</td>\n",
              "      <td>-0.000944</td>\n",
              "      <td>-0.085491</td>\n",
              "      <td>-0.070920</td>\n",
              "      <td>-0.422889</td>\n",
              "      <td>0.033641</td>\n",
              "      <td>-0.182960</td>\n",
              "      <td>0.185269</td>\n",
              "      <td>0.639804</td>\n",
              "      <td>0.327539</td>\n",
              "      <td>...</td>\n",
              "      <td>0.074221</td>\n",
              "      <td>0.082768</td>\n",
              "      <td>0.233580</td>\n",
              "      <td>0.161418</td>\n",
              "      <td>0.227800</td>\n",
              "      <td>0.362121</td>\n",
              "      <td>-0.036154</td>\n",
              "      <td>0.473136</td>\n",
              "      <td>0.102827</td>\n",
              "      <td>0.388864</td>\n",
              "    </tr>\n",
              "    <tr>\n",
              "      <th>g-18</th>\n",
              "      <td>-0.002073</td>\n",
              "      <td>-0.023748</td>\n",
              "      <td>0.053335</td>\n",
              "      <td>0.237669</td>\n",
              "      <td>-0.012207</td>\n",
              "      <td>0.041073</td>\n",
              "      <td>-0.058387</td>\n",
              "      <td>-0.061020</td>\n",
              "      <td>-0.085082</td>\n",
              "      <td>-0.002785</td>\n",
              "      <td>...</td>\n",
              "      <td>-0.115020</td>\n",
              "      <td>0.247936</td>\n",
              "      <td>0.007070</td>\n",
              "      <td>-0.110808</td>\n",
              "      <td>0.031519</td>\n",
              "      <td>0.005422</td>\n",
              "      <td>-0.008610</td>\n",
              "      <td>-0.016055</td>\n",
              "      <td>0.017671</td>\n",
              "      <td>-0.086942</td>\n",
              "    </tr>\n",
              "    <tr>\n",
              "      <th>g-19</th>\n",
              "      <td>-0.074622</td>\n",
              "      <td>-0.034714</td>\n",
              "      <td>0.028813</td>\n",
              "      <td>0.112392</td>\n",
              "      <td>-0.088152</td>\n",
              "      <td>0.134431</td>\n",
              "      <td>0.070343</td>\n",
              "      <td>0.121534</td>\n",
              "      <td>-0.006910</td>\n",
              "      <td>-0.003900</td>\n",
              "      <td>...</td>\n",
              "      <td>-0.036707</td>\n",
              "      <td>0.180519</td>\n",
              "      <td>-0.029250</td>\n",
              "      <td>-0.030343</td>\n",
              "      <td>0.038504</td>\n",
              "      <td>-0.083654</td>\n",
              "      <td>-0.187676</td>\n",
              "      <td>0.003884</td>\n",
              "      <td>0.045875</td>\n",
              "      <td>-0.101919</td>\n",
              "    </tr>\n",
              "    <tr>\n",
              "      <th>g-20</th>\n",
              "      <td>-0.468599</td>\n",
              "      <td>-0.131031</td>\n",
              "      <td>-0.061160</td>\n",
              "      <td>0.027867</td>\n",
              "      <td>-0.311798</td>\n",
              "      <td>0.136226</td>\n",
              "      <td>0.049195</td>\n",
              "      <td>0.231938</td>\n",
              "      <td>0.419846</td>\n",
              "      <td>0.241005</td>\n",
              "      <td>...</td>\n",
              "      <td>-0.078284</td>\n",
              "      <td>-0.030640</td>\n",
              "      <td>0.020368</td>\n",
              "      <td>0.191178</td>\n",
              "      <td>0.264432</td>\n",
              "      <td>0.224424</td>\n",
              "      <td>-0.010426</td>\n",
              "      <td>0.457646</td>\n",
              "      <td>0.260409</td>\n",
              "      <td>0.404318</td>\n",
              "    </tr>\n",
              "    <tr>\n",
              "      <th>g-21</th>\n",
              "      <td>0.052445</td>\n",
              "      <td>0.196596</td>\n",
              "      <td>-0.129131</td>\n",
              "      <td>-0.167263</td>\n",
              "      <td>0.286106</td>\n",
              "      <td>0.042455</td>\n",
              "      <td>0.244205</td>\n",
              "      <td>0.321506</td>\n",
              "      <td>0.037205</td>\n",
              "      <td>0.000340</td>\n",
              "      <td>...</td>\n",
              "      <td>1.000000</td>\n",
              "      <td>-0.019706</td>\n",
              "      <td>0.158318</td>\n",
              "      <td>0.183171</td>\n",
              "      <td>-0.018741</td>\n",
              "      <td>-0.047095</td>\n",
              "      <td>0.015391</td>\n",
              "      <td>0.067244</td>\n",
              "      <td>-0.002585</td>\n",
              "      <td>-0.010101</td>\n",
              "    </tr>\n",
              "    <tr>\n",
              "      <th>g-22</th>\n",
              "      <td>0.022269</td>\n",
              "      <td>-0.061441</td>\n",
              "      <td>-0.007426</td>\n",
              "      <td>0.197013</td>\n",
              "      <td>-0.055368</td>\n",
              "      <td>0.095901</td>\n",
              "      <td>-0.076039</td>\n",
              "      <td>-0.043685</td>\n",
              "      <td>-0.028802</td>\n",
              "      <td>0.140954</td>\n",
              "      <td>...</td>\n",
              "      <td>-0.019706</td>\n",
              "      <td>1.000000</td>\n",
              "      <td>0.111432</td>\n",
              "      <td>-0.060301</td>\n",
              "      <td>0.059959</td>\n",
              "      <td>0.067503</td>\n",
              "      <td>-0.062607</td>\n",
              "      <td>0.076743</td>\n",
              "      <td>0.029931</td>\n",
              "      <td>0.000369</td>\n",
              "    </tr>\n",
              "    <tr>\n",
              "      <th>g-23</th>\n",
              "      <td>-0.076298</td>\n",
              "      <td>0.090620</td>\n",
              "      <td>-0.034230</td>\n",
              "      <td>-0.049480</td>\n",
              "      <td>-0.113396</td>\n",
              "      <td>-0.000709</td>\n",
              "      <td>-0.063008</td>\n",
              "      <td>0.143473</td>\n",
              "      <td>0.175015</td>\n",
              "      <td>0.161157</td>\n",
              "      <td>...</td>\n",
              "      <td>0.158318</td>\n",
              "      <td>0.111432</td>\n",
              "      <td>1.000000</td>\n",
              "      <td>0.059869</td>\n",
              "      <td>-0.020426</td>\n",
              "      <td>0.155888</td>\n",
              "      <td>-0.017392</td>\n",
              "      <td>0.081917</td>\n",
              "      <td>-0.033143</td>\n",
              "      <td>0.096281</td>\n",
              "    </tr>\n",
              "    <tr>\n",
              "      <th>g-24</th>\n",
              "      <td>-0.337522</td>\n",
              "      <td>-0.004299</td>\n",
              "      <td>-0.128312</td>\n",
              "      <td>-0.113336</td>\n",
              "      <td>-0.120743</td>\n",
              "      <td>0.120697</td>\n",
              "      <td>0.034160</td>\n",
              "      <td>0.458273</td>\n",
              "      <td>0.246916</td>\n",
              "      <td>0.235827</td>\n",
              "      <td>...</td>\n",
              "      <td>0.183171</td>\n",
              "      <td>-0.060301</td>\n",
              "      <td>0.059869</td>\n",
              "      <td>1.000000</td>\n",
              "      <td>0.141133</td>\n",
              "      <td>0.326184</td>\n",
              "      <td>-0.128719</td>\n",
              "      <td>0.225751</td>\n",
              "      <td>0.275870</td>\n",
              "      <td>0.464049</td>\n",
              "    </tr>\n",
              "    <tr>\n",
              "      <th>g-25</th>\n",
              "      <td>-0.235191</td>\n",
              "      <td>-0.032600</td>\n",
              "      <td>-0.067363</td>\n",
              "      <td>0.175615</td>\n",
              "      <td>-0.233682</td>\n",
              "      <td>0.082212</td>\n",
              "      <td>-0.002408</td>\n",
              "      <td>0.123891</td>\n",
              "      <td>0.295657</td>\n",
              "      <td>0.123404</td>\n",
              "      <td>...</td>\n",
              "      <td>-0.018741</td>\n",
              "      <td>0.059959</td>\n",
              "      <td>-0.020426</td>\n",
              "      <td>0.141133</td>\n",
              "      <td>1.000000</td>\n",
              "      <td>0.238111</td>\n",
              "      <td>-0.111857</td>\n",
              "      <td>0.329292</td>\n",
              "      <td>0.130257</td>\n",
              "      <td>0.281866</td>\n",
              "    </tr>\n",
              "    <tr>\n",
              "      <th>g-26</th>\n",
              "      <td>-0.422814</td>\n",
              "      <td>-0.019435</td>\n",
              "      <td>-0.126554</td>\n",
              "      <td>0.111355</td>\n",
              "      <td>-0.340708</td>\n",
              "      <td>0.058257</td>\n",
              "      <td>-0.194962</td>\n",
              "      <td>0.262002</td>\n",
              "      <td>0.384568</td>\n",
              "      <td>0.383703</td>\n",
              "      <td>...</td>\n",
              "      <td>-0.047095</td>\n",
              "      <td>0.067503</td>\n",
              "      <td>0.155888</td>\n",
              "      <td>0.326184</td>\n",
              "      <td>0.238111</td>\n",
              "      <td>1.000000</td>\n",
              "      <td>-0.061375</td>\n",
              "      <td>0.376835</td>\n",
              "      <td>0.170572</td>\n",
              "      <td>0.544694</td>\n",
              "    </tr>\n",
              "    <tr>\n",
              "      <th>g-27</th>\n",
              "      <td>0.148432</td>\n",
              "      <td>0.015661</td>\n",
              "      <td>0.036984</td>\n",
              "      <td>0.007168</td>\n",
              "      <td>0.070292</td>\n",
              "      <td>-0.106304</td>\n",
              "      <td>-0.051850</td>\n",
              "      <td>-0.126174</td>\n",
              "      <td>-0.119738</td>\n",
              "      <td>-0.084327</td>\n",
              "      <td>...</td>\n",
              "      <td>0.015391</td>\n",
              "      <td>-0.062607</td>\n",
              "      <td>-0.017392</td>\n",
              "      <td>-0.128719</td>\n",
              "      <td>-0.111857</td>\n",
              "      <td>-0.061375</td>\n",
              "      <td>1.000000</td>\n",
              "      <td>-0.052955</td>\n",
              "      <td>-0.160213</td>\n",
              "      <td>-0.057207</td>\n",
              "    </tr>\n",
              "    <tr>\n",
              "      <th>g-28</th>\n",
              "      <td>-0.471092</td>\n",
              "      <td>-0.098907</td>\n",
              "      <td>-0.129481</td>\n",
              "      <td>-0.022381</td>\n",
              "      <td>-0.360274</td>\n",
              "      <td>0.137596</td>\n",
              "      <td>-0.032510</td>\n",
              "      <td>0.287440</td>\n",
              "      <td>0.581645</td>\n",
              "      <td>0.309824</td>\n",
              "      <td>...</td>\n",
              "      <td>0.067244</td>\n",
              "      <td>0.076743</td>\n",
              "      <td>0.081917</td>\n",
              "      <td>0.225751</td>\n",
              "      <td>0.329292</td>\n",
              "      <td>0.376835</td>\n",
              "      <td>-0.052955</td>\n",
              "      <td>1.000000</td>\n",
              "      <td>0.321613</td>\n",
              "      <td>0.529473</td>\n",
              "    </tr>\n",
              "    <tr>\n",
              "      <th>g-29</th>\n",
              "      <td>-0.296871</td>\n",
              "      <td>-0.091071</td>\n",
              "      <td>-0.017941</td>\n",
              "      <td>-0.128269</td>\n",
              "      <td>-0.225461</td>\n",
              "      <td>0.171353</td>\n",
              "      <td>0.091318</td>\n",
              "      <td>0.222967</td>\n",
              "      <td>0.233969</td>\n",
              "      <td>0.191556</td>\n",
              "      <td>...</td>\n",
              "      <td>-0.002585</td>\n",
              "      <td>0.029931</td>\n",
              "      <td>-0.033143</td>\n",
              "      <td>0.275870</td>\n",
              "      <td>0.130257</td>\n",
              "      <td>0.170572</td>\n",
              "      <td>-0.160213</td>\n",
              "      <td>0.321613</td>\n",
              "      <td>1.000000</td>\n",
              "      <td>0.421884</td>\n",
              "    </tr>\n",
              "    <tr>\n",
              "      <th>g-30</th>\n",
              "      <td>-0.528327</td>\n",
              "      <td>-0.053331</td>\n",
              "      <td>-0.152288</td>\n",
              "      <td>-0.042827</td>\n",
              "      <td>-0.402256</td>\n",
              "      <td>0.136856</td>\n",
              "      <td>-0.113642</td>\n",
              "      <td>0.419395</td>\n",
              "      <td>0.484871</td>\n",
              "      <td>0.394296</td>\n",
              "      <td>...</td>\n",
              "      <td>-0.010101</td>\n",
              "      <td>0.000369</td>\n",
              "      <td>0.096281</td>\n",
              "      <td>0.464049</td>\n",
              "      <td>0.281866</td>\n",
              "      <td>0.544694</td>\n",
              "      <td>-0.057207</td>\n",
              "      <td>0.529473</td>\n",
              "      <td>0.421884</td>\n",
              "      <td>1.000000</td>\n",
              "    </tr>\n",
              "  </tbody>\n",
              "</table>\n",
              "<p>31 rows × 31 columns</p>\n",
              "</div>\n",
              "    <div class=\"colab-df-buttons\">\n",
              "\n",
              "  <div class=\"colab-df-container\">\n",
              "    <button class=\"colab-df-convert\" onclick=\"convertToInteractive('df-c4b20406-570a-471f-ad42-404123661c2f')\"\n",
              "            title=\"Convert this dataframe to an interactive table.\"\n",
              "            style=\"display:none;\">\n",
              "\n",
              "  <svg xmlns=\"http://www.w3.org/2000/svg\" height=\"24px\" viewBox=\"0 -960 960 960\">\n",
              "    <path d=\"M120-120v-720h720v720H120Zm60-500h600v-160H180v160Zm220 220h160v-160H400v160Zm0 220h160v-160H400v160ZM180-400h160v-160H180v160Zm440 0h160v-160H620v160ZM180-180h160v-160H180v160Zm440 0h160v-160H620v160Z\"/>\n",
              "  </svg>\n",
              "    </button>\n",
              "\n",
              "  <style>\n",
              "    .colab-df-container {\n",
              "      display:flex;\n",
              "      gap: 12px;\n",
              "    }\n",
              "\n",
              "    .colab-df-convert {\n",
              "      background-color: #E8F0FE;\n",
              "      border: none;\n",
              "      border-radius: 50%;\n",
              "      cursor: pointer;\n",
              "      display: none;\n",
              "      fill: #1967D2;\n",
              "      height: 32px;\n",
              "      padding: 0 0 0 0;\n",
              "      width: 32px;\n",
              "    }\n",
              "\n",
              "    .colab-df-convert:hover {\n",
              "      background-color: #E2EBFA;\n",
              "      box-shadow: 0px 1px 2px rgba(60, 64, 67, 0.3), 0px 1px 3px 1px rgba(60, 64, 67, 0.15);\n",
              "      fill: #174EA6;\n",
              "    }\n",
              "\n",
              "    .colab-df-buttons div {\n",
              "      margin-bottom: 4px;\n",
              "    }\n",
              "\n",
              "    [theme=dark] .colab-df-convert {\n",
              "      background-color: #3B4455;\n",
              "      fill: #D2E3FC;\n",
              "    }\n",
              "\n",
              "    [theme=dark] .colab-df-convert:hover {\n",
              "      background-color: #434B5C;\n",
              "      box-shadow: 0px 1px 3px 1px rgba(0, 0, 0, 0.15);\n",
              "      filter: drop-shadow(0px 1px 2px rgba(0, 0, 0, 0.3));\n",
              "      fill: #FFFFFF;\n",
              "    }\n",
              "  </style>\n",
              "\n",
              "    <script>\n",
              "      const buttonEl =\n",
              "        document.querySelector('#df-c4b20406-570a-471f-ad42-404123661c2f button.colab-df-convert');\n",
              "      buttonEl.style.display =\n",
              "        google.colab.kernel.accessAllowed ? 'block' : 'none';\n",
              "\n",
              "      async function convertToInteractive(key) {\n",
              "        const element = document.querySelector('#df-c4b20406-570a-471f-ad42-404123661c2f');\n",
              "        const dataTable =\n",
              "          await google.colab.kernel.invokeFunction('convertToInteractive',\n",
              "                                                    [key], {});\n",
              "        if (!dataTable) return;\n",
              "\n",
              "        const docLinkHtml = 'Like what you see? Visit the ' +\n",
              "          '<a target=\"_blank\" href=https://colab.research.google.com/notebooks/data_table.ipynb>data table notebook</a>'\n",
              "          + ' to learn more about interactive tables.';\n",
              "        element.innerHTML = '';\n",
              "        dataTable['output_type'] = 'display_data';\n",
              "        await google.colab.output.renderOutput(dataTable, element);\n",
              "        const docLink = document.createElement('div');\n",
              "        docLink.innerHTML = docLinkHtml;\n",
              "        element.appendChild(docLink);\n",
              "      }\n",
              "    </script>\n",
              "  </div>\n",
              "\n",
              "\n",
              "<div id=\"df-3b9ab490-2f64-4bf2-bb28-5b5730ee1af3\">\n",
              "  <button class=\"colab-df-quickchart\" onclick=\"quickchart('df-3b9ab490-2f64-4bf2-bb28-5b5730ee1af3')\"\n",
              "            title=\"Suggest charts\"\n",
              "            style=\"display:none;\">\n",
              "\n",
              "<svg xmlns=\"http://www.w3.org/2000/svg\" height=\"24px\"viewBox=\"0 0 24 24\"\n",
              "     width=\"24px\">\n",
              "    <g>\n",
              "        <path d=\"M19 3H5c-1.1 0-2 .9-2 2v14c0 1.1.9 2 2 2h14c1.1 0 2-.9 2-2V5c0-1.1-.9-2-2-2zM9 17H7v-7h2v7zm4 0h-2V7h2v10zm4 0h-2v-4h2v4z\"/>\n",
              "    </g>\n",
              "</svg>\n",
              "  </button>\n",
              "\n",
              "<style>\n",
              "  .colab-df-quickchart {\n",
              "      --bg-color: #E8F0FE;\n",
              "      --fill-color: #1967D2;\n",
              "      --hover-bg-color: #E2EBFA;\n",
              "      --hover-fill-color: #174EA6;\n",
              "      --disabled-fill-color: #AAA;\n",
              "      --disabled-bg-color: #DDD;\n",
              "  }\n",
              "\n",
              "  [theme=dark] .colab-df-quickchart {\n",
              "      --bg-color: #3B4455;\n",
              "      --fill-color: #D2E3FC;\n",
              "      --hover-bg-color: #434B5C;\n",
              "      --hover-fill-color: #FFFFFF;\n",
              "      --disabled-bg-color: #3B4455;\n",
              "      --disabled-fill-color: #666;\n",
              "  }\n",
              "\n",
              "  .colab-df-quickchart {\n",
              "    background-color: var(--bg-color);\n",
              "    border: none;\n",
              "    border-radius: 50%;\n",
              "    cursor: pointer;\n",
              "    display: none;\n",
              "    fill: var(--fill-color);\n",
              "    height: 32px;\n",
              "    padding: 0;\n",
              "    width: 32px;\n",
              "  }\n",
              "\n",
              "  .colab-df-quickchart:hover {\n",
              "    background-color: var(--hover-bg-color);\n",
              "    box-shadow: 0 1px 2px rgba(60, 64, 67, 0.3), 0 1px 3px 1px rgba(60, 64, 67, 0.15);\n",
              "    fill: var(--button-hover-fill-color);\n",
              "  }\n",
              "\n",
              "  .colab-df-quickchart-complete:disabled,\n",
              "  .colab-df-quickchart-complete:disabled:hover {\n",
              "    background-color: var(--disabled-bg-color);\n",
              "    fill: var(--disabled-fill-color);\n",
              "    box-shadow: none;\n",
              "  }\n",
              "\n",
              "  .colab-df-spinner {\n",
              "    border: 2px solid var(--fill-color);\n",
              "    border-color: transparent;\n",
              "    border-bottom-color: var(--fill-color);\n",
              "    animation:\n",
              "      spin 1s steps(1) infinite;\n",
              "  }\n",
              "\n",
              "  @keyframes spin {\n",
              "    0% {\n",
              "      border-color: transparent;\n",
              "      border-bottom-color: var(--fill-color);\n",
              "      border-left-color: var(--fill-color);\n",
              "    }\n",
              "    20% {\n",
              "      border-color: transparent;\n",
              "      border-left-color: var(--fill-color);\n",
              "      border-top-color: var(--fill-color);\n",
              "    }\n",
              "    30% {\n",
              "      border-color: transparent;\n",
              "      border-left-color: var(--fill-color);\n",
              "      border-top-color: var(--fill-color);\n",
              "      border-right-color: var(--fill-color);\n",
              "    }\n",
              "    40% {\n",
              "      border-color: transparent;\n",
              "      border-right-color: var(--fill-color);\n",
              "      border-top-color: var(--fill-color);\n",
              "    }\n",
              "    60% {\n",
              "      border-color: transparent;\n",
              "      border-right-color: var(--fill-color);\n",
              "    }\n",
              "    80% {\n",
              "      border-color: transparent;\n",
              "      border-right-color: var(--fill-color);\n",
              "      border-bottom-color: var(--fill-color);\n",
              "    }\n",
              "    90% {\n",
              "      border-color: transparent;\n",
              "      border-bottom-color: var(--fill-color);\n",
              "    }\n",
              "  }\n",
              "</style>\n",
              "\n",
              "  <script>\n",
              "    async function quickchart(key) {\n",
              "      const quickchartButtonEl =\n",
              "        document.querySelector('#' + key + ' button');\n",
              "      quickchartButtonEl.disabled = true;  // To prevent multiple clicks.\n",
              "      quickchartButtonEl.classList.add('colab-df-spinner');\n",
              "      try {\n",
              "        const charts = await google.colab.kernel.invokeFunction(\n",
              "            'suggestCharts', [key], {});\n",
              "      } catch (error) {\n",
              "        console.error('Error during call to suggestCharts:', error);\n",
              "      }\n",
              "      quickchartButtonEl.classList.remove('colab-df-spinner');\n",
              "      quickchartButtonEl.classList.add('colab-df-quickchart-complete');\n",
              "    }\n",
              "    (() => {\n",
              "      let quickchartButtonEl =\n",
              "        document.querySelector('#df-3b9ab490-2f64-4bf2-bb28-5b5730ee1af3 button');\n",
              "      quickchartButtonEl.style.display =\n",
              "        google.colab.kernel.accessAllowed ? 'block' : 'none';\n",
              "    })();\n",
              "  </script>\n",
              "</div>\n",
              "\n",
              "  <div id=\"id_c4a1743f-7333-4a6a-a8e0-f883a7e1ddd8\">\n",
              "    <style>\n",
              "      .colab-df-generate {\n",
              "        background-color: #E8F0FE;\n",
              "        border: none;\n",
              "        border-radius: 50%;\n",
              "        cursor: pointer;\n",
              "        display: none;\n",
              "        fill: #1967D2;\n",
              "        height: 32px;\n",
              "        padding: 0 0 0 0;\n",
              "        width: 32px;\n",
              "      }\n",
              "\n",
              "      .colab-df-generate:hover {\n",
              "        background-color: #E2EBFA;\n",
              "        box-shadow: 0px 1px 2px rgba(60, 64, 67, 0.3), 0px 1px 3px 1px rgba(60, 64, 67, 0.15);\n",
              "        fill: #174EA6;\n",
              "      }\n",
              "\n",
              "      [theme=dark] .colab-df-generate {\n",
              "        background-color: #3B4455;\n",
              "        fill: #D2E3FC;\n",
              "      }\n",
              "\n",
              "      [theme=dark] .colab-df-generate:hover {\n",
              "        background-color: #434B5C;\n",
              "        box-shadow: 0px 1px 3px 1px rgba(0, 0, 0, 0.15);\n",
              "        filter: drop-shadow(0px 1px 2px rgba(0, 0, 0, 0.3));\n",
              "        fill: #FFFFFF;\n",
              "      }\n",
              "    </style>\n",
              "    <button class=\"colab-df-generate\" onclick=\"generateWithVariable('corr')\"\n",
              "            title=\"Generate code using this dataframe.\"\n",
              "            style=\"display:none;\">\n",
              "\n",
              "  <svg xmlns=\"http://www.w3.org/2000/svg\" height=\"24px\"viewBox=\"0 0 24 24\"\n",
              "       width=\"24px\">\n",
              "    <path d=\"M7,19H8.4L18.45,9,17,7.55,7,17.6ZM5,21V16.75L18.45,3.32a2,2,0,0,1,2.83,0l1.4,1.43a1.91,1.91,0,0,1,.58,1.4,1.91,1.91,0,0,1-.58,1.4L9.25,21ZM18.45,9,17,7.55Zm-12,3A5.31,5.31,0,0,0,4.9,8.1,5.31,5.31,0,0,0,1,6.5,5.31,5.31,0,0,0,4.9,4.9,5.31,5.31,0,0,0,6.5,1,5.31,5.31,0,0,0,8.1,4.9,5.31,5.31,0,0,0,12,6.5,5.46,5.46,0,0,0,6.5,12Z\"/>\n",
              "  </svg>\n",
              "    </button>\n",
              "    <script>\n",
              "      (() => {\n",
              "      const buttonEl =\n",
              "        document.querySelector('#id_c4a1743f-7333-4a6a-a8e0-f883a7e1ddd8 button.colab-df-generate');\n",
              "      buttonEl.style.display =\n",
              "        google.colab.kernel.accessAllowed ? 'block' : 'none';\n",
              "\n",
              "      buttonEl.onclick = () => {\n",
              "        google.colab.notebook.generateWithVariable('corr');\n",
              "      }\n",
              "      })();\n",
              "    </script>\n",
              "  </div>\n",
              "\n",
              "    </div>\n",
              "  </div>\n"
            ],
            "application/vnd.google.colaboratory.intrinsic+json": {
              "type": "dataframe",
              "variable_name": "corr"
            }
          },
          "metadata": {},
          "execution_count": 60
        }
      ]
    },
    {
      "cell_type": "code",
      "source": [
        "f, ax = plt.subplots(figsize=(18, 12))\n",
        "mask = np.triu(np.ones_like(corr, dtype=bool))\n",
        "\n",
        "cmap = sns.diverging_palette(230, 20, as_cmap=True)\n",
        "\n",
        "sns.heatmap(corr, mask=mask, cmap=cmap, center=0, vmin=-1, vmax=1,\n",
        "            square=True, linewidths=.5, cbar_kws={\"shrink\": .5})"
      ],
      "metadata": {
        "colab": {
          "base_uri": "https://localhost:8080/",
          "height": 1000
        },
        "id": "s-AvKq6b3Fhk",
        "outputId": "814930b8-c9bc-4ea1-efbe-2ad5600ba05f"
      },
      "execution_count": 61,
      "outputs": [
        {
          "output_type": "execute_result",
          "data": {
            "text/plain": [
              "<Axes: >"
            ]
          },
          "metadata": {},
          "execution_count": 61
        },
        {
          "output_type": "display_data",
          "data": {
            "text/plain": [
              "<Figure size 1800x1200 with 2 Axes>"
            ],
            "image/png": "[encoded data removed]"
          },
          "metadata": {}
        }
      ]
    },
    {
      "cell_type": "code",
      "source": [
        "fig = px.imshow(corr, text_auto=True, color_continuous_scale='RdBu_r')\n",
        "fig.show()"
      ],
      "metadata": {
        "colab": {
          "base_uri": "https://localhost:8080/",
          "height": 542
        },
        "id": "8yaMOQJ1k1aK",
        "outputId": "2c9f4960-66a5-422a-ba66-613af8abc8ce"
      },
      "execution_count": 62,
      "outputs": [
        {
          "output_type": "display_data",
          "data": {
            "text/html": [
              "<html>\n",
              "<head><meta charset=\"utf-8\" /></head>\n",
              "<body>\n",
              "    <div>            <script src=\"https://cdnjs.cloudflare.com/ajax/libs/mathjax/2.7.5/MathJax.js?config=TeX-AMS-MML_SVG\"></script><script type=\"text/javascript\">if (window.MathJax && window.MathJax.Hub && window.MathJax.Hub.Config) {window.MathJax.Hub.Config({SVG: {font: \"STIX-Web\"}});}</script>                <script type=\"text/javascript\">window.PlotlyConfig = {MathJaxConfig: 'local'};</script>\n",
              "        <script charset=\"utf-8\" src=\"https://cdn.plot.ly/plotly-2.24.1.min.js\"></script>                <div id=\"d72ce96f-b266-4113-a801-c81c84acf18f\" class=\"plotly-graph-div\" style=\"height:525px; width:100%;\"></div>            <script type=\"text/javascript\">                                    window.PLOTLYENV=window.PLOTLYENV || {};                                    if (document.getElementById(\"d72ce96f-b266-4113-a801-c81c84acf18f\")) {                    Plotly.newPlot(                        \"d72ce96f-b266-4113-a801-c81c84acf18f\",                        [{\"coloraxis\":\"coloraxis\",\"name\":\"0\",\"texttemplate\":\"%{z}\",\"x\":[\"g-0\",\"g-1\",\"g-2\",\"g-3\",\"g-4\",\"g-5\",\"g-6\",\"g-7\",\"g-8\",\"g-9\",\"g-10\",\"g-11\",\"g-12\",\"g-13\",\"g-14\",\"g-15\",\"g-16\",\"g-17\",\"g-18\",\"g-19\",\"g-20\",\"g-21\",\"g-22\",\"g-23\",\"g-24\",\"g-25\",\"g-26\",\"g-27\",\"g-28\",\"g-29\",\"g-30\"],\"y\":[\"g-0\",\"g-1\",\"g-2\",\"g-3\",\"g-4\",\"g-5\",\"g-6\",\"g-7\",\"g-8\",\"g-9\",\"g-10\",\"g-11\",\"g-12\",\"g-13\",\"g-14\",\"g-15\",\"g-16\",\"g-17\",\"g-18\",\"g-19\",\"g-20\",\"g-21\",\"g-22\",\"g-23\",\"g-24\",\"g-25\",\"g-26\",\"g-27\",\"g-28\",\"g-29\",\"g-30\"],\"z\":[[1.0,0.08603229040867037,0.17618761041753947,0.011266379890293941,0.4031525285432428,-0.16547825247322662,0.2383476689418974,-0.3744512805444617,-0.604211935067283,-0.42877867589269264,-0.5476057112608999,0.21976208756347834,-0.19945300231653632,0.4722230595097607,-0.346178616938733,-0.20132344690958434,-0.5130261389451366,-0.4335359602275923,-0.00207301886896229,-0.07462241272885242,-0.4685989702821659,0.05244535228582127,0.02226894748051537,-0.07629846252939003,-0.3375220989898459,-0.23519111982163682,-0.42281381450070665,0.14843216032037337,-0.4710920256895606,-0.2968711711245888,-0.5283274178998626],[0.08603229040867037,1.0,-0.054518180089746446,-0.027855446591094554,0.1936471593873776,-0.15158988565599935,-0.12254118478420342,0.1445371494657377,-0.009973440874944745,-0.047558051815128365,-0.009051226246104252,0.16127409133945556,0.03717828591737907,-0.009255875874623589,0.0026320894543012214,-0.07019335435578722,-0.06341381405595728,-0.0009441041128798205,-0.023748238278916166,-0.03471376458326155,-0.1310309601716477,0.19659648476031505,-0.06144086604185807,0.09062020165507757,-0.004299333626310387,-0.03260001623082153,-0.01943481157449544,0.015660980293309753,-0.09890743980878784,-0.09107054138129482,-0.05333088164281536],[0.17618761041753947,-0.054518180089746446,1.0,0.042633433186390915,0.013968361144706282,0.0185155685387105,0.015189925124984556,-0.14420484077077453,-0.12802900649463175,-0.08133221813869494,-0.10505038723857395,0.011197738772062732,-0.06350118303976907,0.08201066887815253,-0.08220395212252234,-0.05960722006979622,-0.13781149268470205,-0.08549086087245679,0.05333455356607431,0.028812570655196133,-0.06116045945081188,-0.12913116989021475,-0.007425828101847011,-0.03423003405303856,-0.1283123899214302,-0.06736267055247028,-0.1265539483439525,0.036984326793081036,-0.12948147692792414,-0.017941010424849715,-0.15228837027552602],[0.011266379890293941,-0.027855446591094554,0.042633433186390915,1.0,-0.033039269923820114,0.0422314982659745,-0.043177212172381914,-0.17569188951352022,-0.0861674553955945,-0.01405168843444393,-0.07410123507253806,0.18102389295690646,0.030539098617276893,0.19272651166794466,0.12879174330146811,-0.04568798619106251,0.03397377168700725,-0.07091986214348879,0.237669133298553,0.11239160587727134,0.027867208089491065,-0.16726262399482913,0.19701311109539624,-0.04948008878469673,-0.11333648506658231,0.17561540011107046,0.11135493037985855,0.007168109099959177,-0.02238084652160055,-0.12826949029744242,-0.042827252438091774],[0.4031525285432428,0.1936471593873776,0.013968361144706282,-0.033039269923820114,1.0,-0.05744924903905982,0.20640540976108027,-0.03274819245378322,-0.474827999245565,-0.27416670541341503,-0.4580206834523237,0.11646712792029716,-0.2070784453515415,0.21043953251659908,-0.30728003914590357,0.019531223751744712,-0.2757002357921842,-0.4228892288339921,-0.0122069852314102,-0.08815225799357378,-0.311798340142574,0.28610629522106334,-0.055367579256403274,-0.11339570468383703,-0.12074306094121268,-0.23368231159687763,-0.3407080780768922,0.07029228147494418,-0.3602739939535854,-0.22546070511804145,-0.40225649675117725],[-0.16547825247322662,-0.15158988565599935,0.0185155685387105,0.0422314982659745,-0.05744924903905982,1.0,0.0836202576974032,0.10234456782833457,0.07388490209148606,0.12656102991619508,0.03874306126262491,-0.17170931882257506,-0.0003925542735723812,-0.11242322502509079,0.07375975470911467,0.03776327144796584,0.2212267923840308,0.03364061055174493,0.04107346667792837,0.1344311268867323,0.1362256250220132,0.04245480116844837,0.09590148693307278,-0.0007090800330963389,0.1206969643577355,0.08221218954364472,0.05825662592008533,-0.10630372077422436,0.1375955152294931,0.1713526394604834,0.13685571700225793],[0.2383476689418974,-0.12254118478420342,0.015189925124984556,-0.043177212172381914,0.20640540976108027,0.0836202576974032,1.0,0.030544380039563248,-0.21229234525328497,-0.1347394777339892,-0.26457485511153983,-0.06436296014612189,-0.04173058237762518,0.11010211051435073,-0.12606853935004914,-0.10759250926860059,-0.10954324201667305,-0.18295968663033302,-0.058386702378832055,0.07034260530496836,0.04919530486817705,0.24420482539902752,-0.0760388667689223,-0.06300811523066237,0.03416010486892519,-0.002408262761095223,-0.1949615818705674,-0.051850142953113375,-0.03251027332970153,0.09131804154473519,-0.11364171216307706],[-0.3744512805444617,0.1445371494657377,-0.14420484077077453,-0.17569188951352022,-0.03274819245378322,0.10234456782833457,0.030544380039563248,1.0,0.27808518105345353,0.2887796394406657,0.382325273989293,-0.18496618130788095,0.1661011675583515,-0.3806865225222737,0.26633382692522434,0.14199892403932865,0.37210384852636186,0.1852693752622316,-0.06101999362158456,0.12153378542608244,0.2319384884640223,0.32150575449505736,-0.04368499410418248,0.14347264770083337,0.45827292849589574,0.12389115466772312,0.26200196970566136,-0.126174174611284,0.2874402472119904,0.22296667035141085,0.41939465433342527],[-0.604211935067283,-0.009973440874944745,-0.12802900649463175,-0.0861674553955945,-0.474827999245565,0.07388490209148606,-0.21229234525328497,0.27808518105345353,1.0,0.33028350130012596,0.5568540409298571,-0.14556927788135485,0.2785493386759003,-0.3862968056147516,0.4175739372110484,-0.078127669001892,0.4244829271494212,0.63980386674897,-0.08508220848072012,-0.006909697013674209,0.4198464163313193,0.03720545608162617,-0.02880159958365912,0.17501456645328556,0.24691641825525146,0.29565661897528495,0.38456813114193905,-0.11973800081667765,0.5816453015455578,0.2339688156871605,0.48487098558593966],[-0.42877867589269264,-0.047558051815128365,-0.08133221813869494,-0.01405168843444393,-0.27416670541341503,0.12656102991619508,-0.1347394777339892,0.2887796394406657,0.33028350130012596,1.0,0.4236560458964773,-0.1822977271778722,0.18191961360202388,-0.30955109679672044,0.3063625466245808,0.09918113127173897,0.39017513168179235,0.3275389007602346,-0.002784954144491704,-0.003899891626484319,0.24100501880355424,0.00033988071510364257,0.14095365166882096,0.16115658627857962,0.23582658785919813,0.12340380261656922,0.3837028194310515,-0.08432666645465418,0.3098240543686765,0.19155617526513705,0.3942962171976976],[-0.5476057112608999,-0.009051226246104252,-0.10505038723857395,-0.07410123507253806,-0.4580206834523237,0.03874306126262491,-0.26457485511153983,0.382325273989293,0.5568540409298571,0.4236560458964773,1.0,-0.20773967020507114,0.34104185920378166,-0.4548970986564342,0.4070507536309185,0.06769989401041633,0.3939153111636917,0.5123087485345537,-0.03703605041210386,-0.052094655706176725,0.30350238445594974,-0.04206180349730096,0.052603332973544276,0.23593088461724707,0.3258206149863118,0.18796881844361063,0.5355269400648119,-0.003979676873881749,0.4832190331233442,0.2473599697483979,0.611077688460501],[0.21976208756347834,0.16127409133945556,0.011197738772062732,0.18102389295690646,0.11646712792029716,-0.17170931882257506,-0.06436296014612189,-0.18496618130788095,-0.14556927788135485,-0.1822977271778722,-0.20773967020507114,1.0,-0.033609034432838206,0.27429006126550215,-0.030179143796439826,-0.06507777302473086,-0.20951511840318837,-0.13862434700435122,0.045393737834747906,-0.06519080783327173,-0.12521047408950997,-0.05692218594384696,-0.06082048901211588,-0.09980641021446084,-0.1825180668018813,0.004279648470738428,-0.14244725193056545,0.07418413952052953,-0.2594893134839096,-0.2935381634854244,-0.23319515748850023],[-0.19945300231653632,0.03717828591737907,-0.06350118303976907,0.030539098617276893,-0.2070784453515415,-0.0003925542735723812,-0.04173058237762518,0.1661011675583515,0.2785493386759003,0.18191961360202388,0.34104185920378166,-0.033609034432838206,1.0,-0.1313593800302279,0.28720081254675073,-0.10373124577011018,0.18142098580986246,0.3039114536491243,-0.021739141096480646,-0.06454877140916432,0.1582014722568415,0.04737741577670054,0.008977276608053898,0.07371281429540162,0.12555502508390826,0.23132579802293593,0.2811100867720176,0.07302242623379906,0.35957029973381294,0.08156537113801911,0.3000706753332673],[0.4722230595097607,-0.009255875874623589,0.08201066887815253,0.19272651166794466,0.21043953251659908,-0.11242322502509079,0.11010211051435073,-0.3806865225222737,-0.3862968056147516,-0.30955109679672044,-0.4548970986564342,0.27429006126550215,-0.1313593800302279,1.0,-0.2093761498033424,-0.14752379648247466,-0.332240013707249,-0.30525548479970444,0.04359493511292748,-0.09360918061903824,-0.3338628366249252,-0.05816845613462831,-0.03719856798572655,-0.1376027043825523,-0.28317683951559175,-0.12270101812935295,-0.30579119346266814,0.0980486248563475,-0.3928917725675127,-0.31544199967805747,-0.4105711551385347],[-0.346178616938733,0.0026320894543012214,-0.08220395212252234,0.12879174330146811,-0.30728003914590357,0.07375975470911467,-0.12606853935004914,0.26633382692522434,0.4175739372110484,0.3063625466245808,0.4070507536309185,-0.030179143796439826,0.28720081254675073,-0.2093761498033424,1.0,-0.06279523817408904,0.32392147905034974,0.3416687687442796,0.021301159130952346,-0.009360283606022621,0.22999887560392726,0.016463465435278254,0.11765439869495002,0.07300942623972041,0.30893101068248385,0.3028396218447765,0.4040768796639524,-0.09289412326906779,0.3225116222186896,0.21295081850500383,0.41059930237668685],[-0.20132344690958434,-0.07019335435578722,-0.05960722006979622,-0.04568798619106251,0.019531223751744712,0.03776327144796584,-0.10759250926860059,0.14199892403932865,-0.078127669001892,0.09918113127173897,0.06769989401041633,-0.06507777302473086,-0.10373124577011018,-0.14752379648247466,-0.06279523817408904,1.0,0.10158789632474212,-0.103187401256263,0.0498338282457129,0.08942022855052484,0.07355285838462121,-0.06982684349163966,0.050530434305661315,-0.05971772285491862,-0.0069253017609395345,-0.05707551503491378,0.05807612206651979,0.01799534606695972,-0.05272632188869678,-0.01739485993994341,0.054795016960318826],[-0.5130261389451366,-0.06341381405595728,-0.13781149268470205,0.03397377168700725,-0.2757002357921842,0.2212267923840308,-0.10954324201667305,0.37210384852636186,0.4244829271494212,0.39017513168179235,0.3939153111636917,-0.20951511840318837,0.18142098580986246,-0.332240013707249,0.32392147905034974,0.10158789632474212,1.0,0.3604814295504227,0.0113581395702904,0.11383833952782864,0.31386791266238484,0.10073030958246174,0.11903181689939371,0.1263367030161419,0.29321426099577946,0.2245235258288517,0.3851052937378753,-0.15742070242389358,0.4178458368914984,0.26525666978254503,0.44925419614433504],[-0.4335359602275923,-0.0009441041128798205,-0.08549086087245679,-0.07091986214348879,-0.4228892288339921,0.03364061055174493,-0.18295968663033302,0.1852693752622316,0.63980386674897,0.3275389007602346,0.5123087485345537,-0.13862434700435122,0.3039114536491243,-0.30525548479970444,0.3416687687442796,-0.103187401256263,0.3604814295504227,1.0,-0.0696411369997826,-0.06760572885580463,0.37390262852213024,0.07422083360510934,0.08276816337844844,0.23357955831869076,0.1614180109307437,0.22780006157318053,0.36212148960660406,-0.03615430957480077,0.4731358625858916,0.10282705253297357,0.388864350359035],[-0.00207301886896229,-0.023748238278916166,0.05333455356607431,0.237669133298553,-0.0122069852314102,0.04107346667792837,-0.058386702378832055,-0.06101999362158456,-0.08508220848072012,-0.002784954144491704,-0.03703605041210386,0.045393737834747906,-0.021739141096480646,0.04359493511292748,0.021301159130952346,0.0498338282457129,0.0113581395702904,-0.0696411369997826,1.0,0.16404599343284537,-0.006046346421297357,-0.11502046482056633,0.24793649505739285,0.007070262047063184,-0.11080801145819302,0.03151912950179493,0.005421634291184866,-0.008610446428278401,-0.016054814756803766,0.017670707207970936,-0.08694227309339461],[-0.07462241272885242,-0.03471376458326155,0.028812570655196133,0.11239160587727134,-0.08815225799357378,0.1344311268867323,0.07034260530496836,0.12153378542608244,-0.006909697013674209,-0.003899891626484319,-0.052094655706176725,-0.06519080783327173,-0.06454877140916432,-0.09360918061903824,-0.009360283606022621,0.08942022855052484,0.11383833952782864,-0.06760572885580463,0.16404599343284537,1.0,0.046263064782785905,-0.036707045694581074,0.1805190641431666,-0.0292496016451805,-0.030343162228585293,0.03850370685869191,-0.08365362589390164,-0.1876760369549823,0.0038835562542098158,0.045874933216361116,-0.1019186854982659],[-0.4685989702821659,-0.1310309601716477,-0.06116045945081188,0.027867208089491065,-0.311798340142574,0.1362256250220132,0.04919530486817705,0.2319384884640223,0.4198464163313193,0.24100501880355424,0.30350238445594974,-0.12521047408950997,0.1582014722568415,-0.3338628366249252,0.22999887560392726,0.07355285838462121,0.31386791266238484,0.37390262852213024,-0.006046346421297357,0.046263064782785905,1.0,-0.07828381075625045,-0.030640177178903386,0.020367596677861033,0.19117821308770191,0.2644317806215505,0.22442422871704462,-0.010425664903727934,0.45764603308578605,0.2604090609467436,0.4043179915646998],[0.05244535228582127,0.19659648476031505,-0.12913116989021475,-0.16726262399482913,0.28610629522106334,0.04245480116844837,0.24420482539902752,0.32150575449505736,0.03720545608162617,0.00033988071510364257,-0.04206180349730096,-0.05692218594384696,0.04737741577670054,-0.05816845613462831,0.016463465435278254,-0.06982684349163966,0.10073030958246174,0.07422083360510934,-0.11502046482056633,-0.036707045694581074,-0.07828381075625045,1.0,-0.019706077664413704,0.15831802788625662,0.18317064096421698,-0.018741351911859203,-0.04709510710788153,0.015390597740394344,0.06724419426571424,-0.0025847328230277794,-0.01010095270292916],[0.02226894748051537,-0.06144086604185807,-0.007425828101847011,0.19701311109539624,-0.055367579256403274,0.09590148693307278,-0.0760388667689223,-0.04368499410418248,-0.02880159958365912,0.14095365166882096,0.052603332973544276,-0.06082048901211588,0.008977276608053898,-0.03719856798572655,0.11765439869495002,0.050530434305661315,0.11903181689939371,0.08276816337844844,0.24793649505739285,0.1805190641431666,-0.030640177178903386,-0.019706077664413704,1.0,0.11143249049256879,-0.06030098966263788,0.05995875073513849,0.06750342028419011,-0.06260699231543038,0.07674293726898831,0.02993145768169075,0.0003689387799655874],[-0.07629846252939003,0.09062020165507757,-0.03423003405303856,-0.04948008878469673,-0.11339570468383703,-0.0007090800330963389,-0.06300811523066237,0.14347264770083337,0.17501456645328556,0.16115658627857962,0.23593088461724707,-0.09980641021446084,0.07371281429540162,-0.1376027043825523,0.07300942623972041,-0.05971772285491862,0.1263367030161419,0.23357955831869076,0.007070262047063184,-0.0292496016451805,0.020367596677861033,0.15831802788625662,0.11143249049256879,1.0,0.059868675960485146,-0.020425593950642505,0.15588814888517447,-0.01739187344582918,0.08191689538398313,-0.03314283515437673,0.09628055515123506],[-0.3375220989898459,-0.004299333626310387,-0.1283123899214302,-0.11333648506658231,-0.12074306094121268,0.1206969643577355,0.03416010486892519,0.45827292849589574,0.24691641825525146,0.23582658785919813,0.3258206149863118,-0.1825180668018813,0.12555502508390826,-0.28317683951559175,0.30893101068248385,-0.0069253017609395345,0.29321426099577946,0.1614180109307437,-0.11080801145819302,-0.030343162228585293,0.19117821308770191,0.18317064096421698,-0.06030098966263788,0.059868675960485146,1.0,0.14113340425064,0.3261837226079448,-0.12871904678778268,0.22575135988517966,0.2758698089900198,0.46404884442238126],[-0.23519111982163682,-0.03260001623082153,-0.06736267055247028,0.17561540011107046,-0.23368231159687763,0.08221218954364472,-0.002408262761095223,0.12389115466772312,0.29565661897528495,0.12340380261656922,0.18796881844361063,0.004279648470738428,0.23132579802293593,-0.12270101812935295,0.3028396218447765,-0.05707551503491378,0.2245235258288517,0.22780006157318053,0.03151912950179493,0.03850370685869191,0.2644317806215505,-0.018741351911859203,0.05995875073513849,-0.020425593950642505,0.14113340425064,1.0,0.23811108116836,-0.1118574684752932,0.3292916963774075,0.1302572124233681,0.2818661674788683],[-0.42281381450070665,-0.01943481157449544,-0.1265539483439525,0.11135493037985855,-0.3407080780768922,0.05825662592008533,-0.1949615818705674,0.26200196970566136,0.38456813114193905,0.3837028194310515,0.5355269400648119,-0.14244725193056545,0.2811100867720176,-0.30579119346266814,0.4040768796639524,0.05807612206651979,0.3851052937378753,0.36212148960660406,0.005421634291184866,-0.08365362589390164,0.22442422871704462,-0.04709510710788153,0.06750342028419011,0.15588814888517447,0.3261837226079448,0.23811108116836,1.0,-0.061375346331570144,0.37683495247876087,0.170572039638185,0.5446935185132952],[0.14843216032037337,0.015660980293309753,0.036984326793081036,0.007168109099959177,0.07029228147494418,-0.10630372077422436,-0.051850142953113375,-0.126174174611284,-0.11973800081667765,-0.08432666645465418,-0.003979676873881749,0.07418413952052953,0.07302242623379906,0.0980486248563475,-0.09289412326906779,0.01799534606695972,-0.15742070242389358,-0.03615430957480077,-0.008610446428278401,-0.1876760369549823,-0.010425664903727934,0.015390597740394344,-0.06260699231543038,-0.01739187344582918,-0.12871904678778268,-0.1118574684752932,-0.061375346331570144,1.0,-0.05295548271756465,-0.16021299218126842,-0.057206731754263766],[-0.4710920256895606,-0.09890743980878784,-0.12948147692792414,-0.02238084652160055,-0.3602739939535854,0.1375955152294931,-0.03251027332970153,0.2874402472119904,0.5816453015455578,0.3098240543686765,0.4832190331233442,-0.2594893134839096,0.35957029973381294,-0.3928917725675127,0.3225116222186896,-0.05272632188869678,0.4178458368914984,0.4731358625858916,-0.016054814756803766,0.0038835562542098158,0.45764603308578605,0.06724419426571424,0.07674293726898831,0.08191689538398313,0.22575135988517966,0.3292916963774075,0.37683495247876087,-0.05295548271756465,1.0,0.32161349491505586,0.529472579602801],[-0.2968711711245888,-0.09107054138129482,-0.017941010424849715,-0.12826949029744242,-0.22546070511804145,0.1713526394604834,0.09131804154473519,0.22296667035141085,0.2339688156871605,0.19155617526513705,0.2473599697483979,-0.2935381634854244,0.08156537113801911,-0.31544199967805747,0.21295081850500383,-0.01739485993994341,0.26525666978254503,0.10282705253297357,0.017670707207970936,0.045874933216361116,0.2604090609467436,-0.0025847328230277794,0.02993145768169075,-0.03314283515437673,0.2758698089900198,0.1302572124233681,0.170572039638185,-0.16021299218126842,0.32161349491505586,1.0,0.4218838708913065],[-0.5283274178998626,-0.05333088164281536,-0.15228837027552602,-0.042827252438091774,-0.40225649675117725,0.13685571700225793,-0.11364171216307706,0.41939465433342527,0.48487098558593966,0.3942962171976976,0.611077688460501,-0.23319515748850023,0.3000706753332673,-0.4105711551385347,0.41059930237668685,0.054795016960318826,0.44925419614433504,0.388864350359035,-0.08694227309339461,-0.1019186854982659,0.4043179915646998,-0.01010095270292916,0.0003689387799655874,0.09628055515123506,0.46404884442238126,0.2818661674788683,0.5446935185132952,-0.057206731754263766,0.529472579602801,0.4218838708913065,1.0]],\"type\":\"heatmap\",\"xaxis\":\"x\",\"yaxis\":\"y\",\"hovertemplate\":\"x: %{x}\\u003cbr\\u003ey: %{y}\\u003cbr\\u003ecolor: %{z}\\u003cextra\\u003e\\u003c\\u002fextra\\u003e\"}],                        {\"template\":{\"data\":{\"histogram2dcontour\":[{\"type\":\"histogram2dcontour\",\"colorbar\":{\"outlinewidth\":0,\"ticks\":\"\"},\"colorscale\":[[0.0,\"#0d0887\"],[0.1111111111111111,\"#46039f\"],[0.2222222222222222,\"#7201a8\"],[0.3333333333333333,\"#9c179e\"],[0.4444444444444444,\"#bd3786\"],[0.5555555555555556,\"#d8576b\"],[0.6666666666666666,\"#ed7953\"],[0.7777777777777778,\"#fb9f3a\"],[0.8888888888888888,\"#fdca26\"],[1.0,\"#f0f921\"]]}],\"choropleth\":[{\"type\":\"choropleth\",\"colorbar\":{\"outlinewidth\":0,\"ticks\":\"\"}}],\"histogram2d\":[{\"type\":\"histogram2d\",\"colorbar\":{\"outlinewidth\":0,\"ticks\":\"\"},\"colorscale\":[[0.0,\"#0d0887\"],[0.1111111111111111,\"#46039f\"],[0.2222222222222222,\"#7201a8\"],[0.3333333333333333,\"#9c179e\"],[0.4444444444444444,\"#bd3786\"],[0.5555555555555556,\"#d8576b\"],[0.6666666666666666,\"#ed7953\"],[0.7777777777777778,\"#fb9f3a\"],[0.8888888888888888,\"#fdca26\"],[1.0,\"#f0f921\"]]}],\"heatmap\":[{\"type\":\"heatmap\",\"colorbar\":{\"outlinewidth\":0,\"ticks\":\"\"},\"colorscale\":[[0.0,\"#0d0887\"],[0.1111111111111111,\"#46039f\"],[0.2222222222222222,\"#7201a8\"],[0.3333333333333333,\"#9c179e\"],[0.4444444444444444,\"#bd3786\"],[0.5555555555555556,\"#d8576b\"],[0.6666666666666666,\"#ed7953\"],[0.7777777777777778,\"#fb9f3a\"],[0.8888888888888888,\"#fdca26\"],[1.0,\"#f0f921\"]]}],\"heatmapgl\":[{\"type\":\"heatmapgl\",\"colorbar\":{\"outlinewidth\":0,\"ticks\":\"\"},\"colorscale\":[[0.0,\"#0d0887\"],[0.1111111111111111,\"#46039f\"],[0.2222222222222222,\"#7201a8\"],[0.3333333333333333,\"#9c179e\"],[0.4444444444444444,\"#bd3786\"],[0.5555555555555556,\"#d8576b\"],[0.6666666666666666,\"#ed7953\"],[0.7777777777777778,\"#fb9f3a\"],[0.8888888888888888,\"#fdca26\"],[1.0,\"#f0f921\"]]}],\"contourcarpet\":[{\"type\":\"contourcarpet\",\"colorbar\":{\"outlinewidth\":0,\"ticks\":\"\"}}],\"contour\":[{\"type\":\"contour\",\"colorbar\":{\"outlinewidth\":0,\"ticks\":\"\"},\"colorscale\":[[0.0,\"#0d0887\"],[0.1111111111111111,\"#46039f\"],[0.2222222222222222,\"#7201a8\"],[0.3333333333333333,\"#9c179e\"],[0.4444444444444444,\"#bd3786\"],[0.5555555555555556,\"#d8576b\"],[0.6666666666666666,\"#ed7953\"],[0.7777777777777778,\"#fb9f3a\"],[0.8888888888888888,\"#fdca26\"],[1.0,\"#f0f921\"]]}],\"surface\":[{\"type\":\"surface\",\"colorbar\":{\"outlinewidth\":0,\"ticks\":\"\"},\"colorscale\":[[0.0,\"#0d0887\"],[0.1111111111111111,\"#46039f\"],[0.2222222222222222,\"#7201a8\"],[0.3333333333333333,\"#9c179e\"],[0.4444444444444444,\"#bd3786\"],[0.5555555555555556,\"#d8576b\"],[0.6666666666666666,\"#ed7953\"],[0.7777777777777778,\"#fb9f3a\"],[0.8888888888888888,\"#fdca26\"],[1.0,\"#f0f921\"]]}],\"mesh3d\":[{\"type\":\"mesh3d\",\"colorbar\":{\"outlinewidth\":0,\"ticks\":\"\"}}],\"scatter\":[{\"fillpattern\":{\"fillmode\":\"overlay\",\"size\":10,\"solidity\":0.2},\"type\":\"scatter\"}],\"parcoords\":[{\"type\":\"parcoords\",\"line\":{\"colorbar\":{\"outlinewidth\":0,\"ticks\":\"\"}}}],\"scatterpolargl\":[{\"type\":\"scatterpolargl\",\"marker\":{\"colorbar\":{\"outlinewidth\":0,\"ticks\":\"\"}}}],\"bar\":[{\"error_x\":{\"color\":\"#2a3f5f\"},\"error_y\":{\"color\":\"#2a3f5f\"},\"marker\":{\"line\":{\"color\":\"#E5ECF6\",\"width\":0.5},\"pattern\":{\"fillmode\":\"overlay\",\"size\":10,\"solidity\":0.2}},\"type\":\"bar\"}],\"scattergeo\":[{\"type\":\"scattergeo\",\"marker\":{\"colorbar\":{\"outlinewidth\":0,\"ticks\":\"\"}}}],\"scatterpolar\":[{\"type\":\"scatterpolar\",\"marker\":{\"colorbar\":{\"outlinewidth\":0,\"ticks\":\"\"}}}],\"histogram\":[{\"marker\":{\"pattern\":{\"fillmode\":\"overlay\",\"size\":10,\"solidity\":0.2}},\"type\":\"histogram\"}],\"scattergl\":[{\"type\":\"scattergl\",\"marker\":{\"colorbar\":{\"outlinewidth\":0,\"ticks\":\"\"}}}],\"scatter3d\":[{\"type\":\"scatter3d\",\"line\":{\"colorbar\":{\"outlinewidth\":0,\"ticks\":\"\"}},\"marker\":{\"colorbar\":{\"outlinewidth\":0,\"ticks\":\"\"}}}],\"scattermapbox\":[{\"type\":\"scattermapbox\",\"marker\":{\"colorbar\":{\"outlinewidth\":0,\"ticks\":\"\"}}}],\"scatterternary\":[{\"type\":\"scatterternary\",\"marker\":{\"colorbar\":{\"outlinewidth\":0,\"ticks\":\"\"}}}],\"scattercarpet\":[{\"type\":\"scattercarpet\",\"marker\":{\"colorbar\":{\"outlinewidth\":0,\"ticks\":\"\"}}}],\"carpet\":[{\"aaxis\":{\"endlinecolor\":\"#2a3f5f\",\"gridcolor\":\"white\",\"linecolor\":\"white\",\"minorgridcolor\":\"white\",\"startlinecolor\":\"#2a3f5f\"},\"baxis\":{\"endlinecolor\":\"#2a3f5f\",\"gridcolor\":\"white\",\"linecolor\":\"white\",\"minorgridcolor\":\"white\",\"startlinecolor\":\"#2a3f5f\"},\"type\":\"carpet\"}],\"table\":[{\"cells\":{\"fill\":{\"color\":\"#EBF0F8\"},\"line\":{\"color\":\"white\"}},\"header\":{\"fill\":{\"color\":\"#C8D4E3\"},\"line\":{\"color\":\"white\"}},\"type\":\"table\"}],\"barpolar\":[{\"marker\":{\"line\":{\"color\":\"#E5ECF6\",\"width\":0.5},\"pattern\":{\"fillmode\":\"overlay\",\"size\":10,\"solidity\":0.2}},\"type\":\"barpolar\"}],\"pie\":[{\"automargin\":true,\"type\":\"pie\"}]},\"layout\":{\"autotypenumbers\":\"strict\",\"colorway\":[\"#636efa\",\"#EF553B\",\"#00cc96\",\"#ab63fa\",\"#FFA15A\",\"#19d3f3\",\"#FF6692\",\"#B6E880\",\"#FF97FF\",\"#FECB52\"],\"font\":{\"color\":\"#2a3f5f\"},\"hovermode\":\"closest\",\"hoverlabel\":{\"align\":\"left\"},\"paper_bgcolor\":\"white\",\"plot_bgcolor\":\"#E5ECF6\",\"polar\":{\"bgcolor\":\"#E5ECF6\",\"angularaxis\":{\"gridcolor\":\"white\",\"linecolor\":\"white\",\"ticks\":\"\"},\"radialaxis\":{\"gridcolor\":\"white\",\"linecolor\":\"white\",\"ticks\":\"\"}},\"ternary\":{\"bgcolor\":\"#E5ECF6\",\"aaxis\":{\"gridcolor\":\"white\",\"linecolor\":\"white\",\"ticks\":\"\"},\"baxis\":{\"gridcolor\":\"white\",\"linecolor\":\"white\",\"ticks\":\"\"},\"caxis\":{\"gridcolor\":\"white\",\"linecolor\":\"white\",\"ticks\":\"\"}},\"coloraxis\":{\"colorbar\":{\"outlinewidth\":0,\"ticks\":\"\"}},\"colorscale\":{\"sequential\":[[0.0,\"#0d0887\"],[0.1111111111111111,\"#46039f\"],[0.2222222222222222,\"#7201a8\"],[0.3333333333333333,\"#9c179e\"],[0.4444444444444444,\"#bd3786\"],[0.5555555555555556,\"#d8576b\"],[0.6666666666666666,\"#ed7953\"],[0.7777777777777778,\"#fb9f3a\"],[0.8888888888888888,\"#fdca26\"],[1.0,\"#f0f921\"]],\"sequentialminus\":[[0.0,\"#0d0887\"],[0.1111111111111111,\"#46039f\"],[0.2222222222222222,\"#7201a8\"],[0.3333333333333333,\"#9c179e\"],[0.4444444444444444,\"#bd3786\"],[0.5555555555555556,\"#d8576b\"],[0.6666666666666666,\"#ed7953\"],[0.7777777777777778,\"#fb9f3a\"],[0.8888888888888888,\"#fdca26\"],[1.0,\"#f0f921\"]],\"diverging\":[[0,\"#8e0152\"],[0.1,\"#c51b7d\"],[0.2,\"#de77ae\"],[0.3,\"#f1b6da\"],[0.4,\"#fde0ef\"],[0.5,\"#f7f7f7\"],[0.6,\"#e6f5d0\"],[0.7,\"#b8e186\"],[0.8,\"#7fbc41\"],[0.9,\"#4d9221\"],[1,\"#276419\"]]},\"xaxis\":{\"gridcolor\":\"white\",\"linecolor\":\"white\",\"ticks\":\"\",\"title\":{\"standoff\":15},\"zerolinecolor\":\"white\",\"automargin\":true,\"zerolinewidth\":2},\"yaxis\":{\"gridcolor\":\"white\",\"linecolor\":\"white\",\"ticks\":\"\",\"title\":{\"standoff\":15},\"zerolinecolor\":\"white\",\"automargin\":true,\"zerolinewidth\":2},\"scene\":{\"xaxis\":{\"backgroundcolor\":\"#E5ECF6\",\"gridcolor\":\"white\",\"linecolor\":\"white\",\"showbackground\":true,\"ticks\":\"\",\"zerolinecolor\":\"white\",\"gridwidth\":2},\"yaxis\":{\"backgroundcolor\":\"#E5ECF6\",\"gridcolor\":\"white\",\"linecolor\":\"white\",\"showbackground\":true,\"ticks\":\"\",\"zerolinecolor\":\"white\",\"gridwidth\":2},\"zaxis\":{\"backgroundcolor\":\"#E5ECF6\",\"gridcolor\":\"white\",\"linecolor\":\"white\",\"showbackground\":true,\"ticks\":\"\",\"zerolinecolor\":\"white\",\"gridwidth\":2}},\"shapedefaults\":{\"line\":{\"color\":\"#2a3f5f\"}},\"annotationdefaults\":{\"arrowcolor\":\"#2a3f5f\",\"arrowhead\":0,\"arrowwidth\":1},\"geo\":{\"bgcolor\":\"white\",\"landcolor\":\"#E5ECF6\",\"subunitcolor\":\"white\",\"showland\":true,\"showlakes\":true,\"lakecolor\":\"white\"},\"title\":{\"x\":0.05},\"mapbox\":{\"style\":\"light\"}}},\"xaxis\":{\"anchor\":\"y\",\"domain\":[0.0,1.0],\"scaleanchor\":\"y\",\"constrain\":\"domain\"},\"yaxis\":{\"anchor\":\"x\",\"domain\":[0.0,1.0],\"autorange\":\"reversed\",\"constrain\":\"domain\"},\"coloraxis\":{\"colorscale\":[[0.0,\"rgb(5,48,97)\"],[0.1,\"rgb(33,102,172)\"],[0.2,\"rgb(67,147,195)\"],[0.3,\"rgb(146,197,222)\"],[0.4,\"rgb(209,229,240)\"],[0.5,\"rgb(247,247,247)\"],[0.6,\"rgb(253,219,199)\"],[0.7,\"rgb(244,165,130)\"],[0.8,\"rgb(214,96,77)\"],[0.9,\"rgb(178,24,43)\"],[1.0,\"rgb(103,0,31)\"]]},\"margin\":{\"t\":60}},                        {\"responsive\": true}                    ).then(function(){\n",
              "                            \n",
              "var gd = document.getElementById('d72ce96f-b266-4113-a801-c81c84acf18f');\n",
              "var x = new MutationObserver(function (mutations, observer) {{\n",
              "        var display = window.getComputedStyle(gd).display;\n",
              "        if (!display || display === 'none') {{\n",
              "            console.log([gd, 'removed!']);\n",
              "            Plotly.purge(gd);\n",
              "            observer.disconnect();\n",
              "        }}\n",
              "}});\n",
              "\n",
              "// Listen for the removal of the full notebook cells\n",
              "var notebookContainer = gd.closest('#notebook-container');\n",
              "if (notebookContainer) {{\n",
              "    x.observe(notebookContainer, {childList: true});\n",
              "}}\n",
              "\n",
              "// Listen for the clearing of the current output cell\n",
              "var outputEl = gd.closest('.output');\n",
              "if (outputEl) {{\n",
              "    x.observe(outputEl, {childList: true});\n",
              "}}\n",
              "\n",
              "                        })                };                            </script>        </div>\n",
              "</body>\n",
              "</html>"
            ]
          },
          "metadata": {}
        }
      ]
    }
  ]
}